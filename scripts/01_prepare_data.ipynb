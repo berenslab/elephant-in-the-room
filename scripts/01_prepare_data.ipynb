{
 "cells": [
  {
   "cell_type": "code",
   "execution_count": 2,
   "id": "a1338ec2-a3ba-42e1-82d8-c6213b531a2a",
   "metadata": {
    "tags": []
   },
   "outputs": [],
   "source": [
    "import numpy as np\n",
    "import pandas as pd\n",
    "import anndata\n",
    "import scanpy as sc\n",
    "from scipy.io import mmread\n",
    "import requests\n",
    "import os\n",
    "from tqdm import trange"
   ]
  },
  {
   "cell_type": "code",
   "execution_count": 2,
   "id": "88334aa1-c75f-4957-8f15-c9f1602d08d4",
   "metadata": {
    "tags": []
   },
   "outputs": [],
   "source": [
    "def download_file(doi,ext):\n",
    "    url = 'https://api.datacite.org/dois/'+doi+'/media'\n",
    "    r = requests.get(url).json()\n",
    "    netcdf_url = r['data'][0]['attributes']['url']\n",
    "    r = requests.get(netcdf_url,stream=True)\n",
    "    #Set file name\n",
    "    fname = doi.split('/')[-1]+ext\n",
    "    #Download file with progress bar\n",
    "    if r.status_code == 403:\n",
    "        print(\"File Unavailable\")\n",
    "    if 'content-length' not in r.headers:\n",
    "        print(\"Did not get file\")\n",
    "    else:\n",
    "        with open(fname, 'wb') as f:\n",
    "            total_length = int(r.headers.get('content-length'))\n",
    "            pbar = trange(int(total_length/1024), unit=\"B\")\n",
    "            for chunk in r.iter_content(chunk_size=1024):\n",
    "                if chunk:\n",
    "                    pbar.update()\n",
    "                    f.write(chunk)\n",
    "        return fname"
   ]
  },
  {
   "cell_type": "markdown",
   "id": "0d188a7b-d18d-41e7-a290-51e6eba0089d",
   "metadata": {},
   "source": [
    "### Prepare Ex Utero data"
   ]
  },
  {
   "cell_type": "code",
   "execution_count": 3,
   "id": "bed94e43-e22b-47b9-ba76-847e0fc6b1b0",
   "metadata": {
    "tags": []
   },
   "outputs": [
    {
     "name": "stdout",
     "output_type": "stream",
     "text": [
      "--2024-02-22 18:44:15--  https://ftp.ncbi.nlm.nih.gov/geo/series/GSE149nnn/GSE149372/suppl/GSE149372_scRNA.MetaData.85.csv.gz\n",
      "Resolving ftp.ncbi.nlm.nih.gov (ftp.ncbi.nlm.nih.gov)... 2607:f220:41e:250::7, 2607:f220:41e:250::10, 130.14.250.12, ...\n",
      "Connecting to ftp.ncbi.nlm.nih.gov (ftp.ncbi.nlm.nih.gov)|2607:f220:41e:250::7|:443... connected.\n",
      "HTTP request sent, awaiting response... 200 OK\n",
      "Length: 224984 (220K) [application/x-gzip]\n",
      "Saving to: ‘../data/raw/GSE149372_scRNA.MetaData.85.csv.gz’\n",
      "\n",
      "../data/raw/GSE1493 100%[===================>] 219,71K   449KB/s    in 0,5s    \n",
      "\n",
      "2024-02-22 18:44:16 (449 KB/s) - ‘../data/raw/GSE149372_scRNA.MetaData.85.csv.gz’ saved [224984/224984]\n",
      "\n",
      "--2024-02-22 18:44:16--  https://ftp.ncbi.nlm.nih.gov/geo/series/GSE149nnn/GSE149372/suppl/GSE149372_scRNA.normalized.assay85.csv.gz\n",
      "Resolving ftp.ncbi.nlm.nih.gov (ftp.ncbi.nlm.nih.gov)... 2607:f220:41e:250::10, 2607:f220:41e:250::7, 130.14.250.12, ...\n",
      "Connecting to ftp.ncbi.nlm.nih.gov (ftp.ncbi.nlm.nih.gov)|2607:f220:41e:250::10|:443... connected.\n",
      "HTTP request sent, awaiting response... 200 OK\n",
      "Length: 202630450 (193M) [application/x-gzip]\n",
      "Saving to: ‘../data/raw/GSE149372_scRNA.normalized.assay85.csv.gz’\n",
      "\n",
      "../data/raw/GSE1493 100%[===================>] 193,24M  4,56MB/s    in 51s     \n",
      "\n",
      "2024-02-22 18:45:07 (3,83 MB/s) - ‘../data/raw/GSE149372_scRNA.normalized.assay85.csv.gz’ saved [202630450/202630450]\n",
      "\n"
     ]
    }
   ],
   "source": [
    "#Download\n",
    "!wget -O ../data/raw/GSE149372_scRNA.MetaData.85.csv.gz https://ftp.ncbi.nlm.nih.gov/geo/series/GSE149nnn/GSE149372/suppl/GSE149372_scRNA.MetaData.85.csv.gz\n",
    "!wget -O ../data/raw/GSE149372_scRNA.normalized.assay85.csv.gz https://ftp.ncbi.nlm.nih.gov/geo/series/GSE149nnn/GSE149372/suppl/GSE149372_scRNA.normalized.assay85.csv.gz\n",
    "!gunzip -f -k ../data/raw/*.gz"
   ]
  },
  {
   "cell_type": "code",
   "execution_count": 4,
   "id": "3f4584a5-98b8-4100-a43e-051bbc891dbb",
   "metadata": {
    "tags": []
   },
   "outputs": [
    {
     "data": {
      "text/plain": [
       "(19588, 10290)"
      ]
     },
     "execution_count": 4,
     "metadata": {},
     "output_type": "execute_result"
    }
   ],
   "source": [
    "# Load full data\n",
    "counts_e85 = pd.read_csv('../data/raw/GSE149372_scRNA.normalized.assay85.csv',index_col=0)\n",
    "cellMeta_e85 = pd.read_csv('../data/raw/GSE149372_scRNA.MetaData.85.csv')\n",
    "counts_e85.shape"
   ]
  },
  {
   "cell_type": "code",
   "execution_count": 5,
   "id": "b83efe91-0660-47c1-8ece-cb87bfb9605c",
   "metadata": {
    "tags": []
   },
   "outputs": [
    {
     "data": {
      "text/plain": [
       "(6205, 19588)"
      ]
     },
     "execution_count": 5,
     "metadata": {},
     "output_type": "execute_result"
    }
   ],
   "source": [
    "#process metadata for all E8.5 data\n",
    "count_mat_e85 = counts_e85.values.T\n",
    "adata_e85 = anndata.AnnData(X = count_mat_e85)\n",
    "adata_e85.obs_names = list(counts_e85.columns)\n",
    "adata_e85.var_names = list(counts_e85.index)\n",
    "adata_e85.obs['Utero'] = cellMeta_e85.Utero.values\n",
    "adata_e85.obs['Cluster'] = cellMeta_e85.seurat_clusters.values\n",
    "\n",
    "#subset to only ex-utero data\n",
    "adata_exut = adata_e85[adata_e85.obs['Utero']=='ExUt']\n",
    "clusterlabels_exut = adata_exut.obs['Cluster'].values\n",
    "adata_exut.shape"
   ]
  },
  {
   "cell_type": "code",
   "execution_count": 6,
   "id": "26bd6e06-b381-472b-927c-aa32ab875d10",
   "metadata": {},
   "outputs": [
    {
     "name": "stderr",
     "output_type": "stream",
     "text": [
      "/home/jan/anaconda3/envs/seeing_the_elephant_env/lib/python3.11/site-packages/scanpy/preprocessing/_simple.py:137: ImplicitModificationWarning: Trying to modify attribute `.obs` of view, initializing view as actual.\n",
      "  adata.obs['n_counts'] = number\n"
     ]
    }
   ],
   "source": [
    "#preprocess as Chari & Pachter \n",
    "sc.pp.filter_cells(adata_exut, min_counts=0)\n",
    "sc.pp.filter_genes(adata_exut, min_counts=0)\n",
    "sc.pp.highly_variable_genes(adata_exut,n_top_genes=2000)\n",
    "adata_exut = adata_exut[:,adata_exut.var['highly_variable']]"
   ]
  },
  {
   "cell_type": "code",
   "execution_count": 7,
   "id": "fd24cf61-f476-4657-8041-b3d36ed6ef24",
   "metadata": {},
   "outputs": [],
   "source": [
    "#celltype infos and colors as Chari&Pachter\n",
    "celltype_dict = {'0' : 'Blood', '11': 'Blood' ,\n",
    "                 '1' : 'Somitic Mesoderm',\n",
    "                 '2' : 'Foregut Mid-hindgut',\n",
    "                 '3' : 'Cardiac',\n",
    "                 '4' : 'Mid-hindbrain',\n",
    "                 '5' : 'Endothelial',\n",
    "                 '6' : 'Presomitic/Mixed Mesoderm',\n",
    "                 '7' : 'Amnion', '15' : 'Amnion', '17' : 'Amnion',\n",
    "                 '8' : 'Extra-Embryonic Endoderm',\n",
    "                 '9' : 'Pharyngeal Mesoderm',\n",
    "                 '10': 'Extra-Embryonic Ectoderm',\n",
    "                 '12': 'Placodes',\n",
    "                 '13': 'Neural Tube', '16' : 'Neural Tube',\n",
    "                 '14': 'Extra-Embryonic Mesoderm',\n",
    "                 '18': 'Endothelial'}\n",
    "\n",
    "color_dict = {'Blood':'#70D4CE','Presomitic/Mixed Mesoderm':'#81A483','Foregut Mid-hindgut':'#4D50E3',\n",
    "        'Cardiac':'#E0B7CF','Mid-hindbrain':'#FC514A','Endothelial':'#EDE7D1',\n",
    "        'Amnion':'#B4CA72',\n",
    "        'Extra-Embryonic Endoderm':'#C7A2F3','Pharyngeal Mesoderm':'#CCD0BC','Extra-Embryonic Ectoderm':'#73F0FD',\n",
    "        'Placodes':'#AE995B','Neural Tube':'#87BD7E','Somitic Mesoderm':'#D34FEA',\n",
    "        'Extra-Embryonic Mesoderm':'#0F5813'}\n",
    "\n",
    "colors_exut = [color_dict[celltype_dict[str(cl)]] for cl in clusterlabels_exut]\n",
    "colors_new = np.array(list(colors_exut.copy()),dtype='<U15')\n",
    "\n",
    "#add extra colors for clusters that get the same colors in the original Chari&Pachter palette\n",
    "colors_new[clusterlabels_exut==11]='tab:red'\n",
    "colors_new[clusterlabels_exut==15]='tab:orange'\n",
    "colors_new[clusterlabels_exut==16]='tab:blue'\n",
    "colors_new[clusterlabels_exut==17]='tab:green'"
   ]
  },
  {
   "cell_type": "code",
   "execution_count": 8,
   "id": "78b2b8ad-c541-4837-991d-40018ff19b64",
   "metadata": {
    "tags": []
   },
   "outputs": [
    {
     "data": {
      "text/plain": [
       "(6205, 2000)"
      ]
     },
     "execution_count": 8,
     "metadata": {},
     "output_type": "execute_result"
    }
   ],
   "source": [
    "#drop unneeded fields\n",
    "adata_exut_clean = anndata.AnnData(X=adata_exut.X,\n",
    "                                   obs=dict(clusterlabels=clusterlabels_exut,\n",
    "                                            clusternames=[celltype_dict[str(x)] for x in clusterlabels_exut],\n",
    "                                            colors=colors_new),\n",
    "                                   uns=dict(dataset='exut'))\n",
    "#Chari&Pachter scaling\n",
    "adata_exut_clean.layers['X_scaled'] = sc.pp.scale(adata_exut_clean.X.copy())\n",
    "adata_exut_clean.shape"
   ]
  },
  {
   "cell_type": "code",
   "execution_count": 9,
   "id": "9b4d6530-4da6-483e-bb89-6080dd226d71",
   "metadata": {
    "tags": []
   },
   "outputs": [],
   "source": [
    "#save\n",
    "adata_exut_clean.write_h5ad('../data/preprocessed/exut_adata.h5ad')"
   ]
  },
  {
   "cell_type": "code",
   "execution_count": 10,
   "id": "2c80a94f-26e9-4ff6-b98a-1638d65adc6e",
   "metadata": {
    "tags": []
   },
   "outputs": [
    {
     "data": {
      "text/plain": [
       "AnnData object with n_obs × n_vars = 6205 × 2000\n",
       "    obs: 'clusterlabels', 'clusternames', 'colors'\n",
       "    uns: 'dataset'\n",
       "    layers: 'X_scaled'"
      ]
     },
     "execution_count": 10,
     "metadata": {},
     "output_type": "execute_result"
    }
   ],
   "source": [
    "adata_exut_clean"
   ]
  },
  {
   "cell_type": "code",
   "execution_count": 11,
   "id": "184e531b-b6a4-40a4-907b-641e3264cfb8",
   "metadata": {
    "tags": []
   },
   "outputs": [
    {
     "data": {
      "text/html": [
       "<div>\n",
       "<style scoped>\n",
       "    .dataframe tbody tr th:only-of-type {\n",
       "        vertical-align: middle;\n",
       "    }\n",
       "\n",
       "    .dataframe tbody tr th {\n",
       "        vertical-align: top;\n",
       "    }\n",
       "\n",
       "    .dataframe thead th {\n",
       "        text-align: right;\n",
       "    }\n",
       "</style>\n",
       "<table border=\"1\" class=\"dataframe\">\n",
       "  <thead>\n",
       "    <tr style=\"text-align: right;\">\n",
       "      <th></th>\n",
       "      <th>clusterlabels</th>\n",
       "      <th>clusternames</th>\n",
       "      <th>colors</th>\n",
       "    </tr>\n",
       "  </thead>\n",
       "  <tbody>\n",
       "    <tr>\n",
       "      <th>0</th>\n",
       "      <td>1</td>\n",
       "      <td>Somitic Mesoderm</td>\n",
       "      <td>#D34FEA</td>\n",
       "    </tr>\n",
       "    <tr>\n",
       "      <th>1</th>\n",
       "      <td>0</td>\n",
       "      <td>Blood</td>\n",
       "      <td>#70D4CE</td>\n",
       "    </tr>\n",
       "    <tr>\n",
       "      <th>2</th>\n",
       "      <td>13</td>\n",
       "      <td>Neural Tube</td>\n",
       "      <td>#87BD7E</td>\n",
       "    </tr>\n",
       "    <tr>\n",
       "      <th>3</th>\n",
       "      <td>1</td>\n",
       "      <td>Somitic Mesoderm</td>\n",
       "      <td>#D34FEA</td>\n",
       "    </tr>\n",
       "    <tr>\n",
       "      <th>4</th>\n",
       "      <td>9</td>\n",
       "      <td>Pharyngeal Mesoderm</td>\n",
       "      <td>#CCD0BC</td>\n",
       "    </tr>\n",
       "    <tr>\n",
       "      <th>...</th>\n",
       "      <td>...</td>\n",
       "      <td>...</td>\n",
       "      <td>...</td>\n",
       "    </tr>\n",
       "    <tr>\n",
       "      <th>6200</th>\n",
       "      <td>0</td>\n",
       "      <td>Blood</td>\n",
       "      <td>#70D4CE</td>\n",
       "    </tr>\n",
       "    <tr>\n",
       "      <th>6201</th>\n",
       "      <td>1</td>\n",
       "      <td>Somitic Mesoderm</td>\n",
       "      <td>#D34FEA</td>\n",
       "    </tr>\n",
       "    <tr>\n",
       "      <th>6202</th>\n",
       "      <td>0</td>\n",
       "      <td>Blood</td>\n",
       "      <td>#70D4CE</td>\n",
       "    </tr>\n",
       "    <tr>\n",
       "      <th>6203</th>\n",
       "      <td>6</td>\n",
       "      <td>Presomitic/Mixed Mesoderm</td>\n",
       "      <td>#81A483</td>\n",
       "    </tr>\n",
       "    <tr>\n",
       "      <th>6204</th>\n",
       "      <td>15</td>\n",
       "      <td>Amnion</td>\n",
       "      <td>tab:orange</td>\n",
       "    </tr>\n",
       "  </tbody>\n",
       "</table>\n",
       "<p>6205 rows × 3 columns</p>\n",
       "</div>"
      ],
      "text/plain": [
       "      clusterlabels               clusternames      colors\n",
       "0                 1           Somitic Mesoderm     #D34FEA\n",
       "1                 0                      Blood     #70D4CE\n",
       "2                13                Neural Tube     #87BD7E\n",
       "3                 1           Somitic Mesoderm     #D34FEA\n",
       "4                 9        Pharyngeal Mesoderm     #CCD0BC\n",
       "...             ...                        ...         ...\n",
       "6200              0                      Blood     #70D4CE\n",
       "6201              1           Somitic Mesoderm     #D34FEA\n",
       "6202              0                      Blood     #70D4CE\n",
       "6203              6  Presomitic/Mixed Mesoderm     #81A483\n",
       "6204             15                     Amnion  tab:orange\n",
       "\n",
       "[6205 rows x 3 columns]"
      ]
     },
     "execution_count": 11,
     "metadata": {},
     "output_type": "execute_result"
    }
   ],
   "source": [
    "adata_exut_clean.obs"
   ]
  },
  {
   "cell_type": "markdown",
   "id": "ca0e2755-d55e-40fe-981e-555e2d24d070",
   "metadata": {},
   "source": [
    "### Prepare MERFISH data"
   ]
  },
  {
   "cell_type": "code",
   "execution_count": 12,
   "id": "03f80d30-9c31-46ce-8b34-13d82e9a8bbe",
   "metadata": {
    "tags": []
   },
   "outputs": [
    {
     "name": "stderr",
     "output_type": "stream",
     "text": [
      "9785B [00:06, 1542.88B/s]                                                                                                                           \n",
      "59361B [00:14, 4070.44B/s]                                                                                                                          \n"
     ]
    },
    {
     "data": {
      "text/plain": [
       "0"
      ]
     },
     "execution_count": 12,
     "metadata": {},
     "output_type": "execute_result"
    }
   ],
   "source": [
    "#download and unpack\n",
    "#metadata.csv\n",
    "download_file('10.22002/D1.2063','.gz')\n",
    "#counts.h5ad\n",
    "download_file('10.22002/D1.2064','.gz')\n",
    "\n",
    "os.system(\"gunzip D1.2063.gz\")\n",
    "os.system(\"gunzip D1.2064.gz\")\n",
    "os.system(\"mv D1.2063 ../data/raw/merfish_metadata.csv\")\n",
    "os.system(\"mv D1.2064 ../data/raw/merfish_counts.h5ad\")"
   ]
  },
  {
   "cell_type": "code",
   "execution_count": 13,
   "id": "5a96b9e1-9072-45f7-bbc3-d32de37be932",
   "metadata": {
    "tags": []
   },
   "outputs": [
    {
     "data": {
      "text/plain": [
       "(280327, 254)"
      ]
     },
     "execution_count": 13,
     "metadata": {},
     "output_type": "execute_result"
    }
   ],
   "source": [
    "#load full MERFISH data\n",
    "counts_merfish = anndata.read_h5ad('../data/raw/merfish_counts.h5ad')\n",
    "cellMeta_merfish = pd.read_csv('../data/raw/merfish_metadata.csv')\n",
    "counts_merfish.shape"
   ]
  },
  {
   "cell_type": "code",
   "execution_count": 14,
   "id": "8e5e2870-17a1-4c59-98b2-96147cf96add",
   "metadata": {},
   "outputs": [
    {
     "data": {
      "text/plain": [
       "(6963, 254)"
      ]
     },
     "execution_count": 14,
     "metadata": {},
     "output_type": "execute_result"
    }
   ],
   "source": [
    "#process clusternames and colors\n",
    "counts_merfish.obs['slice'] = pd.Categorical(cellMeta_merfish.slice_id)\n",
    "counts_merfish.obs['clusternames'] = pd.Categorical(cellMeta_merfish.subclass)\n",
    "_,clusterlabels_merfish = np.unique(counts_merfish.obs['clusternames'],return_inverse=True)\n",
    "counts_merfish.obs['clusterlabels'] = clusterlabels_merfish\n",
    "\n",
    "cdict = {'Microglia':'#A778BC',\n",
    "         'L6_IT':'#EA95C1',\n",
    "         'Astrocytes':'#B6657E','Oligodendrocytes':'#B49599',\n",
    "         'L23_IT':'#628EA2','OPC':'#72B9A5','L45_IT':'#71B7A2','Endothelial':'#7794C3','Pvalb':'#FD8085',\n",
    "         'L6_IT_Car3':'#FAD1FC','L56_NP':'#93B09B','PVM':'#ECBDD2','L5_IT':'#ABA8DF',\n",
    "         'L5_PT':'#D36486','Sst':'#8FE0B1','L6_CT':'#9589C4','Vip':'#CD83AC','VLMC':'#BBDBF2',\n",
    "         'SMC':'#7A849E','other':'#A382BC','L6b':'#64D7F0','Pericytes':'#95BA98',\n",
    "         'Lamp5':'#A3E169','Sncg':'#92B1DB','Sst_Chodl':'#81FAC9'}\n",
    "counts_merfish.obs['colors'] = [cdict[i] for i in counts_merfish.obs['clusternames']]\n",
    "\n",
    "\n",
    "#subset MERFISH data to same slide as Chari & Pachter\n",
    "slice_choice = np.unique(cellMeta_merfish.slice_id)[7]\n",
    "\n",
    "subset_merfish = counts_merfish[counts_merfish.obs['slice'].isin([slice_choice])]\n",
    "subset_merfish.shape"
   ]
  },
  {
   "cell_type": "code",
   "execution_count": 15,
   "id": "7a3f3e93-ae81-4665-bddf-2b5b6bec6436",
   "metadata": {
    "tags": []
   },
   "outputs": [
    {
     "name": "stderr",
     "output_type": "stream",
     "text": [
      "/home/jan/anaconda3/envs/seeing_the_elephant_env/lib/python3.11/site-packages/scanpy/preprocessing/_simple.py:372: UserWarning: Received a view of an AnnData. Making a copy.\n",
      "  view_to_actual(adata)\n"
     ]
    }
   ],
   "source": [
    "#preprocess as Chari&Pachter\n",
    "sc.pp.log1p(subset_merfish)\n",
    "subset_merfish.uns['dataset'] = 'merfish'\n",
    "#Chari&Pachter scaling\n",
    "subset_merfish.layers['X_scaled'] = sc.pp.scale(subset_merfish.X.copy())"
   ]
  },
  {
   "cell_type": "code",
   "execution_count": 16,
   "id": "541f5204-436f-4fd6-b099-0f2dd1791051",
   "metadata": {
    "tags": []
   },
   "outputs": [],
   "source": [
    "#save\n",
    "subset_merfish.write_h5ad('../data/preprocessed/merfish_adata.h5ad')"
   ]
  },
  {
   "cell_type": "code",
   "execution_count": 17,
   "id": "974686e0-96a4-4b8b-940f-55735cd4a306",
   "metadata": {
    "tags": []
   },
   "outputs": [
    {
     "data": {
      "text/plain": [
       "AnnData object with n_obs × n_vars = 6963 × 254\n",
       "    obs: 'slice', 'clusternames', 'clusterlabels', 'colors'\n",
       "    uns: 'log1p', 'dataset'\n",
       "    layers: 'X_scaled'"
      ]
     },
     "execution_count": 17,
     "metadata": {},
     "output_type": "execute_result"
    }
   ],
   "source": [
    "subset_merfish"
   ]
  },
  {
   "cell_type": "code",
   "execution_count": 18,
   "id": "b4ba218c-00d1-4029-aa4a-33b5346e6d12",
   "metadata": {
    "tags": []
   },
   "outputs": [
    {
     "data": {
      "text/html": [
       "<div>\n",
       "<style scoped>\n",
       "    .dataframe tbody tr th:only-of-type {\n",
       "        vertical-align: middle;\n",
       "    }\n",
       "\n",
       "    .dataframe tbody tr th {\n",
       "        vertical-align: top;\n",
       "    }\n",
       "\n",
       "    .dataframe thead th {\n",
       "        text-align: right;\n",
       "    }\n",
       "</style>\n",
       "<table border=\"1\" class=\"dataframe\">\n",
       "  <thead>\n",
       "    <tr style=\"text-align: right;\">\n",
       "      <th></th>\n",
       "      <th>slice</th>\n",
       "      <th>clusternames</th>\n",
       "      <th>clusterlabels</th>\n",
       "      <th>colors</th>\n",
       "    </tr>\n",
       "    <tr>\n",
       "      <th>index</th>\n",
       "      <th></th>\n",
       "      <th></th>\n",
       "      <th></th>\n",
       "      <th></th>\n",
       "    </tr>\n",
       "  </thead>\n",
       "  <tbody>\n",
       "    <tr>\n",
       "      <th>100028810813183819239792138762506953059</th>\n",
       "      <td>mouse1_slice162</td>\n",
       "      <td>Microglia</td>\n",
       "      <td>12</td>\n",
       "      <td>#A778BC</td>\n",
       "    </tr>\n",
       "    <tr>\n",
       "      <th>100042292675978612289781789372249900646</th>\n",
       "      <td>mouse1_slice162</td>\n",
       "      <td>L6_IT</td>\n",
       "      <td>8</td>\n",
       "      <td>#EA95C1</td>\n",
       "    </tr>\n",
       "    <tr>\n",
       "      <th>100093902545314506370058151058375627035</th>\n",
       "      <td>mouse1_slice162</td>\n",
       "      <td>Astrocytes</td>\n",
       "      <td>0</td>\n",
       "      <td>#B6657E</td>\n",
       "    </tr>\n",
       "    <tr>\n",
       "      <th>100140206101682663983686904841717501025</th>\n",
       "      <td>mouse1_slice162</td>\n",
       "      <td>Oligodendrocytes</td>\n",
       "      <td>14</td>\n",
       "      <td>#B49599</td>\n",
       "    </tr>\n",
       "    <tr>\n",
       "      <th>100176313983591085952263714025726530686</th>\n",
       "      <td>mouse1_slice162</td>\n",
       "      <td>L23_IT</td>\n",
       "      <td>2</td>\n",
       "      <td>#628EA2</td>\n",
       "    </tr>\n",
       "    <tr>\n",
       "      <th>...</th>\n",
       "      <td>...</td>\n",
       "      <td>...</td>\n",
       "      <td>...</td>\n",
       "      <td>...</td>\n",
       "    </tr>\n",
       "    <tr>\n",
       "      <th>99658397536625795119891455351124847928</th>\n",
       "      <td>mouse1_slice162</td>\n",
       "      <td>L6_IT_Car3</td>\n",
       "      <td>9</td>\n",
       "      <td>#FAD1FC</td>\n",
       "    </tr>\n",
       "    <tr>\n",
       "      <th>99716035693339658241621650353650240200</th>\n",
       "      <td>mouse1_slice162</td>\n",
       "      <td>Astrocytes</td>\n",
       "      <td>0</td>\n",
       "      <td>#B6657E</td>\n",
       "    </tr>\n",
       "    <tr>\n",
       "      <th>99757070583384140112761609672322877368</th>\n",
       "      <td>mouse1_slice162</td>\n",
       "      <td>L23_IT</td>\n",
       "      <td>2</td>\n",
       "      <td>#628EA2</td>\n",
       "    </tr>\n",
       "    <tr>\n",
       "      <th>99840731649735034456729605869484432530</th>\n",
       "      <td>mouse1_slice162</td>\n",
       "      <td>L45_IT</td>\n",
       "      <td>3</td>\n",
       "      <td>#71B7A2</td>\n",
       "    </tr>\n",
       "    <tr>\n",
       "      <th>99847388990809554042272739785717376750</th>\n",
       "      <td>mouse1_slice162</td>\n",
       "      <td>L45_IT</td>\n",
       "      <td>3</td>\n",
       "      <td>#71B7A2</td>\n",
       "    </tr>\n",
       "  </tbody>\n",
       "</table>\n",
       "<p>6963 rows × 4 columns</p>\n",
       "</div>"
      ],
      "text/plain": [
       "                                                   slice      clusternames  \\\n",
       "index                                                                        \n",
       "100028810813183819239792138762506953059  mouse1_slice162         Microglia   \n",
       "100042292675978612289781789372249900646  mouse1_slice162             L6_IT   \n",
       "100093902545314506370058151058375627035  mouse1_slice162        Astrocytes   \n",
       "100140206101682663983686904841717501025  mouse1_slice162  Oligodendrocytes   \n",
       "100176313983591085952263714025726530686  mouse1_slice162            L23_IT   \n",
       "...                                                  ...               ...   \n",
       "99658397536625795119891455351124847928   mouse1_slice162        L6_IT_Car3   \n",
       "99716035693339658241621650353650240200   mouse1_slice162        Astrocytes   \n",
       "99757070583384140112761609672322877368   mouse1_slice162            L23_IT   \n",
       "99840731649735034456729605869484432530   mouse1_slice162            L45_IT   \n",
       "99847388990809554042272739785717376750   mouse1_slice162            L45_IT   \n",
       "\n",
       "                                         clusterlabels   colors  \n",
       "index                                                            \n",
       "100028810813183819239792138762506953059             12  #A778BC  \n",
       "100042292675978612289781789372249900646              8  #EA95C1  \n",
       "100093902545314506370058151058375627035              0  #B6657E  \n",
       "100140206101682663983686904841717501025             14  #B49599  \n",
       "100176313983591085952263714025726530686              2  #628EA2  \n",
       "...                                                ...      ...  \n",
       "99658397536625795119891455351124847928               9  #FAD1FC  \n",
       "99716035693339658241621650353650240200               0  #B6657E  \n",
       "99757070583384140112761609672322877368               2  #628EA2  \n",
       "99840731649735034456729605869484432530               3  #71B7A2  \n",
       "99847388990809554042272739785717376750               3  #71B7A2  \n",
       "\n",
       "[6963 rows x 4 columns]"
      ]
     },
     "execution_count": 18,
     "metadata": {},
     "output_type": "execute_result"
    }
   ],
   "source": [
    "subset_merfish.obs"
   ]
  },
  {
   "cell_type": "markdown",
   "id": "2132a5c9-64f0-438b-bd2f-38196ae559c3",
   "metadata": {},
   "source": [
    "### Prepare SmartSeq"
   ]
  },
  {
   "cell_type": "code",
   "execution_count": 19,
   "id": "41ebde16-0e99-4f8c-b39b-57d01817776d",
   "metadata": {
    "tags": []
   },
   "outputs": [
    {
     "name": "stderr",
     "output_type": "stream",
     "text": [
      "65B [00:00, 169.67B/s]                                                                                                                              \n",
      "26701B [00:06, 4231.22B/s]                                                                                                                          \n"
     ]
    },
    {
     "data": {
      "text/plain": [
       "0"
      ]
     },
     "execution_count": 19,
     "metadata": {},
     "output_type": "execute_result"
    }
   ],
   "source": [
    "# Download and unpack\n",
    "#metadata.csv\n",
    "download_file('10.22002/D1.2067','.gz')\n",
    "#smartseq.mtx (log counts)\n",
    "download_file('10.22002/D1.2071','.gz')\n",
    "\n",
    "os.system(\"gunzip D1.2067.gz\")\n",
    "os.system(\"gunzip D1.2071.gz\")\n",
    "\n",
    "os.system(\"mv D1.2067 ../data/raw/smartseq_metadata.csv\")\n",
    "os.system(\"mv D1.2071 ../data/raw/smartseq.mtx\")"
   ]
  },
  {
   "cell_type": "code",
   "execution_count": 20,
   "id": "e3a4d920-e7d5-4902-804b-adb136bca184",
   "metadata": {
    "tags": []
   },
   "outputs": [
    {
     "data": {
      "text/plain": [
       "(3850, 1999)"
      ]
     },
     "execution_count": 20,
     "metadata": {},
     "output_type": "execute_result"
    }
   ],
   "source": [
    "#load data\n",
    "counts_smartseq = mmread('../data/raw/smartseq.mtx')\n",
    "meta_smartseq = pd.read_csv('../data/raw/smartseq_metadata.csv')\n",
    "counts_smartseq.shape"
   ]
  },
  {
   "cell_type": "code",
   "execution_count": 21,
   "id": "55a02559-3ca1-4de4-822c-b41c24bc4c43",
   "metadata": {
    "tags": []
   },
   "outputs": [],
   "source": [
    "#add metadata\n",
    "adata_smartseq = anndata.AnnData(X=counts_smartseq)\n",
    "adata_smartseq.obs['clusternames'] = [s for s in meta_smartseq.smartseq_cluster]\n",
    "_,smartseq_clusterlabels = np.unique(meta_smartseq.smartseq_cluster,return_inverse=True)\n",
    "adata_smartseq.obs['clusterlabels'] = smartseq_clusterlabels\n",
    "adata_smartseq.obs['colors'] = [c for c in meta_smartseq.smartseq_cluster_color]\n",
    "adata_smartseq.uns['dataset']='smartseq'"
   ]
  },
  {
   "cell_type": "code",
   "execution_count": 22,
   "id": "02e0d8ab-5564-4649-9161-fea681003dea",
   "metadata": {
    "tags": []
   },
   "outputs": [],
   "source": [
    "#Chari&Pachter scaling\n",
    "adata_smartseq.layers['X_scaled'] = sc.pp.scale(adata_smartseq.X.copy())"
   ]
  },
  {
   "cell_type": "code",
   "execution_count": 23,
   "id": "c688940f-6ddf-4e56-b731-c8710adc31db",
   "metadata": {
    "tags": []
   },
   "outputs": [],
   "source": [
    "adata_smartseq.write_h5ad('../data/preprocessed/smartseq_adata.h5ad')"
   ]
  },
  {
   "cell_type": "code",
   "execution_count": 24,
   "id": "e79feb36-bd90-444c-89cb-95836d45556d",
   "metadata": {
    "tags": []
   },
   "outputs": [
    {
     "data": {
      "text/plain": [
       "AnnData object with n_obs × n_vars = 3850 × 1999\n",
       "    obs: 'clusternames', 'clusterlabels', 'colors'\n",
       "    uns: 'dataset'\n",
       "    layers: 'X_scaled'"
      ]
     },
     "execution_count": 24,
     "metadata": {},
     "output_type": "execute_result"
    }
   ],
   "source": [
    "adata_smartseq"
   ]
  },
  {
   "cell_type": "code",
   "execution_count": 25,
   "id": "453c403c-05c8-4c8d-9a5d-c31749aed4dc",
   "metadata": {
    "tags": []
   },
   "outputs": [
    {
     "data": {
      "text/html": [
       "<div>\n",
       "<style scoped>\n",
       "    .dataframe tbody tr th:only-of-type {\n",
       "        vertical-align: middle;\n",
       "    }\n",
       "\n",
       "    .dataframe tbody tr th {\n",
       "        vertical-align: top;\n",
       "    }\n",
       "\n",
       "    .dataframe thead th {\n",
       "        text-align: right;\n",
       "    }\n",
       "</style>\n",
       "<table border=\"1\" class=\"dataframe\">\n",
       "  <thead>\n",
       "    <tr style=\"text-align: right;\">\n",
       "      <th></th>\n",
       "      <th>clusternames</th>\n",
       "      <th>clusterlabels</th>\n",
       "      <th>colors</th>\n",
       "    </tr>\n",
       "  </thead>\n",
       "  <tbody>\n",
       "    <tr>\n",
       "      <th>0</th>\n",
       "      <td>Nr5a1_9|11 Rorb</td>\n",
       "      <td>18</td>\n",
       "      <td>#6C39A6</td>\n",
       "    </tr>\n",
       "    <tr>\n",
       "      <th>1</th>\n",
       "      <td>Nr5a1_9|11 Rorb</td>\n",
       "      <td>18</td>\n",
       "      <td>#6C39A6</td>\n",
       "    </tr>\n",
       "    <tr>\n",
       "      <th>2</th>\n",
       "      <td>Nr5a1_9|11 Rorb</td>\n",
       "      <td>18</td>\n",
       "      <td>#6C39A6</td>\n",
       "    </tr>\n",
       "    <tr>\n",
       "      <th>3</th>\n",
       "      <td>Nr5a1_4|7 Glipr1</td>\n",
       "      <td>16</td>\n",
       "      <td>#763BFF</td>\n",
       "    </tr>\n",
       "    <tr>\n",
       "      <th>4</th>\n",
       "      <td>Nr5a1_4|7 Glipr1</td>\n",
       "      <td>16</td>\n",
       "      <td>#763BFF</td>\n",
       "    </tr>\n",
       "    <tr>\n",
       "      <th>...</th>\n",
       "      <td>...</td>\n",
       "      <td>...</td>\n",
       "      <td>...</td>\n",
       "    </tr>\n",
       "    <tr>\n",
       "      <th>3845</th>\n",
       "      <td>Nr5a1_Foxp2_1 Prdm13</td>\n",
       "      <td>19</td>\n",
       "      <td>#D92AAB</td>\n",
       "    </tr>\n",
       "    <tr>\n",
       "      <th>3846</th>\n",
       "      <td>Nr5a1_Foxp2_1 Prdm13</td>\n",
       "      <td>19</td>\n",
       "      <td>#D92AAB</td>\n",
       "    </tr>\n",
       "    <tr>\n",
       "      <th>3847</th>\n",
       "      <td>Nr5a1_Foxp2_1 Prdm13</td>\n",
       "      <td>19</td>\n",
       "      <td>#D92AAB</td>\n",
       "    </tr>\n",
       "    <tr>\n",
       "      <th>3848</th>\n",
       "      <td>Nr5a1_Foxp2_1 Prdm13</td>\n",
       "      <td>19</td>\n",
       "      <td>#D92AAB</td>\n",
       "    </tr>\n",
       "    <tr>\n",
       "      <th>3849</th>\n",
       "      <td>Nr5a1_Foxp2_1 Prdm13</td>\n",
       "      <td>19</td>\n",
       "      <td>#D92AAB</td>\n",
       "    </tr>\n",
       "  </tbody>\n",
       "</table>\n",
       "<p>3850 rows × 3 columns</p>\n",
       "</div>"
      ],
      "text/plain": [
       "              clusternames  clusterlabels   colors\n",
       "0          Nr5a1_9|11 Rorb             18  #6C39A6\n",
       "1          Nr5a1_9|11 Rorb             18  #6C39A6\n",
       "2          Nr5a1_9|11 Rorb             18  #6C39A6\n",
       "3         Nr5a1_4|7 Glipr1             16  #763BFF\n",
       "4         Nr5a1_4|7 Glipr1             16  #763BFF\n",
       "...                    ...            ...      ...\n",
       "3845  Nr5a1_Foxp2_1 Prdm13             19  #D92AAB\n",
       "3846  Nr5a1_Foxp2_1 Prdm13             19  #D92AAB\n",
       "3847  Nr5a1_Foxp2_1 Prdm13             19  #D92AAB\n",
       "3848  Nr5a1_Foxp2_1 Prdm13             19  #D92AAB\n",
       "3849  Nr5a1_Foxp2_1 Prdm13             19  #D92AAB\n",
       "\n",
       "[3850 rows x 3 columns]"
      ]
     },
     "execution_count": 25,
     "metadata": {},
     "output_type": "execute_result"
    }
   ],
   "source": [
    "adata_smartseq.obs"
   ]
  },
  {
   "cell_type": "markdown",
   "id": "b55fc15c-09c1-44a1-b837-23b3f4236cf7",
   "metadata": {
    "tags": []
   },
   "source": [
    "### Prepare MNIST data"
   ]
  },
  {
   "cell_type": "code",
   "execution_count": 26,
   "id": "1ff065ec-6efe-4555-b1c4-9d33be6a131c",
   "metadata": {
    "tags": []
   },
   "outputs": [
    {
     "name": "stderr",
     "output_type": "stream",
     "text": [
      "/home/jan/anaconda3/envs/seeing_the_elephant_env/lib/python3.11/site-packages/sklearn/datasets/_openml.py:1002: FutureWarning: The default value of `parser` will change from `'liac-arff'` to `'auto'` in 1.4. You can set `parser='auto'` to silence this warning. Therefore, an `ImportError` will be raised from 1.4 if the dataset is dense and pandas is not installed. Note that the pandas parser may return different data types. See the Notes Section in fetch_openml's API doc for details.\n",
      "  warn(\n"
     ]
    }
   ],
   "source": [
    "import sklearn.datasets\n",
    "#download\n",
    "x_mnist,y_mnist = sklearn.datasets.fetch_openml('mnist_784',version=1,return_X_y=True)\n",
    "\n",
    "#adjust datatypes\n",
    "y_mnist = y_mnist.values.astype(int)\n",
    "x_mnist = x_mnist.values\n",
    "\n",
    "#metadata\n",
    "colors_tab10 = np.array(['tab:blue','tab:orange','tab:green','tab:red','tab:purple','tab:brown','tab:pink','tab:gray','tab:olive','tab:cyan'])\n",
    "colors_mnist = colors_tab10[y_mnist]\n",
    "\n",
    "#make adata and save\n",
    "adata_mnist = anndata.AnnData(X=x_mnist,\n",
    "                               obs=dict(clusterlabels=y_mnist,\n",
    "                                        clusternames=[str(y) for y in y_mnist],\n",
    "                                        colors=colors_mnist),\n",
    "                               uns=dict(dataset='mnist'))\n",
    "adata_mnist.layers['X_scaled'] = sc.pp.scale(adata_mnist.X.copy())\n",
    "adata_mnist.write_h5ad('../data/preprocessed/mnist_adata.h5ad')"
   ]
  },
  {
   "cell_type": "code",
   "execution_count": 27,
   "id": "c190c2ea-155a-4343-8969-0c46fb750a87",
   "metadata": {},
   "outputs": [
    {
     "data": {
      "text/plain": [
       "AnnData object with n_obs × n_vars = 70000 × 784\n",
       "    obs: 'clusterlabels', 'clusternames', 'colors'\n",
       "    uns: 'dataset'\n",
       "    layers: 'X_scaled'"
      ]
     },
     "execution_count": 27,
     "metadata": {},
     "output_type": "execute_result"
    }
   ],
   "source": [
    "adata_mnist"
   ]
  },
  {
   "cell_type": "code",
   "execution_count": 28,
   "id": "2cfc9b9b-c3bb-46f1-abe9-28e05ac7015b",
   "metadata": {
    "tags": []
   },
   "outputs": [
    {
     "data": {
      "text/html": [
       "<div>\n",
       "<style scoped>\n",
       "    .dataframe tbody tr th:only-of-type {\n",
       "        vertical-align: middle;\n",
       "    }\n",
       "\n",
       "    .dataframe tbody tr th {\n",
       "        vertical-align: top;\n",
       "    }\n",
       "\n",
       "    .dataframe thead th {\n",
       "        text-align: right;\n",
       "    }\n",
       "</style>\n",
       "<table border=\"1\" class=\"dataframe\">\n",
       "  <thead>\n",
       "    <tr style=\"text-align: right;\">\n",
       "      <th></th>\n",
       "      <th>clusterlabels</th>\n",
       "      <th>clusternames</th>\n",
       "      <th>colors</th>\n",
       "    </tr>\n",
       "  </thead>\n",
       "  <tbody>\n",
       "    <tr>\n",
       "      <th>0</th>\n",
       "      <td>5</td>\n",
       "      <td>5</td>\n",
       "      <td>tab:brown</td>\n",
       "    </tr>\n",
       "    <tr>\n",
       "      <th>1</th>\n",
       "      <td>0</td>\n",
       "      <td>0</td>\n",
       "      <td>tab:blue</td>\n",
       "    </tr>\n",
       "    <tr>\n",
       "      <th>2</th>\n",
       "      <td>4</td>\n",
       "      <td>4</td>\n",
       "      <td>tab:purple</td>\n",
       "    </tr>\n",
       "    <tr>\n",
       "      <th>3</th>\n",
       "      <td>1</td>\n",
       "      <td>1</td>\n",
       "      <td>tab:orange</td>\n",
       "    </tr>\n",
       "    <tr>\n",
       "      <th>4</th>\n",
       "      <td>9</td>\n",
       "      <td>9</td>\n",
       "      <td>tab:cyan</td>\n",
       "    </tr>\n",
       "    <tr>\n",
       "      <th>...</th>\n",
       "      <td>...</td>\n",
       "      <td>...</td>\n",
       "      <td>...</td>\n",
       "    </tr>\n",
       "    <tr>\n",
       "      <th>69995</th>\n",
       "      <td>2</td>\n",
       "      <td>2</td>\n",
       "      <td>tab:green</td>\n",
       "    </tr>\n",
       "    <tr>\n",
       "      <th>69996</th>\n",
       "      <td>3</td>\n",
       "      <td>3</td>\n",
       "      <td>tab:red</td>\n",
       "    </tr>\n",
       "    <tr>\n",
       "      <th>69997</th>\n",
       "      <td>4</td>\n",
       "      <td>4</td>\n",
       "      <td>tab:purple</td>\n",
       "    </tr>\n",
       "    <tr>\n",
       "      <th>69998</th>\n",
       "      <td>5</td>\n",
       "      <td>5</td>\n",
       "      <td>tab:brown</td>\n",
       "    </tr>\n",
       "    <tr>\n",
       "      <th>69999</th>\n",
       "      <td>6</td>\n",
       "      <td>6</td>\n",
       "      <td>tab:pink</td>\n",
       "    </tr>\n",
       "  </tbody>\n",
       "</table>\n",
       "<p>70000 rows × 3 columns</p>\n",
       "</div>"
      ],
      "text/plain": [
       "       clusterlabels clusternames      colors\n",
       "0                  5            5   tab:brown\n",
       "1                  0            0    tab:blue\n",
       "2                  4            4  tab:purple\n",
       "3                  1            1  tab:orange\n",
       "4                  9            9    tab:cyan\n",
       "...              ...          ...         ...\n",
       "69995              2            2   tab:green\n",
       "69996              3            3     tab:red\n",
       "69997              4            4  tab:purple\n",
       "69998              5            5   tab:brown\n",
       "69999              6            6    tab:pink\n",
       "\n",
       "[70000 rows x 3 columns]"
      ]
     },
     "execution_count": 28,
     "metadata": {},
     "output_type": "execute_result"
    }
   ],
   "source": [
    "adata_mnist.obs"
   ]
  },
  {
   "cell_type": "code",
   "execution_count": 29,
   "id": "1c6cc7a5-5162-4daa-af7d-98646ccf2698",
   "metadata": {
    "tags": []
   },
   "outputs": [
    {
     "data": {
      "text/plain": [
       "AnnData object with n_obs × n_vars = 3850 × 1999\n",
       "    obs: 'clusternames', 'clusterlabels', 'colors'\n",
       "    uns: 'dataset'\n",
       "    layers: 'X_scaled'"
      ]
     },
     "execution_count": 29,
     "metadata": {},
     "output_type": "execute_result"
    }
   ],
   "source": [
    "adata_smartseq"
   ]
  },
  {
   "cell_type": "markdown",
   "id": "9fe2269e-67d4-4ae1-b5d2-15f23d480fb8",
   "metadata": {},
   "source": [
    "### Copyright notice\n",
    "\n",
    "This notebook uses code adapted from https://github.com/pachterlab/CP_2023, which is subject to the following licence:\n",
    "\n",
    "```\n",
    "BSD 2-Clause License\n",
    "\n",
    "Copyright (c) 2021, Pachter Lab\n",
    "All rights reserved.\n",
    "\n",
    "Redistribution and use in source and binary forms, with or without\n",
    "modification, are permitted provided that the following conditions are met:\n",
    "\n",
    "1. Redistributions of source code must retain the above copyright notice, this\n",
    "   list of conditions and the following disclaimer.\n",
    "\n",
    "2. Redistributions in binary form must reproduce the above copyright notice,\n",
    "   this list of conditions and the following disclaimer in the documentation\n",
    "   and/or other materials provided with the distribution.\n",
    "\n",
    "THIS SOFTWARE IS PROVIDED BY THE COPYRIGHT HOLDERS AND CONTRIBUTORS \"AS IS\"\n",
    "AND ANY EXPRESS OR IMPLIED WARRANTIES, INCLUDING, BUT NOT LIMITED TO, THE\n",
    "IMPLIED WARRANTIES OF MERCHANTABILITY AND FITNESS FOR A PARTICULAR PURPOSE ARE\n",
    "DISCLAIMED. IN NO EVENT SHALL THE COPYRIGHT HOLDER OR CONTRIBUTORS BE LIABLE\n",
    "FOR ANY DIRECT, INDIRECT, INCIDENTAL, SPECIAL, EXEMPLARY, OR CONSEQUENTIAL\n",
    "DAMAGES (INCLUDING, BUT NOT LIMITED TO, PROCUREMENT OF SUBSTITUTE GOODS OR\n",
    "SERVICES; LOSS OF USE, DATA, OR PROFITS; OR BUSINESS INTERRUPTION) HOWEVER\n",
    "CAUSED AND ON ANY THEORY OF LIABILITY, WHETHER IN CONTRACT, STRICT LIABILITY,\n",
    "OR TORT (INCLUDING NEGLIGENCE OR OTHERWISE) ARISING IN ANY WAY OUT OF THE USE\n",
    "OF THIS SOFTWARE, EVEN IF ADVISED OF THE POSSIBILITY OF SUCH DAMAGE.\n",
    "```"
   ]
  },
  {
   "cell_type": "markdown",
   "id": "eba1dd0c-6378-49d8-b0b8-bcb1b795dd03",
   "metadata": {},
   "source": [
    "### Package versions"
   ]
  },
  {
   "cell_type": "code",
   "execution_count": 3,
   "id": "93adc729-7db8-4ad9-859d-af6c8de62809",
   "metadata": {
    "tags": []
   },
   "outputs": [
    {
     "data": {
      "text/plain": [
       "'1.24.3'"
      ]
     },
     "execution_count": 3,
     "metadata": {},
     "output_type": "execute_result"
    }
   ],
   "source": [
    "np.__version__"
   ]
  },
  {
   "cell_type": "code",
   "execution_count": 4,
   "id": "68e09f56-bde1-4c02-8c92-8bb51e3c0ab0",
   "metadata": {
    "tags": []
   },
   "outputs": [
    {
     "data": {
      "text/plain": [
       "'2.0.3'"
      ]
     },
     "execution_count": 4,
     "metadata": {},
     "output_type": "execute_result"
    }
   ],
   "source": [
    "pd.__version__"
   ]
  },
  {
   "cell_type": "code",
   "execution_count": 5,
   "id": "497e142a-40fd-4087-9388-60d71030bca1",
   "metadata": {
    "tags": []
   },
   "outputs": [
    {
     "data": {
      "text/plain": [
       "'0.10.3'"
      ]
     },
     "execution_count": 5,
     "metadata": {},
     "output_type": "execute_result"
    }
   ],
   "source": [
    "anndata.__version__"
   ]
  },
  {
   "cell_type": "code",
   "execution_count": 6,
   "id": "57f410e4-87b5-44e5-a008-5690d402aacd",
   "metadata": {
    "tags": []
   },
   "outputs": [
    {
     "data": {
      "text/plain": [
       "'1.9.6'"
      ]
     },
     "execution_count": 6,
     "metadata": {},
     "output_type": "execute_result"
    }
   ],
   "source": [
    "sc.__version__"
   ]
  },
  {
   "cell_type": "code",
   "execution_count": 7,
   "id": "8a9aeaa3-0027-48ee-b323-63873f0f4d25",
   "metadata": {
    "tags": []
   },
   "outputs": [
    {
     "data": {
      "text/plain": [
       "'1.11.1'"
      ]
     },
     "execution_count": 7,
     "metadata": {},
     "output_type": "execute_result"
    }
   ],
   "source": [
    "import scipy; scipy.__version__"
   ]
  },
  {
   "cell_type": "code",
   "execution_count": 8,
   "id": "729d6c83-8db5-4869-92ad-1612cc10410d",
   "metadata": {
    "tags": []
   },
   "outputs": [
    {
     "data": {
      "text/plain": [
       "'2.31.0'"
      ]
     },
     "execution_count": 8,
     "metadata": {},
     "output_type": "execute_result"
    }
   ],
   "source": [
    "requests.__version__"
   ]
  },
  {
   "cell_type": "code",
   "execution_count": 10,
   "id": "8403c1e0-f065-4d49-ada6-0ff6760c09d4",
   "metadata": {
    "tags": []
   },
   "outputs": [
    {
     "data": {
      "text/plain": [
       "'4.66.2'"
      ]
     },
     "execution_count": 10,
     "metadata": {},
     "output_type": "execute_result"
    }
   ],
   "source": [
    "import tqdm; tqdm.__version__"
   ]
  }
 ],
 "metadata": {
  "kernelspec": {
   "display_name": "Python 3 (ipykernel)",
   "language": "python",
   "name": "python3"
  },
  "language_info": {
   "codemirror_mode": {
    "name": "ipython",
    "version": 3
   },
   "file_extension": ".py",
   "mimetype": "text/x-python",
   "name": "python",
   "nbconvert_exporter": "python",
   "pygments_lexer": "ipython3",
   "version": "3.11.5"
  },
  "toc-autonumbering": true
 },
 "nbformat": 4,
 "nbformat_minor": 5
}
