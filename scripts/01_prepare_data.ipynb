{
 "cells": [
  {
   "cell_type": "code",
   "execution_count": 1,
   "id": "a1338ec2-a3ba-42e1-82d8-c6213b531a2a",
   "metadata": {
    "tags": []
   },
   "outputs": [],
   "source": [
    "import numpy as np\n",
    "import pandas as pd\n",
    "import anndata\n",
    "import scanpy as sc\n",
    "from scipy.io import mmread\n",
    "import requests\n",
    "import os\n",
    "from tqdm import trange\n",
    "import matplotlib.pyplot as plt\n",
    "import seaborn as sns"
   ]
  },
  {
   "cell_type": "code",
   "execution_count": 2,
   "id": "88334aa1-c75f-4957-8f15-c9f1602d08d4",
   "metadata": {
    "tags": []
   },
   "outputs": [],
   "source": [
    "def download_file(doi,ext):\n",
    "    url = 'https://api.datacite.org/dois/'+doi+'/media'\n",
    "    r = requests.get(url).json()\n",
    "    netcdf_url = r['data'][0]['attributes']['url']\n",
    "    r = requests.get(netcdf_url,stream=True)\n",
    "    #Set file name\n",
    "    fname = doi.split('/')[-1]+ext\n",
    "    #Download file with progress bar\n",
    "    if r.status_code == 403:\n",
    "        print(\"File Unavailable\")\n",
    "    if 'content-length' not in r.headers:\n",
    "        print(\"Did not get file\")\n",
    "    else:\n",
    "        with open(fname, 'wb') as f:\n",
    "            total_length = int(r.headers.get('content-length'))\n",
    "            pbar = trange(int(total_length/1024), unit=\"B\")\n",
    "            for chunk in r.iter_content(chunk_size=1024):\n",
    "                if chunk:\n",
    "                    pbar.update()\n",
    "                    f.write(chunk)\n",
    "        return fname"
   ]
  },
  {
   "cell_type": "markdown",
   "id": "0d188a7b-d18d-41e7-a290-51e6eba0089d",
   "metadata": {},
   "source": [
    "### Prepare Ex Utero data"
   ]
  },
  {
   "cell_type": "code",
   "execution_count": 3,
   "id": "bed94e43-e22b-47b9-ba76-847e0fc6b1b0",
   "metadata": {
    "tags": []
   },
   "outputs": [
    {
     "name": "stdout",
     "output_type": "stream",
     "text": [
      "--2024-03-25 18:02:19--  https://ftp.ncbi.nlm.nih.gov/geo/series/GSE149nnn/GSE149372/suppl/GSE149372_scRNA.MetaData.85.csv.gz\n",
      "Resolving ftp.ncbi.nlm.nih.gov (ftp.ncbi.nlm.nih.gov)... 130.14.250.10, 130.14.250.11, 2607:f220:41e:250::7, ...\n",
      "Connecting to ftp.ncbi.nlm.nih.gov (ftp.ncbi.nlm.nih.gov)|130.14.250.10|:443... connected.\n",
      "HTTP request sent, awaiting response... 200 OK\n",
      "Length: 224984 (220K) [application/x-gzip]\n",
      "Saving to: ‘../data/raw/GSE149372_scRNA.MetaData.85.csv.gz’\n",
      "\n",
      "../data/raw/GSE1493 100%[===================>] 219,71K   532KB/s    in 0,4s    \n",
      "\n",
      "2024-03-25 18:02:20 (532 KB/s) - ‘../data/raw/GSE149372_scRNA.MetaData.85.csv.gz’ saved [224984/224984]\n",
      "\n",
      "--2024-03-25 18:02:20--  https://ftp.ncbi.nlm.nih.gov/geo/series/GSE149nnn/GSE149372/suppl/GSE149372_scRNA.normalized.assay85.csv.gz\n",
      "Resolving ftp.ncbi.nlm.nih.gov (ftp.ncbi.nlm.nih.gov)... 130.14.250.11, 130.14.250.10, 2607:f220:41e:250::11, ...\n",
      "Connecting to ftp.ncbi.nlm.nih.gov (ftp.ncbi.nlm.nih.gov)|130.14.250.11|:443... connected.\n",
      "HTTP request sent, awaiting response... 200 OK\n",
      "Length: 202630450 (193M) [application/x-gzip]\n",
      "Saving to: ‘../data/raw/GSE149372_scRNA.normalized.assay85.csv.gz’\n",
      "\n",
      "../data/raw/GSE1493 100%[===================>] 193,24M  22,1MB/s    in 13s     \n",
      "\n",
      "2024-03-25 18:02:34 (15,1 MB/s) - ‘../data/raw/GSE149372_scRNA.normalized.assay85.csv.gz’ saved [202630450/202630450]\n",
      "\n"
     ]
    }
   ],
   "source": [
    "#Download\n",
    "!wget -O ../data/raw/GSE149372_scRNA.MetaData.85.csv.gz https://ftp.ncbi.nlm.nih.gov/geo/series/GSE149nnn/GSE149372/suppl/GSE149372_scRNA.MetaData.85.csv.gz\n",
    "!wget -O ../data/raw/GSE149372_scRNA.normalized.assay85.csv.gz https://ftp.ncbi.nlm.nih.gov/geo/series/GSE149nnn/GSE149372/suppl/GSE149372_scRNA.normalized.assay85.csv.gz\n",
    "!gunzip -f -k ../data/raw/*.gz"
   ]
  },
  {
   "cell_type": "code",
   "execution_count": 4,
   "id": "3f4584a5-98b8-4100-a43e-051bbc891dbb",
   "metadata": {
    "tags": []
   },
   "outputs": [
    {
     "data": {
      "text/plain": [
       "(19588, 10290)"
      ]
     },
     "execution_count": 4,
     "metadata": {},
     "output_type": "execute_result"
    }
   ],
   "source": [
    "# Load full data\n",
    "counts_e85 = pd.read_csv('../data/raw/GSE149372_scRNA.normalized.assay85.csv',index_col=0)\n",
    "cellMeta_e85 = pd.read_csv('../data/raw/GSE149372_scRNA.MetaData.85.csv')\n",
    "counts_e85.shape"
   ]
  },
  {
   "cell_type": "code",
   "execution_count": 5,
   "id": "b83efe91-0660-47c1-8ece-cb87bfb9605c",
   "metadata": {
    "tags": []
   },
   "outputs": [
    {
     "name": "stderr",
     "output_type": "stream",
     "text": [
      "/tmp/ipykernel_24302/3245848769.py:46: ImplicitModificationWarning: Trying to modify attribute `.obs` of view, initializing view as actual.\n",
      "  adata_exut.obs['colors'] = colors_new\n"
     ]
    },
    {
     "data": {
      "text/plain": [
       "(6205, 19588)"
      ]
     },
     "execution_count": 5,
     "metadata": {},
     "output_type": "execute_result"
    }
   ],
   "source": [
    "#process metadata for all E8.5 data\n",
    "count_mat_e85 = counts_e85.values.T\n",
    "adata_e85 = anndata.AnnData(X = count_mat_e85)\n",
    "adata_e85.obs_names = list(counts_e85.columns)\n",
    "adata_e85.var_names = list(counts_e85.index)\n",
    "adata_e85.obs['Utero'] = cellMeta_e85.Utero.values\n",
    "adata_e85.obs['Cluster'] = cellMeta_e85.seurat_clusters.values\n",
    "adata_e85.obs['n_count_rna'] = cellMeta_e85.nCount_RNA.values\n",
    "\n",
    "#subset to only ex-utero data\n",
    "adata_exut = adata_e85[adata_e85.obs['Utero']=='ExUt']\n",
    "\n",
    "#celltype infos and colors as Chari&Pachter\n",
    "celltype_dict = {'0' : 'Blood', '11': 'Blood' ,\n",
    "                 '1' : 'Somitic Mesoderm',\n",
    "                 '2' : 'Foregut Mid-hindgut',\n",
    "                 '3' : 'Cardiac',\n",
    "                 '4' : 'Mid-hindbrain',\n",
    "                 '5' : 'Endothelial',\n",
    "                 '6' : 'Presomitic/Mixed Mesoderm',\n",
    "                 '7' : 'Amnion', '15' : 'Amnion', '17' : 'Amnion',\n",
    "                 '8' : 'Extra-Embryonic Endoderm',\n",
    "                 '9' : 'Pharyngeal Mesoderm',\n",
    "                 '10': 'Extra-Embryonic Ectoderm',\n",
    "                 '12': 'Placodes',\n",
    "                 '13': 'Neural Tube', '16' : 'Neural Tube',\n",
    "                 '14': 'Extra-Embryonic Mesoderm',\n",
    "                 '18': 'Endothelial'}\n",
    "\n",
    "color_dict = {'Blood':'#70D4CE','Presomitic/Mixed Mesoderm':'#81A483','Foregut Mid-hindgut':'#4D50E3',\n",
    "        'Cardiac':'#E0B7CF','Mid-hindbrain':'#FC514A','Endothelial':'#EDE7D1',\n",
    "        'Amnion':'#B4CA72',\n",
    "        'Extra-Embryonic Endoderm':'#C7A2F3','Pharyngeal Mesoderm':'#CCD0BC','Extra-Embryonic Ectoderm':'#73F0FD',\n",
    "        'Placodes':'#AE995B','Neural Tube':'#87BD7E','Somitic Mesoderm':'#D34FEA',\n",
    "        'Extra-Embryonic Mesoderm':'#0F5813'}\n",
    "\n",
    "colors_exut = [color_dict[celltype_dict[str(cl)]] for cl in adata_exut.obs['Cluster'].values]\n",
    "colors_new = np.array(list(colors_exut.copy()),dtype='<U15')\n",
    "\n",
    "#add extra colors for clusters that get the same colors in the original Chari&Pachter palette\n",
    "colors_new[adata_exut.obs['Cluster'].values==11]='tab:red'\n",
    "colors_new[adata_exut.obs['Cluster'].values==15]='tab:orange'\n",
    "colors_new[adata_exut.obs['Cluster'].values==16]='tab:blue'\n",
    "colors_new[adata_exut.obs['Cluster'].values==17]='tab:green'\n",
    "\n",
    "adata_exut.obs['colors'] = colors_new\n",
    "\n",
    "adata_exut.shape"
   ]
  },
  {
   "cell_type": "code",
   "execution_count": 6,
   "id": "26bd6e06-b381-472b-927c-aa32ab875d10",
   "metadata": {},
   "outputs": [
    {
     "name": "stderr",
     "output_type": "stream",
     "text": [
      "/home/jan/anaconda3/envs/elephant_analysis_env2/lib/python3.11/site-packages/scanpy/preprocessing/_highly_variable_genes.py:220: FutureWarning: The default of observed=False is deprecated and will be changed to True in a future version of pandas. Pass observed=False to retain current behavior or observed=True to adopt the future default and silence this warning.\n",
      "  disp_grouped = df.groupby('mean_bin')['dispersions']\n"
     ]
    },
    {
     "data": {
      "text/plain": [
       "(6205, 19588)"
      ]
     },
     "execution_count": 6,
     "metadata": {},
     "output_type": "execute_result"
    }
   ],
   "source": [
    "#preprocess as Chari & Pachter \n",
    "sc.pp.filter_cells(adata_exut, min_counts=0)\n",
    "sc.pp.filter_genes(adata_exut, min_counts=0)\n",
    "sc.pp.highly_variable_genes(adata_exut,n_top_genes=2000)\n",
    "adata_exut.shape"
   ]
  },
  {
   "cell_type": "code",
   "execution_count": 7,
   "id": "b1059886-c9c1-498b-8ea4-4cea603c2447",
   "metadata": {
    "tags": []
   },
   "outputs": [
    {
     "name": "stdout",
     "output_type": "stream",
     "text": [
      "[10000. 10000. 10000. ... 10000. 10000. 10000.]\n"
     ]
    }
   ],
   "source": [
    "#re-create anndata with needed fields only\n",
    "adata_exut_allgenes = anndata.AnnData(X=adata_exut.X.copy(),\n",
    "                               obs=dict(clusterlabels=adata_exut.obs['Cluster'].values,\n",
    "                                        clusternames=[celltype_dict[str(x)] for x in adata_exut.obs['Cluster'].values],\n",
    "                                        colors=colors_new,\n",
    "                                        n_count_rna = adata_exut.obs['n_count_rna'].values),\n",
    "                               var=dict(highly_variable=adata_exut.var['highly_variable'].values),\n",
    "                               uns=dict(dataset='exut-allgenes'))\n",
    "\n",
    "### undo log1p\n",
    "adata_exut_allgenes.layers['normalized_counts'] = np.expm1(adata_exut_allgenes.X.copy())\n",
    "### show that counts were normalized to sum to 10,000 per cell\n",
    "print(adata_exut_allgenes.layers['normalized_counts'].sum(axis=1))\n",
    "### un-do log1p and normalization with scaling by 10.000 using the seq depths from the metadata\n",
    "adata_exut_allgenes.layers['raw'] = (adata_exut_allgenes.obs['n_count_rna'].values*(np.expm1(adata_exut_allgenes.X.copy())/10000).T).T"
   ]
  },
  {
   "cell_type": "code",
   "execution_count": 8,
   "id": "3f46dbd2-ff33-467e-ba9b-d9a51583d3c0",
   "metadata": {
    "tags": []
   },
   "outputs": [
    {
     "name": "stderr",
     "output_type": "stream",
     "text": [
      "/tmp/ipykernel_24302/3848050230.py:3: ImplicitModificationWarning: Trying to modify attribute `._uns` of view, initializing view as actual.\n",
      "  adata_exut_hvgs.uns['dataset']='exut'\n"
     ]
    }
   ],
   "source": [
    "#apply hvg selection\n",
    "adata_exut_hvgs = adata_exut_allgenes[:,adata_exut_allgenes.var['highly_variable']]\n",
    "adata_exut_hvgs.uns['dataset']='exut'"
   ]
  },
  {
   "cell_type": "code",
   "execution_count": 9,
   "id": "78b2b8ad-c541-4837-991d-40018ff19b64",
   "metadata": {
    "tags": []
   },
   "outputs": [
    {
     "data": {
      "text/plain": [
       "(6205, 2000)"
      ]
     },
     "execution_count": 9,
     "metadata": {},
     "output_type": "execute_result"
    }
   ],
   "source": [
    "#Chari&Pachter scaling\n",
    "adata_exut_hvgs.layers['X_scaled'] = sc.pp.scale(adata_exut_hvgs.X.copy())\n",
    "adata_exut_hvgs.shape"
   ]
  },
  {
   "cell_type": "code",
   "execution_count": 10,
   "id": "9b4d6530-4da6-483e-bb89-6080dd226d71",
   "metadata": {
    "tags": []
   },
   "outputs": [],
   "source": [
    "#save\n",
    "adata_exut_hvgs.write_h5ad('../data/preprocessed/exut_adata.h5ad')"
   ]
  },
  {
   "cell_type": "code",
   "execution_count": 11,
   "id": "2c80a94f-26e9-4ff6-b98a-1638d65adc6e",
   "metadata": {
    "tags": []
   },
   "outputs": [
    {
     "data": {
      "text/plain": [
       "AnnData object with n_obs × n_vars = 6205 × 2000\n",
       "    obs: 'clusterlabels', 'clusternames', 'colors', 'n_count_rna'\n",
       "    var: 'highly_variable'\n",
       "    uns: 'dataset'\n",
       "    layers: 'normalized_counts', 'raw', 'X_scaled'"
      ]
     },
     "execution_count": 11,
     "metadata": {},
     "output_type": "execute_result"
    }
   ],
   "source": [
    "adata_exut_hvgs"
   ]
  },
  {
   "cell_type": "code",
   "execution_count": 12,
   "id": "184e531b-b6a4-40a4-907b-641e3264cfb8",
   "metadata": {
    "tags": []
   },
   "outputs": [
    {
     "data": {
      "text/html": [
       "<div>\n",
       "<style scoped>\n",
       "    .dataframe tbody tr th:only-of-type {\n",
       "        vertical-align: middle;\n",
       "    }\n",
       "\n",
       "    .dataframe tbody tr th {\n",
       "        vertical-align: top;\n",
       "    }\n",
       "\n",
       "    .dataframe thead th {\n",
       "        text-align: right;\n",
       "    }\n",
       "</style>\n",
       "<table border=\"1\" class=\"dataframe\">\n",
       "  <thead>\n",
       "    <tr style=\"text-align: right;\">\n",
       "      <th></th>\n",
       "      <th>clusterlabels</th>\n",
       "      <th>clusternames</th>\n",
       "      <th>colors</th>\n",
       "      <th>n_count_rna</th>\n",
       "    </tr>\n",
       "  </thead>\n",
       "  <tbody>\n",
       "    <tr>\n",
       "      <th>0</th>\n",
       "      <td>1</td>\n",
       "      <td>Somitic Mesoderm</td>\n",
       "      <td>#D34FEA</td>\n",
       "      <td>12663</td>\n",
       "    </tr>\n",
       "    <tr>\n",
       "      <th>1</th>\n",
       "      <td>0</td>\n",
       "      <td>Blood</td>\n",
       "      <td>#70D4CE</td>\n",
       "      <td>14587</td>\n",
       "    </tr>\n",
       "    <tr>\n",
       "      <th>2</th>\n",
       "      <td>13</td>\n",
       "      <td>Neural Tube</td>\n",
       "      <td>#87BD7E</td>\n",
       "      <td>9380</td>\n",
       "    </tr>\n",
       "    <tr>\n",
       "      <th>3</th>\n",
       "      <td>1</td>\n",
       "      <td>Somitic Mesoderm</td>\n",
       "      <td>#D34FEA</td>\n",
       "      <td>9267</td>\n",
       "    </tr>\n",
       "    <tr>\n",
       "      <th>4</th>\n",
       "      <td>9</td>\n",
       "      <td>Pharyngeal Mesoderm</td>\n",
       "      <td>#CCD0BC</td>\n",
       "      <td>2002</td>\n",
       "    </tr>\n",
       "    <tr>\n",
       "      <th>...</th>\n",
       "      <td>...</td>\n",
       "      <td>...</td>\n",
       "      <td>...</td>\n",
       "      <td>...</td>\n",
       "    </tr>\n",
       "    <tr>\n",
       "      <th>6200</th>\n",
       "      <td>0</td>\n",
       "      <td>Blood</td>\n",
       "      <td>#70D4CE</td>\n",
       "      <td>6036</td>\n",
       "    </tr>\n",
       "    <tr>\n",
       "      <th>6201</th>\n",
       "      <td>1</td>\n",
       "      <td>Somitic Mesoderm</td>\n",
       "      <td>#D34FEA</td>\n",
       "      <td>12097</td>\n",
       "    </tr>\n",
       "    <tr>\n",
       "      <th>6202</th>\n",
       "      <td>0</td>\n",
       "      <td>Blood</td>\n",
       "      <td>#70D4CE</td>\n",
       "      <td>14804</td>\n",
       "    </tr>\n",
       "    <tr>\n",
       "      <th>6203</th>\n",
       "      <td>6</td>\n",
       "      <td>Presomitic/Mixed Mesoderm</td>\n",
       "      <td>#81A483</td>\n",
       "      <td>12619</td>\n",
       "    </tr>\n",
       "    <tr>\n",
       "      <th>6204</th>\n",
       "      <td>15</td>\n",
       "      <td>Amnion</td>\n",
       "      <td>tab:orange</td>\n",
       "      <td>8243</td>\n",
       "    </tr>\n",
       "  </tbody>\n",
       "</table>\n",
       "<p>6205 rows × 4 columns</p>\n",
       "</div>"
      ],
      "text/plain": [
       "      clusterlabels               clusternames      colors  n_count_rna\n",
       "0                 1           Somitic Mesoderm     #D34FEA        12663\n",
       "1                 0                      Blood     #70D4CE        14587\n",
       "2                13                Neural Tube     #87BD7E         9380\n",
       "3                 1           Somitic Mesoderm     #D34FEA         9267\n",
       "4                 9        Pharyngeal Mesoderm     #CCD0BC         2002\n",
       "...             ...                        ...         ...          ...\n",
       "6200              0                      Blood     #70D4CE         6036\n",
       "6201              1           Somitic Mesoderm     #D34FEA        12097\n",
       "6202              0                      Blood     #70D4CE        14804\n",
       "6203              6  Presomitic/Mixed Mesoderm     #81A483        12619\n",
       "6204             15                     Amnion  tab:orange         8243\n",
       "\n",
       "[6205 rows x 4 columns]"
      ]
     },
     "execution_count": 12,
     "metadata": {},
     "output_type": "execute_result"
    }
   ],
   "source": [
    "adata_exut_hvgs.obs"
   ]
  },
  {
   "cell_type": "markdown",
   "id": "c322a140-4a18-4dfa-8f47-8f000a62febe",
   "metadata": {
    "tags": []
   },
   "source": [
    "### Prepare simulated ex-utero data"
   ]
  },
  {
   "cell_type": "code",
   "execution_count": 13,
   "id": "a6107c10-68c2-43ae-98d0-b1f277679b84",
   "metadata": {
    "tags": []
   },
   "outputs": [],
   "source": [
    "#simulate data\n",
    "clusters,clustersizes = np.unique(adata_exut_allgenes.obs['clusterlabels'].values,return_counts=True)\n",
    "\n",
    "np.random.seed(seed=42)\n",
    "theta=10\n",
    "X_sim=[]\n",
    "clusterlabels_sim = []\n",
    "X_real=[]\n",
    "for i,(cluster,size) in enumerate(zip(clusters,clustersizes)):\n",
    "    \n",
    "    cluster_idx = adata_exut_allgenes.obs['clusterlabels'].values == cluster\n",
    "    clustercounts_raw = adata_exut_allgenes.layers['raw'][cluster_idx,:]\n",
    "    X_real += [clustercounts_raw]\n",
    "    \n",
    "    #compute marginals per cluster\n",
    "    ns = np.sum(clustercounts_raw,axis=1)\n",
    "    ps = np.sum(clustercounts_raw,axis=0)\n",
    "    ps = ps / np.sum(ps)\n",
    "    mus = np.outer(ns,ps)\n",
    "    \n",
    "    #simulate\n",
    "    if theta == np.Inf: #Poisson case\n",
    "        X_sim += [np.random.poisson(mus)]\n",
    "    else:\n",
    "        nb_p = theta / (theta + mus)           \n",
    "        X_sim += [np.random.negative_binomial(np.ones_like(nb_p)*theta, nb_p)]\n",
    "     \n",
    "    clusterlabels_sim += [cluster]*size\n",
    "\n",
    "clusterlabels_sim=np.array(clusterlabels_sim)\n",
    "#colors for re-ordered simulated data\n",
    "colors_sim = [color_dict[celltype_dict[str(cl)]] for cl in clusterlabels_sim]\n",
    "colors_new_sim = np.array(list(colors_sim.copy()),dtype='<U15')\n",
    "colors_new_sim[clusterlabels_sim==11]='tab:red'\n",
    "colors_new_sim[clusterlabels_sim==15]='tab:orange'\n",
    "colors_new_sim[clusterlabels_sim==16]='tab:blue'\n",
    "colors_new_sim[clusterlabels_sim==17]='tab:green'\n",
    "\n",
    "adata_sim = anndata.AnnData(X=np.concatenate(X_sim),\n",
    "                            obs=dict(clusterlabels=clusterlabels_sim,\n",
    "                                     colors=colors_new_sim),\n",
    "                            uns=dict(dataset=f'exut-sim-theta-{theta}-real-seqdepths'),\n",
    "                            layers=dict(X_real=np.concatenate(X_real)))"
   ]
  },
  {
   "cell_type": "code",
   "execution_count": 14,
   "id": "51359ce9-0e3e-4434-86fc-aa904d704e2f",
   "metadata": {
    "tags": []
   },
   "outputs": [
    {
     "data": {
      "text/plain": [
       "AnnData object with n_obs × n_vars = 6205 × 19588\n",
       "    obs: 'clusterlabels', 'colors', 'n_counts'\n",
       "    var: 'n_counts'\n",
       "    uns: 'dataset', 'log1p'\n",
       "    layers: 'X_real', 'raw'"
      ]
     },
     "execution_count": 14,
     "metadata": {},
     "output_type": "execute_result"
    }
   ],
   "source": [
    "#preprocess like before\n",
    "adata_sim.layers['raw'] = adata_sim.X.copy()\n",
    "sc.pp.normalize_total(adata_sim,target_sum=10000)\n",
    "sc.pp.log1p(adata_sim)\n",
    "sc.pp.filter_cells(adata_sim, min_counts=0)\n",
    "sc.pp.filter_genes(adata_sim, min_counts=0)\n",
    "adata_sim"
   ]
  },
  {
   "cell_type": "code",
   "execution_count": 15,
   "id": "626335d1-cc9c-4a67-acd9-5cacb26197f6",
   "metadata": {
    "tags": []
   },
   "outputs": [
    {
     "name": "stderr",
     "output_type": "stream",
     "text": [
      "/home/jan/anaconda3/envs/elephant_analysis_env2/lib/python3.11/site-packages/scanpy/preprocessing/_highly_variable_genes.py:220: FutureWarning: The default of observed=False is deprecated and will be changed to True in a future version of pandas. Pass observed=False to retain current behavior or observed=True to adopt the future default and silence this warning.\n",
      "  disp_grouped = df.groupby('mean_bin')['dispersions']\n"
     ]
    },
    {
     "data": {
      "text/plain": [
       "View of AnnData object with n_obs × n_vars = 6205 × 2000\n",
       "    obs: 'clusterlabels', 'colors', 'n_counts'\n",
       "    var: 'n_counts', 'highly_variable', 'means', 'dispersions', 'dispersions_norm'\n",
       "    uns: 'dataset', 'log1p', 'hvg'\n",
       "    layers: 'X_real', 'raw'"
      ]
     },
     "execution_count": 15,
     "metadata": {},
     "output_type": "execute_result"
    }
   ],
   "source": [
    "#select HVGs\n",
    "sc.pp.highly_variable_genes(adata_sim,n_top_genes=2000)\n",
    "adata_sim = adata_sim[:,adata_sim.var['highly_variable']]\n",
    "adata_sim"
   ]
  },
  {
   "cell_type": "code",
   "execution_count": 16,
   "id": "4490ef1b-5f3c-4580-b17a-5889d3c6a1fa",
   "metadata": {
    "tags": []
   },
   "outputs": [
    {
     "name": "stderr",
     "output_type": "stream",
     "text": [
      "/tmp/ipykernel_24302/45398618.py:1: ImplicitModificationWarning: Setting element `.layers['X_scaled']` of view, initializing view as actual.\n",
      "  adata_sim.layers['X_scaled'] = sc.pp.scale(adata_sim.X.copy())\n"
     ]
    }
   ],
   "source": [
    "adata_sim.layers['X_scaled'] = sc.pp.scale(adata_sim.X.copy())\n",
    "adata_sim.write_h5ad(f'../data/preprocessed/{adata_sim.uns[\"dataset\"]}_adata.h5ad')"
   ]
  },
  {
   "cell_type": "code",
   "execution_count": 17,
   "id": "a5f9f1a4-e7c2-43da-b214-1e87c1c71430",
   "metadata": {
    "tags": []
   },
   "outputs": [
    {
     "data": {
      "text/plain": [
       "AnnData object with n_obs × n_vars = 6205 × 2000\n",
       "    obs: 'clusterlabels', 'colors', 'n_counts'\n",
       "    var: 'n_counts', 'highly_variable', 'means', 'dispersions', 'dispersions_norm'\n",
       "    uns: 'dataset', 'log1p', 'hvg'\n",
       "    layers: 'X_real', 'raw', 'X_scaled'"
      ]
     },
     "execution_count": 17,
     "metadata": {},
     "output_type": "execute_result"
    }
   ],
   "source": [
    "adata_sim"
   ]
  },
  {
   "cell_type": "code",
   "execution_count": 18,
   "id": "6f5b330b-5ece-4847-b876-115219261034",
   "metadata": {
    "tags": []
   },
   "outputs": [
    {
     "name": "stderr",
     "output_type": "stream",
     "text": [
      "/tmp/ipykernel_24302/1111178664.py:67: UserWarning: The figure layout has changed to tight\n",
      "  plt.tight_layout()\n"
     ]
    },
    {
     "data": {
      "image/png": "[encoded data removed]",
      "text/plain": [
       "<Figure size 1053x607.5 with 14 Axes>"
      ]
     },
     "metadata": {},
     "output_type": "display_data"
    }
   ],
   "source": [
    "largest_gene_idx = np.argsort(np.mean(adata_sim.layers['raw'],axis=0))[-5:]\n",
    "\n",
    "with plt.style.context('../mpl_style.txt'):\n",
    "    \n",
    "    ## PREPARE\n",
    "    nrows_grid = 3\n",
    "    ncols_grid = 6\n",
    "    fig = plt.figure(figsize=(7.8,4.5))\n",
    "    axes_sim = [plt.subplot2grid(shape=(nrows_grid,ncols_grid), loc=(0, col), colspan=1,rowspan=1) for col in range(ncols_grid)]\n",
    "    axes_real = [plt.subplot2grid(shape=(nrows_grid,ncols_grid), loc=(1, col), colspan=1,rowspan=1) for col in range(ncols_grid)]\n",
    "    ax_legend = plt.subplot2grid(shape=(nrows_grid,ncols_grid), loc=(2, 0), colspan=5,rowspan=1)    \n",
    "    ax_legend_small = plt.subplot2grid(shape=(nrows_grid,ncols_grid), loc=(2, 5), colspan=1,rowspan=1)    \n",
    "    \n",
    "    plt.suptitle(\"High-expression genes: Distributions per cluster\\n(x-axis limited to 99th percentile)\")\n",
    "    \n",
    "    ## CLUSTER DISTRIBUTIONS\n",
    "    for clm,(gene_idx) in enumerate(largest_gene_idx):\n",
    "        \n",
    "        p99count_sim = np.percentile(adata_sim.layers['raw'][:,gene_idx],99)\n",
    "        p99count_real = np.percentile(adata_sim.layers['X_real'][:,gene_idx],99)\n",
    "        p99count = np.max([p99count_sim,p99count_real])\n",
    "        bins=np.linspace(0,p99count+1,num=25)\n",
    "\n",
    "        for cluster in range(19):\n",
    "\n",
    "            cluster_idx = adata_sim.obs['clusterlabels'].values == cluster\n",
    "            color = np.unique(adata_sim[cluster_idx].obs['colors'])[0]\n",
    "\n",
    "            X_cl_sim = adata_sim.layers['raw'][cluster_idx,:]\n",
    "            X_cl_real = adata_sim.layers['X_real'][cluster_idx,:]\n",
    "\n",
    "            plt.sca(axes_sim[clm])\n",
    "            # plt.yscale('log')\n",
    "            plt.title(f'Gene {gene_idx}')\n",
    "            counts_sim=X_cl_sim[:,gene_idx] \n",
    "            plt.hist(counts_sim,bins=bins,color=color)\n",
    "            plt.xlabel('Counts')\n",
    "            if clm==0:\n",
    "                  plt.ylabel('SIMULATED\\n')\n",
    "\n",
    "\n",
    "            plt.sca(axes_real[clm])\n",
    "            # plt.yscale('log')\n",
    "            counts_real=X_cl_real[:,gene_idx]    \n",
    "            plt.hist(counts_real,bins=bins,color=color,label=f'{celltype_dict[str(cluster)]} ({cluster})')\n",
    "            plt.xlabel('Counts')\n",
    "            if clm==0:\n",
    "                plt.ylabel('REAL\\n(EX UTERO DATA)\\n')\n",
    "                \n",
    "                h, l = axes_real[clm].get_legend_handles_labels()\n",
    "                ax_legend.legend(h,l,frameon=False,title='Cell type (cluster ID)',ncol=3,loc='center')\n",
    "                ax_legend.axis(\"off\")\n",
    "    \n",
    "    ## TOTAL COUNTS\n",
    "    plt.sca(axes_sim[5])\n",
    "    _,bins,_ = plt.hist(np.sum(adata_sim.layers['raw'],axis=1),bins=25,color='tab:blue',label='Simulated\\ntotal counts')\n",
    "    plt.xlabel('Total count per cell\\n(after HVG selection)')\n",
    "    h1, l1 = axes_sim[5].get_legend_handles_labels()\n",
    "\n",
    "    plt.sca(axes_real[5])\n",
    "    plt.hist(np.sum(adata_sim.layers['X_real'],axis=1),bins=bins,color='tab:orange',label='Real Ex Utero\\ntotal counts')\n",
    "    plt.xlabel('Total count per cell\\n(after HVG selection)')\n",
    "    h2, l2 = axes_real[5].get_legend_handles_labels()\n",
    "    ax_legend_small.legend(h1+h2,l1+l2,frameon=False,loc='center')\n",
    "    ax_legend_small.axis(\"off\")\n",
    "\n",
    "plt.tight_layout()\n",
    "sns.despine()\n",
    "fig.savefig(f'../results/figures/supplementary/{adata_sim.uns[\"dataset\"]}_real_vs_sim_cluster_distributions.pdf', dpi=300, format=None, bbox_inches = 'tight', pad_inches = 0)\n",
    "fig.savefig(f'../results/figures/supplementary/{adata_sim.uns[\"dataset\"]}_real_vs_sim_cluster_distributions.png', dpi=300, format=None, bbox_inches = 'tight', pad_inches = 0)    \n",
    "plt.show()"
   ]
  },
  {
   "cell_type": "markdown",
   "id": "ca0e2755-d55e-40fe-981e-555e2d24d070",
   "metadata": {},
   "source": [
    "### Prepare MERFISH data"
   ]
  },
  {
   "cell_type": "code",
   "execution_count": 19,
   "id": "03f80d30-9c31-46ce-8b34-13d82e9a8bbe",
   "metadata": {
    "tags": []
   },
   "outputs": [
    {
     "name": "stderr",
     "output_type": "stream",
     "text": [
      "9785B [00:06, 1590.79B/s]                                                       \n",
      "59361B [00:20, 2938.32B/s]                                                      \n"
     ]
    },
    {
     "data": {
      "text/plain": [
       "0"
      ]
     },
     "execution_count": 19,
     "metadata": {},
     "output_type": "execute_result"
    }
   ],
   "source": [
    "#download and unpack\n",
    "#metadata.csv\n",
    "download_file('10.22002/D1.2063','.gz')\n",
    "#counts.h5ad\n",
    "download_file('10.22002/D1.2064','.gz')\n",
    "\n",
    "os.system(\"gunzip D1.2063.gz\")\n",
    "os.system(\"gunzip D1.2064.gz\")\n",
    "os.system(\"mv D1.2063 ../data/raw/merfish_metadata.csv\")\n",
    "os.system(\"mv D1.2064 ../data/raw/merfish_counts.h5ad\")"
   ]
  },
  {
   "cell_type": "code",
   "execution_count": 20,
   "id": "5a96b9e1-9072-45f7-bbc3-d32de37be932",
   "metadata": {
    "tags": []
   },
   "outputs": [
    {
     "data": {
      "text/plain": [
       "(280327, 254)"
      ]
     },
     "execution_count": 20,
     "metadata": {},
     "output_type": "execute_result"
    }
   ],
   "source": [
    "#load full MERFISH data\n",
    "counts_merfish = anndata.read_h5ad('../data/raw/merfish_counts.h5ad')\n",
    "cellMeta_merfish = pd.read_csv('../data/raw/merfish_metadata.csv')\n",
    "counts_merfish.shape"
   ]
  },
  {
   "cell_type": "code",
   "execution_count": 21,
   "id": "8e5e2870-17a1-4c59-98b2-96147cf96add",
   "metadata": {},
   "outputs": [
    {
     "data": {
      "text/plain": [
       "(6963, 254)"
      ]
     },
     "execution_count": 21,
     "metadata": {},
     "output_type": "execute_result"
    }
   ],
   "source": [
    "#process clusternames and colors\n",
    "counts_merfish.obs['slice'] = pd.Categorical(cellMeta_merfish.slice_id)\n",
    "counts_merfish.obs['clusternames'] = pd.Categorical(cellMeta_merfish.subclass)\n",
    "_,clusterlabels_merfish = np.unique(counts_merfish.obs['clusternames'],return_inverse=True)\n",
    "counts_merfish.obs['clusterlabels'] = clusterlabels_merfish\n",
    "\n",
    "cdict = {'Microglia':'#A778BC',\n",
    "         'L6_IT':'#EA95C1',\n",
    "         'Astrocytes':'#B6657E','Oligodendrocytes':'#B49599',\n",
    "         'L23_IT':'#628EA2','OPC':'#72B9A5','L45_IT':'#71B7A2','Endothelial':'#7794C3','Pvalb':'#FD8085',\n",
    "         'L6_IT_Car3':'#FAD1FC','L56_NP':'#93B09B','PVM':'#ECBDD2','L5_IT':'#ABA8DF',\n",
    "         'L5_PT':'#D36486','Sst':'#8FE0B1','L6_CT':'#9589C4','Vip':'#CD83AC','VLMC':'#BBDBF2',\n",
    "         'SMC':'#7A849E','other':'#A382BC','L6b':'#64D7F0','Pericytes':'#95BA98',\n",
    "         'Lamp5':'#A3E169','Sncg':'#92B1DB','Sst_Chodl':'#81FAC9'}\n",
    "counts_merfish.obs['colors'] = [cdict[i] for i in counts_merfish.obs['clusternames']]\n",
    "\n",
    "\n",
    "#subset MERFISH data to same slide as Chari & Pachter\n",
    "slice_choice = np.unique(cellMeta_merfish.slice_id)[7]\n",
    "\n",
    "subset_merfish = counts_merfish[counts_merfish.obs['slice'].isin([slice_choice])]\n",
    "subset_merfish.shape"
   ]
  },
  {
   "cell_type": "code",
   "execution_count": 22,
   "id": "7a3f3e93-ae81-4665-bddf-2b5b6bec6436",
   "metadata": {
    "tags": []
   },
   "outputs": [
    {
     "name": "stderr",
     "output_type": "stream",
     "text": [
      "/home/jan/anaconda3/envs/elephant_analysis_env2/lib/python3.11/site-packages/scanpy/preprocessing/_simple.py:372: UserWarning: Received a view of an AnnData. Making a copy.\n",
      "  view_to_actual(adata)\n"
     ]
    }
   ],
   "source": [
    "#preprocess as Chari&Pachter\n",
    "sc.pp.log1p(subset_merfish)\n",
    "subset_merfish.uns['dataset'] = 'merfish'\n",
    "#Chari&Pachter scaling\n",
    "subset_merfish.layers['X_scaled'] = sc.pp.scale(subset_merfish.X.copy())"
   ]
  },
  {
   "cell_type": "code",
   "execution_count": 23,
   "id": "541f5204-436f-4fd6-b099-0f2dd1791051",
   "metadata": {
    "tags": []
   },
   "outputs": [],
   "source": [
    "#save\n",
    "subset_merfish.write_h5ad('../data/preprocessed/merfish_adata.h5ad')"
   ]
  },
  {
   "cell_type": "code",
   "execution_count": 24,
   "id": "974686e0-96a4-4b8b-940f-55735cd4a306",
   "metadata": {
    "tags": []
   },
   "outputs": [
    {
     "data": {
      "text/plain": [
       "AnnData object with n_obs × n_vars = 6963 × 254\n",
       "    obs: 'slice', 'clusternames', 'clusterlabels', 'colors'\n",
       "    uns: 'log1p', 'dataset'\n",
       "    layers: 'X_scaled'"
      ]
     },
     "execution_count": 24,
     "metadata": {},
     "output_type": "execute_result"
    }
   ],
   "source": [
    "subset_merfish"
   ]
  },
  {
   "cell_type": "code",
   "execution_count": 25,
   "id": "b4ba218c-00d1-4029-aa4a-33b5346e6d12",
   "metadata": {
    "tags": []
   },
   "outputs": [
    {
     "data": {
      "text/html": [
       "<div>\n",
       "<style scoped>\n",
       "    .dataframe tbody tr th:only-of-type {\n",
       "        vertical-align: middle;\n",
       "    }\n",
       "\n",
       "    .dataframe tbody tr th {\n",
       "        vertical-align: top;\n",
       "    }\n",
       "\n",
       "    .dataframe thead th {\n",
       "        text-align: right;\n",
       "    }\n",
       "</style>\n",
       "<table border=\"1\" class=\"dataframe\">\n",
       "  <thead>\n",
       "    <tr style=\"text-align: right;\">\n",
       "      <th></th>\n",
       "      <th>slice</th>\n",
       "      <th>clusternames</th>\n",
       "      <th>clusterlabels</th>\n",
       "      <th>colors</th>\n",
       "    </tr>\n",
       "    <tr>\n",
       "      <th>index</th>\n",
       "      <th></th>\n",
       "      <th></th>\n",
       "      <th></th>\n",
       "      <th></th>\n",
       "    </tr>\n",
       "  </thead>\n",
       "  <tbody>\n",
       "    <tr>\n",
       "      <th>100028810813183819239792138762506953059</th>\n",
       "      <td>mouse1_slice162</td>\n",
       "      <td>Microglia</td>\n",
       "      <td>12</td>\n",
       "      <td>#A778BC</td>\n",
       "    </tr>\n",
       "    <tr>\n",
       "      <th>100042292675978612289781789372249900646</th>\n",
       "      <td>mouse1_slice162</td>\n",
       "      <td>L6_IT</td>\n",
       "      <td>8</td>\n",
       "      <td>#EA95C1</td>\n",
       "    </tr>\n",
       "    <tr>\n",
       "      <th>100093902545314506370058151058375627035</th>\n",
       "      <td>mouse1_slice162</td>\n",
       "      <td>Astrocytes</td>\n",
       "      <td>0</td>\n",
       "      <td>#B6657E</td>\n",
       "    </tr>\n",
       "    <tr>\n",
       "      <th>100140206101682663983686904841717501025</th>\n",
       "      <td>mouse1_slice162</td>\n",
       "      <td>Oligodendrocytes</td>\n",
       "      <td>14</td>\n",
       "      <td>#B49599</td>\n",
       "    </tr>\n",
       "    <tr>\n",
       "      <th>100176313983591085952263714025726530686</th>\n",
       "      <td>mouse1_slice162</td>\n",
       "      <td>L23_IT</td>\n",
       "      <td>2</td>\n",
       "      <td>#628EA2</td>\n",
       "    </tr>\n",
       "    <tr>\n",
       "      <th>...</th>\n",
       "      <td>...</td>\n",
       "      <td>...</td>\n",
       "      <td>...</td>\n",
       "      <td>...</td>\n",
       "    </tr>\n",
       "    <tr>\n",
       "      <th>99658397536625795119891455351124847928</th>\n",
       "      <td>mouse1_slice162</td>\n",
       "      <td>L6_IT_Car3</td>\n",
       "      <td>9</td>\n",
       "      <td>#FAD1FC</td>\n",
       "    </tr>\n",
       "    <tr>\n",
       "      <th>99716035693339658241621650353650240200</th>\n",
       "      <td>mouse1_slice162</td>\n",
       "      <td>Astrocytes</td>\n",
       "      <td>0</td>\n",
       "      <td>#B6657E</td>\n",
       "    </tr>\n",
       "    <tr>\n",
       "      <th>99757070583384140112761609672322877368</th>\n",
       "      <td>mouse1_slice162</td>\n",
       "      <td>L23_IT</td>\n",
       "      <td>2</td>\n",
       "      <td>#628EA2</td>\n",
       "    </tr>\n",
       "    <tr>\n",
       "      <th>99840731649735034456729605869484432530</th>\n",
       "      <td>mouse1_slice162</td>\n",
       "      <td>L45_IT</td>\n",
       "      <td>3</td>\n",
       "      <td>#71B7A2</td>\n",
       "    </tr>\n",
       "    <tr>\n",
       "      <th>99847388990809554042272739785717376750</th>\n",
       "      <td>mouse1_slice162</td>\n",
       "      <td>L45_IT</td>\n",
       "      <td>3</td>\n",
       "      <td>#71B7A2</td>\n",
       "    </tr>\n",
       "  </tbody>\n",
       "</table>\n",
       "<p>6963 rows × 4 columns</p>\n",
       "</div>"
      ],
      "text/plain": [
       "                                                   slice      clusternames  \\\n",
       "index                                                                        \n",
       "100028810813183819239792138762506953059  mouse1_slice162         Microglia   \n",
       "100042292675978612289781789372249900646  mouse1_slice162             L6_IT   \n",
       "100093902545314506370058151058375627035  mouse1_slice162        Astrocytes   \n",
       "100140206101682663983686904841717501025  mouse1_slice162  Oligodendrocytes   \n",
       "100176313983591085952263714025726530686  mouse1_slice162            L23_IT   \n",
       "...                                                  ...               ...   \n",
       "99658397536625795119891455351124847928   mouse1_slice162        L6_IT_Car3   \n",
       "99716035693339658241621650353650240200   mouse1_slice162        Astrocytes   \n",
       "99757070583384140112761609672322877368   mouse1_slice162            L23_IT   \n",
       "99840731649735034456729605869484432530   mouse1_slice162            L45_IT   \n",
       "99847388990809554042272739785717376750   mouse1_slice162            L45_IT   \n",
       "\n",
       "                                         clusterlabels   colors  \n",
       "index                                                            \n",
       "100028810813183819239792138762506953059             12  #A778BC  \n",
       "100042292675978612289781789372249900646              8  #EA95C1  \n",
       "100093902545314506370058151058375627035              0  #B6657E  \n",
       "100140206101682663983686904841717501025             14  #B49599  \n",
       "100176313983591085952263714025726530686              2  #628EA2  \n",
       "...                                                ...      ...  \n",
       "99658397536625795119891455351124847928               9  #FAD1FC  \n",
       "99716035693339658241621650353650240200               0  #B6657E  \n",
       "99757070583384140112761609672322877368               2  #628EA2  \n",
       "99840731649735034456729605869484432530               3  #71B7A2  \n",
       "99847388990809554042272739785717376750               3  #71B7A2  \n",
       "\n",
       "[6963 rows x 4 columns]"
      ]
     },
     "execution_count": 25,
     "metadata": {},
     "output_type": "execute_result"
    }
   ],
   "source": [
    "subset_merfish.obs"
   ]
  },
  {
   "cell_type": "markdown",
   "id": "2132a5c9-64f0-438b-bd2f-38196ae559c3",
   "metadata": {},
   "source": [
    "### Prepare SmartSeq"
   ]
  },
  {
   "cell_type": "code",
   "execution_count": 26,
   "id": "41ebde16-0e99-4f8c-b39b-57d01817776d",
   "metadata": {
    "tags": []
   },
   "outputs": [
    {
     "name": "stderr",
     "output_type": "stream",
     "text": [
      "65B [00:00, 173.46B/s]                                                          \n",
      "26701B [00:08, 3159.67B/s]                                                      \n"
     ]
    },
    {
     "data": {
      "text/plain": [
       "0"
      ]
     },
     "execution_count": 26,
     "metadata": {},
     "output_type": "execute_result"
    }
   ],
   "source": [
    "# Download and unpack\n",
    "#metadata.csv\n",
    "download_file('10.22002/D1.2067','.gz')\n",
    "#smartseq.mtx (log counts)\n",
    "download_file('10.22002/D1.2071','.gz')\n",
    "\n",
    "os.system(\"gunzip D1.2067.gz\")\n",
    "os.system(\"gunzip D1.2071.gz\")\n",
    "\n",
    "os.system(\"mv D1.2067 ../data/raw/smartseq_metadata.csv\")\n",
    "os.system(\"mv D1.2071 ../data/raw/smartseq.mtx\")"
   ]
  },
  {
   "cell_type": "code",
   "execution_count": 27,
   "id": "e3a4d920-e7d5-4902-804b-adb136bca184",
   "metadata": {
    "tags": []
   },
   "outputs": [
    {
     "data": {
      "text/plain": [
       "(3850, 1999)"
      ]
     },
     "execution_count": 27,
     "metadata": {},
     "output_type": "execute_result"
    }
   ],
   "source": [
    "#load data\n",
    "counts_smartseq = mmread('../data/raw/smartseq.mtx')\n",
    "meta_smartseq = pd.read_csv('../data/raw/smartseq_metadata.csv')\n",
    "counts_smartseq.shape"
   ]
  },
  {
   "cell_type": "code",
   "execution_count": 28,
   "id": "55a02559-3ca1-4de4-822c-b41c24bc4c43",
   "metadata": {
    "tags": []
   },
   "outputs": [],
   "source": [
    "#add metadata\n",
    "adata_smartseq = anndata.AnnData(X=counts_smartseq)\n",
    "adata_smartseq.obs['clusternames'] = [s for s in meta_smartseq.smartseq_cluster]\n",
    "_,smartseq_clusterlabels = np.unique(meta_smartseq.smartseq_cluster,return_inverse=True)\n",
    "adata_smartseq.obs['clusterlabels'] = smartseq_clusterlabels\n",
    "adata_smartseq.obs['colors'] = [c for c in meta_smartseq.smartseq_cluster_color]\n",
    "adata_smartseq.uns['dataset']='smartseq'"
   ]
  },
  {
   "cell_type": "code",
   "execution_count": 29,
   "id": "02e0d8ab-5564-4649-9161-fea681003dea",
   "metadata": {
    "tags": []
   },
   "outputs": [],
   "source": [
    "#Chari&Pachter scaling\n",
    "adata_smartseq.layers['X_scaled'] = sc.pp.scale(adata_smartseq.X.copy())"
   ]
  },
  {
   "cell_type": "code",
   "execution_count": 30,
   "id": "c688940f-6ddf-4e56-b731-c8710adc31db",
   "metadata": {
    "tags": []
   },
   "outputs": [],
   "source": [
    "adata_smartseq.write_h5ad('../data/preprocessed/smartseq_adata.h5ad')"
   ]
  },
  {
   "cell_type": "code",
   "execution_count": 31,
   "id": "e79feb36-bd90-444c-89cb-95836d45556d",
   "metadata": {
    "tags": []
   },
   "outputs": [
    {
     "data": {
      "text/plain": [
       "AnnData object with n_obs × n_vars = 3850 × 1999\n",
       "    obs: 'clusternames', 'clusterlabels', 'colors'\n",
       "    uns: 'dataset'\n",
       "    layers: 'X_scaled'"
      ]
     },
     "execution_count": 31,
     "metadata": {},
     "output_type": "execute_result"
    }
   ],
   "source": [
    "adata_smartseq"
   ]
  },
  {
   "cell_type": "code",
   "execution_count": 32,
   "id": "453c403c-05c8-4c8d-9a5d-c31749aed4dc",
   "metadata": {
    "tags": []
   },
   "outputs": [
    {
     "data": {
      "text/html": [
       "<div>\n",
       "<style scoped>\n",
       "    .dataframe tbody tr th:only-of-type {\n",
       "        vertical-align: middle;\n",
       "    }\n",
       "\n",
       "    .dataframe tbody tr th {\n",
       "        vertical-align: top;\n",
       "    }\n",
       "\n",
       "    .dataframe thead th {\n",
       "        text-align: right;\n",
       "    }\n",
       "</style>\n",
       "<table border=\"1\" class=\"dataframe\">\n",
       "  <thead>\n",
       "    <tr style=\"text-align: right;\">\n",
       "      <th></th>\n",
       "      <th>clusternames</th>\n",
       "      <th>clusterlabels</th>\n",
       "      <th>colors</th>\n",
       "    </tr>\n",
       "  </thead>\n",
       "  <tbody>\n",
       "    <tr>\n",
       "      <th>0</th>\n",
       "      <td>Nr5a1_9|11 Rorb</td>\n",
       "      <td>18</td>\n",
       "      <td>#6C39A6</td>\n",
       "    </tr>\n",
       "    <tr>\n",
       "      <th>1</th>\n",
       "      <td>Nr5a1_9|11 Rorb</td>\n",
       "      <td>18</td>\n",
       "      <td>#6C39A6</td>\n",
       "    </tr>\n",
       "    <tr>\n",
       "      <th>2</th>\n",
       "      <td>Nr5a1_9|11 Rorb</td>\n",
       "      <td>18</td>\n",
       "      <td>#6C39A6</td>\n",
       "    </tr>\n",
       "    <tr>\n",
       "      <th>3</th>\n",
       "      <td>Nr5a1_4|7 Glipr1</td>\n",
       "      <td>16</td>\n",
       "      <td>#763BFF</td>\n",
       "    </tr>\n",
       "    <tr>\n",
       "      <th>4</th>\n",
       "      <td>Nr5a1_4|7 Glipr1</td>\n",
       "      <td>16</td>\n",
       "      <td>#763BFF</td>\n",
       "    </tr>\n",
       "    <tr>\n",
       "      <th>...</th>\n",
       "      <td>...</td>\n",
       "      <td>...</td>\n",
       "      <td>...</td>\n",
       "    </tr>\n",
       "    <tr>\n",
       "      <th>3845</th>\n",
       "      <td>Nr5a1_Foxp2_1 Prdm13</td>\n",
       "      <td>19</td>\n",
       "      <td>#D92AAB</td>\n",
       "    </tr>\n",
       "    <tr>\n",
       "      <th>3846</th>\n",
       "      <td>Nr5a1_Foxp2_1 Prdm13</td>\n",
       "      <td>19</td>\n",
       "      <td>#D92AAB</td>\n",
       "    </tr>\n",
       "    <tr>\n",
       "      <th>3847</th>\n",
       "      <td>Nr5a1_Foxp2_1 Prdm13</td>\n",
       "      <td>19</td>\n",
       "      <td>#D92AAB</td>\n",
       "    </tr>\n",
       "    <tr>\n",
       "      <th>3848</th>\n",
       "      <td>Nr5a1_Foxp2_1 Prdm13</td>\n",
       "      <td>19</td>\n",
       "      <td>#D92AAB</td>\n",
       "    </tr>\n",
       "    <tr>\n",
       "      <th>3849</th>\n",
       "      <td>Nr5a1_Foxp2_1 Prdm13</td>\n",
       "      <td>19</td>\n",
       "      <td>#D92AAB</td>\n",
       "    </tr>\n",
       "  </tbody>\n",
       "</table>\n",
       "<p>3850 rows × 3 columns</p>\n",
       "</div>"
      ],
      "text/plain": [
       "              clusternames  clusterlabels   colors\n",
       "0          Nr5a1_9|11 Rorb             18  #6C39A6\n",
       "1          Nr5a1_9|11 Rorb             18  #6C39A6\n",
       "2          Nr5a1_9|11 Rorb             18  #6C39A6\n",
       "3         Nr5a1_4|7 Glipr1             16  #763BFF\n",
       "4         Nr5a1_4|7 Glipr1             16  #763BFF\n",
       "...                    ...            ...      ...\n",
       "3845  Nr5a1_Foxp2_1 Prdm13             19  #D92AAB\n",
       "3846  Nr5a1_Foxp2_1 Prdm13             19  #D92AAB\n",
       "3847  Nr5a1_Foxp2_1 Prdm13             19  #D92AAB\n",
       "3848  Nr5a1_Foxp2_1 Prdm13             19  #D92AAB\n",
       "3849  Nr5a1_Foxp2_1 Prdm13             19  #D92AAB\n",
       "\n",
       "[3850 rows x 3 columns]"
      ]
     },
     "execution_count": 32,
     "metadata": {},
     "output_type": "execute_result"
    }
   ],
   "source": [
    "adata_smartseq.obs"
   ]
  },
  {
   "cell_type": "markdown",
   "id": "b55fc15c-09c1-44a1-b837-23b3f4236cf7",
   "metadata": {
    "tags": []
   },
   "source": [
    "### Prepare MNIST data"
   ]
  },
  {
   "cell_type": "code",
   "execution_count": 33,
   "id": "1ff065ec-6efe-4555-b1c4-9d33be6a131c",
   "metadata": {
    "tags": []
   },
   "outputs": [
    {
     "name": "stderr",
     "output_type": "stream",
     "text": [
      "/home/jan/anaconda3/envs/elephant_analysis_env2/lib/python3.11/site-packages/sklearn/datasets/_openml.py:1002: FutureWarning: The default value of `parser` will change from `'liac-arff'` to `'auto'` in 1.4. You can set `parser='auto'` to silence this warning. Therefore, an `ImportError` will be raised from 1.4 if the dataset is dense and pandas is not installed. Note that the pandas parser may return different data types. See the Notes Section in fetch_openml's API doc for details.\n",
      "  warn(\n"
     ]
    }
   ],
   "source": [
    "import sklearn.datasets\n",
    "#download\n",
    "x_mnist,y_mnist = sklearn.datasets.fetch_openml('mnist_784',version=1,return_X_y=True)\n",
    "\n",
    "#adjust datatypes\n",
    "y_mnist = y_mnist.values.astype(int)\n",
    "x_mnist = x_mnist.values\n",
    "\n",
    "#metadata\n",
    "colors_tab10 = np.array(['tab:blue','tab:orange','tab:green','tab:red','tab:purple','tab:brown','tab:pink','tab:gray','tab:olive','tab:cyan'])\n",
    "colors_mnist = colors_tab10[y_mnist]\n",
    "\n",
    "#make adata and save\n",
    "adata_mnist = anndata.AnnData(X=x_mnist,\n",
    "                               obs=dict(clusterlabels=y_mnist,\n",
    "                                        clusternames=[str(y) for y in y_mnist],\n",
    "                                        colors=colors_mnist),\n",
    "                               uns=dict(dataset='mnist'))\n",
    "adata_mnist.layers['X_scaled'] = sc.pp.scale(adata_mnist.X.copy())\n",
    "adata_mnist.write_h5ad('../data/preprocessed/mnist_adata.h5ad')"
   ]
  },
  {
   "cell_type": "code",
   "execution_count": 34,
   "id": "c190c2ea-155a-4343-8969-0c46fb750a87",
   "metadata": {},
   "outputs": [
    {
     "data": {
      "text/plain": [
       "AnnData object with n_obs × n_vars = 70000 × 784\n",
       "    obs: 'clusterlabels', 'clusternames', 'colors'\n",
       "    uns: 'dataset'\n",
       "    layers: 'X_scaled'"
      ]
     },
     "execution_count": 34,
     "metadata": {},
     "output_type": "execute_result"
    }
   ],
   "source": [
    "adata_mnist"
   ]
  },
  {
   "cell_type": "code",
   "execution_count": 35,
   "id": "2cfc9b9b-c3bb-46f1-abe9-28e05ac7015b",
   "metadata": {
    "tags": []
   },
   "outputs": [
    {
     "data": {
      "text/html": [
       "<div>\n",
       "<style scoped>\n",
       "    .dataframe tbody tr th:only-of-type {\n",
       "        vertical-align: middle;\n",
       "    }\n",
       "\n",
       "    .dataframe tbody tr th {\n",
       "        vertical-align: top;\n",
       "    }\n",
       "\n",
       "    .dataframe thead th {\n",
       "        text-align: right;\n",
       "    }\n",
       "</style>\n",
       "<table border=\"1\" class=\"dataframe\">\n",
       "  <thead>\n",
       "    <tr style=\"text-align: right;\">\n",
       "      <th></th>\n",
       "      <th>clusterlabels</th>\n",
       "      <th>clusternames</th>\n",
       "      <th>colors</th>\n",
       "    </tr>\n",
       "  </thead>\n",
       "  <tbody>\n",
       "    <tr>\n",
       "      <th>0</th>\n",
       "      <td>5</td>\n",
       "      <td>5</td>\n",
       "      <td>tab:brown</td>\n",
       "    </tr>\n",
       "    <tr>\n",
       "      <th>1</th>\n",
       "      <td>0</td>\n",
       "      <td>0</td>\n",
       "      <td>tab:blue</td>\n",
       "    </tr>\n",
       "    <tr>\n",
       "      <th>2</th>\n",
       "      <td>4</td>\n",
       "      <td>4</td>\n",
       "      <td>tab:purple</td>\n",
       "    </tr>\n",
       "    <tr>\n",
       "      <th>3</th>\n",
       "      <td>1</td>\n",
       "      <td>1</td>\n",
       "      <td>tab:orange</td>\n",
       "    </tr>\n",
       "    <tr>\n",
       "      <th>4</th>\n",
       "      <td>9</td>\n",
       "      <td>9</td>\n",
       "      <td>tab:cyan</td>\n",
       "    </tr>\n",
       "    <tr>\n",
       "      <th>...</th>\n",
       "      <td>...</td>\n",
       "      <td>...</td>\n",
       "      <td>...</td>\n",
       "    </tr>\n",
       "    <tr>\n",
       "      <th>69995</th>\n",
       "      <td>2</td>\n",
       "      <td>2</td>\n",
       "      <td>tab:green</td>\n",
       "    </tr>\n",
       "    <tr>\n",
       "      <th>69996</th>\n",
       "      <td>3</td>\n",
       "      <td>3</td>\n",
       "      <td>tab:red</td>\n",
       "    </tr>\n",
       "    <tr>\n",
       "      <th>69997</th>\n",
       "      <td>4</td>\n",
       "      <td>4</td>\n",
       "      <td>tab:purple</td>\n",
       "    </tr>\n",
       "    <tr>\n",
       "      <th>69998</th>\n",
       "      <td>5</td>\n",
       "      <td>5</td>\n",
       "      <td>tab:brown</td>\n",
       "    </tr>\n",
       "    <tr>\n",
       "      <th>69999</th>\n",
       "      <td>6</td>\n",
       "      <td>6</td>\n",
       "      <td>tab:pink</td>\n",
       "    </tr>\n",
       "  </tbody>\n",
       "</table>\n",
       "<p>70000 rows × 3 columns</p>\n",
       "</div>"
      ],
      "text/plain": [
       "       clusterlabels clusternames      colors\n",
       "0                  5            5   tab:brown\n",
       "1                  0            0    tab:blue\n",
       "2                  4            4  tab:purple\n",
       "3                  1            1  tab:orange\n",
       "4                  9            9    tab:cyan\n",
       "...              ...          ...         ...\n",
       "69995              2            2   tab:green\n",
       "69996              3            3     tab:red\n",
       "69997              4            4  tab:purple\n",
       "69998              5            5   tab:brown\n",
       "69999              6            6    tab:pink\n",
       "\n",
       "[70000 rows x 3 columns]"
      ]
     },
     "execution_count": 35,
     "metadata": {},
     "output_type": "execute_result"
    }
   ],
   "source": [
    "adata_mnist.obs"
   ]
  },
  {
   "cell_type": "markdown",
   "id": "9fe2269e-67d4-4ae1-b5d2-15f23d480fb8",
   "metadata": {},
   "source": [
    "### Copyright notice\n",
    "\n",
    "This notebook uses code adapted from https://github.com/pachterlab/CP_2023, which is subject to the following licence:\n",
    "\n",
    "```\n",
    "BSD 2-Clause License\n",
    "\n",
    "Copyright (c) 2021, Pachter Lab\n",
    "All rights reserved.\n",
    "\n",
    "Redistribution and use in source and binary forms, with or without\n",
    "modification, are permitted provided that the following conditions are met:\n",
    "\n",
    "1. Redistributions of source code must retain the above copyright notice, this\n",
    "   list of conditions and the following disclaimer.\n",
    "\n",
    "2. Redistributions in binary form must reproduce the above copyright notice,\n",
    "   this list of conditions and the following disclaimer in the documentation\n",
    "   and/or other materials provided with the distribution.\n",
    "\n",
    "THIS SOFTWARE IS PROVIDED BY THE COPYRIGHT HOLDERS AND CONTRIBUTORS \"AS IS\"\n",
    "AND ANY EXPRESS OR IMPLIED WARRANTIES, INCLUDING, BUT NOT LIMITED TO, THE\n",
    "IMPLIED WARRANTIES OF MERCHANTABILITY AND FITNESS FOR A PARTICULAR PURPOSE ARE\n",
    "DISCLAIMED. IN NO EVENT SHALL THE COPYRIGHT HOLDER OR CONTRIBUTORS BE LIABLE\n",
    "FOR ANY DIRECT, INDIRECT, INCIDENTAL, SPECIAL, EXEMPLARY, OR CONSEQUENTIAL\n",
    "DAMAGES (INCLUDING, BUT NOT LIMITED TO, PROCUREMENT OF SUBSTITUTE GOODS OR\n",
    "SERVICES; LOSS OF USE, DATA, OR PROFITS; OR BUSINESS INTERRUPTION) HOWEVER\n",
    "CAUSED AND ON ANY THEORY OF LIABILITY, WHETHER IN CONTRACT, STRICT LIABILITY,\n",
    "OR TORT (INCLUDING NEGLIGENCE OR OTHERWISE) ARISING IN ANY WAY OUT OF THE USE\n",
    "OF THIS SOFTWARE, EVEN IF ADVISED OF THE POSSIBILITY OF SUCH DAMAGE.\n",
    "```"
   ]
  },
  {
   "cell_type": "markdown",
   "id": "eba1dd0c-6378-49d8-b0b8-bcb1b795dd03",
   "metadata": {},
   "source": [
    "### Package versions"
   ]
  },
  {
   "cell_type": "code",
   "execution_count": 36,
   "id": "93adc729-7db8-4ad9-859d-af6c8de62809",
   "metadata": {
    "tags": []
   },
   "outputs": [
    {
     "data": {
      "text/plain": [
       "'1.24.3'"
      ]
     },
     "execution_count": 36,
     "metadata": {},
     "output_type": "execute_result"
    }
   ],
   "source": [
    "np.__version__"
   ]
  },
  {
   "cell_type": "code",
   "execution_count": 37,
   "id": "68e09f56-bde1-4c02-8c92-8bb51e3c0ab0",
   "metadata": {
    "tags": []
   },
   "outputs": [
    {
     "data": {
      "text/plain": [
       "'2.2.1'"
      ]
     },
     "execution_count": 37,
     "metadata": {},
     "output_type": "execute_result"
    }
   ],
   "source": [
    "pd.__version__"
   ]
  },
  {
   "cell_type": "code",
   "execution_count": 38,
   "id": "497e142a-40fd-4087-9388-60d71030bca1",
   "metadata": {
    "tags": []
   },
   "outputs": [
    {
     "data": {
      "text/plain": [
       "'0.10.3'"
      ]
     },
     "execution_count": 38,
     "metadata": {},
     "output_type": "execute_result"
    }
   ],
   "source": [
    "anndata.__version__"
   ]
  },
  {
   "cell_type": "code",
   "execution_count": 39,
   "id": "57f410e4-87b5-44e5-a008-5690d402aacd",
   "metadata": {
    "tags": []
   },
   "outputs": [
    {
     "data": {
      "text/plain": [
       "'1.9.6'"
      ]
     },
     "execution_count": 39,
     "metadata": {},
     "output_type": "execute_result"
    }
   ],
   "source": [
    "sc.__version__"
   ]
  },
  {
   "cell_type": "code",
   "execution_count": 40,
   "id": "8a9aeaa3-0027-48ee-b323-63873f0f4d25",
   "metadata": {
    "tags": []
   },
   "outputs": [
    {
     "data": {
      "text/plain": [
       "'1.11.1'"
      ]
     },
     "execution_count": 40,
     "metadata": {},
     "output_type": "execute_result"
    }
   ],
   "source": [
    "import scipy; scipy.__version__"
   ]
  },
  {
   "cell_type": "code",
   "execution_count": 41,
   "id": "729d6c83-8db5-4869-92ad-1612cc10410d",
   "metadata": {
    "tags": []
   },
   "outputs": [
    {
     "data": {
      "text/plain": [
       "'2.31.0'"
      ]
     },
     "execution_count": 41,
     "metadata": {},
     "output_type": "execute_result"
    }
   ],
   "source": [
    "requests.__version__"
   ]
  },
  {
   "cell_type": "code",
   "execution_count": 42,
   "id": "8403c1e0-f065-4d49-ada6-0ff6760c09d4",
   "metadata": {
    "tags": []
   },
   "outputs": [
    {
     "data": {
      "text/plain": [
       "'4.66.2'"
      ]
     },
     "execution_count": 42,
     "metadata": {},
     "output_type": "execute_result"
    }
   ],
   "source": [
    "import tqdm; tqdm.__version__"
   ]
  }
 ],
 "metadata": {
  "kernelspec": {
   "display_name": "Python 3 (ipykernel)",
   "language": "python",
   "name": "python3"
  },
  "language_info": {
   "codemirror_mode": {
    "name": "ipython",
    "version": 3
   },
   "file_extension": ".py",
   "mimetype": "text/x-python",
   "name": "python",
   "nbconvert_exporter": "python",
   "pygments_lexer": "ipython3",
   "version": "3.11.5"
  },
  "toc-autonumbering": true
 },
 "nbformat": 4,
 "nbformat_minor": 5
}
