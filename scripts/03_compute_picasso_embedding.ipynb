{
 "cells": [
  {
   "cell_type": "code",
   "execution_count": 1,
   "id": "112d97af",
   "metadata": {},
   "outputs": [],
   "source": [
    "from src.picasso.Picasso import Picasso\n",
    "import numpy as np\n",
    "import matplotlib.pyplot as plt\n",
    "import anndata"
   ]
  },
  {
   "cell_type": "markdown",
   "id": "15c58762-5642-4839-bd7c-06f29e4d04e8",
   "metadata": {},
   "source": [
    "## Package versions"
   ]
  },
  {
   "cell_type": "code",
   "execution_count": 2,
   "id": "a17e163e-32a8-4a7b-9ee3-c33b4b5bea2a",
   "metadata": {
    "tags": []
   },
   "outputs": [
    {
     "data": {
      "text/plain": [
       "'1.21.0'"
      ]
     },
     "execution_count": 2,
     "metadata": {},
     "output_type": "execute_result"
    }
   ],
   "source": [
    "np.__version__"
   ]
  },
  {
   "cell_type": "code",
   "execution_count": 3,
   "id": "22c1f3ee-b8c1-4e95-9f80-cad889de7c37",
   "metadata": {
    "tags": []
   },
   "outputs": [
    {
     "data": {
      "text/plain": [
       "'0.8.0'"
      ]
     },
     "execution_count": 3,
     "metadata": {},
     "output_type": "execute_result"
    }
   ],
   "source": [
    "anndata.__version__"
   ]
  },
  {
   "cell_type": "code",
   "execution_count": 4,
   "id": "3e558ff0-1a09-4178-919b-d87bea3a99e5",
   "metadata": {
    "tags": []
   },
   "outputs": [
    {
     "data": {
      "text/plain": [
       "'3.4.2'"
      ]
     },
     "execution_count": 4,
     "metadata": {},
     "output_type": "execute_result"
    }
   ],
   "source": [
    "import matplotlib; matplotlib.__version__"
   ]
  },
  {
   "cell_type": "markdown",
   "id": "f4ab18f4",
   "metadata": {},
   "source": [
    "### Code snippet from `CP_2023/notebooks/picassoAnalysis_Fig7/uteroPicassoAnalysis.ipynb`"
   ]
  },
  {
   "cell_type": "code",
   "execution_count": 5,
   "id": "cfbaa620",
   "metadata": {},
   "outputs": [
    {
     "data": {
      "image/png": "[encoded data removed]",
      "text/plain": [
       "<Figure size 432x288 with 1 Axes>"
      ]
     },
     "metadata": {
      "needs_background": "light"
     },
     "output_type": "display_data"
    }
   ],
   "source": [
    "# elephant parameters -- see https://www.johndcook.com/blog/2011/06/21/how-to-fit-an-elephant/ --\n",
    "batch_size = 128\n",
    "\n",
    "p1, p2, p3, p4 = (50 - 30j, 18 +  8j, 12 - 10j, -14 - 60j )\n",
    "p5 = 40 + 20j # eyepiece\n",
    "\n",
    "def fourier(t, C):\n",
    "    f = np.zeros(t.shape)\n",
    "    A, B = C.real, C.imag\n",
    "    for k in range(len(C)):\n",
    "        f = f + A[k]*np.cos(k*t) + B[k]*np.sin(k*t)\n",
    "    return f\n",
    "\n",
    "def elephant(t, p1, p2, p3, p4, p5):\n",
    "    npar = 6\n",
    "    Cx = np.zeros((npar,), dtype='complex')\n",
    "    Cy = np.zeros((npar,), dtype='complex')\n",
    "\n",
    "    Cx[1] = p1.real*1j\n",
    "    Cx[2] = p2.real*1j\n",
    "    Cx[3] = p3.real\n",
    "    Cx[5] = p4.real\n",
    "\n",
    "    Cy[1] = p4.imag + p1.imag*1j\n",
    "    Cy[2] = p2.imag*1j\n",
    "    Cy[3] = p3.imag*1j\n",
    "\n",
    "    x = fourier(t,Cx)\n",
    "    y = fourier(t,Cy)\n",
    "\n",
    "    return x,y\n",
    "\n",
    "x, y = elephant(np.linspace(0,2*np.pi,batch_size), p1, p2, p3, p4, p5)\n",
    "\n",
    "#Make array input for dimension of shape\n",
    "\n",
    "y = y\n",
    "x = x\n",
    "\n",
    "coords = np.array([list(y),list(-x)])\n",
    "\n",
    "plt.plot(y,-x,'.',c='black')\n",
    "plt.show()\n"
   ]
  },
  {
   "cell_type": "code",
   "execution_count": 6,
   "id": "fa48cf1e",
   "metadata": {},
   "outputs": [],
   "source": [
    "adata_exut=anndata.read_h5ad(\"../results/embeddings/exut_adata_standard_embeddings.h5ad\")\n",
    "adata_sim=anndata.read_h5ad(\"../results/embeddings/exut-sim-theta-10-real-seqdepths_adata_standard_embeddings.h5ad\")\n",
    "adata_merfish=anndata.read_h5ad(\"../results/embeddings/merfish_adata_standard_embeddings.h5ad\")\n",
    "adata_smartseq=anndata.read_h5ad(\"../results/embeddings/smartseq_adata_standard_embeddings.h5ad\")\n",
    "adata_mnist=anndata.read_h5ad(\"../results/embeddings/mnist_adata_standard_embeddings.h5ad\")\n",
    "datasets=[adata_exut,adata_merfish,adata_smartseq,adata_mnist,adata_sim]"
   ]
  },
  {
   "cell_type": "code",
   "execution_count": null,
   "id": "99ec7cb0-53a1-456d-b63e-149c0e6e0ae8",
   "metadata": {
    "scrolled": true
   },
   "outputs": [],
   "source": [
    "epochs = 500\n",
    "\n",
    "for ad in datasets:\n",
    "\n",
    "    dataset=ad.uns['dataset']\n",
    "    seeds = ad.uns['seeds']\n",
    "    \n",
    "    #compute for scaled and unscaled data for main datasets\n",
    "    if dataset in ['exut','merfish','smartseq']:\n",
    "        use_scaled_modes = [False, True]\n",
    "        print('running on scaled and unscaled data for', dataset)\n",
    "        \n",
    "    #only use unscaled for additional datasets\n",
    "    else:\n",
    "        use_scaled_modes = [False]\n",
    "        print('running only on unscaled data for', dataset)\n",
    "        \n",
    "    for use_scaled in use_scaled_modes:\n",
    "        \n",
    "        if use_scaled:\n",
    "            x_hd = ad.layers['X_scaled']\n",
    "            scaled_str = '_scaled'\n",
    "        else:\n",
    "            x_hd = ad.X\n",
    "            scaled_str = ''        \n",
    "    \n",
    "        #Run Picasso\n",
    "        for seed in seeds:\n",
    "\n",
    "            print(dataset, 'seed:', seed, 'scaled:', use_scaled)\n",
    "            \n",
    "            \n",
    "            #fit\n",
    "            picasso = Picasso(seed=seed,n_latent = 2, epochs = epochs, batch_size = batch_size)\n",
    "            losses, x_elephant = picasso.fit(x_hd, coords, silent=False,ret_loss=True)\n",
    "            \n",
    "            \n",
    "            #save\n",
    "            ad.obsm[f'x{scaled_str}_elephant_seed_{seed}'] = x_elephant\n",
    "            ad.uns[f'loss_x{scaled_str}_elephant_seed_{seed}'] = losses\n",
    "            id_str = f'seed_{seed}_epochs_{epochs}'\n",
    "            np.save(f'../results/embeddings/npy/{dataset}_x{scaled_str}_elephant_losses_{id_str}.npy',losses,allow_pickle=False)\n",
    "            np.save(f'../results/embeddings/npy/{dataset}_x{scaled_str}_elephant_{id_str}.npy',x_elephant,allow_pickle=False)\n",
    "            \n",
    "            \n",
    "            #plot\n",
    "            plt.figure(figsize=(20,5))\n",
    "            plt.subplot(141)  \n",
    "            plt.plot(losses[:,0])\n",
    "            plt.title('Boundary loss')\n",
    "            plt.subplot(142)    \n",
    "            plt.plot(losses[:,1])\n",
    "            plt.title('Reconstruction loss')\n",
    "            plt.subplot(143)    \n",
    "            plt.plot(losses[:,2])\n",
    "            plt.title('Total loss')\n",
    "            plt.subplot(144)    \n",
    "            plt.scatter(*x_elephant.T,s=3,lw=0)\n",
    "            plt.gca().axis('off')\n",
    "            plt.gca().set_aspect('equal')\n",
    "            plt.show()\n",
    "    \n",
    "    ad.uns[f'params_elephant'] = dict(epochs=epochs)\n",
    "    ad.write_h5ad(f\"../results/embeddings/{dataset}_adata_all_embeddings.h5ad\")"
   ]
  }
 ],
 "metadata": {
  "kernelspec": {
   "display_name": "Python 3",
   "language": "python",
   "name": "python3"
  },
  "language_info": {
   "codemirror_mode": {
    "name": "ipython",
    "version": 3
   },
   "file_extension": ".py",
   "mimetype": "text/x-python",
   "name": "python",
   "nbconvert_exporter": "python",
   "pygments_lexer": "ipython3",
   "version": "3.7.10"
  }
 },
 "nbformat": 4,
 "nbformat_minor": 5
}
