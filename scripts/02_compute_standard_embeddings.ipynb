{
 "cells": [
  {
   "cell_type": "code",
   "execution_count": 1,
   "id": "a1338ec2-a3ba-42e1-82d8-c6213b531a2a",
   "metadata": {
    "tags": []
   },
   "outputs": [
    {
     "name": "stderr",
     "output_type": "stream",
     "text": [
      "/home/jan/anaconda3/envs/elephant_analysis_env2/lib/python3.11/site-packages/tqdm/auto.py:21: TqdmWarning: IProgress not found. Please update jupyter and ipywidgets. See https://ipywidgets.readthedocs.io/en/stable/user_install.html\n",
      "  from .autonotebook import tqdm as notebook_tqdm\n"
     ]
    }
   ],
   "source": [
    "import numpy as np\n",
    "import anndata\n",
    "\n",
    "from sklearn.decomposition import PCA\n",
    "from umap import UMAP\n",
    "from openTSNE import TSNE"
   ]
  },
  {
   "cell_type": "markdown",
   "id": "7d90cf10-db51-42e7-bb99-49f7a0cf76ac",
   "metadata": {},
   "source": [
    "### Load datasets"
   ]
  },
  {
   "cell_type": "code",
   "execution_count": 2,
   "id": "82dfd32d-bf36-4125-8759-c705b0784b57",
   "metadata": {
    "tags": []
   },
   "outputs": [],
   "source": [
    "adata_exut=anndata.read_h5ad(\"../data/preprocessed/exut_adata.h5ad\")\n",
    "adata_merfish=anndata.read_h5ad(\"../data/preprocessed/merfish_adata.h5ad\")\n",
    "adata_smartseq=anndata.read_h5ad(\"../data/preprocessed/smartseq_adata.h5ad\")\n",
    "adata_mnist=anndata.read_h5ad(\"../data/preprocessed/mnist_adata.h5ad\")\n",
    "\n",
    "datasets = [adata_exut,adata_merfish,adata_smartseq,adata_mnist]"
   ]
  },
  {
   "cell_type": "code",
   "execution_count": 3,
   "id": "81983707-728b-4d1b-88e0-df64ccbdb637",
   "metadata": {
    "tags": []
   },
   "outputs": [
    {
     "name": "stdout",
     "output_type": "stream",
     "text": [
      "exut 19\n",
      "merfish 25\n",
      "smartseq 28\n",
      "mnist 10\n"
     ]
    }
   ],
   "source": [
    "#number of classes per dataset\n",
    "for ad in datasets:\n",
    "    print(ad.uns['dataset'],len(np.unique(ad.obs['clusterlabels'])),sep=' ')"
   ]
  },
  {
   "cell_type": "code",
   "execution_count": 4,
   "id": "c6045375-e47b-4fbb-85c7-ecf264b6e796",
   "metadata": {
    "tags": []
   },
   "outputs": [],
   "source": [
    "def compute_embeddings(ad,seeds):\n",
    "    \n",
    "    dataset = ad.uns['dataset']\n",
    "    \n",
    "    #compute for scaled and unscaled data\n",
    "    for use_scaled in [False, True]:\n",
    "        \n",
    "        if use_scaled:\n",
    "            x_hd = ad.layers['X_scaled']\n",
    "            scaled_str = '_scaled'\n",
    "        else:\n",
    "            x_hd = ad.X\n",
    "            scaled_str = ''\n",
    "        \n",
    "        for i,seed in enumerate(seeds):\n",
    "\n",
    "            print(dataset, 'seed:', seed, 'scaled:', use_scaled)\n",
    "\n",
    "            pca2 = PCA(random_state=seed,n_components=2)\n",
    "            pca50 = PCA(random_state=seed,n_components=50)\n",
    "            umap=UMAP(random_state=seed,verbose=True)\n",
    "            tsne=TSNE(random_state=seed,verbose=True)\n",
    "\n",
    "            id_str = f'seed_{seed}'\n",
    "\n",
    "            print('PCA2')\n",
    "            x_pca2 = pca2.fit_transform(x_hd)\n",
    "            print('PCA50')\n",
    "            x_pca50 = pca50.fit_transform(x_hd)\n",
    "            print('UMAP')\n",
    "            x_umap = umap.fit_transform(x_pca50)\n",
    "            print('TSNE')\n",
    "            x_tsne = tsne.fit(x_pca50)\n",
    "\n",
    "            ad.obsm[f'x{scaled_str}_pca2_{id_str}'] = x_pca2\n",
    "            ad.obsm[f'x{scaled_str}_pca50_{id_str}'] = x_pca50\n",
    "            ad.obsm[f'x{scaled_str}_umap_{id_str}'] = x_umap\n",
    "            ad.obsm[f'x{scaled_str}_tsne_{id_str}'] = np.array(x_tsne)\n",
    "\n",
    "            np.save(f'../results/embeddings/npy/{dataset}_x{scaled_str}_pca2_{id_str}.npy',x_pca2,allow_pickle=False)\n",
    "            np.save(f'../results/embeddings/npy/{dataset}_x{scaled_str}_pca50_{id_str}.npy',x_pca50,allow_pickle=False)\n",
    "            np.save(f'../results/embeddings/npy/{dataset}_x{scaled_str}_umap_{id_str}.npy',x_umap,allow_pickle=False)\n",
    "            np.save(f'../results/embeddings/npy/{dataset}_x{scaled_str}_tsne_{id_str}.npy',x_tsne,allow_pickle=False)\n",
    "    \n",
    "    ad.uns['seeds']=seeds\n",
    "    ad.write_h5ad(f'../results/embeddings/{dataset}_adata_standard_embeddings.h5ad')"
   ]
  },
  {
   "cell_type": "code",
   "execution_count": 5,
   "id": "7e0f0dbb-72c5-4d79-b410-cb6cbeb5ce3e",
   "metadata": {
    "tags": []
   },
   "outputs": [
    {
     "name": "stdout",
     "output_type": "stream",
     "text": [
      "exut seed: 0 scaled: False\n",
      "PCA2\n",
      "PCA50\n",
      "UMAP\n",
      "UMAP(random_state=0, verbose=True)\n",
      "Fri Feb 23 21:31:26 2024 Construct fuzzy simplicial set\n",
      "Fri Feb 23 21:31:26 2024 Finding Nearest Neighbors\n",
      "Fri Feb 23 21:31:26 2024 Building RP forest with 9 trees\n"
     ]
    },
    {
     "name": "stderr",
     "output_type": "stream",
     "text": [
      "/home/jan/anaconda3/envs/elephant_analysis_env2/lib/python3.11/site-packages/umap/umap_.py:1943: UserWarning: n_jobs value -1 overridden to 1 by setting random_state. Use no seed for parallelism.\n",
      "  warn(f\"n_jobs value {self.n_jobs} overridden to 1 by setting random_state. Use no seed for parallelism.\")\n"
     ]
    },
    {
     "name": "stdout",
     "output_type": "stream",
     "text": [
      "Fri Feb 23 21:31:28 2024 NN descent for 13 iterations\n",
      "\t 1  /  13\n",
      "\t 2  /  13\n",
      "\t 3  /  13\n",
      "\t 4  /  13\n",
      "\tStopping threshold met -- exiting after 4 iterations\n",
      "Fri Feb 23 21:31:33 2024 Finished Nearest Neighbor Search\n",
      "Fri Feb 23 21:31:34 2024 Construct embedding\n"
     ]
    },
    {
     "name": "stderr",
     "output_type": "stream",
     "text": [
      "Epochs completed:   3%| █▌                                                             13/500 [00:00]"
     ]
    },
    {
     "name": "stdout",
     "output_type": "stream",
     "text": [
      "\tcompleted  0  /  500 epochs\n"
     ]
    },
    {
     "name": "stderr",
     "output_type": "stream",
     "text": [
      "Epochs completed:  13%| ███████▊                                                       63/500 [00:00]"
     ]
    },
    {
     "name": "stdout",
     "output_type": "stream",
     "text": [
      "\tcompleted  50  /  500 epochs\n"
     ]
    },
    {
     "name": "stderr",
     "output_type": "stream",
     "text": [
      "Epochs completed:  23%| █████████████▊                                                113/500 [00:01]"
     ]
    },
    {
     "name": "stdout",
     "output_type": "stream",
     "text": [
      "\tcompleted  100  /  500 epochs\n"
     ]
    },
    {
     "name": "stderr",
     "output_type": "stream",
     "text": [
      "Epochs completed:  33%| ███████████████████▉                                          163/500 [00:01]"
     ]
    },
    {
     "name": "stdout",
     "output_type": "stream",
     "text": [
      "\tcompleted  150  /  500 epochs\n"
     ]
    },
    {
     "name": "stderr",
     "output_type": "stream",
     "text": [
      "Epochs completed:  43%| █████████████████████████▉                                    213/500 [00:02]"
     ]
    },
    {
     "name": "stdout",
     "output_type": "stream",
     "text": [
      "\tcompleted  200  /  500 epochs\n"
     ]
    },
    {
     "name": "stderr",
     "output_type": "stream",
     "text": [
      "Epochs completed:  53%| ████████████████████████████████                              263/500 [00:03]"
     ]
    },
    {
     "name": "stdout",
     "output_type": "stream",
     "text": [
      "\tcompleted  250  /  500 epochs\n"
     ]
    },
    {
     "name": "stderr",
     "output_type": "stream",
     "text": [
      "Epochs completed:  63%| ██████████████████████████████████████▏                       313/500 [00:03]"
     ]
    },
    {
     "name": "stdout",
     "output_type": "stream",
     "text": [
      "\tcompleted  300  /  500 epochs\n"
     ]
    },
    {
     "name": "stderr",
     "output_type": "stream",
     "text": [
      "Epochs completed:  73%| ████████████████████████████████████████████▎                 363/500 [00:04]"
     ]
    },
    {
     "name": "stdout",
     "output_type": "stream",
     "text": [
      "\tcompleted  350  /  500 epochs\n"
     ]
    },
    {
     "name": "stderr",
     "output_type": "stream",
     "text": [
      "Epochs completed:  83%| ██████████████████████████████████████████████████▍           413/500 [00:04]"
     ]
    },
    {
     "name": "stdout",
     "output_type": "stream",
     "text": [
      "\tcompleted  400  /  500 epochs\n"
     ]
    },
    {
     "name": "stderr",
     "output_type": "stream",
     "text": [
      "Epochs completed:  93%| ████████████████████████████████████████████████████████▍     463/500 [00:05]"
     ]
    },
    {
     "name": "stdout",
     "output_type": "stream",
     "text": [
      "\tcompleted  450  /  500 epochs\n"
     ]
    },
    {
     "name": "stderr",
     "output_type": "stream",
     "text": [
      "Epochs completed: 100%| █████████████████████████████████████████████████████████████ 500/500 [00:05]\n"
     ]
    },
    {
     "name": "stdout",
     "output_type": "stream",
     "text": [
      "Fri Feb 23 21:31:40 2024 Finished embedding\n",
      "TSNE\n",
      "--------------------------------------------------------------------------------\n",
      "TSNE(early_exaggeration=12, random_state=0, verbose=True)\n",
      "--------------------------------------------------------------------------------\n",
      "===> Finding 90 nearest neighbors using Annoy approximate search using euclidean distance...\n",
      "   --> Time elapsed: 1.47 seconds\n",
      "===> Calculating affinity matrix...\n",
      "   --> Time elapsed: 0.13 seconds\n",
      "===> Calculating PCA-based initialization...\n",
      "   --> Time elapsed: 0.01 seconds\n",
      "===> Running optimization with exaggeration=12.00, lr=517.08 for 250 iterations...\n",
      "Iteration   50, KL divergence 3.5645, 50 iterations in 4.8711 sec\n",
      "Iteration  100, KL divergence 3.4640, 50 iterations in 4.4144 sec\n",
      "Iteration  150, KL divergence 3.4262, 50 iterations in 4.2579 sec\n",
      "Iteration  200, KL divergence 3.4112, 50 iterations in 4.2745 sec\n",
      "Iteration  250, KL divergence 3.4031, 50 iterations in 4.2034 sec\n",
      "   --> Time elapsed: 22.02 seconds\n",
      "===> Running optimization with exaggeration=1.00, lr=6205.00 for 500 iterations...\n",
      "Iteration   50, KL divergence 1.6155, 50 iterations in 4.2034 sec\n",
      "Iteration  100, KL divergence 1.4664, 50 iterations in 4.1382 sec\n",
      "Iteration  150, KL divergence 1.4061, 50 iterations in 4.1702 sec\n",
      "Iteration  200, KL divergence 1.3722, 50 iterations in 4.2220 sec\n",
      "Iteration  250, KL divergence 1.3506, 50 iterations in 4.1465 sec\n",
      "Iteration  300, KL divergence 1.3350, 50 iterations in 4.1809 sec\n",
      "Iteration  350, KL divergence 1.3231, 50 iterations in 4.1890 sec\n",
      "Iteration  400, KL divergence 1.3140, 50 iterations in 4.1826 sec\n",
      "Iteration  450, KL divergence 1.3067, 50 iterations in 4.2437 sec\n",
      "Iteration  500, KL divergence 1.3008, 50 iterations in 4.2091 sec\n",
      "   --> Time elapsed: 41.89 seconds\n",
      "exut seed: 1 scaled: False\n",
      "PCA2\n",
      "PCA50\n",
      "UMAP\n",
      "UMAP(random_state=1, verbose=True)\n",
      "Fri Feb 23 21:32:46 2024 Construct fuzzy simplicial set\n",
      "Fri Feb 23 21:32:46 2024 Finding Nearest Neighbors\n",
      "Fri Feb 23 21:32:46 2024 Building RP forest with 9 trees\n",
      "Fri Feb 23 21:32:46 2024 NN descent for 13 iterations\n",
      "\t 1  /  13\n",
      "\t 2  /  13\n",
      "\t 3  /  13\n",
      "\t 4  /  13\n",
      "\tStopping threshold met -- exiting after 4 iterations\n",
      "Fri Feb 23 21:32:46 2024 Finished Nearest Neighbor Search\n"
     ]
    },
    {
     "name": "stderr",
     "output_type": "stream",
     "text": [
      "/home/jan/anaconda3/envs/elephant_analysis_env2/lib/python3.11/site-packages/umap/umap_.py:1943: UserWarning: n_jobs value -1 overridden to 1 by setting random_state. Use no seed for parallelism.\n",
      "  warn(f\"n_jobs value {self.n_jobs} overridden to 1 by setting random_state. Use no seed for parallelism.\")\n"
     ]
    },
    {
     "name": "stdout",
     "output_type": "stream",
     "text": [
      "Fri Feb 23 21:32:46 2024 Construct embedding\n"
     ]
    },
    {
     "name": "stderr",
     "output_type": "stream",
     "text": [
      "Epochs completed:   3%| █▋                                                             14/500 [00:00]"
     ]
    },
    {
     "name": "stdout",
     "output_type": "stream",
     "text": [
      "\tcompleted  0  /  500 epochs\n"
     ]
    },
    {
     "name": "stderr",
     "output_type": "stream",
     "text": [
      "Epochs completed:  14%| ████████▋                                                      70/500 [00:01]"
     ]
    },
    {
     "name": "stdout",
     "output_type": "stream",
     "text": [
      "\tcompleted  50  /  500 epochs\n"
     ]
    },
    {
     "name": "stderr",
     "output_type": "stream",
     "text": [
      "Epochs completed:  23%| ██████████████▏                                               116/500 [00:01]"
     ]
    },
    {
     "name": "stdout",
     "output_type": "stream",
     "text": [
      "\tcompleted  100  /  500 epochs\n"
     ]
    },
    {
     "name": "stderr",
     "output_type": "stream",
     "text": [
      "Epochs completed:  34%| ████████████████████▉                                         172/500 [00:01]"
     ]
    },
    {
     "name": "stdout",
     "output_type": "stream",
     "text": [
      "\tcompleted  150  /  500 epochs\n"
     ]
    },
    {
     "name": "stderr",
     "output_type": "stream",
     "text": [
      "Epochs completed:  43%| ██████████████████████████▍                                   217/500 [00:02]"
     ]
    },
    {
     "name": "stdout",
     "output_type": "stream",
     "text": [
      "\tcompleted  200  /  500 epochs\n"
     ]
    },
    {
     "name": "stderr",
     "output_type": "stream",
     "text": [
      "Epochs completed:  55%| █████████████████████████████████▍                            274/500 [00:02]"
     ]
    },
    {
     "name": "stdout",
     "output_type": "stream",
     "text": [
      "\tcompleted  250  /  500 epochs\n"
     ]
    },
    {
     "name": "stderr",
     "output_type": "stream",
     "text": [
      "Epochs completed:  64%| ███████████████████████████████████████▏                      321/500 [00:03]"
     ]
    },
    {
     "name": "stdout",
     "output_type": "stream",
     "text": [
      "\tcompleted  300  /  500 epochs\n"
     ]
    },
    {
     "name": "stderr",
     "output_type": "stream",
     "text": [
      "Epochs completed:  73%| ████████████████████████████████████████████▌                 365/500 [00:03]"
     ]
    },
    {
     "name": "stdout",
     "output_type": "stream",
     "text": [
      "\tcompleted  350  /  500 epochs\n"
     ]
    },
    {
     "name": "stderr",
     "output_type": "stream",
     "text": [
      "Epochs completed:  84%| ███████████████████████████████████████████████████▎          421/500 [00:04]"
     ]
    },
    {
     "name": "stdout",
     "output_type": "stream",
     "text": [
      "\tcompleted  400  /  500 epochs\n"
     ]
    },
    {
     "name": "stderr",
     "output_type": "stream",
     "text": [
      "Epochs completed:  93%| ████████████████████████████████████████████████████████▊     466/500 [00:04]"
     ]
    },
    {
     "name": "stdout",
     "output_type": "stream",
     "text": [
      "\tcompleted  450  /  500 epochs\n"
     ]
    },
    {
     "name": "stderr",
     "output_type": "stream",
     "text": [
      "Epochs completed: 100%| █████████████████████████████████████████████████████████████ 500/500 [00:04]\n"
     ]
    },
    {
     "name": "stdout",
     "output_type": "stream",
     "text": [
      "Fri Feb 23 21:32:51 2024 Finished embedding\n",
      "TSNE\n",
      "--------------------------------------------------------------------------------\n",
      "TSNE(early_exaggeration=12, random_state=1, verbose=True)\n",
      "--------------------------------------------------------------------------------\n",
      "===> Finding 90 nearest neighbors using Annoy approximate search using euclidean distance...\n",
      "   --> Time elapsed: 1.39 seconds\n",
      "===> Calculating affinity matrix...\n",
      "   --> Time elapsed: 0.08 seconds\n",
      "===> Calculating PCA-based initialization...\n",
      "   --> Time elapsed: 0.01 seconds\n",
      "===> Running optimization with exaggeration=12.00, lr=517.08 for 250 iterations...\n",
      "Iteration   50, KL divergence 3.5535, 50 iterations in 4.9587 sec\n",
      "Iteration  100, KL divergence 3.4676, 50 iterations in 4.3676 sec\n",
      "Iteration  150, KL divergence 3.4309, 50 iterations in 4.2803 sec\n",
      "Iteration  200, KL divergence 3.4150, 50 iterations in 4.2840 sec\n",
      "Iteration  250, KL divergence 3.4057, 50 iterations in 4.2117 sec\n",
      "   --> Time elapsed: 22.10 seconds\n",
      "===> Running optimization with exaggeration=1.00, lr=6205.00 for 500 iterations...\n",
      "Iteration   50, KL divergence 1.6170, 50 iterations in 4.2290 sec\n",
      "Iteration  100, KL divergence 1.4705, 50 iterations in 4.2034 sec\n",
      "Iteration  150, KL divergence 1.4108, 50 iterations in 4.2082 sec\n",
      "Iteration  200, KL divergence 1.3774, 50 iterations in 4.3455 sec\n",
      "Iteration  250, KL divergence 1.3556, 50 iterations in 4.4895 sec\n",
      "Iteration  300, KL divergence 1.3407, 50 iterations in 4.4711 sec\n",
      "Iteration  350, KL divergence 1.3295, 50 iterations in 4.2807 sec\n",
      "Iteration  400, KL divergence 1.3205, 50 iterations in 4.2903 sec\n",
      "Iteration  450, KL divergence 1.3133, 50 iterations in 4.4232 sec\n",
      "Iteration  500, KL divergence 1.3075, 50 iterations in 4.2582 sec\n",
      "   --> Time elapsed: 43.20 seconds\n",
      "exut seed: 2 scaled: False\n",
      "PCA2\n",
      "PCA50\n",
      "UMAP\n",
      "UMAP(random_state=2, verbose=True)\n",
      "Fri Feb 23 21:33:59 2024 Construct fuzzy simplicial set\n",
      "Fri Feb 23 21:33:59 2024 Finding Nearest Neighbors\n",
      "Fri Feb 23 21:33:59 2024 Building RP forest with 9 trees\n",
      "Fri Feb 23 21:33:59 2024 NN descent for 13 iterations\n",
      "\t 1  /  13\n",
      "\t 2  /  13\n",
      "\t 3  /  13\n"
     ]
    },
    {
     "name": "stderr",
     "output_type": "stream",
     "text": [
      "/home/jan/anaconda3/envs/elephant_analysis_env2/lib/python3.11/site-packages/umap/umap_.py:1943: UserWarning: n_jobs value -1 overridden to 1 by setting random_state. Use no seed for parallelism.\n",
      "  warn(f\"n_jobs value {self.n_jobs} overridden to 1 by setting random_state. Use no seed for parallelism.\")\n"
     ]
    },
    {
     "name": "stdout",
     "output_type": "stream",
     "text": [
      "\t 4  /  13\n",
      "\tStopping threshold met -- exiting after 4 iterations\n",
      "Fri Feb 23 21:33:59 2024 Finished Nearest Neighbor Search\n",
      "Fri Feb 23 21:33:59 2024 Construct embedding\n"
     ]
    },
    {
     "name": "stderr",
     "output_type": "stream",
     "text": [
      "Epochs completed:   3%| █▋                                                             14/500 [00:00]"
     ]
    },
    {
     "name": "stdout",
     "output_type": "stream",
     "text": [
      "\tcompleted  0  /  500 epochs\n"
     ]
    },
    {
     "name": "stderr",
     "output_type": "stream",
     "text": [
      "Epochs completed:  14%| ████████▌                                                      69/500 [00:00]"
     ]
    },
    {
     "name": "stdout",
     "output_type": "stream",
     "text": [
      "\tcompleted  50  /  500 epochs\n"
     ]
    },
    {
     "name": "stderr",
     "output_type": "stream",
     "text": [
      "Epochs completed:  23%| █████████████▊                                                113/500 [00:01]"
     ]
    },
    {
     "name": "stdout",
     "output_type": "stream",
     "text": [
      "\tcompleted  100  /  500 epochs\n"
     ]
    },
    {
     "name": "stderr",
     "output_type": "stream",
     "text": [
      "Epochs completed:  34%| ████████████████████▍                                         168/500 [00:01]"
     ]
    },
    {
     "name": "stdout",
     "output_type": "stream",
     "text": [
      "\tcompleted  150  /  500 epochs\n"
     ]
    },
    {
     "name": "stderr",
     "output_type": "stream",
     "text": [
      "Epochs completed:  42%| █████████████████████████▊                                    212/500 [00:02]"
     ]
    },
    {
     "name": "stdout",
     "output_type": "stream",
     "text": [
      "\tcompleted  200  /  500 epochs\n"
     ]
    },
    {
     "name": "stderr",
     "output_type": "stream",
     "text": [
      "Epochs completed:  53%| ████████████████████████████████▌                             267/500 [00:02]"
     ]
    },
    {
     "name": "stdout",
     "output_type": "stream",
     "text": [
      "\tcompleted  250  /  500 epochs\n"
     ]
    },
    {
     "name": "stderr",
     "output_type": "stream",
     "text": [
      "Epochs completed:  64%| ███████████████████████████████████████▎                      322/500 [00:03]"
     ]
    },
    {
     "name": "stdout",
     "output_type": "stream",
     "text": [
      "\tcompleted  300  /  500 epochs\n"
     ]
    },
    {
     "name": "stderr",
     "output_type": "stream",
     "text": [
      "Epochs completed:  73%| ████████████████████████████████████████████▋                 366/500 [00:03]"
     ]
    },
    {
     "name": "stdout",
     "output_type": "stream",
     "text": [
      "\tcompleted  350  /  500 epochs\n"
     ]
    },
    {
     "name": "stderr",
     "output_type": "stream",
     "text": [
      "Epochs completed:  84%| ███████████████████████████████████████████████████▎          421/500 [00:04]"
     ]
    },
    {
     "name": "stdout",
     "output_type": "stream",
     "text": [
      "\tcompleted  400  /  500 epochs\n"
     ]
    },
    {
     "name": "stderr",
     "output_type": "stream",
     "text": [
      "Epochs completed:  93%| ████████████████████████████████████████████████████████▍     463/500 [00:04]"
     ]
    },
    {
     "name": "stdout",
     "output_type": "stream",
     "text": [
      "\tcompleted  450  /  500 epochs\n"
     ]
    },
    {
     "name": "stderr",
     "output_type": "stream",
     "text": [
      "Epochs completed: 100%| █████████████████████████████████████████████████████████████ 500/500 [00:05]\n"
     ]
    },
    {
     "name": "stdout",
     "output_type": "stream",
     "text": [
      "Fri Feb 23 21:34:05 2024 Finished embedding\n",
      "TSNE\n",
      "--------------------------------------------------------------------------------\n",
      "TSNE(early_exaggeration=12, random_state=2, verbose=True)\n",
      "--------------------------------------------------------------------------------\n",
      "===> Finding 90 nearest neighbors using Annoy approximate search using euclidean distance...\n",
      "   --> Time elapsed: 1.41 seconds\n",
      "===> Calculating affinity matrix...\n",
      "   --> Time elapsed: 0.08 seconds\n",
      "===> Calculating PCA-based initialization...\n",
      "   --> Time elapsed: 0.01 seconds\n",
      "===> Running optimization with exaggeration=12.00, lr=517.08 for 250 iterations...\n",
      "Iteration   50, KL divergence 3.5582, 50 iterations in 4.9189 sec\n",
      "Iteration  100, KL divergence 3.4671, 50 iterations in 4.5050 sec\n",
      "Iteration  150, KL divergence 3.4310, 50 iterations in 4.3637 sec\n",
      "Iteration  200, KL divergence 3.4153, 50 iterations in 4.3867 sec\n",
      "Iteration  250, KL divergence 3.4059, 50 iterations in 4.3693 sec\n",
      "   --> Time elapsed: 22.54 seconds\n",
      "===> Running optimization with exaggeration=1.00, lr=6205.00 for 500 iterations...\n",
      "Iteration   50, KL divergence 1.6241, 50 iterations in 4.3111 sec\n",
      "Iteration  100, KL divergence 1.4754, 50 iterations in 4.2469 sec\n",
      "Iteration  150, KL divergence 1.4141, 50 iterations in 4.2264 sec\n",
      "Iteration  200, KL divergence 1.3801, 50 iterations in 4.2568 sec\n",
      "Iteration  250, KL divergence 1.3584, 50 iterations in 4.2096 sec\n",
      "Iteration  300, KL divergence 1.3425, 50 iterations in 4.1696 sec\n",
      "Iteration  350, KL divergence 1.3306, 50 iterations in 4.2021 sec\n",
      "Iteration  400, KL divergence 1.3218, 50 iterations in 4.2359 sec\n",
      "Iteration  450, KL divergence 1.3146, 50 iterations in 4.2346 sec\n",
      "Iteration  500, KL divergence 1.3086, 50 iterations in 4.2131 sec\n",
      "   --> Time elapsed: 42.31 seconds\n",
      "exut seed: 3 scaled: False\n",
      "PCA2\n",
      "PCA50\n",
      "UMAP\n",
      "UMAP(random_state=3, verbose=True)\n",
      "Fri Feb 23 21:35:12 2024 Construct fuzzy simplicial set\n",
      "Fri Feb 23 21:35:12 2024 Finding Nearest Neighbors\n",
      "Fri Feb 23 21:35:12 2024 Building RP forest with 9 trees\n",
      "Fri Feb 23 21:35:12 2024 NN descent for 13 iterations\n",
      "\t 1  /  13\n",
      "\t 2  /  13\n",
      "\t 3  /  13\n",
      "\t 4  /  13\n",
      "\tStopping threshold met -- exiting after 4 iterations\n",
      "Fri Feb 23 21:35:12 2024 Finished Nearest Neighbor Search\n",
      "Fri Feb 23 21:35:12 2024 Construct embedding\n"
     ]
    },
    {
     "name": "stderr",
     "output_type": "stream",
     "text": [
      "/home/jan/anaconda3/envs/elephant_analysis_env2/lib/python3.11/site-packages/umap/umap_.py:1943: UserWarning: n_jobs value -1 overridden to 1 by setting random_state. Use no seed for parallelism.\n",
      "  warn(f\"n_jobs value {self.n_jobs} overridden to 1 by setting random_state. Use no seed for parallelism.\")\n",
      "Epochs completed:   3%| █▌                                                             13/500 [00:00]"
     ]
    },
    {
     "name": "stdout",
     "output_type": "stream",
     "text": [
      "\tcompleted  0  /  500 epochs\n"
     ]
    },
    {
     "name": "stderr",
     "output_type": "stream",
     "text": [
      "Epochs completed:  14%| ████████▍                                                      68/500 [00:00]"
     ]
    },
    {
     "name": "stdout",
     "output_type": "stream",
     "text": [
      "\tcompleted  50  /  500 epochs\n"
     ]
    },
    {
     "name": "stderr",
     "output_type": "stream",
     "text": [
      "Epochs completed:  24%| ██████████████▉                                               122/500 [00:01]"
     ]
    },
    {
     "name": "stdout",
     "output_type": "stream",
     "text": [
      "\tcompleted  100  /  500 epochs\n"
     ]
    },
    {
     "name": "stderr",
     "output_type": "stream",
     "text": [
      "Epochs completed:  33%| ████████████████████▎                                         166/500 [00:01]"
     ]
    },
    {
     "name": "stdout",
     "output_type": "stream",
     "text": [
      "\tcompleted  150  /  500 epochs\n"
     ]
    },
    {
     "name": "stderr",
     "output_type": "stream",
     "text": [
      "Epochs completed:  44%| ██████████████████████████▉                                   221/500 [00:02]"
     ]
    },
    {
     "name": "stdout",
     "output_type": "stream",
     "text": [
      "\tcompleted  200  /  500 epochs\n"
     ]
    },
    {
     "name": "stderr",
     "output_type": "stream",
     "text": [
      "Epochs completed:  53%| ████████████████████████████████▎                             265/500 [00:02]"
     ]
    },
    {
     "name": "stdout",
     "output_type": "stream",
     "text": [
      "\tcompleted  250  /  500 epochs\n"
     ]
    },
    {
     "name": "stderr",
     "output_type": "stream",
     "text": [
      "Epochs completed:  64%| ███████████████████████████████████████                       320/500 [00:03]"
     ]
    },
    {
     "name": "stdout",
     "output_type": "stream",
     "text": [
      "\tcompleted  300  /  500 epochs\n"
     ]
    },
    {
     "name": "stderr",
     "output_type": "stream",
     "text": [
      "Epochs completed:  73%| ████████████████████████████████████████████▎                 363/500 [00:03]"
     ]
    },
    {
     "name": "stdout",
     "output_type": "stream",
     "text": [
      "\tcompleted  350  /  500 epochs\n"
     ]
    },
    {
     "name": "stderr",
     "output_type": "stream",
     "text": [
      "Epochs completed:  84%| ██████████████████████████████████████████████████▉           418/500 [00:04]"
     ]
    },
    {
     "name": "stdout",
     "output_type": "stream",
     "text": [
      "\tcompleted  400  /  500 epochs\n"
     ]
    },
    {
     "name": "stderr",
     "output_type": "stream",
     "text": [
      "Epochs completed:  92%| ████████████████████████████████████████████████████████▎     462/500 [00:04]"
     ]
    },
    {
     "name": "stdout",
     "output_type": "stream",
     "text": [
      "\tcompleted  450  /  500 epochs\n"
     ]
    },
    {
     "name": "stderr",
     "output_type": "stream",
     "text": [
      "Epochs completed: 100%| █████████████████████████████████████████████████████████████ 500/500 [00:05]\n"
     ]
    },
    {
     "name": "stdout",
     "output_type": "stream",
     "text": [
      "Fri Feb 23 21:35:17 2024 Finished embedding\n",
      "TSNE\n",
      "--------------------------------------------------------------------------------\n",
      "TSNE(early_exaggeration=12, random_state=3, verbose=True)\n",
      "--------------------------------------------------------------------------------\n",
      "===> Finding 90 nearest neighbors using Annoy approximate search using euclidean distance...\n",
      "   --> Time elapsed: 1.44 seconds\n",
      "===> Calculating affinity matrix...\n",
      "   --> Time elapsed: 0.08 seconds\n",
      "===> Calculating PCA-based initialization...\n",
      "   --> Time elapsed: 0.01 seconds\n",
      "===> Running optimization with exaggeration=12.00, lr=517.08 for 250 iterations...\n",
      "Iteration   50, KL divergence 3.5693, 50 iterations in 4.9452 sec\n",
      "Iteration  100, KL divergence 3.4628, 50 iterations in 4.4702 sec\n",
      "Iteration  150, KL divergence 3.4235, 50 iterations in 4.2874 sec\n",
      "Iteration  200, KL divergence 3.4079, 50 iterations in 4.2322 sec\n",
      "Iteration  250, KL divergence 3.3997, 50 iterations in 4.1731 sec\n",
      "   --> Time elapsed: 22.11 seconds\n",
      "===> Running optimization with exaggeration=1.00, lr=6205.00 for 500 iterations...\n",
      "Iteration   50, KL divergence 1.6177, 50 iterations in 4.3211 sec\n",
      "Iteration  100, KL divergence 1.4677, 50 iterations in 4.2193 sec\n",
      "Iteration  150, KL divergence 1.4063, 50 iterations in 4.2078 sec\n",
      "Iteration  200, KL divergence 1.3721, 50 iterations in 4.2150 sec\n",
      "Iteration  250, KL divergence 1.3505, 50 iterations in 4.1808 sec\n",
      "Iteration  300, KL divergence 1.3351, 50 iterations in 4.1778 sec\n",
      "Iteration  350, KL divergence 1.3238, 50 iterations in 4.1901 sec\n",
      "Iteration  400, KL divergence 1.3146, 50 iterations in 4.2135 sec\n",
      "Iteration  450, KL divergence 1.3073, 50 iterations in 4.2349 sec\n",
      "Iteration  500, KL divergence 1.3012, 50 iterations in 4.2111 sec\n",
      "   --> Time elapsed: 42.17 seconds\n",
      "exut seed: 4 scaled: False\n",
      "PCA2\n",
      "PCA50\n",
      "UMAP\n",
      "UMAP(random_state=4, verbose=True)\n",
      "Fri Feb 23 21:36:24 2024 Construct fuzzy simplicial set\n",
      "Fri Feb 23 21:36:24 2024 Finding Nearest Neighbors\n",
      "Fri Feb 23 21:36:24 2024 Building RP forest with 9 trees\n",
      "Fri Feb 23 21:36:24 2024 NN descent for 13 iterations\n",
      "\t 1  /  13\n",
      "\t 2  /  13\n",
      "\t 3  /  13\n",
      "\t 4  /  13\n",
      "\tStopping threshold met -- exiting after 4 iterations\n",
      "Fri Feb 23 21:36:24 2024 Finished Nearest Neighbor Search\n",
      "Fri Feb 23 21:36:24 2024 Construct embedding\n"
     ]
    },
    {
     "name": "stderr",
     "output_type": "stream",
     "text": [
      "/home/jan/anaconda3/envs/elephant_analysis_env2/lib/python3.11/site-packages/umap/umap_.py:1943: UserWarning: n_jobs value -1 overridden to 1 by setting random_state. Use no seed for parallelism.\n",
      "  warn(f\"n_jobs value {self.n_jobs} overridden to 1 by setting random_state. Use no seed for parallelism.\")\n",
      "Epochs completed:   3%| █▋                                                             14/500 [00:00]"
     ]
    },
    {
     "name": "stdout",
     "output_type": "stream",
     "text": [
      "\tcompleted  0  /  500 epochs\n"
     ]
    },
    {
     "name": "stderr",
     "output_type": "stream",
     "text": [
      "Epochs completed:  14%| ████████▌                                                      69/500 [00:01]"
     ]
    },
    {
     "name": "stdout",
     "output_type": "stream",
     "text": [
      "\tcompleted  50  /  500 epochs\n"
     ]
    },
    {
     "name": "stderr",
     "output_type": "stream",
     "text": [
      "Epochs completed:  23%| █████████████▊                                                113/500 [00:01]"
     ]
    },
    {
     "name": "stdout",
     "output_type": "stream",
     "text": [
      "\tcompleted  100  /  500 epochs\n"
     ]
    },
    {
     "name": "stderr",
     "output_type": "stream",
     "text": [
      "Epochs completed:  34%| ████████████████████▍                                         168/500 [00:01]"
     ]
    },
    {
     "name": "stdout",
     "output_type": "stream",
     "text": [
      "\tcompleted  150  /  500 epochs\n"
     ]
    },
    {
     "name": "stderr",
     "output_type": "stream",
     "text": [
      "Epochs completed:  42%| █████████████████████████▊                                    212/500 [00:02]"
     ]
    },
    {
     "name": "stdout",
     "output_type": "stream",
     "text": [
      "\tcompleted  200  /  500 epochs\n"
     ]
    },
    {
     "name": "stderr",
     "output_type": "stream",
     "text": [
      "Epochs completed:  53%| ████████████████████████████████▌                             267/500 [00:02]"
     ]
    },
    {
     "name": "stdout",
     "output_type": "stream",
     "text": [
      "\tcompleted  250  /  500 epochs\n"
     ]
    },
    {
     "name": "stderr",
     "output_type": "stream",
     "text": [
      "Epochs completed:  64%| ███████████████████████████████████████▎                      322/500 [00:03]"
     ]
    },
    {
     "name": "stdout",
     "output_type": "stream",
     "text": [
      "\tcompleted  300  /  500 epochs\n"
     ]
    },
    {
     "name": "stderr",
     "output_type": "stream",
     "text": [
      "Epochs completed:  73%| ████████████████████████████████████████████▋                 366/500 [00:03]"
     ]
    },
    {
     "name": "stdout",
     "output_type": "stream",
     "text": [
      "\tcompleted  350  /  500 epochs\n"
     ]
    },
    {
     "name": "stderr",
     "output_type": "stream",
     "text": [
      "Epochs completed:  84%| ███████████████████████████████████████████████████▎          421/500 [00:04]"
     ]
    },
    {
     "name": "stdout",
     "output_type": "stream",
     "text": [
      "\tcompleted  400  /  500 epochs\n"
     ]
    },
    {
     "name": "stderr",
     "output_type": "stream",
     "text": [
      "Epochs completed:  93%| ████████████████████████████████████████████████████████▋     465/500 [00:04]"
     ]
    },
    {
     "name": "stdout",
     "output_type": "stream",
     "text": [
      "\tcompleted  450  /  500 epochs\n"
     ]
    },
    {
     "name": "stderr",
     "output_type": "stream",
     "text": [
      "Epochs completed: 100%| █████████████████████████████████████████████████████████████ 500/500 [00:05]\n"
     ]
    },
    {
     "name": "stdout",
     "output_type": "stream",
     "text": [
      "Fri Feb 23 21:36:29 2024 Finished embedding\n",
      "TSNE\n",
      "--------------------------------------------------------------------------------\n",
      "TSNE(early_exaggeration=12, random_state=4, verbose=True)\n",
      "--------------------------------------------------------------------------------\n",
      "===> Finding 90 nearest neighbors using Annoy approximate search using euclidean distance...\n",
      "   --> Time elapsed: 1.41 seconds\n",
      "===> Calculating affinity matrix...\n",
      "   --> Time elapsed: 0.08 seconds\n",
      "===> Calculating PCA-based initialization...\n",
      "   --> Time elapsed: 0.01 seconds\n",
      "===> Running optimization with exaggeration=12.00, lr=517.08 for 250 iterations...\n",
      "Iteration   50, KL divergence 3.5529, 50 iterations in 4.9068 sec\n",
      "Iteration  100, KL divergence 3.4593, 50 iterations in 4.3844 sec\n",
      "Iteration  150, KL divergence 3.4227, 50 iterations in 4.2185 sec\n",
      "Iteration  200, KL divergence 3.4084, 50 iterations in 4.2196 sec\n",
      "Iteration  250, KL divergence 3.4000, 50 iterations in 4.1816 sec\n",
      "   --> Time elapsed: 21.91 seconds\n",
      "===> Running optimization with exaggeration=1.00, lr=6205.00 for 500 iterations...\n",
      "Iteration   50, KL divergence 1.6218, 50 iterations in 4.3163 sec\n",
      "Iteration  100, KL divergence 1.4712, 50 iterations in 4.2460 sec\n",
      "Iteration  150, KL divergence 1.4102, 50 iterations in 4.2014 sec\n",
      "Iteration  200, KL divergence 1.3758, 50 iterations in 4.1968 sec\n",
      "Iteration  250, KL divergence 1.3537, 50 iterations in 4.1947 sec\n",
      "Iteration  300, KL divergence 1.3382, 50 iterations in 4.1956 sec\n",
      "Iteration  350, KL divergence 1.3265, 50 iterations in 4.1953 sec\n",
      "Iteration  400, KL divergence 1.3175, 50 iterations in 4.2135 sec\n",
      "Iteration  450, KL divergence 1.3102, 50 iterations in 4.2123 sec\n",
      "Iteration  500, KL divergence 1.3042, 50 iterations in 4.2299 sec\n",
      "   --> Time elapsed: 42.20 seconds\n",
      "exut seed: 0 scaled: True\n",
      "PCA2\n",
      "PCA50\n",
      "UMAP\n",
      "UMAP(random_state=0, verbose=True)\n",
      "Fri Feb 23 21:37:36 2024 Construct fuzzy simplicial set\n",
      "Fri Feb 23 21:37:36 2024 Finding Nearest Neighbors\n",
      "Fri Feb 23 21:37:36 2024 Building RP forest with 9 trees\n",
      "Fri Feb 23 21:37:36 2024 NN descent for 13 iterations\n",
      "\t 1  /  13\n",
      "\t 2  /  13\n",
      "\t 3  /  13\n",
      "\t 4  /  13\n",
      "\tStopping threshold met -- exiting after 4 iterations\n",
      "Fri Feb 23 21:37:36 2024 Finished Nearest Neighbor Search\n"
     ]
    },
    {
     "name": "stderr",
     "output_type": "stream",
     "text": [
      "/home/jan/anaconda3/envs/elephant_analysis_env2/lib/python3.11/site-packages/umap/umap_.py:1943: UserWarning: n_jobs value -1 overridden to 1 by setting random_state. Use no seed for parallelism.\n",
      "  warn(f\"n_jobs value {self.n_jobs} overridden to 1 by setting random_state. Use no seed for parallelism.\")\n"
     ]
    },
    {
     "name": "stdout",
     "output_type": "stream",
     "text": [
      "Fri Feb 23 21:37:36 2024 Construct embedding\n"
     ]
    },
    {
     "name": "stderr",
     "output_type": "stream",
     "text": [
      "Epochs completed:   3%| █▌                                                             13/500 [00:00]"
     ]
    },
    {
     "name": "stdout",
     "output_type": "stream",
     "text": [
      "\tcompleted  0  /  500 epochs\n"
     ]
    },
    {
     "name": "stderr",
     "output_type": "stream",
     "text": [
      "Epochs completed:  13%| ███████▊                                                       63/500 [00:00]"
     ]
    },
    {
     "name": "stdout",
     "output_type": "stream",
     "text": [
      "\tcompleted  50  /  500 epochs\n"
     ]
    },
    {
     "name": "stderr",
     "output_type": "stream",
     "text": [
      "Epochs completed:  23%| █████████████▊                                                113/500 [00:01]"
     ]
    },
    {
     "name": "stdout",
     "output_type": "stream",
     "text": [
      "\tcompleted  100  /  500 epochs\n"
     ]
    },
    {
     "name": "stderr",
     "output_type": "stream",
     "text": [
      "Epochs completed:  33%| ███████████████████▉                                          163/500 [00:02]"
     ]
    },
    {
     "name": "stdout",
     "output_type": "stream",
     "text": [
      "\tcompleted  150  /  500 epochs\n"
     ]
    },
    {
     "name": "stderr",
     "output_type": "stream",
     "text": [
      "Epochs completed:  43%| ██████████████████████████▎                                   216/500 [00:02]"
     ]
    },
    {
     "name": "stdout",
     "output_type": "stream",
     "text": [
      "\tcompleted  200  /  500 epochs\n"
     ]
    },
    {
     "name": "stderr",
     "output_type": "stream",
     "text": [
      "Epochs completed:  54%| █████████████████████████████████                             271/500 [00:03]"
     ]
    },
    {
     "name": "stdout",
     "output_type": "stream",
     "text": [
      "\tcompleted  250  /  500 epochs\n"
     ]
    },
    {
     "name": "stderr",
     "output_type": "stream",
     "text": [
      "Epochs completed:  63%| ██████████████████████████████████████▍                       315/500 [00:03]"
     ]
    },
    {
     "name": "stdout",
     "output_type": "stream",
     "text": [
      "\tcompleted  300  /  500 epochs\n"
     ]
    },
    {
     "name": "stderr",
     "output_type": "stream",
     "text": [
      "Epochs completed:  74%| █████████████████████████████████████████████▏                370/500 [00:04]"
     ]
    },
    {
     "name": "stdout",
     "output_type": "stream",
     "text": [
      "\tcompleted  350  /  500 epochs\n"
     ]
    },
    {
     "name": "stderr",
     "output_type": "stream",
     "text": [
      "Epochs completed:  83%| ██████████████████████████████████████████████████▌           414/500 [00:04]"
     ]
    },
    {
     "name": "stdout",
     "output_type": "stream",
     "text": [
      "\tcompleted  400  /  500 epochs\n"
     ]
    },
    {
     "name": "stderr",
     "output_type": "stream",
     "text": [
      "Epochs completed:  94%| █████████████████████████████████████████████████████████▏    469/500 [00:05]"
     ]
    },
    {
     "name": "stdout",
     "output_type": "stream",
     "text": [
      "\tcompleted  450  /  500 epochs\n"
     ]
    },
    {
     "name": "stderr",
     "output_type": "stream",
     "text": [
      "Epochs completed: 100%| █████████████████████████████████████████████████████████████ 500/500 [00:05]\n"
     ]
    },
    {
     "name": "stdout",
     "output_type": "stream",
     "text": [
      "Fri Feb 23 21:37:42 2024 Finished embedding\n",
      "TSNE\n",
      "--------------------------------------------------------------------------------\n",
      "TSNE(early_exaggeration=12, random_state=0, verbose=True)\n",
      "--------------------------------------------------------------------------------\n",
      "===> Finding 90 nearest neighbors using Annoy approximate search using euclidean distance...\n",
      "   --> Time elapsed: 1.45 seconds\n",
      "===> Calculating affinity matrix...\n",
      "   --> Time elapsed: 0.08 seconds\n",
      "===> Calculating PCA-based initialization...\n",
      "   --> Time elapsed: 0.01 seconds\n",
      "===> Running optimization with exaggeration=12.00, lr=517.08 for 250 iterations...\n",
      "Iteration   50, KL divergence 3.3361, 50 iterations in 5.0568 sec\n",
      "Iteration  100, KL divergence 3.2578, 50 iterations in 4.4742 sec\n",
      "Iteration  150, KL divergence 3.2289, 50 iterations in 4.3955 sec\n",
      "Iteration  200, KL divergence 3.2156, 50 iterations in 4.3905 sec\n",
      "Iteration  250, KL divergence 3.2078, 50 iterations in 4.3533 sec\n",
      "   --> Time elapsed: 22.67 seconds\n",
      "===> Running optimization with exaggeration=1.00, lr=6205.00 for 500 iterations...\n",
      "Iteration   50, KL divergence 1.5599, 50 iterations in 4.1751 sec\n",
      "Iteration  100, KL divergence 1.4195, 50 iterations in 4.1614 sec\n",
      "Iteration  150, KL divergence 1.3640, 50 iterations in 4.2169 sec\n",
      "Iteration  200, KL divergence 1.3336, 50 iterations in 4.2089 sec\n",
      "Iteration  250, KL divergence 1.3140, 50 iterations in 4.2007 sec\n",
      "Iteration  300, KL divergence 1.3007, 50 iterations in 4.2101 sec\n",
      "Iteration  350, KL divergence 1.2906, 50 iterations in 4.2301 sec\n",
      "Iteration  400, KL divergence 1.2830, 50 iterations in 4.2243 sec\n",
      "Iteration  450, KL divergence 1.2768, 50 iterations in 4.2252 sec\n",
      "Iteration  500, KL divergence 1.2713, 50 iterations in 4.2393 sec\n",
      "   --> Time elapsed: 42.09 seconds\n",
      "exut seed: 1 scaled: True\n",
      "PCA2\n",
      "PCA50\n",
      "UMAP\n",
      "UMAP(random_state=1, verbose=True)\n",
      "Fri Feb 23 21:38:49 2024 Construct fuzzy simplicial set\n",
      "Fri Feb 23 21:38:49 2024 Finding Nearest Neighbors\n",
      "Fri Feb 23 21:38:49 2024 Building RP forest with 9 trees\n",
      "Fri Feb 23 21:38:49 2024 NN descent for 13 iterations\n",
      "\t 1  /  13\n",
      "\t 2  /  13\n"
     ]
    },
    {
     "name": "stderr",
     "output_type": "stream",
     "text": [
      "/home/jan/anaconda3/envs/elephant_analysis_env2/lib/python3.11/site-packages/umap/umap_.py:1943: UserWarning: n_jobs value -1 overridden to 1 by setting random_state. Use no seed for parallelism.\n",
      "  warn(f\"n_jobs value {self.n_jobs} overridden to 1 by setting random_state. Use no seed for parallelism.\")\n"
     ]
    },
    {
     "name": "stdout",
     "output_type": "stream",
     "text": [
      "\t 3  /  13\n",
      "\t 4  /  13\n",
      "\tStopping threshold met -- exiting after 4 iterations\n",
      "Fri Feb 23 21:38:49 2024 Finished Nearest Neighbor Search\n",
      "Fri Feb 23 21:38:49 2024 Construct embedding\n"
     ]
    },
    {
     "name": "stderr",
     "output_type": "stream",
     "text": [
      "Epochs completed:   2%| █▎                                                             11/500 [00:00]"
     ]
    },
    {
     "name": "stdout",
     "output_type": "stream",
     "text": [
      "\tcompleted  0  /  500 epochs\n"
     ]
    },
    {
     "name": "stderr",
     "output_type": "stream",
     "text": [
      "Epochs completed:  12%| ███████▍                                                       60/500 [00:01]"
     ]
    },
    {
     "name": "stdout",
     "output_type": "stream",
     "text": [
      "\tcompleted  50  /  500 epochs\n"
     ]
    },
    {
     "name": "stderr",
     "output_type": "stream",
     "text": [
      "Epochs completed:  23%| █████████████▉                                                114/500 [00:01]"
     ]
    },
    {
     "name": "stdout",
     "output_type": "stream",
     "text": [
      "\tcompleted  100  /  500 epochs\n"
     ]
    },
    {
     "name": "stderr",
     "output_type": "stream",
     "text": [
      "Epochs completed:  32%| ███████████████████▍                                          159/500 [00:02]"
     ]
    },
    {
     "name": "stdout",
     "output_type": "stream",
     "text": [
      "\tcompleted  150  /  500 epochs\n"
     ]
    },
    {
     "name": "stderr",
     "output_type": "stream",
     "text": [
      "Epochs completed:  42%| █████████████████████████▋                                    211/500 [00:02]"
     ]
    },
    {
     "name": "stdout",
     "output_type": "stream",
     "text": [
      "\tcompleted  200  /  500 epochs\n"
     ]
    },
    {
     "name": "stderr",
     "output_type": "stream",
     "text": [
      "Epochs completed:  53%| ████████████████████████████████▎                             265/500 [00:03]"
     ]
    },
    {
     "name": "stdout",
     "output_type": "stream",
     "text": [
      "\tcompleted  250  /  500 epochs\n"
     ]
    },
    {
     "name": "stderr",
     "output_type": "stream",
     "text": [
      "Epochs completed:  62%| █████████████████████████████████████▊                        310/500 [00:04]"
     ]
    },
    {
     "name": "stdout",
     "output_type": "stream",
     "text": [
      "\tcompleted  300  /  500 epochs\n"
     ]
    },
    {
     "name": "stderr",
     "output_type": "stream",
     "text": [
      "Epochs completed:  73%| ████████████████████████████████████████████▍                 364/500 [00:04]"
     ]
    },
    {
     "name": "stdout",
     "output_type": "stream",
     "text": [
      "\tcompleted  350  /  500 epochs\n"
     ]
    },
    {
     "name": "stderr",
     "output_type": "stream",
     "text": [
      "Epochs completed:  84%| ██████████████████████████████████████████████████▉           418/500 [00:05]"
     ]
    },
    {
     "name": "stdout",
     "output_type": "stream",
     "text": [
      "\tcompleted  400  /  500 epochs\n"
     ]
    },
    {
     "name": "stderr",
     "output_type": "stream",
     "text": [
      "Epochs completed:  92%| ████████████████████████████████████████████████████████▏     461/500 [00:05]"
     ]
    },
    {
     "name": "stdout",
     "output_type": "stream",
     "text": [
      "\tcompleted  450  /  500 epochs\n"
     ]
    },
    {
     "name": "stderr",
     "output_type": "stream",
     "text": [
      "Epochs completed: 100%| █████████████████████████████████████████████████████████████ 500/500 [00:06]\n"
     ]
    },
    {
     "name": "stdout",
     "output_type": "stream",
     "text": [
      "Fri Feb 23 21:38:56 2024 Finished embedding\n",
      "TSNE\n",
      "--------------------------------------------------------------------------------\n",
      "TSNE(early_exaggeration=12, random_state=1, verbose=True)\n",
      "--------------------------------------------------------------------------------\n",
      "===> Finding 90 nearest neighbors using Annoy approximate search using euclidean distance...\n",
      "   --> Time elapsed: 1.41 seconds\n",
      "===> Calculating affinity matrix...\n",
      "   --> Time elapsed: 0.08 seconds\n",
      "===> Calculating PCA-based initialization...\n",
      "   --> Time elapsed: 0.01 seconds\n",
      "===> Running optimization with exaggeration=12.00, lr=517.08 for 250 iterations...\n",
      "Iteration   50, KL divergence 3.3174, 50 iterations in 5.0050 sec\n",
      "Iteration  100, KL divergence 3.2331, 50 iterations in 4.4628 sec\n",
      "Iteration  150, KL divergence 3.2006, 50 iterations in 4.3470 sec\n",
      "Iteration  200, KL divergence 3.1854, 50 iterations in 4.3840 sec\n",
      "Iteration  250, KL divergence 3.1771, 50 iterations in 4.3378 sec\n",
      "   --> Time elapsed: 22.54 seconds\n",
      "===> Running optimization with exaggeration=1.00, lr=6205.00 for 500 iterations...\n",
      "Iteration   50, KL divergence 1.5624, 50 iterations in 4.2834 sec\n",
      "Iteration  100, KL divergence 1.4224, 50 iterations in 4.2208 sec\n",
      "Iteration  150, KL divergence 1.3663, 50 iterations in 4.2483 sec\n",
      "Iteration  200, KL divergence 1.3358, 50 iterations in 4.2822 sec\n",
      "Iteration  250, KL divergence 1.3167, 50 iterations in 4.2683 sec\n",
      "Iteration  300, KL divergence 1.3036, 50 iterations in 4.2607 sec\n",
      "Iteration  350, KL divergence 1.2937, 50 iterations in 4.2304 sec\n",
      "Iteration  400, KL divergence 1.2864, 50 iterations in 4.2222 sec\n",
      "Iteration  450, KL divergence 1.2800, 50 iterations in 4.2237 sec\n",
      "Iteration  500, KL divergence 1.2751, 50 iterations in 4.1998 sec\n",
      "   --> Time elapsed: 42.44 seconds\n",
      "exut seed: 2 scaled: True\n",
      "PCA2\n",
      "PCA50\n",
      "UMAP\n",
      "UMAP(random_state=2, verbose=True)\n",
      "Fri Feb 23 21:40:03 2024 Construct fuzzy simplicial set\n",
      "Fri Feb 23 21:40:03 2024 Finding Nearest Neighbors\n",
      "Fri Feb 23 21:40:03 2024 Building RP forest with 9 trees\n",
      "Fri Feb 23 21:40:03 2024 NN descent for 13 iterations\n",
      "\t 1  /  13\n",
      "\t 2  /  13\n",
      "\t 3  /  13\n",
      "\t 4  /  13\n"
     ]
    },
    {
     "name": "stderr",
     "output_type": "stream",
     "text": [
      "/home/jan/anaconda3/envs/elephant_analysis_env2/lib/python3.11/site-packages/umap/umap_.py:1943: UserWarning: n_jobs value -1 overridden to 1 by setting random_state. Use no seed for parallelism.\n",
      "  warn(f\"n_jobs value {self.n_jobs} overridden to 1 by setting random_state. Use no seed for parallelism.\")\n"
     ]
    },
    {
     "name": "stdout",
     "output_type": "stream",
     "text": [
      "\tStopping threshold met -- exiting after 4 iterations\n",
      "Fri Feb 23 21:40:03 2024 Finished Nearest Neighbor Search\n",
      "Fri Feb 23 21:40:03 2024 Construct embedding\n"
     ]
    },
    {
     "name": "stderr",
     "output_type": "stream",
     "text": [
      "Epochs completed:   3%| █▌                                                             13/500 [00:00]"
     ]
    },
    {
     "name": "stdout",
     "output_type": "stream",
     "text": [
      "\tcompleted  0  /  500 epochs\n"
     ]
    },
    {
     "name": "stderr",
     "output_type": "stream",
     "text": [
      "Epochs completed:  13%| ███████▊                                                       63/500 [00:00]"
     ]
    },
    {
     "name": "stdout",
     "output_type": "stream",
     "text": [
      "\tcompleted  50  /  500 epochs\n"
     ]
    },
    {
     "name": "stderr",
     "output_type": "stream",
     "text": [
      "Epochs completed:  23%| █████████████▊                                                113/500 [00:01]"
     ]
    },
    {
     "name": "stdout",
     "output_type": "stream",
     "text": [
      "\tcompleted  100  /  500 epochs\n"
     ]
    },
    {
     "name": "stderr",
     "output_type": "stream",
     "text": [
      "Epochs completed:  33%| ███████████████████▉                                          163/500 [00:01]"
     ]
    },
    {
     "name": "stdout",
     "output_type": "stream",
     "text": [
      "\tcompleted  150  /  500 epochs\n"
     ]
    },
    {
     "name": "stderr",
     "output_type": "stream",
     "text": [
      "Epochs completed:  43%| █████████████████████████▉                                    213/500 [00:02]"
     ]
    },
    {
     "name": "stdout",
     "output_type": "stream",
     "text": [
      "\tcompleted  200  /  500 epochs\n"
     ]
    },
    {
     "name": "stderr",
     "output_type": "stream",
     "text": [
      "Epochs completed:  53%| ████████████████████████████████                              263/500 [00:03]"
     ]
    },
    {
     "name": "stdout",
     "output_type": "stream",
     "text": [
      "\tcompleted  250  /  500 epochs\n"
     ]
    },
    {
     "name": "stderr",
     "output_type": "stream",
     "text": [
      "Epochs completed:  63%| ██████████████████████████████████████▏                       313/500 [00:03]"
     ]
    },
    {
     "name": "stdout",
     "output_type": "stream",
     "text": [
      "\tcompleted  300  /  500 epochs\n"
     ]
    },
    {
     "name": "stderr",
     "output_type": "stream",
     "text": [
      "Epochs completed:  73%| ████████████████████████████████████████████▍                 364/500 [00:04]"
     ]
    },
    {
     "name": "stdout",
     "output_type": "stream",
     "text": [
      "\tcompleted  350  /  500 epochs\n"
     ]
    },
    {
     "name": "stderr",
     "output_type": "stream",
     "text": [
      "Epochs completed:  84%| ███████████████████████████████████████████████████           419/500 [00:04]"
     ]
    },
    {
     "name": "stdout",
     "output_type": "stream",
     "text": [
      "\tcompleted  400  /  500 epochs\n"
     ]
    },
    {
     "name": "stderr",
     "output_type": "stream",
     "text": [
      "Epochs completed:  93%| ████████████████████████████████████████████████████████▍     463/500 [00:04]"
     ]
    },
    {
     "name": "stdout",
     "output_type": "stream",
     "text": [
      "\tcompleted  450  /  500 epochs\n"
     ]
    },
    {
     "name": "stderr",
     "output_type": "stream",
     "text": [
      "Epochs completed: 100%| █████████████████████████████████████████████████████████████ 500/500 [00:05]\n"
     ]
    },
    {
     "name": "stdout",
     "output_type": "stream",
     "text": [
      "Fri Feb 23 21:40:09 2024 Finished embedding\n",
      "TSNE\n",
      "--------------------------------------------------------------------------------\n",
      "TSNE(early_exaggeration=12, random_state=2, verbose=True)\n",
      "--------------------------------------------------------------------------------\n",
      "===> Finding 90 nearest neighbors using Annoy approximate search using euclidean distance...\n",
      "   --> Time elapsed: 1.40 seconds\n",
      "===> Calculating affinity matrix...\n",
      "   --> Time elapsed: 0.08 seconds\n",
      "===> Calculating PCA-based initialization...\n",
      "   --> Time elapsed: 0.01 seconds\n",
      "===> Running optimization with exaggeration=12.00, lr=517.08 for 250 iterations...\n",
      "Iteration   50, KL divergence 3.3233, 50 iterations in 5.0113 sec\n",
      "Iteration  100, KL divergence 3.2409, 50 iterations in 4.3996 sec\n",
      "Iteration  150, KL divergence 3.2084, 50 iterations in 4.3331 sec\n",
      "Iteration  200, KL divergence 3.1940, 50 iterations in 4.3536 sec\n",
      "Iteration  250, KL divergence 3.1856, 50 iterations in 4.3221 sec\n",
      "   --> Time elapsed: 22.42 seconds\n",
      "===> Running optimization with exaggeration=1.00, lr=6205.00 for 500 iterations...\n",
      "Iteration   50, KL divergence 1.5604, 50 iterations in 4.2716 sec\n",
      "Iteration  100, KL divergence 1.4192, 50 iterations in 4.0891 sec\n",
      "Iteration  150, KL divergence 1.3646, 50 iterations in 4.1342 sec\n",
      "Iteration  200, KL divergence 1.3351, 50 iterations in 4.1934 sec\n",
      "Iteration  250, KL divergence 1.3150, 50 iterations in 4.2185 sec\n",
      "Iteration  300, KL divergence 1.3017, 50 iterations in 4.2825 sec\n",
      "Iteration  350, KL divergence 1.2914, 50 iterations in 4.3802 sec\n",
      "Iteration  400, KL divergence 1.2831, 50 iterations in 4.3250 sec\n",
      "Iteration  450, KL divergence 1.2768, 50 iterations in 4.2894 sec\n",
      "Iteration  500, KL divergence 1.2715, 50 iterations in 4.2510 sec\n",
      "   --> Time elapsed: 42.44 seconds\n",
      "exut seed: 3 scaled: True\n",
      "PCA2\n",
      "PCA50\n",
      "UMAP\n",
      "UMAP(random_state=3, verbose=True)\n",
      "Fri Feb 23 21:41:16 2024 Construct fuzzy simplicial set\n",
      "Fri Feb 23 21:41:16 2024 Finding Nearest Neighbors\n",
      "Fri Feb 23 21:41:16 2024 Building RP forest with 9 trees\n",
      "Fri Feb 23 21:41:16 2024 NN descent for 13 iterations\n",
      "\t 1  /  13\n",
      "\t 2  /  13\n"
     ]
    },
    {
     "name": "stderr",
     "output_type": "stream",
     "text": [
      "/home/jan/anaconda3/envs/elephant_analysis_env2/lib/python3.11/site-packages/umap/umap_.py:1943: UserWarning: n_jobs value -1 overridden to 1 by setting random_state. Use no seed for parallelism.\n",
      "  warn(f\"n_jobs value {self.n_jobs} overridden to 1 by setting random_state. Use no seed for parallelism.\")\n"
     ]
    },
    {
     "name": "stdout",
     "output_type": "stream",
     "text": [
      "\t 3  /  13\n",
      "\t 4  /  13\n",
      "\tStopping threshold met -- exiting after 4 iterations\n",
      "Fri Feb 23 21:41:16 2024 Finished Nearest Neighbor Search\n",
      "Fri Feb 23 21:41:16 2024 Construct embedding\n"
     ]
    },
    {
     "name": "stderr",
     "output_type": "stream",
     "text": [
      "Epochs completed:   3%| █▋                                                             14/500 [00:00]"
     ]
    },
    {
     "name": "stdout",
     "output_type": "stream",
     "text": [
      "\tcompleted  0  /  500 epochs\n"
     ]
    },
    {
     "name": "stderr",
     "output_type": "stream",
     "text": [
      "Epochs completed:  14%| ████████▌                                                      69/500 [00:01]"
     ]
    },
    {
     "name": "stdout",
     "output_type": "stream",
     "text": [
      "\tcompleted  50  /  500 epochs\n"
     ]
    },
    {
     "name": "stderr",
     "output_type": "stream",
     "text": [
      "Epochs completed:  23%| █████████████▊                                                113/500 [00:01]"
     ]
    },
    {
     "name": "stdout",
     "output_type": "stream",
     "text": [
      "\tcompleted  100  /  500 epochs\n"
     ]
    },
    {
     "name": "stderr",
     "output_type": "stream",
     "text": [
      "Epochs completed:  34%| ████████████████████▍                                         168/500 [00:02]"
     ]
    },
    {
     "name": "stdout",
     "output_type": "stream",
     "text": [
      "\tcompleted  150  /  500 epochs\n"
     ]
    },
    {
     "name": "stderr",
     "output_type": "stream",
     "text": [
      "Epochs completed:  42%| █████████████████████████▊                                    212/500 [00:02]"
     ]
    },
    {
     "name": "stdout",
     "output_type": "stream",
     "text": [
      "\tcompleted  200  /  500 epochs\n"
     ]
    },
    {
     "name": "stderr",
     "output_type": "stream",
     "text": [
      "Epochs completed:  53%| ████████████████████████████████▌                             267/500 [00:02]"
     ]
    },
    {
     "name": "stdout",
     "output_type": "stream",
     "text": [
      "\tcompleted  250  /  500 epochs\n"
     ]
    },
    {
     "name": "stderr",
     "output_type": "stream",
     "text": [
      "Epochs completed:  64%| ███████████████████████████████████████▎                      322/500 [00:03]"
     ]
    },
    {
     "name": "stdout",
     "output_type": "stream",
     "text": [
      "\tcompleted  300  /  500 epochs\n"
     ]
    },
    {
     "name": "stderr",
     "output_type": "stream",
     "text": [
      "Epochs completed:  73%| ████████████████████████████████████████████▋                 366/500 [00:03]"
     ]
    },
    {
     "name": "stdout",
     "output_type": "stream",
     "text": [
      "\tcompleted  350  /  500 epochs\n"
     ]
    },
    {
     "name": "stderr",
     "output_type": "stream",
     "text": [
      "Epochs completed:  84%| ███████████████████████████████████████████████████▎          421/500 [00:04]"
     ]
    },
    {
     "name": "stdout",
     "output_type": "stream",
     "text": [
      "\tcompleted  400  /  500 epochs\n"
     ]
    },
    {
     "name": "stderr",
     "output_type": "stream",
     "text": [
      "Epochs completed:  93%| ████████████████████████████████████████████████████████▋     465/500 [00:04]"
     ]
    },
    {
     "name": "stdout",
     "output_type": "stream",
     "text": [
      "\tcompleted  450  /  500 epochs\n"
     ]
    },
    {
     "name": "stderr",
     "output_type": "stream",
     "text": [
      "Epochs completed: 100%| █████████████████████████████████████████████████████████████ 500/500 [00:05]\n"
     ]
    },
    {
     "name": "stdout",
     "output_type": "stream",
     "text": [
      "Fri Feb 23 21:41:21 2024 Finished embedding\n",
      "TSNE\n",
      "--------------------------------------------------------------------------------\n",
      "TSNE(early_exaggeration=12, random_state=3, verbose=True)\n",
      "--------------------------------------------------------------------------------\n",
      "===> Finding 90 nearest neighbors using Annoy approximate search using euclidean distance...\n",
      "   --> Time elapsed: 1.39 seconds\n",
      "===> Calculating affinity matrix...\n",
      "   --> Time elapsed: 0.08 seconds\n",
      "===> Calculating PCA-based initialization...\n",
      "   --> Time elapsed: 0.01 seconds\n",
      "===> Running optimization with exaggeration=12.00, lr=517.08 for 250 iterations...\n",
      "Iteration   50, KL divergence 3.3294, 50 iterations in 4.9834 sec\n",
      "Iteration  100, KL divergence 3.2529, 50 iterations in 4.4032 sec\n",
      "Iteration  150, KL divergence 3.2213, 50 iterations in 4.2730 sec\n",
      "Iteration  200, KL divergence 3.2071, 50 iterations in 4.3265 sec\n",
      "Iteration  250, KL divergence 3.2002, 50 iterations in 4.3037 sec\n",
      "   --> Time elapsed: 22.29 seconds\n",
      "===> Running optimization with exaggeration=1.00, lr=6205.00 for 500 iterations...\n",
      "Iteration   50, KL divergence 1.5596, 50 iterations in 4.2147 sec\n",
      "Iteration  100, KL divergence 1.4207, 50 iterations in 4.1349 sec\n",
      "Iteration  150, KL divergence 1.3656, 50 iterations in 4.1644 sec\n",
      "Iteration  200, KL divergence 1.3355, 50 iterations in 4.1784 sec\n",
      "Iteration  250, KL divergence 1.3168, 50 iterations in 4.1820 sec\n",
      "Iteration  300, KL divergence 1.3040, 50 iterations in 4.2346 sec\n",
      "Iteration  350, KL divergence 1.2944, 50 iterations in 4.2537 sec\n",
      "Iteration  400, KL divergence 1.2868, 50 iterations in 4.2564 sec\n",
      "Iteration  450, KL divergence 1.2807, 50 iterations in 4.2727 sec\n",
      "Iteration  500, KL divergence 1.2753, 50 iterations in 4.2740 sec\n",
      "   --> Time elapsed: 42.17 seconds\n",
      "exut seed: 4 scaled: True\n",
      "PCA2\n",
      "PCA50\n",
      "UMAP\n",
      "UMAP(random_state=4, verbose=True)\n",
      "Fri Feb 23 21:42:28 2024 Construct fuzzy simplicial set\n",
      "Fri Feb 23 21:42:28 2024 Finding Nearest Neighbors\n",
      "Fri Feb 23 21:42:28 2024 Building RP forest with 9 trees\n",
      "Fri Feb 23 21:42:28 2024 NN descent for 13 iterations\n",
      "\t 1  /  13\n",
      "\t 2  /  13\n",
      "\t 3  /  13\n",
      "\t 4  /  13\n",
      "\tStopping threshold met -- exiting after 4 iterations\n",
      "Fri Feb 23 21:42:28 2024 Finished Nearest Neighbor Search\n"
     ]
    },
    {
     "name": "stderr",
     "output_type": "stream",
     "text": [
      "/home/jan/anaconda3/envs/elephant_analysis_env2/lib/python3.11/site-packages/umap/umap_.py:1943: UserWarning: n_jobs value -1 overridden to 1 by setting random_state. Use no seed for parallelism.\n",
      "  warn(f\"n_jobs value {self.n_jobs} overridden to 1 by setting random_state. Use no seed for parallelism.\")\n"
     ]
    },
    {
     "name": "stdout",
     "output_type": "stream",
     "text": [
      "Fri Feb 23 21:42:28 2024 Construct embedding\n"
     ]
    },
    {
     "name": "stderr",
     "output_type": "stream",
     "text": [
      "Epochs completed:   3%| █▌                                                             13/500 [00:00]"
     ]
    },
    {
     "name": "stdout",
     "output_type": "stream",
     "text": [
      "\tcompleted  0  /  500 epochs\n"
     ]
    },
    {
     "name": "stderr",
     "output_type": "stream",
     "text": [
      "Epochs completed:  13%| ███████▊                                                       63/500 [00:00]"
     ]
    },
    {
     "name": "stdout",
     "output_type": "stream",
     "text": [
      "\tcompleted  50  /  500 epochs\n"
     ]
    },
    {
     "name": "stderr",
     "output_type": "stream",
     "text": [
      "Epochs completed:  23%| █████████████▊                                                113/500 [00:01]"
     ]
    },
    {
     "name": "stdout",
     "output_type": "stream",
     "text": [
      "\tcompleted  100  /  500 epochs\n"
     ]
    },
    {
     "name": "stderr",
     "output_type": "stream",
     "text": [
      "Epochs completed:  33%| ███████████████████▉                                          163/500 [00:02]"
     ]
    },
    {
     "name": "stdout",
     "output_type": "stream",
     "text": [
      "\tcompleted  150  /  500 epochs\n"
     ]
    },
    {
     "name": "stderr",
     "output_type": "stream",
     "text": [
      "Epochs completed:  43%| █████████████████████████▉                                    213/500 [00:02]"
     ]
    },
    {
     "name": "stdout",
     "output_type": "stream",
     "text": [
      "\tcompleted  200  /  500 epochs\n"
     ]
    },
    {
     "name": "stderr",
     "output_type": "stream",
     "text": [
      "Epochs completed:  53%| ████████████████████████████████                              263/500 [00:03]"
     ]
    },
    {
     "name": "stdout",
     "output_type": "stream",
     "text": [
      "\tcompleted  250  /  500 epochs\n"
     ]
    },
    {
     "name": "stderr",
     "output_type": "stream",
     "text": [
      "Epochs completed:  63%| ██████████████████████████████████████▏                       313/500 [00:03]"
     ]
    },
    {
     "name": "stdout",
     "output_type": "stream",
     "text": [
      "\tcompleted  300  /  500 epochs\n"
     ]
    },
    {
     "name": "stderr",
     "output_type": "stream",
     "text": [
      "Epochs completed:  73%| ████████████████████████████████████████████▎                 363/500 [00:04]"
     ]
    },
    {
     "name": "stdout",
     "output_type": "stream",
     "text": [
      "\tcompleted  350  /  500 epochs\n"
     ]
    },
    {
     "name": "stderr",
     "output_type": "stream",
     "text": [
      "Epochs completed:  83%| ██████████████████████████████████████████████████▍           413/500 [00:04]"
     ]
    },
    {
     "name": "stdout",
     "output_type": "stream",
     "text": [
      "\tcompleted  400  /  500 epochs\n"
     ]
    },
    {
     "name": "stderr",
     "output_type": "stream",
     "text": [
      "Epochs completed:  93%| ████████████████████████████████████████████████████████▍     463/500 [00:05]"
     ]
    },
    {
     "name": "stdout",
     "output_type": "stream",
     "text": [
      "\tcompleted  450  /  500 epochs\n"
     ]
    },
    {
     "name": "stderr",
     "output_type": "stream",
     "text": [
      "Epochs completed: 100%| █████████████████████████████████████████████████████████████ 500/500 [00:05]\n"
     ]
    },
    {
     "name": "stdout",
     "output_type": "stream",
     "text": [
      "Fri Feb 23 21:42:34 2024 Finished embedding\n",
      "TSNE\n",
      "--------------------------------------------------------------------------------\n",
      "TSNE(early_exaggeration=12, random_state=4, verbose=True)\n",
      "--------------------------------------------------------------------------------\n",
      "===> Finding 90 nearest neighbors using Annoy approximate search using euclidean distance...\n",
      "   --> Time elapsed: 1.46 seconds\n",
      "===> Calculating affinity matrix...\n",
      "   --> Time elapsed: 0.09 seconds\n",
      "===> Calculating PCA-based initialization...\n",
      "   --> Time elapsed: 0.01 seconds\n",
      "===> Running optimization with exaggeration=12.00, lr=517.08 for 250 iterations...\n",
      "Iteration   50, KL divergence 3.3315, 50 iterations in 5.0648 sec\n",
      "Iteration  100, KL divergence 3.2541, 50 iterations in 4.4523 sec\n",
      "Iteration  150, KL divergence 3.2247, 50 iterations in 4.3378 sec\n",
      "Iteration  200, KL divergence 3.2097, 50 iterations in 4.2956 sec\n",
      "Iteration  250, KL divergence 3.2004, 50 iterations in 4.2931 sec\n",
      "   --> Time elapsed: 22.44 seconds\n",
      "===> Running optimization with exaggeration=1.00, lr=6205.00 for 500 iterations...\n",
      "Iteration   50, KL divergence 1.5652, 50 iterations in 4.1723 sec\n",
      "Iteration  100, KL divergence 1.4266, 50 iterations in 4.1282 sec\n",
      "Iteration  150, KL divergence 1.3726, 50 iterations in 4.1311 sec\n",
      "Iteration  200, KL divergence 1.3430, 50 iterations in 4.1656 sec\n",
      "Iteration  250, KL divergence 1.3244, 50 iterations in 4.1625 sec\n",
      "Iteration  300, KL divergence 1.3116, 50 iterations in 4.1595 sec\n",
      "Iteration  350, KL divergence 1.3023, 50 iterations in 4.1676 sec\n",
      "Iteration  400, KL divergence 1.2940, 50 iterations in 4.1832 sec\n",
      "Iteration  450, KL divergence 1.2880, 50 iterations in 4.1841 sec\n",
      "Iteration  500, KL divergence 1.2829, 50 iterations in 4.1980 sec\n",
      "   --> Time elapsed: 41.65 seconds\n",
      "merfish seed: 0 scaled: False\n",
      "PCA2\n",
      "PCA50\n",
      "UMAP\n",
      "UMAP(random_state=0, verbose=True)\n",
      "Fri Feb 23 21:43:40 2024 Construct fuzzy simplicial set\n",
      "Fri Feb 23 21:43:40 2024 Finding Nearest Neighbors\n",
      "Fri Feb 23 21:43:40 2024 Building RP forest with 9 trees\n",
      "Fri Feb 23 21:43:41 2024 NN descent for 13 iterations\n",
      "\t 1  /  13\n"
     ]
    },
    {
     "name": "stderr",
     "output_type": "stream",
     "text": [
      "/home/jan/anaconda3/envs/elephant_analysis_env2/lib/python3.11/site-packages/umap/umap_.py:1943: UserWarning: n_jobs value -1 overridden to 1 by setting random_state. Use no seed for parallelism.\n",
      "  warn(f\"n_jobs value {self.n_jobs} overridden to 1 by setting random_state. Use no seed for parallelism.\")\n"
     ]
    },
    {
     "name": "stdout",
     "output_type": "stream",
     "text": [
      "\t 2  /  13\n",
      "\t 3  /  13\n",
      "\tStopping threshold met -- exiting after 3 iterations\n",
      "Fri Feb 23 21:43:41 2024 Finished Nearest Neighbor Search\n",
      "Fri Feb 23 21:43:41 2024 Construct embedding\n"
     ]
    },
    {
     "name": "stderr",
     "output_type": "stream",
     "text": [
      "Epochs completed:   2%| █▍                                                             12/500 [00:00]"
     ]
    },
    {
     "name": "stdout",
     "output_type": "stream",
     "text": [
      "\tcompleted  0  /  500 epochs\n"
     ]
    },
    {
     "name": "stderr",
     "output_type": "stream",
     "text": [
      "Epochs completed:  13%| ████████▏                                                      66/500 [00:01]"
     ]
    },
    {
     "name": "stdout",
     "output_type": "stream",
     "text": [
      "\tcompleted  50  /  500 epochs\n"
     ]
    },
    {
     "name": "stderr",
     "output_type": "stream",
     "text": [
      "Epochs completed:  22%| █████████████▌                                                111/500 [00:01]"
     ]
    },
    {
     "name": "stdout",
     "output_type": "stream",
     "text": [
      "\tcompleted  100  /  500 epochs\n"
     ]
    },
    {
     "name": "stderr",
     "output_type": "stream",
     "text": [
      "Epochs completed:  33%| ████████████████████▏                                         165/500 [00:02]"
     ]
    },
    {
     "name": "stdout",
     "output_type": "stream",
     "text": [
      "\tcompleted  150  /  500 epochs\n"
     ]
    },
    {
     "name": "stderr",
     "output_type": "stream",
     "text": [
      "Epochs completed:  42%| █████████████████████████▌                                    210/500 [00:02]"
     ]
    },
    {
     "name": "stdout",
     "output_type": "stream",
     "text": [
      "\tcompleted  200  /  500 epochs\n"
     ]
    },
    {
     "name": "stderr",
     "output_type": "stream",
     "text": [
      "Epochs completed:  53%| ████████████████████████████████▏                             264/500 [00:03]"
     ]
    },
    {
     "name": "stdout",
     "output_type": "stream",
     "text": [
      "\tcompleted  250  /  500 epochs\n"
     ]
    },
    {
     "name": "stderr",
     "output_type": "stream",
     "text": [
      "Epochs completed:  64%| ██████████████████████████████████████▊                       318/500 [00:03]"
     ]
    },
    {
     "name": "stdout",
     "output_type": "stream",
     "text": [
      "\tcompleted  300  /  500 epochs\n"
     ]
    },
    {
     "name": "stderr",
     "output_type": "stream",
     "text": [
      "Epochs completed:  73%| ████████████████████████████████████████████▎                 363/500 [00:04]"
     ]
    },
    {
     "name": "stdout",
     "output_type": "stream",
     "text": [
      "\tcompleted  350  /  500 epochs\n"
     ]
    },
    {
     "name": "stderr",
     "output_type": "stream",
     "text": [
      "Epochs completed:  83%| ██████████████████████████████████████████████████▊           417/500 [00:05]"
     ]
    },
    {
     "name": "stdout",
     "output_type": "stream",
     "text": [
      "\tcompleted  400  /  500 epochs\n"
     ]
    },
    {
     "name": "stderr",
     "output_type": "stream",
     "text": [
      "Epochs completed:  92%| ████████████████████████████████████████████████████████▎     462/500 [00:05]"
     ]
    },
    {
     "name": "stdout",
     "output_type": "stream",
     "text": [
      "\tcompleted  450  /  500 epochs\n"
     ]
    },
    {
     "name": "stderr",
     "output_type": "stream",
     "text": [
      "Epochs completed: 100%| █████████████████████████████████████████████████████████████ 500/500 [00:06]\n"
     ]
    },
    {
     "name": "stdout",
     "output_type": "stream",
     "text": [
      "Fri Feb 23 21:43:47 2024 Finished embedding\n",
      "TSNE\n",
      "--------------------------------------------------------------------------------\n",
      "TSNE(early_exaggeration=12, random_state=0, verbose=True)\n",
      "--------------------------------------------------------------------------------\n",
      "===> Finding 90 nearest neighbors using Annoy approximate search using euclidean distance...\n",
      "   --> Time elapsed: 1.61 seconds\n",
      "===> Calculating affinity matrix...\n",
      "   --> Time elapsed: 0.10 seconds\n",
      "===> Calculating PCA-based initialization...\n",
      "   --> Time elapsed: 0.01 seconds\n",
      "===> Running optimization with exaggeration=12.00, lr=580.25 for 250 iterations...\n",
      "Iteration   50, KL divergence 3.3235, 50 iterations in 5.5074 sec\n",
      "Iteration  100, KL divergence 3.1993, 50 iterations in 5.0499 sec\n",
      "Iteration  150, KL divergence 3.1287, 50 iterations in 5.0687 sec\n",
      "Iteration  200, KL divergence 3.0949, 50 iterations in 5.1067 sec\n",
      "Iteration  250, KL divergence 3.0771, 50 iterations in 5.0294 sec\n",
      "   --> Time elapsed: 25.76 seconds\n",
      "===> Running optimization with exaggeration=1.00, lr=6963.00 for 500 iterations...\n",
      "Iteration   50, KL divergence 1.6144, 50 iterations in 4.8254 sec\n",
      "Iteration  100, KL divergence 1.4469, 50 iterations in 4.6802 sec\n",
      "Iteration  150, KL divergence 1.3817, 50 iterations in 4.6921 sec\n",
      "Iteration  200, KL divergence 1.3456, 50 iterations in 4.7106 sec\n",
      "Iteration  250, KL divergence 1.3223, 50 iterations in 4.6821 sec\n",
      "Iteration  300, KL divergence 1.3058, 50 iterations in 4.6827 sec\n",
      "Iteration  350, KL divergence 1.2937, 50 iterations in 4.6965 sec\n",
      "Iteration  400, KL divergence 1.2842, 50 iterations in 4.7140 sec\n",
      "Iteration  450, KL divergence 1.2765, 50 iterations in 4.7344 sec\n",
      "Iteration  500, KL divergence 1.2707, 50 iterations in 4.7559 sec\n",
      "   --> Time elapsed: 47.17 seconds\n",
      "merfish seed: 1 scaled: False\n",
      "PCA2\n",
      "PCA50\n",
      "UMAP\n",
      "UMAP(random_state=1, verbose=True)\n",
      "Fri Feb 23 21:45:02 2024 Construct fuzzy simplicial set\n",
      "Fri Feb 23 21:45:02 2024 Finding Nearest Neighbors\n",
      "Fri Feb 23 21:45:02 2024 Building RP forest with 9 trees\n"
     ]
    },
    {
     "name": "stderr",
     "output_type": "stream",
     "text": [
      "/home/jan/anaconda3/envs/elephant_analysis_env2/lib/python3.11/site-packages/umap/umap_.py:1943: UserWarning: n_jobs value -1 overridden to 1 by setting random_state. Use no seed for parallelism.\n",
      "  warn(f\"n_jobs value {self.n_jobs} overridden to 1 by setting random_state. Use no seed for parallelism.\")\n"
     ]
    },
    {
     "name": "stdout",
     "output_type": "stream",
     "text": [
      "Fri Feb 23 21:45:02 2024 NN descent for 13 iterations\n",
      "\t 1  /  13\n",
      "\t 2  /  13\n",
      "\t 3  /  13\n",
      "\tStopping threshold met -- exiting after 3 iterations\n",
      "Fri Feb 23 21:45:02 2024 Finished Nearest Neighbor Search\n",
      "Fri Feb 23 21:45:02 2024 Construct embedding\n"
     ]
    },
    {
     "name": "stderr",
     "output_type": "stream",
     "text": [
      "Epochs completed:   2%| █▍                                                             12/500 [00:00]"
     ]
    },
    {
     "name": "stdout",
     "output_type": "stream",
     "text": [
      "\tcompleted  0  /  500 epochs\n"
     ]
    },
    {
     "name": "stderr",
     "output_type": "stream",
     "text": [
      "Epochs completed:  13%| ████████▏                                                      66/500 [00:01]"
     ]
    },
    {
     "name": "stdout",
     "output_type": "stream",
     "text": [
      "\tcompleted  50  /  500 epochs\n"
     ]
    },
    {
     "name": "stderr",
     "output_type": "stream",
     "text": [
      "Epochs completed:  22%| █████████████▌                                                111/500 [00:01]"
     ]
    },
    {
     "name": "stdout",
     "output_type": "stream",
     "text": [
      "\tcompleted  100  /  500 epochs\n"
     ]
    },
    {
     "name": "stderr",
     "output_type": "stream",
     "text": [
      "Epochs completed:  33%| ████████████████████▏                                         165/500 [00:02]"
     ]
    },
    {
     "name": "stdout",
     "output_type": "stream",
     "text": [
      "\tcompleted  150  /  500 epochs\n"
     ]
    },
    {
     "name": "stderr",
     "output_type": "stream",
     "text": [
      "Epochs completed:  42%| █████████████████████████▌                                    210/500 [00:02]"
     ]
    },
    {
     "name": "stdout",
     "output_type": "stream",
     "text": [
      "\tcompleted  200  /  500 epochs\n"
     ]
    },
    {
     "name": "stderr",
     "output_type": "stream",
     "text": [
      "Epochs completed:  53%| ████████████████████████████████▏                             264/500 [00:03]"
     ]
    },
    {
     "name": "stdout",
     "output_type": "stream",
     "text": [
      "\tcompleted  250  /  500 epochs\n"
     ]
    },
    {
     "name": "stderr",
     "output_type": "stream",
     "text": [
      "Epochs completed:  64%| ██████████████████████████████████████▊                       318/500 [00:03]"
     ]
    },
    {
     "name": "stdout",
     "output_type": "stream",
     "text": [
      "\tcompleted  300  /  500 epochs\n"
     ]
    },
    {
     "name": "stderr",
     "output_type": "stream",
     "text": [
      "Epochs completed:  73%| ████████████████████████████████████████████▎                 363/500 [00:04]"
     ]
    },
    {
     "name": "stdout",
     "output_type": "stream",
     "text": [
      "\tcompleted  350  /  500 epochs\n"
     ]
    },
    {
     "name": "stderr",
     "output_type": "stream",
     "text": [
      "Epochs completed:  83%| ██████████████████████████████████████████████████▊           417/500 [00:05]"
     ]
    },
    {
     "name": "stdout",
     "output_type": "stream",
     "text": [
      "\tcompleted  400  /  500 epochs\n"
     ]
    },
    {
     "name": "stderr",
     "output_type": "stream",
     "text": [
      "Epochs completed:  92%| ████████████████████████████████████████████████████████▎     462/500 [00:05]"
     ]
    },
    {
     "name": "stdout",
     "output_type": "stream",
     "text": [
      "\tcompleted  450  /  500 epochs\n"
     ]
    },
    {
     "name": "stderr",
     "output_type": "stream",
     "text": [
      "Epochs completed: 100%| █████████████████████████████████████████████████████████████ 500/500 [00:05]\n"
     ]
    },
    {
     "name": "stdout",
     "output_type": "stream",
     "text": [
      "Fri Feb 23 21:45:08 2024 Finished embedding\n",
      "TSNE\n",
      "--------------------------------------------------------------------------------\n",
      "TSNE(early_exaggeration=12, random_state=1, verbose=True)\n",
      "--------------------------------------------------------------------------------\n",
      "===> Finding 90 nearest neighbors using Annoy approximate search using euclidean distance...\n",
      "   --> Time elapsed: 1.61 seconds\n",
      "===> Calculating affinity matrix...\n",
      "   --> Time elapsed: 0.10 seconds\n",
      "===> Calculating PCA-based initialization...\n",
      "   --> Time elapsed: 0.01 seconds\n",
      "===> Running optimization with exaggeration=12.00, lr=580.25 for 250 iterations...\n",
      "Iteration   50, KL divergence 3.3270, 50 iterations in 5.5027 sec\n",
      "Iteration  100, KL divergence 3.2008, 50 iterations in 5.0296 sec\n",
      "Iteration  150, KL divergence 3.1301, 50 iterations in 4.8935 sec\n",
      "Iteration  200, KL divergence 3.0967, 50 iterations in 4.9385 sec\n",
      "Iteration  250, KL divergence 3.0779, 50 iterations in 4.9622 sec\n",
      "   --> Time elapsed: 25.33 seconds\n",
      "===> Running optimization with exaggeration=1.00, lr=6963.00 for 500 iterations...\n",
      "Iteration   50, KL divergence 1.6194, 50 iterations in 4.7833 sec\n",
      "Iteration  100, KL divergence 1.4513, 50 iterations in 4.5823 sec\n",
      "Iteration  150, KL divergence 1.3848, 50 iterations in 4.5689 sec\n",
      "Iteration  200, KL divergence 1.3480, 50 iterations in 4.5962 sec\n",
      "Iteration  250, KL divergence 1.3244, 50 iterations in 4.6389 sec\n",
      "Iteration  300, KL divergence 1.3076, 50 iterations in 4.6267 sec\n",
      "Iteration  350, KL divergence 1.2952, 50 iterations in 4.6502 sec\n",
      "Iteration  400, KL divergence 1.2852, 50 iterations in 4.6943 sec\n",
      "Iteration  450, KL divergence 1.2776, 50 iterations in 4.7452 sec\n",
      "Iteration  500, KL divergence 1.2712, 50 iterations in 4.7301 sec\n",
      "   --> Time elapsed: 46.62 seconds\n",
      "merfish seed: 2 scaled: False\n",
      "PCA2\n",
      "PCA50\n",
      "UMAP\n",
      "UMAP(random_state=2, verbose=True)\n",
      "Fri Feb 23 21:46:22 2024 Construct fuzzy simplicial set\n",
      "Fri Feb 23 21:46:22 2024 Finding Nearest Neighbors\n",
      "Fri Feb 23 21:46:22 2024 Building RP forest with 9 trees\n"
     ]
    },
    {
     "name": "stderr",
     "output_type": "stream",
     "text": [
      "/home/jan/anaconda3/envs/elephant_analysis_env2/lib/python3.11/site-packages/umap/umap_.py:1943: UserWarning: n_jobs value -1 overridden to 1 by setting random_state. Use no seed for parallelism.\n",
      "  warn(f\"n_jobs value {self.n_jobs} overridden to 1 by setting random_state. Use no seed for parallelism.\")\n"
     ]
    },
    {
     "name": "stdout",
     "output_type": "stream",
     "text": [
      "Fri Feb 23 21:46:22 2024 NN descent for 13 iterations\n",
      "\t 1  /  13\n",
      "\t 2  /  13\n",
      "\t 3  /  13\n",
      "\tStopping threshold met -- exiting after 3 iterations\n",
      "Fri Feb 23 21:46:22 2024 Finished Nearest Neighbor Search\n",
      "Fri Feb 23 21:46:22 2024 Construct embedding\n"
     ]
    },
    {
     "name": "stderr",
     "output_type": "stream",
     "text": [
      "Epochs completed:   2%| █▎                                                             11/500 [00:00]"
     ]
    },
    {
     "name": "stdout",
     "output_type": "stream",
     "text": [
      "\tcompleted  0  /  500 epochs\n"
     ]
    },
    {
     "name": "stderr",
     "output_type": "stream",
     "text": [
      "Epochs completed:  12%| ███████▎                                                       59/500 [00:01]"
     ]
    },
    {
     "name": "stdout",
     "output_type": "stream",
     "text": [
      "\tcompleted  50  /  500 epochs\n"
     ]
    },
    {
     "name": "stderr",
     "output_type": "stream",
     "text": [
      "Epochs completed:  23%| ██████████████                                                115/500 [00:01]"
     ]
    },
    {
     "name": "stdout",
     "output_type": "stream",
     "text": [
      "\tcompleted  100  /  500 epochs\n"
     ]
    },
    {
     "name": "stderr",
     "output_type": "stream",
     "text": [
      "Epochs completed:  33%| ███████████████████▉                                          163/500 [00:02]"
     ]
    },
    {
     "name": "stdout",
     "output_type": "stream",
     "text": [
      "\tcompleted  150  /  500 epochs\n"
     ]
    },
    {
     "name": "stderr",
     "output_type": "stream",
     "text": [
      "Epochs completed:  42%| █████████████████████████▋                                    211/500 [00:03]"
     ]
    },
    {
     "name": "stdout",
     "output_type": "stream",
     "text": [
      "\tcompleted  200  /  500 epochs\n"
     ]
    },
    {
     "name": "stderr",
     "output_type": "stream",
     "text": [
      "Epochs completed:  52%| ███████████████████████████████▌                              259/500 [00:03]"
     ]
    },
    {
     "name": "stdout",
     "output_type": "stream",
     "text": [
      "\tcompleted  250  /  500 epochs\n"
     ]
    },
    {
     "name": "stderr",
     "output_type": "stream",
     "text": [
      "Epochs completed:  63%| ██████████████████████████████████████▍                       315/500 [00:04]"
     ]
    },
    {
     "name": "stdout",
     "output_type": "stream",
     "text": [
      "\tcompleted  300  /  500 epochs\n"
     ]
    },
    {
     "name": "stderr",
     "output_type": "stream",
     "text": [
      "Epochs completed:  73%| ████████████████████████████████████████████▎                 363/500 [00:05]"
     ]
    },
    {
     "name": "stdout",
     "output_type": "stream",
     "text": [
      "\tcompleted  350  /  500 epochs\n"
     ]
    },
    {
     "name": "stderr",
     "output_type": "stream",
     "text": [
      "Epochs completed:  82%| ██████████████████████████████████████████████████▏           411/500 [00:06]"
     ]
    },
    {
     "name": "stdout",
     "output_type": "stream",
     "text": [
      "\tcompleted  400  /  500 epochs\n"
     ]
    },
    {
     "name": "stderr",
     "output_type": "stream",
     "text": [
      "Epochs completed:  92%| ███████████████████████████████████████████████████████▉      459/500 [00:06]"
     ]
    },
    {
     "name": "stdout",
     "output_type": "stream",
     "text": [
      "\tcompleted  450  /  500 epochs\n"
     ]
    },
    {
     "name": "stderr",
     "output_type": "stream",
     "text": [
      "Epochs completed: 100%| █████████████████████████████████████████████████████████████ 500/500 [00:07]\n"
     ]
    },
    {
     "name": "stdout",
     "output_type": "stream",
     "text": [
      "Fri Feb 23 21:46:30 2024 Finished embedding\n",
      "TSNE\n",
      "--------------------------------------------------------------------------------\n",
      "TSNE(early_exaggeration=12, random_state=2, verbose=True)\n",
      "--------------------------------------------------------------------------------\n",
      "===> Finding 90 nearest neighbors using Annoy approximate search using euclidean distance...\n",
      "   --> Time elapsed: 1.61 seconds\n",
      "===> Calculating affinity matrix...\n",
      "   --> Time elapsed: 0.09 seconds\n",
      "===> Calculating PCA-based initialization...\n",
      "   --> Time elapsed: 0.01 seconds\n",
      "===> Running optimization with exaggeration=12.00, lr=580.25 for 250 iterations...\n",
      "Iteration   50, KL divergence 3.3301, 50 iterations in 5.4954 sec\n",
      "Iteration  100, KL divergence 3.2016, 50 iterations in 5.0943 sec\n",
      "Iteration  150, KL divergence 3.1286, 50 iterations in 5.0648 sec\n",
      "Iteration  200, KL divergence 3.0947, 50 iterations in 5.0796 sec\n",
      "Iteration  250, KL divergence 3.0751, 50 iterations in 5.0310 sec\n",
      "   --> Time elapsed: 25.77 seconds\n",
      "===> Running optimization with exaggeration=1.00, lr=6963.00 for 500 iterations...\n",
      "Iteration   50, KL divergence 1.6194, 50 iterations in 4.8171 sec\n",
      "Iteration  100, KL divergence 1.4488, 50 iterations in 4.6730 sec\n",
      "Iteration  150, KL divergence 1.3820, 50 iterations in 4.6470 sec\n",
      "Iteration  200, KL divergence 1.3452, 50 iterations in 4.6897 sec\n",
      "Iteration  250, KL divergence 1.3216, 50 iterations in 4.6777 sec\n",
      "Iteration  300, KL divergence 1.3047, 50 iterations in 4.6907 sec\n",
      "Iteration  350, KL divergence 1.2922, 50 iterations in 4.6963 sec\n",
      "Iteration  400, KL divergence 1.2826, 50 iterations in 4.7135 sec\n",
      "Iteration  450, KL divergence 1.2748, 50 iterations in 4.7347 sec\n",
      "Iteration  500, KL divergence 1.2683, 50 iterations in 4.6708 sec\n",
      "   --> Time elapsed: 47.01 seconds\n",
      "merfish seed: 3 scaled: False\n",
      "PCA2\n",
      "PCA50\n",
      "UMAP\n",
      "UMAP(random_state=3, verbose=True)\n",
      "Fri Feb 23 21:47:44 2024 Construct fuzzy simplicial set\n",
      "Fri Feb 23 21:47:44 2024 Finding Nearest Neighbors\n",
      "Fri Feb 23 21:47:44 2024 Building RP forest with 9 trees\n"
     ]
    },
    {
     "name": "stderr",
     "output_type": "stream",
     "text": [
      "/home/jan/anaconda3/envs/elephant_analysis_env2/lib/python3.11/site-packages/umap/umap_.py:1943: UserWarning: n_jobs value -1 overridden to 1 by setting random_state. Use no seed for parallelism.\n",
      "  warn(f\"n_jobs value {self.n_jobs} overridden to 1 by setting random_state. Use no seed for parallelism.\")\n"
     ]
    },
    {
     "name": "stdout",
     "output_type": "stream",
     "text": [
      "Fri Feb 23 21:47:45 2024 NN descent for 13 iterations\n",
      "\t 1  /  13\n",
      "\t 2  /  13\n",
      "\t 3  /  13\n",
      "\tStopping threshold met -- exiting after 3 iterations\n",
      "Fri Feb 23 21:47:45 2024 Finished Nearest Neighbor Search\n",
      "Fri Feb 23 21:47:45 2024 Construct embedding\n"
     ]
    },
    {
     "name": "stderr",
     "output_type": "stream",
     "text": [
      "Epochs completed:   3%| █▌                                                             13/500 [00:00]"
     ]
    },
    {
     "name": "stdout",
     "output_type": "stream",
     "text": [
      "\tcompleted  0  /  500 epochs\n"
     ]
    },
    {
     "name": "stderr",
     "output_type": "stream",
     "text": [
      "Epochs completed:  13%| ████████▎                                                      67/500 [00:01]"
     ]
    },
    {
     "name": "stdout",
     "output_type": "stream",
     "text": [
      "\tcompleted  50  /  500 epochs\n"
     ]
    },
    {
     "name": "stderr",
     "output_type": "stream",
     "text": [
      "Epochs completed:  23%| █████████████▉                                                114/500 [00:01]"
     ]
    },
    {
     "name": "stdout",
     "output_type": "stream",
     "text": [
      "\tcompleted  100  /  500 epochs\n"
     ]
    },
    {
     "name": "stderr",
     "output_type": "stream",
     "text": [
      "Epochs completed:  33%| ████████████████████                                          164/500 [00:02]"
     ]
    },
    {
     "name": "stdout",
     "output_type": "stream",
     "text": [
      "\tcompleted  150  /  500 epochs\n"
     ]
    },
    {
     "name": "stderr",
     "output_type": "stream",
     "text": [
      "Epochs completed:  43%| ██████████████████████████                                    214/500 [00:02]"
     ]
    },
    {
     "name": "stdout",
     "output_type": "stream",
     "text": [
      "\tcompleted  200  /  500 epochs\n"
     ]
    },
    {
     "name": "stderr",
     "output_type": "stream",
     "text": [
      "Epochs completed:  53%| ████████████████████████████████▏                             264/500 [00:03]"
     ]
    },
    {
     "name": "stdout",
     "output_type": "stream",
     "text": [
      "\tcompleted  250  /  500 epochs\n"
     ]
    },
    {
     "name": "stderr",
     "output_type": "stream",
     "text": [
      "Epochs completed:  63%| ██████████████████████████████████████▎                       314/500 [00:03]"
     ]
    },
    {
     "name": "stdout",
     "output_type": "stream",
     "text": [
      "\tcompleted  300  /  500 epochs\n"
     ]
    },
    {
     "name": "stderr",
     "output_type": "stream",
     "text": [
      "Epochs completed:  72%| ███████████████████████████████████████████▉                  360/500 [00:04]"
     ]
    },
    {
     "name": "stdout",
     "output_type": "stream",
     "text": [
      "\tcompleted  350  /  500 epochs\n"
     ]
    },
    {
     "name": "stderr",
     "output_type": "stream",
     "text": [
      "Epochs completed:  83%| ██████████████████████████████████████████████████▌           414/500 [00:04]"
     ]
    },
    {
     "name": "stdout",
     "output_type": "stream",
     "text": [
      "\tcompleted  400  /  500 epochs\n"
     ]
    },
    {
     "name": "stderr",
     "output_type": "stream",
     "text": [
      "Epochs completed:  94%| █████████████████████████████████████████████████████████     468/500 [00:05]"
     ]
    },
    {
     "name": "stdout",
     "output_type": "stream",
     "text": [
      "\tcompleted  450  /  500 epochs\n"
     ]
    },
    {
     "name": "stderr",
     "output_type": "stream",
     "text": [
      "Epochs completed: 100%| █████████████████████████████████████████████████████████████ 500/500 [00:05]\n"
     ]
    },
    {
     "name": "stdout",
     "output_type": "stream",
     "text": [
      "Fri Feb 23 21:47:51 2024 Finished embedding\n",
      "TSNE\n",
      "--------------------------------------------------------------------------------\n",
      "TSNE(early_exaggeration=12, random_state=3, verbose=True)\n",
      "--------------------------------------------------------------------------------\n",
      "===> Finding 90 nearest neighbors using Annoy approximate search using euclidean distance...\n",
      "   --> Time elapsed: 1.60 seconds\n",
      "===> Calculating affinity matrix...\n",
      "   --> Time elapsed: 0.09 seconds\n",
      "===> Calculating PCA-based initialization...\n",
      "   --> Time elapsed: 0.01 seconds\n",
      "===> Running optimization with exaggeration=12.00, lr=580.25 for 250 iterations...\n",
      "Iteration   50, KL divergence 3.3277, 50 iterations in 5.4875 sec\n",
      "Iteration  100, KL divergence 3.2010, 50 iterations in 5.0623 sec\n",
      "Iteration  150, KL divergence 3.1315, 50 iterations in 5.0549 sec\n",
      "Iteration  200, KL divergence 3.0979, 50 iterations in 5.0494 sec\n",
      "Iteration  250, KL divergence 3.0773, 50 iterations in 5.0377 sec\n",
      "   --> Time elapsed: 25.69 seconds\n",
      "===> Running optimization with exaggeration=1.00, lr=6963.00 for 500 iterations...\n",
      "Iteration   50, KL divergence 1.6252, 50 iterations in 4.8371 sec\n",
      "Iteration  100, KL divergence 1.4540, 50 iterations in 4.7416 sec\n",
      "Iteration  150, KL divergence 1.3878, 50 iterations in 4.6399 sec\n",
      "Iteration  200, KL divergence 1.3510, 50 iterations in 4.6517 sec\n",
      "Iteration  250, KL divergence 1.3272, 50 iterations in 4.6848 sec\n",
      "Iteration  300, KL divergence 1.3106, 50 iterations in 4.6892 sec\n",
      "Iteration  350, KL divergence 1.2979, 50 iterations in 4.6956 sec\n",
      "Iteration  400, KL divergence 1.2881, 50 iterations in 4.7025 sec\n",
      "Iteration  450, KL divergence 1.2802, 50 iterations in 4.7285 sec\n",
      "Iteration  500, KL divergence 1.2734, 50 iterations in 4.7340 sec\n",
      "   --> Time elapsed: 47.11 seconds\n",
      "merfish seed: 4 scaled: False\n",
      "PCA2\n",
      "PCA50\n",
      "UMAP\n",
      "UMAP(random_state=4, verbose=True)\n",
      "Fri Feb 23 21:49:05 2024 Construct fuzzy simplicial set\n",
      "Fri Feb 23 21:49:05 2024 Finding Nearest Neighbors\n",
      "Fri Feb 23 21:49:05 2024 Building RP forest with 9 trees\n"
     ]
    },
    {
     "name": "stderr",
     "output_type": "stream",
     "text": [
      "/home/jan/anaconda3/envs/elephant_analysis_env2/lib/python3.11/site-packages/umap/umap_.py:1943: UserWarning: n_jobs value -1 overridden to 1 by setting random_state. Use no seed for parallelism.\n",
      "  warn(f\"n_jobs value {self.n_jobs} overridden to 1 by setting random_state. Use no seed for parallelism.\")\n"
     ]
    },
    {
     "name": "stdout",
     "output_type": "stream",
     "text": [
      "Fri Feb 23 21:49:06 2024 NN descent for 13 iterations\n",
      "\t 1  /  13\n",
      "\t 2  /  13\n",
      "\t 3  /  13\n",
      "\tStopping threshold met -- exiting after 3 iterations\n",
      "Fri Feb 23 21:49:06 2024 Finished Nearest Neighbor Search\n",
      "Fri Feb 23 21:49:06 2024 Construct embedding\n"
     ]
    },
    {
     "name": "stderr",
     "output_type": "stream",
     "text": [
      "Epochs completed:   3%| █▌                                                             13/500 [00:00]"
     ]
    },
    {
     "name": "stdout",
     "output_type": "stream",
     "text": [
      "\tcompleted  0  /  500 epochs\n"
     ]
    },
    {
     "name": "stderr",
     "output_type": "stream",
     "text": [
      "Epochs completed:  13%| ███████▊                                                       63/500 [00:00]"
     ]
    },
    {
     "name": "stdout",
     "output_type": "stream",
     "text": [
      "\tcompleted  50  /  500 epochs\n"
     ]
    },
    {
     "name": "stderr",
     "output_type": "stream",
     "text": [
      "Epochs completed:  23%| █████████████▊                                                113/500 [00:01]"
     ]
    },
    {
     "name": "stdout",
     "output_type": "stream",
     "text": [
      "\tcompleted  100  /  500 epochs\n"
     ]
    },
    {
     "name": "stderr",
     "output_type": "stream",
     "text": [
      "Epochs completed:  33%| ███████████████████▉                                          163/500 [00:02]"
     ]
    },
    {
     "name": "stdout",
     "output_type": "stream",
     "text": [
      "\tcompleted  150  /  500 epochs\n"
     ]
    },
    {
     "name": "stderr",
     "output_type": "stream",
     "text": [
      "Epochs completed:  43%| █████████████████████████▉                                    213/500 [00:02]"
     ]
    },
    {
     "name": "stdout",
     "output_type": "stream",
     "text": [
      "\tcompleted  200  /  500 epochs\n"
     ]
    },
    {
     "name": "stderr",
     "output_type": "stream",
     "text": [
      "Epochs completed:  52%| ███████████████████████████████▊                              261/500 [00:03]"
     ]
    },
    {
     "name": "stdout",
     "output_type": "stream",
     "text": [
      "\tcompleted  250  /  500 epochs\n"
     ]
    },
    {
     "name": "stderr",
     "output_type": "stream",
     "text": [
      "Epochs completed:  63%| ██████████████████████████████████████▍                       315/500 [00:03]"
     ]
    },
    {
     "name": "stdout",
     "output_type": "stream",
     "text": [
      "\tcompleted  300  /  500 epochs\n"
     ]
    },
    {
     "name": "stderr",
     "output_type": "stream",
     "text": [
      "Epochs completed:  72%| ███████████████████████████████████████████▉                  360/500 [00:04]"
     ]
    },
    {
     "name": "stdout",
     "output_type": "stream",
     "text": [
      "\tcompleted  350  /  500 epochs\n"
     ]
    },
    {
     "name": "stderr",
     "output_type": "stream",
     "text": [
      "Epochs completed:  83%| ██████████████████████████████████████████████████▌           414/500 [00:04]"
     ]
    },
    {
     "name": "stdout",
     "output_type": "stream",
     "text": [
      "\tcompleted  400  /  500 epochs\n"
     ]
    },
    {
     "name": "stderr",
     "output_type": "stream",
     "text": [
      "Epochs completed:  94%| █████████████████████████████████████████████████████████     468/500 [00:05]"
     ]
    },
    {
     "name": "stdout",
     "output_type": "stream",
     "text": [
      "\tcompleted  450  /  500 epochs\n"
     ]
    },
    {
     "name": "stderr",
     "output_type": "stream",
     "text": [
      "Epochs completed: 100%| █████████████████████████████████████████████████████████████ 500/500 [00:05]\n"
     ]
    },
    {
     "name": "stdout",
     "output_type": "stream",
     "text": [
      "Fri Feb 23 21:49:12 2024 Finished embedding\n",
      "TSNE\n",
      "--------------------------------------------------------------------------------\n",
      "TSNE(early_exaggeration=12, random_state=4, verbose=True)\n",
      "--------------------------------------------------------------------------------\n",
      "===> Finding 90 nearest neighbors using Annoy approximate search using euclidean distance...\n",
      "   --> Time elapsed: 1.62 seconds\n",
      "===> Calculating affinity matrix...\n",
      "   --> Time elapsed: 0.12 seconds\n",
      "===> Calculating PCA-based initialization...\n",
      "   --> Time elapsed: 0.01 seconds\n",
      "===> Running optimization with exaggeration=12.00, lr=580.25 for 250 iterations...\n",
      "Iteration   50, KL divergence 3.3226, 50 iterations in 5.5105 sec\n",
      "Iteration  100, KL divergence 3.1996, 50 iterations in 5.0548 sec\n",
      "Iteration  150, KL divergence 3.1292, 50 iterations in 5.0722 sec\n",
      "Iteration  200, KL divergence 3.0946, 50 iterations in 5.0554 sec\n",
      "Iteration  250, KL divergence 3.0737, 50 iterations in 5.0459 sec\n",
      "   --> Time elapsed: 25.74 seconds\n",
      "===> Running optimization with exaggeration=1.00, lr=6963.00 for 500 iterations...\n",
      "Iteration   50, KL divergence 1.6198, 50 iterations in 4.7777 sec\n",
      "Iteration  100, KL divergence 1.4477, 50 iterations in 4.4989 sec\n",
      "Iteration  150, KL divergence 1.3804, 50 iterations in 4.5491 sec\n",
      "Iteration  200, KL divergence 1.3427, 50 iterations in 4.6623 sec\n",
      "Iteration  250, KL divergence 1.3188, 50 iterations in 4.6956 sec\n",
      "Iteration  300, KL divergence 1.3020, 50 iterations in 4.7093 sec\n",
      "Iteration  350, KL divergence 1.2894, 50 iterations in 4.6924 sec\n",
      "Iteration  400, KL divergence 1.2797, 50 iterations in 4.6354 sec\n",
      "Iteration  450, KL divergence 1.2719, 50 iterations in 4.6550 sec\n",
      "Iteration  500, KL divergence 1.2656, 50 iterations in 4.6596 sec\n",
      "   --> Time elapsed: 46.54 seconds\n",
      "merfish seed: 0 scaled: True\n",
      "PCA2\n",
      "PCA50\n",
      "UMAP\n",
      "UMAP(random_state=0, verbose=True)\n",
      "Fri Feb 23 21:50:26 2024 Construct fuzzy simplicial set\n",
      "Fri Feb 23 21:50:26 2024 Finding Nearest Neighbors\n",
      "Fri Feb 23 21:50:26 2024 Building RP forest with 9 trees\n"
     ]
    },
    {
     "name": "stderr",
     "output_type": "stream",
     "text": [
      "/home/jan/anaconda3/envs/elephant_analysis_env2/lib/python3.11/site-packages/umap/umap_.py:1943: UserWarning: n_jobs value -1 overridden to 1 by setting random_state. Use no seed for parallelism.\n",
      "  warn(f\"n_jobs value {self.n_jobs} overridden to 1 by setting random_state. Use no seed for parallelism.\")\n"
     ]
    },
    {
     "name": "stdout",
     "output_type": "stream",
     "text": [
      "Fri Feb 23 21:50:26 2024 NN descent for 13 iterations\n",
      "\t 1  /  13\n",
      "\t 2  /  13\n",
      "\t 3  /  13\n",
      "\t 4  /  13\n",
      "\tStopping threshold met -- exiting after 4 iterations\n",
      "Fri Feb 23 21:50:26 2024 Finished Nearest Neighbor Search\n",
      "Fri Feb 23 21:50:26 2024 Construct embedding\n"
     ]
    },
    {
     "name": "stderr",
     "output_type": "stream",
     "text": [
      "Epochs completed:   2%| █▍                                                             12/500 [00:00]"
     ]
    },
    {
     "name": "stdout",
     "output_type": "stream",
     "text": [
      "\tcompleted  0  /  500 epochs\n"
     ]
    },
    {
     "name": "stderr",
     "output_type": "stream",
     "text": [
      "Epochs completed:  13%| ████████▏                                                      66/500 [00:01]"
     ]
    },
    {
     "name": "stdout",
     "output_type": "stream",
     "text": [
      "\tcompleted  50  /  500 epochs\n"
     ]
    },
    {
     "name": "stderr",
     "output_type": "stream",
     "text": [
      "Epochs completed:  22%| █████████████▌                                                111/500 [00:01]"
     ]
    },
    {
     "name": "stdout",
     "output_type": "stream",
     "text": [
      "\tcompleted  100  /  500 epochs\n"
     ]
    },
    {
     "name": "stderr",
     "output_type": "stream",
     "text": [
      "Epochs completed:  33%| ████████████████████▏                                         165/500 [00:02]"
     ]
    },
    {
     "name": "stdout",
     "output_type": "stream",
     "text": [
      "\tcompleted  150  /  500 epochs\n"
     ]
    },
    {
     "name": "stderr",
     "output_type": "stream",
     "text": [
      "Epochs completed:  42%| █████████████████████████▌                                    210/500 [00:02]"
     ]
    },
    {
     "name": "stdout",
     "output_type": "stream",
     "text": [
      "\tcompleted  200  /  500 epochs\n"
     ]
    },
    {
     "name": "stderr",
     "output_type": "stream",
     "text": [
      "Epochs completed:  53%| ████████████████████████████████▏                             264/500 [00:03]"
     ]
    },
    {
     "name": "stdout",
     "output_type": "stream",
     "text": [
      "\tcompleted  250  /  500 epochs\n"
     ]
    },
    {
     "name": "stderr",
     "output_type": "stream",
     "text": [
      "Epochs completed:  64%| ██████████████████████████████████████▊                       318/500 [00:04]"
     ]
    },
    {
     "name": "stdout",
     "output_type": "stream",
     "text": [
      "\tcompleted  300  /  500 epochs\n"
     ]
    },
    {
     "name": "stderr",
     "output_type": "stream",
     "text": [
      "Epochs completed:  73%| ████████████████████████████████████████████▎                 363/500 [00:04]"
     ]
    },
    {
     "name": "stdout",
     "output_type": "stream",
     "text": [
      "\tcompleted  350  /  500 epochs\n"
     ]
    },
    {
     "name": "stderr",
     "output_type": "stream",
     "text": [
      "Epochs completed:  83%| ██████████████████████████████████████████████████▊           417/500 [00:05]"
     ]
    },
    {
     "name": "stdout",
     "output_type": "stream",
     "text": [
      "\tcompleted  400  /  500 epochs\n"
     ]
    },
    {
     "name": "stderr",
     "output_type": "stream",
     "text": [
      "Epochs completed:  92%| ████████████████████████████████████████████████████████▎     462/500 [00:05]"
     ]
    },
    {
     "name": "stdout",
     "output_type": "stream",
     "text": [
      "\tcompleted  450  /  500 epochs\n"
     ]
    },
    {
     "name": "stderr",
     "output_type": "stream",
     "text": [
      "Epochs completed: 100%| █████████████████████████████████████████████████████████████ 500/500 [00:06]\n"
     ]
    },
    {
     "name": "stdout",
     "output_type": "stream",
     "text": [
      "Fri Feb 23 21:50:33 2024 Finished embedding\n",
      "TSNE\n",
      "--------------------------------------------------------------------------------\n",
      "TSNE(early_exaggeration=12, random_state=0, verbose=True)\n",
      "--------------------------------------------------------------------------------\n",
      "===> Finding 90 nearest neighbors using Annoy approximate search using euclidean distance...\n",
      "   --> Time elapsed: 1.63 seconds\n",
      "===> Calculating affinity matrix...\n",
      "   --> Time elapsed: 0.09 seconds\n",
      "===> Calculating PCA-based initialization...\n",
      "   --> Time elapsed: 0.01 seconds\n",
      "===> Running optimization with exaggeration=12.00, lr=580.25 for 250 iterations...\n",
      "Iteration   50, KL divergence 3.4024, 50 iterations in 5.5197 sec\n",
      "Iteration  100, KL divergence 3.2758, 50 iterations in 5.1819 sec\n",
      "Iteration  150, KL divergence 3.2256, 50 iterations in 5.0633 sec\n",
      "Iteration  200, KL divergence 3.2017, 50 iterations in 5.0052 sec\n",
      "Iteration  250, KL divergence 3.1898, 50 iterations in 4.9827 sec\n",
      "   --> Time elapsed: 25.75 seconds\n",
      "===> Running optimization with exaggeration=1.00, lr=6963.00 for 500 iterations...\n",
      "Iteration   50, KL divergence 1.7216, 50 iterations in 4.9633 sec\n",
      "Iteration  100, KL divergence 1.5677, 50 iterations in 4.8999 sec\n",
      "Iteration  150, KL divergence 1.5074, 50 iterations in 4.9118 sec\n",
      "Iteration  200, KL divergence 1.4741, 50 iterations in 4.9213 sec\n",
      "Iteration  250, KL divergence 1.4526, 50 iterations in 4.9236 sec\n",
      "Iteration  300, KL divergence 1.4377, 50 iterations in 4.9063 sec\n",
      "Iteration  350, KL divergence 1.4266, 50 iterations in 4.8891 sec\n",
      "Iteration  400, KL divergence 1.4179, 50 iterations in 4.8940 sec\n",
      "Iteration  450, KL divergence 1.4110, 50 iterations in 4.8939 sec\n",
      "Iteration  500, KL divergence 1.4052, 50 iterations in 4.8988 sec\n",
      "   --> Time elapsed: 49.10 seconds\n",
      "merfish seed: 1 scaled: True\n",
      "PCA2\n",
      "PCA50\n",
      "UMAP\n",
      "UMAP(random_state=1, verbose=True)\n",
      "Fri Feb 23 21:51:50 2024 Construct fuzzy simplicial set\n",
      "Fri Feb 23 21:51:50 2024 Finding Nearest Neighbors\n",
      "Fri Feb 23 21:51:50 2024 Building RP forest with 9 trees\n"
     ]
    },
    {
     "name": "stderr",
     "output_type": "stream",
     "text": [
      "/home/jan/anaconda3/envs/elephant_analysis_env2/lib/python3.11/site-packages/umap/umap_.py:1943: UserWarning: n_jobs value -1 overridden to 1 by setting random_state. Use no seed for parallelism.\n",
      "  warn(f\"n_jobs value {self.n_jobs} overridden to 1 by setting random_state. Use no seed for parallelism.\")\n"
     ]
    },
    {
     "name": "stdout",
     "output_type": "stream",
     "text": [
      "Fri Feb 23 21:51:50 2024 NN descent for 13 iterations\n",
      "\t 1  /  13\n",
      "\t 2  /  13\n",
      "\t 3  /  13\n",
      "\t 4  /  13\n",
      "\tStopping threshold met -- exiting after 4 iterations\n",
      "Fri Feb 23 21:51:50 2024 Finished Nearest Neighbor Search\n",
      "Fri Feb 23 21:51:50 2024 Construct embedding\n"
     ]
    },
    {
     "name": "stderr",
     "output_type": "stream",
     "text": [
      "Epochs completed:   3%| █▌                                                             13/500 [00:00]"
     ]
    },
    {
     "name": "stdout",
     "output_type": "stream",
     "text": [
      "\tcompleted  0  /  500 epochs\n"
     ]
    },
    {
     "name": "stderr",
     "output_type": "stream",
     "text": [
      "Epochs completed:  14%| ████████▍                                                      68/500 [00:01]"
     ]
    },
    {
     "name": "stdout",
     "output_type": "stream",
     "text": [
      "\tcompleted  50  /  500 epochs\n"
     ]
    },
    {
     "name": "stderr",
     "output_type": "stream",
     "text": [
      "Epochs completed:  23%| █████████████▊                                                113/500 [00:01]"
     ]
    },
    {
     "name": "stdout",
     "output_type": "stream",
     "text": [
      "\tcompleted  100  /  500 epochs\n"
     ]
    },
    {
     "name": "stderr",
     "output_type": "stream",
     "text": [
      "Epochs completed:  33%| ████████████████████▎                                         167/500 [00:02]"
     ]
    },
    {
     "name": "stdout",
     "output_type": "stream",
     "text": [
      "\tcompleted  150  /  500 epochs\n"
     ]
    },
    {
     "name": "stderr",
     "output_type": "stream",
     "text": [
      "Epochs completed:  42%| █████████████████████████▊                                    212/500 [00:02]"
     ]
    },
    {
     "name": "stdout",
     "output_type": "stream",
     "text": [
      "\tcompleted  200  /  500 epochs\n"
     ]
    },
    {
     "name": "stderr",
     "output_type": "stream",
     "text": [
      "Epochs completed:  53%| ████████████████████████████████▍                             266/500 [00:03]"
     ]
    },
    {
     "name": "stdout",
     "output_type": "stream",
     "text": [
      "\tcompleted  250  /  500 epochs\n"
     ]
    },
    {
     "name": "stderr",
     "output_type": "stream",
     "text": [
      "Epochs completed:  62%| █████████████████████████████████████▉                        311/500 [00:03]"
     ]
    },
    {
     "name": "stdout",
     "output_type": "stream",
     "text": [
      "\tcompleted  300  /  500 epochs\n"
     ]
    },
    {
     "name": "stderr",
     "output_type": "stream",
     "text": [
      "Epochs completed:  73%| ████████████████████████████████████████████▌                 365/500 [00:04]"
     ]
    },
    {
     "name": "stdout",
     "output_type": "stream",
     "text": [
      "\tcompleted  350  /  500 epochs\n"
     ]
    },
    {
     "name": "stderr",
     "output_type": "stream",
     "text": [
      "Epochs completed:  82%| ██████████████████████████████████████████████████            410/500 [00:05]"
     ]
    },
    {
     "name": "stdout",
     "output_type": "stream",
     "text": [
      "\tcompleted  400  /  500 epochs\n"
     ]
    },
    {
     "name": "stderr",
     "output_type": "stream",
     "text": [
      "Epochs completed:  93%| ████████████████████████████████████████████████████████▌     464/500 [00:05]"
     ]
    },
    {
     "name": "stdout",
     "output_type": "stream",
     "text": [
      "\tcompleted  450  /  500 epochs\n"
     ]
    },
    {
     "name": "stderr",
     "output_type": "stream",
     "text": [
      "Epochs completed: 100%| █████████████████████████████████████████████████████████████ 500/500 [00:06]\n"
     ]
    },
    {
     "name": "stdout",
     "output_type": "stream",
     "text": [
      "Fri Feb 23 21:51:56 2024 Finished embedding\n",
      "TSNE\n",
      "--------------------------------------------------------------------------------\n",
      "TSNE(early_exaggeration=12, random_state=1, verbose=True)\n",
      "--------------------------------------------------------------------------------\n",
      "===> Finding 90 nearest neighbors using Annoy approximate search using euclidean distance...\n",
      "   --> Time elapsed: 1.55 seconds\n",
      "===> Calculating affinity matrix...\n",
      "   --> Time elapsed: 0.09 seconds\n",
      "===> Calculating PCA-based initialization...\n",
      "   --> Time elapsed: 0.01 seconds\n",
      "===> Running optimization with exaggeration=12.00, lr=580.25 for 250 iterations...\n",
      "Iteration   50, KL divergence 3.3901, 50 iterations in 5.4985 sec\n",
      "Iteration  100, KL divergence 3.2695, 50 iterations in 5.1619 sec\n",
      "Iteration  150, KL divergence 3.2217, 50 iterations in 5.0882 sec\n",
      "Iteration  200, KL divergence 3.1963, 50 iterations in 4.9402 sec\n",
      "Iteration  250, KL divergence 3.1827, 50 iterations in 5.0019 sec\n",
      "   --> Time elapsed: 25.69 seconds\n",
      "===> Running optimization with exaggeration=1.00, lr=6963.00 for 500 iterations...\n",
      "Iteration   50, KL divergence 1.7215, 50 iterations in 4.8741 sec\n",
      "Iteration  100, KL divergence 1.5693, 50 iterations in 4.9015 sec\n",
      "Iteration  150, KL divergence 1.5097, 50 iterations in 4.8363 sec\n",
      "Iteration  200, KL divergence 1.4769, 50 iterations in 4.8699 sec\n",
      "Iteration  250, KL divergence 1.4557, 50 iterations in 4.9277 sec\n",
      "Iteration  300, KL divergence 1.4412, 50 iterations in 4.9433 sec\n",
      "Iteration  350, KL divergence 1.4305, 50 iterations in 4.9409 sec\n",
      "Iteration  400, KL divergence 1.4218, 50 iterations in 4.9582 sec\n",
      "Iteration  450, KL divergence 1.4150, 50 iterations in 4.9442 sec\n",
      "Iteration  500, KL divergence 1.4095, 50 iterations in 4.9452 sec\n",
      "   --> Time elapsed: 49.14 seconds\n",
      "merfish seed: 2 scaled: True\n",
      "PCA2\n",
      "PCA50\n",
      "UMAP\n",
      "UMAP(random_state=2, verbose=True)\n",
      "Fri Feb 23 21:53:13 2024 Construct fuzzy simplicial set\n",
      "Fri Feb 23 21:53:13 2024 Finding Nearest Neighbors\n",
      "Fri Feb 23 21:53:13 2024 Building RP forest with 9 trees\n"
     ]
    },
    {
     "name": "stderr",
     "output_type": "stream",
     "text": [
      "/home/jan/anaconda3/envs/elephant_analysis_env2/lib/python3.11/site-packages/umap/umap_.py:1943: UserWarning: n_jobs value -1 overridden to 1 by setting random_state. Use no seed for parallelism.\n",
      "  warn(f\"n_jobs value {self.n_jobs} overridden to 1 by setting random_state. Use no seed for parallelism.\")\n"
     ]
    },
    {
     "name": "stdout",
     "output_type": "stream",
     "text": [
      "Fri Feb 23 21:53:13 2024 NN descent for 13 iterations\n",
      "\t 1  /  13\n",
      "\t 2  /  13\n",
      "\t 3  /  13\n",
      "\tStopping threshold met -- exiting after 3 iterations\n",
      "Fri Feb 23 21:53:13 2024 Finished Nearest Neighbor Search\n",
      "Fri Feb 23 21:53:13 2024 Construct embedding\n"
     ]
    },
    {
     "name": "stderr",
     "output_type": "stream",
     "text": [
      "Epochs completed:   2%| █▍                                                             12/500 [00:00]"
     ]
    },
    {
     "name": "stdout",
     "output_type": "stream",
     "text": [
      "\tcompleted  0  /  500 epochs\n"
     ]
    },
    {
     "name": "stderr",
     "output_type": "stream",
     "text": [
      "Epochs completed:  13%| ████████▏                                                      66/500 [00:01]"
     ]
    },
    {
     "name": "stdout",
     "output_type": "stream",
     "text": [
      "\tcompleted  50  /  500 epochs\n"
     ]
    },
    {
     "name": "stderr",
     "output_type": "stream",
     "text": [
      "Epochs completed:  22%| █████████████▌                                                111/500 [00:01]"
     ]
    },
    {
     "name": "stdout",
     "output_type": "stream",
     "text": [
      "\tcompleted  100  /  500 epochs\n"
     ]
    },
    {
     "name": "stderr",
     "output_type": "stream",
     "text": [
      "Epochs completed:  33%| ████████████████████▏                                         165/500 [00:02]"
     ]
    },
    {
     "name": "stdout",
     "output_type": "stream",
     "text": [
      "\tcompleted  150  /  500 epochs\n"
     ]
    },
    {
     "name": "stderr",
     "output_type": "stream",
     "text": [
      "Epochs completed:  43%| █████████████████████████▉                                    213/500 [00:02]"
     ]
    },
    {
     "name": "stdout",
     "output_type": "stream",
     "text": [
      "\tcompleted  200  /  500 epochs\n"
     ]
    },
    {
     "name": "stderr",
     "output_type": "stream",
     "text": [
      "Epochs completed:  53%| ████████████████████████████████                              263/500 [00:03]"
     ]
    },
    {
     "name": "stdout",
     "output_type": "stream",
     "text": [
      "\tcompleted  250  /  500 epochs\n"
     ]
    },
    {
     "name": "stderr",
     "output_type": "stream",
     "text": [
      "Epochs completed:  63%| ██████████████████████████████████████▏                       313/500 [00:03]"
     ]
    },
    {
     "name": "stdout",
     "output_type": "stream",
     "text": [
      "\tcompleted  300  /  500 epochs\n"
     ]
    },
    {
     "name": "stderr",
     "output_type": "stream",
     "text": [
      "Epochs completed:  73%| ████████████████████████████████████████████▎                 363/500 [00:04]"
     ]
    },
    {
     "name": "stdout",
     "output_type": "stream",
     "text": [
      "\tcompleted  350  /  500 epochs\n"
     ]
    },
    {
     "name": "stderr",
     "output_type": "stream",
     "text": [
      "Epochs completed:  83%| ██████████████████████████████████████████████████▍           413/500 [00:04]"
     ]
    },
    {
     "name": "stdout",
     "output_type": "stream",
     "text": [
      "\tcompleted  400  /  500 epochs\n"
     ]
    },
    {
     "name": "stderr",
     "output_type": "stream",
     "text": [
      "Epochs completed:  93%| ████████████████████████████████████████████████████████▍     463/500 [00:05]"
     ]
    },
    {
     "name": "stdout",
     "output_type": "stream",
     "text": [
      "\tcompleted  450  /  500 epochs\n"
     ]
    },
    {
     "name": "stderr",
     "output_type": "stream",
     "text": [
      "Epochs completed: 100%| █████████████████████████████████████████████████████████████ 500/500 [00:05]\n"
     ]
    },
    {
     "name": "stdout",
     "output_type": "stream",
     "text": [
      "Fri Feb 23 21:53:19 2024 Finished embedding\n",
      "TSNE\n",
      "--------------------------------------------------------------------------------\n",
      "TSNE(early_exaggeration=12, random_state=2, verbose=True)\n",
      "--------------------------------------------------------------------------------\n",
      "===> Finding 90 nearest neighbors using Annoy approximate search using euclidean distance...\n",
      "   --> Time elapsed: 1.53 seconds\n",
      "===> Calculating affinity matrix...\n",
      "   --> Time elapsed: 0.09 seconds\n",
      "===> Calculating PCA-based initialization...\n",
      "   --> Time elapsed: 0.01 seconds\n",
      "===> Running optimization with exaggeration=12.00, lr=580.25 for 250 iterations...\n",
      "Iteration   50, KL divergence 3.3884, 50 iterations in 5.4286 sec\n",
      "Iteration  100, KL divergence 3.2755, 50 iterations in 5.1097 sec\n",
      "Iteration  150, KL divergence 3.2215, 50 iterations in 4.9486 sec\n",
      "Iteration  200, KL divergence 3.1985, 50 iterations in 4.9327 sec\n",
      "Iteration  250, KL divergence 3.1866, 50 iterations in 5.0668 sec\n",
      "   --> Time elapsed: 25.49 seconds\n",
      "===> Running optimization with exaggeration=1.00, lr=6963.00 for 500 iterations...\n",
      "Iteration   50, KL divergence 1.7218, 50 iterations in 4.9730 sec\n",
      "Iteration  100, KL divergence 1.5698, 50 iterations in 4.9304 sec\n",
      "Iteration  150, KL divergence 1.5098, 50 iterations in 4.9204 sec\n",
      "Iteration  200, KL divergence 1.4768, 50 iterations in 4.9633 sec\n",
      "Iteration  250, KL divergence 1.4557, 50 iterations in 4.9765 sec\n",
      "Iteration  300, KL divergence 1.4411, 50 iterations in 4.9252 sec\n",
      "Iteration  350, KL divergence 1.4299, 50 iterations in 4.9233 sec\n",
      "Iteration  400, KL divergence 1.4211, 50 iterations in 4.9282 sec\n",
      "Iteration  450, KL divergence 1.4139, 50 iterations in 4.9327 sec\n",
      "Iteration  500, KL divergence 1.4078, 50 iterations in 4.9251 sec\n",
      "   --> Time elapsed: 49.40 seconds\n",
      "merfish seed: 3 scaled: True\n",
      "PCA2\n",
      "PCA50\n",
      "UMAP\n",
      "UMAP(random_state=3, verbose=True)\n",
      "Fri Feb 23 21:54:36 2024 Construct fuzzy simplicial set\n",
      "Fri Feb 23 21:54:36 2024 Finding Nearest Neighbors\n",
      "Fri Feb 23 21:54:36 2024 Building RP forest with 9 trees\n"
     ]
    },
    {
     "name": "stderr",
     "output_type": "stream",
     "text": [
      "/home/jan/anaconda3/envs/elephant_analysis_env2/lib/python3.11/site-packages/umap/umap_.py:1943: UserWarning: n_jobs value -1 overridden to 1 by setting random_state. Use no seed for parallelism.\n",
      "  warn(f\"n_jobs value {self.n_jobs} overridden to 1 by setting random_state. Use no seed for parallelism.\")\n"
     ]
    },
    {
     "name": "stdout",
     "output_type": "stream",
     "text": [
      "Fri Feb 23 21:54:36 2024 NN descent for 13 iterations\n",
      "\t 1  /  13\n",
      "\t 2  /  13\n",
      "\t 3  /  13\n",
      "\tStopping threshold met -- exiting after 3 iterations\n",
      "Fri Feb 23 21:54:36 2024 Finished Nearest Neighbor Search\n",
      "Fri Feb 23 21:54:36 2024 Construct embedding\n"
     ]
    },
    {
     "name": "stderr",
     "output_type": "stream",
     "text": [
      "Epochs completed:   3%| █▌                                                             13/500 [00:00]"
     ]
    },
    {
     "name": "stdout",
     "output_type": "stream",
     "text": [
      "\tcompleted  0  /  500 epochs\n"
     ]
    },
    {
     "name": "stderr",
     "output_type": "stream",
     "text": [
      "Epochs completed:  13%| ███████▊                                                       63/500 [00:00]"
     ]
    },
    {
     "name": "stdout",
     "output_type": "stream",
     "text": [
      "\tcompleted  50  /  500 epochs\n"
     ]
    },
    {
     "name": "stderr",
     "output_type": "stream",
     "text": [
      "Epochs completed:  23%| █████████████▊                                                113/500 [00:01]"
     ]
    },
    {
     "name": "stdout",
     "output_type": "stream",
     "text": [
      "\tcompleted  100  /  500 epochs\n"
     ]
    },
    {
     "name": "stderr",
     "output_type": "stream",
     "text": [
      "Epochs completed:  32%| ███████████████████▌                                          160/500 [00:02]"
     ]
    },
    {
     "name": "stdout",
     "output_type": "stream",
     "text": [
      "\tcompleted  150  /  500 epochs\n"
     ]
    },
    {
     "name": "stderr",
     "output_type": "stream",
     "text": [
      "Epochs completed:  43%| ██████████████████████████                                    214/500 [00:02]"
     ]
    },
    {
     "name": "stdout",
     "output_type": "stream",
     "text": [
      "\tcompleted  200  /  500 epochs\n"
     ]
    },
    {
     "name": "stderr",
     "output_type": "stream",
     "text": [
      "Epochs completed:  54%| ████████████████████████████████▋                             268/500 [00:03]"
     ]
    },
    {
     "name": "stdout",
     "output_type": "stream",
     "text": [
      "\tcompleted  250  /  500 epochs\n"
     ]
    },
    {
     "name": "stderr",
     "output_type": "stream",
     "text": [
      "Epochs completed:  63%| ██████████████████████████████████████▏                       313/500 [00:03]"
     ]
    },
    {
     "name": "stdout",
     "output_type": "stream",
     "text": [
      "\tcompleted  300  /  500 epochs\n"
     ]
    },
    {
     "name": "stderr",
     "output_type": "stream",
     "text": [
      "Epochs completed:  73%| ████████████████████████████████████████████▊                 367/500 [00:04]"
     ]
    },
    {
     "name": "stdout",
     "output_type": "stream",
     "text": [
      "\tcompleted  350  /  500 epochs\n"
     ]
    },
    {
     "name": "stderr",
     "output_type": "stream",
     "text": [
      "Epochs completed:  82%| ██████████████████████████████████████████████████▎           412/500 [00:04]"
     ]
    },
    {
     "name": "stdout",
     "output_type": "stream",
     "text": [
      "\tcompleted  400  /  500 epochs\n"
     ]
    },
    {
     "name": "stderr",
     "output_type": "stream",
     "text": [
      "Epochs completed:  93%| ████████████████████████████████████████████████████████▊     466/500 [00:05]"
     ]
    },
    {
     "name": "stdout",
     "output_type": "stream",
     "text": [
      "\tcompleted  450  /  500 epochs\n"
     ]
    },
    {
     "name": "stderr",
     "output_type": "stream",
     "text": [
      "Epochs completed: 100%| █████████████████████████████████████████████████████████████ 500/500 [00:05]\n"
     ]
    },
    {
     "name": "stdout",
     "output_type": "stream",
     "text": [
      "Fri Feb 23 21:54:42 2024 Finished embedding\n",
      "TSNE\n",
      "--------------------------------------------------------------------------------\n",
      "TSNE(early_exaggeration=12, random_state=3, verbose=True)\n",
      "--------------------------------------------------------------------------------\n",
      "===> Finding 90 nearest neighbors using Annoy approximate search using euclidean distance...\n",
      "   --> Time elapsed: 1.64 seconds\n",
      "===> Calculating affinity matrix...\n",
      "   --> Time elapsed: 0.09 seconds\n",
      "===> Calculating PCA-based initialization...\n",
      "   --> Time elapsed: 0.01 seconds\n",
      "===> Running optimization with exaggeration=12.00, lr=580.25 for 250 iterations...\n",
      "Iteration   50, KL divergence 3.3994, 50 iterations in 5.4958 sec\n",
      "Iteration  100, KL divergence 3.2758, 50 iterations in 5.2213 sec\n",
      "Iteration  150, KL divergence 3.2239, 50 iterations in 5.0294 sec\n",
      "Iteration  200, KL divergence 3.2002, 50 iterations in 5.0420 sec\n",
      "Iteration  250, KL divergence 3.1874, 50 iterations in 5.0257 sec\n",
      "   --> Time elapsed: 25.81 seconds\n",
      "===> Running optimization with exaggeration=1.00, lr=6963.00 for 500 iterations...\n",
      "Iteration   50, KL divergence 1.7251, 50 iterations in 4.9032 sec\n",
      "Iteration  100, KL divergence 1.5724, 50 iterations in 4.8408 sec\n",
      "Iteration  150, KL divergence 1.5129, 50 iterations in 4.8539 sec\n",
      "Iteration  200, KL divergence 1.4802, 50 iterations in 4.8501 sec\n",
      "Iteration  250, KL divergence 1.4590, 50 iterations in 4.8256 sec\n",
      "Iteration  300, KL divergence 1.4444, 50 iterations in 4.8223 sec\n",
      "Iteration  350, KL divergence 1.4332, 50 iterations in 4.8437 sec\n",
      "Iteration  400, KL divergence 1.4246, 50 iterations in 4.8474 sec\n",
      "Iteration  450, KL divergence 1.4181, 50 iterations in 4.8508 sec\n",
      "Iteration  500, KL divergence 1.4124, 50 iterations in 4.8726 sec\n",
      "   --> Time elapsed: 48.51 seconds\n",
      "merfish seed: 4 scaled: True\n",
      "PCA2\n",
      "PCA50\n",
      "UMAP\n",
      "UMAP(random_state=4, verbose=True)\n",
      "Fri Feb 23 21:55:59 2024 Construct fuzzy simplicial set\n",
      "Fri Feb 23 21:55:59 2024 Finding Nearest Neighbors\n",
      "Fri Feb 23 21:55:59 2024 Building RP forest with 9 trees\n"
     ]
    },
    {
     "name": "stderr",
     "output_type": "stream",
     "text": [
      "/home/jan/anaconda3/envs/elephant_analysis_env2/lib/python3.11/site-packages/umap/umap_.py:1943: UserWarning: n_jobs value -1 overridden to 1 by setting random_state. Use no seed for parallelism.\n",
      "  warn(f\"n_jobs value {self.n_jobs} overridden to 1 by setting random_state. Use no seed for parallelism.\")\n"
     ]
    },
    {
     "name": "stdout",
     "output_type": "stream",
     "text": [
      "Fri Feb 23 21:55:59 2024 NN descent for 13 iterations\n",
      "\t 1  /  13\n",
      "\t 2  /  13\n",
      "\t 3  /  13\n",
      "\tStopping threshold met -- exiting after 3 iterations\n",
      "Fri Feb 23 21:55:59 2024 Finished Nearest Neighbor Search\n",
      "Fri Feb 23 21:55:59 2024 Construct embedding\n"
     ]
    },
    {
     "name": "stderr",
     "output_type": "stream",
     "text": [
      "Epochs completed:   2%| █▍                                                             12/500 [00:00]"
     ]
    },
    {
     "name": "stdout",
     "output_type": "stream",
     "text": [
      "\tcompleted  0  /  500 epochs\n"
     ]
    },
    {
     "name": "stderr",
     "output_type": "stream",
     "text": [
      "Epochs completed:  13%| ████████▏                                                      66/500 [00:01]"
     ]
    },
    {
     "name": "stdout",
     "output_type": "stream",
     "text": [
      "\tcompleted  50  /  500 epochs\n"
     ]
    },
    {
     "name": "stderr",
     "output_type": "stream",
     "text": [
      "Epochs completed:  22%| █████████████▌                                                111/500 [00:01]"
     ]
    },
    {
     "name": "stdout",
     "output_type": "stream",
     "text": [
      "\tcompleted  100  /  500 epochs\n"
     ]
    },
    {
     "name": "stderr",
     "output_type": "stream",
     "text": [
      "Epochs completed:  33%| ████████████████████▏                                         165/500 [00:02]"
     ]
    },
    {
     "name": "stdout",
     "output_type": "stream",
     "text": [
      "\tcompleted  150  /  500 epochs\n"
     ]
    },
    {
     "name": "stderr",
     "output_type": "stream",
     "text": [
      "Epochs completed:  42%| █████████████████████████▌                                    210/500 [00:02]"
     ]
    },
    {
     "name": "stdout",
     "output_type": "stream",
     "text": [
      "\tcompleted  200  /  500 epochs\n"
     ]
    },
    {
     "name": "stderr",
     "output_type": "stream",
     "text": [
      "Epochs completed:  53%| ████████████████████████████████▏                             264/500 [00:03]"
     ]
    },
    {
     "name": "stdout",
     "output_type": "stream",
     "text": [
      "\tcompleted  250  /  500 epochs\n"
     ]
    },
    {
     "name": "stderr",
     "output_type": "stream",
     "text": [
      "Epochs completed:  64%| ██████████████████████████████████████▊                       318/500 [00:04]"
     ]
    },
    {
     "name": "stdout",
     "output_type": "stream",
     "text": [
      "\tcompleted  300  /  500 epochs\n"
     ]
    },
    {
     "name": "stderr",
     "output_type": "stream",
     "text": [
      "Epochs completed:  73%| ████████████████████████████████████████████▎                 363/500 [00:04]"
     ]
    },
    {
     "name": "stdout",
     "output_type": "stream",
     "text": [
      "\tcompleted  350  /  500 epochs\n"
     ]
    },
    {
     "name": "stderr",
     "output_type": "stream",
     "text": [
      "Epochs completed:  83%| ██████████████████████████████████████████████████▊           417/500 [00:05]"
     ]
    },
    {
     "name": "stdout",
     "output_type": "stream",
     "text": [
      "\tcompleted  400  /  500 epochs\n"
     ]
    },
    {
     "name": "stderr",
     "output_type": "stream",
     "text": [
      "Epochs completed:  92%| ████████████████████████████████████████████████████████▎     462/500 [00:05]"
     ]
    },
    {
     "name": "stdout",
     "output_type": "stream",
     "text": [
      "\tcompleted  450  /  500 epochs\n"
     ]
    },
    {
     "name": "stderr",
     "output_type": "stream",
     "text": [
      "Epochs completed: 100%| █████████████████████████████████████████████████████████████ 500/500 [00:06]\n"
     ]
    },
    {
     "name": "stdout",
     "output_type": "stream",
     "text": [
      "Fri Feb 23 21:56:05 2024 Finished embedding\n",
      "TSNE\n",
      "--------------------------------------------------------------------------------\n",
      "TSNE(early_exaggeration=12, random_state=4, verbose=True)\n",
      "--------------------------------------------------------------------------------\n",
      "===> Finding 90 nearest neighbors using Annoy approximate search using euclidean distance...\n",
      "   --> Time elapsed: 1.62 seconds\n",
      "===> Calculating affinity matrix...\n",
      "   --> Time elapsed: 0.11 seconds\n",
      "===> Calculating PCA-based initialization...\n",
      "   --> Time elapsed: 0.01 seconds\n",
      "===> Running optimization with exaggeration=12.00, lr=580.25 for 250 iterations...\n",
      "Iteration   50, KL divergence 3.3976, 50 iterations in 5.5811 sec\n",
      "Iteration  100, KL divergence 3.2754, 50 iterations in 5.2506 sec\n",
      "Iteration  150, KL divergence 3.2257, 50 iterations in 5.0518 sec\n",
      "Iteration  200, KL divergence 3.2010, 50 iterations in 5.0526 sec\n",
      "Iteration  250, KL divergence 3.1874, 50 iterations in 5.0706 sec\n",
      "   --> Time elapsed: 26.01 seconds\n",
      "===> Running optimization with exaggeration=1.00, lr=6963.00 for 500 iterations...\n",
      "Iteration   50, KL divergence 1.7220, 50 iterations in 4.9538 sec\n",
      "Iteration  100, KL divergence 1.5688, 50 iterations in 4.8610 sec\n",
      "Iteration  150, KL divergence 1.5096, 50 iterations in 4.8581 sec\n",
      "Iteration  200, KL divergence 1.4773, 50 iterations in 4.8342 sec\n",
      "Iteration  250, KL divergence 1.4566, 50 iterations in 4.8468 sec\n",
      "Iteration  300, KL divergence 1.4417, 50 iterations in 4.8766 sec\n",
      "Iteration  350, KL divergence 1.4311, 50 iterations in 4.8870 sec\n",
      "Iteration  400, KL divergence 1.4228, 50 iterations in 4.8824 sec\n",
      "Iteration  450, KL divergence 1.4159, 50 iterations in 4.8856 sec\n",
      "Iteration  500, KL divergence 1.4100, 50 iterations in 4.8893 sec\n",
      "   --> Time elapsed: 48.78 seconds\n",
      "smartseq seed: 0 scaled: False\n",
      "PCA2\n",
      "PCA50\n",
      "UMAP\n",
      "UMAP(random_state=0, verbose=True)\n",
      "Fri Feb 23 21:57:22 2024 Construct fuzzy simplicial set\n"
     ]
    },
    {
     "name": "stderr",
     "output_type": "stream",
     "text": [
      "/home/jan/anaconda3/envs/elephant_analysis_env2/lib/python3.11/site-packages/umap/umap_.py:1943: UserWarning: n_jobs value -1 overridden to 1 by setting random_state. Use no seed for parallelism.\n",
      "  warn(f\"n_jobs value {self.n_jobs} overridden to 1 by setting random_state. Use no seed for parallelism.\")\n"
     ]
    },
    {
     "name": "stdout",
     "output_type": "stream",
     "text": [
      "Fri Feb 23 21:57:25 2024 Finding Nearest Neighbors\n",
      "Fri Feb 23 21:57:27 2024 Finished Nearest Neighbor Search\n",
      "Fri Feb 23 21:57:27 2024 Construct embedding\n"
     ]
    },
    {
     "name": "stderr",
     "output_type": "stream",
     "text": [
      "Epochs completed:   4%| ██▌                                                            21/500 [00:00]"
     ]
    },
    {
     "name": "stdout",
     "output_type": "stream",
     "text": [
      "\tcompleted  0  /  500 epochs\n"
     ]
    },
    {
     "name": "stderr",
     "output_type": "stream",
     "text": [
      "Epochs completed:  15%| █████████▎                                                     75/500 [00:00]"
     ]
    },
    {
     "name": "stdout",
     "output_type": "stream",
     "text": [
      "\tcompleted  50  /  500 epochs\n"
     ]
    },
    {
     "name": "stderr",
     "output_type": "stream",
     "text": [
      "Epochs completed:  26%| ███████████████▋                                              129/500 [00:01]"
     ]
    },
    {
     "name": "stdout",
     "output_type": "stream",
     "text": [
      "\tcompleted  100  /  500 epochs\n"
     ]
    },
    {
     "name": "stderr",
     "output_type": "stream",
     "text": [
      "Epochs completed:  37%| ██████████████████████▎                                       183/500 [00:01]"
     ]
    },
    {
     "name": "stdout",
     "output_type": "stream",
     "text": [
      "\tcompleted  150  /  500 epochs\n"
     ]
    },
    {
     "name": "stderr",
     "output_type": "stream",
     "text": [
      "Epochs completed:  44%| ██████████████████████████▋                                   219/500 [00:01]"
     ]
    },
    {
     "name": "stdout",
     "output_type": "stream",
     "text": [
      "\tcompleted  200  /  500 epochs\n"
     ]
    },
    {
     "name": "stderr",
     "output_type": "stream",
     "text": [
      "Epochs completed:  55%| █████████████████████████████████▎                            273/500 [00:01]"
     ]
    },
    {
     "name": "stdout",
     "output_type": "stream",
     "text": [
      "\tcompleted  250  /  500 epochs\n"
     ]
    },
    {
     "name": "stderr",
     "output_type": "stream",
     "text": [
      "Epochs completed:  65%| ███████████████████████████████████████▉                      327/500 [00:02]"
     ]
    },
    {
     "name": "stdout",
     "output_type": "stream",
     "text": [
      "\tcompleted  300  /  500 epochs\n"
     ]
    },
    {
     "name": "stderr",
     "output_type": "stream",
     "text": [
      "Epochs completed:  76%| ██████████████████████████████████████████████▌               382/500 [00:02]"
     ]
    },
    {
     "name": "stdout",
     "output_type": "stream",
     "text": [
      "\tcompleted  350  /  500 epochs\n"
     ]
    },
    {
     "name": "stderr",
     "output_type": "stream",
     "text": [
      "Epochs completed:  84%| ███████████████████████████████████████████████████▏          420/500 [00:02]"
     ]
    },
    {
     "name": "stdout",
     "output_type": "stream",
     "text": [
      "\tcompleted  400  /  500 epochs\n"
     ]
    },
    {
     "name": "stderr",
     "output_type": "stream",
     "text": [
      "Epochs completed:  95%| ██████████████████████████████████████████████████████████▏   477/500 [00:03]"
     ]
    },
    {
     "name": "stdout",
     "output_type": "stream",
     "text": [
      "\tcompleted  450  /  500 epochs\n"
     ]
    },
    {
     "name": "stderr",
     "output_type": "stream",
     "text": [
      "Epochs completed: 100%| █████████████████████████████████████████████████████████████ 500/500 [00:03]\n"
     ]
    },
    {
     "name": "stdout",
     "output_type": "stream",
     "text": [
      "Fri Feb 23 21:57:30 2024 Finished embedding\n",
      "TSNE\n",
      "--------------------------------------------------------------------------------\n",
      "TSNE(early_exaggeration=12, random_state=0, verbose=True)\n",
      "--------------------------------------------------------------------------------\n",
      "===> Finding 90 nearest neighbors using Annoy approximate search using euclidean distance...\n",
      "   --> Time elapsed: 0.83 seconds\n",
      "===> Calculating affinity matrix...\n",
      "   --> Time elapsed: 0.06 seconds\n",
      "===> Calculating PCA-based initialization...\n",
      "   --> Time elapsed: 0.01 seconds\n",
      "===> Running optimization with exaggeration=12.00, lr=320.83 for 250 iterations...\n",
      "Iteration   50, KL divergence 3.5335, 50 iterations in 2.7182 sec\n",
      "Iteration  100, KL divergence 3.5991, 50 iterations in 2.4865 sec\n",
      "Iteration  150, KL divergence 3.5963, 50 iterations in 2.4326 sec\n",
      "Iteration  200, KL divergence 3.5965, 50 iterations in 2.4181 sec\n",
      "Iteration  250, KL divergence 3.5966, 50 iterations in 2.4154 sec\n",
      "   --> Time elapsed: 12.47 seconds\n",
      "===> Running optimization with exaggeration=1.00, lr=3850.00 for 500 iterations...\n",
      "Iteration   50, KL divergence 1.3799, 50 iterations in 2.3175 sec\n",
      "Iteration  100, KL divergence 1.2559, 50 iterations in 2.2731 sec\n",
      "Iteration  150, KL divergence 1.2070, 50 iterations in 2.2886 sec\n",
      "Iteration  200, KL divergence 1.1812, 50 iterations in 2.3014 sec\n",
      "Iteration  250, KL divergence 1.1651, 50 iterations in 2.3134 sec\n",
      "Iteration  300, KL divergence 1.1551, 50 iterations in 2.3258 sec\n",
      "Iteration  350, KL divergence 1.1469, 50 iterations in 2.3428 sec\n",
      "Iteration  400, KL divergence 1.1410, 50 iterations in 2.3552 sec\n",
      "Iteration  450, KL divergence 1.1365, 50 iterations in 2.3588 sec\n",
      "Iteration  500, KL divergence 1.1323, 50 iterations in 2.3550 sec\n",
      "   --> Time elapsed: 23.23 seconds\n",
      "smartseq seed: 1 scaled: False\n",
      "PCA2\n",
      "PCA50\n",
      "UMAP\n",
      "UMAP(random_state=1, verbose=True)\n",
      "Fri Feb 23 21:58:07 2024 Construct fuzzy simplicial set\n"
     ]
    },
    {
     "name": "stderr",
     "output_type": "stream",
     "text": [
      "/home/jan/anaconda3/envs/elephant_analysis_env2/lib/python3.11/site-packages/umap/umap_.py:1943: UserWarning: n_jobs value -1 overridden to 1 by setting random_state. Use no seed for parallelism.\n",
      "  warn(f\"n_jobs value {self.n_jobs} overridden to 1 by setting random_state. Use no seed for parallelism.\")\n"
     ]
    },
    {
     "name": "stdout",
     "output_type": "stream",
     "text": [
      "Fri Feb 23 21:58:10 2024 Finding Nearest Neighbors\n",
      "Fri Feb 23 21:58:10 2024 Finished Nearest Neighbor Search\n",
      "Fri Feb 23 21:58:10 2024 Construct embedding\n"
     ]
    },
    {
     "name": "stderr",
     "output_type": "stream",
     "text": [
      "Epochs completed:   4%| ██▍                                                            20/500 [00:00]"
     ]
    },
    {
     "name": "stdout",
     "output_type": "stream",
     "text": [
      "\tcompleted  0  /  500 epochs\n"
     ]
    },
    {
     "name": "stderr",
     "output_type": "stream",
     "text": [
      "Epochs completed:  14%| ████████▊                                                      71/500 [00:00]"
     ]
    },
    {
     "name": "stdout",
     "output_type": "stream",
     "text": [
      "\tcompleted  50  /  500 epochs\n"
     ]
    },
    {
     "name": "stderr",
     "output_type": "stream",
     "text": [
      "Epochs completed:  25%| ███████████████▎                                              125/500 [00:01]"
     ]
    },
    {
     "name": "stdout",
     "output_type": "stream",
     "text": [
      "\tcompleted  100  /  500 epochs\n"
     ]
    },
    {
     "name": "stderr",
     "output_type": "stream",
     "text": [
      "Epochs completed:  36%| █████████████████████▊                                        179/500 [00:01]"
     ]
    },
    {
     "name": "stdout",
     "output_type": "stream",
     "text": [
      "\tcompleted  150  /  500 epochs\n"
     ]
    },
    {
     "name": "stderr",
     "output_type": "stream",
     "text": [
      "Epochs completed:  47%| ████████████████████████████▍                                 233/500 [00:01]"
     ]
    },
    {
     "name": "stdout",
     "output_type": "stream",
     "text": [
      "\tcompleted  200  /  500 epochs\n"
     ]
    },
    {
     "name": "stderr",
     "output_type": "stream",
     "text": [
      "Epochs completed:  54%| ████████████████████████████████▊                             269/500 [00:01]"
     ]
    },
    {
     "name": "stdout",
     "output_type": "stream",
     "text": [
      "\tcompleted  250  /  500 epochs\n"
     ]
    },
    {
     "name": "stderr",
     "output_type": "stream",
     "text": [
      "Epochs completed:  65%| ███████████████████████████████████████▌                      324/500 [00:02]"
     ]
    },
    {
     "name": "stdout",
     "output_type": "stream",
     "text": [
      "\tcompleted  300  /  500 epochs\n"
     ]
    },
    {
     "name": "stderr",
     "output_type": "stream",
     "text": [
      "Epochs completed:  76%| ██████████████████████████████████████████████▎               380/500 [00:02]"
     ]
    },
    {
     "name": "stdout",
     "output_type": "stream",
     "text": [
      "\tcompleted  350  /  500 epochs\n"
     ]
    },
    {
     "name": "stderr",
     "output_type": "stream",
     "text": [
      "Epochs completed:  87%| ████████████████████████████████████████████████████▉         434/500 [00:02]"
     ]
    },
    {
     "name": "stdout",
     "output_type": "stream",
     "text": [
      "\tcompleted  400  /  500 epochs\n"
     ]
    },
    {
     "name": "stderr",
     "output_type": "stream",
     "text": [
      "Epochs completed:  98%| ███████████████████████████████████████████████████████████▌  488/500 [00:03]"
     ]
    },
    {
     "name": "stdout",
     "output_type": "stream",
     "text": [
      "\tcompleted  450  /  500 epochs\n"
     ]
    },
    {
     "name": "stderr",
     "output_type": "stream",
     "text": [
      "Epochs completed: 100%| █████████████████████████████████████████████████████████████ 500/500 [00:03]\n"
     ]
    },
    {
     "name": "stdout",
     "output_type": "stream",
     "text": [
      "Fri Feb 23 21:58:13 2024 Finished embedding\n",
      "TSNE\n",
      "--------------------------------------------------------------------------------\n",
      "TSNE(early_exaggeration=12, random_state=1, verbose=True)\n",
      "--------------------------------------------------------------------------------\n",
      "===> Finding 90 nearest neighbors using Annoy approximate search using euclidean distance...\n",
      "   --> Time elapsed: 0.80 seconds\n",
      "===> Calculating affinity matrix...\n",
      "   --> Time elapsed: 0.05 seconds\n",
      "===> Calculating PCA-based initialization...\n",
      "   --> Time elapsed: 0.01 seconds\n",
      "===> Running optimization with exaggeration=12.00, lr=320.83 for 250 iterations...\n",
      "Iteration   50, KL divergence 3.5381, 50 iterations in 2.6565 sec\n",
      "Iteration  100, KL divergence 3.6023, 50 iterations in 2.4768 sec\n",
      "Iteration  150, KL divergence 3.5991, 50 iterations in 2.4395 sec\n",
      "Iteration  200, KL divergence 3.5997, 50 iterations in 2.3664 sec\n",
      "Iteration  250, KL divergence 3.5997, 50 iterations in 2.3630 sec\n",
      "   --> Time elapsed: 12.30 seconds\n",
      "===> Running optimization with exaggeration=1.00, lr=3850.00 for 500 iterations...\n",
      "Iteration   50, KL divergence 1.3836, 50 iterations in 2.2630 sec\n",
      "Iteration  100, KL divergence 1.2596, 50 iterations in 2.2246 sec\n",
      "Iteration  150, KL divergence 1.2139, 50 iterations in 2.2568 sec\n",
      "Iteration  200, KL divergence 1.1887, 50 iterations in 2.2326 sec\n",
      "Iteration  250, KL divergence 1.1731, 50 iterations in 2.2465 sec\n",
      "Iteration  300, KL divergence 1.1627, 50 iterations in 2.2631 sec\n",
      "Iteration  350, KL divergence 1.1551, 50 iterations in 2.2792 sec\n",
      "Iteration  400, KL divergence 1.1494, 50 iterations in 2.2945 sec\n",
      "Iteration  450, KL divergence 1.1453, 50 iterations in 2.2984 sec\n",
      "Iteration  500, KL divergence 1.1417, 50 iterations in 2.2972 sec\n",
      "   --> Time elapsed: 22.66 seconds\n",
      "smartseq seed: 2 scaled: False\n",
      "PCA2\n",
      "PCA50\n",
      "UMAP\n",
      "UMAP(random_state=2, verbose=True)\n",
      "Fri Feb 23 21:58:50 2024 Construct fuzzy simplicial set\n"
     ]
    },
    {
     "name": "stderr",
     "output_type": "stream",
     "text": [
      "/home/jan/anaconda3/envs/elephant_analysis_env2/lib/python3.11/site-packages/umap/umap_.py:1943: UserWarning: n_jobs value -1 overridden to 1 by setting random_state. Use no seed for parallelism.\n",
      "  warn(f\"n_jobs value {self.n_jobs} overridden to 1 by setting random_state. Use no seed for parallelism.\")\n"
     ]
    },
    {
     "name": "stdout",
     "output_type": "stream",
     "text": [
      "Fri Feb 23 21:58:53 2024 Finding Nearest Neighbors\n",
      "Fri Feb 23 21:58:53 2024 Finished Nearest Neighbor Search\n",
      "Fri Feb 23 21:58:53 2024 Construct embedding\n"
     ]
    },
    {
     "name": "stderr",
     "output_type": "stream",
     "text": [
      "Epochs completed:   4%| ██▋                                                            22/500 [00:00]"
     ]
    },
    {
     "name": "stdout",
     "output_type": "stream",
     "text": [
      "\tcompleted  0  /  500 epochs\n"
     ]
    },
    {
     "name": "stderr",
     "output_type": "stream",
     "text": [
      "Epochs completed:  16%| █████████▊                                                     79/500 [00:00]"
     ]
    },
    {
     "name": "stdout",
     "output_type": "stream",
     "text": [
      "\tcompleted  50  /  500 epochs\n"
     ]
    },
    {
     "name": "stderr",
     "output_type": "stream",
     "text": [
      "Epochs completed:  27%| ████████████████▌                                             136/500 [00:01]"
     ]
    },
    {
     "name": "stdout",
     "output_type": "stream",
     "text": [
      "\tcompleted  100  /  500 epochs\n"
     ]
    },
    {
     "name": "stderr",
     "output_type": "stream",
     "text": [
      "Epochs completed:  35%| █████████████████████▏                                        174/500 [00:01]"
     ]
    },
    {
     "name": "stdout",
     "output_type": "stream",
     "text": [
      "\tcompleted  150  /  500 epochs\n"
     ]
    },
    {
     "name": "stderr",
     "output_type": "stream",
     "text": [
      "Epochs completed:  46%| ████████████████████████████▏                                 231/500 [00:01]"
     ]
    },
    {
     "name": "stdout",
     "output_type": "stream",
     "text": [
      "\tcompleted  200  /  500 epochs\n"
     ]
    },
    {
     "name": "stderr",
     "output_type": "stream",
     "text": [
      "Epochs completed:  58%| ███████████████████████████████████▏                          288/500 [00:01]"
     ]
    },
    {
     "name": "stdout",
     "output_type": "stream",
     "text": [
      "\tcompleted  250  /  500 epochs\n"
     ]
    },
    {
     "name": "stderr",
     "output_type": "stream",
     "text": [
      "Epochs completed:  65%| ███████████████████████████████████████▊                      326/500 [00:02]"
     ]
    },
    {
     "name": "stdout",
     "output_type": "stream",
     "text": [
      "\tcompleted  300  /  500 epochs\n"
     ]
    },
    {
     "name": "stderr",
     "output_type": "stream",
     "text": [
      "Epochs completed:  77%| ██████████████████████████████████████████████▋               383/500 [00:02]"
     ]
    },
    {
     "name": "stdout",
     "output_type": "stream",
     "text": [
      "\tcompleted  350  /  500 epochs\n"
     ]
    },
    {
     "name": "stderr",
     "output_type": "stream",
     "text": [
      "Epochs completed:  84%| ███████████████████████████████████████████████████▎          421/500 [00:02]"
     ]
    },
    {
     "name": "stdout",
     "output_type": "stream",
     "text": [
      "\tcompleted  400  /  500 epochs\n"
     ]
    },
    {
     "name": "stderr",
     "output_type": "stream",
     "text": [
      "Epochs completed:  96%| ██████████████████████████████████████████████████████████▎   478/500 [00:02]"
     ]
    },
    {
     "name": "stdout",
     "output_type": "stream",
     "text": [
      "\tcompleted  450  /  500 epochs\n"
     ]
    },
    {
     "name": "stderr",
     "output_type": "stream",
     "text": [
      "Epochs completed: 100%| █████████████████████████████████████████████████████████████ 500/500 [00:03]\n"
     ]
    },
    {
     "name": "stdout",
     "output_type": "stream",
     "text": [
      "Fri Feb 23 21:58:56 2024 Finished embedding\n",
      "TSNE\n",
      "--------------------------------------------------------------------------------\n",
      "TSNE(early_exaggeration=12, random_state=2, verbose=True)\n",
      "--------------------------------------------------------------------------------\n",
      "===> Finding 90 nearest neighbors using Annoy approximate search using euclidean distance...\n",
      "   --> Time elapsed: 0.82 seconds\n",
      "===> Calculating affinity matrix...\n",
      "   --> Time elapsed: 0.05 seconds\n",
      "===> Calculating PCA-based initialization...\n",
      "   --> Time elapsed: 0.01 seconds\n",
      "===> Running optimization with exaggeration=12.00, lr=320.83 for 250 iterations...\n",
      "Iteration   50, KL divergence 3.5386, 50 iterations in 2.6853 sec\n",
      "Iteration  100, KL divergence 3.5997, 50 iterations in 2.4915 sec\n",
      "Iteration  150, KL divergence 3.5961, 50 iterations in 2.4637 sec\n",
      "Iteration  200, KL divergence 3.5961, 50 iterations in 2.3970 sec\n",
      "Iteration  250, KL divergence 3.5960, 50 iterations in 2.4018 sec\n",
      "   --> Time elapsed: 12.44 seconds\n",
      "===> Running optimization with exaggeration=1.00, lr=3850.00 for 500 iterations...\n",
      "Iteration   50, KL divergence 1.3844, 50 iterations in 2.3077 sec\n",
      "Iteration  100, KL divergence 1.2585, 50 iterations in 2.2625 sec\n",
      "Iteration  150, KL divergence 1.2101, 50 iterations in 2.2664 sec\n",
      "Iteration  200, KL divergence 1.1842, 50 iterations in 2.2704 sec\n",
      "Iteration  250, KL divergence 1.1689, 50 iterations in 2.2780 sec\n",
      "Iteration  300, KL divergence 1.1580, 50 iterations in 2.2832 sec\n",
      "Iteration  350, KL divergence 1.1505, 50 iterations in 2.3052 sec\n",
      "Iteration  400, KL divergence 1.1450, 50 iterations in 2.3172 sec\n",
      "Iteration  450, KL divergence 1.1411, 50 iterations in 2.3221 sec\n",
      "Iteration  500, KL divergence 1.1379, 50 iterations in 2.3188 sec\n",
      "   --> Time elapsed: 22.93 seconds\n",
      "smartseq seed: 3 scaled: False\n",
      "PCA2\n",
      "PCA50\n",
      "UMAP\n",
      "UMAP(random_state=3, verbose=True)\n",
      "Fri Feb 23 21:59:33 2024 Construct fuzzy simplicial set\n"
     ]
    },
    {
     "name": "stderr",
     "output_type": "stream",
     "text": [
      "/home/jan/anaconda3/envs/elephant_analysis_env2/lib/python3.11/site-packages/umap/umap_.py:1943: UserWarning: n_jobs value -1 overridden to 1 by setting random_state. Use no seed for parallelism.\n",
      "  warn(f\"n_jobs value {self.n_jobs} overridden to 1 by setting random_state. Use no seed for parallelism.\")\n"
     ]
    },
    {
     "name": "stdout",
     "output_type": "stream",
     "text": [
      "Fri Feb 23 21:59:35 2024 Finding Nearest Neighbors\n",
      "Fri Feb 23 21:59:35 2024 Finished Nearest Neighbor Search\n",
      "Fri Feb 23 21:59:35 2024 Construct embedding\n"
     ]
    },
    {
     "name": "stderr",
     "output_type": "stream",
     "text": [
      "Epochs completed:   4%| ██▋                                                            22/500 [00:00]"
     ]
    },
    {
     "name": "stdout",
     "output_type": "stream",
     "text": [
      "\tcompleted  0  /  500 epochs\n"
     ]
    },
    {
     "name": "stderr",
     "output_type": "stream",
     "text": [
      "Epochs completed:  16%| █████████▊                                                     79/500 [00:00]"
     ]
    },
    {
     "name": "stdout",
     "output_type": "stream",
     "text": [
      "\tcompleted  50  /  500 epochs\n"
     ]
    },
    {
     "name": "stderr",
     "output_type": "stream",
     "text": [
      "Epochs completed:  27%| ████████████████▌                                             136/500 [00:01]"
     ]
    },
    {
     "name": "stdout",
     "output_type": "stream",
     "text": [
      "\tcompleted  100  /  500 epochs\n"
     ]
    },
    {
     "name": "stderr",
     "output_type": "stream",
     "text": [
      "Epochs completed:  35%| █████████████████████▏                                        174/500 [00:01]"
     ]
    },
    {
     "name": "stdout",
     "output_type": "stream",
     "text": [
      "\tcompleted  150  /  500 epochs\n"
     ]
    },
    {
     "name": "stderr",
     "output_type": "stream",
     "text": [
      "Epochs completed:  46%| ████████████████████████████▏                                 231/500 [00:01]"
     ]
    },
    {
     "name": "stdout",
     "output_type": "stream",
     "text": [
      "\tcompleted  200  /  500 epochs\n"
     ]
    },
    {
     "name": "stderr",
     "output_type": "stream",
     "text": [
      "Epochs completed:  58%| ███████████████████████████████████▏                          288/500 [00:01]"
     ]
    },
    {
     "name": "stdout",
     "output_type": "stream",
     "text": [
      "\tcompleted  250  /  500 epochs\n"
     ]
    },
    {
     "name": "stderr",
     "output_type": "stream",
     "text": [
      "Epochs completed:  65%| ███████████████████████████████████████▊                      326/500 [00:02]"
     ]
    },
    {
     "name": "stdout",
     "output_type": "stream",
     "text": [
      "\tcompleted  300  /  500 epochs\n"
     ]
    },
    {
     "name": "stderr",
     "output_type": "stream",
     "text": [
      "Epochs completed:  77%| ██████████████████████████████████████████████▋               383/500 [00:02]"
     ]
    },
    {
     "name": "stdout",
     "output_type": "stream",
     "text": [
      "\tcompleted  350  /  500 epochs\n"
     ]
    },
    {
     "name": "stderr",
     "output_type": "stream",
     "text": [
      "Epochs completed:  84%| ███████████████████████████████████████████████████▎          421/500 [00:02]"
     ]
    },
    {
     "name": "stdout",
     "output_type": "stream",
     "text": [
      "\tcompleted  400  /  500 epochs\n"
     ]
    },
    {
     "name": "stderr",
     "output_type": "stream",
     "text": [
      "Epochs completed:  96%| ██████████████████████████████████████████████████████████▎   478/500 [00:02]"
     ]
    },
    {
     "name": "stdout",
     "output_type": "stream",
     "text": [
      "\tcompleted  450  /  500 epochs\n"
     ]
    },
    {
     "name": "stderr",
     "output_type": "stream",
     "text": [
      "Epochs completed: 100%| █████████████████████████████████████████████████████████████ 500/500 [00:03]\n"
     ]
    },
    {
     "name": "stdout",
     "output_type": "stream",
     "text": [
      "Fri Feb 23 21:59:39 2024 Finished embedding\n",
      "TSNE\n",
      "--------------------------------------------------------------------------------\n",
      "TSNE(early_exaggeration=12, random_state=3, verbose=True)\n",
      "--------------------------------------------------------------------------------\n",
      "===> Finding 90 nearest neighbors using Annoy approximate search using euclidean distance...\n",
      "   --> Time elapsed: 0.82 seconds\n",
      "===> Calculating affinity matrix...\n",
      "   --> Time elapsed: 0.05 seconds\n",
      "===> Calculating PCA-based initialization...\n",
      "   --> Time elapsed: 0.01 seconds\n",
      "===> Running optimization with exaggeration=12.00, lr=320.83 for 250 iterations...\n",
      "Iteration   50, KL divergence 3.5380, 50 iterations in 2.6975 sec\n",
      "Iteration  100, KL divergence 3.6006, 50 iterations in 2.4902 sec\n",
      "Iteration  150, KL divergence 3.5991, 50 iterations in 2.4521 sec\n",
      "Iteration  200, KL divergence 3.5995, 50 iterations in 2.3837 sec\n",
      "Iteration  250, KL divergence 3.5996, 50 iterations in 2.3705 sec\n",
      "   --> Time elapsed: 12.39 seconds\n",
      "===> Running optimization with exaggeration=1.00, lr=3850.00 for 500 iterations...\n",
      "Iteration   50, KL divergence 1.3821, 50 iterations in 2.2853 sec\n",
      "Iteration  100, KL divergence 1.2596, 50 iterations in 2.2335 sec\n",
      "Iteration  150, KL divergence 1.2118, 50 iterations in 2.2265 sec\n",
      "Iteration  200, KL divergence 1.1870, 50 iterations in 2.2499 sec\n",
      "Iteration  250, KL divergence 1.1716, 50 iterations in 2.2408 sec\n",
      "Iteration  300, KL divergence 1.1615, 50 iterations in 2.2408 sec\n",
      "Iteration  350, KL divergence 1.1546, 50 iterations in 2.2735 sec\n",
      "Iteration  400, KL divergence 1.1493, 50 iterations in 2.3182 sec\n",
      "Iteration  450, KL divergence 1.1445, 50 iterations in 2.3169 sec\n",
      "Iteration  500, KL divergence 1.1408, 50 iterations in 2.3228 sec\n",
      "   --> Time elapsed: 22.71 seconds\n",
      "smartseq seed: 4 scaled: False\n",
      "PCA2\n",
      "PCA50\n",
      "UMAP\n",
      "UMAP(random_state=4, verbose=True)\n",
      "Fri Feb 23 22:00:15 2024 Construct fuzzy simplicial set\n"
     ]
    },
    {
     "name": "stderr",
     "output_type": "stream",
     "text": [
      "/home/jan/anaconda3/envs/elephant_analysis_env2/lib/python3.11/site-packages/umap/umap_.py:1943: UserWarning: n_jobs value -1 overridden to 1 by setting random_state. Use no seed for parallelism.\n",
      "  warn(f\"n_jobs value {self.n_jobs} overridden to 1 by setting random_state. Use no seed for parallelism.\")\n"
     ]
    },
    {
     "name": "stdout",
     "output_type": "stream",
     "text": [
      "Fri Feb 23 22:00:18 2024 Finding Nearest Neighbors\n",
      "Fri Feb 23 22:00:18 2024 Finished Nearest Neighbor Search\n",
      "Fri Feb 23 22:00:18 2024 Construct embedding\n"
     ]
    },
    {
     "name": "stderr",
     "output_type": "stream",
     "text": [
      "Epochs completed:   4%| ██▍                                                            20/500 [00:00]"
     ]
    },
    {
     "name": "stdout",
     "output_type": "stream",
     "text": [
      "\tcompleted  0  /  500 epochs\n"
     ]
    },
    {
     "name": "stderr",
     "output_type": "stream",
     "text": [
      "Epochs completed:  15%| █████████▏                                                     74/500 [00:00]"
     ]
    },
    {
     "name": "stdout",
     "output_type": "stream",
     "text": [
      "\tcompleted  50  /  500 epochs\n"
     ]
    },
    {
     "name": "stderr",
     "output_type": "stream",
     "text": [
      "Epochs completed:  26%| ███████████████▌                                              128/500 [00:01]"
     ]
    },
    {
     "name": "stdout",
     "output_type": "stream",
     "text": [
      "\tcompleted  100  /  500 epochs\n"
     ]
    },
    {
     "name": "stderr",
     "output_type": "stream",
     "text": [
      "Epochs completed:  36%| ██████████████████████▏                                       182/500 [00:01]"
     ]
    },
    {
     "name": "stdout",
     "output_type": "stream",
     "text": [
      "\tcompleted  150  /  500 epochs\n"
     ]
    },
    {
     "name": "stderr",
     "output_type": "stream",
     "text": [
      "Epochs completed:  47%| ████████████████████████████▊                                 236/500 [00:01]"
     ]
    },
    {
     "name": "stdout",
     "output_type": "stream",
     "text": [
      "\tcompleted  200  /  500 epochs\n"
     ]
    },
    {
     "name": "stderr",
     "output_type": "stream",
     "text": [
      "Epochs completed:  54%| █████████████████████████████████▏                            272/500 [00:01]"
     ]
    },
    {
     "name": "stdout",
     "output_type": "stream",
     "text": [
      "\tcompleted  250  /  500 epochs\n"
     ]
    },
    {
     "name": "stderr",
     "output_type": "stream",
     "text": [
      "Epochs completed:  65%| ███████████████████████████████████████▊                      326/500 [00:02]"
     ]
    },
    {
     "name": "stdout",
     "output_type": "stream",
     "text": [
      "\tcompleted  300  /  500 epochs\n"
     ]
    },
    {
     "name": "stderr",
     "output_type": "stream",
     "text": [
      "Epochs completed:  76%| ██████████████████████████████████████████████▎               380/500 [00:02]"
     ]
    },
    {
     "name": "stdout",
     "output_type": "stream",
     "text": [
      "\tcompleted  350  /  500 epochs\n"
     ]
    },
    {
     "name": "stderr",
     "output_type": "stream",
     "text": [
      "Epochs completed:  87%| ████████████████████████████████████████████████████▉         434/500 [00:02]"
     ]
    },
    {
     "name": "stdout",
     "output_type": "stream",
     "text": [
      "\tcompleted  400  /  500 epochs\n"
     ]
    },
    {
     "name": "stderr",
     "output_type": "stream",
     "text": [
      "Epochs completed:  94%| █████████████████████████████████████████████████████████▎    470/500 [00:03]"
     ]
    },
    {
     "name": "stdout",
     "output_type": "stream",
     "text": [
      "\tcompleted  450  /  500 epochs\n"
     ]
    },
    {
     "name": "stderr",
     "output_type": "stream",
     "text": [
      "Epochs completed: 100%| █████████████████████████████████████████████████████████████ 500/500 [00:03]\n"
     ]
    },
    {
     "name": "stdout",
     "output_type": "stream",
     "text": [
      "Fri Feb 23 22:00:21 2024 Finished embedding\n",
      "TSNE\n",
      "--------------------------------------------------------------------------------\n",
      "TSNE(early_exaggeration=12, random_state=4, verbose=True)\n",
      "--------------------------------------------------------------------------------\n",
      "===> Finding 90 nearest neighbors using Annoy approximate search using euclidean distance...\n",
      "   --> Time elapsed: 0.84 seconds\n",
      "===> Calculating affinity matrix...\n",
      "   --> Time elapsed: 0.06 seconds\n",
      "===> Calculating PCA-based initialization...\n",
      "   --> Time elapsed: 0.01 seconds\n",
      "===> Running optimization with exaggeration=12.00, lr=320.83 for 250 iterations...\n",
      "Iteration   50, KL divergence 3.5387, 50 iterations in 2.7164 sec\n",
      "Iteration  100, KL divergence 3.6015, 50 iterations in 2.4836 sec\n",
      "Iteration  150, KL divergence 3.5980, 50 iterations in 2.4255 sec\n",
      "Iteration  200, KL divergence 3.5983, 50 iterations in 2.3927 sec\n",
      "Iteration  250, KL divergence 3.5984, 50 iterations in 2.3877 sec\n",
      "   --> Time elapsed: 12.41 seconds\n",
      "===> Running optimization with exaggeration=1.00, lr=3850.00 for 500 iterations...\n",
      "Iteration   50, KL divergence 1.3804, 50 iterations in 2.3123 sec\n",
      "Iteration  100, KL divergence 1.2568, 50 iterations in 2.2366 sec\n",
      "Iteration  150, KL divergence 1.2088, 50 iterations in 2.2408 sec\n",
      "Iteration  200, KL divergence 1.1840, 50 iterations in 2.2660 sec\n",
      "Iteration  250, KL divergence 1.1689, 50 iterations in 2.2855 sec\n",
      "Iteration  300, KL divergence 1.1582, 50 iterations in 2.2907 sec\n",
      "Iteration  350, KL divergence 1.1511, 50 iterations in 2.3150 sec\n",
      "Iteration  400, KL divergence 1.1462, 50 iterations in 2.3301 sec\n",
      "Iteration  450, KL divergence 1.1420, 50 iterations in 2.3332 sec\n",
      "Iteration  500, KL divergence 1.1382, 50 iterations in 2.3396 sec\n",
      "   --> Time elapsed: 22.95 seconds\n",
      "smartseq seed: 0 scaled: True\n",
      "PCA2\n",
      "PCA50\n",
      "UMAP\n",
      "UMAP(random_state=0, verbose=True)\n",
      "Fri Feb 23 22:00:58 2024 Construct fuzzy simplicial set\n"
     ]
    },
    {
     "name": "stderr",
     "output_type": "stream",
     "text": [
      "/home/jan/anaconda3/envs/elephant_analysis_env2/lib/python3.11/site-packages/umap/umap_.py:1943: UserWarning: n_jobs value -1 overridden to 1 by setting random_state. Use no seed for parallelism.\n",
      "  warn(f\"n_jobs value {self.n_jobs} overridden to 1 by setting random_state. Use no seed for parallelism.\")\n"
     ]
    },
    {
     "name": "stdout",
     "output_type": "stream",
     "text": [
      "Fri Feb 23 22:01:01 2024 Finding Nearest Neighbors\n",
      "Fri Feb 23 22:01:01 2024 Finished Nearest Neighbor Search\n",
      "Fri Feb 23 22:01:01 2024 Construct embedding\n"
     ]
    },
    {
     "name": "stderr",
     "output_type": "stream",
     "text": [
      "Epochs completed:   4%| ██▍                                                            20/500 [00:00]"
     ]
    },
    {
     "name": "stdout",
     "output_type": "stream",
     "text": [
      "\tcompleted  0  /  500 epochs\n"
     ]
    },
    {
     "name": "stderr",
     "output_type": "stream",
     "text": [
      "Epochs completed:  14%| ████████▊                                                      71/500 [00:00]"
     ]
    },
    {
     "name": "stdout",
     "output_type": "stream",
     "text": [
      "\tcompleted  50  /  500 epochs\n"
     ]
    },
    {
     "name": "stderr",
     "output_type": "stream",
     "text": [
      "Epochs completed:  24%| ██████████████▉                                               122/500 [00:01]"
     ]
    },
    {
     "name": "stdout",
     "output_type": "stream",
     "text": [
      "\tcompleted  100  /  500 epochs\n"
     ]
    },
    {
     "name": "stderr",
     "output_type": "stream",
     "text": [
      "Epochs completed:  35%| █████████████████████                                         173/500 [00:01]"
     ]
    },
    {
     "name": "stdout",
     "output_type": "stream",
     "text": [
      "\tcompleted  150  /  500 epochs\n"
     ]
    },
    {
     "name": "stderr",
     "output_type": "stream",
     "text": [
      "Epochs completed:  45%| ███████████████████████████▎                                  224/500 [00:01]"
     ]
    },
    {
     "name": "stdout",
     "output_type": "stream",
     "text": [
      "\tcompleted  200  /  500 epochs\n"
     ]
    },
    {
     "name": "stderr",
     "output_type": "stream",
     "text": [
      "Epochs completed:  55%| █████████████████████████████████▌                            275/500 [00:02]"
     ]
    },
    {
     "name": "stdout",
     "output_type": "stream",
     "text": [
      "\tcompleted  250  /  500 epochs\n"
     ]
    },
    {
     "name": "stderr",
     "output_type": "stream",
     "text": [
      "Epochs completed:  65%| ███████████████████████████████████████▊                      326/500 [00:02]"
     ]
    },
    {
     "name": "stdout",
     "output_type": "stream",
     "text": [
      "\tcompleted  300  /  500 epochs\n"
     ]
    },
    {
     "name": "stderr",
     "output_type": "stream",
     "text": [
      "Epochs completed:  75%| █████████████████████████████████████████████▉                377/500 [00:02]"
     ]
    },
    {
     "name": "stdout",
     "output_type": "stream",
     "text": [
      "\tcompleted  350  /  500 epochs\n"
     ]
    },
    {
     "name": "stderr",
     "output_type": "stream",
     "text": [
      "Epochs completed:  86%| ████████████████████████████████████████████████████▏         428/500 [00:02]"
     ]
    },
    {
     "name": "stdout",
     "output_type": "stream",
     "text": [
      "\tcompleted  400  /  500 epochs\n"
     ]
    },
    {
     "name": "stderr",
     "output_type": "stream",
     "text": [
      "Epochs completed:  96%| ██████████████████████████████████████████████████████████▍   479/500 [00:03]"
     ]
    },
    {
     "name": "stdout",
     "output_type": "stream",
     "text": [
      "\tcompleted  450  /  500 epochs\n"
     ]
    },
    {
     "name": "stderr",
     "output_type": "stream",
     "text": [
      "Epochs completed: 100%| █████████████████████████████████████████████████████████████ 500/500 [00:03]\n"
     ]
    },
    {
     "name": "stdout",
     "output_type": "stream",
     "text": [
      "Fri Feb 23 22:01:05 2024 Finished embedding\n",
      "TSNE\n",
      "--------------------------------------------------------------------------------\n",
      "TSNE(early_exaggeration=12, random_state=0, verbose=True)\n",
      "--------------------------------------------------------------------------------\n",
      "===> Finding 90 nearest neighbors using Annoy approximate search using euclidean distance...\n",
      "   --> Time elapsed: 0.85 seconds\n",
      "===> Calculating affinity matrix...\n",
      "   --> Time elapsed: 0.05 seconds\n",
      "===> Calculating PCA-based initialization...\n",
      "   --> Time elapsed: 0.01 seconds\n",
      "===> Running optimization with exaggeration=12.00, lr=320.83 for 250 iterations...\n",
      "Iteration   50, KL divergence 3.6332, 50 iterations in 2.7427 sec\n",
      "Iteration  100, KL divergence 3.7354, 50 iterations in 2.5340 sec\n",
      "Iteration  150, KL divergence 3.7379, 50 iterations in 2.5087 sec\n",
      "Iteration  200, KL divergence 3.7381, 50 iterations in 2.5616 sec\n",
      "Iteration  250, KL divergence 3.7380, 50 iterations in 2.5711 sec\n",
      "   --> Time elapsed: 12.92 seconds\n",
      "===> Running optimization with exaggeration=1.00, lr=3850.00 for 500 iterations...\n",
      "Iteration   50, KL divergence 1.4691, 50 iterations in 2.3706 sec\n",
      "Iteration  100, KL divergence 1.3449, 50 iterations in 2.3141 sec\n",
      "Iteration  150, KL divergence 1.2980, 50 iterations in 2.3187 sec\n",
      "Iteration  200, KL divergence 1.2739, 50 iterations in 2.3491 sec\n",
      "Iteration  250, KL divergence 1.2604, 50 iterations in 2.3699 sec\n",
      "Iteration  300, KL divergence 1.2515, 50 iterations in 2.3839 sec\n",
      "Iteration  350, KL divergence 1.2452, 50 iterations in 2.4045 sec\n",
      "Iteration  400, KL divergence 1.2398, 50 iterations in 2.4059 sec\n",
      "Iteration  450, KL divergence 1.2355, 50 iterations in 2.4037 sec\n",
      "Iteration  500, KL divergence 1.2319, 50 iterations in 2.4013 sec\n",
      "   --> Time elapsed: 23.72 seconds\n",
      "smartseq seed: 1 scaled: True\n",
      "PCA2\n",
      "PCA50\n",
      "UMAP\n",
      "UMAP(random_state=1, verbose=True)\n",
      "Fri Feb 23 22:01:43 2024 Construct fuzzy simplicial set\n"
     ]
    },
    {
     "name": "stderr",
     "output_type": "stream",
     "text": [
      "/home/jan/anaconda3/envs/elephant_analysis_env2/lib/python3.11/site-packages/umap/umap_.py:1943: UserWarning: n_jobs value -1 overridden to 1 by setting random_state. Use no seed for parallelism.\n",
      "  warn(f\"n_jobs value {self.n_jobs} overridden to 1 by setting random_state. Use no seed for parallelism.\")\n"
     ]
    },
    {
     "name": "stdout",
     "output_type": "stream",
     "text": [
      "Fri Feb 23 22:01:45 2024 Finding Nearest Neighbors\n",
      "Fri Feb 23 22:01:45 2024 Finished Nearest Neighbor Search\n",
      "Fri Feb 23 22:01:45 2024 Construct embedding\n"
     ]
    },
    {
     "name": "stderr",
     "output_type": "stream",
     "text": [
      "Epochs completed:   4%| ██▌                                                            21/500 [00:00]"
     ]
    },
    {
     "name": "stdout",
     "output_type": "stream",
     "text": [
      "\tcompleted  0  /  500 epochs\n"
     ]
    },
    {
     "name": "stderr",
     "output_type": "stream",
     "text": [
      "Epochs completed:  16%| █████████▋                                                     78/500 [00:00]"
     ]
    },
    {
     "name": "stdout",
     "output_type": "stream",
     "text": [
      "\tcompleted  50  /  500 epochs\n"
     ]
    },
    {
     "name": "stderr",
     "output_type": "stream",
     "text": [
      "Epochs completed:  27%| ████████████████▍                                             135/500 [00:01]"
     ]
    },
    {
     "name": "stdout",
     "output_type": "stream",
     "text": [
      "\tcompleted  100  /  500 epochs\n"
     ]
    },
    {
     "name": "stderr",
     "output_type": "stream",
     "text": [
      "Epochs completed:  35%| █████████████████████                                         173/500 [00:01]"
     ]
    },
    {
     "name": "stdout",
     "output_type": "stream",
     "text": [
      "\tcompleted  150  /  500 epochs\n"
     ]
    },
    {
     "name": "stderr",
     "output_type": "stream",
     "text": [
      "Epochs completed:  46%| ████████████████████████████                                  230/500 [00:01]"
     ]
    },
    {
     "name": "stdout",
     "output_type": "stream",
     "text": [
      "\tcompleted  200  /  500 epochs\n"
     ]
    },
    {
     "name": "stderr",
     "output_type": "stream",
     "text": [
      "Epochs completed:  57%| ███████████████████████████████████                           287/500 [00:01]"
     ]
    },
    {
     "name": "stdout",
     "output_type": "stream",
     "text": [
      "\tcompleted  250  /  500 epochs\n"
     ]
    },
    {
     "name": "stderr",
     "output_type": "stream",
     "text": [
      "Epochs completed:  65%| ███████████████████████████████████████▋                      325/500 [00:02]"
     ]
    },
    {
     "name": "stdout",
     "output_type": "stream",
     "text": [
      "\tcompleted  300  /  500 epochs\n"
     ]
    },
    {
     "name": "stderr",
     "output_type": "stream",
     "text": [
      "Epochs completed:  76%| ██████████████████████████████████████████████▌               382/500 [00:02]"
     ]
    },
    {
     "name": "stdout",
     "output_type": "stream",
     "text": [
      "\tcompleted  350  /  500 epochs\n"
     ]
    },
    {
     "name": "stderr",
     "output_type": "stream",
     "text": [
      "Epochs completed:  84%| ███████████████████████████████████████████████████▏          420/500 [00:02]"
     ]
    },
    {
     "name": "stdout",
     "output_type": "stream",
     "text": [
      "\tcompleted  400  /  500 epochs\n"
     ]
    },
    {
     "name": "stderr",
     "output_type": "stream",
     "text": [
      "Epochs completed:  95%| ██████████████████████████████████████████████████████████▏   477/500 [00:02]"
     ]
    },
    {
     "name": "stdout",
     "output_type": "stream",
     "text": [
      "\tcompleted  450  /  500 epochs\n"
     ]
    },
    {
     "name": "stderr",
     "output_type": "stream",
     "text": [
      "Epochs completed: 100%| █████████████████████████████████████████████████████████████ 500/500 [00:03]\n"
     ]
    },
    {
     "name": "stdout",
     "output_type": "stream",
     "text": [
      "Fri Feb 23 22:01:49 2024 Finished embedding\n",
      "TSNE\n",
      "--------------------------------------------------------------------------------\n",
      "TSNE(early_exaggeration=12, random_state=1, verbose=True)\n",
      "--------------------------------------------------------------------------------\n",
      "===> Finding 90 nearest neighbors using Annoy approximate search using euclidean distance...\n",
      "   --> Time elapsed: 0.82 seconds\n",
      "===> Calculating affinity matrix...\n",
      "   --> Time elapsed: 0.05 seconds\n",
      "===> Calculating PCA-based initialization...\n",
      "   --> Time elapsed: 0.01 seconds\n",
      "===> Running optimization with exaggeration=12.00, lr=320.83 for 250 iterations...\n",
      "Iteration   50, KL divergence 3.6328, 50 iterations in 2.6912 sec\n",
      "Iteration  100, KL divergence 3.7332, 50 iterations in 2.5002 sec\n",
      "Iteration  150, KL divergence 3.7358, 50 iterations in 2.4700 sec\n",
      "Iteration  200, KL divergence 3.7360, 50 iterations in 2.4709 sec\n",
      "Iteration  250, KL divergence 3.7359, 50 iterations in 2.5716 sec\n",
      "   --> Time elapsed: 12.70 seconds\n",
      "===> Running optimization with exaggeration=1.00, lr=3850.00 for 500 iterations...\n",
      "Iteration   50, KL divergence 1.4659, 50 iterations in 2.3910 sec\n",
      "Iteration  100, KL divergence 1.3397, 50 iterations in 2.3549 sec\n",
      "Iteration  150, KL divergence 1.2922, 50 iterations in 2.3468 sec\n",
      "Iteration  200, KL divergence 1.2687, 50 iterations in 2.3690 sec\n",
      "Iteration  250, KL divergence 1.2549, 50 iterations in 2.3684 sec\n",
      "Iteration  300, KL divergence 1.2455, 50 iterations in 2.3588 sec\n",
      "Iteration  350, KL divergence 1.2389, 50 iterations in 2.3627 sec\n",
      "Iteration  400, KL divergence 1.2337, 50 iterations in 2.3658 sec\n",
      "Iteration  450, KL divergence 1.2292, 50 iterations in 2.3642 sec\n",
      "Iteration  500, KL divergence 1.2259, 50 iterations in 2.3810 sec\n",
      "   --> Time elapsed: 23.66 seconds\n",
      "smartseq seed: 2 scaled: True\n",
      "PCA2\n",
      "PCA50\n",
      "UMAP\n",
      "UMAP(random_state=2, verbose=True)\n",
      "Fri Feb 23 22:02:26 2024 Construct fuzzy simplicial set\n"
     ]
    },
    {
     "name": "stderr",
     "output_type": "stream",
     "text": [
      "/home/jan/anaconda3/envs/elephant_analysis_env2/lib/python3.11/site-packages/umap/umap_.py:1943: UserWarning: n_jobs value -1 overridden to 1 by setting random_state. Use no seed for parallelism.\n",
      "  warn(f\"n_jobs value {self.n_jobs} overridden to 1 by setting random_state. Use no seed for parallelism.\")\n"
     ]
    },
    {
     "name": "stdout",
     "output_type": "stream",
     "text": [
      "Fri Feb 23 22:02:29 2024 Finding Nearest Neighbors\n",
      "Fri Feb 23 22:02:29 2024 Finished Nearest Neighbor Search\n",
      "Fri Feb 23 22:02:29 2024 Construct embedding\n"
     ]
    },
    {
     "name": "stderr",
     "output_type": "stream",
     "text": [
      "Epochs completed:   4%| ██▋                                                            22/500 [00:00]"
     ]
    },
    {
     "name": "stdout",
     "output_type": "stream",
     "text": [
      "\tcompleted  0  /  500 epochs\n"
     ]
    },
    {
     "name": "stderr",
     "output_type": "stream",
     "text": [
      "Epochs completed:  16%| █████████▊                                                     79/500 [00:00]"
     ]
    },
    {
     "name": "stdout",
     "output_type": "stream",
     "text": [
      "\tcompleted  50  /  500 epochs\n"
     ]
    },
    {
     "name": "stderr",
     "output_type": "stream",
     "text": [
      "Epochs completed:  27%| ████████████████▌                                             136/500 [00:01]"
     ]
    },
    {
     "name": "stdout",
     "output_type": "stream",
     "text": [
      "\tcompleted  100  /  500 epochs\n"
     ]
    },
    {
     "name": "stderr",
     "output_type": "stream",
     "text": [
      "Epochs completed:  34%| ████████████████████▉                                         172/500 [00:01]"
     ]
    },
    {
     "name": "stdout",
     "output_type": "stream",
     "text": [
      "\tcompleted  150  /  500 epochs\n"
     ]
    },
    {
     "name": "stderr",
     "output_type": "stream",
     "text": [
      "Epochs completed:  45%| ███████████████████████████▌                                  226/500 [00:01]"
     ]
    },
    {
     "name": "stdout",
     "output_type": "stream",
     "text": [
      "\tcompleted  200  /  500 epochs\n"
     ]
    },
    {
     "name": "stderr",
     "output_type": "stream",
     "text": [
      "Epochs completed:  56%| █████████████████████████████████▉                            278/500 [00:01]"
     ]
    },
    {
     "name": "stdout",
     "output_type": "stream",
     "text": [
      "\tcompleted  250  /  500 epochs\n"
     ]
    },
    {
     "name": "stderr",
     "output_type": "stream",
     "text": [
      "Epochs completed:  66%| ████████████████████████████████████████▏                     329/500 [00:02]"
     ]
    },
    {
     "name": "stdout",
     "output_type": "stream",
     "text": [
      "\tcompleted  300  /  500 epochs\n"
     ]
    },
    {
     "name": "stderr",
     "output_type": "stream",
     "text": [
      "Epochs completed:  76%| ██████████████████████████████████████████████▎               380/500 [00:02]"
     ]
    },
    {
     "name": "stdout",
     "output_type": "stream",
     "text": [
      "\tcompleted  350  /  500 epochs\n"
     ]
    },
    {
     "name": "stderr",
     "output_type": "stream",
     "text": [
      "Epochs completed:  86%| ████████████████████████████████████████████████████▌         431/500 [00:02]"
     ]
    },
    {
     "name": "stdout",
     "output_type": "stream",
     "text": [
      "\tcompleted  400  /  500 epochs\n"
     ]
    },
    {
     "name": "stderr",
     "output_type": "stream",
     "text": [
      "Epochs completed:  96%| ██████████████████████████████████████████████████████████▊   482/500 [00:03]"
     ]
    },
    {
     "name": "stdout",
     "output_type": "stream",
     "text": [
      "\tcompleted  450  /  500 epochs\n"
     ]
    },
    {
     "name": "stderr",
     "output_type": "stream",
     "text": [
      "Epochs completed: 100%| █████████████████████████████████████████████████████████████ 500/500 [00:03]\n"
     ]
    },
    {
     "name": "stdout",
     "output_type": "stream",
     "text": [
      "Fri Feb 23 22:02:32 2024 Finished embedding\n",
      "TSNE\n",
      "--------------------------------------------------------------------------------\n",
      "TSNE(early_exaggeration=12, random_state=2, verbose=True)\n",
      "--------------------------------------------------------------------------------\n",
      "===> Finding 90 nearest neighbors using Annoy approximate search using euclidean distance...\n",
      "   --> Time elapsed: 0.85 seconds\n",
      "===> Calculating affinity matrix...\n",
      "   --> Time elapsed: 0.05 seconds\n",
      "===> Calculating PCA-based initialization...\n",
      "   --> Time elapsed: 0.01 seconds\n",
      "===> Running optimization with exaggeration=12.00, lr=320.83 for 250 iterations...\n",
      "Iteration   50, KL divergence 3.6360, 50 iterations in 2.7525 sec\n",
      "Iteration  100, KL divergence 3.7374, 50 iterations in 2.5784 sec\n",
      "Iteration  150, KL divergence 3.7404, 50 iterations in 2.4687 sec\n",
      "Iteration  200, KL divergence 3.7407, 50 iterations in 2.4814 sec\n",
      "Iteration  250, KL divergence 3.7406, 50 iterations in 2.5630 sec\n",
      "   --> Time elapsed: 12.84 seconds\n",
      "===> Running optimization with exaggeration=1.00, lr=3850.00 for 500 iterations...\n",
      "Iteration   50, KL divergence 1.4717, 50 iterations in 2.3718 sec\n",
      "Iteration  100, KL divergence 1.3456, 50 iterations in 2.3334 sec\n",
      "Iteration  150, KL divergence 1.2982, 50 iterations in 2.3310 sec\n",
      "Iteration  200, KL divergence 1.2744, 50 iterations in 2.3645 sec\n",
      "Iteration  250, KL divergence 1.2604, 50 iterations in 2.3877 sec\n",
      "Iteration  300, KL divergence 1.2506, 50 iterations in 2.4005 sec\n",
      "Iteration  350, KL divergence 1.2437, 50 iterations in 2.3747 sec\n",
      "Iteration  400, KL divergence 1.2385, 50 iterations in 2.3826 sec\n",
      "Iteration  450, KL divergence 1.2342, 50 iterations in 2.3980 sec\n",
      "Iteration  500, KL divergence 1.2309, 50 iterations in 2.4203 sec\n",
      "   --> Time elapsed: 23.77 seconds\n",
      "smartseq seed: 3 scaled: True\n",
      "PCA2\n",
      "PCA50\n",
      "UMAP\n",
      "UMAP(random_state=3, verbose=True)\n",
      "Fri Feb 23 22:03:10 2024 Construct fuzzy simplicial set\n"
     ]
    },
    {
     "name": "stderr",
     "output_type": "stream",
     "text": [
      "/home/jan/anaconda3/envs/elephant_analysis_env2/lib/python3.11/site-packages/umap/umap_.py:1943: UserWarning: n_jobs value -1 overridden to 1 by setting random_state. Use no seed for parallelism.\n",
      "  warn(f\"n_jobs value {self.n_jobs} overridden to 1 by setting random_state. Use no seed for parallelism.\")\n"
     ]
    },
    {
     "name": "stdout",
     "output_type": "stream",
     "text": [
      "Fri Feb 23 22:03:13 2024 Finding Nearest Neighbors\n",
      "Fri Feb 23 22:03:13 2024 Finished Nearest Neighbor Search\n",
      "Fri Feb 23 22:03:13 2024 Construct embedding\n"
     ]
    },
    {
     "name": "stderr",
     "output_type": "stream",
     "text": [
      "Epochs completed:   4%| ██▋                                                            22/500 [00:00]"
     ]
    },
    {
     "name": "stdout",
     "output_type": "stream",
     "text": [
      "\tcompleted  0  /  500 epochs\n"
     ]
    },
    {
     "name": "stderr",
     "output_type": "stream",
     "text": [
      "Epochs completed:  16%| █████████▊                                                     79/500 [00:00]"
     ]
    },
    {
     "name": "stdout",
     "output_type": "stream",
     "text": [
      "\tcompleted  50  /  500 epochs\n"
     ]
    },
    {
     "name": "stderr",
     "output_type": "stream",
     "text": [
      "Epochs completed:  27%| ████████████████▌                                             136/500 [00:01]"
     ]
    },
    {
     "name": "stdout",
     "output_type": "stream",
     "text": [
      "\tcompleted  100  /  500 epochs\n"
     ]
    },
    {
     "name": "stderr",
     "output_type": "stream",
     "text": [
      "Epochs completed:  35%| █████████████████████▏                                        174/500 [00:01]"
     ]
    },
    {
     "name": "stdout",
     "output_type": "stream",
     "text": [
      "\tcompleted  150  /  500 epochs\n"
     ]
    },
    {
     "name": "stderr",
     "output_type": "stream",
     "text": [
      "Epochs completed:  46%| ████████████████████████████▏                                 231/500 [00:01]"
     ]
    },
    {
     "name": "stdout",
     "output_type": "stream",
     "text": [
      "\tcompleted  200  /  500 epochs\n"
     ]
    },
    {
     "name": "stderr",
     "output_type": "stream",
     "text": [
      "Epochs completed:  58%| ███████████████████████████████████▏                          288/500 [00:01]"
     ]
    },
    {
     "name": "stdout",
     "output_type": "stream",
     "text": [
      "\tcompleted  250  /  500 epochs\n"
     ]
    },
    {
     "name": "stderr",
     "output_type": "stream",
     "text": [
      "Epochs completed:  65%| ███████████████████████████████████████▊                      326/500 [00:02]"
     ]
    },
    {
     "name": "stdout",
     "output_type": "stream",
     "text": [
      "\tcompleted  300  /  500 epochs\n"
     ]
    },
    {
     "name": "stderr",
     "output_type": "stream",
     "text": [
      "Epochs completed:  77%| ██████████████████████████████████████████████▋               383/500 [00:02]"
     ]
    },
    {
     "name": "stdout",
     "output_type": "stream",
     "text": [
      "\tcompleted  350  /  500 epochs\n"
     ]
    },
    {
     "name": "stderr",
     "output_type": "stream",
     "text": [
      "Epochs completed:  84%| ███████████████████████████████████████████████████▎          421/500 [00:02]"
     ]
    },
    {
     "name": "stdout",
     "output_type": "stream",
     "text": [
      "\tcompleted  400  /  500 epochs\n"
     ]
    },
    {
     "name": "stderr",
     "output_type": "stream",
     "text": [
      "Epochs completed:  96%| ██████████████████████████████████████████████████████████▎   478/500 [00:02]"
     ]
    },
    {
     "name": "stdout",
     "output_type": "stream",
     "text": [
      "\tcompleted  450  /  500 epochs\n"
     ]
    },
    {
     "name": "stderr",
     "output_type": "stream",
     "text": [
      "Epochs completed: 100%| █████████████████████████████████████████████████████████████ 500/500 [00:03]\n"
     ]
    },
    {
     "name": "stdout",
     "output_type": "stream",
     "text": [
      "Fri Feb 23 22:03:16 2024 Finished embedding\n",
      "TSNE\n",
      "--------------------------------------------------------------------------------\n",
      "TSNE(early_exaggeration=12, random_state=3, verbose=True)\n",
      "--------------------------------------------------------------------------------\n",
      "===> Finding 90 nearest neighbors using Annoy approximate search using euclidean distance...\n",
      "   --> Time elapsed: 0.83 seconds\n",
      "===> Calculating affinity matrix...\n",
      "   --> Time elapsed: 0.05 seconds\n",
      "===> Calculating PCA-based initialization...\n",
      "   --> Time elapsed: 0.01 seconds\n",
      "===> Running optimization with exaggeration=12.00, lr=320.83 for 250 iterations...\n",
      "Iteration   50, KL divergence 3.6295, 50 iterations in 2.7057 sec\n",
      "Iteration  100, KL divergence 3.7334, 50 iterations in 2.4998 sec\n",
      "Iteration  150, KL divergence 3.7359, 50 iterations in 2.4875 sec\n",
      "Iteration  200, KL divergence 3.7359, 50 iterations in 2.5436 sec\n",
      "Iteration  250, KL divergence 3.7358, 50 iterations in 2.5316 sec\n",
      "   --> Time elapsed: 12.77 seconds\n",
      "===> Running optimization with exaggeration=1.00, lr=3850.00 for 500 iterations...\n",
      "Iteration   50, KL divergence 1.4702, 50 iterations in 2.3306 sec\n",
      "Iteration  100, KL divergence 1.3468, 50 iterations in 2.2942 sec\n",
      "Iteration  150, KL divergence 1.3010, 50 iterations in 2.2967 sec\n",
      "Iteration  200, KL divergence 1.2781, 50 iterations in 2.3225 sec\n",
      "Iteration  250, KL divergence 1.2640, 50 iterations in 2.3566 sec\n",
      "Iteration  300, KL divergence 1.2543, 50 iterations in 2.3589 sec\n",
      "Iteration  350, KL divergence 1.2477, 50 iterations in 2.3458 sec\n",
      "Iteration  400, KL divergence 1.2429, 50 iterations in 2.3524 sec\n",
      "Iteration  450, KL divergence 1.2388, 50 iterations in 2.3711 sec\n",
      "Iteration  500, KL divergence 1.2353, 50 iterations in 2.3737 sec\n",
      "   --> Time elapsed: 23.40 seconds\n",
      "smartseq seed: 4 scaled: True\n",
      "PCA2\n",
      "PCA50\n",
      "UMAP\n",
      "UMAP(random_state=4, verbose=True)\n",
      "Fri Feb 23 22:03:54 2024 Construct fuzzy simplicial set\n"
     ]
    },
    {
     "name": "stderr",
     "output_type": "stream",
     "text": [
      "/home/jan/anaconda3/envs/elephant_analysis_env2/lib/python3.11/site-packages/umap/umap_.py:1943: UserWarning: n_jobs value -1 overridden to 1 by setting random_state. Use no seed for parallelism.\n",
      "  warn(f\"n_jobs value {self.n_jobs} overridden to 1 by setting random_state. Use no seed for parallelism.\")\n"
     ]
    },
    {
     "name": "stdout",
     "output_type": "stream",
     "text": [
      "Fri Feb 23 22:03:57 2024 Finding Nearest Neighbors\n",
      "Fri Feb 23 22:03:57 2024 Finished Nearest Neighbor Search\n",
      "Fri Feb 23 22:03:57 2024 Construct embedding\n"
     ]
    },
    {
     "name": "stderr",
     "output_type": "stream",
     "text": [
      "Epochs completed:   4%| ██▌                                                            21/500 [00:00]"
     ]
    },
    {
     "name": "stdout",
     "output_type": "stream",
     "text": [
      "\tcompleted  0  /  500 epochs\n"
     ]
    },
    {
     "name": "stderr",
     "output_type": "stream",
     "text": [
      "Epochs completed:  16%| █████████▋                                                     78/500 [00:00]"
     ]
    },
    {
     "name": "stdout",
     "output_type": "stream",
     "text": [
      "\tcompleted  50  /  500 epochs\n"
     ]
    },
    {
     "name": "stderr",
     "output_type": "stream",
     "text": [
      "Epochs completed:  27%| ████████████████▎                                             134/500 [00:01]"
     ]
    },
    {
     "name": "stdout",
     "output_type": "stream",
     "text": [
      "\tcompleted  100  /  500 epochs\n"
     ]
    },
    {
     "name": "stderr",
     "output_type": "stream",
     "text": [
      "Epochs completed:  34%| ████████████████████▉                                         172/500 [00:01]"
     ]
    },
    {
     "name": "stdout",
     "output_type": "stream",
     "text": [
      "\tcompleted  150  /  500 epochs\n"
     ]
    },
    {
     "name": "stderr",
     "output_type": "stream",
     "text": [
      "Epochs completed:  46%| ███████████████████████████▉                                  229/500 [00:01]"
     ]
    },
    {
     "name": "stdout",
     "output_type": "stream",
     "text": [
      "\tcompleted  200  /  500 epochs\n"
     ]
    },
    {
     "name": "stderr",
     "output_type": "stream",
     "text": [
      "Epochs completed:  57%| ██████████████████████████████████▉                           286/500 [00:01]"
     ]
    },
    {
     "name": "stdout",
     "output_type": "stream",
     "text": [
      "\tcompleted  250  /  500 epochs\n"
     ]
    },
    {
     "name": "stderr",
     "output_type": "stream",
     "text": [
      "Epochs completed:  65%| ███████████████████████████████████████▌                      324/500 [00:02]"
     ]
    },
    {
     "name": "stdout",
     "output_type": "stream",
     "text": [
      "\tcompleted  300  /  500 epochs\n"
     ]
    },
    {
     "name": "stderr",
     "output_type": "stream",
     "text": [
      "Epochs completed:  76%| ██████████████████████████████████████████████▍               381/500 [00:02]"
     ]
    },
    {
     "name": "stdout",
     "output_type": "stream",
     "text": [
      "\tcompleted  350  /  500 epochs\n"
     ]
    },
    {
     "name": "stderr",
     "output_type": "stream",
     "text": [
      "Epochs completed:  88%| █████████████████████████████████████████████████████▍        438/500 [00:02]"
     ]
    },
    {
     "name": "stdout",
     "output_type": "stream",
     "text": [
      "\tcompleted  400  /  500 epochs\n"
     ]
    },
    {
     "name": "stderr",
     "output_type": "stream",
     "text": [
      "Epochs completed:  95%| ██████████████████████████████████████████████████████████    476/500 [00:03]"
     ]
    },
    {
     "name": "stdout",
     "output_type": "stream",
     "text": [
      "\tcompleted  450  /  500 epochs\n"
     ]
    },
    {
     "name": "stderr",
     "output_type": "stream",
     "text": [
      "Epochs completed: 100%| █████████████████████████████████████████████████████████████ 500/500 [00:03]\n"
     ]
    },
    {
     "name": "stdout",
     "output_type": "stream",
     "text": [
      "Fri Feb 23 22:04:00 2024 Finished embedding\n",
      "TSNE\n",
      "--------------------------------------------------------------------------------\n",
      "TSNE(early_exaggeration=12, random_state=4, verbose=True)\n",
      "--------------------------------------------------------------------------------\n",
      "===> Finding 90 nearest neighbors using Annoy approximate search using euclidean distance...\n",
      "   --> Time elapsed: 0.84 seconds\n",
      "===> Calculating affinity matrix...\n",
      "   --> Time elapsed: 0.05 seconds\n",
      "===> Calculating PCA-based initialization...\n",
      "   --> Time elapsed: 0.01 seconds\n",
      "===> Running optimization with exaggeration=12.00, lr=320.83 for 250 iterations...\n",
      "Iteration   50, KL divergence 3.6320, 50 iterations in 2.7522 sec\n",
      "Iteration  100, KL divergence 3.7340, 50 iterations in 2.5000 sec\n",
      "Iteration  150, KL divergence 3.7366, 50 iterations in 2.5257 sec\n",
      "Iteration  200, KL divergence 3.7366, 50 iterations in 2.5410 sec\n",
      "Iteration  250, KL divergence 3.7365, 50 iterations in 2.5602 sec\n",
      "   --> Time elapsed: 12.88 seconds\n",
      "===> Running optimization with exaggeration=1.00, lr=3850.00 for 500 iterations...\n",
      "Iteration   50, KL divergence 1.4718, 50 iterations in 2.3414 sec\n",
      "Iteration  100, KL divergence 1.3459, 50 iterations in 2.2885 sec\n",
      "Iteration  150, KL divergence 1.2991, 50 iterations in 2.3034 sec\n",
      "Iteration  200, KL divergence 1.2756, 50 iterations in 2.3182 sec\n",
      "Iteration  250, KL divergence 1.2616, 50 iterations in 2.3310 sec\n",
      "Iteration  300, KL divergence 1.2517, 50 iterations in 2.3556 sec\n",
      "Iteration  350, KL divergence 1.2449, 50 iterations in 2.3794 sec\n",
      "Iteration  400, KL divergence 1.2397, 50 iterations in 2.3805 sec\n",
      "Iteration  450, KL divergence 1.2352, 50 iterations in 2.3961 sec\n",
      "Iteration  500, KL divergence 1.2318, 50 iterations in 2.4031 sec\n",
      "   --> Time elapsed: 23.50 seconds\n",
      "mnist seed: 0 scaled: False\n",
      "PCA2\n",
      "PCA50\n",
      "UMAP\n",
      "UMAP(random_state=0, verbose=True)\n",
      "Fri Feb 23 22:04:44 2024 Construct fuzzy simplicial set\n",
      "Fri Feb 23 22:04:44 2024 Finding Nearest Neighbors\n",
      "Fri Feb 23 22:04:44 2024 Building RP forest with 18 trees\n",
      "Fri Feb 23 22:04:44 2024 NN descent for 16 iterations\n"
     ]
    },
    {
     "name": "stderr",
     "output_type": "stream",
     "text": [
      "/home/jan/anaconda3/envs/elephant_analysis_env2/lib/python3.11/site-packages/umap/umap_.py:1943: UserWarning: n_jobs value -1 overridden to 1 by setting random_state. Use no seed for parallelism.\n",
      "  warn(f\"n_jobs value {self.n_jobs} overridden to 1 by setting random_state. Use no seed for parallelism.\")\n"
     ]
    },
    {
     "name": "stdout",
     "output_type": "stream",
     "text": [
      "\t 1  /  16\n",
      "\t 2  /  16\n",
      "\t 3  /  16\n",
      "\t 4  /  16\n",
      "\tStopping threshold met -- exiting after 4 iterations\n",
      "Fri Feb 23 22:04:45 2024 Finished Nearest Neighbor Search\n",
      "Fri Feb 23 22:04:45 2024 Construct embedding\n"
     ]
    },
    {
     "name": "stderr",
     "output_type": "stream",
     "text": [
      "Epochs completed:   3%| █▉                                                              6/200 [00:00]"
     ]
    },
    {
     "name": "stdout",
     "output_type": "stream",
     "text": [
      "\tcompleted  0  /  200 epochs\n"
     ]
    },
    {
     "name": "stderr",
     "output_type": "stream",
     "text": [
      "Epochs completed:  11%| ██████▊                                                        22/200 [00:02]"
     ]
    },
    {
     "name": "stdout",
     "output_type": "stream",
     "text": [
      "\tcompleted  20  /  200 epochs\n"
     ]
    },
    {
     "name": "stderr",
     "output_type": "stream",
     "text": [
      "Epochs completed:  21%| █████████████                                                  42/200 [00:04]"
     ]
    },
    {
     "name": "stdout",
     "output_type": "stream",
     "text": [
      "\tcompleted  40  /  200 epochs\n"
     ]
    },
    {
     "name": "stderr",
     "output_type": "stream",
     "text": [
      "Epochs completed:  31%| ███████████████████▏                                           62/200 [00:06]"
     ]
    },
    {
     "name": "stdout",
     "output_type": "stream",
     "text": [
      "\tcompleted  60  /  200 epochs\n"
     ]
    },
    {
     "name": "stderr",
     "output_type": "stream",
     "text": [
      "Epochs completed:  42%| █████████████████████████▋                                     83/200 [00:09]"
     ]
    },
    {
     "name": "stdout",
     "output_type": "stream",
     "text": [
      "\tcompleted  80  /  200 epochs\n"
     ]
    },
    {
     "name": "stderr",
     "output_type": "stream",
     "text": [
      "Epochs completed:  52%| ███████████████████████████████▍                              103/200 [00:11]"
     ]
    },
    {
     "name": "stdout",
     "output_type": "stream",
     "text": [
      "\tcompleted  100  /  200 epochs\n"
     ]
    },
    {
     "name": "stderr",
     "output_type": "stream",
     "text": [
      "Epochs completed:  61%| █████████████████████████████████████▏                        122/200 [00:13]"
     ]
    },
    {
     "name": "stdout",
     "output_type": "stream",
     "text": [
      "\tcompleted  120  /  200 epochs\n"
     ]
    },
    {
     "name": "stderr",
     "output_type": "stream",
     "text": [
      "Epochs completed:  72%| ███████████████████████████████████████████▌                  143/200 [00:15]"
     ]
    },
    {
     "name": "stdout",
     "output_type": "stream",
     "text": [
      "\tcompleted  140  /  200 epochs\n"
     ]
    },
    {
     "name": "stderr",
     "output_type": "stream",
     "text": [
      "Epochs completed:  81%| █████████████████████████████████████████████████▍            162/200 [00:17]"
     ]
    },
    {
     "name": "stdout",
     "output_type": "stream",
     "text": [
      "\tcompleted  160  /  200 epochs\n"
     ]
    },
    {
     "name": "stderr",
     "output_type": "stream",
     "text": [
      "Epochs completed:  92%| ███████████████████████████████████████████████████████▊      183/200 [00:20]"
     ]
    },
    {
     "name": "stdout",
     "output_type": "stream",
     "text": [
      "\tcompleted  180  /  200 epochs\n"
     ]
    },
    {
     "name": "stderr",
     "output_type": "stream",
     "text": [
      "Epochs completed: 100%| █████████████████████████████████████████████████████████████ 200/200 [00:21]\n"
     ]
    },
    {
     "name": "stdout",
     "output_type": "stream",
     "text": [
      "Fri Feb 23 22:05:13 2024 Finished embedding\n",
      "TSNE\n",
      "--------------------------------------------------------------------------------\n",
      "TSNE(early_exaggeration=12, random_state=0, verbose=True)\n",
      "--------------------------------------------------------------------------------\n",
      "===> Finding 90 nearest neighbors using Annoy approximate search using euclidean distance...\n",
      "   --> Time elapsed: 25.56 seconds\n",
      "===> Calculating affinity matrix...\n",
      "   --> Time elapsed: 1.90 seconds\n",
      "===> Calculating PCA-based initialization...\n",
      "   --> Time elapsed: 0.15 seconds\n",
      "===> Running optimization with exaggeration=12.00, lr=5833.33 for 250 iterations...\n",
      "Iteration   50, KL divergence 5.9802, 50 iterations in 2.6086 sec\n",
      "Iteration  100, KL divergence 5.7635, 50 iterations in 2.5783 sec\n",
      "Iteration  150, KL divergence 5.6988, 50 iterations in 2.5659 sec\n",
      "Iteration  200, KL divergence 5.6751, 50 iterations in 2.5778 sec\n",
      "Iteration  250, KL divergence 5.6637, 50 iterations in 2.5663 sec\n",
      "   --> Time elapsed: 12.90 seconds\n",
      "===> Running optimization with exaggeration=1.00, lr=70000.00 for 500 iterations...\n",
      "Iteration   50, KL divergence 3.5604, 50 iterations in 2.6369 sec\n",
      "Iteration  100, KL divergence 3.2914, 50 iterations in 3.2659 sec\n",
      "Iteration  150, KL divergence 3.1540, 50 iterations in 4.0191 sec\n",
      "Iteration  200, KL divergence 3.0644, 50 iterations in 4.7871 sec\n",
      "Iteration  250, KL divergence 2.9996, 50 iterations in 5.5672 sec\n",
      "Iteration  300, KL divergence 2.9492, 50 iterations in 6.2882 sec\n",
      "Iteration  350, KL divergence 2.9087, 50 iterations in 7.0121 sec\n",
      "Iteration  400, KL divergence 2.8750, 50 iterations in 8.2935 sec\n",
      "Iteration  450, KL divergence 2.8462, 50 iterations in 9.3572 sec\n",
      "Iteration  500, KL divergence 2.8218, 50 iterations in 9.9199 sec\n",
      "   --> Time elapsed: 61.15 seconds\n",
      "mnist seed: 1 scaled: False\n",
      "PCA2\n",
      "PCA50\n",
      "UMAP\n",
      "UMAP(random_state=1, verbose=True)\n",
      "Fri Feb 23 22:07:01 2024 Construct fuzzy simplicial set\n",
      "Fri Feb 23 22:07:01 2024 Finding Nearest Neighbors\n",
      "Fri Feb 23 22:07:01 2024 Building RP forest with 18 trees\n",
      "Fri Feb 23 22:07:02 2024 NN descent for 16 iterations\n"
     ]
    },
    {
     "name": "stderr",
     "output_type": "stream",
     "text": [
      "/home/jan/anaconda3/envs/elephant_analysis_env2/lib/python3.11/site-packages/umap/umap_.py:1943: UserWarning: n_jobs value -1 overridden to 1 by setting random_state. Use no seed for parallelism.\n",
      "  warn(f\"n_jobs value {self.n_jobs} overridden to 1 by setting random_state. Use no seed for parallelism.\")\n"
     ]
    },
    {
     "name": "stdout",
     "output_type": "stream",
     "text": [
      "\t 1  /  16\n",
      "\t 2  /  16\n",
      "\t 3  /  16\n",
      "\t 4  /  16\n",
      "\tStopping threshold met -- exiting after 4 iterations\n",
      "Fri Feb 23 22:07:03 2024 Finished Nearest Neighbor Search\n",
      "Fri Feb 23 22:07:03 2024 Construct embedding\n"
     ]
    },
    {
     "name": "stderr",
     "output_type": "stream",
     "text": [
      "Epochs completed:   2%| █▎                                                              4/200 [00:00]"
     ]
    },
    {
     "name": "stdout",
     "output_type": "stream",
     "text": [
      "\tcompleted  0  /  200 epochs\n"
     ]
    },
    {
     "name": "stderr",
     "output_type": "stream",
     "text": [
      "Epochs completed:  11%| ██████▊                                                        22/200 [00:02]"
     ]
    },
    {
     "name": "stdout",
     "output_type": "stream",
     "text": [
      "\tcompleted  20  /  200 epochs\n"
     ]
    },
    {
     "name": "stderr",
     "output_type": "stream",
     "text": [
      "Epochs completed:  22%| █████████████▎                                                 43/200 [00:04]"
     ]
    },
    {
     "name": "stdout",
     "output_type": "stream",
     "text": [
      "\tcompleted  40  /  200 epochs\n"
     ]
    },
    {
     "name": "stderr",
     "output_type": "stream",
     "text": [
      "Epochs completed:  32%| ███████████████████▌                                           63/200 [00:06]"
     ]
    },
    {
     "name": "stdout",
     "output_type": "stream",
     "text": [
      "\tcompleted  60  /  200 epochs\n"
     ]
    },
    {
     "name": "stderr",
     "output_type": "stream",
     "text": [
      "Epochs completed:  41%| █████████████████████████▍                                     82/200 [00:09]"
     ]
    },
    {
     "name": "stdout",
     "output_type": "stream",
     "text": [
      "\tcompleted  80  /  200 epochs\n"
     ]
    },
    {
     "name": "stderr",
     "output_type": "stream",
     "text": [
      "Epochs completed:  51%| ███████████████████████████████                               102/200 [00:11]"
     ]
    },
    {
     "name": "stdout",
     "output_type": "stream",
     "text": [
      "\tcompleted  100  /  200 epochs\n"
     ]
    },
    {
     "name": "stderr",
     "output_type": "stream",
     "text": [
      "Epochs completed:  62%| █████████████████████████████████████▌                        123/200 [00:13]"
     ]
    },
    {
     "name": "stdout",
     "output_type": "stream",
     "text": [
      "\tcompleted  120  /  200 epochs\n"
     ]
    },
    {
     "name": "stderr",
     "output_type": "stream",
     "text": [
      "Epochs completed:  72%| ███████████████████████████████████████████▌                  143/200 [00:15]"
     ]
    },
    {
     "name": "stdout",
     "output_type": "stream",
     "text": [
      "\tcompleted  140  /  200 epochs\n"
     ]
    },
    {
     "name": "stderr",
     "output_type": "stream",
     "text": [
      "Epochs completed:  82%| █████████████████████████████████████████████████▋            163/200 [00:17]"
     ]
    },
    {
     "name": "stdout",
     "output_type": "stream",
     "text": [
      "\tcompleted  160  /  200 epochs\n"
     ]
    },
    {
     "name": "stderr",
     "output_type": "stream",
     "text": [
      "Epochs completed:  91%| ███████████████████████████████████████████████████████▌      182/200 [00:19]"
     ]
    },
    {
     "name": "stdout",
     "output_type": "stream",
     "text": [
      "\tcompleted  180  /  200 epochs\n"
     ]
    },
    {
     "name": "stderr",
     "output_type": "stream",
     "text": [
      "Epochs completed: 100%| █████████████████████████████████████████████████████████████ 200/200 [00:21]\n"
     ]
    },
    {
     "name": "stdout",
     "output_type": "stream",
     "text": [
      "Fri Feb 23 22:07:30 2024 Finished embedding\n",
      "TSNE\n",
      "--------------------------------------------------------------------------------\n",
      "TSNE(early_exaggeration=12, random_state=1, verbose=True)\n",
      "--------------------------------------------------------------------------------\n",
      "===> Finding 90 nearest neighbors using Annoy approximate search using euclidean distance...\n",
      "   --> Time elapsed: 25.79 seconds\n",
      "===> Calculating affinity matrix...\n",
      "   --> Time elapsed: 2.05 seconds\n",
      "===> Calculating PCA-based initialization...\n",
      "   --> Time elapsed: 0.21 seconds\n",
      "===> Running optimization with exaggeration=12.00, lr=5833.33 for 250 iterations...\n",
      "Iteration   50, KL divergence 5.9835, 50 iterations in 2.6254 sec\n",
      "Iteration  100, KL divergence 5.7655, 50 iterations in 2.6065 sec\n",
      "Iteration  150, KL divergence 5.7005, 50 iterations in 2.5916 sec\n",
      "Iteration  200, KL divergence 5.6768, 50 iterations in 2.5933 sec\n",
      "Iteration  250, KL divergence 5.6652, 50 iterations in 2.5914 sec\n",
      "   --> Time elapsed: 13.01 seconds\n",
      "===> Running optimization with exaggeration=1.00, lr=70000.00 for 500 iterations...\n",
      "Iteration   50, KL divergence 3.5602, 50 iterations in 2.6757 sec\n",
      "Iteration  100, KL divergence 3.2915, 50 iterations in 3.2960 sec\n",
      "Iteration  150, KL divergence 3.1544, 50 iterations in 4.1387 sec\n",
      "Iteration  200, KL divergence 3.0649, 50 iterations in 4.9193 sec\n",
      "Iteration  250, KL divergence 3.0001, 50 iterations in 5.7924 sec\n",
      "Iteration  300, KL divergence 2.9503, 50 iterations in 6.4212 sec\n",
      "Iteration  350, KL divergence 2.9097, 50 iterations in 7.3103 sec\n",
      "Iteration  400, KL divergence 2.8760, 50 iterations in 8.4852 sec\n",
      "Iteration  450, KL divergence 2.8473, 50 iterations in 10.0590 sec\n",
      "Iteration  500, KL divergence 2.8234, 50 iterations in 10.0565 sec\n",
      "   --> Time elapsed: 63.15 seconds\n",
      "mnist seed: 2 scaled: False\n",
      "PCA2\n",
      "PCA50\n",
      "UMAP\n",
      "UMAP(random_state=2, verbose=True)\n",
      "Fri Feb 23 22:09:20 2024 Construct fuzzy simplicial set\n",
      "Fri Feb 23 22:09:20 2024 Finding Nearest Neighbors\n",
      "Fri Feb 23 22:09:20 2024 Building RP forest with 18 trees\n",
      "Fri Feb 23 22:09:20 2024 NN descent for 16 iterations\n"
     ]
    },
    {
     "name": "stderr",
     "output_type": "stream",
     "text": [
      "/home/jan/anaconda3/envs/elephant_analysis_env2/lib/python3.11/site-packages/umap/umap_.py:1943: UserWarning: n_jobs value -1 overridden to 1 by setting random_state. Use no seed for parallelism.\n",
      "  warn(f\"n_jobs value {self.n_jobs} overridden to 1 by setting random_state. Use no seed for parallelism.\")\n"
     ]
    },
    {
     "name": "stdout",
     "output_type": "stream",
     "text": [
      "\t 1  /  16\n",
      "\t 2  /  16\n",
      "\t 3  /  16\n",
      "\t 4  /  16\n",
      "\tStopping threshold met -- exiting after 4 iterations\n",
      "Fri Feb 23 22:09:22 2024 Finished Nearest Neighbor Search\n",
      "Fri Feb 23 22:09:22 2024 Construct embedding\n"
     ]
    },
    {
     "name": "stderr",
     "output_type": "stream",
     "text": [
      "Epochs completed:   2%| █▎                                                              4/200 [00:00]"
     ]
    },
    {
     "name": "stdout",
     "output_type": "stream",
     "text": [
      "\tcompleted  0  /  200 epochs\n"
     ]
    },
    {
     "name": "stderr",
     "output_type": "stream",
     "text": [
      "Epochs completed:  11%| ██████▊                                                        22/200 [00:02]"
     ]
    },
    {
     "name": "stdout",
     "output_type": "stream",
     "text": [
      "\tcompleted  20  /  200 epochs\n"
     ]
    },
    {
     "name": "stderr",
     "output_type": "stream",
     "text": [
      "Epochs completed:  22%| █████████████▎                                                 43/200 [00:04]"
     ]
    },
    {
     "name": "stdout",
     "output_type": "stream",
     "text": [
      "\tcompleted  40  /  200 epochs\n"
     ]
    },
    {
     "name": "stderr",
     "output_type": "stream",
     "text": [
      "Epochs completed:  31%| ███████████████████▏                                           62/200 [00:06]"
     ]
    },
    {
     "name": "stdout",
     "output_type": "stream",
     "text": [
      "\tcompleted  60  /  200 epochs\n"
     ]
    },
    {
     "name": "stderr",
     "output_type": "stream",
     "text": [
      "Epochs completed:  42%| █████████████████████████▋                                     83/200 [00:09]"
     ]
    },
    {
     "name": "stdout",
     "output_type": "stream",
     "text": [
      "\tcompleted  80  /  200 epochs\n"
     ]
    },
    {
     "name": "stderr",
     "output_type": "stream",
     "text": [
      "Epochs completed:  52%| ███████████████████████████████▍                              103/200 [00:11]"
     ]
    },
    {
     "name": "stdout",
     "output_type": "stream",
     "text": [
      "\tcompleted  100  /  200 epochs\n"
     ]
    },
    {
     "name": "stderr",
     "output_type": "stream",
     "text": [
      "Epochs completed:  62%| █████████████████████████████████████▌                        123/200 [00:13]"
     ]
    },
    {
     "name": "stdout",
     "output_type": "stream",
     "text": [
      "\tcompleted  120  /  200 epochs\n"
     ]
    },
    {
     "name": "stderr",
     "output_type": "stream",
     "text": [
      "Epochs completed:  72%| ███████████████████████████████████████████▌                  143/200 [00:15]"
     ]
    },
    {
     "name": "stdout",
     "output_type": "stream",
     "text": [
      "\tcompleted  140  /  200 epochs\n"
     ]
    },
    {
     "name": "stderr",
     "output_type": "stream",
     "text": [
      "Epochs completed:  82%| █████████████████████████████████████████████████▋            163/200 [00:18]"
     ]
    },
    {
     "name": "stdout",
     "output_type": "stream",
     "text": [
      "\tcompleted  160  /  200 epochs\n"
     ]
    },
    {
     "name": "stderr",
     "output_type": "stream",
     "text": [
      "Epochs completed:  91%| ███████████████████████████████████████████████████████▌      182/200 [00:20]"
     ]
    },
    {
     "name": "stdout",
     "output_type": "stream",
     "text": [
      "\tcompleted  180  /  200 epochs\n"
     ]
    },
    {
     "name": "stderr",
     "output_type": "stream",
     "text": [
      "Epochs completed: 100%| █████████████████████████████████████████████████████████████ 200/200 [00:21]\n"
     ]
    },
    {
     "name": "stdout",
     "output_type": "stream",
     "text": [
      "Fri Feb 23 22:09:49 2024 Finished embedding\n",
      "TSNE\n",
      "--------------------------------------------------------------------------------\n",
      "TSNE(early_exaggeration=12, random_state=2, verbose=True)\n",
      "--------------------------------------------------------------------------------\n",
      "===> Finding 90 nearest neighbors using Annoy approximate search using euclidean distance...\n",
      "   --> Time elapsed: 25.68 seconds\n",
      "===> Calculating affinity matrix...\n",
      "   --> Time elapsed: 1.94 seconds\n",
      "===> Calculating PCA-based initialization...\n",
      "   --> Time elapsed: 0.15 seconds\n",
      "===> Running optimization with exaggeration=12.00, lr=5833.33 for 250 iterations...\n",
      "Iteration   50, KL divergence 5.9792, 50 iterations in 2.6425 sec\n",
      "Iteration  100, KL divergence 5.7624, 50 iterations in 2.6112 sec\n",
      "Iteration  150, KL divergence 5.6972, 50 iterations in 2.6052 sec\n",
      "Iteration  200, KL divergence 5.6738, 50 iterations in 2.5994 sec\n",
      "Iteration  250, KL divergence 5.6622, 50 iterations in 2.5990 sec\n",
      "   --> Time elapsed: 13.06 seconds\n",
      "===> Running optimization with exaggeration=1.00, lr=70000.00 for 500 iterations...\n",
      "Iteration   50, KL divergence 3.5593, 50 iterations in 2.6707 sec\n",
      "Iteration  100, KL divergence 3.2893, 50 iterations in 3.2863 sec\n",
      "Iteration  150, KL divergence 3.1519, 50 iterations in 4.1244 sec\n",
      "Iteration  200, KL divergence 3.0621, 50 iterations in 4.8958 sec\n",
      "Iteration  250, KL divergence 2.9973, 50 iterations in 5.6412 sec\n",
      "Iteration  300, KL divergence 2.9470, 50 iterations in 6.3894 sec\n",
      "Iteration  350, KL divergence 2.9069, 50 iterations in 7.0315 sec\n",
      "Iteration  400, KL divergence 2.8734, 50 iterations in 7.9341 sec\n",
      "Iteration  450, KL divergence 2.8448, 50 iterations in 9.1423 sec\n",
      "Iteration  500, KL divergence 2.8203, 50 iterations in 9.7275 sec\n",
      "   --> Time elapsed: 60.84 seconds\n",
      "mnist seed: 3 scaled: False\n",
      "PCA2\n",
      "PCA50\n",
      "UMAP\n",
      "UMAP(random_state=3, verbose=True)\n",
      "Fri Feb 23 22:11:38 2024 Construct fuzzy simplicial set\n",
      "Fri Feb 23 22:11:38 2024 Finding Nearest Neighbors\n",
      "Fri Feb 23 22:11:38 2024 Building RP forest with 18 trees\n",
      "Fri Feb 23 22:11:38 2024 NN descent for 16 iterations\n"
     ]
    },
    {
     "name": "stderr",
     "output_type": "stream",
     "text": [
      "/home/jan/anaconda3/envs/elephant_analysis_env2/lib/python3.11/site-packages/umap/umap_.py:1943: UserWarning: n_jobs value -1 overridden to 1 by setting random_state. Use no seed for parallelism.\n",
      "  warn(f\"n_jobs value {self.n_jobs} overridden to 1 by setting random_state. Use no seed for parallelism.\")\n"
     ]
    },
    {
     "name": "stdout",
     "output_type": "stream",
     "text": [
      "\t 1  /  16\n",
      "\t 2  /  16\n",
      "\t 3  /  16\n",
      "\t 4  /  16\n",
      "\tStopping threshold met -- exiting after 4 iterations\n",
      "Fri Feb 23 22:11:39 2024 Finished Nearest Neighbor Search\n",
      "Fri Feb 23 22:11:39 2024 Construct embedding\n"
     ]
    },
    {
     "name": "stderr",
     "output_type": "stream",
     "text": [
      "Epochs completed:   2%| █▎                                                              4/200 [00:00]"
     ]
    },
    {
     "name": "stdout",
     "output_type": "stream",
     "text": [
      "\tcompleted  0  /  200 epochs\n"
     ]
    },
    {
     "name": "stderr",
     "output_type": "stream",
     "text": [
      "Epochs completed:  12%| ███████▏                                                       23/200 [00:02]"
     ]
    },
    {
     "name": "stdout",
     "output_type": "stream",
     "text": [
      "\tcompleted  20  /  200 epochs\n"
     ]
    },
    {
     "name": "stderr",
     "output_type": "stream",
     "text": [
      "Epochs completed:  22%| █████████████▎                                                 43/200 [00:04]"
     ]
    },
    {
     "name": "stdout",
     "output_type": "stream",
     "text": [
      "\tcompleted  40  /  200 epochs\n"
     ]
    },
    {
     "name": "stderr",
     "output_type": "stream",
     "text": [
      "Epochs completed:  32%| ███████████████████▌                                           63/200 [00:06]"
     ]
    },
    {
     "name": "stdout",
     "output_type": "stream",
     "text": [
      "\tcompleted  60  /  200 epochs\n"
     ]
    },
    {
     "name": "stderr",
     "output_type": "stream",
     "text": [
      "Epochs completed:  41%| █████████████████████████▍                                     82/200 [00:08]"
     ]
    },
    {
     "name": "stdout",
     "output_type": "stream",
     "text": [
      "\tcompleted  80  /  200 epochs\n"
     ]
    },
    {
     "name": "stderr",
     "output_type": "stream",
     "text": [
      "Epochs completed:  51%| ███████████████████████████████                               102/200 [00:10]"
     ]
    },
    {
     "name": "stdout",
     "output_type": "stream",
     "text": [
      "\tcompleted  100  /  200 epochs\n"
     ]
    },
    {
     "name": "stderr",
     "output_type": "stream",
     "text": [
      "Epochs completed:  62%| █████████████████████████████████████▌                        123/200 [00:13]"
     ]
    },
    {
     "name": "stdout",
     "output_type": "stream",
     "text": [
      "\tcompleted  120  /  200 epochs\n"
     ]
    },
    {
     "name": "stderr",
     "output_type": "stream",
     "text": [
      "Epochs completed:  72%| ███████████████████████████████████████████▌                  143/200 [00:15]"
     ]
    },
    {
     "name": "stdout",
     "output_type": "stream",
     "text": [
      "\tcompleted  140  /  200 epochs\n"
     ]
    },
    {
     "name": "stderr",
     "output_type": "stream",
     "text": [
      "Epochs completed:  82%| █████████████████████████████████████████████████▋            163/200 [00:17]"
     ]
    },
    {
     "name": "stdout",
     "output_type": "stream",
     "text": [
      "\tcompleted  160  /  200 epochs\n"
     ]
    },
    {
     "name": "stderr",
     "output_type": "stream",
     "text": [
      "Epochs completed:  92%| ███████████████████████████████████████████████████████▊      183/200 [00:19]"
     ]
    },
    {
     "name": "stdout",
     "output_type": "stream",
     "text": [
      "\tcompleted  180  /  200 epochs\n"
     ]
    },
    {
     "name": "stderr",
     "output_type": "stream",
     "text": [
      "Epochs completed: 100%| █████████████████████████████████████████████████████████████ 200/200 [00:21]\n"
     ]
    },
    {
     "name": "stdout",
     "output_type": "stream",
     "text": [
      "Fri Feb 23 22:12:06 2024 Finished embedding\n",
      "TSNE\n",
      "--------------------------------------------------------------------------------\n",
      "TSNE(early_exaggeration=12, random_state=3, verbose=True)\n",
      "--------------------------------------------------------------------------------\n",
      "===> Finding 90 nearest neighbors using Annoy approximate search using euclidean distance...\n",
      "   --> Time elapsed: 26.29 seconds\n",
      "===> Calculating affinity matrix...\n",
      "   --> Time elapsed: 1.98 seconds\n",
      "===> Calculating PCA-based initialization...\n",
      "   --> Time elapsed: 0.15 seconds\n",
      "===> Running optimization with exaggeration=12.00, lr=5833.33 for 250 iterations...\n",
      "Iteration   50, KL divergence 5.9799, 50 iterations in 2.6247 sec\n",
      "Iteration  100, KL divergence 5.7620, 50 iterations in 2.5903 sec\n",
      "Iteration  150, KL divergence 5.6967, 50 iterations in 2.5820 sec\n",
      "Iteration  200, KL divergence 5.6730, 50 iterations in 2.5925 sec\n",
      "Iteration  250, KL divergence 5.6613, 50 iterations in 2.6135 sec\n",
      "   --> Time elapsed: 13.00 seconds\n",
      "===> Running optimization with exaggeration=1.00, lr=70000.00 for 500 iterations...\n",
      "Iteration   50, KL divergence 3.5599, 50 iterations in 2.7008 sec\n",
      "Iteration  100, KL divergence 3.2902, 50 iterations in 3.3611 sec\n",
      "Iteration  150, KL divergence 3.1525, 50 iterations in 4.2597 sec\n",
      "Iteration  200, KL divergence 3.0631, 50 iterations in 5.0561 sec\n",
      "Iteration  250, KL divergence 2.9983, 50 iterations in 5.8686 sec\n",
      "Iteration  300, KL divergence 2.9486, 50 iterations in 6.6061 sec\n",
      "Iteration  350, KL divergence 2.9084, 50 iterations in 8.0725 sec\n",
      "Iteration  400, KL divergence 2.8743, 50 iterations in 9.7605 sec\n",
      "Iteration  450, KL divergence 2.8459, 50 iterations in 10.7651 sec\n",
      "Iteration  500, KL divergence 2.8217, 50 iterations in 11.1955 sec\n",
      "   --> Time elapsed: 67.65 seconds\n",
      "mnist seed: 4 scaled: False\n",
      "PCA2\n",
      "PCA50\n",
      "UMAP\n",
      "UMAP(random_state=4, verbose=True)\n",
      "Fri Feb 23 22:14:02 2024 Construct fuzzy simplicial set\n",
      "Fri Feb 23 22:14:02 2024 Finding Nearest Neighbors\n",
      "Fri Feb 23 22:14:02 2024 Building RP forest with 18 trees\n",
      "Fri Feb 23 22:14:03 2024 NN descent for 16 iterations\n"
     ]
    },
    {
     "name": "stderr",
     "output_type": "stream",
     "text": [
      "/home/jan/anaconda3/envs/elephant_analysis_env2/lib/python3.11/site-packages/umap/umap_.py:1943: UserWarning: n_jobs value -1 overridden to 1 by setting random_state. Use no seed for parallelism.\n",
      "  warn(f\"n_jobs value {self.n_jobs} overridden to 1 by setting random_state. Use no seed for parallelism.\")\n"
     ]
    },
    {
     "name": "stdout",
     "output_type": "stream",
     "text": [
      "\t 1  /  16\n",
      "\t 2  /  16\n",
      "\t 3  /  16\n",
      "\t 4  /  16\n",
      "\tStopping threshold met -- exiting after 4 iterations\n",
      "Fri Feb 23 22:14:04 2024 Finished Nearest Neighbor Search\n",
      "Fri Feb 23 22:14:04 2024 Construct embedding\n"
     ]
    },
    {
     "name": "stderr",
     "output_type": "stream",
     "text": [
      "Epochs completed:   2%| █▎                                                              4/200 [00:00]"
     ]
    },
    {
     "name": "stdout",
     "output_type": "stream",
     "text": [
      "\tcompleted  0  /  200 epochs\n"
     ]
    },
    {
     "name": "stderr",
     "output_type": "stream",
     "text": [
      "Epochs completed:  12%| ███████▏                                                       23/200 [00:02]"
     ]
    },
    {
     "name": "stdout",
     "output_type": "stream",
     "text": [
      "\tcompleted  20  /  200 epochs\n"
     ]
    },
    {
     "name": "stderr",
     "output_type": "stream",
     "text": [
      "Epochs completed:  21%| █████████████                                                  42/200 [00:04]"
     ]
    },
    {
     "name": "stdout",
     "output_type": "stream",
     "text": [
      "\tcompleted  40  /  200 epochs\n"
     ]
    },
    {
     "name": "stderr",
     "output_type": "stream",
     "text": [
      "Epochs completed:  32%| ███████████████████▌                                           63/200 [00:06]"
     ]
    },
    {
     "name": "stdout",
     "output_type": "stream",
     "text": [
      "\tcompleted  60  /  200 epochs\n"
     ]
    },
    {
     "name": "stderr",
     "output_type": "stream",
     "text": [
      "Epochs completed:  42%| █████████████████████████▋                                     83/200 [00:09]"
     ]
    },
    {
     "name": "stdout",
     "output_type": "stream",
     "text": [
      "\tcompleted  80  /  200 epochs\n"
     ]
    },
    {
     "name": "stderr",
     "output_type": "stream",
     "text": [
      "Epochs completed:  51%| ███████████████████████████████                               102/200 [00:11]"
     ]
    },
    {
     "name": "stdout",
     "output_type": "stream",
     "text": [
      "\tcompleted  100  /  200 epochs\n"
     ]
    },
    {
     "name": "stderr",
     "output_type": "stream",
     "text": [
      "Epochs completed:  62%| █████████████████████████████████████▌                        123/200 [00:13]"
     ]
    },
    {
     "name": "stdout",
     "output_type": "stream",
     "text": [
      "\tcompleted  120  /  200 epochs\n"
     ]
    },
    {
     "name": "stderr",
     "output_type": "stream",
     "text": [
      "Epochs completed:  71%| ███████████████████████████████████████████▎                  142/200 [00:15]"
     ]
    },
    {
     "name": "stdout",
     "output_type": "stream",
     "text": [
      "\tcompleted  140  /  200 epochs\n"
     ]
    },
    {
     "name": "stderr",
     "output_type": "stream",
     "text": [
      "Epochs completed:  82%| █████████████████████████████████████████████████▋            163/200 [00:17]"
     ]
    },
    {
     "name": "stdout",
     "output_type": "stream",
     "text": [
      "\tcompleted  160  /  200 epochs\n"
     ]
    },
    {
     "name": "stderr",
     "output_type": "stream",
     "text": [
      "Epochs completed:  92%| ███████████████████████████████████████████████████████▊      183/200 [00:19]"
     ]
    },
    {
     "name": "stdout",
     "output_type": "stream",
     "text": [
      "\tcompleted  180  /  200 epochs\n"
     ]
    },
    {
     "name": "stderr",
     "output_type": "stream",
     "text": [
      "Epochs completed: 100%| █████████████████████████████████████████████████████████████ 200/200 [00:21]\n"
     ]
    },
    {
     "name": "stdout",
     "output_type": "stream",
     "text": [
      "Fri Feb 23 22:14:32 2024 Finished embedding\n",
      "TSNE\n",
      "--------------------------------------------------------------------------------\n",
      "TSNE(early_exaggeration=12, random_state=4, verbose=True)\n",
      "--------------------------------------------------------------------------------\n",
      "===> Finding 90 nearest neighbors using Annoy approximate search using euclidean distance...\n",
      "   --> Time elapsed: 26.12 seconds\n",
      "===> Calculating affinity matrix...\n",
      "   --> Time elapsed: 2.09 seconds\n",
      "===> Calculating PCA-based initialization...\n",
      "   --> Time elapsed: 0.22 seconds\n",
      "===> Running optimization with exaggeration=12.00, lr=5833.33 for 250 iterations...\n",
      "Iteration   50, KL divergence 5.9799, 50 iterations in 2.6559 sec\n",
      "Iteration  100, KL divergence 5.7626, 50 iterations in 2.6171 sec\n",
      "Iteration  150, KL divergence 5.6972, 50 iterations in 2.6128 sec\n",
      "Iteration  200, KL divergence 5.6734, 50 iterations in 2.6093 sec\n",
      "Iteration  250, KL divergence 5.6619, 50 iterations in 2.6157 sec\n",
      "   --> Time elapsed: 13.11 seconds\n",
      "===> Running optimization with exaggeration=1.00, lr=70000.00 for 500 iterations...\n",
      "Iteration   50, KL divergence 3.5592, 50 iterations in 2.6792 sec\n",
      "Iteration  100, KL divergence 3.2902, 50 iterations in 3.2871 sec\n",
      "Iteration  150, KL divergence 3.1530, 50 iterations in 4.1575 sec\n",
      "Iteration  200, KL divergence 3.0635, 50 iterations in 4.9884 sec\n",
      "Iteration  250, KL divergence 2.9984, 50 iterations in 5.7009 sec\n",
      "Iteration  300, KL divergence 2.9484, 50 iterations in 6.3324 sec\n",
      "Iteration  350, KL divergence 2.9082, 50 iterations in 7.3277 sec\n",
      "Iteration  400, KL divergence 2.8745, 50 iterations in 9.5075 sec\n",
      "Iteration  450, KL divergence 2.8461, 50 iterations in 10.8798 sec\n",
      "Iteration  500, KL divergence 2.8218, 50 iterations in 11.6286 sec\n",
      "   --> Time elapsed: 66.49 seconds\n",
      "mnist seed: 0 scaled: True\n",
      "PCA2\n",
      "PCA50\n",
      "UMAP\n",
      "UMAP(random_state=0, verbose=True)\n",
      "Fri Feb 23 22:16:27 2024 Construct fuzzy simplicial set\n",
      "Fri Feb 23 22:16:27 2024 Finding Nearest Neighbors\n",
      "Fri Feb 23 22:16:27 2024 Building RP forest with 18 trees\n",
      "Fri Feb 23 22:16:27 2024 NN descent for 16 iterations\n"
     ]
    },
    {
     "name": "stderr",
     "output_type": "stream",
     "text": [
      "/home/jan/anaconda3/envs/elephant_analysis_env2/lib/python3.11/site-packages/umap/umap_.py:1943: UserWarning: n_jobs value -1 overridden to 1 by setting random_state. Use no seed for parallelism.\n",
      "  warn(f\"n_jobs value {self.n_jobs} overridden to 1 by setting random_state. Use no seed for parallelism.\")\n"
     ]
    },
    {
     "name": "stdout",
     "output_type": "stream",
     "text": [
      "\t 1  /  16\n",
      "\t 2  /  16\n",
      "\t 3  /  16\n",
      "\t 4  /  16\n",
      "\tStopping threshold met -- exiting after 4 iterations\n",
      "Fri Feb 23 22:16:28 2024 Finished Nearest Neighbor Search\n",
      "Fri Feb 23 22:16:29 2024 Construct embedding\n"
     ]
    },
    {
     "name": "stderr",
     "output_type": "stream",
     "text": [
      "Epochs completed:   2%| █▎                                                              4/200 [00:00]"
     ]
    },
    {
     "name": "stdout",
     "output_type": "stream",
     "text": [
      "\tcompleted  0  /  200 epochs\n"
     ]
    },
    {
     "name": "stderr",
     "output_type": "stream",
     "text": [
      "Epochs completed:  11%| ██████▊                                                        22/200 [00:02]"
     ]
    },
    {
     "name": "stdout",
     "output_type": "stream",
     "text": [
      "\tcompleted  20  /  200 epochs\n"
     ]
    },
    {
     "name": "stderr",
     "output_type": "stream",
     "text": [
      "Epochs completed:  22%| █████████████▎                                                 43/200 [00:04]"
     ]
    },
    {
     "name": "stdout",
     "output_type": "stream",
     "text": [
      "\tcompleted  40  /  200 epochs\n"
     ]
    },
    {
     "name": "stderr",
     "output_type": "stream",
     "text": [
      "Epochs completed:  31%| ███████████████████▏                                           62/200 [00:06]"
     ]
    },
    {
     "name": "stdout",
     "output_type": "stream",
     "text": [
      "\tcompleted  60  /  200 epochs\n"
     ]
    },
    {
     "name": "stderr",
     "output_type": "stream",
     "text": [
      "Epochs completed:  41%| █████████████████████████▍                                     82/200 [00:09]"
     ]
    },
    {
     "name": "stdout",
     "output_type": "stream",
     "text": [
      "\tcompleted  80  /  200 epochs\n"
     ]
    },
    {
     "name": "stderr",
     "output_type": "stream",
     "text": [
      "Epochs completed:  52%| ███████████████████████████████▍                              103/200 [00:11]"
     ]
    },
    {
     "name": "stdout",
     "output_type": "stream",
     "text": [
      "\tcompleted  100  /  200 epochs\n"
     ]
    },
    {
     "name": "stderr",
     "output_type": "stream",
     "text": [
      "Epochs completed:  62%| █████████████████████████████████████▌                        123/200 [00:13]"
     ]
    },
    {
     "name": "stdout",
     "output_type": "stream",
     "text": [
      "\tcompleted  120  /  200 epochs\n"
     ]
    },
    {
     "name": "stderr",
     "output_type": "stream",
     "text": [
      "Epochs completed:  71%| ███████████████████████████████████████████▎                  142/200 [00:15]"
     ]
    },
    {
     "name": "stdout",
     "output_type": "stream",
     "text": [
      "\tcompleted  140  /  200 epochs\n"
     ]
    },
    {
     "name": "stderr",
     "output_type": "stream",
     "text": [
      "Epochs completed:  81%| █████████████████████████████████████████████████▍            162/200 [00:17]"
     ]
    },
    {
     "name": "stdout",
     "output_type": "stream",
     "text": [
      "\tcompleted  160  /  200 epochs\n"
     ]
    },
    {
     "name": "stderr",
     "output_type": "stream",
     "text": [
      "Epochs completed:  92%| ███████████████████████████████████████████████████████▊      183/200 [00:19]"
     ]
    },
    {
     "name": "stdout",
     "output_type": "stream",
     "text": [
      "\tcompleted  180  /  200 epochs\n"
     ]
    },
    {
     "name": "stderr",
     "output_type": "stream",
     "text": [
      "Epochs completed: 100%| █████████████████████████████████████████████████████████████ 200/200 [00:21]\n"
     ]
    },
    {
     "name": "stdout",
     "output_type": "stream",
     "text": [
      "Fri Feb 23 22:16:56 2024 Finished embedding\n",
      "TSNE\n",
      "--------------------------------------------------------------------------------\n",
      "TSNE(early_exaggeration=12, random_state=0, verbose=True)\n",
      "--------------------------------------------------------------------------------\n",
      "===> Finding 90 nearest neighbors using Annoy approximate search using euclidean distance...\n",
      "   --> Time elapsed: 25.32 seconds\n",
      "===> Calculating affinity matrix...\n",
      "   --> Time elapsed: 1.52 seconds\n",
      "===> Calculating PCA-based initialization...\n",
      "   --> Time elapsed: 0.17 seconds\n",
      "===> Running optimization with exaggeration=12.00, lr=5833.33 for 250 iterations...\n",
      "Iteration   50, KL divergence 5.9721, 50 iterations in 2.7304 sec\n",
      "Iteration  100, KL divergence 5.8339, 50 iterations in 2.6942 sec\n",
      "Iteration  150, KL divergence 5.7844, 50 iterations in 2.6867 sec\n",
      "Iteration  200, KL divergence 5.7663, 50 iterations in 2.6835 sec\n",
      "Iteration  250, KL divergence 5.7580, 50 iterations in 2.6841 sec\n",
      "   --> Time elapsed: 13.48 seconds\n",
      "===> Running optimization with exaggeration=1.00, lr=70000.00 for 500 iterations...\n",
      "Iteration   50, KL divergence 3.4697, 50 iterations in 2.7545 sec\n",
      "Iteration  100, KL divergence 3.1840, 50 iterations in 3.4381 sec\n",
      "Iteration  150, KL divergence 3.0383, 50 iterations in 4.2812 sec\n",
      "Iteration  200, KL divergence 2.9437, 50 iterations in 5.0343 sec\n",
      "Iteration  250, KL divergence 2.8753, 50 iterations in 5.8586 sec\n",
      "Iteration  300, KL divergence 2.8227, 50 iterations in 6.5768 sec\n",
      "Iteration  350, KL divergence 2.7805, 50 iterations in 7.7513 sec\n",
      "Iteration  400, KL divergence 2.7455, 50 iterations in 8.6782 sec\n",
      "Iteration  450, KL divergence 2.7156, 50 iterations in 10.2450 sec\n",
      "Iteration  500, KL divergence 2.6908, 50 iterations in 11.5064 sec\n",
      "   --> Time elapsed: 66.13 seconds\n",
      "mnist seed: 1 scaled: True\n",
      "PCA2\n",
      "PCA50\n",
      "UMAP\n",
      "UMAP(random_state=1, verbose=True)\n",
      "Fri Feb 23 22:18:49 2024 Construct fuzzy simplicial set\n",
      "Fri Feb 23 22:18:49 2024 Finding Nearest Neighbors\n",
      "Fri Feb 23 22:18:49 2024 Building RP forest with 18 trees\n"
     ]
    },
    {
     "name": "stderr",
     "output_type": "stream",
     "text": [
      "/home/jan/anaconda3/envs/elephant_analysis_env2/lib/python3.11/site-packages/umap/umap_.py:1943: UserWarning: n_jobs value -1 overridden to 1 by setting random_state. Use no seed for parallelism.\n",
      "  warn(f\"n_jobs value {self.n_jobs} overridden to 1 by setting random_state. Use no seed for parallelism.\")\n"
     ]
    },
    {
     "name": "stdout",
     "output_type": "stream",
     "text": [
      "Fri Feb 23 22:18:49 2024 NN descent for 16 iterations\n",
      "\t 1  /  16\n",
      "\t 2  /  16\n",
      "\t 3  /  16\n",
      "\t 4  /  16\n",
      "\tStopping threshold met -- exiting after 4 iterations\n",
      "Fri Feb 23 22:18:51 2024 Finished Nearest Neighbor Search\n",
      "Fri Feb 23 22:18:51 2024 Construct embedding\n"
     ]
    },
    {
     "name": "stderr",
     "output_type": "stream",
     "text": [
      "Epochs completed:   2%| ▉                                                               3/200 [00:00]"
     ]
    },
    {
     "name": "stdout",
     "output_type": "stream",
     "text": [
      "\tcompleted  0  /  200 epochs\n"
     ]
    },
    {
     "name": "stderr",
     "output_type": "stream",
     "text": [
      "Epochs completed:  12%| ███████▏                                                       23/200 [00:03]"
     ]
    },
    {
     "name": "stdout",
     "output_type": "stream",
     "text": [
      "\tcompleted  20  /  200 epochs\n"
     ]
    },
    {
     "name": "stderr",
     "output_type": "stream",
     "text": [
      "Epochs completed:  22%| █████████████▎                                                 43/200 [00:05]"
     ]
    },
    {
     "name": "stdout",
     "output_type": "stream",
     "text": [
      "\tcompleted  40  /  200 epochs\n"
     ]
    },
    {
     "name": "stderr",
     "output_type": "stream",
     "text": [
      "Epochs completed:  31%| ███████████████████▏                                           62/200 [00:08]"
     ]
    },
    {
     "name": "stdout",
     "output_type": "stream",
     "text": [
      "\tcompleted  60  /  200 epochs\n"
     ]
    },
    {
     "name": "stderr",
     "output_type": "stream",
     "text": [
      "Epochs completed:  42%| █████████████████████████▋                                     83/200 [00:10]"
     ]
    },
    {
     "name": "stdout",
     "output_type": "stream",
     "text": [
      "\tcompleted  80  /  200 epochs\n"
     ]
    },
    {
     "name": "stderr",
     "output_type": "stream",
     "text": [
      "Epochs completed:  51%| ███████████████████████████████                               102/200 [00:12]"
     ]
    },
    {
     "name": "stdout",
     "output_type": "stream",
     "text": [
      "\tcompleted  100  /  200 epochs\n"
     ]
    },
    {
     "name": "stderr",
     "output_type": "stream",
     "text": [
      "Epochs completed:  61%| █████████████████████████████████████▏                        122/200 [00:15]"
     ]
    },
    {
     "name": "stdout",
     "output_type": "stream",
     "text": [
      "\tcompleted  120  /  200 epochs\n"
     ]
    },
    {
     "name": "stderr",
     "output_type": "stream",
     "text": [
      "Epochs completed:  71%| ███████████████████████████████████████████▎                  142/200 [00:18]"
     ]
    },
    {
     "name": "stdout",
     "output_type": "stream",
     "text": [
      "\tcompleted  140  /  200 epochs\n"
     ]
    },
    {
     "name": "stderr",
     "output_type": "stream",
     "text": [
      "Epochs completed:  82%| █████████████████████████████████████████████████▋            163/200 [00:20]"
     ]
    },
    {
     "name": "stdout",
     "output_type": "stream",
     "text": [
      "\tcompleted  160  /  200 epochs\n"
     ]
    },
    {
     "name": "stderr",
     "output_type": "stream",
     "text": [
      "Epochs completed:  92%| ███████████████████████████████████████████████████████▊      183/200 [00:23]"
     ]
    },
    {
     "name": "stdout",
     "output_type": "stream",
     "text": [
      "\tcompleted  180  /  200 epochs\n"
     ]
    },
    {
     "name": "stderr",
     "output_type": "stream",
     "text": [
      "Epochs completed: 100%| █████████████████████████████████████████████████████████████ 200/200 [00:25]\n"
     ]
    },
    {
     "name": "stdout",
     "output_type": "stream",
     "text": [
      "Fri Feb 23 22:19:22 2024 Finished embedding\n",
      "TSNE\n",
      "--------------------------------------------------------------------------------\n",
      "TSNE(early_exaggeration=12, random_state=1, verbose=True)\n",
      "--------------------------------------------------------------------------------\n",
      "===> Finding 90 nearest neighbors using Annoy approximate search using euclidean distance...\n",
      "   --> Time elapsed: 25.89 seconds\n",
      "===> Calculating affinity matrix...\n",
      "   --> Time elapsed: 1.57 seconds\n",
      "===> Calculating PCA-based initialization...\n",
      "   --> Time elapsed: 0.14 seconds\n",
      "===> Running optimization with exaggeration=12.00, lr=5833.33 for 250 iterations...\n",
      "Iteration   50, KL divergence 5.9740, 50 iterations in 2.7103 sec\n",
      "Iteration  100, KL divergence 5.8357, 50 iterations in 2.6757 sec\n",
      "Iteration  150, KL divergence 5.7876, 50 iterations in 2.6668 sec\n",
      "Iteration  200, KL divergence 5.7698, 50 iterations in 2.6617 sec\n",
      "Iteration  250, KL divergence 5.7617, 50 iterations in 2.6721 sec\n",
      "   --> Time elapsed: 13.39 seconds\n",
      "===> Running optimization with exaggeration=1.00, lr=70000.00 for 500 iterations...\n",
      "Iteration   50, KL divergence 3.4685, 50 iterations in 2.7425 sec\n",
      "Iteration  100, KL divergence 3.1830, 50 iterations in 3.3639 sec\n",
      "Iteration  150, KL divergence 3.0372, 50 iterations in 4.2265 sec\n",
      "Iteration  200, KL divergence 2.9424, 50 iterations in 4.9963 sec\n",
      "Iteration  250, KL divergence 2.8740, 50 iterations in 5.8300 sec\n",
      "Iteration  300, KL divergence 2.8214, 50 iterations in 6.6144 sec\n",
      "Iteration  350, KL divergence 2.7791, 50 iterations in 7.6448 sec\n",
      "Iteration  400, KL divergence 2.7439, 50 iterations in 8.6611 sec\n",
      "Iteration  450, KL divergence 2.7142, 50 iterations in 10.2139 sec\n",
      "Iteration  500, KL divergence 2.6894, 50 iterations in 11.0513 sec\n",
      "   --> Time elapsed: 65.35 seconds\n",
      "mnist seed: 2 scaled: True\n",
      "PCA2\n",
      "PCA50\n",
      "UMAP\n",
      "UMAP(random_state=2, verbose=True)\n",
      "Fri Feb 23 22:21:16 2024 Construct fuzzy simplicial set\n",
      "Fri Feb 23 22:21:16 2024 Finding Nearest Neighbors\n",
      "Fri Feb 23 22:21:16 2024 Building RP forest with 18 trees\n",
      "Fri Feb 23 22:21:16 2024 NN descent for 16 iterations\n"
     ]
    },
    {
     "name": "stderr",
     "output_type": "stream",
     "text": [
      "/home/jan/anaconda3/envs/elephant_analysis_env2/lib/python3.11/site-packages/umap/umap_.py:1943: UserWarning: n_jobs value -1 overridden to 1 by setting random_state. Use no seed for parallelism.\n",
      "  warn(f\"n_jobs value {self.n_jobs} overridden to 1 by setting random_state. Use no seed for parallelism.\")\n"
     ]
    },
    {
     "name": "stdout",
     "output_type": "stream",
     "text": [
      "\t 1  /  16\n",
      "\t 2  /  16\n",
      "\t 3  /  16\n",
      "\t 4  /  16\n",
      "\tStopping threshold met -- exiting after 4 iterations\n",
      "Fri Feb 23 22:21:17 2024 Finished Nearest Neighbor Search\n",
      "Fri Feb 23 22:21:17 2024 Construct embedding\n"
     ]
    },
    {
     "name": "stderr",
     "output_type": "stream",
     "text": [
      "Epochs completed:   2%| █▎                                                              4/200 [00:00]"
     ]
    },
    {
     "name": "stdout",
     "output_type": "stream",
     "text": [
      "\tcompleted  0  /  200 epochs\n"
     ]
    },
    {
     "name": "stderr",
     "output_type": "stream",
     "text": [
      "Epochs completed:  11%| ██████▊                                                        22/200 [00:02]"
     ]
    },
    {
     "name": "stdout",
     "output_type": "stream",
     "text": [
      "\tcompleted  20  /  200 epochs\n"
     ]
    },
    {
     "name": "stderr",
     "output_type": "stream",
     "text": [
      "Epochs completed:  22%| █████████████▎                                                 43/200 [00:04]"
     ]
    },
    {
     "name": "stdout",
     "output_type": "stream",
     "text": [
      "\tcompleted  40  /  200 epochs\n"
     ]
    },
    {
     "name": "stderr",
     "output_type": "stream",
     "text": [
      "Epochs completed:  32%| ███████████████████▌                                           63/200 [00:06]"
     ]
    },
    {
     "name": "stdout",
     "output_type": "stream",
     "text": [
      "\tcompleted  60  /  200 epochs\n"
     ]
    },
    {
     "name": "stderr",
     "output_type": "stream",
     "text": [
      "Epochs completed:  42%| █████████████████████████▋                                     83/200 [00:09]"
     ]
    },
    {
     "name": "stdout",
     "output_type": "stream",
     "text": [
      "\tcompleted  80  /  200 epochs\n"
     ]
    },
    {
     "name": "stderr",
     "output_type": "stream",
     "text": [
      "Epochs completed:  52%| ███████████████████████████████▍                              103/200 [00:11]"
     ]
    },
    {
     "name": "stdout",
     "output_type": "stream",
     "text": [
      "\tcompleted  100  /  200 epochs\n"
     ]
    },
    {
     "name": "stderr",
     "output_type": "stream",
     "text": [
      "Epochs completed:  61%| █████████████████████████████████████▏                        122/200 [00:13]"
     ]
    },
    {
     "name": "stdout",
     "output_type": "stream",
     "text": [
      "\tcompleted  120  /  200 epochs\n"
     ]
    },
    {
     "name": "stderr",
     "output_type": "stream",
     "text": [
      "Epochs completed:  71%| ███████████████████████████████████████████▎                  142/200 [00:15]"
     ]
    },
    {
     "name": "stdout",
     "output_type": "stream",
     "text": [
      "\tcompleted  140  /  200 epochs\n"
     ]
    },
    {
     "name": "stderr",
     "output_type": "stream",
     "text": [
      "Epochs completed:  82%| █████████████████████████████████████████████████▋            163/200 [00:17]"
     ]
    },
    {
     "name": "stdout",
     "output_type": "stream",
     "text": [
      "\tcompleted  160  /  200 epochs\n"
     ]
    },
    {
     "name": "stderr",
     "output_type": "stream",
     "text": [
      "Epochs completed:  92%| ███████████████████████████████████████████████████████▊      183/200 [00:20]"
     ]
    },
    {
     "name": "stdout",
     "output_type": "stream",
     "text": [
      "\tcompleted  180  /  200 epochs\n"
     ]
    },
    {
     "name": "stderr",
     "output_type": "stream",
     "text": [
      "Epochs completed: 100%| █████████████████████████████████████████████████████████████ 200/200 [00:21]\n"
     ]
    },
    {
     "name": "stdout",
     "output_type": "stream",
     "text": [
      "Fri Feb 23 22:21:45 2024 Finished embedding\n",
      "TSNE\n",
      "--------------------------------------------------------------------------------\n",
      "TSNE(early_exaggeration=12, random_state=2, verbose=True)\n",
      "--------------------------------------------------------------------------------\n",
      "===> Finding 90 nearest neighbors using Annoy approximate search using euclidean distance...\n",
      "   --> Time elapsed: 25.88 seconds\n",
      "===> Calculating affinity matrix...\n",
      "   --> Time elapsed: 1.57 seconds\n",
      "===> Calculating PCA-based initialization...\n",
      "   --> Time elapsed: 0.15 seconds\n",
      "===> Running optimization with exaggeration=12.00, lr=5833.33 for 250 iterations...\n",
      "Iteration   50, KL divergence 5.9737, 50 iterations in 2.7356 sec\n",
      "Iteration  100, KL divergence 5.8365, 50 iterations in 2.6820 sec\n",
      "Iteration  150, KL divergence 5.7886, 50 iterations in 2.6919 sec\n",
      "Iteration  200, KL divergence 5.7710, 50 iterations in 2.6931 sec\n",
      "Iteration  250, KL divergence 5.7631, 50 iterations in 2.7023 sec\n",
      "   --> Time elapsed: 13.51 seconds\n",
      "===> Running optimization with exaggeration=1.00, lr=70000.00 for 500 iterations...\n",
      "Iteration   50, KL divergence 3.4692, 50 iterations in 2.7291 sec\n",
      "Iteration  100, KL divergence 3.1843, 50 iterations in 3.3775 sec\n",
      "Iteration  150, KL divergence 3.0391, 50 iterations in 4.1738 sec\n",
      "Iteration  200, KL divergence 2.9447, 50 iterations in 5.0490 sec\n",
      "Iteration  250, KL divergence 2.8764, 50 iterations in 5.9533 sec\n",
      "Iteration  300, KL divergence 2.8240, 50 iterations in 6.6784 sec\n",
      "Iteration  350, KL divergence 2.7819, 50 iterations in 7.7062 sec\n",
      "Iteration  400, KL divergence 2.7468, 50 iterations in 9.3622 sec\n",
      "Iteration  450, KL divergence 2.7170, 50 iterations in 11.0763 sec\n",
      "Iteration  500, KL divergence 2.6923, 50 iterations in 12.0155 sec\n",
      "   --> Time elapsed: 68.12 seconds\n",
      "mnist seed: 3 scaled: True\n",
      "PCA2\n",
      "PCA50\n",
      "UMAP\n",
      "UMAP(random_state=3, verbose=True)\n",
      "Fri Feb 23 22:23:41 2024 Construct fuzzy simplicial set\n",
      "Fri Feb 23 22:23:41 2024 Finding Nearest Neighbors\n",
      "Fri Feb 23 22:23:41 2024 Building RP forest with 18 trees\n",
      "Fri Feb 23 22:23:41 2024 NN descent for 16 iterations\n"
     ]
    },
    {
     "name": "stderr",
     "output_type": "stream",
     "text": [
      "/home/jan/anaconda3/envs/elephant_analysis_env2/lib/python3.11/site-packages/umap/umap_.py:1943: UserWarning: n_jobs value -1 overridden to 1 by setting random_state. Use no seed for parallelism.\n",
      "  warn(f\"n_jobs value {self.n_jobs} overridden to 1 by setting random_state. Use no seed for parallelism.\")\n"
     ]
    },
    {
     "name": "stdout",
     "output_type": "stream",
     "text": [
      "\t 1  /  16\n",
      "\t 2  /  16\n",
      "\t 3  /  16\n",
      "\t 4  /  16\n",
      "\tStopping threshold met -- exiting after 4 iterations\n",
      "Fri Feb 23 22:23:42 2024 Finished Nearest Neighbor Search\n",
      "Fri Feb 23 22:23:42 2024 Construct embedding\n"
     ]
    },
    {
     "name": "stderr",
     "output_type": "stream",
     "text": [
      "Epochs completed:   2%| █▎                                                              4/200 [00:00]"
     ]
    },
    {
     "name": "stdout",
     "output_type": "stream",
     "text": [
      "\tcompleted  0  /  200 epochs\n"
     ]
    },
    {
     "name": "stderr",
     "output_type": "stream",
     "text": [
      "Epochs completed:  12%| ███████▏                                                       23/200 [00:02]"
     ]
    },
    {
     "name": "stdout",
     "output_type": "stream",
     "text": [
      "\tcompleted  20  /  200 epochs\n"
     ]
    },
    {
     "name": "stderr",
     "output_type": "stream",
     "text": [
      "Epochs completed:  22%| █████████████▎                                                 43/200 [00:04]"
     ]
    },
    {
     "name": "stdout",
     "output_type": "stream",
     "text": [
      "\tcompleted  40  /  200 epochs\n"
     ]
    },
    {
     "name": "stderr",
     "output_type": "stream",
     "text": [
      "Epochs completed:  31%| ███████████████████▏                                           62/200 [00:06]"
     ]
    },
    {
     "name": "stdout",
     "output_type": "stream",
     "text": [
      "\tcompleted  60  /  200 epochs\n"
     ]
    },
    {
     "name": "stderr",
     "output_type": "stream",
     "text": [
      "Epochs completed:  41%| █████████████████████████▍                                     82/200 [00:08]"
     ]
    },
    {
     "name": "stdout",
     "output_type": "stream",
     "text": [
      "\tcompleted  80  /  200 epochs\n"
     ]
    },
    {
     "name": "stderr",
     "output_type": "stream",
     "text": [
      "Epochs completed:  52%| ███████████████████████████████▍                              103/200 [00:11]"
     ]
    },
    {
     "name": "stdout",
     "output_type": "stream",
     "text": [
      "\tcompleted  100  /  200 epochs\n"
     ]
    },
    {
     "name": "stderr",
     "output_type": "stream",
     "text": [
      "Epochs completed:  62%| █████████████████████████████████████▌                        123/200 [00:13]"
     ]
    },
    {
     "name": "stdout",
     "output_type": "stream",
     "text": [
      "\tcompleted  120  /  200 epochs\n"
     ]
    },
    {
     "name": "stderr",
     "output_type": "stream",
     "text": [
      "Epochs completed:  72%| ███████████████████████████████████████████▌                  143/200 [00:15]"
     ]
    },
    {
     "name": "stdout",
     "output_type": "stream",
     "text": [
      "\tcompleted  140  /  200 epochs\n"
     ]
    },
    {
     "name": "stderr",
     "output_type": "stream",
     "text": [
      "Epochs completed:  81%| █████████████████████████████████████████████████▍            162/200 [00:17]"
     ]
    },
    {
     "name": "stdout",
     "output_type": "stream",
     "text": [
      "\tcompleted  160  /  200 epochs\n"
     ]
    },
    {
     "name": "stderr",
     "output_type": "stream",
     "text": [
      "Epochs completed:  91%| ███████████████████████████████████████████████████████▌      182/200 [00:19]"
     ]
    },
    {
     "name": "stdout",
     "output_type": "stream",
     "text": [
      "\tcompleted  180  /  200 epochs\n"
     ]
    },
    {
     "name": "stderr",
     "output_type": "stream",
     "text": [
      "Epochs completed: 100%| █████████████████████████████████████████████████████████████ 200/200 [00:21]\n"
     ]
    },
    {
     "name": "stdout",
     "output_type": "stream",
     "text": [
      "Fri Feb 23 22:24:09 2024 Finished embedding\n",
      "TSNE\n",
      "--------------------------------------------------------------------------------\n",
      "TSNE(early_exaggeration=12, random_state=3, verbose=True)\n",
      "--------------------------------------------------------------------------------\n",
      "===> Finding 90 nearest neighbors using Annoy approximate search using euclidean distance...\n",
      "   --> Time elapsed: 25.00 seconds\n",
      "===> Calculating affinity matrix...\n",
      "   --> Time elapsed: 1.44 seconds\n",
      "===> Calculating PCA-based initialization...\n",
      "   --> Time elapsed: 0.15 seconds\n",
      "===> Running optimization with exaggeration=12.00, lr=5833.33 for 250 iterations...\n",
      "Iteration   50, KL divergence 5.9734, 50 iterations in 2.7454 sec\n",
      "Iteration  100, KL divergence 5.8372, 50 iterations in 2.7190 sec\n",
      "Iteration  150, KL divergence 5.7897, 50 iterations in 2.8837 sec\n",
      "Iteration  200, KL divergence 5.7722, 50 iterations in 2.8017 sec\n",
      "Iteration  250, KL divergence 5.7641, 50 iterations in 2.8568 sec\n",
      "   --> Time elapsed: 14.01 seconds\n",
      "===> Running optimization with exaggeration=1.00, lr=70000.00 for 500 iterations...\n",
      "Iteration   50, KL divergence 3.4712, 50 iterations in 2.9388 sec\n",
      "Iteration  100, KL divergence 3.1863, 50 iterations in 3.4248 sec\n",
      "Iteration  150, KL divergence 3.0405, 50 iterations in 4.3524 sec\n",
      "Iteration  200, KL divergence 2.9461, 50 iterations in 5.1256 sec\n",
      "Iteration  250, KL divergence 2.8777, 50 iterations in 6.1909 sec\n",
      "Iteration  300, KL divergence 2.8251, 50 iterations in 6.8516 sec\n",
      "Iteration  350, KL divergence 2.7831, 50 iterations in 7.7806 sec\n",
      "Iteration  400, KL divergence 2.7479, 50 iterations in 8.8843 sec\n",
      "Iteration  450, KL divergence 2.7181, 50 iterations in 10.7400 sec\n",
      "Iteration  500, KL divergence 2.6932, 50 iterations in 12.4822 sec\n",
      "   --> Time elapsed: 68.77 seconds\n",
      "mnist seed: 4 scaled: True\n",
      "PCA2\n",
      "PCA50\n",
      "UMAP\n",
      "UMAP(random_state=4, verbose=True)\n",
      "Fri Feb 23 22:26:05 2024 Construct fuzzy simplicial set\n",
      "Fri Feb 23 22:26:05 2024 Finding Nearest Neighbors\n",
      "Fri Feb 23 22:26:05 2024 Building RP forest with 18 trees\n",
      "Fri Feb 23 22:26:06 2024 NN descent for 16 iterations\n"
     ]
    },
    {
     "name": "stderr",
     "output_type": "stream",
     "text": [
      "/home/jan/anaconda3/envs/elephant_analysis_env2/lib/python3.11/site-packages/umap/umap_.py:1943: UserWarning: n_jobs value -1 overridden to 1 by setting random_state. Use no seed for parallelism.\n",
      "  warn(f\"n_jobs value {self.n_jobs} overridden to 1 by setting random_state. Use no seed for parallelism.\")\n"
     ]
    },
    {
     "name": "stdout",
     "output_type": "stream",
     "text": [
      "\t 1  /  16\n",
      "\t 2  /  16\n",
      "\t 3  /  16\n",
      "\t 4  /  16\n",
      "\tStopping threshold met -- exiting after 4 iterations\n",
      "Fri Feb 23 22:26:07 2024 Finished Nearest Neighbor Search\n",
      "Fri Feb 23 22:26:07 2024 Construct embedding\n"
     ]
    },
    {
     "name": "stderr",
     "output_type": "stream",
     "text": [
      "Epochs completed:   3%| █▉                                                              6/200 [00:00]"
     ]
    },
    {
     "name": "stdout",
     "output_type": "stream",
     "text": [
      "\tcompleted  0  /  200 epochs\n"
     ]
    },
    {
     "name": "stderr",
     "output_type": "stream",
     "text": [
      "Epochs completed:  12%| ███████▏                                                       23/200 [00:02]"
     ]
    },
    {
     "name": "stdout",
     "output_type": "stream",
     "text": [
      "\tcompleted  20  /  200 epochs\n"
     ]
    },
    {
     "name": "stderr",
     "output_type": "stream",
     "text": [
      "Epochs completed:  22%| █████████████▎                                                 43/200 [00:04]"
     ]
    },
    {
     "name": "stdout",
     "output_type": "stream",
     "text": [
      "\tcompleted  40  /  200 epochs\n"
     ]
    },
    {
     "name": "stderr",
     "output_type": "stream",
     "text": [
      "Epochs completed:  31%| ███████████████████▏                                           62/200 [00:07]"
     ]
    },
    {
     "name": "stdout",
     "output_type": "stream",
     "text": [
      "\tcompleted  60  /  200 epochs\n"
     ]
    },
    {
     "name": "stderr",
     "output_type": "stream",
     "text": [
      "Epochs completed:  42%| █████████████████████████▋                                     83/200 [00:09]"
     ]
    },
    {
     "name": "stdout",
     "output_type": "stream",
     "text": [
      "\tcompleted  80  /  200 epochs\n"
     ]
    },
    {
     "name": "stderr",
     "output_type": "stream",
     "text": [
      "Epochs completed:  52%| ███████████████████████████████▍                              103/200 [00:11]"
     ]
    },
    {
     "name": "stdout",
     "output_type": "stream",
     "text": [
      "\tcompleted  100  /  200 epochs\n"
     ]
    },
    {
     "name": "stderr",
     "output_type": "stream",
     "text": [
      "Epochs completed:  62%| █████████████████████████████████████▌                        123/200 [00:13]"
     ]
    },
    {
     "name": "stdout",
     "output_type": "stream",
     "text": [
      "\tcompleted  120  /  200 epochs\n"
     ]
    },
    {
     "name": "stderr",
     "output_type": "stream",
     "text": [
      "Epochs completed:  71%| ███████████████████████████████████████████▎                  142/200 [00:16]"
     ]
    },
    {
     "name": "stdout",
     "output_type": "stream",
     "text": [
      "\tcompleted  140  /  200 epochs\n"
     ]
    },
    {
     "name": "stderr",
     "output_type": "stream",
     "text": [
      "Epochs completed:  82%| █████████████████████████████████████████████████▋            163/200 [00:18]"
     ]
    },
    {
     "name": "stdout",
     "output_type": "stream",
     "text": [
      "\tcompleted  160  /  200 epochs\n"
     ]
    },
    {
     "name": "stderr",
     "output_type": "stream",
     "text": [
      "Epochs completed:  92%| ███████████████████████████████████████████████████████▊      183/200 [00:20]"
     ]
    },
    {
     "name": "stdout",
     "output_type": "stream",
     "text": [
      "\tcompleted  180  /  200 epochs\n"
     ]
    },
    {
     "name": "stderr",
     "output_type": "stream",
     "text": [
      "Epochs completed: 100%| █████████████████████████████████████████████████████████████ 200/200 [00:22]\n"
     ]
    },
    {
     "name": "stdout",
     "output_type": "stream",
     "text": [
      "Fri Feb 23 22:26:37 2024 Finished embedding\n",
      "TSNE\n",
      "--------------------------------------------------------------------------------\n",
      "TSNE(early_exaggeration=12, random_state=4, verbose=True)\n",
      "--------------------------------------------------------------------------------\n",
      "===> Finding 90 nearest neighbors using Annoy approximate search using euclidean distance...\n",
      "   --> Time elapsed: 26.35 seconds\n",
      "===> Calculating affinity matrix...\n",
      "   --> Time elapsed: 1.46 seconds\n",
      "===> Calculating PCA-based initialization...\n",
      "   --> Time elapsed: 0.19 seconds\n",
      "===> Running optimization with exaggeration=12.00, lr=5833.33 for 250 iterations...\n",
      "Iteration   50, KL divergence 5.9730, 50 iterations in 2.8426 sec\n",
      "Iteration  100, KL divergence 5.8344, 50 iterations in 2.8418 sec\n",
      "Iteration  150, KL divergence 5.7859, 50 iterations in 2.8823 sec\n",
      "Iteration  200, KL divergence 5.7680, 50 iterations in 2.7829 sec\n",
      "Iteration  250, KL divergence 5.7598, 50 iterations in 2.8432 sec\n",
      "   --> Time elapsed: 14.19 seconds\n",
      "===> Running optimization with exaggeration=1.00, lr=70000.00 for 500 iterations...\n",
      "Iteration   50, KL divergence 3.4708, 50 iterations in 2.8681 sec\n",
      "Iteration  100, KL divergence 3.1857, 50 iterations in 3.5221 sec\n",
      "Iteration  150, KL divergence 3.0399, 50 iterations in 4.4194 sec\n",
      "Iteration  200, KL divergence 2.9452, 50 iterations in 5.2037 sec\n",
      "Iteration  250, KL divergence 2.8767, 50 iterations in 5.9738 sec\n",
      "Iteration  300, KL divergence 2.8242, 50 iterations in 6.8540 sec\n",
      "Iteration  350, KL divergence 2.7821, 50 iterations in 7.8311 sec\n",
      "Iteration  400, KL divergence 2.7469, 50 iterations in 9.0163 sec\n",
      "Iteration  450, KL divergence 2.7174, 50 iterations in 9.7332 sec\n",
      "Iteration  500, KL divergence 2.6927, 50 iterations in 11.3130 sec\n",
      "   --> Time elapsed: 66.74 seconds\n"
     ]
    },
    {
     "data": {
      "text/plain": [
       "[None, None, None, None]"
      ]
     },
     "execution_count": 5,
     "metadata": {},
     "output_type": "execute_result"
    }
   ],
   "source": [
    "###NOTE: elephant embeddings are computed in another conda environment (by Chari & Pachter) and separate notebook\n",
    "[compute_embeddings(ad=ad,seeds=np.arange(5)) for ad in datasets]"
   ]
  },
  {
   "cell_type": "markdown",
   "id": "9acd584a-1520-4a8d-ace2-f6f9536bbef3",
   "metadata": {},
   "source": [
    "### Package versions"
   ]
  },
  {
   "cell_type": "code",
   "execution_count": 6,
   "id": "219d702c-dd81-40da-81bf-dbf62bbaf1f0",
   "metadata": {
    "tags": []
   },
   "outputs": [
    {
     "data": {
      "text/plain": [
       "'1.24.3'"
      ]
     },
     "execution_count": 6,
     "metadata": {},
     "output_type": "execute_result"
    }
   ],
   "source": [
    "np.__version__"
   ]
  },
  {
   "cell_type": "code",
   "execution_count": 7,
   "id": "49c79276-0eca-4f74-87c0-fd40d09c24ed",
   "metadata": {
    "tags": []
   },
   "outputs": [
    {
     "data": {
      "text/plain": [
       "'0.10.3'"
      ]
     },
     "execution_count": 7,
     "metadata": {},
     "output_type": "execute_result"
    }
   ],
   "source": [
    "anndata.__version__"
   ]
  },
  {
   "cell_type": "code",
   "execution_count": 8,
   "id": "0f3632c4-64eb-4987-8774-9b46ca2d9176",
   "metadata": {
    "tags": []
   },
   "outputs": [
    {
     "data": {
      "text/plain": [
       "'1.3.0'"
      ]
     },
     "execution_count": 8,
     "metadata": {},
     "output_type": "execute_result"
    }
   ],
   "source": [
    "import sklearn; sklearn.__version__"
   ]
  },
  {
   "cell_type": "code",
   "execution_count": 9,
   "id": "6ac6198c-2bd5-4c18-b67b-1a2a16ec41cb",
   "metadata": {
    "tags": []
   },
   "outputs": [
    {
     "data": {
      "text/plain": [
       "'0.5.5'"
      ]
     },
     "execution_count": 9,
     "metadata": {},
     "output_type": "execute_result"
    }
   ],
   "source": [
    "import umap; umap.__version__"
   ]
  },
  {
   "cell_type": "code",
   "execution_count": 10,
   "id": "65aff982-3363-4eb4-85b7-9a23b55811e9",
   "metadata": {
    "tags": []
   },
   "outputs": [
    {
     "data": {
      "text/plain": [
       "'1.0.1'"
      ]
     },
     "execution_count": 10,
     "metadata": {},
     "output_type": "execute_result"
    }
   ],
   "source": [
    "import openTSNE; openTSNE.__version__"
   ]
  }
 ],
 "metadata": {
  "kernelspec": {
   "display_name": "Python 3 (ipykernel)",
   "language": "python",
   "name": "python3"
  },
  "language_info": {
   "codemirror_mode": {
    "name": "ipython",
    "version": 3
   },
   "file_extension": ".py",
   "mimetype": "text/x-python",
   "name": "python",
   "nbconvert_exporter": "python",
   "pygments_lexer": "ipython3",
   "version": "3.11.5"
  },
  "toc-autonumbering": true
 },
 "nbformat": 4,
 "nbformat_minor": 5
}
