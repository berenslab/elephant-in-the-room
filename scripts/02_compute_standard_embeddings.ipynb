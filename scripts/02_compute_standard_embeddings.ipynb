{
 "cells": [
  {
   "cell_type": "code",
   "execution_count": 1,
   "id": "a1338ec2-a3ba-42e1-82d8-c6213b531a2a",
   "metadata": {
    "tags": []
   },
   "outputs": [
    {
     "name": "stderr",
     "output_type": "stream",
     "text": [
      "/home/jan/anaconda3/envs/elephant_analysis_env2/lib/python3.11/site-packages/tqdm/auto.py:21: TqdmWarning: IProgress not found. Please update jupyter and ipywidgets. See https://ipywidgets.readthedocs.io/en/stable/user_install.html\n",
      "  from .autonotebook import tqdm as notebook_tqdm\n"
     ]
    }
   ],
   "source": [
    "import numpy as np\n",
    "import anndata\n",
    "\n",
    "from sklearn.decomposition import PCA\n",
    "from umap import UMAP\n",
    "from openTSNE import TSNE"
   ]
  },
  {
   "cell_type": "markdown",
   "id": "7d90cf10-db51-42e7-bb99-49f7a0cf76ac",
   "metadata": {},
   "source": [
    "### Load datasets"
   ]
  },
  {
   "cell_type": "code",
   "execution_count": 2,
   "id": "82dfd32d-bf36-4125-8759-c705b0784b57",
   "metadata": {
    "tags": []
   },
   "outputs": [],
   "source": [
    "adata_exut=anndata.read_h5ad(\"../data/preprocessed/exut_adata.h5ad\")\n",
    "adata_sim = anndata.read_h5ad('../data/preprocessed/exut-sim-theta-10-real-seqdepths_adata.h5ad')\n",
    "adata_merfish=anndata.read_h5ad(\"../data/preprocessed/merfish_adata.h5ad\")\n",
    "adata_smartseq=anndata.read_h5ad(\"../data/preprocessed/smartseq_adata.h5ad\")\n",
    "adata_mnist=anndata.read_h5ad(\"../data/preprocessed/mnist_adata.h5ad\")\n",
    "\n",
    "datasets = [adata_exut,adata_merfish,adata_smartseq,adata_mnist,adata_sim]"
   ]
  },
  {
   "cell_type": "code",
   "execution_count": 3,
   "id": "81983707-728b-4d1b-88e0-df64ccbdb637",
   "metadata": {
    "tags": []
   },
   "outputs": [
    {
     "name": "stdout",
     "output_type": "stream",
     "text": [
      "exut 19\n",
      "merfish 25\n",
      "smartseq 28\n",
      "mnist 10\n",
      "exut-sim-theta-10-real-seqdepths 19\n"
     ]
    }
   ],
   "source": [
    "#number of classes per dataset\n",
    "for ad in datasets:\n",
    "    print(ad.uns['dataset'],len(np.unique(ad.obs['clusterlabels'])),sep=' ')"
   ]
  },
  {
   "cell_type": "code",
   "execution_count": 4,
   "id": "c6045375-e47b-4fbb-85c7-ecf264b6e796",
   "metadata": {
    "tags": []
   },
   "outputs": [],
   "source": [
    "def compute_embeddings(ad,seeds):\n",
    "    \n",
    "    dataset = ad.uns['dataset']\n",
    "    \n",
    "    #compute for scaled and unscaled data for main datasets\n",
    "    if dataset in ['exut','merfish','smartseq']:\n",
    "        use_scaled_modes = [False, True]\n",
    "        print('running on scaled and unscaled data for', dataset)\n",
    "    #only use unscaled for additional datasets\n",
    "    else:\n",
    "        use_scaled_modes = [False]\n",
    "        print('running only on unscaled data for', dataset)\n",
    "        \n",
    "    for use_scaled in use_scaled_modes:\n",
    "        \n",
    "        if use_scaled:\n",
    "            x_hd = ad.layers['X_scaled']\n",
    "            scaled_str = '_scaled'\n",
    "        else:\n",
    "            x_hd = ad.X\n",
    "            scaled_str = ''\n",
    "        \n",
    "        for i,seed in enumerate(seeds):\n",
    "\n",
    "            print(dataset, 'seed:', seed, 'scaled:', use_scaled)\n",
    "\n",
    "            pca2 = PCA(random_state=seed,n_components=2)\n",
    "            pca50 = PCA(random_state=seed,n_components=50)\n",
    "            umap=UMAP(random_state=seed,verbose=True)\n",
    "            tsne=TSNE(random_state=seed,verbose=True)\n",
    "\n",
    "            id_str = f'seed_{seed}'\n",
    "\n",
    "            print('PCA2')\n",
    "            x_pca2 = pca2.fit_transform(x_hd)\n",
    "            print('PCA50')\n",
    "            x_pca50 = pca50.fit_transform(x_hd)\n",
    "            print('UMAP')\n",
    "            x_umap = umap.fit_transform(x_pca50)\n",
    "            print('TSNE')\n",
    "            x_tsne = tsne.fit(x_pca50)\n",
    "\n",
    "            ad.obsm[f'x{scaled_str}_pca2_{id_str}'] = x_pca2\n",
    "            ad.obsm[f'x{scaled_str}_pca50_{id_str}'] = x_pca50\n",
    "            ad.obsm[f'x{scaled_str}_umap_{id_str}'] = x_umap\n",
    "            ad.obsm[f'x{scaled_str}_tsne_{id_str}'] = np.array(x_tsne)\n",
    "\n",
    "            np.save(f'../results/embeddings/npy/{dataset}_x{scaled_str}_pca2_{id_str}.npy',x_pca2,allow_pickle=False)\n",
    "            np.save(f'../results/embeddings/npy/{dataset}_x{scaled_str}_pca50_{id_str}.npy',x_pca50,allow_pickle=False)\n",
    "            np.save(f'../results/embeddings/npy/{dataset}_x{scaled_str}_umap_{id_str}.npy',x_umap,allow_pickle=False)\n",
    "            np.save(f'../results/embeddings/npy/{dataset}_x{scaled_str}_tsne_{id_str}.npy',x_tsne,allow_pickle=False)\n",
    "    \n",
    "    ad.uns['seeds']=seeds\n",
    "    ad.write_h5ad(f'../results/embeddings/{dataset}_adata_standard_embeddings.h5ad')"
   ]
  },
  {
   "cell_type": "code",
   "execution_count": null,
   "id": "7e0f0dbb-72c5-4d79-b410-cb6cbeb5ce3e",
   "metadata": {
    "tags": []
   },
   "outputs": [],
   "source": [
    "[compute_embeddings(ad=ad,seeds=np.arange(5)) for ad in datasets]"
   ]
  },
  {
   "cell_type": "markdown",
   "id": "9acd584a-1520-4a8d-ace2-f6f9536bbef3",
   "metadata": {},
   "source": [
    "### Package versions"
   ]
  },
  {
   "cell_type": "code",
   "execution_count": 5,
   "id": "219d702c-dd81-40da-81bf-dbf62bbaf1f0",
   "metadata": {
    "tags": []
   },
   "outputs": [
    {
     "data": {
      "text/plain": [
       "'1.24.3'"
      ]
     },
     "execution_count": 5,
     "metadata": {},
     "output_type": "execute_result"
    }
   ],
   "source": [
    "np.__version__"
   ]
  },
  {
   "cell_type": "code",
   "execution_count": 6,
   "id": "49c79276-0eca-4f74-87c0-fd40d09c24ed",
   "metadata": {
    "tags": []
   },
   "outputs": [
    {
     "data": {
      "text/plain": [
       "'0.10.3'"
      ]
     },
     "execution_count": 6,
     "metadata": {},
     "output_type": "execute_result"
    }
   ],
   "source": [
    "anndata.__version__"
   ]
  },
  {
   "cell_type": "code",
   "execution_count": 7,
   "id": "0f3632c4-64eb-4987-8774-9b46ca2d9176",
   "metadata": {
    "tags": []
   },
   "outputs": [
    {
     "data": {
      "text/plain": [
       "'1.3.0'"
      ]
     },
     "execution_count": 7,
     "metadata": {},
     "output_type": "execute_result"
    }
   ],
   "source": [
    "import sklearn; sklearn.__version__"
   ]
  },
  {
   "cell_type": "code",
   "execution_count": 8,
   "id": "6ac6198c-2bd5-4c18-b67b-1a2a16ec41cb",
   "metadata": {
    "tags": []
   },
   "outputs": [
    {
     "data": {
      "text/plain": [
       "'0.5.5'"
      ]
     },
     "execution_count": 8,
     "metadata": {},
     "output_type": "execute_result"
    }
   ],
   "source": [
    "import umap; umap.__version__"
   ]
  },
  {
   "cell_type": "code",
   "execution_count": 9,
   "id": "65aff982-3363-4eb4-85b7-9a23b55811e9",
   "metadata": {
    "tags": []
   },
   "outputs": [
    {
     "data": {
      "text/plain": [
       "'1.0.1'"
      ]
     },
     "execution_count": 9,
     "metadata": {},
     "output_type": "execute_result"
    }
   ],
   "source": [
    "import openTSNE; openTSNE.__version__"
   ]
  },
  {
   "cell_type": "code",
   "execution_count": null,
   "id": "c561d729-0d8f-4290-a58d-3ecb381fc56d",
   "metadata": {},
   "outputs": [],
   "source": []
  }
 ],
 "metadata": {
  "kernelspec": {
   "display_name": "Python 3 (ipykernel)",
   "language": "python",
   "name": "python3"
  },
  "language_info": {
   "codemirror_mode": {
    "name": "ipython",
    "version": 3
   },
   "file_extension": ".py",
   "mimetype": "text/x-python",
   "name": "python",
   "nbconvert_exporter": "python",
   "pygments_lexer": "ipython3",
   "version": "3.11.5"
  },
  "toc-autonumbering": true
 },
 "nbformat": 4,
 "nbformat_minor": 5
}
