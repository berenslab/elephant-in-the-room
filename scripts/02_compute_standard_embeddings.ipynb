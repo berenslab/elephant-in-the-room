{
 "cells": [
  {
   "cell_type": "code",
   "execution_count": 1,
   "id": "a1338ec2-a3ba-42e1-82d8-c6213b531a2a",
   "metadata": {
    "tags": []
   },
   "outputs": [
    {
     "name": "stderr",
     "output_type": "stream",
     "text": [
      "/home/jan/anaconda3/envs/seeing_the_elephant_env/lib/python3.11/site-packages/tqdm/auto.py:21: TqdmWarning: IProgress not found. Please update jupyter and ipywidgets. See https://ipywidgets.readthedocs.io/en/stable/user_install.html\n",
      "  from .autonotebook import tqdm as notebook_tqdm\n"
     ]
    }
   ],
   "source": [
    "import numpy as np\n",
    "import anndata\n",
    "\n",
    "from sklearn.decomposition import PCA\n",
    "from umap import UMAP\n",
    "from openTSNE import TSNE"
   ]
  },
  {
   "cell_type": "markdown",
   "id": "7d90cf10-db51-42e7-bb99-49f7a0cf76ac",
   "metadata": {},
   "source": [
    "### Load datasets"
   ]
  },
  {
   "cell_type": "code",
   "execution_count": 2,
   "id": "82dfd32d-bf36-4125-8759-c705b0784b57",
   "metadata": {
    "tags": []
   },
   "outputs": [],
   "source": [
    "adata_exut=anndata.read_h5ad(\"../data/preprocessed/exut_adata.h5ad\")\n",
    "adata_merfish=anndata.read_h5ad(\"../data/preprocessed/merfish_adata.h5ad\")\n",
    "adata_smartseq=anndata.read_h5ad(\"../data/preprocessed/smartseq_adata.h5ad\")\n",
    "adata_mnist=anndata.read_h5ad(\"../data/preprocessed/mnist_adata.h5ad\")\n",
    "\n",
    "datasets = [adata_exut,adata_merfish,adata_smartseq,adata_mnist]"
   ]
  },
  {
   "cell_type": "code",
   "execution_count": 3,
   "id": "81983707-728b-4d1b-88e0-df64ccbdb637",
   "metadata": {
    "tags": []
   },
   "outputs": [
    {
     "name": "stdout",
     "output_type": "stream",
     "text": [
      "exut 19\n",
      "merfish 25\n",
      "smartseq 28\n",
      "mnist 10\n"
     ]
    }
   ],
   "source": [
    "#number of classes per dataset\n",
    "for ad in datasets:\n",
    "    print(ad.uns['dataset'],len(np.unique(ad.obs['clusterlabels'])),sep=' ')"
   ]
  },
  {
   "cell_type": "code",
   "execution_count": 4,
   "id": "c6045375-e47b-4fbb-85c7-ecf264b6e796",
   "metadata": {
    "tags": []
   },
   "outputs": [],
   "source": [
    "def compute_embeddings(ad,seeds):\n",
    "    \n",
    "    dataset = ad.uns['dataset']\n",
    "    \n",
    "    #compute for scaled and unscaled data\n",
    "    for use_scaled in [False, True]:\n",
    "        \n",
    "        if use_scaled:\n",
    "            x_hd = ad.layers['X_scaled']\n",
    "            scaled_str = '_scaled'\n",
    "        else:\n",
    "            x_hd = ad.X\n",
    "            scaled_str = ''\n",
    "        \n",
    "        for i,seed in enumerate(seeds):\n",
    "\n",
    "            print(dataset, 'seed:', seed, 'scaled:', use_scaled)\n",
    "\n",
    "            pca2 = PCA(random_state=seed,n_components=2)\n",
    "            pca50 = PCA(random_state=seed,n_components=50)\n",
    "            umap=UMAP(random_state=seed,verbose=True)\n",
    "            tsne=TSNE(random_state=seed,verbose=True)\n",
    "\n",
    "            id_str = f'seed_{seed}'\n",
    "\n",
    "            print('PCA2')\n",
    "            x_pca2 = pca2.fit_transform(x_hd)\n",
    "            print('PCA50')\n",
    "            x_pca50 = pca50.fit_transform(x_hd)\n",
    "            print('UMAP')\n",
    "            x_umap = umap.fit_transform(x_pca50)\n",
    "            print('TSNE')\n",
    "            x_tsne = tsne.fit(x_pca50)\n",
    "\n",
    "            ad.obsm[f'x{scaled_str}_pca2_{id_str}'] = x_pca2\n",
    "            ad.obsm[f'x{scaled_str}_pca50_{id_str}'] = x_pca50\n",
    "            ad.obsm[f'x{scaled_str}_umap_{id_str}'] = x_umap\n",
    "            ad.obsm[f'x{scaled_str}_tsne_{id_str}'] = np.array(x_tsne)\n",
    "\n",
    "            np.save(f'../results/embeddings/npy/{dataset}_x{scaled_str}_pca2_{id_str}.npy',x_pca2,allow_pickle=False)\n",
    "            np.save(f'../results/embeddings/npy/{dataset}_x{scaled_str}_pca50_{id_str}.npy',x_pca50,allow_pickle=False)\n",
    "            np.save(f'../results/embeddings/npy/{dataset}_x{scaled_str}_umap_{id_str}.npy',x_umap,allow_pickle=False)\n",
    "            np.save(f'../results/embeddings/npy/{dataset}_x{scaled_str}_tsne_{id_str}.npy',x_tsne,allow_pickle=False)\n",
    "    \n",
    "    ad.uns['seeds']=seeds\n",
    "    ad.write_h5ad(f'../results/embeddings/{dataset}_adata_standard_embeddings.h5ad')"
   ]
  },
  {
   "cell_type": "code",
   "execution_count": 5,
   "id": "7e0f0dbb-72c5-4d79-b410-cb6cbeb5ce3e",
   "metadata": {
    "tags": []
   },
   "outputs": [
    {
     "name": "stdout",
     "output_type": "stream",
     "text": [
      "exut seed: 0 scaled: False\n",
      "PCA2\n",
      "PCA50\n",
      "UMAP\n",
      "UMAP(random_state=0, verbose=True)\n",
      "Thu Feb 22 18:49:46 2024 Construct fuzzy simplicial set\n",
      "Thu Feb 22 18:49:46 2024 Finding Nearest Neighbors\n",
      "Thu Feb 22 18:49:46 2024 Building RP forest with 9 trees\n"
     ]
    },
    {
     "name": "stderr",
     "output_type": "stream",
     "text": [
      "/home/jan/anaconda3/envs/seeing_the_elephant_env/lib/python3.11/site-packages/umap/umap_.py:1943: UserWarning: n_jobs value -1 overridden to 1 by setting random_state. Use no seed for parallelism.\n",
      "  warn(f\"n_jobs value {self.n_jobs} overridden to 1 by setting random_state. Use no seed for parallelism.\")\n"
     ]
    },
    {
     "name": "stdout",
     "output_type": "stream",
     "text": [
      "Thu Feb 22 18:49:47 2024 NN descent for 13 iterations\n",
      "\t 1  /  13\n",
      "\t 2  /  13\n",
      "\t 3  /  13\n",
      "\t 4  /  13\n",
      "\tStopping threshold met -- exiting after 4 iterations\n",
      "Thu Feb 22 18:49:52 2024 Finished Nearest Neighbor Search\n",
      "Thu Feb 22 18:49:53 2024 Construct embedding\n"
     ]
    },
    {
     "name": "stderr",
     "output_type": "stream",
     "text": [
      "Epochs completed:   3%| ███                                                                                                           14/500 [00:00]"
     ]
    },
    {
     "name": "stdout",
     "output_type": "stream",
     "text": [
      "\tcompleted  0  /  500 epochs\n"
     ]
    },
    {
     "name": "stderr",
     "output_type": "stream",
     "text": [
      "Epochs completed:  14%| ███████████████                                                                                               69/500 [00:00]"
     ]
    },
    {
     "name": "stdout",
     "output_type": "stream",
     "text": [
      "\tcompleted  50  /  500 epochs\n"
     ]
    },
    {
     "name": "stderr",
     "output_type": "stream",
     "text": [
      "Epochs completed:  23%| ████████████████████████▍                                                                                    113/500 [00:01]"
     ]
    },
    {
     "name": "stdout",
     "output_type": "stream",
     "text": [
      "\tcompleted  100  /  500 epochs\n"
     ]
    },
    {
     "name": "stderr",
     "output_type": "stream",
     "text": [
      "Epochs completed:  34%| ████████████████████████████████████▎                                                                        168/500 [00:01]"
     ]
    },
    {
     "name": "stdout",
     "output_type": "stream",
     "text": [
      "\tcompleted  150  /  500 epochs\n"
     ]
    },
    {
     "name": "stderr",
     "output_type": "stream",
     "text": [
      "Epochs completed:  42%| █████████████████████████████████████████████▊                                                               212/500 [00:02]"
     ]
    },
    {
     "name": "stdout",
     "output_type": "stream",
     "text": [
      "\tcompleted  200  /  500 epochs\n"
     ]
    },
    {
     "name": "stderr",
     "output_type": "stream",
     "text": [
      "Epochs completed:  53%| █████████████████████████████████████████████████████████▋                                                   267/500 [00:02]"
     ]
    },
    {
     "name": "stdout",
     "output_type": "stream",
     "text": [
      "\tcompleted  250  /  500 epochs\n"
     ]
    },
    {
     "name": "stderr",
     "output_type": "stream",
     "text": [
      "Epochs completed:  64%| █████████████████████████████████████████████████████████████████████▌                                       322/500 [00:03]"
     ]
    },
    {
     "name": "stdout",
     "output_type": "stream",
     "text": [
      "\tcompleted  300  /  500 epochs\n"
     ]
    },
    {
     "name": "stderr",
     "output_type": "stream",
     "text": [
      "Epochs completed:  73%| ███████████████████████████████████████████████████████████████████████████████                              366/500 [00:03]"
     ]
    },
    {
     "name": "stdout",
     "output_type": "stream",
     "text": [
      "\tcompleted  350  /  500 epochs\n"
     ]
    },
    {
     "name": "stderr",
     "output_type": "stream",
     "text": [
      "Epochs completed:  84%| ██████████████████████████████████████████████████████████████████████████████████████████▉                  421/500 [00:04]"
     ]
    },
    {
     "name": "stdout",
     "output_type": "stream",
     "text": [
      "\tcompleted  400  /  500 epochs\n"
     ]
    },
    {
     "name": "stderr",
     "output_type": "stream",
     "text": [
      "Epochs completed:  93%| ████████████████████████████████████████████████████████████████████████████████████████████████████▍        465/500 [00:04]"
     ]
    },
    {
     "name": "stdout",
     "output_type": "stream",
     "text": [
      "\tcompleted  450  /  500 epochs\n"
     ]
    },
    {
     "name": "stderr",
     "output_type": "stream",
     "text": [
      "Epochs completed: 100%| ████████████████████████████████████████████████████████████████████████████████████████████████████████████ 500/500 [00:05]\n"
     ]
    },
    {
     "name": "stdout",
     "output_type": "stream",
     "text": [
      "Thu Feb 22 18:49:59 2024 Finished embedding\n",
      "TSNE\n",
      "--------------------------------------------------------------------------------\n",
      "TSNE(early_exaggeration=12, random_state=0, verbose=True)\n",
      "--------------------------------------------------------------------------------\n",
      "===> Finding 90 nearest neighbors using Annoy approximate search using euclidean distance...\n",
      "   --> Time elapsed: 1.43 seconds\n",
      "===> Calculating affinity matrix...\n",
      "   --> Time elapsed: 0.09 seconds\n",
      "===> Calculating PCA-based initialization...\n",
      "   --> Time elapsed: 0.01 seconds\n",
      "===> Running optimization with exaggeration=12.00, lr=517.08 for 250 iterations...\n",
      "Iteration   50, KL divergence 3.5645, 50 iterations in 4.9264 sec\n",
      "Iteration  100, KL divergence 3.4640, 50 iterations in 4.3878 sec\n",
      "Iteration  150, KL divergence 3.4262, 50 iterations in 4.1874 sec\n",
      "Iteration  200, KL divergence 3.4112, 50 iterations in 4.5637 sec\n",
      "Iteration  250, KL divergence 3.4031, 50 iterations in 4.1901 sec\n",
      "   --> Time elapsed: 22.26 seconds\n",
      "===> Running optimization with exaggeration=1.00, lr=6205.00 for 500 iterations...\n",
      "Iteration   50, KL divergence 1.6155, 50 iterations in 4.2302 sec\n",
      "Iteration  100, KL divergence 1.4664, 50 iterations in 4.1453 sec\n",
      "Iteration  150, KL divergence 1.4061, 50 iterations in 4.1242 sec\n",
      "Iteration  200, KL divergence 1.3722, 50 iterations in 4.1895 sec\n",
      "Iteration  250, KL divergence 1.3506, 50 iterations in 4.1444 sec\n",
      "Iteration  300, KL divergence 1.3350, 50 iterations in 4.1109 sec\n",
      "Iteration  350, KL divergence 1.3231, 50 iterations in 4.1228 sec\n",
      "Iteration  400, KL divergence 1.3140, 50 iterations in 4.0859 sec\n",
      "Iteration  450, KL divergence 1.3067, 50 iterations in 4.1382 sec\n",
      "Iteration  500, KL divergence 1.3008, 50 iterations in 4.1211 sec\n",
      "   --> Time elapsed: 41.41 seconds\n",
      "exut seed: 1 scaled: False\n",
      "PCA2\n",
      "PCA50\n",
      "UMAP\n",
      "UMAP(random_state=1, verbose=True)\n",
      "Thu Feb 22 18:51:05 2024 Construct fuzzy simplicial set\n",
      "Thu Feb 22 18:51:05 2024 Finding Nearest Neighbors\n",
      "Thu Feb 22 18:51:05 2024 Building RP forest with 9 trees\n",
      "Thu Feb 22 18:51:05 2024 NN descent for 13 iterations\n",
      "\t 1  /  13\n",
      "\t 2  /  13\n",
      "\t 3  /  13\n",
      "\t 4  /  13\n",
      "\tStopping threshold met -- exiting after 4 iterations\n",
      "Thu Feb 22 18:51:05 2024 Finished Nearest Neighbor Search\n",
      "Thu Feb 22 18:51:05 2024 Construct embedding\n"
     ]
    },
    {
     "name": "stderr",
     "output_type": "stream",
     "text": [
      "/home/jan/anaconda3/envs/seeing_the_elephant_env/lib/python3.11/site-packages/umap/umap_.py:1943: UserWarning: n_jobs value -1 overridden to 1 by setting random_state. Use no seed for parallelism.\n",
      "  warn(f\"n_jobs value {self.n_jobs} overridden to 1 by setting random_state. Use no seed for parallelism.\")\n",
      "Epochs completed:   3%| ███                                                                                                           14/500 [00:00]"
     ]
    },
    {
     "name": "stdout",
     "output_type": "stream",
     "text": [
      "\tcompleted  0  /  500 epochs\n"
     ]
    },
    {
     "name": "stderr",
     "output_type": "stream",
     "text": [
      "Epochs completed:  14%| ███████████████                                                                                               69/500 [00:00]"
     ]
    },
    {
     "name": "stdout",
     "output_type": "stream",
     "text": [
      "\tcompleted  50  /  500 epochs\n"
     ]
    },
    {
     "name": "stderr",
     "output_type": "stream",
     "text": [
      "Epochs completed:  23%| ████████████████████████▍                                                                                    113/500 [00:01]"
     ]
    },
    {
     "name": "stdout",
     "output_type": "stream",
     "text": [
      "\tcompleted  100  /  500 epochs\n"
     ]
    },
    {
     "name": "stderr",
     "output_type": "stream",
     "text": [
      "Epochs completed:  34%| ████████████████████████████████████▎                                                                        168/500 [00:01]"
     ]
    },
    {
     "name": "stdout",
     "output_type": "stream",
     "text": [
      "\tcompleted  150  /  500 epochs\n"
     ]
    },
    {
     "name": "stderr",
     "output_type": "stream",
     "text": [
      "Epochs completed:  42%| █████████████████████████████████████████████▊                                                               212/500 [00:02]"
     ]
    },
    {
     "name": "stdout",
     "output_type": "stream",
     "text": [
      "\tcompleted  200  /  500 epochs\n"
     ]
    },
    {
     "name": "stderr",
     "output_type": "stream",
     "text": [
      "Epochs completed:  53%| █████████████████████████████████████████████████████████▋                                                   267/500 [00:02]"
     ]
    },
    {
     "name": "stdout",
     "output_type": "stream",
     "text": [
      "\tcompleted  250  /  500 epochs\n"
     ]
    },
    {
     "name": "stderr",
     "output_type": "stream",
     "text": [
      "Epochs completed:  64%| █████████████████████████████████████████████████████████████████████▌                                       322/500 [00:03]"
     ]
    },
    {
     "name": "stdout",
     "output_type": "stream",
     "text": [
      "\tcompleted  300  /  500 epochs\n"
     ]
    },
    {
     "name": "stderr",
     "output_type": "stream",
     "text": [
      "Epochs completed:  73%| ███████████████████████████████████████████████████████████████████████████████                              366/500 [00:03]"
     ]
    },
    {
     "name": "stdout",
     "output_type": "stream",
     "text": [
      "\tcompleted  350  /  500 epochs\n"
     ]
    },
    {
     "name": "stderr",
     "output_type": "stream",
     "text": [
      "Epochs completed:  84%| ██████████████████████████████████████████████████████████████████████████████████████████▉                  421/500 [00:04]"
     ]
    },
    {
     "name": "stdout",
     "output_type": "stream",
     "text": [
      "\tcompleted  400  /  500 epochs\n"
     ]
    },
    {
     "name": "stderr",
     "output_type": "stream",
     "text": [
      "Epochs completed:  93%| ████████████████████████████████████████████████████████████████████████████████████████████████████▏        464/500 [00:04]"
     ]
    },
    {
     "name": "stdout",
     "output_type": "stream",
     "text": [
      "\tcompleted  450  /  500 epochs\n"
     ]
    },
    {
     "name": "stderr",
     "output_type": "stream",
     "text": [
      "Epochs completed: 100%| ████████████████████████████████████████████████████████████████████████████████████████████████████████████ 500/500 [00:05]\n"
     ]
    },
    {
     "name": "stdout",
     "output_type": "stream",
     "text": [
      "Thu Feb 22 18:51:10 2024 Finished embedding\n",
      "TSNE\n",
      "--------------------------------------------------------------------------------\n",
      "TSNE(early_exaggeration=12, random_state=1, verbose=True)\n",
      "--------------------------------------------------------------------------------\n",
      "===> Finding 90 nearest neighbors using Annoy approximate search using euclidean distance...\n",
      "   --> Time elapsed: 1.48 seconds\n",
      "===> Calculating affinity matrix...\n",
      "   --> Time elapsed: 0.09 seconds\n",
      "===> Calculating PCA-based initialization...\n",
      "   --> Time elapsed: 0.01 seconds\n",
      "===> Running optimization with exaggeration=12.00, lr=517.08 for 250 iterations...\n",
      "Iteration   50, KL divergence 3.5535, 50 iterations in 4.9468 sec\n",
      "Iteration  100, KL divergence 3.4676, 50 iterations in 4.3890 sec\n",
      "Iteration  150, KL divergence 3.4309, 50 iterations in 4.3346 sec\n",
      "Iteration  200, KL divergence 3.4150, 50 iterations in 4.3630 sec\n",
      "Iteration  250, KL divergence 3.4057, 50 iterations in 4.2585 sec\n",
      "   --> Time elapsed: 22.29 seconds\n",
      "===> Running optimization with exaggeration=1.00, lr=6205.00 for 500 iterations...\n",
      "Iteration   50, KL divergence 1.6170, 50 iterations in 4.2382 sec\n",
      "Iteration  100, KL divergence 1.4705, 50 iterations in 4.1750 sec\n",
      "Iteration  150, KL divergence 1.4108, 50 iterations in 4.1252 sec\n",
      "Iteration  200, KL divergence 1.3774, 50 iterations in 4.2180 sec\n",
      "Iteration  250, KL divergence 1.3556, 50 iterations in 4.3048 sec\n",
      "Iteration  300, KL divergence 1.3407, 50 iterations in 4.2816 sec\n",
      "Iteration  350, KL divergence 1.3295, 50 iterations in 4.1838 sec\n",
      "Iteration  400, KL divergence 1.3205, 50 iterations in 4.1815 sec\n",
      "Iteration  450, KL divergence 1.3133, 50 iterations in 4.1747 sec\n",
      "Iteration  500, KL divergence 1.3075, 50 iterations in 4.1810 sec\n",
      "   --> Time elapsed: 42.06 seconds\n",
      "exut seed: 2 scaled: False\n",
      "PCA2\n",
      "PCA50\n",
      "UMAP\n",
      "UMAP(random_state=2, verbose=True)\n",
      "Thu Feb 22 18:52:17 2024 Construct fuzzy simplicial set\n",
      "Thu Feb 22 18:52:17 2024 Finding Nearest Neighbors\n",
      "Thu Feb 22 18:52:17 2024 Building RP forest with 9 trees\n",
      "Thu Feb 22 18:52:17 2024 NN descent for 13 iterations\n",
      "\t 1  /  13\n",
      "\t 2  /  13\n",
      "\t 3  /  13\n",
      "\t 4  /  13\n",
      "\tStopping threshold met -- exiting after 4 iterations\n",
      "Thu Feb 22 18:52:17 2024 Finished Nearest Neighbor Search\n"
     ]
    },
    {
     "name": "stderr",
     "output_type": "stream",
     "text": [
      "/home/jan/anaconda3/envs/seeing_the_elephant_env/lib/python3.11/site-packages/umap/umap_.py:1943: UserWarning: n_jobs value -1 overridden to 1 by setting random_state. Use no seed for parallelism.\n",
      "  warn(f\"n_jobs value {self.n_jobs} overridden to 1 by setting random_state. Use no seed for parallelism.\")\n"
     ]
    },
    {
     "name": "stdout",
     "output_type": "stream",
     "text": [
      "Thu Feb 22 18:52:17 2024 Construct embedding\n"
     ]
    },
    {
     "name": "stderr",
     "output_type": "stream",
     "text": [
      "Epochs completed:   3%| ██▊                                                                                                           13/500 [00:00]"
     ]
    },
    {
     "name": "stdout",
     "output_type": "stream",
     "text": [
      "\tcompleted  0  /  500 epochs\n"
     ]
    },
    {
     "name": "stderr",
     "output_type": "stream",
     "text": [
      "Epochs completed:  13%| █████████████▋                                                                                                63/500 [00:01]"
     ]
    },
    {
     "name": "stdout",
     "output_type": "stream",
     "text": [
      "\tcompleted  50  /  500 epochs\n"
     ]
    },
    {
     "name": "stderr",
     "output_type": "stream",
     "text": [
      "Epochs completed:  23%| ████████████████████████▍                                                                                    113/500 [00:01]"
     ]
    },
    {
     "name": "stdout",
     "output_type": "stream",
     "text": [
      "\tcompleted  100  /  500 epochs\n"
     ]
    },
    {
     "name": "stderr",
     "output_type": "stream",
     "text": [
      "Epochs completed:  33%| ███████████████████████████████████▏                                                                         163/500 [00:02]"
     ]
    },
    {
     "name": "stdout",
     "output_type": "stream",
     "text": [
      "\tcompleted  150  /  500 epochs\n"
     ]
    },
    {
     "name": "stderr",
     "output_type": "stream",
     "text": [
      "Epochs completed:  43%| ██████████████████████████████████████████████▊                                                              217/500 [00:02]"
     ]
    },
    {
     "name": "stdout",
     "output_type": "stream",
     "text": [
      "\tcompleted  200  /  500 epochs\n"
     ]
    },
    {
     "name": "stderr",
     "output_type": "stream",
     "text": [
      "Epochs completed:  54%| ██████████████████████████████████████████████████████████▊                                                  272/500 [00:03]"
     ]
    },
    {
     "name": "stdout",
     "output_type": "stream",
     "text": [
      "\tcompleted  250  /  500 epochs\n"
     ]
    },
    {
     "name": "stderr",
     "output_type": "stream",
     "text": [
      "Epochs completed:  63%| ████████████████████████████████████████████████████████████████████▎                                        316/500 [00:03]"
     ]
    },
    {
     "name": "stdout",
     "output_type": "stream",
     "text": [
      "\tcompleted  300  /  500 epochs\n"
     ]
    },
    {
     "name": "stderr",
     "output_type": "stream",
     "text": [
      "Epochs completed:  74%| ████████████████████████████████████████████████████████████████████████████████▏                            371/500 [00:04]"
     ]
    },
    {
     "name": "stdout",
     "output_type": "stream",
     "text": [
      "\tcompleted  350  /  500 epochs\n"
     ]
    },
    {
     "name": "stderr",
     "output_type": "stream",
     "text": [
      "Epochs completed:  83%| █████████████████████████████████████████████████████████████████████████████████████████▋                   415/500 [00:04]"
     ]
    },
    {
     "name": "stdout",
     "output_type": "stream",
     "text": [
      "\tcompleted  400  /  500 epochs\n"
     ]
    },
    {
     "name": "stderr",
     "output_type": "stream",
     "text": [
      "Epochs completed:  94%| █████████████████████████████████████████████████████████████████████████████████████████████████████▌       470/500 [00:05]"
     ]
    },
    {
     "name": "stdout",
     "output_type": "stream",
     "text": [
      "\tcompleted  450  /  500 epochs\n"
     ]
    },
    {
     "name": "stderr",
     "output_type": "stream",
     "text": [
      "Epochs completed: 100%| ████████████████████████████████████████████████████████████████████████████████████████████████████████████ 500/500 [00:05]\n"
     ]
    },
    {
     "name": "stdout",
     "output_type": "stream",
     "text": [
      "Thu Feb 22 18:52:22 2024 Finished embedding\n",
      "TSNE\n",
      "--------------------------------------------------------------------------------\n",
      "TSNE(early_exaggeration=12, random_state=2, verbose=True)\n",
      "--------------------------------------------------------------------------------\n",
      "===> Finding 90 nearest neighbors using Annoy approximate search using euclidean distance...\n",
      "   --> Time elapsed: 1.42 seconds\n",
      "===> Calculating affinity matrix...\n",
      "   --> Time elapsed: 0.08 seconds\n",
      "===> Calculating PCA-based initialization...\n",
      "   --> Time elapsed: 0.01 seconds\n",
      "===> Running optimization with exaggeration=12.00, lr=517.08 for 250 iterations...\n",
      "Iteration   50, KL divergence 3.5582, 50 iterations in 4.9114 sec\n",
      "Iteration  100, KL divergence 3.4671, 50 iterations in 4.5440 sec\n",
      "Iteration  150, KL divergence 3.4310, 50 iterations in 4.4144 sec\n",
      "Iteration  200, KL divergence 3.4153, 50 iterations in 4.3427 sec\n",
      "Iteration  250, KL divergence 3.4059, 50 iterations in 4.3521 sec\n",
      "   --> Time elapsed: 22.56 seconds\n",
      "===> Running optimization with exaggeration=1.00, lr=6205.00 for 500 iterations...\n",
      "Iteration   50, KL divergence 1.6241, 50 iterations in 4.2865 sec\n",
      "Iteration  100, KL divergence 1.4754, 50 iterations in 4.2864 sec\n",
      "Iteration  150, KL divergence 1.4141, 50 iterations in 4.2009 sec\n",
      "Iteration  200, KL divergence 1.3801, 50 iterations in 4.1895 sec\n",
      "Iteration  250, KL divergence 1.3584, 50 iterations in 4.1575 sec\n",
      "Iteration  300, KL divergence 1.3425, 50 iterations in 4.2288 sec\n",
      "Iteration  350, KL divergence 1.3306, 50 iterations in 4.2485 sec\n",
      "Iteration  400, KL divergence 1.3218, 50 iterations in 4.2946 sec\n",
      "Iteration  450, KL divergence 1.3146, 50 iterations in 4.2140 sec\n",
      "Iteration  500, KL divergence 1.3086, 50 iterations in 4.1731 sec\n",
      "   --> Time elapsed: 42.28 seconds\n",
      "exut seed: 3 scaled: False\n",
      "PCA2\n",
      "PCA50\n",
      "UMAP\n",
      "UMAP(random_state=3, verbose=True)\n",
      "Thu Feb 22 18:53:30 2024 Construct fuzzy simplicial set\n",
      "Thu Feb 22 18:53:30 2024 Finding Nearest Neighbors\n",
      "Thu Feb 22 18:53:30 2024 Building RP forest with 9 trees\n",
      "Thu Feb 22 18:53:30 2024 NN descent for 13 iterations\n",
      "\t 1  /  13\n",
      "\t 2  /  13\n",
      "\t 3  /  13\n",
      "\t 4  /  13\n",
      "\tStopping threshold met -- exiting after 4 iterations\n",
      "Thu Feb 22 18:53:30 2024 Finished Nearest Neighbor Search\n"
     ]
    },
    {
     "name": "stderr",
     "output_type": "stream",
     "text": [
      "/home/jan/anaconda3/envs/seeing_the_elephant_env/lib/python3.11/site-packages/umap/umap_.py:1943: UserWarning: n_jobs value -1 overridden to 1 by setting random_state. Use no seed for parallelism.\n",
      "  warn(f\"n_jobs value {self.n_jobs} overridden to 1 by setting random_state. Use no seed for parallelism.\")\n"
     ]
    },
    {
     "name": "stdout",
     "output_type": "stream",
     "text": [
      "Thu Feb 22 18:53:30 2024 Construct embedding\n"
     ]
    },
    {
     "name": "stderr",
     "output_type": "stream",
     "text": [
      "Epochs completed:   3%| ███                                                                                                           14/500 [00:00]"
     ]
    },
    {
     "name": "stdout",
     "output_type": "stream",
     "text": [
      "\tcompleted  0  /  500 epochs\n"
     ]
    },
    {
     "name": "stderr",
     "output_type": "stream",
     "text": [
      "Epochs completed:  13%| ██████████████▌                                                                                               67/500 [00:00]"
     ]
    },
    {
     "name": "stdout",
     "output_type": "stream",
     "text": [
      "\tcompleted  50  /  500 epochs\n"
     ]
    },
    {
     "name": "stderr",
     "output_type": "stream",
     "text": [
      "Epochs completed:  24%| █████████████████████████▍                                                                                   118/500 [00:01]"
     ]
    },
    {
     "name": "stdout",
     "output_type": "stream",
     "text": [
      "\tcompleted  100  /  500 epochs\n"
     ]
    },
    {
     "name": "stderr",
     "output_type": "stream",
     "text": [
      "Epochs completed:  34%| ████████████████████████████████████▌                                                                        169/500 [00:02]"
     ]
    },
    {
     "name": "stdout",
     "output_type": "stream",
     "text": [
      "\tcompleted  150  /  500 epochs\n"
     ]
    },
    {
     "name": "stderr",
     "output_type": "stream",
     "text": [
      "Epochs completed:  42%| █████████████████████████████████████████████▊                                                               212/500 [00:02]"
     ]
    },
    {
     "name": "stdout",
     "output_type": "stream",
     "text": [
      "\tcompleted  200  /  500 epochs\n"
     ]
    },
    {
     "name": "stderr",
     "output_type": "stream",
     "text": [
      "Epochs completed:  53%| ████████████████████████████████████████████████████████▊                                                    263/500 [00:02]"
     ]
    },
    {
     "name": "stdout",
     "output_type": "stream",
     "text": [
      "\tcompleted  250  /  500 epochs\n"
     ]
    },
    {
     "name": "stderr",
     "output_type": "stream",
     "text": [
      "Epochs completed:  63%| ████████████████████████████████████████████████████████████████████                                         315/500 [00:03]"
     ]
    },
    {
     "name": "stdout",
     "output_type": "stream",
     "text": [
      "\tcompleted  300  /  500 epochs\n"
     ]
    },
    {
     "name": "stderr",
     "output_type": "stream",
     "text": [
      "Epochs completed:  73%| ███████████████████████████████████████████████████████████████████████████████                              366/500 [00:03]"
     ]
    },
    {
     "name": "stdout",
     "output_type": "stream",
     "text": [
      "\tcompleted  350  /  500 epochs\n"
     ]
    },
    {
     "name": "stderr",
     "output_type": "stream",
     "text": [
      "Epochs completed:  84%| ██████████████████████████████████████████████████████████████████████████████████████████▋                  420/500 [00:04]"
     ]
    },
    {
     "name": "stdout",
     "output_type": "stream",
     "text": [
      "\tcompleted  400  /  500 epochs\n"
     ]
    },
    {
     "name": "stderr",
     "output_type": "stream",
     "text": [
      "Epochs completed:  93%| ████████████████████████████████████████████████████████████████████████████████████████████████████▏        464/500 [00:04]"
     ]
    },
    {
     "name": "stdout",
     "output_type": "stream",
     "text": [
      "\tcompleted  450  /  500 epochs\n"
     ]
    },
    {
     "name": "stderr",
     "output_type": "stream",
     "text": [
      "Epochs completed: 100%| ████████████████████████████████████████████████████████████████████████████████████████████████████████████ 500/500 [00:05]\n"
     ]
    },
    {
     "name": "stdout",
     "output_type": "stream",
     "text": [
      "Thu Feb 22 18:53:35 2024 Finished embedding\n",
      "TSNE\n",
      "--------------------------------------------------------------------------------\n",
      "TSNE(early_exaggeration=12, random_state=3, verbose=True)\n",
      "--------------------------------------------------------------------------------\n",
      "===> Finding 90 nearest neighbors using Annoy approximate search using euclidean distance...\n",
      "   --> Time elapsed: 1.49 seconds\n",
      "===> Calculating affinity matrix...\n",
      "   --> Time elapsed: 0.08 seconds\n",
      "===> Calculating PCA-based initialization...\n",
      "   --> Time elapsed: 0.02 seconds\n",
      "===> Running optimization with exaggeration=12.00, lr=517.08 for 250 iterations...\n",
      "Iteration   50, KL divergence 3.5693, 50 iterations in 4.9787 sec\n",
      "Iteration  100, KL divergence 3.4628, 50 iterations in 4.4905 sec\n",
      "Iteration  150, KL divergence 3.4235, 50 iterations in 4.2375 sec\n",
      "Iteration  200, KL divergence 3.4079, 50 iterations in 4.2463 sec\n",
      "Iteration  250, KL divergence 3.3997, 50 iterations in 4.1799 sec\n",
      "   --> Time elapsed: 22.13 seconds\n",
      "===> Running optimization with exaggeration=1.00, lr=6205.00 for 500 iterations...\n",
      "Iteration   50, KL divergence 1.6177, 50 iterations in 4.3293 sec\n",
      "Iteration  100, KL divergence 1.4677, 50 iterations in 4.2204 sec\n",
      "Iteration  150, KL divergence 1.4063, 50 iterations in 4.2396 sec\n",
      "Iteration  200, KL divergence 1.3721, 50 iterations in 4.1508 sec\n",
      "Iteration  250, KL divergence 1.3505, 50 iterations in 4.1596 sec\n",
      "Iteration  300, KL divergence 1.3351, 50 iterations in 4.1456 sec\n",
      "Iteration  350, KL divergence 1.3238, 50 iterations in 4.2681 sec\n",
      "Iteration  400, KL divergence 1.3146, 50 iterations in 4.3004 sec\n",
      "Iteration  450, KL divergence 1.3073, 50 iterations in 4.2335 sec\n",
      "Iteration  500, KL divergence 1.3012, 50 iterations in 4.2221 sec\n",
      "   --> Time elapsed: 42.27 seconds\n",
      "exut seed: 4 scaled: False\n",
      "PCA2\n",
      "PCA50\n",
      "UMAP\n",
      "UMAP(random_state=4, verbose=True)\n",
      "Thu Feb 22 18:54:42 2024 Construct fuzzy simplicial set\n",
      "Thu Feb 22 18:54:42 2024 Finding Nearest Neighbors\n",
      "Thu Feb 22 18:54:42 2024 Building RP forest with 9 trees\n",
      "Thu Feb 22 18:54:42 2024 NN descent for 13 iterations\n",
      "\t 1  /  13\n",
      "\t 2  /  13\n",
      "\t 3  /  13\n",
      "\t 4  /  13\n",
      "\tStopping threshold met -- exiting after 4 iterations\n",
      "Thu Feb 22 18:54:42 2024 Finished Nearest Neighbor Search\n"
     ]
    },
    {
     "name": "stderr",
     "output_type": "stream",
     "text": [
      "/home/jan/anaconda3/envs/seeing_the_elephant_env/lib/python3.11/site-packages/umap/umap_.py:1943: UserWarning: n_jobs value -1 overridden to 1 by setting random_state. Use no seed for parallelism.\n",
      "  warn(f\"n_jobs value {self.n_jobs} overridden to 1 by setting random_state. Use no seed for parallelism.\")\n"
     ]
    },
    {
     "name": "stdout",
     "output_type": "stream",
     "text": [
      "Thu Feb 22 18:54:42 2024 Construct embedding\n"
     ]
    },
    {
     "name": "stderr",
     "output_type": "stream",
     "text": [
      "Epochs completed:   3%| ██▊                                                                                                           13/500 [00:00]"
     ]
    },
    {
     "name": "stdout",
     "output_type": "stream",
     "text": [
      "\tcompleted  0  /  500 epochs\n"
     ]
    },
    {
     "name": "stderr",
     "output_type": "stream",
     "text": [
      "Epochs completed:  13%| ██████████████▏                                                                                               65/500 [00:00]"
     ]
    },
    {
     "name": "stdout",
     "output_type": "stream",
     "text": [
      "\tcompleted  50  /  500 epochs\n"
     ]
    },
    {
     "name": "stderr",
     "output_type": "stream",
     "text": [
      "Epochs completed:  24%| █████████████████████████▉                                                                                   120/500 [00:01]"
     ]
    },
    {
     "name": "stdout",
     "output_type": "stream",
     "text": [
      "\tcompleted  100  /  500 epochs\n"
     ]
    },
    {
     "name": "stderr",
     "output_type": "stream",
     "text": [
      "Epochs completed:  32%| ██████████████████████████████████▉                                                                          162/500 [00:01]"
     ]
    },
    {
     "name": "stdout",
     "output_type": "stream",
     "text": [
      "\tcompleted  150  /  500 epochs\n"
     ]
    },
    {
     "name": "stderr",
     "output_type": "stream",
     "text": [
      "Epochs completed:  43%| ██████████████████████████████████████████████▏                                                              214/500 [00:02]"
     ]
    },
    {
     "name": "stdout",
     "output_type": "stream",
     "text": [
      "\tcompleted  200  /  500 epochs\n"
     ]
    },
    {
     "name": "stderr",
     "output_type": "stream",
     "text": [
      "Epochs completed:  53%| █████████████████████████████████████████████████████████                                                    264/500 [00:02]"
     ]
    },
    {
     "name": "stdout",
     "output_type": "stream",
     "text": [
      "\tcompleted  250  /  500 epochs\n"
     ]
    },
    {
     "name": "stderr",
     "output_type": "stream",
     "text": [
      "Epochs completed:  63%| ███████████████████████████████████████████████████████████████████▊                                         314/500 [00:03]"
     ]
    },
    {
     "name": "stdout",
     "output_type": "stream",
     "text": [
      "\tcompleted  300  /  500 epochs\n"
     ]
    },
    {
     "name": "stderr",
     "output_type": "stream",
     "text": [
      "Epochs completed:  73%| ██████████████████████████████████████████████████████████████████████████████▊                              365/500 [00:03]"
     ]
    },
    {
     "name": "stdout",
     "output_type": "stream",
     "text": [
      "\tcompleted  350  /  500 epochs\n"
     ]
    },
    {
     "name": "stderr",
     "output_type": "stream",
     "text": [
      "Epochs completed:  83%| █████████████████████████████████████████████████████████████████████████████████████████▊                   416/500 [00:04]"
     ]
    },
    {
     "name": "stdout",
     "output_type": "stream",
     "text": [
      "\tcompleted  400  /  500 epochs\n"
     ]
    },
    {
     "name": "stderr",
     "output_type": "stream",
     "text": [
      "Epochs completed:  93%| ████████████████████████████████████████████████████████████████████████████████████████████████████▋        466/500 [00:04]"
     ]
    },
    {
     "name": "stdout",
     "output_type": "stream",
     "text": [
      "\tcompleted  450  /  500 epochs\n"
     ]
    },
    {
     "name": "stderr",
     "output_type": "stream",
     "text": [
      "Epochs completed: 100%| ████████████████████████████████████████████████████████████████████████████████████████████████████████████ 500/500 [00:05]\n"
     ]
    },
    {
     "name": "stdout",
     "output_type": "stream",
     "text": [
      "Thu Feb 22 18:54:48 2024 Finished embedding\n",
      "TSNE\n",
      "--------------------------------------------------------------------------------\n",
      "TSNE(early_exaggeration=12, random_state=4, verbose=True)\n",
      "--------------------------------------------------------------------------------\n",
      "===> Finding 90 nearest neighbors using Annoy approximate search using euclidean distance...\n",
      "   --> Time elapsed: 1.45 seconds\n",
      "===> Calculating affinity matrix...\n",
      "   --> Time elapsed: 0.09 seconds\n",
      "===> Calculating PCA-based initialization...\n",
      "   --> Time elapsed: 0.01 seconds\n",
      "===> Running optimization with exaggeration=12.00, lr=517.08 for 250 iterations...\n",
      "Iteration   50, KL divergence 3.5529, 50 iterations in 5.0307 sec\n",
      "Iteration  100, KL divergence 3.4593, 50 iterations in 4.3437 sec\n",
      "Iteration  150, KL divergence 3.4227, 50 iterations in 4.1880 sec\n",
      "Iteration  200, KL divergence 3.4084, 50 iterations in 4.1961 sec\n",
      "Iteration  250, KL divergence 3.4000, 50 iterations in 4.2242 sec\n",
      "   --> Time elapsed: 21.98 seconds\n",
      "===> Running optimization with exaggeration=1.00, lr=6205.00 for 500 iterations...\n",
      "Iteration   50, KL divergence 1.6218, 50 iterations in 4.3408 sec\n",
      "Iteration  100, KL divergence 1.4712, 50 iterations in 4.3029 sec\n",
      "Iteration  150, KL divergence 1.4102, 50 iterations in 4.2327 sec\n",
      "Iteration  200, KL divergence 1.3758, 50 iterations in 4.2460 sec\n",
      "Iteration  250, KL divergence 1.3537, 50 iterations in 4.1820 sec\n",
      "Iteration  300, KL divergence 1.3382, 50 iterations in 4.1333 sec\n",
      "Iteration  350, KL divergence 1.3265, 50 iterations in 4.1389 sec\n",
      "Iteration  400, KL divergence 1.3175, 50 iterations in 4.2533 sec\n",
      "Iteration  450, KL divergence 1.3102, 50 iterations in 4.2828 sec\n",
      "Iteration  500, KL divergence 1.3042, 50 iterations in 4.2864 sec\n",
      "   --> Time elapsed: 42.40 seconds\n",
      "exut seed: 0 scaled: True\n",
      "PCA2\n",
      "PCA50\n",
      "UMAP\n",
      "UMAP(random_state=0, verbose=True)\n",
      "Thu Feb 22 18:55:54 2024 Construct fuzzy simplicial set\n",
      "Thu Feb 22 18:55:54 2024 Finding Nearest Neighbors\n",
      "Thu Feb 22 18:55:54 2024 Building RP forest with 9 trees\n",
      "Thu Feb 22 18:55:55 2024 NN descent for 13 iterations\n",
      "\t 1  /  13\n",
      "\t 2  /  13\n"
     ]
    },
    {
     "name": "stderr",
     "output_type": "stream",
     "text": [
      "/home/jan/anaconda3/envs/seeing_the_elephant_env/lib/python3.11/site-packages/umap/umap_.py:1943: UserWarning: n_jobs value -1 overridden to 1 by setting random_state. Use no seed for parallelism.\n",
      "  warn(f\"n_jobs value {self.n_jobs} overridden to 1 by setting random_state. Use no seed for parallelism.\")\n"
     ]
    },
    {
     "name": "stdout",
     "output_type": "stream",
     "text": [
      "\t 3  /  13\n",
      "\t 4  /  13\n",
      "\tStopping threshold met -- exiting after 4 iterations\n",
      "Thu Feb 22 18:55:55 2024 Finished Nearest Neighbor Search\n",
      "Thu Feb 22 18:55:55 2024 Construct embedding\n"
     ]
    },
    {
     "name": "stderr",
     "output_type": "stream",
     "text": [
      "Epochs completed:   3%| ██▊                                                                                                           13/500 [00:00]"
     ]
    },
    {
     "name": "stdout",
     "output_type": "stream",
     "text": [
      "\tcompleted  0  /  500 epochs\n"
     ]
    },
    {
     "name": "stderr",
     "output_type": "stream",
     "text": [
      "Epochs completed:  13%| █████████████▋                                                                                                63/500 [00:00]"
     ]
    },
    {
     "name": "stdout",
     "output_type": "stream",
     "text": [
      "\tcompleted  50  /  500 epochs\n"
     ]
    },
    {
     "name": "stderr",
     "output_type": "stream",
     "text": [
      "Epochs completed:  23%| ████████████████████████▌                                                                                    114/500 [00:01]"
     ]
    },
    {
     "name": "stdout",
     "output_type": "stream",
     "text": [
      "\tcompleted  100  /  500 epochs\n"
     ]
    },
    {
     "name": "stderr",
     "output_type": "stream",
     "text": [
      "Epochs completed:  34%| ████████████████████████████████████▌                                                                        169/500 [00:02]"
     ]
    },
    {
     "name": "stdout",
     "output_type": "stream",
     "text": [
      "\tcompleted  150  /  500 epochs\n"
     ]
    },
    {
     "name": "stderr",
     "output_type": "stream",
     "text": [
      "Epochs completed:  43%| ██████████████████████████████████████████████                                                               213/500 [00:02]"
     ]
    },
    {
     "name": "stdout",
     "output_type": "stream",
     "text": [
      "\tcompleted  200  /  500 epochs\n"
     ]
    },
    {
     "name": "stderr",
     "output_type": "stream",
     "text": [
      "Epochs completed:  53%| █████████████████████████████████████████████████████████                                                    264/500 [00:03]"
     ]
    },
    {
     "name": "stdout",
     "output_type": "stream",
     "text": [
      "\tcompleted  250  /  500 epochs\n"
     ]
    },
    {
     "name": "stderr",
     "output_type": "stream",
     "text": [
      "Epochs completed:  64%| ████████████████████████████████████████████████████████████████████▉                                        319/500 [00:03]"
     ]
    },
    {
     "name": "stdout",
     "output_type": "stream",
     "text": [
      "\tcompleted  300  /  500 epochs\n"
     ]
    },
    {
     "name": "stderr",
     "output_type": "stream",
     "text": [
      "Epochs completed:  73%| ██████████████████████████████████████████████████████████████████████████████▍                              363/500 [00:03]"
     ]
    },
    {
     "name": "stdout",
     "output_type": "stream",
     "text": [
      "\tcompleted  350  /  500 epochs\n"
     ]
    },
    {
     "name": "stderr",
     "output_type": "stream",
     "text": [
      "Epochs completed:  83%| █████████████████████████████████████████████████████████████████████████████████████████▊                   416/500 [00:04]"
     ]
    },
    {
     "name": "stdout",
     "output_type": "stream",
     "text": [
      "\tcompleted  400  /  500 epochs\n"
     ]
    },
    {
     "name": "stderr",
     "output_type": "stream",
     "text": [
      "Epochs completed:  94%| █████████████████████████████████████████████████████████████████████████████████████████████████████▎       469/500 [00:05]"
     ]
    },
    {
     "name": "stdout",
     "output_type": "stream",
     "text": [
      "\tcompleted  450  /  500 epochs\n"
     ]
    },
    {
     "name": "stderr",
     "output_type": "stream",
     "text": [
      "Epochs completed: 100%| ████████████████████████████████████████████████████████████████████████████████████████████████████████████ 500/500 [00:05]\n"
     ]
    },
    {
     "name": "stdout",
     "output_type": "stream",
     "text": [
      "Thu Feb 22 18:56:00 2024 Finished embedding\n",
      "TSNE\n",
      "--------------------------------------------------------------------------------\n",
      "TSNE(early_exaggeration=12, random_state=0, verbose=True)\n",
      "--------------------------------------------------------------------------------\n",
      "===> Finding 90 nearest neighbors using Annoy approximate search using euclidean distance...\n",
      "   --> Time elapsed: 1.50 seconds\n",
      "===> Calculating affinity matrix...\n",
      "   --> Time elapsed: 0.08 seconds\n",
      "===> Calculating PCA-based initialization...\n",
      "   --> Time elapsed: 0.01 seconds\n",
      "===> Running optimization with exaggeration=12.00, lr=517.08 for 250 iterations...\n",
      "Iteration   50, KL divergence 3.3361, 50 iterations in 5.0960 sec\n",
      "Iteration  100, KL divergence 3.2578, 50 iterations in 4.5143 sec\n",
      "Iteration  150, KL divergence 3.2289, 50 iterations in 4.4169 sec\n",
      "Iteration  200, KL divergence 3.2156, 50 iterations in 4.4151 sec\n",
      "Iteration  250, KL divergence 3.2078, 50 iterations in 4.3372 sec\n",
      "   --> Time elapsed: 22.78 seconds\n",
      "===> Running optimization with exaggeration=1.00, lr=6205.00 for 500 iterations...\n",
      "Iteration   50, KL divergence 1.5599, 50 iterations in 4.1545 sec\n",
      "Iteration  100, KL divergence 1.4195, 50 iterations in 4.1185 sec\n",
      "Iteration  150, KL divergence 1.3640, 50 iterations in 4.2066 sec\n",
      "Iteration  200, KL divergence 1.3336, 50 iterations in 4.2820 sec\n",
      "Iteration  250, KL divergence 1.3140, 50 iterations in 4.2872 sec\n",
      "Iteration  300, KL divergence 1.3007, 50 iterations in 4.2414 sec\n",
      "Iteration  350, KL divergence 1.2906, 50 iterations in 4.1856 sec\n",
      "Iteration  400, KL divergence 1.2830, 50 iterations in 4.2477 sec\n",
      "Iteration  450, KL divergence 1.2768, 50 iterations in 4.3654 sec\n",
      "Iteration  500, KL divergence 1.2713, 50 iterations in 4.3462 sec\n",
      "   --> Time elapsed: 42.44 seconds\n",
      "exut seed: 1 scaled: True\n",
      "PCA2\n",
      "PCA50\n",
      "UMAP\n",
      "UMAP(random_state=1, verbose=True)\n",
      "Thu Feb 22 18:57:08 2024 Construct fuzzy simplicial set\n",
      "Thu Feb 22 18:57:08 2024 Finding Nearest Neighbors\n",
      "Thu Feb 22 18:57:08 2024 Building RP forest with 9 trees\n",
      "Thu Feb 22 18:57:08 2024 NN descent for 13 iterations\n",
      "\t 1  /  13\n",
      "\t 2  /  13\n"
     ]
    },
    {
     "name": "stderr",
     "output_type": "stream",
     "text": [
      "/home/jan/anaconda3/envs/seeing_the_elephant_env/lib/python3.11/site-packages/umap/umap_.py:1943: UserWarning: n_jobs value -1 overridden to 1 by setting random_state. Use no seed for parallelism.\n",
      "  warn(f\"n_jobs value {self.n_jobs} overridden to 1 by setting random_state. Use no seed for parallelism.\")\n"
     ]
    },
    {
     "name": "stdout",
     "output_type": "stream",
     "text": [
      "\t 3  /  13\n",
      "\t 4  /  13\n",
      "\tStopping threshold met -- exiting after 4 iterations\n",
      "Thu Feb 22 18:57:08 2024 Finished Nearest Neighbor Search\n",
      "Thu Feb 22 18:57:08 2024 Construct embedding\n"
     ]
    },
    {
     "name": "stderr",
     "output_type": "stream",
     "text": [
      "Epochs completed:   3%| ██▊                                                                                                           13/500 [00:00]"
     ]
    },
    {
     "name": "stdout",
     "output_type": "stream",
     "text": [
      "\tcompleted  0  /  500 epochs\n"
     ]
    },
    {
     "name": "stderr",
     "output_type": "stream",
     "text": [
      "Epochs completed:  13%| █████████████▋                                                                                                63/500 [00:01]"
     ]
    },
    {
     "name": "stdout",
     "output_type": "stream",
     "text": [
      "\tcompleted  50  /  500 epochs\n"
     ]
    },
    {
     "name": "stderr",
     "output_type": "stream",
     "text": [
      "Epochs completed:  23%| ████████████████████████▍                                                                                    113/500 [00:01]"
     ]
    },
    {
     "name": "stdout",
     "output_type": "stream",
     "text": [
      "\tcompleted  100  /  500 epochs\n"
     ]
    },
    {
     "name": "stderr",
     "output_type": "stream",
     "text": [
      "Epochs completed:  33%| ███████████████████████████████████▍                                                                         164/500 [00:02]"
     ]
    },
    {
     "name": "stdout",
     "output_type": "stream",
     "text": [
      "\tcompleted  150  /  500 epochs\n"
     ]
    },
    {
     "name": "stderr",
     "output_type": "stream",
     "text": [
      "Epochs completed:  43%| ██████████████████████████████████████████████▏                                                              214/500 [00:02]"
     ]
    },
    {
     "name": "stdout",
     "output_type": "stream",
     "text": [
      "\tcompleted  200  /  500 epochs\n"
     ]
    },
    {
     "name": "stderr",
     "output_type": "stream",
     "text": [
      "Epochs completed:  53%| █████████████████████████████████████████████████████████                                                    264/500 [00:03]"
     ]
    },
    {
     "name": "stdout",
     "output_type": "stream",
     "text": [
      "\tcompleted  250  /  500 epochs\n"
     ]
    },
    {
     "name": "stderr",
     "output_type": "stream",
     "text": [
      "Epochs completed:  63%| ███████████████████████████████████████████████████████████████████▊                                         314/500 [00:03]"
     ]
    },
    {
     "name": "stdout",
     "output_type": "stream",
     "text": [
      "\tcompleted  300  /  500 epochs\n"
     ]
    },
    {
     "name": "stderr",
     "output_type": "stream",
     "text": [
      "Epochs completed:  73%| ██████████████████████████████████████████████████████████████████████████████▌                              364/500 [00:04]"
     ]
    },
    {
     "name": "stdout",
     "output_type": "stream",
     "text": [
      "\tcompleted  350  /  500 epochs\n"
     ]
    },
    {
     "name": "stderr",
     "output_type": "stream",
     "text": [
      "Epochs completed:  83%| █████████████████████████████████████████████████████████████████████████████████████████▍                   414/500 [00:04]"
     ]
    },
    {
     "name": "stdout",
     "output_type": "stream",
     "text": [
      "\tcompleted  400  /  500 epochs\n"
     ]
    },
    {
     "name": "stderr",
     "output_type": "stream",
     "text": [
      "Epochs completed:  93%| ████████████████████████████████████████████████████████████████████████████████████████████████████▏        464/500 [00:05]"
     ]
    },
    {
     "name": "stdout",
     "output_type": "stream",
     "text": [
      "\tcompleted  450  /  500 epochs\n"
     ]
    },
    {
     "name": "stderr",
     "output_type": "stream",
     "text": [
      "Epochs completed: 100%| ████████████████████████████████████████████████████████████████████████████████████████████████████████████ 500/500 [00:05]\n"
     ]
    },
    {
     "name": "stdout",
     "output_type": "stream",
     "text": [
      "Thu Feb 22 18:57:14 2024 Finished embedding\n",
      "TSNE\n",
      "--------------------------------------------------------------------------------\n",
      "TSNE(early_exaggeration=12, random_state=1, verbose=True)\n",
      "--------------------------------------------------------------------------------\n",
      "===> Finding 90 nearest neighbors using Annoy approximate search using euclidean distance...\n",
      "   --> Time elapsed: 1.49 seconds\n",
      "===> Calculating affinity matrix...\n",
      "   --> Time elapsed: 0.09 seconds\n",
      "===> Calculating PCA-based initialization...\n",
      "   --> Time elapsed: 0.02 seconds\n",
      "===> Running optimization with exaggeration=12.00, lr=517.08 for 250 iterations...\n",
      "Iteration   50, KL divergence 3.3174, 50 iterations in 5.0585 sec\n",
      "Iteration  100, KL divergence 3.2331, 50 iterations in 4.4576 sec\n",
      "Iteration  150, KL divergence 3.2006, 50 iterations in 4.3252 sec\n",
      "Iteration  200, KL divergence 3.1854, 50 iterations in 4.3783 sec\n",
      "Iteration  250, KL divergence 3.1771, 50 iterations in 4.3235 sec\n",
      "   --> Time elapsed: 22.54 seconds\n",
      "===> Running optimization with exaggeration=1.00, lr=6205.00 for 500 iterations...\n",
      "Iteration   50, KL divergence 1.5624, 50 iterations in 4.2509 sec\n",
      "Iteration  100, KL divergence 1.4224, 50 iterations in 4.1210 sec\n",
      "Iteration  150, KL divergence 1.3663, 50 iterations in 4.2237 sec\n",
      "Iteration  200, KL divergence 1.3358, 50 iterations in 4.2729 sec\n",
      "Iteration  250, KL divergence 1.3167, 50 iterations in 4.2526 sec\n",
      "Iteration  300, KL divergence 1.3036, 50 iterations in 4.2721 sec\n",
      "Iteration  350, KL divergence 1.2937, 50 iterations in 4.2374 sec\n",
      "Iteration  400, KL divergence 1.2864, 50 iterations in 4.1313 sec\n",
      "Iteration  450, KL divergence 1.2800, 50 iterations in 4.1580 sec\n",
      "Iteration  500, KL divergence 1.2751, 50 iterations in 4.2333 sec\n",
      "   --> Time elapsed: 42.15 seconds\n",
      "exut seed: 2 scaled: True\n",
      "PCA2\n",
      "PCA50\n",
      "UMAP\n",
      "UMAP(random_state=2, verbose=True)\n",
      "Thu Feb 22 18:58:21 2024 Construct fuzzy simplicial set\n",
      "Thu Feb 22 18:58:21 2024 Finding Nearest Neighbors\n",
      "Thu Feb 22 18:58:21 2024 Building RP forest with 9 trees\n",
      "Thu Feb 22 18:58:21 2024 NN descent for 13 iterations\n",
      "\t 1  /  13\n",
      "\t 2  /  13\n",
      "\t 3  /  13\n",
      "\t 4  /  13\n",
      "\tStopping threshold met -- exiting after 4 iterations\n",
      "Thu Feb 22 18:58:21 2024 Finished Nearest Neighbor Search\n"
     ]
    },
    {
     "name": "stderr",
     "output_type": "stream",
     "text": [
      "/home/jan/anaconda3/envs/seeing_the_elephant_env/lib/python3.11/site-packages/umap/umap_.py:1943: UserWarning: n_jobs value -1 overridden to 1 by setting random_state. Use no seed for parallelism.\n",
      "  warn(f\"n_jobs value {self.n_jobs} overridden to 1 by setting random_state. Use no seed for parallelism.\")\n"
     ]
    },
    {
     "name": "stdout",
     "output_type": "stream",
     "text": [
      "Thu Feb 22 18:58:21 2024 Construct embedding\n"
     ]
    },
    {
     "name": "stderr",
     "output_type": "stream",
     "text": [
      "Epochs completed:   3%| ██▊                                                                                                           13/500 [00:00]"
     ]
    },
    {
     "name": "stdout",
     "output_type": "stream",
     "text": [
      "\tcompleted  0  /  500 epochs\n"
     ]
    },
    {
     "name": "stderr",
     "output_type": "stream",
     "text": [
      "Epochs completed:  14%| ██████████████▊                                                                                               68/500 [00:00]"
     ]
    },
    {
     "name": "stdout",
     "output_type": "stream",
     "text": [
      "\tcompleted  50  /  500 epochs\n"
     ]
    },
    {
     "name": "stderr",
     "output_type": "stream",
     "text": [
      "Epochs completed:  24%| █████████████████████████▋                                                                                   119/500 [00:01]"
     ]
    },
    {
     "name": "stdout",
     "output_type": "stream",
     "text": [
      "\tcompleted  100  /  500 epochs\n"
     ]
    },
    {
     "name": "stderr",
     "output_type": "stream",
     "text": [
      "Epochs completed:  34%| ████████████████████████████████████▌                                                                        169/500 [00:02]"
     ]
    },
    {
     "name": "stdout",
     "output_type": "stream",
     "text": [
      "\tcompleted  150  /  500 epochs\n"
     ]
    },
    {
     "name": "stderr",
     "output_type": "stream",
     "text": [
      "Epochs completed:  44%| ███████████████████████████████████████████████▌                                                             220/500 [00:02]"
     ]
    },
    {
     "name": "stdout",
     "output_type": "stream",
     "text": [
      "\tcompleted  200  /  500 epochs\n"
     ]
    },
    {
     "name": "stderr",
     "output_type": "stream",
     "text": [
      "Epochs completed:  54%| ██████████████████████████████████████████████████████████▎                                                  270/500 [00:03]"
     ]
    },
    {
     "name": "stdout",
     "output_type": "stream",
     "text": [
      "\tcompleted  250  /  500 epochs\n"
     ]
    },
    {
     "name": "stderr",
     "output_type": "stream",
     "text": [
      "Epochs completed:  64%| █████████████████████████████████████████████████████████████████████                                        320/500 [00:03]"
     ]
    },
    {
     "name": "stdout",
     "output_type": "stream",
     "text": [
      "\tcompleted  300  /  500 epochs\n"
     ]
    },
    {
     "name": "stderr",
     "output_type": "stream",
     "text": [
      "Epochs completed:  74%| ███████████████████████████████████████████████████████████████████████████████▉                             370/500 [00:04]"
     ]
    },
    {
     "name": "stdout",
     "output_type": "stream",
     "text": [
      "\tcompleted  350  /  500 epochs\n"
     ]
    },
    {
     "name": "stderr",
     "output_type": "stream",
     "text": [
      "Epochs completed:  84%| ██████████████████████████████████████████████████████████████████████████████████████████▋                  420/500 [00:04]"
     ]
    },
    {
     "name": "stdout",
     "output_type": "stream",
     "text": [
      "\tcompleted  400  /  500 epochs\n"
     ]
    },
    {
     "name": "stderr",
     "output_type": "stream",
     "text": [
      "Epochs completed:  94%| █████████████████████████████████████████████████████████████████████████████████████████████████████▌       470/500 [00:05]"
     ]
    },
    {
     "name": "stdout",
     "output_type": "stream",
     "text": [
      "\tcompleted  450  /  500 epochs\n"
     ]
    },
    {
     "name": "stderr",
     "output_type": "stream",
     "text": [
      "Epochs completed: 100%| ████████████████████████████████████████████████████████████████████████████████████████████████████████████ 500/500 [00:05]\n"
     ]
    },
    {
     "name": "stdout",
     "output_type": "stream",
     "text": [
      "Thu Feb 22 18:58:27 2024 Finished embedding\n",
      "TSNE\n",
      "--------------------------------------------------------------------------------\n",
      "TSNE(early_exaggeration=12, random_state=2, verbose=True)\n",
      "--------------------------------------------------------------------------------\n",
      "===> Finding 90 nearest neighbors using Annoy approximate search using euclidean distance...\n",
      "   --> Time elapsed: 1.47 seconds\n",
      "===> Calculating affinity matrix...\n",
      "   --> Time elapsed: 0.09 seconds\n",
      "===> Calculating PCA-based initialization...\n",
      "   --> Time elapsed: 0.01 seconds\n",
      "===> Running optimization with exaggeration=12.00, lr=517.08 for 250 iterations...\n",
      "Iteration   50, KL divergence 3.3233, 50 iterations in 4.9732 sec\n",
      "Iteration  100, KL divergence 3.2409, 50 iterations in 4.4470 sec\n",
      "Iteration  150, KL divergence 3.2084, 50 iterations in 4.2958 sec\n",
      "Iteration  200, KL divergence 3.1940, 50 iterations in 4.3442 sec\n",
      "Iteration  250, KL divergence 3.1856, 50 iterations in 4.2340 sec\n",
      "   --> Time elapsed: 22.29 seconds\n",
      "===> Running optimization with exaggeration=1.00, lr=6205.00 for 500 iterations...\n",
      "Iteration   50, KL divergence 1.5604, 50 iterations in 4.1553 sec\n",
      "Iteration  100, KL divergence 1.4192, 50 iterations in 4.1517 sec\n",
      "Iteration  150, KL divergence 1.3646, 50 iterations in 4.1636 sec\n",
      "Iteration  200, KL divergence 1.3351, 50 iterations in 4.2523 sec\n",
      "Iteration  250, KL divergence 1.3150, 50 iterations in 4.3097 sec\n",
      "Iteration  300, KL divergence 1.3017, 50 iterations in 4.3017 sec\n",
      "Iteration  350, KL divergence 1.2914, 50 iterations in 4.3380 sec\n",
      "Iteration  400, KL divergence 1.2831, 50 iterations in 4.4092 sec\n",
      "Iteration  450, KL divergence 1.2768, 50 iterations in 4.2807 sec\n",
      "Iteration  500, KL divergence 1.2715, 50 iterations in 4.2219 sec\n",
      "   --> Time elapsed: 42.58 seconds\n",
      "exut seed: 3 scaled: True\n",
      "PCA2\n",
      "PCA50\n",
      "UMAP\n",
      "UMAP(random_state=3, verbose=True)\n",
      "Thu Feb 22 18:59:34 2024 Construct fuzzy simplicial set\n",
      "Thu Feb 22 18:59:34 2024 Finding Nearest Neighbors\n",
      "Thu Feb 22 18:59:34 2024 Building RP forest with 9 trees\n",
      "Thu Feb 22 18:59:34 2024 NN descent for 13 iterations\n",
      "\t 1  /  13\n",
      "\t 2  /  13\n"
     ]
    },
    {
     "name": "stderr",
     "output_type": "stream",
     "text": [
      "/home/jan/anaconda3/envs/seeing_the_elephant_env/lib/python3.11/site-packages/umap/umap_.py:1943: UserWarning: n_jobs value -1 overridden to 1 by setting random_state. Use no seed for parallelism.\n",
      "  warn(f\"n_jobs value {self.n_jobs} overridden to 1 by setting random_state. Use no seed for parallelism.\")\n"
     ]
    },
    {
     "name": "stdout",
     "output_type": "stream",
     "text": [
      "\t 3  /  13\n",
      "\t 4  /  13\n",
      "\tStopping threshold met -- exiting after 4 iterations\n",
      "Thu Feb 22 18:59:35 2024 Finished Nearest Neighbor Search\n",
      "Thu Feb 22 18:59:35 2024 Construct embedding\n"
     ]
    },
    {
     "name": "stderr",
     "output_type": "stream",
     "text": [
      "Epochs completed:   3%| ██▊                                                                                                           13/500 [00:00]"
     ]
    },
    {
     "name": "stdout",
     "output_type": "stream",
     "text": [
      "\tcompleted  0  /  500 epochs\n"
     ]
    },
    {
     "name": "stderr",
     "output_type": "stream",
     "text": [
      "Epochs completed:  13%| █████████████▋                                                                                                63/500 [00:00]"
     ]
    },
    {
     "name": "stdout",
     "output_type": "stream",
     "text": [
      "\tcompleted  50  /  500 epochs\n"
     ]
    },
    {
     "name": "stderr",
     "output_type": "stream",
     "text": [
      "Epochs completed:  23%| ████████████████████████▊                                                                                    115/500 [00:01]"
     ]
    },
    {
     "name": "stdout",
     "output_type": "stream",
     "text": [
      "\tcompleted  100  /  500 epochs\n"
     ]
    },
    {
     "name": "stderr",
     "output_type": "stream",
     "text": [
      "Epochs completed:  33%| ████████████████████████████████████                                                                         167/500 [00:02]"
     ]
    },
    {
     "name": "stdout",
     "output_type": "stream",
     "text": [
      "\tcompleted  150  /  500 epochs\n"
     ]
    },
    {
     "name": "stderr",
     "output_type": "stream",
     "text": [
      "Epochs completed:  43%| ██████████████████████████████████████████████▊                                                              217/500 [00:02]"
     ]
    },
    {
     "name": "stdout",
     "output_type": "stream",
     "text": [
      "\tcompleted  200  /  500 epochs\n"
     ]
    },
    {
     "name": "stderr",
     "output_type": "stream",
     "text": [
      "Epochs completed:  53%| █████████████████████████████████████████████████████████▋                                                   267/500 [00:03]"
     ]
    },
    {
     "name": "stdout",
     "output_type": "stream",
     "text": [
      "\tcompleted  250  /  500 epochs\n"
     ]
    },
    {
     "name": "stderr",
     "output_type": "stream",
     "text": [
      "Epochs completed:  63%| ████████████████████████████████████████████████████████████████████▍                                        317/500 [00:03]"
     ]
    },
    {
     "name": "stdout",
     "output_type": "stream",
     "text": [
      "\tcompleted  300  /  500 epochs\n"
     ]
    },
    {
     "name": "stderr",
     "output_type": "stream",
     "text": [
      "Epochs completed:  73%| ███████████████████████████████████████████████████████████████████████████████▎                             367/500 [00:04]"
     ]
    },
    {
     "name": "stdout",
     "output_type": "stream",
     "text": [
      "\tcompleted  350  /  500 epochs\n"
     ]
    },
    {
     "name": "stderr",
     "output_type": "stream",
     "text": [
      "Epochs completed:  83%| ██████████████████████████████████████████████████████████████████████████████████████████                   417/500 [00:04]"
     ]
    },
    {
     "name": "stdout",
     "output_type": "stream",
     "text": [
      "\tcompleted  400  /  500 epochs\n"
     ]
    },
    {
     "name": "stderr",
     "output_type": "stream",
     "text": [
      "Epochs completed:  93%| ████████████████████████████████████████████████████████████████████████████████████████████████████▊        467/500 [00:05]"
     ]
    },
    {
     "name": "stdout",
     "output_type": "stream",
     "text": [
      "\tcompleted  450  /  500 epochs\n"
     ]
    },
    {
     "name": "stderr",
     "output_type": "stream",
     "text": [
      "Epochs completed: 100%| ████████████████████████████████████████████████████████████████████████████████████████████████████████████ 500/500 [00:05]\n"
     ]
    },
    {
     "name": "stdout",
     "output_type": "stream",
     "text": [
      "Thu Feb 22 18:59:40 2024 Finished embedding\n",
      "TSNE\n",
      "--------------------------------------------------------------------------------\n",
      "TSNE(early_exaggeration=12, random_state=3, verbose=True)\n",
      "--------------------------------------------------------------------------------\n",
      "===> Finding 90 nearest neighbors using Annoy approximate search using euclidean distance...\n",
      "   --> Time elapsed: 1.51 seconds\n",
      "===> Calculating affinity matrix...\n",
      "   --> Time elapsed: 0.09 seconds\n",
      "===> Calculating PCA-based initialization...\n",
      "   --> Time elapsed: 0.01 seconds\n",
      "===> Running optimization with exaggeration=12.00, lr=517.08 for 250 iterations...\n",
      "Iteration   50, KL divergence 3.3294, 50 iterations in 5.0904 sec\n",
      "Iteration  100, KL divergence 3.2529, 50 iterations in 4.4262 sec\n",
      "Iteration  150, KL divergence 3.2213, 50 iterations in 4.2980 sec\n",
      "Iteration  200, KL divergence 3.2071, 50 iterations in 4.4470 sec\n",
      "Iteration  250, KL divergence 3.2002, 50 iterations in 4.4051 sec\n",
      "   --> Time elapsed: 22.67 seconds\n",
      "===> Running optimization with exaggeration=1.00, lr=6205.00 for 500 iterations...\n",
      "Iteration   50, KL divergence 1.5596, 50 iterations in 4.2874 sec\n",
      "Iteration  100, KL divergence 1.4207, 50 iterations in 4.1849 sec\n",
      "Iteration  150, KL divergence 1.3656, 50 iterations in 4.2243 sec\n",
      "Iteration  200, KL divergence 1.3355, 50 iterations in 4.2092 sec\n",
      "Iteration  250, KL divergence 1.3168, 50 iterations in 4.2245 sec\n",
      "Iteration  300, KL divergence 1.3040, 50 iterations in 4.2494 sec\n",
      "Iteration  350, KL divergence 1.2944, 50 iterations in 4.1944 sec\n",
      "Iteration  400, KL divergence 1.2868, 50 iterations in 4.2556 sec\n",
      "Iteration  450, KL divergence 1.2807, 50 iterations in 4.2446 sec\n",
      "Iteration  500, KL divergence 1.2753, 50 iterations in 4.2321 sec\n",
      "   --> Time elapsed: 42.31 seconds\n",
      "exut seed: 4 scaled: True\n",
      "PCA2\n",
      "PCA50\n",
      "UMAP\n",
      "UMAP(random_state=4, verbose=True)\n",
      "Thu Feb 22 19:00:48 2024 Construct fuzzy simplicial set\n",
      "Thu Feb 22 19:00:48 2024 Finding Nearest Neighbors\n",
      "Thu Feb 22 19:00:48 2024 Building RP forest with 9 trees\n",
      "Thu Feb 22 19:00:48 2024 NN descent for 13 iterations\n",
      "\t 1  /  13\n",
      "\t 2  /  13\n"
     ]
    },
    {
     "name": "stderr",
     "output_type": "stream",
     "text": [
      "/home/jan/anaconda3/envs/seeing_the_elephant_env/lib/python3.11/site-packages/umap/umap_.py:1943: UserWarning: n_jobs value -1 overridden to 1 by setting random_state. Use no seed for parallelism.\n",
      "  warn(f\"n_jobs value {self.n_jobs} overridden to 1 by setting random_state. Use no seed for parallelism.\")\n"
     ]
    },
    {
     "name": "stdout",
     "output_type": "stream",
     "text": [
      "\t 3  /  13\n",
      "\t 4  /  13\n",
      "\tStopping threshold met -- exiting after 4 iterations\n",
      "Thu Feb 22 19:00:48 2024 Finished Nearest Neighbor Search\n",
      "Thu Feb 22 19:00:48 2024 Construct embedding\n"
     ]
    },
    {
     "name": "stderr",
     "output_type": "stream",
     "text": [
      "Epochs completed:   3%| ██▊                                                                                                           13/500 [00:00]"
     ]
    },
    {
     "name": "stdout",
     "output_type": "stream",
     "text": [
      "\tcompleted  0  /  500 epochs\n"
     ]
    },
    {
     "name": "stderr",
     "output_type": "stream",
     "text": [
      "Epochs completed:  13%| █████████████▋                                                                                                63/500 [00:00]"
     ]
    },
    {
     "name": "stdout",
     "output_type": "stream",
     "text": [
      "\tcompleted  50  /  500 epochs\n"
     ]
    },
    {
     "name": "stderr",
     "output_type": "stream",
     "text": [
      "Epochs completed:  23%| ████████████████████████▍                                                                                    113/500 [00:01]"
     ]
    },
    {
     "name": "stdout",
     "output_type": "stream",
     "text": [
      "\tcompleted  100  /  500 epochs\n"
     ]
    },
    {
     "name": "stderr",
     "output_type": "stream",
     "text": [
      "Epochs completed:  33%| ███████████████████████████████████▍                                                                         164/500 [00:02]"
     ]
    },
    {
     "name": "stdout",
     "output_type": "stream",
     "text": [
      "\tcompleted  150  /  500 epochs\n"
     ]
    },
    {
     "name": "stderr",
     "output_type": "stream",
     "text": [
      "Epochs completed:  44%| ███████████████████████████████████████████████                                                              218/500 [00:02]"
     ]
    },
    {
     "name": "stdout",
     "output_type": "stream",
     "text": [
      "\tcompleted  200  /  500 epochs\n"
     ]
    },
    {
     "name": "stderr",
     "output_type": "stream",
     "text": [
      "Epochs completed:  52%| ████████████████████████████████████████████████████████▌                                                    262/500 [00:02]"
     ]
    },
    {
     "name": "stdout",
     "output_type": "stream",
     "text": [
      "\tcompleted  250  /  500 epochs\n"
     ]
    },
    {
     "name": "stderr",
     "output_type": "stream",
     "text": [
      "Epochs completed:  63%| ████████████████████████████████████████████████████████████████████                                         315/500 [00:03]"
     ]
    },
    {
     "name": "stdout",
     "output_type": "stream",
     "text": [
      "\tcompleted  300  /  500 epochs\n"
     ]
    },
    {
     "name": "stderr",
     "output_type": "stream",
     "text": [
      "Epochs completed:  74%| ███████████████████████████████████████████████████████████████████████████████▋                             369/500 [00:04]"
     ]
    },
    {
     "name": "stdout",
     "output_type": "stream",
     "text": [
      "\tcompleted  350  /  500 epochs\n"
     ]
    },
    {
     "name": "stderr",
     "output_type": "stream",
     "text": [
      "Epochs completed:  84%| ██████████████████████████████████████████████████████████████████████████████████████████▋                  420/500 [00:04]"
     ]
    },
    {
     "name": "stdout",
     "output_type": "stream",
     "text": [
      "\tcompleted  400  /  500 epochs\n"
     ]
    },
    {
     "name": "stderr",
     "output_type": "stream",
     "text": [
      "Epochs completed:  94%| █████████████████████████████████████████████████████████████████████████████████████████████████████▌       470/500 [00:05]"
     ]
    },
    {
     "name": "stdout",
     "output_type": "stream",
     "text": [
      "\tcompleted  450  /  500 epochs\n"
     ]
    },
    {
     "name": "stderr",
     "output_type": "stream",
     "text": [
      "Epochs completed: 100%| ████████████████████████████████████████████████████████████████████████████████████████████████████████████ 500/500 [00:05]\n"
     ]
    },
    {
     "name": "stdout",
     "output_type": "stream",
     "text": [
      "Thu Feb 22 19:00:54 2024 Finished embedding\n",
      "TSNE\n",
      "--------------------------------------------------------------------------------\n",
      "TSNE(early_exaggeration=12, random_state=4, verbose=True)\n",
      "--------------------------------------------------------------------------------\n",
      "===> Finding 90 nearest neighbors using Annoy approximate search using euclidean distance...\n",
      "   --> Time elapsed: 1.47 seconds\n",
      "===> Calculating affinity matrix...\n",
      "   --> Time elapsed: 0.08 seconds\n",
      "===> Calculating PCA-based initialization...\n",
      "   --> Time elapsed: 0.01 seconds\n",
      "===> Running optimization with exaggeration=12.00, lr=517.08 for 250 iterations...\n",
      "Iteration   50, KL divergence 3.3315, 50 iterations in 4.9411 sec\n",
      "Iteration  100, KL divergence 3.2541, 50 iterations in 4.4021 sec\n",
      "Iteration  150, KL divergence 3.2247, 50 iterations in 4.2753 sec\n",
      "Iteration  200, KL divergence 3.2097, 50 iterations in 4.3070 sec\n",
      "Iteration  250, KL divergence 3.2004, 50 iterations in 4.3567 sec\n",
      "   --> Time elapsed: 22.28 seconds\n",
      "===> Running optimization with exaggeration=1.00, lr=6205.00 for 500 iterations...\n",
      "Iteration   50, KL divergence 1.5652, 50 iterations in 4.2627 sec\n",
      "Iteration  100, KL divergence 1.4266, 50 iterations in 4.1180 sec\n",
      "Iteration  150, KL divergence 1.3726, 50 iterations in 4.1196 sec\n",
      "Iteration  200, KL divergence 1.3430, 50 iterations in 4.1322 sec\n",
      "Iteration  250, KL divergence 1.3244, 50 iterations in 4.2080 sec\n",
      "Iteration  300, KL divergence 1.3116, 50 iterations in 4.1306 sec\n",
      "Iteration  350, KL divergence 1.3023, 50 iterations in 4.1183 sec\n",
      "Iteration  400, KL divergence 1.2940, 50 iterations in 4.1516 sec\n",
      "Iteration  450, KL divergence 1.2880, 50 iterations in 4.2269 sec\n",
      "Iteration  500, KL divergence 1.2829, 50 iterations in 4.1459 sec\n",
      "   --> Time elapsed: 41.61 seconds\n",
      "merfish seed: 0 scaled: False\n",
      "PCA2\n",
      "PCA50\n",
      "UMAP\n",
      "UMAP(random_state=0, verbose=True)\n",
      "Thu Feb 22 19:01:59 2024 Construct fuzzy simplicial set\n",
      "Thu Feb 22 19:01:59 2024 Finding Nearest Neighbors\n",
      "Thu Feb 22 19:01:59 2024 Building RP forest with 9 trees\n",
      "Thu Feb 22 19:01:59 2024 NN descent for 13 iterations\n",
      "\t 1  /  13\n"
     ]
    },
    {
     "name": "stderr",
     "output_type": "stream",
     "text": [
      "/home/jan/anaconda3/envs/seeing_the_elephant_env/lib/python3.11/site-packages/umap/umap_.py:1943: UserWarning: n_jobs value -1 overridden to 1 by setting random_state. Use no seed for parallelism.\n",
      "  warn(f\"n_jobs value {self.n_jobs} overridden to 1 by setting random_state. Use no seed for parallelism.\")\n"
     ]
    },
    {
     "name": "stdout",
     "output_type": "stream",
     "text": [
      "\t 2  /  13\n",
      "\t 3  /  13\n",
      "\tStopping threshold met -- exiting after 3 iterations\n",
      "Thu Feb 22 19:02:00 2024 Finished Nearest Neighbor Search\n",
      "Thu Feb 22 19:02:00 2024 Construct embedding\n"
     ]
    },
    {
     "name": "stderr",
     "output_type": "stream",
     "text": [
      "Epochs completed:   3%| ██▊                                                                                                           13/500 [00:00]"
     ]
    },
    {
     "name": "stdout",
     "output_type": "stream",
     "text": [
      "\tcompleted  0  /  500 epochs\n"
     ]
    },
    {
     "name": "stderr",
     "output_type": "stream",
     "text": [
      "Epochs completed:  13%| █████████████▋                                                                                                63/500 [00:01]"
     ]
    },
    {
     "name": "stdout",
     "output_type": "stream",
     "text": [
      "\tcompleted  50  /  500 epochs\n"
     ]
    },
    {
     "name": "stderr",
     "output_type": "stream",
     "text": [
      "Epochs completed:  23%| ████████████████████████▍                                                                                    113/500 [00:01]"
     ]
    },
    {
     "name": "stdout",
     "output_type": "stream",
     "text": [
      "\tcompleted  100  /  500 epochs\n"
     ]
    },
    {
     "name": "stderr",
     "output_type": "stream",
     "text": [
      "Epochs completed:  33%| ███████████████████████████████████▏                                                                         163/500 [00:02]"
     ]
    },
    {
     "name": "stdout",
     "output_type": "stream",
     "text": [
      "\tcompleted  150  /  500 epochs\n"
     ]
    },
    {
     "name": "stderr",
     "output_type": "stream",
     "text": [
      "Epochs completed:  43%| ██████████████████████████████████████████████                                                               213/500 [00:02]"
     ]
    },
    {
     "name": "stdout",
     "output_type": "stream",
     "text": [
      "\tcompleted  200  /  500 epochs\n"
     ]
    },
    {
     "name": "stderr",
     "output_type": "stream",
     "text": [
      "Epochs completed:  53%| ████████████████████████████████████████████████████████▊                                                    263/500 [00:03]"
     ]
    },
    {
     "name": "stdout",
     "output_type": "stream",
     "text": [
      "\tcompleted  250  /  500 epochs\n"
     ]
    },
    {
     "name": "stderr",
     "output_type": "stream",
     "text": [
      "Epochs completed:  63%| ███████████████████████████████████████████████████████████████████▌                                         313/500 [00:03]"
     ]
    },
    {
     "name": "stdout",
     "output_type": "stream",
     "text": [
      "\tcompleted  300  /  500 epochs\n"
     ]
    },
    {
     "name": "stderr",
     "output_type": "stream",
     "text": [
      "Epochs completed:  73%| ██████████████████████████████████████████████████████████████████████████████▍                              363/500 [00:04]"
     ]
    },
    {
     "name": "stdout",
     "output_type": "stream",
     "text": [
      "\tcompleted  350  /  500 epochs\n"
     ]
    },
    {
     "name": "stderr",
     "output_type": "stream",
     "text": [
      "Epochs completed:  83%| █████████████████████████████████████████████████████████████████████████████████████████▏                   413/500 [00:04]"
     ]
    },
    {
     "name": "stdout",
     "output_type": "stream",
     "text": [
      "\tcompleted  400  /  500 epochs\n"
     ]
    },
    {
     "name": "stderr",
     "output_type": "stream",
     "text": [
      "Epochs completed:  92%| ███████████████████████████████████████████████████████████████████████████████████████████████████▎         460/500 [00:05]"
     ]
    },
    {
     "name": "stdout",
     "output_type": "stream",
     "text": [
      "\tcompleted  450  /  500 epochs\n"
     ]
    },
    {
     "name": "stderr",
     "output_type": "stream",
     "text": [
      "Epochs completed: 100%| ████████████████████████████████████████████████████████████████████████████████████████████████████████████ 500/500 [00:05]\n"
     ]
    },
    {
     "name": "stdout",
     "output_type": "stream",
     "text": [
      "Thu Feb 22 19:02:06 2024 Finished embedding\n",
      "TSNE\n",
      "--------------------------------------------------------------------------------\n",
      "TSNE(early_exaggeration=12, random_state=0, verbose=True)\n",
      "--------------------------------------------------------------------------------\n",
      "===> Finding 90 nearest neighbors using Annoy approximate search using euclidean distance...\n",
      "   --> Time elapsed: 1.66 seconds\n",
      "===> Calculating affinity matrix...\n",
      "   --> Time elapsed: 0.10 seconds\n",
      "===> Calculating PCA-based initialization...\n",
      "   --> Time elapsed: 0.01 seconds\n",
      "===> Running optimization with exaggeration=12.00, lr=580.25 for 250 iterations...\n",
      "Iteration   50, KL divergence 3.3235, 50 iterations in 5.5361 sec\n",
      "Iteration  100, KL divergence 3.1993, 50 iterations in 5.1536 sec\n",
      "Iteration  150, KL divergence 3.1287, 50 iterations in 5.1107 sec\n",
      "Iteration  200, KL divergence 3.0949, 50 iterations in 5.1352 sec\n",
      "Iteration  250, KL divergence 3.0771, 50 iterations in 5.0565 sec\n",
      "   --> Time elapsed: 25.99 seconds\n",
      "===> Running optimization with exaggeration=1.00, lr=6963.00 for 500 iterations...\n",
      "Iteration   50, KL divergence 1.6144, 50 iterations in 4.8334 sec\n",
      "Iteration  100, KL divergence 1.4469, 50 iterations in 4.6859 sec\n",
      "Iteration  150, KL divergence 1.3817, 50 iterations in 4.6770 sec\n",
      "Iteration  200, KL divergence 1.3456, 50 iterations in 4.7148 sec\n",
      "Iteration  250, KL divergence 1.3223, 50 iterations in 4.5760 sec\n",
      "Iteration  300, KL divergence 1.3058, 50 iterations in 4.7125 sec\n",
      "Iteration  350, KL divergence 1.2937, 50 iterations in 4.7489 sec\n",
      "Iteration  400, KL divergence 1.2842, 50 iterations in 4.7309 sec\n",
      "Iteration  450, KL divergence 1.2765, 50 iterations in 4.6648 sec\n",
      "Iteration  500, KL divergence 1.2707, 50 iterations in 4.6626 sec\n",
      "   --> Time elapsed: 47.01 seconds\n",
      "merfish seed: 1 scaled: False\n",
      "PCA2\n",
      "PCA50\n",
      "UMAP\n",
      "UMAP(random_state=1, verbose=True)\n",
      "Thu Feb 22 19:03:21 2024 Construct fuzzy simplicial set\n",
      "Thu Feb 22 19:03:21 2024 Finding Nearest Neighbors\n",
      "Thu Feb 22 19:03:21 2024 Building RP forest with 9 trees\n"
     ]
    },
    {
     "name": "stderr",
     "output_type": "stream",
     "text": [
      "/home/jan/anaconda3/envs/seeing_the_elephant_env/lib/python3.11/site-packages/umap/umap_.py:1943: UserWarning: n_jobs value -1 overridden to 1 by setting random_state. Use no seed for parallelism.\n",
      "  warn(f\"n_jobs value {self.n_jobs} overridden to 1 by setting random_state. Use no seed for parallelism.\")\n"
     ]
    },
    {
     "name": "stdout",
     "output_type": "stream",
     "text": [
      "Thu Feb 22 19:03:21 2024 NN descent for 13 iterations\n",
      "\t 1  /  13\n",
      "\t 2  /  13\n",
      "\t 3  /  13\n",
      "\tStopping threshold met -- exiting after 3 iterations\n",
      "Thu Feb 22 19:03:21 2024 Finished Nearest Neighbor Search\n",
      "Thu Feb 22 19:03:21 2024 Construct embedding\n"
     ]
    },
    {
     "name": "stderr",
     "output_type": "stream",
     "text": [
      "Epochs completed:   2%| ██▍                                                                                                           11/500 [00:00]"
     ]
    },
    {
     "name": "stdout",
     "output_type": "stream",
     "text": [
      "\tcompleted  0  /  500 epochs\n"
     ]
    },
    {
     "name": "stderr",
     "output_type": "stream",
     "text": [
      "Epochs completed:  12%| ████████████▊                                                                                                 59/500 [00:01]"
     ]
    },
    {
     "name": "stdout",
     "output_type": "stream",
     "text": [
      "\tcompleted  50  /  500 epochs\n"
     ]
    },
    {
     "name": "stderr",
     "output_type": "stream",
     "text": [
      "Epochs completed:  23%| ████████████████████████▊                                                                                    115/500 [00:01]"
     ]
    },
    {
     "name": "stdout",
     "output_type": "stream",
     "text": [
      "\tcompleted  100  /  500 epochs\n"
     ]
    },
    {
     "name": "stderr",
     "output_type": "stream",
     "text": [
      "Epochs completed:  33%| ███████████████████████████████████▏                                                                         163/500 [00:02]"
     ]
    },
    {
     "name": "stdout",
     "output_type": "stream",
     "text": [
      "\tcompleted  150  /  500 epochs\n"
     ]
    },
    {
     "name": "stderr",
     "output_type": "stream",
     "text": [
      "Epochs completed:  42%| █████████████████████████████████████████████▌                                                               211/500 [00:03]"
     ]
    },
    {
     "name": "stdout",
     "output_type": "stream",
     "text": [
      "\tcompleted  200  /  500 epochs\n"
     ]
    },
    {
     "name": "stderr",
     "output_type": "stream",
     "text": [
      "Epochs completed:  52%| ███████████████████████████████████████████████████████▉                                                     259/500 [00:03]"
     ]
    },
    {
     "name": "stdout",
     "output_type": "stream",
     "text": [
      "\tcompleted  250  /  500 epochs\n"
     ]
    },
    {
     "name": "stderr",
     "output_type": "stream",
     "text": [
      "Epochs completed:  63%| ████████████████████████████████████████████████████████████████████                                         315/500 [00:04]"
     ]
    },
    {
     "name": "stdout",
     "output_type": "stream",
     "text": [
      "\tcompleted  300  /  500 epochs\n"
     ]
    },
    {
     "name": "stderr",
     "output_type": "stream",
     "text": [
      "Epochs completed:  73%| ██████████████████████████████████████████████████████████████████████████████▍                              363/500 [00:05]"
     ]
    },
    {
     "name": "stdout",
     "output_type": "stream",
     "text": [
      "\tcompleted  350  /  500 epochs\n"
     ]
    },
    {
     "name": "stderr",
     "output_type": "stream",
     "text": [
      "Epochs completed:  82%| ████████████████████████████████████████████████████████████████████████████████████████▊                    411/500 [00:05]"
     ]
    },
    {
     "name": "stdout",
     "output_type": "stream",
     "text": [
      "\tcompleted  400  /  500 epochs\n"
     ]
    },
    {
     "name": "stderr",
     "output_type": "stream",
     "text": [
      "Epochs completed:  92%| ███████████████████████████████████████████████████████████████████████████████████████████████████▏         459/500 [00:06]"
     ]
    },
    {
     "name": "stdout",
     "output_type": "stream",
     "text": [
      "\tcompleted  450  /  500 epochs\n"
     ]
    },
    {
     "name": "stderr",
     "output_type": "stream",
     "text": [
      "Epochs completed: 100%| ████████████████████████████████████████████████████████████████████████████████████████████████████████████ 500/500 [00:07]\n"
     ]
    },
    {
     "name": "stdout",
     "output_type": "stream",
     "text": [
      "Thu Feb 22 19:03:28 2024 Finished embedding\n",
      "TSNE\n",
      "--------------------------------------------------------------------------------\n",
      "TSNE(early_exaggeration=12, random_state=1, verbose=True)\n",
      "--------------------------------------------------------------------------------\n",
      "===> Finding 90 nearest neighbors using Annoy approximate search using euclidean distance...\n",
      "   --> Time elapsed: 1.66 seconds\n",
      "===> Calculating affinity matrix...\n",
      "   --> Time elapsed: 0.10 seconds\n",
      "===> Calculating PCA-based initialization...\n",
      "   --> Time elapsed: 0.01 seconds\n",
      "===> Running optimization with exaggeration=12.00, lr=580.25 for 250 iterations...\n",
      "Iteration   50, KL divergence 3.3270, 50 iterations in 5.4559 sec\n",
      "Iteration  100, KL divergence 3.2008, 50 iterations in 5.0161 sec\n",
      "Iteration  150, KL divergence 3.1301, 50 iterations in 4.9927 sec\n",
      "Iteration  200, KL divergence 3.0967, 50 iterations in 4.9487 sec\n",
      "Iteration  250, KL divergence 3.0779, 50 iterations in 4.9440 sec\n",
      "   --> Time elapsed: 25.36 seconds\n",
      "===> Running optimization with exaggeration=1.00, lr=6963.00 for 500 iterations...\n",
      "Iteration   50, KL divergence 1.6194, 50 iterations in 4.7576 sec\n",
      "Iteration  100, KL divergence 1.4513, 50 iterations in 4.6358 sec\n",
      "Iteration  150, KL divergence 1.3848, 50 iterations in 4.7266 sec\n",
      "Iteration  200, KL divergence 1.3480, 50 iterations in 4.5874 sec\n",
      "Iteration  250, KL divergence 1.3244, 50 iterations in 4.5808 sec\n",
      "Iteration  300, KL divergence 1.3076, 50 iterations in 4.5758 sec\n",
      "Iteration  350, KL divergence 1.2952, 50 iterations in 4.5790 sec\n",
      "Iteration  400, KL divergence 1.2852, 50 iterations in 4.5910 sec\n",
      "Iteration  450, KL divergence 1.2776, 50 iterations in 4.5943 sec\n",
      "Iteration  500, KL divergence 1.2712, 50 iterations in 4.5958 sec\n",
      "   --> Time elapsed: 46.22 seconds\n",
      "merfish seed: 2 scaled: False\n",
      "PCA2\n",
      "PCA50\n",
      "UMAP\n",
      "UMAP(random_state=2, verbose=True)\n",
      "Thu Feb 22 19:04:42 2024 Construct fuzzy simplicial set\n",
      "Thu Feb 22 19:04:42 2024 Finding Nearest Neighbors\n",
      "Thu Feb 22 19:04:42 2024 Building RP forest with 9 trees\n"
     ]
    },
    {
     "name": "stderr",
     "output_type": "stream",
     "text": [
      "/home/jan/anaconda3/envs/seeing_the_elephant_env/lib/python3.11/site-packages/umap/umap_.py:1943: UserWarning: n_jobs value -1 overridden to 1 by setting random_state. Use no seed for parallelism.\n",
      "  warn(f\"n_jobs value {self.n_jobs} overridden to 1 by setting random_state. Use no seed for parallelism.\")\n"
     ]
    },
    {
     "name": "stdout",
     "output_type": "stream",
     "text": [
      "Thu Feb 22 19:04:42 2024 NN descent for 13 iterations\n",
      "\t 1  /  13\n",
      "\t 2  /  13\n",
      "\t 3  /  13\n",
      "\tStopping threshold met -- exiting after 3 iterations\n",
      "Thu Feb 22 19:04:42 2024 Finished Nearest Neighbor Search\n",
      "Thu Feb 22 19:04:42 2024 Construct embedding\n"
     ]
    },
    {
     "name": "stderr",
     "output_type": "stream",
     "text": [
      "Epochs completed:   2%| ██▌                                                                                                           12/500 [00:00]"
     ]
    },
    {
     "name": "stdout",
     "output_type": "stream",
     "text": [
      "\tcompleted  0  /  500 epochs\n"
     ]
    },
    {
     "name": "stderr",
     "output_type": "stream",
     "text": [
      "Epochs completed:  13%| ██████████████▍                                                                                               66/500 [00:01]"
     ]
    },
    {
     "name": "stdout",
     "output_type": "stream",
     "text": [
      "\tcompleted  50  /  500 epochs\n"
     ]
    },
    {
     "name": "stderr",
     "output_type": "stream",
     "text": [
      "Epochs completed:  22%| ███████████████████████▉                                                                                     111/500 [00:01]"
     ]
    },
    {
     "name": "stdout",
     "output_type": "stream",
     "text": [
      "\tcompleted  100  /  500 epochs\n"
     ]
    },
    {
     "name": "stderr",
     "output_type": "stream",
     "text": [
      "Epochs completed:  33%| ███████████████████████████████████▋                                                                         165/500 [00:02]"
     ]
    },
    {
     "name": "stdout",
     "output_type": "stream",
     "text": [
      "\tcompleted  150  /  500 epochs\n"
     ]
    },
    {
     "name": "stderr",
     "output_type": "stream",
     "text": [
      "Epochs completed:  43%| ██████████████████████████████████████████████                                                               213/500 [00:02]"
     ]
    },
    {
     "name": "stdout",
     "output_type": "stream",
     "text": [
      "\tcompleted  200  /  500 epochs\n"
     ]
    },
    {
     "name": "stderr",
     "output_type": "stream",
     "text": [
      "Epochs completed:  53%| ████████████████████████████████████████████████████████▊                                                    263/500 [00:03]"
     ]
    },
    {
     "name": "stdout",
     "output_type": "stream",
     "text": [
      "\tcompleted  250  /  500 epochs\n"
     ]
    },
    {
     "name": "stderr",
     "output_type": "stream",
     "text": [
      "Epochs completed:  63%| ███████████████████████████████████████████████████████████████████▌                                         313/500 [00:03]"
     ]
    },
    {
     "name": "stdout",
     "output_type": "stream",
     "text": [
      "\tcompleted  300  /  500 epochs\n"
     ]
    },
    {
     "name": "stderr",
     "output_type": "stream",
     "text": [
      "Epochs completed:  73%| ██████████████████████████████████████████████████████████████████████████████▍                              363/500 [00:04]"
     ]
    },
    {
     "name": "stdout",
     "output_type": "stream",
     "text": [
      "\tcompleted  350  /  500 epochs\n"
     ]
    },
    {
     "name": "stderr",
     "output_type": "stream",
     "text": [
      "Epochs completed:  83%| █████████████████████████████████████████████████████████████████████████████████████████▏                   413/500 [00:04]"
     ]
    },
    {
     "name": "stdout",
     "output_type": "stream",
     "text": [
      "\tcompleted  400  /  500 epochs\n"
     ]
    },
    {
     "name": "stderr",
     "output_type": "stream",
     "text": [
      "Epochs completed:  92%| ███████████████████████████████████████████████████████████████████████████████████████████████████▎         460/500 [00:05]"
     ]
    },
    {
     "name": "stdout",
     "output_type": "stream",
     "text": [
      "\tcompleted  450  /  500 epochs\n"
     ]
    },
    {
     "name": "stderr",
     "output_type": "stream",
     "text": [
      "Epochs completed: 100%| ████████████████████████████████████████████████████████████████████████████████████████████████████████████ 500/500 [00:05]\n"
     ]
    },
    {
     "name": "stdout",
     "output_type": "stream",
     "text": [
      "Thu Feb 22 19:04:48 2024 Finished embedding\n",
      "TSNE\n",
      "--------------------------------------------------------------------------------\n",
      "TSNE(early_exaggeration=12, random_state=2, verbose=True)\n",
      "--------------------------------------------------------------------------------\n",
      "===> Finding 90 nearest neighbors using Annoy approximate search using euclidean distance...\n",
      "   --> Time elapsed: 1.64 seconds\n",
      "===> Calculating affinity matrix...\n",
      "   --> Time elapsed: 0.09 seconds\n",
      "===> Calculating PCA-based initialization...\n",
      "   --> Time elapsed: 0.01 seconds\n",
      "===> Running optimization with exaggeration=12.00, lr=580.25 for 250 iterations...\n",
      "Iteration   50, KL divergence 3.3301, 50 iterations in 5.4891 sec\n",
      "Iteration  100, KL divergence 3.2016, 50 iterations in 5.0842 sec\n",
      "Iteration  150, KL divergence 3.1286, 50 iterations in 5.0689 sec\n",
      "Iteration  200, KL divergence 3.0947, 50 iterations in 5.0238 sec\n",
      "Iteration  250, KL divergence 3.0751, 50 iterations in 5.0004 sec\n",
      "   --> Time elapsed: 25.67 seconds\n",
      "===> Running optimization with exaggeration=1.00, lr=6963.00 for 500 iterations...\n",
      "Iteration   50, KL divergence 1.6194, 50 iterations in 4.7623 sec\n",
      "Iteration  100, KL divergence 1.4488, 50 iterations in 4.6225 sec\n",
      "Iteration  150, KL divergence 1.3820, 50 iterations in 4.5977 sec\n",
      "Iteration  200, KL divergence 1.3452, 50 iterations in 4.6125 sec\n",
      "Iteration  250, KL divergence 1.3216, 50 iterations in 4.6194 sec\n",
      "Iteration  300, KL divergence 1.3047, 50 iterations in 4.6412 sec\n",
      "Iteration  350, KL divergence 1.2922, 50 iterations in 4.6537 sec\n",
      "Iteration  400, KL divergence 1.2826, 50 iterations in 4.6535 sec\n",
      "Iteration  450, KL divergence 1.2748, 50 iterations in 4.6676 sec\n",
      "Iteration  500, KL divergence 1.2683, 50 iterations in 4.6938 sec\n",
      "   --> Time elapsed: 46.52 seconds\n",
      "merfish seed: 3 scaled: False\n",
      "PCA2\n",
      "PCA50\n",
      "UMAP\n",
      "UMAP(random_state=3, verbose=True)\n",
      "Thu Feb 22 19:06:02 2024 Construct fuzzy simplicial set\n",
      "Thu Feb 22 19:06:02 2024 Finding Nearest Neighbors\n",
      "Thu Feb 22 19:06:02 2024 Building RP forest with 9 trees\n"
     ]
    },
    {
     "name": "stderr",
     "output_type": "stream",
     "text": [
      "/home/jan/anaconda3/envs/seeing_the_elephant_env/lib/python3.11/site-packages/umap/umap_.py:1943: UserWarning: n_jobs value -1 overridden to 1 by setting random_state. Use no seed for parallelism.\n",
      "  warn(f\"n_jobs value {self.n_jobs} overridden to 1 by setting random_state. Use no seed for parallelism.\")\n"
     ]
    },
    {
     "name": "stdout",
     "output_type": "stream",
     "text": [
      "Thu Feb 22 19:06:03 2024 NN descent for 13 iterations\n",
      "\t 1  /  13\n",
      "\t 2  /  13\n",
      "\t 3  /  13\n",
      "\tStopping threshold met -- exiting after 3 iterations\n",
      "Thu Feb 22 19:06:03 2024 Finished Nearest Neighbor Search\n",
      "Thu Feb 22 19:06:03 2024 Construct embedding\n"
     ]
    },
    {
     "name": "stderr",
     "output_type": "stream",
     "text": [
      "Epochs completed:   3%| ██▊                                                                                                           13/500 [00:00]"
     ]
    },
    {
     "name": "stdout",
     "output_type": "stream",
     "text": [
      "\tcompleted  0  /  500 epochs\n"
     ]
    },
    {
     "name": "stderr",
     "output_type": "stream",
     "text": [
      "Epochs completed:  14%| ███████████████                                                                                               69/500 [00:01]"
     ]
    },
    {
     "name": "stdout",
     "output_type": "stream",
     "text": [
      "\tcompleted  50  /  500 epochs\n"
     ]
    },
    {
     "name": "stderr",
     "output_type": "stream",
     "text": [
      "Epochs completed:  24%| █████████████████████████▋                                                                                   119/500 [00:01]"
     ]
    },
    {
     "name": "stdout",
     "output_type": "stream",
     "text": [
      "\tcompleted  100  /  500 epochs\n"
     ]
    },
    {
     "name": "stderr",
     "output_type": "stream",
     "text": [
      "Epochs completed:  34%| ████████████████████████████████████▌                                                                        169/500 [00:02]"
     ]
    },
    {
     "name": "stdout",
     "output_type": "stream",
     "text": [
      "\tcompleted  150  /  500 epochs\n"
     ]
    },
    {
     "name": "stderr",
     "output_type": "stream",
     "text": [
      "Epochs completed:  44%| ███████████████████████████████████████████████▎                                                             219/500 [00:02]"
     ]
    },
    {
     "name": "stdout",
     "output_type": "stream",
     "text": [
      "\tcompleted  200  /  500 epochs\n"
     ]
    },
    {
     "name": "stderr",
     "output_type": "stream",
     "text": [
      "Epochs completed:  54%| ██████████████████████████████████████████████████████████                                                   269/500 [00:03]"
     ]
    },
    {
     "name": "stdout",
     "output_type": "stream",
     "text": [
      "\tcompleted  250  /  500 epochs\n"
     ]
    },
    {
     "name": "stderr",
     "output_type": "stream",
     "text": [
      "Epochs completed:  64%| ████████████████████████████████████████████████████████████████████▉                                        319/500 [00:03]"
     ]
    },
    {
     "name": "stdout",
     "output_type": "stream",
     "text": [
      "\tcompleted  300  /  500 epochs\n"
     ]
    },
    {
     "name": "stderr",
     "output_type": "stream",
     "text": [
      "Epochs completed:  74%| ███████████████████████████████████████████████████████████████████████████████▋                             369/500 [00:04]"
     ]
    },
    {
     "name": "stdout",
     "output_type": "stream",
     "text": [
      "\tcompleted  350  /  500 epochs\n"
     ]
    },
    {
     "name": "stderr",
     "output_type": "stream",
     "text": [
      "Epochs completed:  84%| ██████████████████████████████████████████████████████████████████████████████████████████▌                  419/500 [00:04]"
     ]
    },
    {
     "name": "stdout",
     "output_type": "stream",
     "text": [
      "\tcompleted  400  /  500 epochs\n"
     ]
    },
    {
     "name": "stderr",
     "output_type": "stream",
     "text": [
      "Epochs completed:  94%| █████████████████████████████████████████████████████████████████████████████████████████████████████▎       469/500 [00:05]"
     ]
    },
    {
     "name": "stdout",
     "output_type": "stream",
     "text": [
      "\tcompleted  450  /  500 epochs\n"
     ]
    },
    {
     "name": "stderr",
     "output_type": "stream",
     "text": [
      "Epochs completed: 100%| ████████████████████████████████████████████████████████████████████████████████████████████████████████████ 500/500 [00:05]\n"
     ]
    },
    {
     "name": "stdout",
     "output_type": "stream",
     "text": [
      "Thu Feb 22 19:06:09 2024 Finished embedding\n",
      "TSNE\n",
      "--------------------------------------------------------------------------------\n",
      "TSNE(early_exaggeration=12, random_state=3, verbose=True)\n",
      "--------------------------------------------------------------------------------\n",
      "===> Finding 90 nearest neighbors using Annoy approximate search using euclidean distance...\n",
      "   --> Time elapsed: 1.53 seconds\n",
      "===> Calculating affinity matrix...\n",
      "   --> Time elapsed: 0.09 seconds\n",
      "===> Calculating PCA-based initialization...\n",
      "   --> Time elapsed: 0.01 seconds\n",
      "===> Running optimization with exaggeration=12.00, lr=580.25 for 250 iterations...\n",
      "Iteration   50, KL divergence 3.3277, 50 iterations in 5.3064 sec\n",
      "Iteration  100, KL divergence 3.2010, 50 iterations in 5.0055 sec\n",
      "Iteration  150, KL divergence 3.1315, 50 iterations in 4.9952 sec\n",
      "Iteration  200, KL divergence 3.0979, 50 iterations in 4.9822 sec\n",
      "Iteration  250, KL divergence 3.0773, 50 iterations in 4.8077 sec\n",
      "   --> Time elapsed: 25.10 seconds\n",
      "===> Running optimization with exaggeration=1.00, lr=6963.00 for 500 iterations...\n",
      "Iteration   50, KL divergence 1.6252, 50 iterations in 4.6356 sec\n",
      "Iteration  100, KL divergence 1.4540, 50 iterations in 4.5523 sec\n",
      "Iteration  150, KL divergence 1.3878, 50 iterations in 4.4643 sec\n",
      "Iteration  200, KL divergence 1.3510, 50 iterations in 4.4553 sec\n",
      "Iteration  250, KL divergence 1.3272, 50 iterations in 4.5398 sec\n",
      "Iteration  300, KL divergence 1.3106, 50 iterations in 4.5002 sec\n",
      "Iteration  350, KL divergence 1.2979, 50 iterations in 4.5652 sec\n",
      "Iteration  400, KL divergence 1.2881, 50 iterations in 4.6084 sec\n",
      "Iteration  450, KL divergence 1.2802, 50 iterations in 4.6231 sec\n",
      "Iteration  500, KL divergence 1.2734, 50 iterations in 4.6358 sec\n",
      "   --> Time elapsed: 45.58 seconds\n",
      "merfish seed: 4 scaled: False\n",
      "PCA2\n",
      "PCA50\n",
      "UMAP\n",
      "UMAP(random_state=4, verbose=True)\n",
      "Thu Feb 22 19:07:21 2024 Construct fuzzy simplicial set\n",
      "Thu Feb 22 19:07:21 2024 Finding Nearest Neighbors\n",
      "Thu Feb 22 19:07:21 2024 Building RP forest with 9 trees\n"
     ]
    },
    {
     "name": "stderr",
     "output_type": "stream",
     "text": [
      "/home/jan/anaconda3/envs/seeing_the_elephant_env/lib/python3.11/site-packages/umap/umap_.py:1943: UserWarning: n_jobs value -1 overridden to 1 by setting random_state. Use no seed for parallelism.\n",
      "  warn(f\"n_jobs value {self.n_jobs} overridden to 1 by setting random_state. Use no seed for parallelism.\")\n"
     ]
    },
    {
     "name": "stdout",
     "output_type": "stream",
     "text": [
      "Thu Feb 22 19:07:21 2024 NN descent for 13 iterations\n",
      "\t 1  /  13\n",
      "\t 2  /  13\n",
      "\t 3  /  13\n",
      "\tStopping threshold met -- exiting after 3 iterations\n",
      "Thu Feb 22 19:07:21 2024 Finished Nearest Neighbor Search\n",
      "Thu Feb 22 19:07:21 2024 Construct embedding\n"
     ]
    },
    {
     "name": "stderr",
     "output_type": "stream",
     "text": [
      "Epochs completed:   2%| ██▍                                                                                                           11/500 [00:00]"
     ]
    },
    {
     "name": "stdout",
     "output_type": "stream",
     "text": [
      "\tcompleted  0  /  500 epochs\n"
     ]
    },
    {
     "name": "stderr",
     "output_type": "stream",
     "text": [
      "Epochs completed:  12%| ████████████▊                                                                                                 59/500 [00:01]"
     ]
    },
    {
     "name": "stdout",
     "output_type": "stream",
     "text": [
      "\tcompleted  50  /  500 epochs\n"
     ]
    },
    {
     "name": "stderr",
     "output_type": "stream",
     "text": [
      "Epochs completed:  23%| ████████████████████████▊                                                                                    115/500 [00:01]"
     ]
    },
    {
     "name": "stdout",
     "output_type": "stream",
     "text": [
      "\tcompleted  100  /  500 epochs\n"
     ]
    },
    {
     "name": "stderr",
     "output_type": "stream",
     "text": [
      "Epochs completed:  33%| ███████████████████████████████████▏                                                                         163/500 [00:02]"
     ]
    },
    {
     "name": "stdout",
     "output_type": "stream",
     "text": [
      "\tcompleted  150  /  500 epochs\n"
     ]
    },
    {
     "name": "stderr",
     "output_type": "stream",
     "text": [
      "Epochs completed:  42%| █████████████████████████████████████████████▌                                                               211/500 [00:03]"
     ]
    },
    {
     "name": "stdout",
     "output_type": "stream",
     "text": [
      "\tcompleted  200  /  500 epochs\n"
     ]
    },
    {
     "name": "stderr",
     "output_type": "stream",
     "text": [
      "Epochs completed:  52%| ███████████████████████████████████████████████████████▉                                                     259/500 [00:03]"
     ]
    },
    {
     "name": "stdout",
     "output_type": "stream",
     "text": [
      "\tcompleted  250  /  500 epochs\n"
     ]
    },
    {
     "name": "stderr",
     "output_type": "stream",
     "text": [
      "Epochs completed:  63%| ████████████████████████████████████████████████████████████████████                                         315/500 [00:04]"
     ]
    },
    {
     "name": "stdout",
     "output_type": "stream",
     "text": [
      "\tcompleted  300  /  500 epochs\n"
     ]
    },
    {
     "name": "stderr",
     "output_type": "stream",
     "text": [
      "Epochs completed:  73%| ██████████████████████████████████████████████████████████████████████████████▍                              363/500 [00:05]"
     ]
    },
    {
     "name": "stdout",
     "output_type": "stream",
     "text": [
      "\tcompleted  350  /  500 epochs\n"
     ]
    },
    {
     "name": "stderr",
     "output_type": "stream",
     "text": [
      "Epochs completed:  82%| ████████████████████████████████████████████████████████████████████████████████████████▊                    411/500 [00:05]"
     ]
    },
    {
     "name": "stdout",
     "output_type": "stream",
     "text": [
      "\tcompleted  400  /  500 epochs\n"
     ]
    },
    {
     "name": "stderr",
     "output_type": "stream",
     "text": [
      "Epochs completed:  92%| ███████████████████████████████████████████████████████████████████████████████████████████████████▏         459/500 [00:06]"
     ]
    },
    {
     "name": "stdout",
     "output_type": "stream",
     "text": [
      "\tcompleted  450  /  500 epochs\n"
     ]
    },
    {
     "name": "stderr",
     "output_type": "stream",
     "text": [
      "Epochs completed: 100%| ████████████████████████████████████████████████████████████████████████████████████████████████████████████ 500/500 [00:06]\n"
     ]
    },
    {
     "name": "stdout",
     "output_type": "stream",
     "text": [
      "Thu Feb 22 19:07:28 2024 Finished embedding\n",
      "TSNE\n",
      "--------------------------------------------------------------------------------\n",
      "TSNE(early_exaggeration=12, random_state=4, verbose=True)\n",
      "--------------------------------------------------------------------------------\n",
      "===> Finding 90 nearest neighbors using Annoy approximate search using euclidean distance...\n",
      "   --> Time elapsed: 1.51 seconds\n",
      "===> Calculating affinity matrix...\n",
      "   --> Time elapsed: 0.09 seconds\n",
      "===> Calculating PCA-based initialization...\n",
      "   --> Time elapsed: 0.01 seconds\n",
      "===> Running optimization with exaggeration=12.00, lr=580.25 for 250 iterations...\n",
      "Iteration   50, KL divergence 3.3226, 50 iterations in 5.3517 sec\n",
      "Iteration  100, KL divergence 3.1996, 50 iterations in 4.9374 sec\n",
      "Iteration  150, KL divergence 3.1292, 50 iterations in 4.7892 sec\n",
      "Iteration  200, KL divergence 3.0946, 50 iterations in 4.8145 sec\n",
      "Iteration  250, KL divergence 3.0737, 50 iterations in 4.8480 sec\n",
      "   --> Time elapsed: 24.74 seconds\n",
      "===> Running optimization with exaggeration=1.00, lr=6963.00 for 500 iterations...\n",
      "Iteration   50, KL divergence 1.6198, 50 iterations in 4.5524 sec\n",
      "Iteration  100, KL divergence 1.4477, 50 iterations in 4.4547 sec\n",
      "Iteration  150, KL divergence 1.3804, 50 iterations in 4.4411 sec\n",
      "Iteration  200, KL divergence 1.3427, 50 iterations in 4.4699 sec\n",
      "Iteration  250, KL divergence 1.3188, 50 iterations in 4.5173 sec\n",
      "Iteration  300, KL divergence 1.3020, 50 iterations in 4.5334 sec\n",
      "Iteration  350, KL divergence 1.2894, 50 iterations in 4.5375 sec\n",
      "Iteration  400, KL divergence 1.2797, 50 iterations in 4.5994 sec\n",
      "Iteration  450, KL divergence 1.2719, 50 iterations in 4.6519 sec\n",
      "Iteration  500, KL divergence 1.2656, 50 iterations in 4.6371 sec\n",
      "   --> Time elapsed: 45.40 seconds\n",
      "merfish seed: 0 scaled: True\n",
      "PCA2\n",
      "PCA50\n",
      "UMAP\n",
      "UMAP(random_state=0, verbose=True)\n",
      "Thu Feb 22 19:08:40 2024 Construct fuzzy simplicial set\n",
      "Thu Feb 22 19:08:40 2024 Finding Nearest Neighbors\n",
      "Thu Feb 22 19:08:40 2024 Building RP forest with 9 trees\n"
     ]
    },
    {
     "name": "stderr",
     "output_type": "stream",
     "text": [
      "/home/jan/anaconda3/envs/seeing_the_elephant_env/lib/python3.11/site-packages/umap/umap_.py:1943: UserWarning: n_jobs value -1 overridden to 1 by setting random_state. Use no seed for parallelism.\n",
      "  warn(f\"n_jobs value {self.n_jobs} overridden to 1 by setting random_state. Use no seed for parallelism.\")\n"
     ]
    },
    {
     "name": "stdout",
     "output_type": "stream",
     "text": [
      "Thu Feb 22 19:08:40 2024 NN descent for 13 iterations\n",
      "\t 1  /  13\n",
      "\t 2  /  13\n",
      "\t 3  /  13\n",
      "\t 4  /  13\n",
      "\tStopping threshold met -- exiting after 4 iterations\n",
      "Thu Feb 22 19:08:41 2024 Finished Nearest Neighbor Search\n",
      "Thu Feb 22 19:08:41 2024 Construct embedding\n"
     ]
    },
    {
     "name": "stderr",
     "output_type": "stream",
     "text": [
      "Epochs completed:   3%| ██▊                                                                                                           13/500 [00:00]"
     ]
    },
    {
     "name": "stdout",
     "output_type": "stream",
     "text": [
      "\tcompleted  0  /  500 epochs\n"
     ]
    },
    {
     "name": "stderr",
     "output_type": "stream",
     "text": [
      "Epochs completed:  13%| █████████████▋                                                                                                63/500 [00:00]"
     ]
    },
    {
     "name": "stdout",
     "output_type": "stream",
     "text": [
      "\tcompleted  50  /  500 epochs\n"
     ]
    },
    {
     "name": "stderr",
     "output_type": "stream",
     "text": [
      "Epochs completed:  23%| ████████████████████████▍                                                                                    113/500 [00:01]"
     ]
    },
    {
     "name": "stdout",
     "output_type": "stream",
     "text": [
      "\tcompleted  100  /  500 epochs\n"
     ]
    },
    {
     "name": "stderr",
     "output_type": "stream",
     "text": [
      "Epochs completed:  33%| ███████████████████████████████████▏                                                                         163/500 [00:02]"
     ]
    },
    {
     "name": "stdout",
     "output_type": "stream",
     "text": [
      "\tcompleted  150  /  500 epochs\n"
     ]
    },
    {
     "name": "stderr",
     "output_type": "stream",
     "text": [
      "Epochs completed:  43%| ██████████████████████████████████████████████                                                               213/500 [00:02]"
     ]
    },
    {
     "name": "stdout",
     "output_type": "stream",
     "text": [
      "\tcompleted  200  /  500 epochs\n"
     ]
    },
    {
     "name": "stderr",
     "output_type": "stream",
     "text": [
      "Epochs completed:  53%| ████████████████████████████████████████████████████████▊                                                    263/500 [00:03]"
     ]
    },
    {
     "name": "stdout",
     "output_type": "stream",
     "text": [
      "\tcompleted  250  /  500 epochs\n"
     ]
    },
    {
     "name": "stderr",
     "output_type": "stream",
     "text": [
      "Epochs completed:  63%| ███████████████████████████████████████████████████████████████████▌                                         313/500 [00:03]"
     ]
    },
    {
     "name": "stdout",
     "output_type": "stream",
     "text": [
      "\tcompleted  300  /  500 epochs\n"
     ]
    },
    {
     "name": "stderr",
     "output_type": "stream",
     "text": [
      "Epochs completed:  73%| ██████████████████████████████████████████████████████████████████████████████▍                              363/500 [00:04]"
     ]
    },
    {
     "name": "stdout",
     "output_type": "stream",
     "text": [
      "\tcompleted  350  /  500 epochs\n"
     ]
    },
    {
     "name": "stderr",
     "output_type": "stream",
     "text": [
      "Epochs completed:  83%| █████████████████████████████████████████████████████████████████████████████████████████▏                   413/500 [00:04]"
     ]
    },
    {
     "name": "stdout",
     "output_type": "stream",
     "text": [
      "\tcompleted  400  /  500 epochs\n"
     ]
    },
    {
     "name": "stderr",
     "output_type": "stream",
     "text": [
      "Epochs completed:  93%| ████████████████████████████████████████████████████████████████████████████████████████████████████         463/500 [00:05]"
     ]
    },
    {
     "name": "stdout",
     "output_type": "stream",
     "text": [
      "\tcompleted  450  /  500 epochs\n"
     ]
    },
    {
     "name": "stderr",
     "output_type": "stream",
     "text": [
      "Epochs completed: 100%| ████████████████████████████████████████████████████████████████████████████████████████████████████████████ 500/500 [00:05]\n"
     ]
    },
    {
     "name": "stdout",
     "output_type": "stream",
     "text": [
      "Thu Feb 22 19:08:46 2024 Finished embedding\n",
      "TSNE\n",
      "--------------------------------------------------------------------------------\n",
      "TSNE(early_exaggeration=12, random_state=0, verbose=True)\n",
      "--------------------------------------------------------------------------------\n",
      "===> Finding 90 nearest neighbors using Annoy approximate search using euclidean distance...\n",
      "   --> Time elapsed: 1.54 seconds\n",
      "===> Calculating affinity matrix...\n",
      "   --> Time elapsed: 0.09 seconds\n",
      "===> Calculating PCA-based initialization...\n",
      "   --> Time elapsed: 0.01 seconds\n",
      "===> Running optimization with exaggeration=12.00, lr=580.25 for 250 iterations...\n",
      "Iteration   50, KL divergence 3.4024, 50 iterations in 5.4706 sec\n",
      "Iteration  100, KL divergence 3.2758, 50 iterations in 5.1654 sec\n",
      "Iteration  150, KL divergence 3.2256, 50 iterations in 4.8214 sec\n",
      "Iteration  200, KL divergence 3.2017, 50 iterations in 4.8989 sec\n",
      "Iteration  250, KL divergence 3.1898, 50 iterations in 4.9697 sec\n",
      "   --> Time elapsed: 25.33 seconds\n",
      "===> Running optimization with exaggeration=1.00, lr=6963.00 for 500 iterations...\n",
      "Iteration   50, KL divergence 1.7216, 50 iterations in 4.9136 sec\n",
      "Iteration  100, KL divergence 1.5677, 50 iterations in 4.8364 sec\n",
      "Iteration  150, KL divergence 1.5074, 50 iterations in 4.6321 sec\n",
      "Iteration  200, KL divergence 1.4741, 50 iterations in 4.6835 sec\n",
      "Iteration  250, KL divergence 1.4526, 50 iterations in 4.8665 sec\n",
      "Iteration  300, KL divergence 1.4377, 50 iterations in 4.8549 sec\n",
      "Iteration  350, KL divergence 1.4266, 50 iterations in 4.8473 sec\n",
      "Iteration  400, KL divergence 1.4179, 50 iterations in 4.7905 sec\n",
      "Iteration  450, KL divergence 1.4110, 50 iterations in 4.6861 sec\n",
      "Iteration  500, KL divergence 1.4052, 50 iterations in 4.8143 sec\n",
      "   --> Time elapsed: 47.93 seconds\n",
      "merfish seed: 1 scaled: True\n",
      "PCA2\n",
      "PCA50\n",
      "UMAP\n",
      "UMAP(random_state=1, verbose=True)\n",
      "Thu Feb 22 19:10:02 2024 Construct fuzzy simplicial set\n",
      "Thu Feb 22 19:10:02 2024 Finding Nearest Neighbors\n",
      "Thu Feb 22 19:10:02 2024 Building RP forest with 9 trees\n"
     ]
    },
    {
     "name": "stderr",
     "output_type": "stream",
     "text": [
      "/home/jan/anaconda3/envs/seeing_the_elephant_env/lib/python3.11/site-packages/umap/umap_.py:1943: UserWarning: n_jobs value -1 overridden to 1 by setting random_state. Use no seed for parallelism.\n",
      "  warn(f\"n_jobs value {self.n_jobs} overridden to 1 by setting random_state. Use no seed for parallelism.\")\n"
     ]
    },
    {
     "name": "stdout",
     "output_type": "stream",
     "text": [
      "Thu Feb 22 19:10:02 2024 NN descent for 13 iterations\n",
      "\t 1  /  13\n",
      "\t 2  /  13\n",
      "\t 3  /  13\n",
      "\t 4  /  13\n",
      "\tStopping threshold met -- exiting after 4 iterations\n",
      "Thu Feb 22 19:10:02 2024 Finished Nearest Neighbor Search\n",
      "Thu Feb 22 19:10:02 2024 Construct embedding\n"
     ]
    },
    {
     "name": "stderr",
     "output_type": "stream",
     "text": [
      "Epochs completed:   2%| ██▌                                                                                                           12/500 [00:00]"
     ]
    },
    {
     "name": "stdout",
     "output_type": "stream",
     "text": [
      "\tcompleted  0  /  500 epochs\n"
     ]
    },
    {
     "name": "stderr",
     "output_type": "stream",
     "text": [
      "Epochs completed:  13%| ██████████████▍                                                                                               66/500 [00:01]"
     ]
    },
    {
     "name": "stdout",
     "output_type": "stream",
     "text": [
      "\tcompleted  50  /  500 epochs\n"
     ]
    },
    {
     "name": "stderr",
     "output_type": "stream",
     "text": [
      "Epochs completed:  22%| ███████████████████████▉                                                                                     111/500 [00:01]"
     ]
    },
    {
     "name": "stdout",
     "output_type": "stream",
     "text": [
      "\tcompleted  100  /  500 epochs\n"
     ]
    },
    {
     "name": "stderr",
     "output_type": "stream",
     "text": [
      "Epochs completed:  33%| ███████████████████████████████████▋                                                                         165/500 [00:02]"
     ]
    },
    {
     "name": "stdout",
     "output_type": "stream",
     "text": [
      "\tcompleted  150  /  500 epochs\n"
     ]
    },
    {
     "name": "stderr",
     "output_type": "stream",
     "text": [
      "Epochs completed:  43%| ██████████████████████████████████████████████                                                               213/500 [00:02]"
     ]
    },
    {
     "name": "stdout",
     "output_type": "stream",
     "text": [
      "\tcompleted  200  /  500 epochs\n"
     ]
    },
    {
     "name": "stderr",
     "output_type": "stream",
     "text": [
      "Epochs completed:  53%| ████████████████████████████████████████████████████████▊                                                    263/500 [00:03]"
     ]
    },
    {
     "name": "stdout",
     "output_type": "stream",
     "text": [
      "\tcompleted  250  /  500 epochs\n"
     ]
    },
    {
     "name": "stderr",
     "output_type": "stream",
     "text": [
      "Epochs completed:  62%| ██████████████████████████████████████████████████████████████████▉                                          310/500 [00:03]"
     ]
    },
    {
     "name": "stdout",
     "output_type": "stream",
     "text": [
      "\tcompleted  300  /  500 epochs\n"
     ]
    },
    {
     "name": "stderr",
     "output_type": "stream",
     "text": [
      "Epochs completed:  73%| ██████████████████████████████████████████████████████████████████████████████▌                              364/500 [00:04]"
     ]
    },
    {
     "name": "stdout",
     "output_type": "stream",
     "text": [
      "\tcompleted  350  /  500 epochs\n"
     ]
    },
    {
     "name": "stderr",
     "output_type": "stream",
     "text": [
      "Epochs completed:  82%| ████████████████████████████████████████████████████████████████████████████████████████▉                    412/500 [00:05]"
     ]
    },
    {
     "name": "stdout",
     "output_type": "stream",
     "text": [
      "\tcompleted  400  /  500 epochs\n"
     ]
    },
    {
     "name": "stderr",
     "output_type": "stream",
     "text": [
      "Epochs completed:  93%| ████████████████████████████████████████████████████████████████████████████████████████████████████▋        466/500 [00:05]"
     ]
    },
    {
     "name": "stdout",
     "output_type": "stream",
     "text": [
      "\tcompleted  450  /  500 epochs\n"
     ]
    },
    {
     "name": "stderr",
     "output_type": "stream",
     "text": [
      "Epochs completed: 100%| ████████████████████████████████████████████████████████████████████████████████████████████████████████████ 500/500 [00:06]\n"
     ]
    },
    {
     "name": "stdout",
     "output_type": "stream",
     "text": [
      "Thu Feb 22 19:10:08 2024 Finished embedding\n",
      "TSNE\n",
      "--------------------------------------------------------------------------------\n",
      "TSNE(early_exaggeration=12, random_state=1, verbose=True)\n",
      "--------------------------------------------------------------------------------\n",
      "===> Finding 90 nearest neighbors using Annoy approximate search using euclidean distance...\n",
      "   --> Time elapsed: 1.56 seconds\n",
      "===> Calculating affinity matrix...\n",
      "   --> Time elapsed: 0.09 seconds\n",
      "===> Calculating PCA-based initialization...\n",
      "   --> Time elapsed: 0.01 seconds\n",
      "===> Running optimization with exaggeration=12.00, lr=580.25 for 250 iterations...\n",
      "Iteration   50, KL divergence 3.3901, 50 iterations in 5.4106 sec\n",
      "Iteration  100, KL divergence 3.2695, 50 iterations in 4.9526 sec\n",
      "Iteration  150, KL divergence 3.2217, 50 iterations in 5.0423 sec\n",
      "Iteration  200, KL divergence 3.1963, 50 iterations in 4.9599 sec\n",
      "Iteration  250, KL divergence 3.1827, 50 iterations in 4.8169 sec\n",
      "   --> Time elapsed: 25.18 seconds\n",
      "===> Running optimization with exaggeration=1.00, lr=6963.00 for 500 iterations...\n",
      "Iteration   50, KL divergence 1.7215, 50 iterations in 4.6848 sec\n",
      "Iteration  100, KL divergence 1.5693, 50 iterations in 4.7561 sec\n",
      "Iteration  150, KL divergence 1.5097, 50 iterations in 4.7702 sec\n",
      "Iteration  200, KL divergence 1.4769, 50 iterations in 4.7800 sec\n",
      "Iteration  250, KL divergence 1.4557, 50 iterations in 4.7533 sec\n",
      "Iteration  300, KL divergence 1.4412, 50 iterations in 4.8378 sec\n",
      "Iteration  350, KL divergence 1.4305, 50 iterations in 4.7494 sec\n",
      "Iteration  400, KL divergence 1.4218, 50 iterations in 4.7067 sec\n",
      "Iteration  450, KL divergence 1.4150, 50 iterations in 4.9126 sec\n",
      "Iteration  500, KL divergence 1.4095, 50 iterations in 4.8977 sec\n",
      "   --> Time elapsed: 47.85 seconds\n",
      "merfish seed: 2 scaled: True\n",
      "PCA2\n",
      "PCA50\n",
      "UMAP\n",
      "UMAP(random_state=2, verbose=True)\n",
      "Thu Feb 22 19:11:23 2024 Construct fuzzy simplicial set\n",
      "Thu Feb 22 19:11:23 2024 Finding Nearest Neighbors\n",
      "Thu Feb 22 19:11:23 2024 Building RP forest with 9 trees\n"
     ]
    },
    {
     "name": "stderr",
     "output_type": "stream",
     "text": [
      "/home/jan/anaconda3/envs/seeing_the_elephant_env/lib/python3.11/site-packages/umap/umap_.py:1943: UserWarning: n_jobs value -1 overridden to 1 by setting random_state. Use no seed for parallelism.\n",
      "  warn(f\"n_jobs value {self.n_jobs} overridden to 1 by setting random_state. Use no seed for parallelism.\")\n"
     ]
    },
    {
     "name": "stdout",
     "output_type": "stream",
     "text": [
      "Thu Feb 22 19:11:23 2024 NN descent for 13 iterations\n",
      "\t 1  /  13\n",
      "\t 2  /  13\n",
      "\t 3  /  13\n",
      "\tStopping threshold met -- exiting after 3 iterations\n",
      "Thu Feb 22 19:11:23 2024 Finished Nearest Neighbor Search\n",
      "Thu Feb 22 19:11:23 2024 Construct embedding\n"
     ]
    },
    {
     "name": "stderr",
     "output_type": "stream",
     "text": [
      "Epochs completed:   2%| ██▌                                                                                                           12/500 [00:00]"
     ]
    },
    {
     "name": "stdout",
     "output_type": "stream",
     "text": [
      "\tcompleted  0  /  500 epochs\n"
     ]
    },
    {
     "name": "stderr",
     "output_type": "stream",
     "text": [
      "Epochs completed:  13%| ██████████████▍                                                                                               66/500 [00:01]"
     ]
    },
    {
     "name": "stdout",
     "output_type": "stream",
     "text": [
      "\tcompleted  50  /  500 epochs\n"
     ]
    },
    {
     "name": "stderr",
     "output_type": "stream",
     "text": [
      "Epochs completed:  22%| ███████████████████████▉                                                                                     111/500 [00:01]"
     ]
    },
    {
     "name": "stdout",
     "output_type": "stream",
     "text": [
      "\tcompleted  100  /  500 epochs\n"
     ]
    },
    {
     "name": "stderr",
     "output_type": "stream",
     "text": [
      "Epochs completed:  33%| ███████████████████████████████████▋                                                                         165/500 [00:02]"
     ]
    },
    {
     "name": "stdout",
     "output_type": "stream",
     "text": [
      "\tcompleted  150  /  500 epochs\n"
     ]
    },
    {
     "name": "stderr",
     "output_type": "stream",
     "text": [
      "Epochs completed:  42%| █████████████████████████████████████████████▎                                                               210/500 [00:02]"
     ]
    },
    {
     "name": "stdout",
     "output_type": "stream",
     "text": [
      "\tcompleted  200  /  500 epochs\n"
     ]
    },
    {
     "name": "stderr",
     "output_type": "stream",
     "text": [
      "Epochs completed:  53%| █████████████████████████████████████████████████████████▏                                                   265/500 [00:03]"
     ]
    },
    {
     "name": "stdout",
     "output_type": "stream",
     "text": [
      "\tcompleted  250  /  500 epochs\n"
     ]
    },
    {
     "name": "stderr",
     "output_type": "stream",
     "text": [
      "Epochs completed:  63%| ████████████████████████████████████████████████████████████████████                                         315/500 [00:04]"
     ]
    },
    {
     "name": "stdout",
     "output_type": "stream",
     "text": [
      "\tcompleted  300  /  500 epochs\n"
     ]
    },
    {
     "name": "stderr",
     "output_type": "stream",
     "text": [
      "Epochs completed:  73%| ██████████████████████████████████████████████████████████████████████████████▊                              365/500 [00:04]"
     ]
    },
    {
     "name": "stdout",
     "output_type": "stream",
     "text": [
      "\tcompleted  350  /  500 epochs\n"
     ]
    },
    {
     "name": "stderr",
     "output_type": "stream",
     "text": [
      "Epochs completed:  83%| █████████████████████████████████████████████████████████████████████████████████████████▋                   415/500 [00:05]"
     ]
    },
    {
     "name": "stdout",
     "output_type": "stream",
     "text": [
      "\tcompleted  400  /  500 epochs\n"
     ]
    },
    {
     "name": "stderr",
     "output_type": "stream",
     "text": [
      "Epochs completed:  93%| ████████████████████████████████████████████████████████████████████████████████████████████████████▍        465/500 [00:05]"
     ]
    },
    {
     "name": "stdout",
     "output_type": "stream",
     "text": [
      "\tcompleted  450  /  500 epochs\n"
     ]
    },
    {
     "name": "stderr",
     "output_type": "stream",
     "text": [
      "Epochs completed: 100%| ████████████████████████████████████████████████████████████████████████████████████████████████████████████ 500/500 [00:06]\n"
     ]
    },
    {
     "name": "stdout",
     "output_type": "stream",
     "text": [
      "Thu Feb 22 19:11:30 2024 Finished embedding\n",
      "TSNE\n",
      "--------------------------------------------------------------------------------\n",
      "TSNE(early_exaggeration=12, random_state=2, verbose=True)\n",
      "--------------------------------------------------------------------------------\n",
      "===> Finding 90 nearest neighbors using Annoy approximate search using euclidean distance...\n",
      "   --> Time elapsed: 1.53 seconds\n",
      "===> Calculating affinity matrix...\n",
      "   --> Time elapsed: 0.09 seconds\n",
      "===> Calculating PCA-based initialization...\n",
      "   --> Time elapsed: 0.01 seconds\n",
      "===> Running optimization with exaggeration=12.00, lr=580.25 for 250 iterations...\n",
      "Iteration   50, KL divergence 3.3884, 50 iterations in 5.4073 sec\n",
      "Iteration  100, KL divergence 3.2755, 50 iterations in 4.9678 sec\n",
      "Iteration  150, KL divergence 3.2215, 50 iterations in 4.8811 sec\n",
      "Iteration  200, KL divergence 3.1985, 50 iterations in 4.9902 sec\n",
      "Iteration  250, KL divergence 3.1866, 50 iterations in 4.9524 sec\n",
      "   --> Time elapsed: 25.20 seconds\n",
      "===> Running optimization with exaggeration=1.00, lr=6963.00 for 500 iterations...\n",
      "Iteration   50, KL divergence 1.7218, 50 iterations in 4.8749 sec\n",
      "Iteration  100, KL divergence 1.5698, 50 iterations in 4.6574 sec\n",
      "Iteration  150, KL divergence 1.5098, 50 iterations in 4.6398 sec\n",
      "Iteration  200, KL divergence 1.4768, 50 iterations in 4.6959 sec\n",
      "Iteration  250, KL divergence 1.4557, 50 iterations in 4.7312 sec\n",
      "Iteration  300, KL divergence 1.4411, 50 iterations in 4.8199 sec\n",
      "Iteration  350, KL divergence 1.4299, 50 iterations in 4.8791 sec\n",
      "Iteration  400, KL divergence 1.4211, 50 iterations in 4.8341 sec\n",
      "Iteration  450, KL divergence 1.4139, 50 iterations in 4.8322 sec\n",
      "Iteration  500, KL divergence 1.4078, 50 iterations in 4.8340 sec\n",
      "   --> Time elapsed: 47.80 seconds\n",
      "merfish seed: 3 scaled: True\n",
      "PCA2\n",
      "PCA50\n",
      "UMAP\n",
      "UMAP(random_state=3, verbose=True)\n",
      "Thu Feb 22 19:12:44 2024 Construct fuzzy simplicial set\n",
      "Thu Feb 22 19:12:44 2024 Finding Nearest Neighbors\n",
      "Thu Feb 22 19:12:44 2024 Building RP forest with 9 trees\n"
     ]
    },
    {
     "name": "stderr",
     "output_type": "stream",
     "text": [
      "/home/jan/anaconda3/envs/seeing_the_elephant_env/lib/python3.11/site-packages/umap/umap_.py:1943: UserWarning: n_jobs value -1 overridden to 1 by setting random_state. Use no seed for parallelism.\n",
      "  warn(f\"n_jobs value {self.n_jobs} overridden to 1 by setting random_state. Use no seed for parallelism.\")\n"
     ]
    },
    {
     "name": "stdout",
     "output_type": "stream",
     "text": [
      "Thu Feb 22 19:12:45 2024 NN descent for 13 iterations\n",
      "\t 1  /  13\n",
      "\t 2  /  13\n",
      "\t 3  /  13\n",
      "\tStopping threshold met -- exiting after 3 iterations\n",
      "Thu Feb 22 19:12:45 2024 Finished Nearest Neighbor Search\n",
      "Thu Feb 22 19:12:45 2024 Construct embedding\n"
     ]
    },
    {
     "name": "stderr",
     "output_type": "stream",
     "text": [
      "Epochs completed:   2%| ██▍                                                                                                           11/500 [00:00]"
     ]
    },
    {
     "name": "stdout",
     "output_type": "stream",
     "text": [
      "\tcompleted  0  /  500 epochs\n"
     ]
    },
    {
     "name": "stderr",
     "output_type": "stream",
     "text": [
      "Epochs completed:  12%| ████████████▊                                                                                                 59/500 [00:01]"
     ]
    },
    {
     "name": "stdout",
     "output_type": "stream",
     "text": [
      "\tcompleted  50  /  500 epochs\n"
     ]
    },
    {
     "name": "stderr",
     "output_type": "stream",
     "text": [
      "Epochs completed:  23%| ████████████████████████▊                                                                                    115/500 [00:01]"
     ]
    },
    {
     "name": "stdout",
     "output_type": "stream",
     "text": [
      "\tcompleted  100  /  500 epochs\n"
     ]
    },
    {
     "name": "stderr",
     "output_type": "stream",
     "text": [
      "Epochs completed:  33%| ███████████████████████████████████▏                                                                         163/500 [00:02]"
     ]
    },
    {
     "name": "stdout",
     "output_type": "stream",
     "text": [
      "\tcompleted  150  /  500 epochs\n"
     ]
    },
    {
     "name": "stderr",
     "output_type": "stream",
     "text": [
      "Epochs completed:  42%| █████████████████████████████████████████████▌                                                               211/500 [00:03]"
     ]
    },
    {
     "name": "stdout",
     "output_type": "stream",
     "text": [
      "\tcompleted  200  /  500 epochs\n"
     ]
    },
    {
     "name": "stderr",
     "output_type": "stream",
     "text": [
      "Epochs completed:  52%| ███████████████████████████████████████████████████████▉                                                     259/500 [00:03]"
     ]
    },
    {
     "name": "stdout",
     "output_type": "stream",
     "text": [
      "\tcompleted  250  /  500 epochs\n"
     ]
    },
    {
     "name": "stderr",
     "output_type": "stream",
     "text": [
      "Epochs completed:  63%| ████████████████████████████████████████████████████████████████████                                         315/500 [00:04]"
     ]
    },
    {
     "name": "stdout",
     "output_type": "stream",
     "text": [
      "\tcompleted  300  /  500 epochs\n"
     ]
    },
    {
     "name": "stderr",
     "output_type": "stream",
     "text": [
      "Epochs completed:  73%| ██████████████████████████████████████████████████████████████████████████████▍                              363/500 [00:05]"
     ]
    },
    {
     "name": "stdout",
     "output_type": "stream",
     "text": [
      "\tcompleted  350  /  500 epochs\n"
     ]
    },
    {
     "name": "stderr",
     "output_type": "stream",
     "text": [
      "Epochs completed:  82%| ████████████████████████████████████████████████████████████████████████████████████████▊                    411/500 [00:05]"
     ]
    },
    {
     "name": "stdout",
     "output_type": "stream",
     "text": [
      "\tcompleted  400  /  500 epochs\n"
     ]
    },
    {
     "name": "stderr",
     "output_type": "stream",
     "text": [
      "Epochs completed:  92%| ███████████████████████████████████████████████████████████████████████████████████████████████████▏         459/500 [00:06]"
     ]
    },
    {
     "name": "stdout",
     "output_type": "stream",
     "text": [
      "\tcompleted  450  /  500 epochs\n"
     ]
    },
    {
     "name": "stderr",
     "output_type": "stream",
     "text": [
      "Epochs completed: 100%| ████████████████████████████████████████████████████████████████████████████████████████████████████████████ 500/500 [00:06]\n"
     ]
    },
    {
     "name": "stdout",
     "output_type": "stream",
     "text": [
      "Thu Feb 22 19:12:52 2024 Finished embedding\n",
      "TSNE\n",
      "--------------------------------------------------------------------------------\n",
      "TSNE(early_exaggeration=12, random_state=3, verbose=True)\n",
      "--------------------------------------------------------------------------------\n",
      "===> Finding 90 nearest neighbors using Annoy approximate search using euclidean distance...\n",
      "   --> Time elapsed: 1.56 seconds\n",
      "===> Calculating affinity matrix...\n",
      "   --> Time elapsed: 0.09 seconds\n",
      "===> Calculating PCA-based initialization...\n",
      "   --> Time elapsed: 0.01 seconds\n",
      "===> Running optimization with exaggeration=12.00, lr=580.25 for 250 iterations...\n",
      "Iteration   50, KL divergence 3.3994, 50 iterations in 5.3200 sec\n",
      "Iteration  100, KL divergence 3.2758, 50 iterations in 5.1201 sec\n",
      "Iteration  150, KL divergence 3.2239, 50 iterations in 4.8843 sec\n",
      "Iteration  200, KL divergence 3.2002, 50 iterations in 5.0864 sec\n",
      "Iteration  250, KL divergence 3.1874, 50 iterations in 4.9264 sec\n",
      "   --> Time elapsed: 25.34 seconds\n",
      "===> Running optimization with exaggeration=1.00, lr=6963.00 for 500 iterations...\n",
      "Iteration   50, KL divergence 1.7251, 50 iterations in 4.7756 sec\n",
      "Iteration  100, KL divergence 1.5724, 50 iterations in 4.6920 sec\n",
      "Iteration  150, KL divergence 1.5129, 50 iterations in 4.8016 sec\n",
      "Iteration  200, KL divergence 1.4802, 50 iterations in 4.8264 sec\n",
      "Iteration  250, KL divergence 1.4590, 50 iterations in 4.8734 sec\n",
      "Iteration  300, KL divergence 1.4444, 50 iterations in 4.7872 sec\n",
      "Iteration  350, KL divergence 1.4332, 50 iterations in 4.6645 sec\n",
      "Iteration  400, KL divergence 1.4246, 50 iterations in 4.5949 sec\n",
      "Iteration  450, KL divergence 1.4181, 50 iterations in 4.8083 sec\n",
      "Iteration  500, KL divergence 1.4124, 50 iterations in 4.8060 sec\n",
      "   --> Time elapsed: 47.63 seconds\n",
      "merfish seed: 4 scaled: True\n",
      "PCA2\n",
      "PCA50\n",
      "UMAP\n",
      "UMAP(random_state=4, verbose=True)\n",
      "Thu Feb 22 19:14:07 2024 Construct fuzzy simplicial set\n",
      "Thu Feb 22 19:14:07 2024 Finding Nearest Neighbors\n",
      "Thu Feb 22 19:14:07 2024 Building RP forest with 9 trees\n"
     ]
    },
    {
     "name": "stderr",
     "output_type": "stream",
     "text": [
      "/home/jan/anaconda3/envs/seeing_the_elephant_env/lib/python3.11/site-packages/umap/umap_.py:1943: UserWarning: n_jobs value -1 overridden to 1 by setting random_state. Use no seed for parallelism.\n",
      "  warn(f\"n_jobs value {self.n_jobs} overridden to 1 by setting random_state. Use no seed for parallelism.\")\n"
     ]
    },
    {
     "name": "stdout",
     "output_type": "stream",
     "text": [
      "Thu Feb 22 19:14:07 2024 NN descent for 13 iterations\n",
      "\t 1  /  13\n",
      "\t 2  /  13\n",
      "\t 3  /  13\n",
      "\tStopping threshold met -- exiting after 3 iterations\n",
      "Thu Feb 22 19:14:07 2024 Finished Nearest Neighbor Search\n",
      "Thu Feb 22 19:14:07 2024 Construct embedding\n"
     ]
    },
    {
     "name": "stderr",
     "output_type": "stream",
     "text": [
      "Epochs completed:   2%| ██▌                                                                                                           12/500 [00:00]"
     ]
    },
    {
     "name": "stdout",
     "output_type": "stream",
     "text": [
      "\tcompleted  0  /  500 epochs\n"
     ]
    },
    {
     "name": "stderr",
     "output_type": "stream",
     "text": [
      "Epochs completed:  13%| ██████████████▌                                                                                               67/500 [00:01]"
     ]
    },
    {
     "name": "stdout",
     "output_type": "stream",
     "text": [
      "\tcompleted  50  /  500 epochs\n"
     ]
    },
    {
     "name": "stderr",
     "output_type": "stream",
     "text": [
      "Epochs completed:  23%| █████████████████████████                                                                                    116/500 [00:01]"
     ]
    },
    {
     "name": "stdout",
     "output_type": "stream",
     "text": [
      "\tcompleted  100  /  500 epochs\n"
     ]
    },
    {
     "name": "stderr",
     "output_type": "stream",
     "text": [
      "Epochs completed:  33%| ███████████████████████████████████▊                                                                         166/500 [00:02]"
     ]
    },
    {
     "name": "stdout",
     "output_type": "stream",
     "text": [
      "\tcompleted  150  /  500 epochs\n"
     ]
    },
    {
     "name": "stderr",
     "output_type": "stream",
     "text": [
      "Epochs completed:  43%| ██████████████████████████████████████████████▍                                                              215/500 [00:02]"
     ]
    },
    {
     "name": "stdout",
     "output_type": "stream",
     "text": [
      "\tcompleted  200  /  500 epochs\n"
     ]
    },
    {
     "name": "stderr",
     "output_type": "stream",
     "text": [
      "Epochs completed:  52%| ████████████████████████████████████████████████████████▏                                                    260/500 [00:03]"
     ]
    },
    {
     "name": "stdout",
     "output_type": "stream",
     "text": [
      "\tcompleted  250  /  500 epochs\n"
     ]
    },
    {
     "name": "stderr",
     "output_type": "stream",
     "text": [
      "Epochs completed:  64%| █████████████████████████████████████████████████████████████████████                                        320/500 [00:03]"
     ]
    },
    {
     "name": "stdout",
     "output_type": "stream",
     "text": [
      "\tcompleted  300  /  500 epochs\n"
     ]
    },
    {
     "name": "stderr",
     "output_type": "stream",
     "text": [
      "Epochs completed:  74%| ███████████████████████████████████████████████████████████████████████████████▍                             368/500 [00:04]"
     ]
    },
    {
     "name": "stdout",
     "output_type": "stream",
     "text": [
      "\tcompleted  350  /  500 epochs\n"
     ]
    },
    {
     "name": "stderr",
     "output_type": "stream",
     "text": [
      "Epochs completed:  83%| █████████████████████████████████████████████████████████████████████████████████████████▋                   415/500 [00:05]"
     ]
    },
    {
     "name": "stdout",
     "output_type": "stream",
     "text": [
      "\tcompleted  400  /  500 epochs\n"
     ]
    },
    {
     "name": "stderr",
     "output_type": "stream",
     "text": [
      "Epochs completed:  93%| ████████████████████████████████████████████████████████████████████████████████████████████████████▏        464/500 [00:05]"
     ]
    },
    {
     "name": "stdout",
     "output_type": "stream",
     "text": [
      "\tcompleted  450  /  500 epochs\n"
     ]
    },
    {
     "name": "stderr",
     "output_type": "stream",
     "text": [
      "Epochs completed: 100%| ████████████████████████████████████████████████████████████████████████████████████████████████████████████ 500/500 [00:05]\n"
     ]
    },
    {
     "name": "stdout",
     "output_type": "stream",
     "text": [
      "Thu Feb 22 19:14:13 2024 Finished embedding\n",
      "TSNE\n",
      "--------------------------------------------------------------------------------\n",
      "TSNE(early_exaggeration=12, random_state=4, verbose=True)\n",
      "--------------------------------------------------------------------------------\n",
      "===> Finding 90 nearest neighbors using Annoy approximate search using euclidean distance...\n",
      "   --> Time elapsed: 1.62 seconds\n",
      "===> Calculating affinity matrix...\n",
      "   --> Time elapsed: 0.10 seconds\n",
      "===> Calculating PCA-based initialization...\n",
      "   --> Time elapsed: 0.01 seconds\n",
      "===> Running optimization with exaggeration=12.00, lr=580.25 for 250 iterations...\n",
      "Iteration   50, KL divergence 3.3976, 50 iterations in 5.4391 sec\n",
      "Iteration  100, KL divergence 3.2754, 50 iterations in 4.9859 sec\n",
      "Iteration  150, KL divergence 3.2257, 50 iterations in 4.9759 sec\n",
      "Iteration  200, KL divergence 3.2010, 50 iterations in 5.0046 sec\n",
      "Iteration  250, KL divergence 3.1874, 50 iterations in 5.1170 sec\n",
      "   --> Time elapsed: 25.52 seconds\n",
      "===> Running optimization with exaggeration=1.00, lr=6963.00 for 500 iterations...\n",
      "Iteration   50, KL divergence 1.7220, 50 iterations in 4.8315 sec\n",
      "Iteration  100, KL divergence 1.5688, 50 iterations in 4.6182 sec\n",
      "Iteration  150, KL divergence 1.5096, 50 iterations in 4.6300 sec\n",
      "Iteration  200, KL divergence 1.4773, 50 iterations in 4.6203 sec\n",
      "Iteration  250, KL divergence 1.4566, 50 iterations in 4.6525 sec\n",
      "Iteration  300, KL divergence 1.4417, 50 iterations in 4.7488 sec\n",
      "Iteration  350, KL divergence 1.4311, 50 iterations in 4.7965 sec\n",
      "Iteration  400, KL divergence 1.4228, 50 iterations in 4.8006 sec\n",
      "Iteration  450, KL divergence 1.4159, 50 iterations in 4.7909 sec\n",
      "Iteration  500, KL divergence 1.4100, 50 iterations in 4.7908 sec\n",
      "   --> Time elapsed: 47.28 seconds\n",
      "smartseq seed: 0 scaled: False\n",
      "PCA2\n",
      "PCA50\n",
      "UMAP\n",
      "UMAP(random_state=0, verbose=True)\n",
      "Thu Feb 22 19:15:28 2024 Construct fuzzy simplicial set\n"
     ]
    },
    {
     "name": "stderr",
     "output_type": "stream",
     "text": [
      "/home/jan/anaconda3/envs/seeing_the_elephant_env/lib/python3.11/site-packages/umap/umap_.py:1943: UserWarning: n_jobs value -1 overridden to 1 by setting random_state. Use no seed for parallelism.\n",
      "  warn(f\"n_jobs value {self.n_jobs} overridden to 1 by setting random_state. Use no seed for parallelism.\")\n"
     ]
    },
    {
     "name": "stdout",
     "output_type": "stream",
     "text": [
      "Thu Feb 22 19:15:31 2024 Finding Nearest Neighbors\n",
      "Thu Feb 22 19:15:32 2024 Finished Nearest Neighbor Search\n",
      "Thu Feb 22 19:15:32 2024 Construct embedding\n"
     ]
    },
    {
     "name": "stderr",
     "output_type": "stream",
     "text": [
      "Epochs completed:   4%| ████▊                                                                                                         22/500 [00:00]"
     ]
    },
    {
     "name": "stdout",
     "output_type": "stream",
     "text": [
      "\tcompleted  0  /  500 epochs\n"
     ]
    },
    {
     "name": "stderr",
     "output_type": "stream",
     "text": [
      "Epochs completed:  16%| █████████████████▏                                                                                            79/500 [00:00]"
     ]
    },
    {
     "name": "stdout",
     "output_type": "stream",
     "text": [
      "\tcompleted  50  /  500 epochs\n"
     ]
    },
    {
     "name": "stderr",
     "output_type": "stream",
     "text": [
      "Epochs completed:  27%| █████████████████████████████▍                                                                               136/500 [00:01]"
     ]
    },
    {
     "name": "stdout",
     "output_type": "stream",
     "text": [
      "\tcompleted  100  /  500 epochs\n"
     ]
    },
    {
     "name": "stderr",
     "output_type": "stream",
     "text": [
      "Epochs completed:  35%| █████████████████████████████████████▌                                                                       174/500 [00:01]"
     ]
    },
    {
     "name": "stdout",
     "output_type": "stream",
     "text": [
      "\tcompleted  150  /  500 epochs\n"
     ]
    },
    {
     "name": "stderr",
     "output_type": "stream",
     "text": [
      "Epochs completed:  46%| █████████████████████████████████████████████████▉                                                           231/500 [00:01]"
     ]
    },
    {
     "name": "stdout",
     "output_type": "stream",
     "text": [
      "\tcompleted  200  /  500 epochs\n"
     ]
    },
    {
     "name": "stderr",
     "output_type": "stream",
     "text": [
      "Epochs completed:  58%| ██████████████████████████████████████████████████████████████▏                                              288/500 [00:01]"
     ]
    },
    {
     "name": "stdout",
     "output_type": "stream",
     "text": [
      "\tcompleted  250  /  500 epochs\n"
     ]
    },
    {
     "name": "stderr",
     "output_type": "stream",
     "text": [
      "Epochs completed:  65%| ██████████████████████████████████████████████████████████████████████▍                                      326/500 [00:02]"
     ]
    },
    {
     "name": "stdout",
     "output_type": "stream",
     "text": [
      "\tcompleted  300  /  500 epochs\n"
     ]
    },
    {
     "name": "stderr",
     "output_type": "stream",
     "text": [
      "Epochs completed:  77%| ██████████████████████████████████████████████████████████████████████████████████▋                          383/500 [00:02]"
     ]
    },
    {
     "name": "stdout",
     "output_type": "stream",
     "text": [
      "\tcompleted  350  /  500 epochs\n"
     ]
    },
    {
     "name": "stderr",
     "output_type": "stream",
     "text": [
      "Epochs completed:  84%| ██████████████████████████████████████████████████████████████████████████████████████████▉                  421/500 [00:02]"
     ]
    },
    {
     "name": "stdout",
     "output_type": "stream",
     "text": [
      "\tcompleted  400  /  500 epochs\n"
     ]
    },
    {
     "name": "stderr",
     "output_type": "stream",
     "text": [
      "Epochs completed:  96%| ███████████████████████████████████████████████████████████████████████████████████████████████████████▏     478/500 [00:02]"
     ]
    },
    {
     "name": "stdout",
     "output_type": "stream",
     "text": [
      "\tcompleted  450  /  500 epochs\n"
     ]
    },
    {
     "name": "stderr",
     "output_type": "stream",
     "text": [
      "Epochs completed: 100%| ████████████████████████████████████████████████████████████████████████████████████████████████████████████ 500/500 [00:03]\n"
     ]
    },
    {
     "name": "stdout",
     "output_type": "stream",
     "text": [
      "Thu Feb 22 19:15:35 2024 Finished embedding\n",
      "TSNE\n",
      "--------------------------------------------------------------------------------\n",
      "TSNE(early_exaggeration=12, random_state=0, verbose=True)\n",
      "--------------------------------------------------------------------------------\n",
      "===> Finding 90 nearest neighbors using Annoy approximate search using euclidean distance...\n",
      "   --> Time elapsed: 0.78 seconds\n",
      "===> Calculating affinity matrix...\n",
      "   --> Time elapsed: 0.05 seconds\n",
      "===> Calculating PCA-based initialization...\n",
      "   --> Time elapsed: 0.01 seconds\n",
      "===> Running optimization with exaggeration=12.00, lr=320.83 for 250 iterations...\n",
      "Iteration   50, KL divergence 3.5335, 50 iterations in 2.5306 sec\n",
      "Iteration  100, KL divergence 3.5991, 50 iterations in 2.3157 sec\n",
      "Iteration  150, KL divergence 3.5963, 50 iterations in 2.2443 sec\n",
      "Iteration  200, KL divergence 3.5965, 50 iterations in 2.2907 sec\n",
      "Iteration  250, KL divergence 3.5966, 50 iterations in 2.2917 sec\n",
      "   --> Time elapsed: 11.67 seconds\n",
      "===> Running optimization with exaggeration=1.00, lr=3850.00 for 500 iterations...\n",
      "Iteration   50, KL divergence 1.3799, 50 iterations in 2.2270 sec\n",
      "Iteration  100, KL divergence 1.2559, 50 iterations in 2.4559 sec\n",
      "Iteration  150, KL divergence 1.2070, 50 iterations in 2.7565 sec\n",
      "Iteration  200, KL divergence 1.1812, 50 iterations in 2.7624 sec\n",
      "Iteration  250, KL divergence 1.1651, 50 iterations in 2.7811 sec\n",
      "Iteration  300, KL divergence 1.1551, 50 iterations in 2.7726 sec\n",
      "Iteration  350, KL divergence 1.1469, 50 iterations in 2.3307 sec\n",
      "Iteration  400, KL divergence 1.1410, 50 iterations in 2.3178 sec\n",
      "Iteration  450, KL divergence 1.1365, 50 iterations in 2.3215 sec\n",
      "Iteration  500, KL divergence 1.1323, 50 iterations in 2.3169 sec\n",
      "   --> Time elapsed: 25.04 seconds\n",
      "smartseq seed: 1 scaled: False\n",
      "PCA2\n",
      "PCA50\n",
      "UMAP\n",
      "UMAP(random_state=1, verbose=True)\n",
      "Thu Feb 22 19:16:13 2024 Construct fuzzy simplicial set\n"
     ]
    },
    {
     "name": "stderr",
     "output_type": "stream",
     "text": [
      "/home/jan/anaconda3/envs/seeing_the_elephant_env/lib/python3.11/site-packages/umap/umap_.py:1943: UserWarning: n_jobs value -1 overridden to 1 by setting random_state. Use no seed for parallelism.\n",
      "  warn(f\"n_jobs value {self.n_jobs} overridden to 1 by setting random_state. Use no seed for parallelism.\")\n"
     ]
    },
    {
     "name": "stdout",
     "output_type": "stream",
     "text": [
      "Thu Feb 22 19:16:16 2024 Finding Nearest Neighbors\n",
      "Thu Feb 22 19:16:16 2024 Finished Nearest Neighbor Search\n",
      "Thu Feb 22 19:16:16 2024 Construct embedding\n"
     ]
    },
    {
     "name": "stderr",
     "output_type": "stream",
     "text": [
      "Epochs completed:   4%| ████▊                                                                                                         22/500 [00:00]"
     ]
    },
    {
     "name": "stdout",
     "output_type": "stream",
     "text": [
      "\tcompleted  0  /  500 epochs\n"
     ]
    },
    {
     "name": "stderr",
     "output_type": "stream",
     "text": [
      "Epochs completed:  16%| █████████████████▏                                                                                            79/500 [00:00]"
     ]
    },
    {
     "name": "stdout",
     "output_type": "stream",
     "text": [
      "\tcompleted  50  /  500 epochs\n"
     ]
    },
    {
     "name": "stderr",
     "output_type": "stream",
     "text": [
      "Epochs completed:  27%| █████████████████████████████▍                                                                               136/500 [00:01]"
     ]
    },
    {
     "name": "stdout",
     "output_type": "stream",
     "text": [
      "\tcompleted  100  /  500 epochs\n"
     ]
    },
    {
     "name": "stderr",
     "output_type": "stream",
     "text": [
      "Epochs completed:  35%| █████████████████████████████████████▌                                                                       174/500 [00:01]"
     ]
    },
    {
     "name": "stdout",
     "output_type": "stream",
     "text": [
      "\tcompleted  150  /  500 epochs\n"
     ]
    },
    {
     "name": "stderr",
     "output_type": "stream",
     "text": [
      "Epochs completed:  46%| █████████████████████████████████████████████████▏                                                           228/500 [00:01]"
     ]
    },
    {
     "name": "stdout",
     "output_type": "stream",
     "text": [
      "\tcompleted  200  /  500 epochs\n"
     ]
    },
    {
     "name": "stderr",
     "output_type": "stream",
     "text": [
      "Epochs completed:  56%| ████████████████████████████████████████████████████████████▉                                                282/500 [00:01]"
     ]
    },
    {
     "name": "stdout",
     "output_type": "stream",
     "text": [
      "\tcompleted  250  /  500 epochs\n"
     ]
    },
    {
     "name": "stderr",
     "output_type": "stream",
     "text": [
      "Epochs completed:  67%| ████████████████████████████████████████████████████████████████████████▌                                    336/500 [00:02]"
     ]
    },
    {
     "name": "stdout",
     "output_type": "stream",
     "text": [
      "\tcompleted  300  /  500 epochs\n"
     ]
    },
    {
     "name": "stderr",
     "output_type": "stream",
     "text": [
      "Epochs completed:  74%| ████████████████████████████████████████████████████████████████████████████████▎                            372/500 [00:02]"
     ]
    },
    {
     "name": "stdout",
     "output_type": "stream",
     "text": [
      "\tcompleted  350  /  500 epochs\n"
     ]
    },
    {
     "name": "stderr",
     "output_type": "stream",
     "text": [
      "Epochs completed:  85%| ████████████████████████████████████████████████████████████████████████████████████████████                 426/500 [00:02]"
     ]
    },
    {
     "name": "stdout",
     "output_type": "stream",
     "text": [
      "\tcompleted  400  /  500 epochs\n"
     ]
    },
    {
     "name": "stderr",
     "output_type": "stream",
     "text": [
      "Epochs completed:  96%| ███████████████████████████████████████████████████████████████████████████████████████████████████████▋     480/500 [00:03]"
     ]
    },
    {
     "name": "stdout",
     "output_type": "stream",
     "text": [
      "\tcompleted  450  /  500 epochs\n"
     ]
    },
    {
     "name": "stderr",
     "output_type": "stream",
     "text": [
      "Epochs completed: 100%| ████████████████████████████████████████████████████████████████████████████████████████████████████████████ 500/500 [00:03]\n"
     ]
    },
    {
     "name": "stdout",
     "output_type": "stream",
     "text": [
      "Thu Feb 22 19:16:19 2024 Finished embedding\n",
      "TSNE\n",
      "--------------------------------------------------------------------------------\n",
      "TSNE(early_exaggeration=12, random_state=1, verbose=True)\n",
      "--------------------------------------------------------------------------------\n",
      "===> Finding 90 nearest neighbors using Annoy approximate search using euclidean distance...\n",
      "   --> Time elapsed: 0.79 seconds\n",
      "===> Calculating affinity matrix...\n",
      "   --> Time elapsed: 0.05 seconds\n",
      "===> Calculating PCA-based initialization...\n",
      "   --> Time elapsed: 0.01 seconds\n",
      "===> Running optimization with exaggeration=12.00, lr=320.83 for 250 iterations...\n",
      "Iteration   50, KL divergence 3.5381, 50 iterations in 2.5001 sec\n",
      "Iteration  100, KL divergence 3.6023, 50 iterations in 2.3186 sec\n",
      "Iteration  150, KL divergence 3.5991, 50 iterations in 2.2673 sec\n",
      "Iteration  200, KL divergence 3.5997, 50 iterations in 2.2425 sec\n",
      "Iteration  250, KL divergence 3.5997, 50 iterations in 2.2874 sec\n",
      "   --> Time elapsed: 11.62 seconds\n",
      "===> Running optimization with exaggeration=1.00, lr=3850.00 for 500 iterations...\n",
      "Iteration   50, KL divergence 1.3836, 50 iterations in 2.3258 sec\n",
      "Iteration  100, KL divergence 1.2596, 50 iterations in 2.2419 sec\n",
      "Iteration  150, KL divergence 1.2139, 50 iterations in 2.2738 sec\n",
      "Iteration  200, KL divergence 1.1887, 50 iterations in 2.2778 sec\n",
      "Iteration  250, KL divergence 1.1731, 50 iterations in 2.2654 sec\n",
      "Iteration  300, KL divergence 1.1627, 50 iterations in 2.2056 sec\n",
      "Iteration  350, KL divergence 1.1551, 50 iterations in 2.1386 sec\n",
      "Iteration  400, KL divergence 1.1494, 50 iterations in 2.2015 sec\n",
      "Iteration  450, KL divergence 1.1453, 50 iterations in 2.2398 sec\n",
      "Iteration  500, KL divergence 1.1417, 50 iterations in 2.2274 sec\n",
      "   --> Time elapsed: 22.40 seconds\n",
      "smartseq seed: 2 scaled: False\n",
      "PCA2\n",
      "PCA50\n",
      "UMAP\n",
      "UMAP(random_state=2, verbose=True)\n",
      "Thu Feb 22 19:16:55 2024 Construct fuzzy simplicial set\n"
     ]
    },
    {
     "name": "stderr",
     "output_type": "stream",
     "text": [
      "/home/jan/anaconda3/envs/seeing_the_elephant_env/lib/python3.11/site-packages/umap/umap_.py:1943: UserWarning: n_jobs value -1 overridden to 1 by setting random_state. Use no seed for parallelism.\n",
      "  warn(f\"n_jobs value {self.n_jobs} overridden to 1 by setting random_state. Use no seed for parallelism.\")\n"
     ]
    },
    {
     "name": "stdout",
     "output_type": "stream",
     "text": [
      "Thu Feb 22 19:16:58 2024 Finding Nearest Neighbors\n",
      "Thu Feb 22 19:16:58 2024 Finished Nearest Neighbor Search\n",
      "Thu Feb 22 19:16:58 2024 Construct embedding\n"
     ]
    },
    {
     "name": "stderr",
     "output_type": "stream",
     "text": [
      "Epochs completed:   4%| ████▌                                                                                                         21/500 [00:00]"
     ]
    },
    {
     "name": "stdout",
     "output_type": "stream",
     "text": [
      "\tcompleted  0  /  500 epochs\n"
     ]
    },
    {
     "name": "stderr",
     "output_type": "stream",
     "text": [
      "Epochs completed:  15%| ████████████████▎                                                                                             75/500 [00:00]"
     ]
    },
    {
     "name": "stdout",
     "output_type": "stream",
     "text": [
      "\tcompleted  50  /  500 epochs\n"
     ]
    },
    {
     "name": "stderr",
     "output_type": "stream",
     "text": [
      "Epochs completed:  26%| ███████████████████████████▊                                                                                 129/500 [00:01]"
     ]
    },
    {
     "name": "stdout",
     "output_type": "stream",
     "text": [
      "\tcompleted  100  /  500 epochs\n"
     ]
    },
    {
     "name": "stderr",
     "output_type": "stream",
     "text": [
      "Epochs completed:  36%| ███████████████████████████████████████▎                                                                     182/500 [00:01]"
     ]
    },
    {
     "name": "stdout",
     "output_type": "stream",
     "text": [
      "\tcompleted  150  /  500 epochs\n"
     ]
    },
    {
     "name": "stderr",
     "output_type": "stream",
     "text": [
      "Epochs completed:  47%| ██████████████████████████████████████████████████▉                                                          236/500 [00:01]"
     ]
    },
    {
     "name": "stdout",
     "output_type": "stream",
     "text": [
      "\tcompleted  200  /  500 epochs\n"
     ]
    },
    {
     "name": "stderr",
     "output_type": "stream",
     "text": [
      "Epochs completed:  55%| ███████████████████████████████████████████████████████████▏                                                 274/500 [00:01]"
     ]
    },
    {
     "name": "stdout",
     "output_type": "stream",
     "text": [
      "\tcompleted  250  /  500 epochs\n"
     ]
    },
    {
     "name": "stderr",
     "output_type": "stream",
     "text": [
      "Epochs completed:  66%| ██████████████████████████████████████████████████████████████████████▊                                      328/500 [00:02]"
     ]
    },
    {
     "name": "stdout",
     "output_type": "stream",
     "text": [
      "\tcompleted  300  /  500 epochs\n"
     ]
    },
    {
     "name": "stderr",
     "output_type": "stream",
     "text": [
      "Epochs completed:  76%| ██████████████████████████████████████████████████████████████████████████████████▌                          382/500 [00:02]"
     ]
    },
    {
     "name": "stdout",
     "output_type": "stream",
     "text": [
      "\tcompleted  350  /  500 epochs\n"
     ]
    },
    {
     "name": "stderr",
     "output_type": "stream",
     "text": [
      "Epochs completed:  87%| ██████████████████████████████████████████████████████████████████████████████████████████████▏              436/500 [00:02]"
     ]
    },
    {
     "name": "stdout",
     "output_type": "stream",
     "text": [
      "\tcompleted  400  /  500 epochs\n"
     ]
    },
    {
     "name": "stderr",
     "output_type": "stream",
     "text": [
      "Epochs completed:  94%| █████████████████████████████████████████████████████████████████████████████████████████████████████▉       472/500 [00:03]"
     ]
    },
    {
     "name": "stdout",
     "output_type": "stream",
     "text": [
      "\tcompleted  450  /  500 epochs\n"
     ]
    },
    {
     "name": "stderr",
     "output_type": "stream",
     "text": [
      "Epochs completed: 100%| ████████████████████████████████████████████████████████████████████████████████████████████████████████████ 500/500 [00:03]\n"
     ]
    },
    {
     "name": "stdout",
     "output_type": "stream",
     "text": [
      "Thu Feb 22 19:17:01 2024 Finished embedding\n",
      "TSNE\n",
      "--------------------------------------------------------------------------------\n",
      "TSNE(early_exaggeration=12, random_state=2, verbose=True)\n",
      "--------------------------------------------------------------------------------\n",
      "===> Finding 90 nearest neighbors using Annoy approximate search using euclidean distance...\n",
      "   --> Time elapsed: 0.79 seconds\n",
      "===> Calculating affinity matrix...\n",
      "   --> Time elapsed: 0.05 seconds\n",
      "===> Calculating PCA-based initialization...\n",
      "   --> Time elapsed: 0.01 seconds\n",
      "===> Running optimization with exaggeration=12.00, lr=320.83 for 250 iterations...\n",
      "Iteration   50, KL divergence 3.5386, 50 iterations in 2.6447 sec\n",
      "Iteration  100, KL divergence 3.5997, 50 iterations in 2.4743 sec\n",
      "Iteration  150, KL divergence 3.5961, 50 iterations in 2.3975 sec\n",
      "Iteration  200, KL divergence 3.5961, 50 iterations in 2.3688 sec\n",
      "Iteration  250, KL divergence 3.5960, 50 iterations in 2.2941 sec\n",
      "   --> Time elapsed: 12.18 seconds\n",
      "===> Running optimization with exaggeration=1.00, lr=3850.00 for 500 iterations...\n",
      "Iteration   50, KL divergence 1.3844, 50 iterations in 2.2399 sec\n",
      "Iteration  100, KL divergence 1.2585, 50 iterations in 2.2562 sec\n",
      "Iteration  150, KL divergence 1.2101, 50 iterations in 2.2561 sec\n",
      "Iteration  200, KL divergence 1.1842, 50 iterations in 2.2829 sec\n",
      "Iteration  250, KL divergence 1.1689, 50 iterations in 2.1439 sec\n",
      "Iteration  300, KL divergence 1.1580, 50 iterations in 2.1375 sec\n",
      "Iteration  350, KL divergence 1.1505, 50 iterations in 2.2061 sec\n",
      "Iteration  400, KL divergence 1.1450, 50 iterations in 2.2308 sec\n",
      "Iteration  450, KL divergence 1.1411, 50 iterations in 2.3231 sec\n",
      "Iteration  500, KL divergence 1.1379, 50 iterations in 2.2022 sec\n",
      "   --> Time elapsed: 22.28 seconds\n",
      "smartseq seed: 3 scaled: False\n",
      "PCA2\n",
      "PCA50\n",
      "UMAP\n",
      "UMAP(random_state=3, verbose=True)\n",
      "Thu Feb 22 19:17:37 2024 Construct fuzzy simplicial set\n"
     ]
    },
    {
     "name": "stderr",
     "output_type": "stream",
     "text": [
      "/home/jan/anaconda3/envs/seeing_the_elephant_env/lib/python3.11/site-packages/umap/umap_.py:1943: UserWarning: n_jobs value -1 overridden to 1 by setting random_state. Use no seed for parallelism.\n",
      "  warn(f\"n_jobs value {self.n_jobs} overridden to 1 by setting random_state. Use no seed for parallelism.\")\n"
     ]
    },
    {
     "name": "stdout",
     "output_type": "stream",
     "text": [
      "Thu Feb 22 19:17:40 2024 Finding Nearest Neighbors\n",
      "Thu Feb 22 19:17:40 2024 Finished Nearest Neighbor Search\n",
      "Thu Feb 22 19:17:40 2024 Construct embedding\n"
     ]
    },
    {
     "name": "stderr",
     "output_type": "stream",
     "text": [
      "Epochs completed:   4%| ████▌                                                                                                         21/500 [00:00]"
     ]
    },
    {
     "name": "stdout",
     "output_type": "stream",
     "text": [
      "\tcompleted  0  /  500 epochs\n"
     ]
    },
    {
     "name": "stderr",
     "output_type": "stream",
     "text": [
      "Epochs completed:  15%| ████████████████▎                                                                                             75/500 [00:00]"
     ]
    },
    {
     "name": "stdout",
     "output_type": "stream",
     "text": [
      "\tcompleted  50  /  500 epochs\n"
     ]
    },
    {
     "name": "stderr",
     "output_type": "stream",
     "text": [
      "Epochs completed:  26%| ███████████████████████████▊                                                                                 129/500 [00:01]"
     ]
    },
    {
     "name": "stdout",
     "output_type": "stream",
     "text": [
      "\tcompleted  100  /  500 epochs\n"
     ]
    },
    {
     "name": "stderr",
     "output_type": "stream",
     "text": [
      "Epochs completed:  37%| ███████████████████████████████████████▌                                                                     183/500 [00:01]"
     ]
    },
    {
     "name": "stdout",
     "output_type": "stream",
     "text": [
      "\tcompleted  150  /  500 epochs\n"
     ]
    },
    {
     "name": "stderr",
     "output_type": "stream",
     "text": [
      "Epochs completed:  47%| ██████████████████████████████████████████████████▊                                                          235/500 [00:01]"
     ]
    },
    {
     "name": "stdout",
     "output_type": "stream",
     "text": [
      "\tcompleted  200  /  500 epochs\n"
     ]
    },
    {
     "name": "stderr",
     "output_type": "stream",
     "text": [
      "Epochs completed:  54%| ██████████████████████████████████████████████████████████▌                                                  271/500 [00:02]"
     ]
    },
    {
     "name": "stdout",
     "output_type": "stream",
     "text": [
      "\tcompleted  250  /  500 epochs\n"
     ]
    },
    {
     "name": "stderr",
     "output_type": "stream",
     "text": [
      "Epochs completed:  65%| ██████████████████████████████████████████████████████████████████████▏                                      325/500 [00:02]"
     ]
    },
    {
     "name": "stdout",
     "output_type": "stream",
     "text": [
      "\tcompleted  300  /  500 epochs\n"
     ]
    },
    {
     "name": "stderr",
     "output_type": "stream",
     "text": [
      "Epochs completed:  76%| █████████████████████████████████████████████████████████████████████████████████▊                           379/500 [00:02]"
     ]
    },
    {
     "name": "stdout",
     "output_type": "stream",
     "text": [
      "\tcompleted  350  /  500 epochs\n"
     ]
    },
    {
     "name": "stderr",
     "output_type": "stream",
     "text": [
      "Epochs completed:  87%| █████████████████████████████████████████████████████████████████████████████████████████████▌               433/500 [00:03]"
     ]
    },
    {
     "name": "stdout",
     "output_type": "stream",
     "text": [
      "\tcompleted  400  /  500 epochs\n"
     ]
    },
    {
     "name": "stderr",
     "output_type": "stream",
     "text": [
      "Epochs completed:  94%| █████████████████████████████████████████████████████████████████████████████████████████████████████▎       469/500 [00:03]"
     ]
    },
    {
     "name": "stdout",
     "output_type": "stream",
     "text": [
      "\tcompleted  450  /  500 epochs\n"
     ]
    },
    {
     "name": "stderr",
     "output_type": "stream",
     "text": [
      "Epochs completed: 100%| ████████████████████████████████████████████████████████████████████████████████████████████████████████████ 500/500 [00:03]\n"
     ]
    },
    {
     "name": "stdout",
     "output_type": "stream",
     "text": [
      "Thu Feb 22 19:17:43 2024 Finished embedding\n",
      "TSNE\n",
      "--------------------------------------------------------------------------------\n",
      "TSNE(early_exaggeration=12, random_state=3, verbose=True)\n",
      "--------------------------------------------------------------------------------\n",
      "===> Finding 90 nearest neighbors using Annoy approximate search using euclidean distance...\n",
      "   --> Time elapsed: 0.78 seconds\n",
      "===> Calculating affinity matrix...\n",
      "   --> Time elapsed: 0.05 seconds\n",
      "===> Calculating PCA-based initialization...\n",
      "   --> Time elapsed: 0.01 seconds\n",
      "===> Running optimization with exaggeration=12.00, lr=320.83 for 250 iterations...\n",
      "Iteration   50, KL divergence 3.5380, 50 iterations in 2.6310 sec\n",
      "Iteration  100, KL divergence 3.6006, 50 iterations in 2.4124 sec\n",
      "Iteration  150, KL divergence 3.5991, 50 iterations in 2.3820 sec\n",
      "Iteration  200, KL divergence 3.5995, 50 iterations in 2.3093 sec\n",
      "Iteration  250, KL divergence 3.5996, 50 iterations in 2.2947 sec\n",
      "   --> Time elapsed: 12.03 seconds\n",
      "===> Running optimization with exaggeration=1.00, lr=3850.00 for 500 iterations...\n",
      "Iteration   50, KL divergence 1.3821, 50 iterations in 2.2317 sec\n",
      "Iteration  100, KL divergence 1.2596, 50 iterations in 2.2143 sec\n",
      "Iteration  150, KL divergence 1.2118, 50 iterations in 2.2415 sec\n",
      "Iteration  200, KL divergence 1.1870, 50 iterations in 2.2367 sec\n",
      "Iteration  250, KL divergence 1.1716, 50 iterations in 2.2431 sec\n",
      "Iteration  300, KL divergence 1.1615, 50 iterations in 2.2256 sec\n",
      "Iteration  350, KL divergence 1.1546, 50 iterations in 2.2105 sec\n",
      "Iteration  400, KL divergence 1.1493, 50 iterations in 2.2707 sec\n",
      "Iteration  450, KL divergence 1.1445, 50 iterations in 2.2789 sec\n",
      "Iteration  500, KL divergence 1.1408, 50 iterations in 2.2792 sec\n",
      "   --> Time elapsed: 22.43 seconds\n",
      "smartseq seed: 4 scaled: False\n",
      "PCA2\n",
      "PCA50\n",
      "UMAP\n",
      "UMAP(random_state=4, verbose=True)\n",
      "Thu Feb 22 19:18:19 2024 Construct fuzzy simplicial set\n"
     ]
    },
    {
     "name": "stderr",
     "output_type": "stream",
     "text": [
      "/home/jan/anaconda3/envs/seeing_the_elephant_env/lib/python3.11/site-packages/umap/umap_.py:1943: UserWarning: n_jobs value -1 overridden to 1 by setting random_state. Use no seed for parallelism.\n",
      "  warn(f\"n_jobs value {self.n_jobs} overridden to 1 by setting random_state. Use no seed for parallelism.\")\n"
     ]
    },
    {
     "name": "stdout",
     "output_type": "stream",
     "text": [
      "Thu Feb 22 19:18:22 2024 Finding Nearest Neighbors\n",
      "Thu Feb 22 19:18:22 2024 Finished Nearest Neighbor Search\n",
      "Thu Feb 22 19:18:22 2024 Construct embedding\n"
     ]
    },
    {
     "name": "stderr",
     "output_type": "stream",
     "text": [
      "Epochs completed:   4%| ████▌                                                                                                         21/500 [00:00]"
     ]
    },
    {
     "name": "stdout",
     "output_type": "stream",
     "text": [
      "\tcompleted  0  /  500 epochs\n"
     ]
    },
    {
     "name": "stderr",
     "output_type": "stream",
     "text": [
      "Epochs completed:  15%| ████████████████▎                                                                                             75/500 [00:00]"
     ]
    },
    {
     "name": "stdout",
     "output_type": "stream",
     "text": [
      "\tcompleted  50  /  500 epochs\n"
     ]
    },
    {
     "name": "stderr",
     "output_type": "stream",
     "text": [
      "Epochs completed:  26%| ███████████████████████████▊                                                                                 129/500 [00:01]"
     ]
    },
    {
     "name": "stdout",
     "output_type": "stream",
     "text": [
      "\tcompleted  100  /  500 epochs\n"
     ]
    },
    {
     "name": "stderr",
     "output_type": "stream",
     "text": [
      "Epochs completed:  37%| ███████████████████████████████████████▌                                                                     183/500 [00:01]"
     ]
    },
    {
     "name": "stdout",
     "output_type": "stream",
     "text": [
      "\tcompleted  150  /  500 epochs\n"
     ]
    },
    {
     "name": "stderr",
     "output_type": "stream",
     "text": [
      "Epochs completed:  44%| ███████████████████████████████████████████████▎                                                             219/500 [00:01]"
     ]
    },
    {
     "name": "stdout",
     "output_type": "stream",
     "text": [
      "\tcompleted  200  /  500 epochs\n"
     ]
    },
    {
     "name": "stderr",
     "output_type": "stream",
     "text": [
      "Epochs completed:  55%| ██████████████████████████████████████████████████████████▉                                                  273/500 [00:01]"
     ]
    },
    {
     "name": "stdout",
     "output_type": "stream",
     "text": [
      "\tcompleted  250  /  500 epochs\n"
     ]
    },
    {
     "name": "stderr",
     "output_type": "stream",
     "text": [
      "Epochs completed:  65%| ██████████████████████████████████████████████████████████████████████▋                                      327/500 [00:02]"
     ]
    },
    {
     "name": "stdout",
     "output_type": "stream",
     "text": [
      "\tcompleted  300  /  500 epochs\n"
     ]
    },
    {
     "name": "stderr",
     "output_type": "stream",
     "text": [
      "Epochs completed:  76%| ██████████████████████████████████████████████████████████████████████████████████▎                          381/500 [00:02]"
     ]
    },
    {
     "name": "stdout",
     "output_type": "stream",
     "text": [
      "\tcompleted  350  /  500 epochs\n"
     ]
    },
    {
     "name": "stderr",
     "output_type": "stream",
     "text": [
      "Epochs completed:  87%| █████████████████████████████████████████████████████████████████████████████████████████████▉               435/500 [00:02]"
     ]
    },
    {
     "name": "stdout",
     "output_type": "stream",
     "text": [
      "\tcompleted  400  /  500 epochs\n"
     ]
    },
    {
     "name": "stderr",
     "output_type": "stream",
     "text": [
      "Epochs completed:  94%| █████████████████████████████████████████████████████████████████████████████████████████████████████▋       471/500 [00:03]"
     ]
    },
    {
     "name": "stdout",
     "output_type": "stream",
     "text": [
      "\tcompleted  450  /  500 epochs\n"
     ]
    },
    {
     "name": "stderr",
     "output_type": "stream",
     "text": [
      "Epochs completed: 100%| ████████████████████████████████████████████████████████████████████████████████████████████████████████████ 500/500 [00:03]\n"
     ]
    },
    {
     "name": "stdout",
     "output_type": "stream",
     "text": [
      "Thu Feb 22 19:18:25 2024 Finished embedding\n",
      "TSNE\n",
      "--------------------------------------------------------------------------------\n",
      "TSNE(early_exaggeration=12, random_state=4, verbose=True)\n",
      "--------------------------------------------------------------------------------\n",
      "===> Finding 90 nearest neighbors using Annoy approximate search using euclidean distance...\n",
      "   --> Time elapsed: 0.86 seconds\n",
      "===> Calculating affinity matrix...\n",
      "   --> Time elapsed: 0.06 seconds\n",
      "===> Calculating PCA-based initialization...\n",
      "   --> Time elapsed: 0.01 seconds\n",
      "===> Running optimization with exaggeration=12.00, lr=320.83 for 250 iterations...\n",
      "Iteration   50, KL divergence 3.5387, 50 iterations in 2.6433 sec\n",
      "Iteration  100, KL divergence 3.6015, 50 iterations in 2.4244 sec\n",
      "Iteration  150, KL divergence 3.5980, 50 iterations in 2.3586 sec\n",
      "Iteration  200, KL divergence 3.5983, 50 iterations in 2.3417 sec\n",
      "Iteration  250, KL divergence 3.5984, 50 iterations in 2.2856 sec\n",
      "   --> Time elapsed: 12.05 seconds\n",
      "===> Running optimization with exaggeration=1.00, lr=3850.00 for 500 iterations...\n",
      "Iteration   50, KL divergence 1.3804, 50 iterations in 2.2728 sec\n",
      "Iteration  100, KL divergence 1.2568, 50 iterations in 2.2199 sec\n",
      "Iteration  150, KL divergence 1.2088, 50 iterations in 2.2243 sec\n",
      "Iteration  200, KL divergence 1.1840, 50 iterations in 2.1110 sec\n",
      "Iteration  250, KL divergence 1.1689, 50 iterations in 2.1950 sec\n",
      "Iteration  300, KL divergence 1.1582, 50 iterations in 2.2149 sec\n",
      "Iteration  350, KL divergence 1.1511, 50 iterations in 2.2174 sec\n",
      "Iteration  400, KL divergence 1.1462, 50 iterations in 2.1645 sec\n",
      "Iteration  450, KL divergence 1.1420, 50 iterations in 2.1940 sec\n",
      "Iteration  500, KL divergence 1.1382, 50 iterations in 2.3036 sec\n",
      "   --> Time elapsed: 22.12 seconds\n",
      "smartseq seed: 0 scaled: True\n",
      "PCA2\n",
      "PCA50\n",
      "UMAP\n",
      "UMAP(random_state=0, verbose=True)\n",
      "Thu Feb 22 19:19:01 2024 Construct fuzzy simplicial set\n"
     ]
    },
    {
     "name": "stderr",
     "output_type": "stream",
     "text": [
      "/home/jan/anaconda3/envs/seeing_the_elephant_env/lib/python3.11/site-packages/umap/umap_.py:1943: UserWarning: n_jobs value -1 overridden to 1 by setting random_state. Use no seed for parallelism.\n",
      "  warn(f\"n_jobs value {self.n_jobs} overridden to 1 by setting random_state. Use no seed for parallelism.\")\n"
     ]
    },
    {
     "name": "stdout",
     "output_type": "stream",
     "text": [
      "Thu Feb 22 19:19:04 2024 Finding Nearest Neighbors\n",
      "Thu Feb 22 19:19:04 2024 Finished Nearest Neighbor Search\n",
      "Thu Feb 22 19:19:04 2024 Construct embedding\n"
     ]
    },
    {
     "name": "stderr",
     "output_type": "stream",
     "text": [
      "Epochs completed:   4%| ████▏                                                                                                         19/500 [00:00]"
     ]
    },
    {
     "name": "stdout",
     "output_type": "stream",
     "text": [
      "\tcompleted  0  /  500 epochs\n"
     ]
    },
    {
     "name": "stderr",
     "output_type": "stream",
     "text": [
      "Epochs completed:  15%| ████████████████▌                                                                                             76/500 [00:00]"
     ]
    },
    {
     "name": "stdout",
     "output_type": "stream",
     "text": [
      "\tcompleted  50  /  500 epochs\n"
     ]
    },
    {
     "name": "stderr",
     "output_type": "stream",
     "text": [
      "Epochs completed:  26%| ████████████████████████████▌                                                                                132/500 [00:01]"
     ]
    },
    {
     "name": "stdout",
     "output_type": "stream",
     "text": [
      "\tcompleted  100  /  500 epochs\n"
     ]
    },
    {
     "name": "stderr",
     "output_type": "stream",
     "text": [
      "Epochs completed:  37%| ████████████████████████████████████████▏                                                                    186/500 [00:01]"
     ]
    },
    {
     "name": "stdout",
     "output_type": "stream",
     "text": [
      "\tcompleted  150  /  500 epochs\n"
     ]
    },
    {
     "name": "stderr",
     "output_type": "stream",
     "text": [
      "Epochs completed:  44%| ███████████████████████████████████████████████▉                                                             222/500 [00:01]"
     ]
    },
    {
     "name": "stdout",
     "output_type": "stream",
     "text": [
      "\tcompleted  200  /  500 epochs\n"
     ]
    },
    {
     "name": "stderr",
     "output_type": "stream",
     "text": [
      "Epochs completed:  56%| ████████████████████████████████████████████████████████████                                                 278/500 [00:01]"
     ]
    },
    {
     "name": "stdout",
     "output_type": "stream",
     "text": [
      "\tcompleted  250  /  500 epochs\n"
     ]
    },
    {
     "name": "stderr",
     "output_type": "stream",
     "text": [
      "Epochs completed:  66%| ███████████████████████████████████████████████████████████████████████▋                                     332/500 [00:02]"
     ]
    },
    {
     "name": "stdout",
     "output_type": "stream",
     "text": [
      "\tcompleted  300  /  500 epochs\n"
     ]
    },
    {
     "name": "stderr",
     "output_type": "stream",
     "text": [
      "Epochs completed:  77%| ███████████████████████████████████████████████████████████████████████████████████▍                         386/500 [00:02]"
     ]
    },
    {
     "name": "stdout",
     "output_type": "stream",
     "text": [
      "\tcompleted  350  /  500 epochs\n"
     ]
    },
    {
     "name": "stderr",
     "output_type": "stream",
     "text": [
      "Epochs completed:  84%| ███████████████████████████████████████████████████████████████████████████████████████████▏                 422/500 [00:02]"
     ]
    },
    {
     "name": "stdout",
     "output_type": "stream",
     "text": [
      "\tcompleted  400  /  500 epochs\n"
     ]
    },
    {
     "name": "stderr",
     "output_type": "stream",
     "text": [
      "Epochs completed:  95%| ██████████████████████████████████████████████████████████████████████████████████████████████████████▊      476/500 [00:03]"
     ]
    },
    {
     "name": "stdout",
     "output_type": "stream",
     "text": [
      "\tcompleted  450  /  500 epochs\n"
     ]
    },
    {
     "name": "stderr",
     "output_type": "stream",
     "text": [
      "Epochs completed: 100%| ████████████████████████████████████████████████████████████████████████████████████████████████████████████ 500/500 [00:03]\n"
     ]
    },
    {
     "name": "stdout",
     "output_type": "stream",
     "text": [
      "Thu Feb 22 19:19:07 2024 Finished embedding\n",
      "TSNE\n",
      "--------------------------------------------------------------------------------\n",
      "TSNE(early_exaggeration=12, random_state=0, verbose=True)\n",
      "--------------------------------------------------------------------------------\n",
      "===> Finding 90 nearest neighbors using Annoy approximate search using euclidean distance...\n",
      "   --> Time elapsed: 0.85 seconds\n",
      "===> Calculating affinity matrix...\n",
      "   --> Time elapsed: 0.05 seconds\n",
      "===> Calculating PCA-based initialization...\n",
      "   --> Time elapsed: 0.01 seconds\n",
      "===> Running optimization with exaggeration=12.00, lr=320.83 for 250 iterations...\n",
      "Iteration   50, KL divergence 3.6332, 50 iterations in 2.6916 sec\n",
      "Iteration  100, KL divergence 3.7354, 50 iterations in 2.5213 sec\n",
      "Iteration  150, KL divergence 3.7379, 50 iterations in 2.4700 sec\n",
      "Iteration  200, KL divergence 3.7381, 50 iterations in 2.5207 sec\n",
      "Iteration  250, KL divergence 3.7380, 50 iterations in 2.4343 sec\n",
      "   --> Time elapsed: 12.64 seconds\n",
      "===> Running optimization with exaggeration=1.00, lr=3850.00 for 500 iterations...\n",
      "Iteration   50, KL divergence 1.4691, 50 iterations in 2.1948 sec\n",
      "Iteration  100, KL divergence 1.3449, 50 iterations in 2.1769 sec\n",
      "Iteration  150, KL divergence 1.2980, 50 iterations in 2.1674 sec\n",
      "Iteration  200, KL divergence 1.2739, 50 iterations in 2.2591 sec\n",
      "Iteration  250, KL divergence 1.2604, 50 iterations in 2.3159 sec\n",
      "Iteration  300, KL divergence 1.2515, 50 iterations in 2.3276 sec\n",
      "Iteration  350, KL divergence 1.2452, 50 iterations in 2.3510 sec\n",
      "Iteration  400, KL divergence 1.2398, 50 iterations in 2.3527 sec\n",
      "Iteration  450, KL divergence 1.2355, 50 iterations in 2.3436 sec\n",
      "Iteration  500, KL divergence 1.2319, 50 iterations in 2.3401 sec\n",
      "   --> Time elapsed: 22.83 seconds\n",
      "smartseq seed: 1 scaled: True\n",
      "PCA2\n",
      "PCA50\n",
      "UMAP\n",
      "UMAP(random_state=1, verbose=True)\n",
      "Thu Feb 22 19:19:44 2024 Construct fuzzy simplicial set\n"
     ]
    },
    {
     "name": "stderr",
     "output_type": "stream",
     "text": [
      "/home/jan/anaconda3/envs/seeing_the_elephant_env/lib/python3.11/site-packages/umap/umap_.py:1943: UserWarning: n_jobs value -1 overridden to 1 by setting random_state. Use no seed for parallelism.\n",
      "  warn(f\"n_jobs value {self.n_jobs} overridden to 1 by setting random_state. Use no seed for parallelism.\")\n"
     ]
    },
    {
     "name": "stdout",
     "output_type": "stream",
     "text": [
      "Thu Feb 22 19:19:47 2024 Finding Nearest Neighbors\n",
      "Thu Feb 22 19:19:47 2024 Finished Nearest Neighbor Search\n",
      "Thu Feb 22 19:19:47 2024 Construct embedding\n"
     ]
    },
    {
     "name": "stderr",
     "output_type": "stream",
     "text": [
      "Epochs completed:   4%| ████▎                                                                                                         20/500 [00:00]"
     ]
    },
    {
     "name": "stdout",
     "output_type": "stream",
     "text": [
      "\tcompleted  0  /  500 epochs\n"
     ]
    },
    {
     "name": "stderr",
     "output_type": "stream",
     "text": [
      "Epochs completed:  14%| ███████████████▍                                                                                              71/500 [00:00]"
     ]
    },
    {
     "name": "stdout",
     "output_type": "stream",
     "text": [
      "\tcompleted  50  /  500 epochs\n"
     ]
    },
    {
     "name": "stderr",
     "output_type": "stream",
     "text": [
      "Epochs completed:  24%| ██████████████████████████▎                                                                                  122/500 [00:01]"
     ]
    },
    {
     "name": "stdout",
     "output_type": "stream",
     "text": [
      "\tcompleted  100  /  500 epochs\n"
     ]
    },
    {
     "name": "stderr",
     "output_type": "stream",
     "text": [
      "Epochs completed:  35%| █████████████████████████████████████▎                                                                       173/500 [00:01]"
     ]
    },
    {
     "name": "stdout",
     "output_type": "stream",
     "text": [
      "\tcompleted  150  /  500 epochs\n"
     ]
    },
    {
     "name": "stderr",
     "output_type": "stream",
     "text": [
      "Epochs completed:  45%| ████████████████████████████████████████████████▍                                                            224/500 [00:01]"
     ]
    },
    {
     "name": "stdout",
     "output_type": "stream",
     "text": [
      "\tcompleted  200  /  500 epochs\n"
     ]
    },
    {
     "name": "stderr",
     "output_type": "stream",
     "text": [
      "Epochs completed:  55%| ███████████████████████████████████████████████████████████▍                                                 275/500 [00:02]"
     ]
    },
    {
     "name": "stdout",
     "output_type": "stream",
     "text": [
      "\tcompleted  250  /  500 epochs\n"
     ]
    },
    {
     "name": "stderr",
     "output_type": "stream",
     "text": [
      "Epochs completed:  65%| ██████████████████████████████████████████████████████████████████████▍                                      326/500 [00:02]"
     ]
    },
    {
     "name": "stdout",
     "output_type": "stream",
     "text": [
      "\tcompleted  300  /  500 epochs\n"
     ]
    },
    {
     "name": "stderr",
     "output_type": "stream",
     "text": [
      "Epochs completed:  75%| █████████████████████████████████████████████████████████████████████████████████▍                           377/500 [00:02]"
     ]
    },
    {
     "name": "stdout",
     "output_type": "stream",
     "text": [
      "\tcompleted  350  /  500 epochs\n"
     ]
    },
    {
     "name": "stderr",
     "output_type": "stream",
     "text": [
      "Epochs completed:  86%| ████████████████████████████████████████████████████████████████████████████████████████████▍                428/500 [00:02]"
     ]
    },
    {
     "name": "stdout",
     "output_type": "stream",
     "text": [
      "\tcompleted  400  /  500 epochs\n"
     ]
    },
    {
     "name": "stderr",
     "output_type": "stream",
     "text": [
      "Epochs completed:  96%| ███████████████████████████████████████████████████████████████████████████████████████████████████████▍     479/500 [00:03]"
     ]
    },
    {
     "name": "stdout",
     "output_type": "stream",
     "text": [
      "\tcompleted  450  /  500 epochs\n"
     ]
    },
    {
     "name": "stderr",
     "output_type": "stream",
     "text": [
      "Epochs completed: 100%| ████████████████████████████████████████████████████████████████████████████████████████████████████████████ 500/500 [00:03]\n"
     ]
    },
    {
     "name": "stdout",
     "output_type": "stream",
     "text": [
      "Thu Feb 22 19:19:50 2024 Finished embedding\n",
      "TSNE\n",
      "--------------------------------------------------------------------------------\n",
      "TSNE(early_exaggeration=12, random_state=1, verbose=True)\n",
      "--------------------------------------------------------------------------------\n",
      "===> Finding 90 nearest neighbors using Annoy approximate search using euclidean distance...\n",
      "   --> Time elapsed: 0.80 seconds\n",
      "===> Calculating affinity matrix...\n",
      "   --> Time elapsed: 0.05 seconds\n",
      "===> Calculating PCA-based initialization...\n",
      "   --> Time elapsed: 0.01 seconds\n",
      "===> Running optimization with exaggeration=12.00, lr=320.83 for 250 iterations...\n",
      "Iteration   50, KL divergence 3.6328, 50 iterations in 2.6091 sec\n",
      "Iteration  100, KL divergence 3.7332, 50 iterations in 2.4505 sec\n",
      "Iteration  150, KL divergence 3.7358, 50 iterations in 2.4467 sec\n",
      "Iteration  200, KL divergence 3.7360, 50 iterations in 2.4544 sec\n",
      "Iteration  250, KL divergence 3.7359, 50 iterations in 2.5268 sec\n",
      "   --> Time elapsed: 12.49 seconds\n",
      "===> Running optimization with exaggeration=1.00, lr=3850.00 for 500 iterations...\n",
      "Iteration   50, KL divergence 1.4659, 50 iterations in 2.3837 sec\n",
      "Iteration  100, KL divergence 1.3397, 50 iterations in 2.3260 sec\n",
      "Iteration  150, KL divergence 1.2922, 50 iterations in 2.2400 sec\n",
      "Iteration  200, KL divergence 1.2687, 50 iterations in 2.3750 sec\n",
      "Iteration  250, KL divergence 1.2549, 50 iterations in 2.3420 sec\n",
      "Iteration  300, KL divergence 1.2455, 50 iterations in 2.3317 sec\n",
      "Iteration  350, KL divergence 1.2389, 50 iterations in 2.3256 sec\n",
      "Iteration  400, KL divergence 1.2337, 50 iterations in 2.3373 sec\n",
      "Iteration  450, KL divergence 1.2292, 50 iterations in 2.3269 sec\n",
      "Iteration  500, KL divergence 1.2259, 50 iterations in 2.2873 sec\n",
      "   --> Time elapsed: 23.28 seconds\n",
      "smartseq seed: 2 scaled: True\n",
      "PCA2\n",
      "PCA50\n",
      "UMAP\n",
      "UMAP(random_state=2, verbose=True)\n",
      "Thu Feb 22 19:20:27 2024 Construct fuzzy simplicial set\n"
     ]
    },
    {
     "name": "stderr",
     "output_type": "stream",
     "text": [
      "/home/jan/anaconda3/envs/seeing_the_elephant_env/lib/python3.11/site-packages/umap/umap_.py:1943: UserWarning: n_jobs value -1 overridden to 1 by setting random_state. Use no seed for parallelism.\n",
      "  warn(f\"n_jobs value {self.n_jobs} overridden to 1 by setting random_state. Use no seed for parallelism.\")\n"
     ]
    },
    {
     "name": "stdout",
     "output_type": "stream",
     "text": [
      "Thu Feb 22 19:20:30 2024 Finding Nearest Neighbors\n",
      "Thu Feb 22 19:20:30 2024 Finished Nearest Neighbor Search\n",
      "Thu Feb 22 19:20:30 2024 Construct embedding\n"
     ]
    },
    {
     "name": "stderr",
     "output_type": "stream",
     "text": [
      "Epochs completed:   4%| ████▏                                                                                                         19/500 [00:00]"
     ]
    },
    {
     "name": "stdout",
     "output_type": "stream",
     "text": [
      "\tcompleted  0  /  500 epochs\n"
     ]
    },
    {
     "name": "stderr",
     "output_type": "stream",
     "text": [
      "Epochs completed:  13%| ██████████████▌                                                                                               67/500 [00:00]"
     ]
    },
    {
     "name": "stdout",
     "output_type": "stream",
     "text": [
      "\tcompleted  50  /  500 epochs\n"
     ]
    },
    {
     "name": "stderr",
     "output_type": "stream",
     "text": [
      "Epochs completed:  26%| ████████████████████████████                                                                                 130/500 [00:01]"
     ]
    },
    {
     "name": "stdout",
     "output_type": "stream",
     "text": [
      "\tcompleted  100  /  500 epochs\n"
     ]
    },
    {
     "name": "stderr",
     "output_type": "stream",
     "text": [
      "Epochs completed:  36%| ██████████████████████████████████████▍                                                                      178/500 [00:01]"
     ]
    },
    {
     "name": "stdout",
     "output_type": "stream",
     "text": [
      "\tcompleted  150  /  500 epochs\n"
     ]
    },
    {
     "name": "stderr",
     "output_type": "stream",
     "text": [
      "Epochs completed:  45%| ████████████████████████████████████████████████▊                                                            226/500 [00:01]"
     ]
    },
    {
     "name": "stdout",
     "output_type": "stream",
     "text": [
      "\tcompleted  200  /  500 epochs\n"
     ]
    },
    {
     "name": "stderr",
     "output_type": "stream",
     "text": [
      "Epochs completed:  55%| ██████████████████████████████████████████████████████████▉                                                  273/500 [00:02]"
     ]
    },
    {
     "name": "stdout",
     "output_type": "stream",
     "text": [
      "\tcompleted  250  /  500 epochs\n"
     ]
    },
    {
     "name": "stderr",
     "output_type": "stream",
     "text": [
      "Epochs completed:  64%| █████████████████████████████████████████████████████████████████████▎                                       321/500 [00:02]"
     ]
    },
    {
     "name": "stdout",
     "output_type": "stream",
     "text": [
      "\tcompleted  300  /  500 epochs\n"
     ]
    },
    {
     "name": "stderr",
     "output_type": "stream",
     "text": [
      "Epochs completed:  73%| ███████████████████████████████████████████████████████████████████████████████▎                             367/500 [00:02]"
     ]
    },
    {
     "name": "stdout",
     "output_type": "stream",
     "text": [
      "\tcompleted  350  /  500 epochs\n"
     ]
    },
    {
     "name": "stderr",
     "output_type": "stream",
     "text": [
      "Epochs completed:  85%| ████████████████████████████████████████████████████████████████████████████████████████████▏                427/500 [00:03]"
     ]
    },
    {
     "name": "stdout",
     "output_type": "stream",
     "text": [
      "\tcompleted  400  /  500 epochs\n"
     ]
    },
    {
     "name": "stderr",
     "output_type": "stream",
     "text": [
      "Epochs completed:  94%| █████████████████████████████████████████████████████████████████████████████████████████████████████▉       472/500 [00:03]"
     ]
    },
    {
     "name": "stdout",
     "output_type": "stream",
     "text": [
      "\tcompleted  450  /  500 epochs\n"
     ]
    },
    {
     "name": "stderr",
     "output_type": "stream",
     "text": [
      "Epochs completed: 100%| ████████████████████████████████████████████████████████████████████████████████████████████████████████████ 500/500 [00:03]\n"
     ]
    },
    {
     "name": "stdout",
     "output_type": "stream",
     "text": [
      "Thu Feb 22 19:20:34 2024 Finished embedding\n",
      "TSNE\n",
      "--------------------------------------------------------------------------------\n",
      "TSNE(early_exaggeration=12, random_state=2, verbose=True)\n",
      "--------------------------------------------------------------------------------\n",
      "===> Finding 90 nearest neighbors using Annoy approximate search using euclidean distance...\n",
      "   --> Time elapsed: 0.85 seconds\n",
      "===> Calculating affinity matrix...\n",
      "   --> Time elapsed: 0.05 seconds\n",
      "===> Calculating PCA-based initialization...\n",
      "   --> Time elapsed: 0.01 seconds\n",
      "===> Running optimization with exaggeration=12.00, lr=320.83 for 250 iterations...\n",
      "Iteration   50, KL divergence 3.6360, 50 iterations in 2.6772 sec\n",
      "Iteration  100, KL divergence 3.7374, 50 iterations in 2.4916 sec\n",
      "Iteration  150, KL divergence 3.7404, 50 iterations in 2.3977 sec\n",
      "Iteration  200, KL divergence 3.7407, 50 iterations in 2.3232 sec\n",
      "Iteration  250, KL divergence 3.7406, 50 iterations in 2.4074 sec\n",
      "   --> Time elapsed: 12.30 seconds\n",
      "===> Running optimization with exaggeration=1.00, lr=3850.00 for 500 iterations...\n",
      "Iteration   50, KL divergence 1.4717, 50 iterations in 2.2652 sec\n",
      "Iteration  100, KL divergence 1.3456, 50 iterations in 2.2383 sec\n",
      "Iteration  150, KL divergence 1.2982, 50 iterations in 2.2262 sec\n",
      "Iteration  200, KL divergence 1.2744, 50 iterations in 2.2557 sec\n",
      "Iteration  250, KL divergence 1.2604, 50 iterations in 2.3352 sec\n",
      "Iteration  300, KL divergence 1.2506, 50 iterations in 2.3328 sec\n",
      "Iteration  350, KL divergence 1.2437, 50 iterations in 2.2685 sec\n",
      "Iteration  400, KL divergence 1.2385, 50 iterations in 2.2623 sec\n",
      "Iteration  450, KL divergence 1.2342, 50 iterations in 2.3062 sec\n",
      "Iteration  500, KL divergence 1.2309, 50 iterations in 2.3875 sec\n",
      "   --> Time elapsed: 22.88 seconds\n",
      "smartseq seed: 3 scaled: True\n",
      "PCA2\n",
      "PCA50\n",
      "UMAP\n",
      "UMAP(random_state=3, verbose=True)\n",
      "Thu Feb 22 19:21:11 2024 Construct fuzzy simplicial set\n"
     ]
    },
    {
     "name": "stderr",
     "output_type": "stream",
     "text": [
      "/home/jan/anaconda3/envs/seeing_the_elephant_env/lib/python3.11/site-packages/umap/umap_.py:1943: UserWarning: n_jobs value -1 overridden to 1 by setting random_state. Use no seed for parallelism.\n",
      "  warn(f\"n_jobs value {self.n_jobs} overridden to 1 by setting random_state. Use no seed for parallelism.\")\n"
     ]
    },
    {
     "name": "stdout",
     "output_type": "stream",
     "text": [
      "Thu Feb 22 19:21:14 2024 Finding Nearest Neighbors\n",
      "Thu Feb 22 19:21:14 2024 Finished Nearest Neighbor Search\n",
      "Thu Feb 22 19:21:14 2024 Construct embedding\n"
     ]
    },
    {
     "name": "stderr",
     "output_type": "stream",
     "text": [
      "Epochs completed:   4%| ████▎                                                                                                         20/500 [00:00]"
     ]
    },
    {
     "name": "stdout",
     "output_type": "stream",
     "text": [
      "\tcompleted  0  /  500 epochs\n"
     ]
    },
    {
     "name": "stderr",
     "output_type": "stream",
     "text": [
      "Epochs completed:  14%| ███████████████▍                                                                                              71/500 [00:00]"
     ]
    },
    {
     "name": "stdout",
     "output_type": "stream",
     "text": [
      "\tcompleted  50  /  500 epochs\n"
     ]
    },
    {
     "name": "stderr",
     "output_type": "stream",
     "text": [
      "Epochs completed:  24%| ██████████████████████████▎                                                                                  122/500 [00:01]"
     ]
    },
    {
     "name": "stdout",
     "output_type": "stream",
     "text": [
      "\tcompleted  100  /  500 epochs\n"
     ]
    },
    {
     "name": "stderr",
     "output_type": "stream",
     "text": [
      "Epochs completed:  35%| █████████████████████████████████████▌                                                                       174/500 [00:01]"
     ]
    },
    {
     "name": "stdout",
     "output_type": "stream",
     "text": [
      "\tcompleted  150  /  500 epochs\n"
     ]
    },
    {
     "name": "stderr",
     "output_type": "stream",
     "text": [
      "Epochs completed:  45%| ████████████████████████████████████████████████▊                                                            226/500 [00:01]"
     ]
    },
    {
     "name": "stdout",
     "output_type": "stream",
     "text": [
      "\tcompleted  200  /  500 epochs\n"
     ]
    },
    {
     "name": "stderr",
     "output_type": "stream",
     "text": [
      "Epochs completed:  55%| ███████████████████████████████████████████████████████████▊                                                 277/500 [00:01]"
     ]
    },
    {
     "name": "stdout",
     "output_type": "stream",
     "text": [
      "\tcompleted  250  /  500 epochs\n"
     ]
    },
    {
     "name": "stderr",
     "output_type": "stream",
     "text": [
      "Epochs completed:  66%| ██████████████████████████████████████████████████████████████████████▊                                      328/500 [00:02]"
     ]
    },
    {
     "name": "stdout",
     "output_type": "stream",
     "text": [
      "\tcompleted  300  /  500 epochs\n"
     ]
    },
    {
     "name": "stderr",
     "output_type": "stream",
     "text": [
      "Epochs completed:  76%| ██████████████████████████████████████████████████████████████████████████████████▎                          381/500 [00:02]"
     ]
    },
    {
     "name": "stdout",
     "output_type": "stream",
     "text": [
      "\tcompleted  350  /  500 epochs\n"
     ]
    },
    {
     "name": "stderr",
     "output_type": "stream",
     "text": [
      "Epochs completed:  87%| ██████████████████████████████████████████████████████████████████████████████████████████████▏              436/500 [00:02]"
     ]
    },
    {
     "name": "stdout",
     "output_type": "stream",
     "text": [
      "\tcompleted  400  /  500 epochs\n"
     ]
    },
    {
     "name": "stderr",
     "output_type": "stream",
     "text": [
      "Epochs completed:  95%| ██████████████████████████████████████████████████████████████████████████████████████████████████████▏      473/500 [00:03]"
     ]
    },
    {
     "name": "stdout",
     "output_type": "stream",
     "text": [
      "\tcompleted  450  /  500 epochs\n"
     ]
    },
    {
     "name": "stderr",
     "output_type": "stream",
     "text": [
      "Epochs completed: 100%| ████████████████████████████████████████████████████████████████████████████████████████████████████████████ 500/500 [00:03]\n"
     ]
    },
    {
     "name": "stdout",
     "output_type": "stream",
     "text": [
      "Thu Feb 22 19:21:17 2024 Finished embedding\n",
      "TSNE\n",
      "--------------------------------------------------------------------------------\n",
      "TSNE(early_exaggeration=12, random_state=3, verbose=True)\n",
      "--------------------------------------------------------------------------------\n",
      "===> Finding 90 nearest neighbors using Annoy approximate search using euclidean distance...\n",
      "   --> Time elapsed: 0.85 seconds\n",
      "===> Calculating affinity matrix...\n",
      "   --> Time elapsed: 0.05 seconds\n",
      "===> Calculating PCA-based initialization...\n",
      "   --> Time elapsed: 0.01 seconds\n",
      "===> Running optimization with exaggeration=12.00, lr=320.83 for 250 iterations...\n",
      "Iteration   50, KL divergence 3.6295, 50 iterations in 2.6928 sec\n",
      "Iteration  100, KL divergence 3.7334, 50 iterations in 2.3758 sec\n",
      "Iteration  150, KL divergence 3.7359, 50 iterations in 2.3651 sec\n",
      "Iteration  200, KL divergence 3.7359, 50 iterations in 2.5148 sec\n",
      "Iteration  250, KL divergence 3.7358, 50 iterations in 2.5064 sec\n",
      "   --> Time elapsed: 12.46 seconds\n",
      "===> Running optimization with exaggeration=1.00, lr=3850.00 for 500 iterations...\n",
      "Iteration   50, KL divergence 1.4702, 50 iterations in 2.3394 sec\n",
      "Iteration  100, KL divergence 1.3468, 50 iterations in 2.3131 sec\n",
      "Iteration  150, KL divergence 1.3010, 50 iterations in 2.2976 sec\n",
      "Iteration  200, KL divergence 1.2781, 50 iterations in 2.3170 sec\n",
      "Iteration  250, KL divergence 1.2640, 50 iterations in 2.3540 sec\n",
      "Iteration  300, KL divergence 1.2543, 50 iterations in 2.3529 sec\n",
      "Iteration  350, KL divergence 1.2477, 50 iterations in 2.3366 sec\n",
      "Iteration  400, KL divergence 1.2429, 50 iterations in 2.3420 sec\n",
      "Iteration  450, KL divergence 1.2388, 50 iterations in 2.4051 sec\n",
      "Iteration  500, KL divergence 1.2353, 50 iterations in 2.4065 sec\n",
      "   --> Time elapsed: 23.46 seconds\n",
      "smartseq seed: 4 scaled: True\n",
      "PCA2\n",
      "PCA50\n",
      "UMAP\n",
      "UMAP(random_state=4, verbose=True)\n",
      "Thu Feb 22 19:21:54 2024 Construct fuzzy simplicial set\n"
     ]
    },
    {
     "name": "stderr",
     "output_type": "stream",
     "text": [
      "/home/jan/anaconda3/envs/seeing_the_elephant_env/lib/python3.11/site-packages/umap/umap_.py:1943: UserWarning: n_jobs value -1 overridden to 1 by setting random_state. Use no seed for parallelism.\n",
      "  warn(f\"n_jobs value {self.n_jobs} overridden to 1 by setting random_state. Use no seed for parallelism.\")\n"
     ]
    },
    {
     "name": "stdout",
     "output_type": "stream",
     "text": [
      "Thu Feb 22 19:21:57 2024 Finding Nearest Neighbors\n",
      "Thu Feb 22 19:21:57 2024 Finished Nearest Neighbor Search\n",
      "Thu Feb 22 19:21:57 2024 Construct embedding\n"
     ]
    },
    {
     "name": "stderr",
     "output_type": "stream",
     "text": [
      "Epochs completed:   4%| ████▎                                                                                                         20/500 [00:00]"
     ]
    },
    {
     "name": "stdout",
     "output_type": "stream",
     "text": [
      "\tcompleted  0  /  500 epochs\n"
     ]
    },
    {
     "name": "stderr",
     "output_type": "stream",
     "text": [
      "Epochs completed:  14%| ███████████████▍                                                                                              71/500 [00:00]"
     ]
    },
    {
     "name": "stdout",
     "output_type": "stream",
     "text": [
      "\tcompleted  50  /  500 epochs\n"
     ]
    },
    {
     "name": "stderr",
     "output_type": "stream",
     "text": [
      "Epochs completed:  24%| ██████████████████████████▎                                                                                  122/500 [00:01]"
     ]
    },
    {
     "name": "stdout",
     "output_type": "stream",
     "text": [
      "\tcompleted  100  /  500 epochs\n"
     ]
    },
    {
     "name": "stderr",
     "output_type": "stream",
     "text": [
      "Epochs completed:  35%| █████████████████████████████████████▎                                                                       173/500 [00:01]"
     ]
    },
    {
     "name": "stdout",
     "output_type": "stream",
     "text": [
      "\tcompleted  150  /  500 epochs\n"
     ]
    },
    {
     "name": "stderr",
     "output_type": "stream",
     "text": [
      "Epochs completed:  45%| ████████████████████████████████████████████████▍                                                            224/500 [00:01]"
     ]
    },
    {
     "name": "stdout",
     "output_type": "stream",
     "text": [
      "\tcompleted  200  /  500 epochs\n"
     ]
    },
    {
     "name": "stderr",
     "output_type": "stream",
     "text": [
      "Epochs completed:  56%| ████████████████████████████████████████████████████████████                                                 278/500 [00:01]"
     ]
    },
    {
     "name": "stdout",
     "output_type": "stream",
     "text": [
      "\tcompleted  250  /  500 epochs\n"
     ]
    },
    {
     "name": "stderr",
     "output_type": "stream",
     "text": [
      "Epochs completed:  66%| ███████████████████████████████████████████████████████████████████████▋                                     332/500 [00:02]"
     ]
    },
    {
     "name": "stdout",
     "output_type": "stream",
     "text": [
      "\tcompleted  300  /  500 epochs\n"
     ]
    },
    {
     "name": "stderr",
     "output_type": "stream",
     "text": [
      "Epochs completed:  77%| ███████████████████████████████████████████████████████████████████████████████████▌                         387/500 [00:02]"
     ]
    },
    {
     "name": "stdout",
     "output_type": "stream",
     "text": [
      "\tcompleted  350  /  500 epochs\n"
     ]
    },
    {
     "name": "stderr",
     "output_type": "stream",
     "text": [
      "Epochs completed:  85%| ███████████████████████████████████████████████████████████████████████████████████████████▌                 424/500 [00:02]"
     ]
    },
    {
     "name": "stdout",
     "output_type": "stream",
     "text": [
      "\tcompleted  400  /  500 epochs\n"
     ]
    },
    {
     "name": "stderr",
     "output_type": "stream",
     "text": [
      "Epochs completed:  96%| ███████████████████████████████████████████████████████████████████████████████████████████████████████▋     480/500 [00:03]"
     ]
    },
    {
     "name": "stdout",
     "output_type": "stream",
     "text": [
      "\tcompleted  450  /  500 epochs\n"
     ]
    },
    {
     "name": "stderr",
     "output_type": "stream",
     "text": [
      "Epochs completed: 100%| ████████████████████████████████████████████████████████████████████████████████████████████████████████████ 500/500 [00:03]\n"
     ]
    },
    {
     "name": "stdout",
     "output_type": "stream",
     "text": [
      "Thu Feb 22 19:22:01 2024 Finished embedding\n",
      "TSNE\n",
      "--------------------------------------------------------------------------------\n",
      "TSNE(early_exaggeration=12, random_state=4, verbose=True)\n",
      "--------------------------------------------------------------------------------\n",
      "===> Finding 90 nearest neighbors using Annoy approximate search using euclidean distance...\n",
      "   --> Time elapsed: 0.79 seconds\n",
      "===> Calculating affinity matrix...\n",
      "   --> Time elapsed: 0.05 seconds\n",
      "===> Calculating PCA-based initialization...\n",
      "   --> Time elapsed: 0.01 seconds\n",
      "===> Running optimization with exaggeration=12.00, lr=320.83 for 250 iterations...\n",
      "Iteration   50, KL divergence 3.6320, 50 iterations in 2.5348 sec\n",
      "Iteration  100, KL divergence 3.7340, 50 iterations in 2.3420 sec\n",
      "Iteration  150, KL divergence 3.7366, 50 iterations in 2.4201 sec\n",
      "Iteration  200, KL divergence 3.7366, 50 iterations in 2.5200 sec\n",
      "Iteration  250, KL divergence 3.7365, 50 iterations in 2.4303 sec\n",
      "   --> Time elapsed: 12.25 seconds\n",
      "===> Running optimization with exaggeration=1.00, lr=3850.00 for 500 iterations...\n",
      "Iteration   50, KL divergence 1.4718, 50 iterations in 2.2655 sec\n",
      "Iteration  100, KL divergence 1.3459, 50 iterations in 2.2341 sec\n",
      "Iteration  150, KL divergence 1.2991, 50 iterations in 2.3431 sec\n",
      "Iteration  200, KL divergence 1.2756, 50 iterations in 2.2909 sec\n",
      "Iteration  250, KL divergence 1.2616, 50 iterations in 2.2563 sec\n",
      "Iteration  300, KL divergence 1.2517, 50 iterations in 2.2949 sec\n",
      "Iteration  350, KL divergence 1.2449, 50 iterations in 2.3688 sec\n",
      "Iteration  400, KL divergence 1.2397, 50 iterations in 2.3968 sec\n",
      "Iteration  450, KL divergence 1.2352, 50 iterations in 2.4073 sec\n",
      "Iteration  500, KL divergence 1.2318, 50 iterations in 2.4018 sec\n",
      "   --> Time elapsed: 23.26 seconds\n",
      "mnist seed: 0 scaled: False\n",
      "PCA2\n",
      "PCA50\n",
      "UMAP\n",
      "UMAP(random_state=0, verbose=True)\n",
      "Thu Feb 22 19:22:43 2024 Construct fuzzy simplicial set\n",
      "Thu Feb 22 19:22:43 2024 Finding Nearest Neighbors\n",
      "Thu Feb 22 19:22:43 2024 Building RP forest with 18 trees\n"
     ]
    },
    {
     "name": "stderr",
     "output_type": "stream",
     "text": [
      "/home/jan/anaconda3/envs/seeing_the_elephant_env/lib/python3.11/site-packages/umap/umap_.py:1943: UserWarning: n_jobs value -1 overridden to 1 by setting random_state. Use no seed for parallelism.\n",
      "  warn(f\"n_jobs value {self.n_jobs} overridden to 1 by setting random_state. Use no seed for parallelism.\")\n"
     ]
    },
    {
     "name": "stdout",
     "output_type": "stream",
     "text": [
      "Thu Feb 22 19:22:43 2024 NN descent for 16 iterations\n",
      "\t 1  /  16\n",
      "\t 2  /  16\n",
      "\t 3  /  16\n",
      "\t 4  /  16\n",
      "\tStopping threshold met -- exiting after 4 iterations\n",
      "Thu Feb 22 19:22:44 2024 Finished Nearest Neighbor Search\n",
      "Thu Feb 22 19:22:45 2024 Construct embedding\n"
     ]
    },
    {
     "name": "stderr",
     "output_type": "stream",
     "text": [
      "Epochs completed:   2%| ██▏                                                                                                            4/200 [00:00]"
     ]
    },
    {
     "name": "stdout",
     "output_type": "stream",
     "text": [
      "\tcompleted  0  /  200 epochs\n"
     ]
    },
    {
     "name": "stderr",
     "output_type": "stream",
     "text": [
      "Epochs completed:  11%| ███████████▉                                                                                                  22/200 [00:02]"
     ]
    },
    {
     "name": "stdout",
     "output_type": "stream",
     "text": [
      "\tcompleted  20  /  200 epochs\n"
     ]
    },
    {
     "name": "stderr",
     "output_type": "stream",
     "text": [
      "Epochs completed:  21%| ██████████████████████▉                                                                                       42/200 [00:04]"
     ]
    },
    {
     "name": "stdout",
     "output_type": "stream",
     "text": [
      "\tcompleted  40  /  200 epochs\n"
     ]
    },
    {
     "name": "stderr",
     "output_type": "stream",
     "text": [
      "Epochs completed:  31%| █████████████████████████████████▊                                                                            62/200 [00:06]"
     ]
    },
    {
     "name": "stdout",
     "output_type": "stream",
     "text": [
      "\tcompleted  60  /  200 epochs\n"
     ]
    },
    {
     "name": "stderr",
     "output_type": "stream",
     "text": [
      "Epochs completed:  42%| █████████████████████████████████████████████▏                                                                83/200 [00:08]"
     ]
    },
    {
     "name": "stdout",
     "output_type": "stream",
     "text": [
      "\tcompleted  80  /  200 epochs\n"
     ]
    },
    {
     "name": "stderr",
     "output_type": "stream",
     "text": [
      "Epochs completed:  51%| ███████████████████████████████████████████████████████                                                      102/200 [00:10]"
     ]
    },
    {
     "name": "stdout",
     "output_type": "stream",
     "text": [
      "\tcompleted  100  /  200 epochs\n"
     ]
    },
    {
     "name": "stderr",
     "output_type": "stream",
     "text": [
      "Epochs completed:  62%| ██████████████████████████████████████████████████████████████████▍                                          123/200 [00:13]"
     ]
    },
    {
     "name": "stdout",
     "output_type": "stream",
     "text": [
      "\tcompleted  120  /  200 epochs\n"
     ]
    },
    {
     "name": "stderr",
     "output_type": "stream",
     "text": [
      "Epochs completed:  72%| █████████████████████████████████████████████████████████████████████████████▏                               143/200 [00:15]"
     ]
    },
    {
     "name": "stdout",
     "output_type": "stream",
     "text": [
      "\tcompleted  140  /  200 epochs\n"
     ]
    },
    {
     "name": "stderr",
     "output_type": "stream",
     "text": [
      "Epochs completed:  82%| ████████████████████████████████████████████████████████████████████████████████████████                     163/200 [00:17]"
     ]
    },
    {
     "name": "stdout",
     "output_type": "stream",
     "text": [
      "\tcompleted  160  /  200 epochs\n"
     ]
    },
    {
     "name": "stderr",
     "output_type": "stream",
     "text": [
      "Epochs completed:  90%| █████████████████████████████████████████████████████████████████████████████████████████████████▋           181/200 [00:19]"
     ]
    },
    {
     "name": "stdout",
     "output_type": "stream",
     "text": [
      "\tcompleted  180  /  200 epochs\n"
     ]
    },
    {
     "name": "stderr",
     "output_type": "stream",
     "text": [
      "Epochs completed: 100%| ████████████████████████████████████████████████████████████████████████████████████████████████████████████ 200/200 [00:21]\n"
     ]
    },
    {
     "name": "stdout",
     "output_type": "stream",
     "text": [
      "Thu Feb 22 19:23:13 2024 Finished embedding\n",
      "TSNE\n",
      "--------------------------------------------------------------------------------\n",
      "TSNE(early_exaggeration=12, random_state=0, verbose=True)\n",
      "--------------------------------------------------------------------------------\n",
      "===> Finding 90 nearest neighbors using Annoy approximate search using euclidean distance...\n",
      "   --> Time elapsed: 28.13 seconds\n",
      "===> Calculating affinity matrix...\n",
      "   --> Time elapsed: 1.62 seconds\n",
      "===> Calculating PCA-based initialization...\n",
      "   --> Time elapsed: 0.18 seconds\n",
      "===> Running optimization with exaggeration=12.00, lr=5833.33 for 250 iterations...\n",
      "Iteration   50, KL divergence 5.9802, 50 iterations in 2.7452 sec\n",
      "Iteration  100, KL divergence 5.7635, 50 iterations in 2.6410 sec\n",
      "Iteration  150, KL divergence 5.6988, 50 iterations in 2.5867 sec\n",
      "Iteration  200, KL divergence 5.6751, 50 iterations in 2.5791 sec\n",
      "Iteration  250, KL divergence 5.6637, 50 iterations in 2.5787 sec\n",
      "   --> Time elapsed: 13.13 seconds\n",
      "===> Running optimization with exaggeration=1.00, lr=70000.00 for 500 iterations...\n",
      "Iteration   50, KL divergence 3.5604, 50 iterations in 2.6689 sec\n",
      "Iteration  100, KL divergence 3.2914, 50 iterations in 3.2776 sec\n",
      "Iteration  150, KL divergence 3.1540, 50 iterations in 4.2610 sec\n",
      "Iteration  200, KL divergence 3.0644, 50 iterations in 4.9789 sec\n",
      "Iteration  250, KL divergence 2.9996, 50 iterations in 5.6911 sec\n",
      "Iteration  300, KL divergence 2.9492, 50 iterations in 6.4007 sec\n",
      "Iteration  350, KL divergence 2.9087, 50 iterations in 7.3485 sec\n",
      "Iteration  400, KL divergence 2.8750, 50 iterations in 8.5859 sec\n",
      "Iteration  450, KL divergence 2.8462, 50 iterations in 9.6006 sec\n",
      "Iteration  500, KL divergence 2.8218, 50 iterations in 10.0890 sec\n",
      "   --> Time elapsed: 62.90 seconds\n",
      "mnist seed: 1 scaled: False\n",
      "PCA2\n",
      "PCA50\n",
      "UMAP\n",
      "UMAP(random_state=1, verbose=True)\n",
      "Thu Feb 22 19:25:04 2024 Construct fuzzy simplicial set\n",
      "Thu Feb 22 19:25:04 2024 Finding Nearest Neighbors\n",
      "Thu Feb 22 19:25:04 2024 Building RP forest with 18 trees\n"
     ]
    },
    {
     "name": "stderr",
     "output_type": "stream",
     "text": [
      "/home/jan/anaconda3/envs/seeing_the_elephant_env/lib/python3.11/site-packages/umap/umap_.py:1943: UserWarning: n_jobs value -1 overridden to 1 by setting random_state. Use no seed for parallelism.\n",
      "  warn(f\"n_jobs value {self.n_jobs} overridden to 1 by setting random_state. Use no seed for parallelism.\")\n"
     ]
    },
    {
     "name": "stdout",
     "output_type": "stream",
     "text": [
      "Thu Feb 22 19:25:04 2024 NN descent for 16 iterations\n",
      "\t 1  /  16\n",
      "\t 2  /  16\n",
      "\t 3  /  16\n",
      "\t 4  /  16\n",
      "\tStopping threshold met -- exiting after 4 iterations\n",
      "Thu Feb 22 19:25:06 2024 Finished Nearest Neighbor Search\n",
      "Thu Feb 22 19:25:06 2024 Construct embedding\n"
     ]
    },
    {
     "name": "stderr",
     "output_type": "stream",
     "text": [
      "Epochs completed:   3%| ███▎                                                                                                           6/200 [00:00]"
     ]
    },
    {
     "name": "stdout",
     "output_type": "stream",
     "text": [
      "\tcompleted  0  /  200 epochs\n"
     ]
    },
    {
     "name": "stderr",
     "output_type": "stream",
     "text": [
      "Epochs completed:  11%| ███████████▉                                                                                                  22/200 [00:02]"
     ]
    },
    {
     "name": "stdout",
     "output_type": "stream",
     "text": [
      "\tcompleted  20  /  200 epochs\n"
     ]
    },
    {
     "name": "stderr",
     "output_type": "stream",
     "text": [
      "Epochs completed:  21%| ██████████████████████▉                                                                                       42/200 [00:04]"
     ]
    },
    {
     "name": "stdout",
     "output_type": "stream",
     "text": [
      "\tcompleted  40  /  200 epochs\n"
     ]
    },
    {
     "name": "stderr",
     "output_type": "stream",
     "text": [
      "Epochs completed:  31%| █████████████████████████████████▊                                                                            62/200 [00:06]"
     ]
    },
    {
     "name": "stdout",
     "output_type": "stream",
     "text": [
      "\tcompleted  60  /  200 epochs\n"
     ]
    },
    {
     "name": "stderr",
     "output_type": "stream",
     "text": [
      "Epochs completed:  41%| ████████████████████████████████████████████▋                                                                 82/200 [00:08]"
     ]
    },
    {
     "name": "stdout",
     "output_type": "stream",
     "text": [
      "\tcompleted  80  /  200 epochs\n"
     ]
    },
    {
     "name": "stderr",
     "output_type": "stream",
     "text": [
      "Epochs completed:  52%| ███████████████████████████████████████████████████████▌                                                     103/200 [00:11]"
     ]
    },
    {
     "name": "stdout",
     "output_type": "stream",
     "text": [
      "\tcompleted  100  /  200 epochs\n"
     ]
    },
    {
     "name": "stderr",
     "output_type": "stream",
     "text": [
      "Epochs completed:  62%| ██████████████████████████████████████████████████████████████████▍                                          123/200 [00:13]"
     ]
    },
    {
     "name": "stdout",
     "output_type": "stream",
     "text": [
      "\tcompleted  120  /  200 epochs\n"
     ]
    },
    {
     "name": "stderr",
     "output_type": "stream",
     "text": [
      "Epochs completed:  72%| █████████████████████████████████████████████████████████████████████████████▏                               143/200 [00:15]"
     ]
    },
    {
     "name": "stdout",
     "output_type": "stream",
     "text": [
      "\tcompleted  140  /  200 epochs\n"
     ]
    },
    {
     "name": "stderr",
     "output_type": "stream",
     "text": [
      "Epochs completed:  81%| ███████████████████████████████████████████████████████████████████████████████████████▍                     162/200 [00:17]"
     ]
    },
    {
     "name": "stdout",
     "output_type": "stream",
     "text": [
      "\tcompleted  160  /  200 epochs\n"
     ]
    },
    {
     "name": "stderr",
     "output_type": "stream",
     "text": [
      "Epochs completed:  91%| ██████████████████████████████████████████████████████████████████████████████████████████████████▎          182/200 [00:19]"
     ]
    },
    {
     "name": "stdout",
     "output_type": "stream",
     "text": [
      "\tcompleted  180  /  200 epochs\n"
     ]
    },
    {
     "name": "stderr",
     "output_type": "stream",
     "text": [
      "Epochs completed: 100%| ████████████████████████████████████████████████████████████████████████████████████████████████████████████ 200/200 [00:21]\n"
     ]
    },
    {
     "name": "stdout",
     "output_type": "stream",
     "text": [
      "Thu Feb 22 19:25:34 2024 Finished embedding\n",
      "TSNE\n",
      "--------------------------------------------------------------------------------\n",
      "TSNE(early_exaggeration=12, random_state=1, verbose=True)\n",
      "--------------------------------------------------------------------------------\n",
      "===> Finding 90 nearest neighbors using Annoy approximate search using euclidean distance...\n",
      "   --> Time elapsed: 26.97 seconds\n",
      "===> Calculating affinity matrix...\n",
      "   --> Time elapsed: 1.66 seconds\n",
      "===> Calculating PCA-based initialization...\n",
      "   --> Time elapsed: 0.15 seconds\n",
      "===> Running optimization with exaggeration=12.00, lr=5833.33 for 250 iterations...\n",
      "Iteration   50, KL divergence 5.9835, 50 iterations in 2.6664 sec\n",
      "Iteration  100, KL divergence 5.7655, 50 iterations in 2.4720 sec\n",
      "Iteration  150, KL divergence 5.7005, 50 iterations in 2.5218 sec\n",
      "Iteration  200, KL divergence 5.6768, 50 iterations in 2.5180 sec\n",
      "Iteration  250, KL divergence 5.6652, 50 iterations in 2.5685 sec\n",
      "   --> Time elapsed: 12.75 seconds\n",
      "===> Running optimization with exaggeration=1.00, lr=70000.00 for 500 iterations...\n",
      "Iteration   50, KL divergence 3.5602, 50 iterations in 2.7324 sec\n",
      "Iteration  100, KL divergence 3.2915, 50 iterations in 3.4190 sec\n",
      "Iteration  150, KL divergence 3.1544, 50 iterations in 4.2340 sec\n",
      "Iteration  200, KL divergence 3.0649, 50 iterations in 5.2468 sec\n",
      "Iteration  250, KL divergence 3.0001, 50 iterations in 5.9923 sec\n",
      "Iteration  300, KL divergence 2.9503, 50 iterations in 6.4556 sec\n",
      "Iteration  350, KL divergence 2.9097, 50 iterations in 7.4361 sec\n",
      "Iteration  400, KL divergence 2.8760, 50 iterations in 8.2547 sec\n",
      "Iteration  450, KL divergence 2.8473, 50 iterations in 9.4079 sec\n",
      "Iteration  500, KL divergence 2.8234, 50 iterations in 10.2942 sec\n",
      "   --> Time elapsed: 63.47 seconds\n",
      "mnist seed: 2 scaled: False\n",
      "PCA2\n",
      "PCA50\n",
      "UMAP\n",
      "UMAP(random_state=2, verbose=True)\n",
      "Thu Feb 22 19:27:25 2024 Construct fuzzy simplicial set\n",
      "Thu Feb 22 19:27:25 2024 Finding Nearest Neighbors\n",
      "Thu Feb 22 19:27:25 2024 Building RP forest with 18 trees\n",
      "Thu Feb 22 19:27:25 2024 NN descent for 16 iterations\n"
     ]
    },
    {
     "name": "stderr",
     "output_type": "stream",
     "text": [
      "/home/jan/anaconda3/envs/seeing_the_elephant_env/lib/python3.11/site-packages/umap/umap_.py:1943: UserWarning: n_jobs value -1 overridden to 1 by setting random_state. Use no seed for parallelism.\n",
      "  warn(f\"n_jobs value {self.n_jobs} overridden to 1 by setting random_state. Use no seed for parallelism.\")\n"
     ]
    },
    {
     "name": "stdout",
     "output_type": "stream",
     "text": [
      "\t 1  /  16\n",
      "\t 2  /  16\n",
      "\t 3  /  16\n",
      "\t 4  /  16\n",
      "\tStopping threshold met -- exiting after 4 iterations\n",
      "Thu Feb 22 19:27:27 2024 Finished Nearest Neighbor Search\n",
      "Thu Feb 22 19:27:27 2024 Construct embedding\n"
     ]
    },
    {
     "name": "stderr",
     "output_type": "stream",
     "text": [
      "Epochs completed:   3%| ███▎                                                                                                           6/200 [00:00]"
     ]
    },
    {
     "name": "stdout",
     "output_type": "stream",
     "text": [
      "\tcompleted  0  /  200 epochs\n"
     ]
    },
    {
     "name": "stderr",
     "output_type": "stream",
     "text": [
      "Epochs completed:  11%| ███████████▉                                                                                                  22/200 [00:02]"
     ]
    },
    {
     "name": "stdout",
     "output_type": "stream",
     "text": [
      "\tcompleted  20  /  200 epochs\n"
     ]
    },
    {
     "name": "stderr",
     "output_type": "stream",
     "text": [
      "Epochs completed:  22%| ███████████████████████▍                                                                                      43/200 [00:04]"
     ]
    },
    {
     "name": "stdout",
     "output_type": "stream",
     "text": [
      "\tcompleted  40  /  200 epochs\n"
     ]
    },
    {
     "name": "stderr",
     "output_type": "stream",
     "text": [
      "Epochs completed:  31%| █████████████████████████████████▊                                                                            62/200 [00:06]"
     ]
    },
    {
     "name": "stdout",
     "output_type": "stream",
     "text": [
      "\tcompleted  60  /  200 epochs\n"
     ]
    },
    {
     "name": "stderr",
     "output_type": "stream",
     "text": [
      "Epochs completed:  41%| ████████████████████████████████████████████▋                                                                 82/200 [00:08]"
     ]
    },
    {
     "name": "stdout",
     "output_type": "stream",
     "text": [
      "\tcompleted  80  /  200 epochs\n"
     ]
    },
    {
     "name": "stderr",
     "output_type": "stream",
     "text": [
      "Epochs completed:  52%| ███████████████████████████████████████████████████████▌                                                     103/200 [00:11]"
     ]
    },
    {
     "name": "stdout",
     "output_type": "stream",
     "text": [
      "\tcompleted  100  /  200 epochs\n"
     ]
    },
    {
     "name": "stderr",
     "output_type": "stream",
     "text": [
      "Epochs completed:  62%| ██████████████████████████████████████████████████████████████████▍                                          123/200 [00:13]"
     ]
    },
    {
     "name": "stdout",
     "output_type": "stream",
     "text": [
      "\tcompleted  120  /  200 epochs\n"
     ]
    },
    {
     "name": "stderr",
     "output_type": "stream",
     "text": [
      "Epochs completed:  72%| █████████████████████████████████████████████████████████████████████████████▏                               143/200 [00:15]"
     ]
    },
    {
     "name": "stdout",
     "output_type": "stream",
     "text": [
      "\tcompleted  140  /  200 epochs\n"
     ]
    },
    {
     "name": "stderr",
     "output_type": "stream",
     "text": [
      "Epochs completed:  82%| ████████████████████████████████████████████████████████████████████████████████████████                     163/200 [00:17]"
     ]
    },
    {
     "name": "stdout",
     "output_type": "stream",
     "text": [
      "\tcompleted  160  /  200 epochs\n"
     ]
    },
    {
     "name": "stderr",
     "output_type": "stream",
     "text": [
      "Epochs completed:  92%| ██████████████████████████████████████████████████████████████████████████████████████████████████▊          183/200 [00:19]"
     ]
    },
    {
     "name": "stdout",
     "output_type": "stream",
     "text": [
      "\tcompleted  180  /  200 epochs\n"
     ]
    },
    {
     "name": "stderr",
     "output_type": "stream",
     "text": [
      "Epochs completed: 100%| ████████████████████████████████████████████████████████████████████████████████████████████████████████████ 200/200 [00:21]\n"
     ]
    },
    {
     "name": "stdout",
     "output_type": "stream",
     "text": [
      "Thu Feb 22 19:27:55 2024 Finished embedding\n",
      "TSNE\n",
      "--------------------------------------------------------------------------------\n",
      "TSNE(early_exaggeration=12, random_state=2, verbose=True)\n",
      "--------------------------------------------------------------------------------\n",
      "===> Finding 90 nearest neighbors using Annoy approximate search using euclidean distance...\n",
      "   --> Time elapsed: 27.15 seconds\n",
      "===> Calculating affinity matrix...\n",
      "   --> Time elapsed: 1.66 seconds\n",
      "===> Calculating PCA-based initialization...\n",
      "   --> Time elapsed: 0.16 seconds\n",
      "===> Running optimization with exaggeration=12.00, lr=5833.33 for 250 iterations...\n",
      "Iteration   50, KL divergence 5.9792, 50 iterations in 2.5972 sec\n",
      "Iteration  100, KL divergence 5.7624, 50 iterations in 2.5818 sec\n",
      "Iteration  150, KL divergence 5.6972, 50 iterations in 2.6237 sec\n",
      "Iteration  200, KL divergence 5.6738, 50 iterations in 2.5740 sec\n",
      "Iteration  250, KL divergence 5.6622, 50 iterations in 2.5856 sec\n",
      "   --> Time elapsed: 12.96 seconds\n",
      "===> Running optimization with exaggeration=1.00, lr=70000.00 for 500 iterations...\n",
      "Iteration   50, KL divergence 3.5593, 50 iterations in 2.6491 sec\n",
      "Iteration  100, KL divergence 3.2893, 50 iterations in 3.1092 sec\n",
      "Iteration  150, KL divergence 3.1519, 50 iterations in 4.2650 sec\n",
      "Iteration  200, KL divergence 3.0621, 50 iterations in 5.0068 sec\n",
      "Iteration  250, KL divergence 2.9973, 50 iterations in 5.8332 sec\n",
      "Iteration  300, KL divergence 2.9470, 50 iterations in 6.5470 sec\n",
      "Iteration  350, KL divergence 2.9069, 50 iterations in 7.2354 sec\n",
      "Iteration  400, KL divergence 2.8734, 50 iterations in 8.2181 sec\n",
      "Iteration  450, KL divergence 2.8448, 50 iterations in 9.3871 sec\n",
      "Iteration  500, KL divergence 2.8203, 50 iterations in 9.9095 sec\n",
      "   --> Time elapsed: 62.16 seconds\n",
      "mnist seed: 3 scaled: False\n",
      "PCA2\n",
      "PCA50\n",
      "UMAP\n",
      "UMAP(random_state=3, verbose=True)\n",
      "Thu Feb 22 19:29:44 2024 Construct fuzzy simplicial set\n",
      "Thu Feb 22 19:29:44 2024 Finding Nearest Neighbors\n",
      "Thu Feb 22 19:29:44 2024 Building RP forest with 18 trees\n",
      "Thu Feb 22 19:29:45 2024 NN descent for 16 iterations\n"
     ]
    },
    {
     "name": "stderr",
     "output_type": "stream",
     "text": [
      "/home/jan/anaconda3/envs/seeing_the_elephant_env/lib/python3.11/site-packages/umap/umap_.py:1943: UserWarning: n_jobs value -1 overridden to 1 by setting random_state. Use no seed for parallelism.\n",
      "  warn(f\"n_jobs value {self.n_jobs} overridden to 1 by setting random_state. Use no seed for parallelism.\")\n"
     ]
    },
    {
     "name": "stdout",
     "output_type": "stream",
     "text": [
      "\t 1  /  16\n",
      "\t 2  /  16\n",
      "\t 3  /  16\n",
      "\t 4  /  16\n",
      "\tStopping threshold met -- exiting after 4 iterations\n",
      "Thu Feb 22 19:29:46 2024 Finished Nearest Neighbor Search\n",
      "Thu Feb 22 19:29:46 2024 Construct embedding\n"
     ]
    },
    {
     "name": "stderr",
     "output_type": "stream",
     "text": [
      "Epochs completed:   3%| ███▎                                                                                                           6/200 [00:00]"
     ]
    },
    {
     "name": "stdout",
     "output_type": "stream",
     "text": [
      "\tcompleted  0  /  200 epochs\n"
     ]
    },
    {
     "name": "stderr",
     "output_type": "stream",
     "text": [
      "Epochs completed:  11%| ███████████▉                                                                                                  22/200 [00:02]"
     ]
    },
    {
     "name": "stdout",
     "output_type": "stream",
     "text": [
      "\tcompleted  20  /  200 epochs\n"
     ]
    },
    {
     "name": "stderr",
     "output_type": "stream",
     "text": [
      "Epochs completed:  22%| ███████████████████████▍                                                                                      43/200 [00:04]"
     ]
    },
    {
     "name": "stdout",
     "output_type": "stream",
     "text": [
      "\tcompleted  40  /  200 epochs\n"
     ]
    },
    {
     "name": "stderr",
     "output_type": "stream",
     "text": [
      "Epochs completed:  31%| █████████████████████████████████▊                                                                            62/200 [00:06]"
     ]
    },
    {
     "name": "stdout",
     "output_type": "stream",
     "text": [
      "\tcompleted  60  /  200 epochs\n"
     ]
    },
    {
     "name": "stderr",
     "output_type": "stream",
     "text": [
      "Epochs completed:  41%| ████████████████████████████████████████████▋                                                                 82/200 [00:08]"
     ]
    },
    {
     "name": "stdout",
     "output_type": "stream",
     "text": [
      "\tcompleted  80  /  200 epochs\n"
     ]
    },
    {
     "name": "stderr",
     "output_type": "stream",
     "text": [
      "Epochs completed:  51%| ███████████████████████████████████████████████████████                                                      102/200 [00:11]"
     ]
    },
    {
     "name": "stdout",
     "output_type": "stream",
     "text": [
      "\tcompleted  100  /  200 epochs\n"
     ]
    },
    {
     "name": "stderr",
     "output_type": "stream",
     "text": [
      "Epochs completed:  61%| █████████████████████████████████████████████████████████████████▉                                           122/200 [00:13]"
     ]
    },
    {
     "name": "stdout",
     "output_type": "stream",
     "text": [
      "\tcompleted  120  /  200 epochs\n"
     ]
    },
    {
     "name": "stderr",
     "output_type": "stream",
     "text": [
      "Epochs completed:  72%| █████████████████████████████████████████████████████████████████████████████▏                               143/200 [00:15]"
     ]
    },
    {
     "name": "stdout",
     "output_type": "stream",
     "text": [
      "\tcompleted  140  /  200 epochs\n"
     ]
    },
    {
     "name": "stderr",
     "output_type": "stream",
     "text": [
      "Epochs completed:  82%| ████████████████████████████████████████████████████████████████████████████████████████                     163/200 [00:17]"
     ]
    },
    {
     "name": "stdout",
     "output_type": "stream",
     "text": [
      "\tcompleted  160  /  200 epochs\n"
     ]
    },
    {
     "name": "stderr",
     "output_type": "stream",
     "text": [
      "Epochs completed:  91%| ██████████████████████████████████████████████████████████████████████████████████████████████████▎          182/200 [00:19]"
     ]
    },
    {
     "name": "stdout",
     "output_type": "stream",
     "text": [
      "\tcompleted  180  /  200 epochs\n"
     ]
    },
    {
     "name": "stderr",
     "output_type": "stream",
     "text": [
      "Epochs completed: 100%| ████████████████████████████████████████████████████████████████████████████████████████████████████████████ 200/200 [00:21]\n"
     ]
    },
    {
     "name": "stdout",
     "output_type": "stream",
     "text": [
      "Thu Feb 22 19:30:14 2024 Finished embedding\n",
      "TSNE\n",
      "--------------------------------------------------------------------------------\n",
      "TSNE(early_exaggeration=12, random_state=3, verbose=True)\n",
      "--------------------------------------------------------------------------------\n",
      "===> Finding 90 nearest neighbors using Annoy approximate search using euclidean distance...\n",
      "   --> Time elapsed: 26.96 seconds\n",
      "===> Calculating affinity matrix...\n",
      "   --> Time elapsed: 1.60 seconds\n",
      "===> Calculating PCA-based initialization...\n",
      "   --> Time elapsed: 0.15 seconds\n",
      "===> Running optimization with exaggeration=12.00, lr=5833.33 for 250 iterations...\n",
      "Iteration   50, KL divergence 5.9799, 50 iterations in 2.6284 sec\n",
      "Iteration  100, KL divergence 5.7620, 50 iterations in 2.5338 sec\n",
      "Iteration  150, KL divergence 5.6967, 50 iterations in 2.4985 sec\n",
      "Iteration  200, KL divergence 5.6730, 50 iterations in 2.5360 sec\n",
      "Iteration  250, KL divergence 5.6613, 50 iterations in 2.5570 sec\n",
      "   --> Time elapsed: 12.75 seconds\n",
      "===> Running optimization with exaggeration=1.00, lr=70000.00 for 500 iterations...\n",
      "Iteration   50, KL divergence 3.5599, 50 iterations in 2.6450 sec\n",
      "Iteration  100, KL divergence 3.2902, 50 iterations in 3.4079 sec\n",
      "Iteration  150, KL divergence 3.1525, 50 iterations in 4.2312 sec\n",
      "Iteration  200, KL divergence 3.0631, 50 iterations in 4.9291 sec\n",
      "Iteration  250, KL divergence 2.9983, 50 iterations in 5.8347 sec\n",
      "Iteration  300, KL divergence 2.9486, 50 iterations in 6.7429 sec\n",
      "Iteration  350, KL divergence 2.9084, 50 iterations in 7.4690 sec\n",
      "Iteration  400, KL divergence 2.8743, 50 iterations in 8.5198 sec\n",
      "Iteration  450, KL divergence 2.8459, 50 iterations in 9.6879 sec\n",
      "Iteration  500, KL divergence 2.8217, 50 iterations in 10.1700 sec\n",
      "   --> Time elapsed: 63.64 seconds\n",
      "mnist seed: 4 scaled: False\n",
      "PCA2\n",
      "PCA50\n",
      "UMAP\n",
      "UMAP(random_state=4, verbose=True)\n",
      "Thu Feb 22 19:32:05 2024 Construct fuzzy simplicial set\n",
      "Thu Feb 22 19:32:05 2024 Finding Nearest Neighbors\n",
      "Thu Feb 22 19:32:05 2024 Building RP forest with 18 trees\n",
      "Thu Feb 22 19:32:05 2024 NN descent for 16 iterations\n"
     ]
    },
    {
     "name": "stderr",
     "output_type": "stream",
     "text": [
      "/home/jan/anaconda3/envs/seeing_the_elephant_env/lib/python3.11/site-packages/umap/umap_.py:1943: UserWarning: n_jobs value -1 overridden to 1 by setting random_state. Use no seed for parallelism.\n",
      "  warn(f\"n_jobs value {self.n_jobs} overridden to 1 by setting random_state. Use no seed for parallelism.\")\n"
     ]
    },
    {
     "name": "stdout",
     "output_type": "stream",
     "text": [
      "\t 1  /  16\n",
      "\t 2  /  16\n",
      "\t 3  /  16\n",
      "\t 4  /  16\n",
      "\tStopping threshold met -- exiting after 4 iterations\n",
      "Thu Feb 22 19:32:07 2024 Finished Nearest Neighbor Search\n",
      "Thu Feb 22 19:32:07 2024 Construct embedding\n"
     ]
    },
    {
     "name": "stderr",
     "output_type": "stream",
     "text": [
      "Epochs completed:   2%| ██▏                                                                                                            4/200 [00:00]"
     ]
    },
    {
     "name": "stdout",
     "output_type": "stream",
     "text": [
      "\tcompleted  0  /  200 epochs\n"
     ]
    },
    {
     "name": "stderr",
     "output_type": "stream",
     "text": [
      "Epochs completed:  12%| ████████████▌                                                                                                 23/200 [00:02]"
     ]
    },
    {
     "name": "stdout",
     "output_type": "stream",
     "text": [
      "\tcompleted  20  /  200 epochs\n"
     ]
    },
    {
     "name": "stderr",
     "output_type": "stream",
     "text": [
      "Epochs completed:  22%| ███████████████████████▍                                                                                      43/200 [00:04]"
     ]
    },
    {
     "name": "stdout",
     "output_type": "stream",
     "text": [
      "\tcompleted  40  /  200 epochs\n"
     ]
    },
    {
     "name": "stderr",
     "output_type": "stream",
     "text": [
      "Epochs completed:  32%| ██████████████████████████████████▎                                                                           63/200 [00:06]"
     ]
    },
    {
     "name": "stdout",
     "output_type": "stream",
     "text": [
      "\tcompleted  60  /  200 epochs\n"
     ]
    },
    {
     "name": "stderr",
     "output_type": "stream",
     "text": [
      "Epochs completed:  41%| ████████████████████████████████████████████▋                                                                 82/200 [00:08]"
     ]
    },
    {
     "name": "stdout",
     "output_type": "stream",
     "text": [
      "\tcompleted  80  /  200 epochs\n"
     ]
    },
    {
     "name": "stderr",
     "output_type": "stream",
     "text": [
      "Epochs completed:  51%| ███████████████████████████████████████████████████████                                                      102/200 [00:10]"
     ]
    },
    {
     "name": "stdout",
     "output_type": "stream",
     "text": [
      "\tcompleted  100  /  200 epochs\n"
     ]
    },
    {
     "name": "stderr",
     "output_type": "stream",
     "text": [
      "Epochs completed:  62%| ██████████████████████████████████████████████████████████████████▍                                          123/200 [00:13]"
     ]
    },
    {
     "name": "stdout",
     "output_type": "stream",
     "text": [
      "\tcompleted  120  /  200 epochs\n"
     ]
    },
    {
     "name": "stderr",
     "output_type": "stream",
     "text": [
      "Epochs completed:  72%| █████████████████████████████████████████████████████████████████████████████▏                               143/200 [00:15]"
     ]
    },
    {
     "name": "stdout",
     "output_type": "stream",
     "text": [
      "\tcompleted  140  /  200 epochs\n"
     ]
    },
    {
     "name": "stderr",
     "output_type": "stream",
     "text": [
      "Epochs completed:  82%| ████████████████████████████████████████████████████████████████████████████████████████                     163/200 [00:17]"
     ]
    },
    {
     "name": "stdout",
     "output_type": "stream",
     "text": [
      "\tcompleted  160  /  200 epochs\n"
     ]
    },
    {
     "name": "stderr",
     "output_type": "stream",
     "text": [
      "Epochs completed:  92%| ██████████████████████████████████████████████████████████████████████████████████████████████████▊          183/200 [00:19]"
     ]
    },
    {
     "name": "stdout",
     "output_type": "stream",
     "text": [
      "\tcompleted  180  /  200 epochs\n"
     ]
    },
    {
     "name": "stderr",
     "output_type": "stream",
     "text": [
      "Epochs completed: 100%| ████████████████████████████████████████████████████████████████████████████████████████████████████████████ 200/200 [00:21]\n"
     ]
    },
    {
     "name": "stdout",
     "output_type": "stream",
     "text": [
      "Thu Feb 22 19:32:35 2024 Finished embedding\n",
      "TSNE\n",
      "--------------------------------------------------------------------------------\n",
      "TSNE(early_exaggeration=12, random_state=4, verbose=True)\n",
      "--------------------------------------------------------------------------------\n",
      "===> Finding 90 nearest neighbors using Annoy approximate search using euclidean distance...\n",
      "   --> Time elapsed: 28.28 seconds\n",
      "===> Calculating affinity matrix...\n",
      "   --> Time elapsed: 1.63 seconds\n",
      "===> Calculating PCA-based initialization...\n",
      "   --> Time elapsed: 0.18 seconds\n",
      "===> Running optimization with exaggeration=12.00, lr=5833.33 for 250 iterations...\n",
      "Iteration   50, KL divergence 5.9799, 50 iterations in 2.5984 sec\n",
      "Iteration  100, KL divergence 5.7626, 50 iterations in 2.5294 sec\n",
      "Iteration  150, KL divergence 5.6972, 50 iterations in 2.4862 sec\n",
      "Iteration  200, KL divergence 5.6734, 50 iterations in 2.5457 sec\n",
      "Iteration  250, KL divergence 5.6619, 50 iterations in 2.5460 sec\n",
      "   --> Time elapsed: 12.71 seconds\n",
      "===> Running optimization with exaggeration=1.00, lr=70000.00 for 500 iterations...\n",
      "Iteration   50, KL divergence 3.5592, 50 iterations in 2.6941 sec\n",
      "Iteration  100, KL divergence 3.2902, 50 iterations in 3.5006 sec\n",
      "Iteration  150, KL divergence 3.1530, 50 iterations in 4.2653 sec\n",
      "Iteration  200, KL divergence 3.0635, 50 iterations in 4.9674 sec\n",
      "Iteration  250, KL divergence 2.9984, 50 iterations in 5.8471 sec\n",
      "Iteration  300, KL divergence 2.9484, 50 iterations in 6.7268 sec\n",
      "Iteration  350, KL divergence 2.9082, 50 iterations in 7.6177 sec\n",
      "Iteration  400, KL divergence 2.8745, 50 iterations in 8.4964 sec\n",
      "Iteration  450, KL divergence 2.8461, 50 iterations in 10.0350 sec\n",
      "Iteration  500, KL divergence 2.8218, 50 iterations in 10.2631 sec\n",
      "   --> Time elapsed: 64.41 seconds\n",
      "mnist seed: 0 scaled: True\n",
      "PCA2\n",
      "PCA50\n",
      "UMAP\n",
      "UMAP(random_state=0, verbose=True)\n",
      "Thu Feb 22 19:34:28 2024 Construct fuzzy simplicial set\n",
      "Thu Feb 22 19:34:28 2024 Finding Nearest Neighbors\n",
      "Thu Feb 22 19:34:28 2024 Building RP forest with 18 trees\n"
     ]
    },
    {
     "name": "stderr",
     "output_type": "stream",
     "text": [
      "/home/jan/anaconda3/envs/seeing_the_elephant_env/lib/python3.11/site-packages/umap/umap_.py:1943: UserWarning: n_jobs value -1 overridden to 1 by setting random_state. Use no seed for parallelism.\n",
      "  warn(f\"n_jobs value {self.n_jobs} overridden to 1 by setting random_state. Use no seed for parallelism.\")\n"
     ]
    },
    {
     "name": "stdout",
     "output_type": "stream",
     "text": [
      "Thu Feb 22 19:34:28 2024 NN descent for 16 iterations\n",
      "\t 1  /  16\n",
      "\t 2  /  16\n",
      "\t 3  /  16\n",
      "\t 4  /  16\n",
      "\tStopping threshold met -- exiting after 4 iterations\n",
      "Thu Feb 22 19:34:30 2024 Finished Nearest Neighbor Search\n",
      "Thu Feb 22 19:34:30 2024 Construct embedding\n"
     ]
    },
    {
     "name": "stderr",
     "output_type": "stream",
     "text": [
      "Epochs completed:   2%| ██▏                                                                                                            4/200 [00:00]"
     ]
    },
    {
     "name": "stdout",
     "output_type": "stream",
     "text": [
      "\tcompleted  0  /  200 epochs\n"
     ]
    },
    {
     "name": "stderr",
     "output_type": "stream",
     "text": [
      "Epochs completed:  11%| ███████████▉                                                                                                  22/200 [00:02]"
     ]
    },
    {
     "name": "stdout",
     "output_type": "stream",
     "text": [
      "\tcompleted  20  /  200 epochs\n"
     ]
    },
    {
     "name": "stderr",
     "output_type": "stream",
     "text": [
      "Epochs completed:  22%| ███████████████████████▍                                                                                      43/200 [00:04]"
     ]
    },
    {
     "name": "stdout",
     "output_type": "stream",
     "text": [
      "\tcompleted  40  /  200 epochs\n"
     ]
    },
    {
     "name": "stderr",
     "output_type": "stream",
     "text": [
      "Epochs completed:  30%| ████████████████████████████████▋                                                                             60/200 [00:06]"
     ]
    },
    {
     "name": "stdout",
     "output_type": "stream",
     "text": [
      "\tcompleted  60  /  200 epochs\n"
     ]
    },
    {
     "name": "stderr",
     "output_type": "stream",
     "text": [
      "Epochs completed:  41%| ████████████████████████████████████████████▋                                                                 82/200 [00:09]"
     ]
    },
    {
     "name": "stdout",
     "output_type": "stream",
     "text": [
      "\tcompleted  80  /  200 epochs\n"
     ]
    },
    {
     "name": "stderr",
     "output_type": "stream",
     "text": [
      "Epochs completed:  52%| ███████████████████████████████████████████████████████▌                                                     103/200 [00:11]"
     ]
    },
    {
     "name": "stdout",
     "output_type": "stream",
     "text": [
      "\tcompleted  100  /  200 epochs\n"
     ]
    },
    {
     "name": "stderr",
     "output_type": "stream",
     "text": [
      "Epochs completed:  61%| █████████████████████████████████████████████████████████████████▉                                           122/200 [00:13]"
     ]
    },
    {
     "name": "stdout",
     "output_type": "stream",
     "text": [
      "\tcompleted  120  /  200 epochs\n"
     ]
    },
    {
     "name": "stderr",
     "output_type": "stream",
     "text": [
      "Epochs completed:  71%| ████████████████████████████████████████████████████████████████████████████▋                                142/200 [00:15]"
     ]
    },
    {
     "name": "stdout",
     "output_type": "stream",
     "text": [
      "\tcompleted  140  /  200 epochs\n"
     ]
    },
    {
     "name": "stderr",
     "output_type": "stream",
     "text": [
      "Epochs completed:  80%| ██████████████████████████████████████████████████████████████████████████████████████▍                      160/200 [00:17]"
     ]
    },
    {
     "name": "stdout",
     "output_type": "stream",
     "text": [
      "\tcompleted  160  /  200 epochs\n"
     ]
    },
    {
     "name": "stderr",
     "output_type": "stream",
     "text": [
      "Epochs completed:  92%| ██████████████████████████████████████████████████████████████████████████████████████████████████▊          183/200 [00:20]"
     ]
    },
    {
     "name": "stdout",
     "output_type": "stream",
     "text": [
      "\tcompleted  180  /  200 epochs\n"
     ]
    },
    {
     "name": "stderr",
     "output_type": "stream",
     "text": [
      "Epochs completed: 100%| ████████████████████████████████████████████████████████████████████████████████████████████████████████████ 200/200 [00:21]\n"
     ]
    },
    {
     "name": "stdout",
     "output_type": "stream",
     "text": [
      "Thu Feb 22 19:34:59 2024 Finished embedding\n",
      "TSNE\n",
      "--------------------------------------------------------------------------------\n",
      "TSNE(early_exaggeration=12, random_state=0, verbose=True)\n",
      "--------------------------------------------------------------------------------\n",
      "===> Finding 90 nearest neighbors using Annoy approximate search using euclidean distance...\n",
      "   --> Time elapsed: 26.48 seconds\n",
      "===> Calculating affinity matrix...\n",
      "   --> Time elapsed: 1.04 seconds\n",
      "===> Calculating PCA-based initialization...\n",
      "   --> Time elapsed: 0.15 seconds\n",
      "===> Running optimization with exaggeration=12.00, lr=5833.33 for 250 iterations...\n",
      "Iteration   50, KL divergence 5.9721, 50 iterations in 2.6555 sec\n",
      "Iteration  100, KL divergence 5.8339, 50 iterations in 2.5730 sec\n",
      "Iteration  150, KL divergence 5.7844, 50 iterations in 2.5501 sec\n",
      "Iteration  200, KL divergence 5.7663, 50 iterations in 2.5633 sec\n",
      "Iteration  250, KL divergence 5.7580, 50 iterations in 2.5704 sec\n",
      "   --> Time elapsed: 12.91 seconds\n",
      "===> Running optimization with exaggeration=1.00, lr=70000.00 for 500 iterations...\n",
      "Iteration   50, KL divergence 3.4697, 50 iterations in 2.6791 sec\n",
      "Iteration  100, KL divergence 3.1840, 50 iterations in 3.4525 sec\n",
      "Iteration  150, KL divergence 3.0383, 50 iterations in 4.3588 sec\n",
      "Iteration  200, KL divergence 2.9437, 50 iterations in 5.0077 sec\n",
      "Iteration  250, KL divergence 2.8753, 50 iterations in 5.8964 sec\n",
      "Iteration  300, KL divergence 2.8227, 50 iterations in 6.5044 sec\n",
      "Iteration  350, KL divergence 2.7805, 50 iterations in 7.7128 sec\n",
      "Iteration  400, KL divergence 2.7455, 50 iterations in 8.6704 sec\n",
      "Iteration  450, KL divergence 2.7156, 50 iterations in 9.5324 sec\n",
      "Iteration  500, KL divergence 2.6908, 50 iterations in 10.3444 sec\n",
      "   --> Time elapsed: 64.16 seconds\n",
      "mnist seed: 1 scaled: True\n",
      "PCA2\n",
      "PCA50\n",
      "UMAP\n",
      "UMAP(random_state=1, verbose=True)\n",
      "Thu Feb 22 19:36:49 2024 Construct fuzzy simplicial set\n",
      "Thu Feb 22 19:36:49 2024 Finding Nearest Neighbors\n",
      "Thu Feb 22 19:36:49 2024 Building RP forest with 18 trees\n",
      "Thu Feb 22 19:36:50 2024 NN descent for 16 iterations\n"
     ]
    },
    {
     "name": "stderr",
     "output_type": "stream",
     "text": [
      "/home/jan/anaconda3/envs/seeing_the_elephant_env/lib/python3.11/site-packages/umap/umap_.py:1943: UserWarning: n_jobs value -1 overridden to 1 by setting random_state. Use no seed for parallelism.\n",
      "  warn(f\"n_jobs value {self.n_jobs} overridden to 1 by setting random_state. Use no seed for parallelism.\")\n"
     ]
    },
    {
     "name": "stdout",
     "output_type": "stream",
     "text": [
      "\t 1  /  16\n",
      "\t 2  /  16\n",
      "\t 3  /  16\n",
      "\t 4  /  16\n",
      "\tStopping threshold met -- exiting after 4 iterations\n",
      "Thu Feb 22 19:36:51 2024 Finished Nearest Neighbor Search\n",
      "Thu Feb 22 19:36:51 2024 Construct embedding\n"
     ]
    },
    {
     "name": "stderr",
     "output_type": "stream",
     "text": [
      "Epochs completed:   2%| ██▏                                                                                                            4/200 [00:00]"
     ]
    },
    {
     "name": "stdout",
     "output_type": "stream",
     "text": [
      "\tcompleted  0  /  200 epochs\n"
     ]
    },
    {
     "name": "stderr",
     "output_type": "stream",
     "text": [
      "Epochs completed:  12%| ████████████▌                                                                                                 23/200 [00:02]"
     ]
    },
    {
     "name": "stdout",
     "output_type": "stream",
     "text": [
      "\tcompleted  20  /  200 epochs\n"
     ]
    },
    {
     "name": "stderr",
     "output_type": "stream",
     "text": [
      "Epochs completed:  21%| ██████████████████████▉                                                                                       42/200 [00:04]"
     ]
    },
    {
     "name": "stdout",
     "output_type": "stream",
     "text": [
      "\tcompleted  40  /  200 epochs\n"
     ]
    },
    {
     "name": "stderr",
     "output_type": "stream",
     "text": [
      "Epochs completed:  32%| ██████████████████████████████████▎                                                                           63/200 [00:06]"
     ]
    },
    {
     "name": "stdout",
     "output_type": "stream",
     "text": [
      "\tcompleted  60  /  200 epochs\n"
     ]
    },
    {
     "name": "stderr",
     "output_type": "stream",
     "text": [
      "Epochs completed:  41%| ████████████████████████████████████████████▋                                                                 82/200 [00:08]"
     ]
    },
    {
     "name": "stdout",
     "output_type": "stream",
     "text": [
      "\tcompleted  80  /  200 epochs\n"
     ]
    },
    {
     "name": "stderr",
     "output_type": "stream",
     "text": [
      "Epochs completed:  52%| ███████████████████████████████████████████████████████▌                                                     103/200 [00:10]"
     ]
    },
    {
     "name": "stdout",
     "output_type": "stream",
     "text": [
      "\tcompleted  100  /  200 epochs\n"
     ]
    },
    {
     "name": "stderr",
     "output_type": "stream",
     "text": [
      "Epochs completed:  61%| █████████████████████████████████████████████████████████████████▉                                           122/200 [00:12]"
     ]
    },
    {
     "name": "stdout",
     "output_type": "stream",
     "text": [
      "\tcompleted  120  /  200 epochs\n"
     ]
    },
    {
     "name": "stderr",
     "output_type": "stream",
     "text": [
      "Epochs completed:  72%| █████████████████████████████████████████████████████████████████████████████▏                               143/200 [00:15]"
     ]
    },
    {
     "name": "stdout",
     "output_type": "stream",
     "text": [
      "\tcompleted  140  /  200 epochs\n"
     ]
    },
    {
     "name": "stderr",
     "output_type": "stream",
     "text": [
      "Epochs completed:  82%| ████████████████████████████████████████████████████████████████████████████████████████                     163/200 [00:17]"
     ]
    },
    {
     "name": "stdout",
     "output_type": "stream",
     "text": [
      "\tcompleted  160  /  200 epochs\n"
     ]
    },
    {
     "name": "stderr",
     "output_type": "stream",
     "text": [
      "Epochs completed:  91%| ██████████████████████████████████████████████████████████████████████████████████████████████████▎          182/200 [00:19]"
     ]
    },
    {
     "name": "stdout",
     "output_type": "stream",
     "text": [
      "\tcompleted  180  /  200 epochs\n"
     ]
    },
    {
     "name": "stderr",
     "output_type": "stream",
     "text": [
      "Epochs completed: 100%| ████████████████████████████████████████████████████████████████████████████████████████████████████████████ 200/200 [00:20]\n"
     ]
    },
    {
     "name": "stdout",
     "output_type": "stream",
     "text": [
      "Thu Feb 22 19:37:19 2024 Finished embedding\n",
      "TSNE\n",
      "--------------------------------------------------------------------------------\n",
      "TSNE(early_exaggeration=12, random_state=1, verbose=True)\n",
      "--------------------------------------------------------------------------------\n",
      "===> Finding 90 nearest neighbors using Annoy approximate search using euclidean distance...\n",
      "   --> Time elapsed: 26.06 seconds\n",
      "===> Calculating affinity matrix...\n",
      "   --> Time elapsed: 1.04 seconds\n",
      "===> Calculating PCA-based initialization...\n",
      "   --> Time elapsed: 0.16 seconds\n",
      "===> Running optimization with exaggeration=12.00, lr=5833.33 for 250 iterations...\n",
      "Iteration   50, KL divergence 5.9740, 50 iterations in 2.5842 sec\n",
      "Iteration  100, KL divergence 5.8357, 50 iterations in 2.5761 sec\n",
      "Iteration  150, KL divergence 5.7876, 50 iterations in 2.5689 sec\n",
      "Iteration  200, KL divergence 5.7698, 50 iterations in 2.5766 sec\n",
      "Iteration  250, KL divergence 5.7617, 50 iterations in 2.5878 sec\n",
      "   --> Time elapsed: 12.89 seconds\n",
      "===> Running optimization with exaggeration=1.00, lr=70000.00 for 500 iterations...\n",
      "Iteration   50, KL divergence 3.4685, 50 iterations in 2.6425 sec\n",
      "Iteration  100, KL divergence 3.1830, 50 iterations in 3.3214 sec\n",
      "Iteration  150, KL divergence 3.0372, 50 iterations in 4.1505 sec\n",
      "Iteration  200, KL divergence 2.9424, 50 iterations in 4.9128 sec\n",
      "Iteration  250, KL divergence 2.8740, 50 iterations in 5.6997 sec\n",
      "Iteration  300, KL divergence 2.8214, 50 iterations in 6.3744 sec\n",
      "Iteration  350, KL divergence 2.7791, 50 iterations in 7.5152 sec\n",
      "Iteration  400, KL divergence 2.7439, 50 iterations in 8.4778 sec\n",
      "Iteration  450, KL divergence 2.7142, 50 iterations in 9.4903 sec\n",
      "Iteration  500, KL divergence 2.6894, 50 iterations in 10.3143 sec\n",
      "   --> Time elapsed: 62.90 seconds\n",
      "mnist seed: 2 scaled: True\n",
      "PCA2\n",
      "PCA50\n",
      "UMAP\n",
      "UMAP(random_state=2, verbose=True)\n",
      "Thu Feb 22 19:39:07 2024 Construct fuzzy simplicial set\n",
      "Thu Feb 22 19:39:07 2024 Finding Nearest Neighbors\n",
      "Thu Feb 22 19:39:07 2024 Building RP forest with 18 trees\n"
     ]
    },
    {
     "name": "stderr",
     "output_type": "stream",
     "text": [
      "/home/jan/anaconda3/envs/seeing_the_elephant_env/lib/python3.11/site-packages/umap/umap_.py:1943: UserWarning: n_jobs value -1 overridden to 1 by setting random_state. Use no seed for parallelism.\n",
      "  warn(f\"n_jobs value {self.n_jobs} overridden to 1 by setting random_state. Use no seed for parallelism.\")\n"
     ]
    },
    {
     "name": "stdout",
     "output_type": "stream",
     "text": [
      "Thu Feb 22 19:39:07 2024 NN descent for 16 iterations\n",
      "\t 1  /  16\n",
      "\t 2  /  16\n",
      "\t 3  /  16\n",
      "\t 4  /  16\n",
      "\tStopping threshold met -- exiting after 4 iterations\n",
      "Thu Feb 22 19:39:09 2024 Finished Nearest Neighbor Search\n",
      "Thu Feb 22 19:39:09 2024 Construct embedding\n"
     ]
    },
    {
     "name": "stderr",
     "output_type": "stream",
     "text": [
      "Epochs completed:   2%| ██▏                                                                                                            4/200 [00:00]"
     ]
    },
    {
     "name": "stdout",
     "output_type": "stream",
     "text": [
      "\tcompleted  0  /  200 epochs\n"
     ]
    },
    {
     "name": "stderr",
     "output_type": "stream",
     "text": [
      "Epochs completed:  12%| ████████████▌                                                                                                 23/200 [00:02]"
     ]
    },
    {
     "name": "stdout",
     "output_type": "stream",
     "text": [
      "\tcompleted  20  /  200 epochs\n"
     ]
    },
    {
     "name": "stderr",
     "output_type": "stream",
     "text": [
      "Epochs completed:  22%| ███████████████████████▍                                                                                      43/200 [00:04]"
     ]
    },
    {
     "name": "stdout",
     "output_type": "stream",
     "text": [
      "\tcompleted  40  /  200 epochs\n"
     ]
    },
    {
     "name": "stderr",
     "output_type": "stream",
     "text": [
      "Epochs completed:  31%| █████████████████████████████████▊                                                                            62/200 [00:06]"
     ]
    },
    {
     "name": "stdout",
     "output_type": "stream",
     "text": [
      "\tcompleted  60  /  200 epochs\n"
     ]
    },
    {
     "name": "stderr",
     "output_type": "stream",
     "text": [
      "Epochs completed:  42%| █████████████████████████████████████████████▏                                                                83/200 [00:08]"
     ]
    },
    {
     "name": "stdout",
     "output_type": "stream",
     "text": [
      "\tcompleted  80  /  200 epochs\n"
     ]
    },
    {
     "name": "stderr",
     "output_type": "stream",
     "text": [
      "Epochs completed:  51%| ███████████████████████████████████████████████████████                                                      102/200 [00:10]"
     ]
    },
    {
     "name": "stdout",
     "output_type": "stream",
     "text": [
      "\tcompleted  100  /  200 epochs\n"
     ]
    },
    {
     "name": "stderr",
     "output_type": "stream",
     "text": [
      "Epochs completed:  61%| █████████████████████████████████████████████████████████████████▉                                           122/200 [00:12]"
     ]
    },
    {
     "name": "stdout",
     "output_type": "stream",
     "text": [
      "\tcompleted  120  /  200 epochs\n"
     ]
    },
    {
     "name": "stderr",
     "output_type": "stream",
     "text": [
      "Epochs completed:  72%| █████████████████████████████████████████████████████████████████████████████▏                               143/200 [00:15]"
     ]
    },
    {
     "name": "stdout",
     "output_type": "stream",
     "text": [
      "\tcompleted  140  /  200 epochs\n"
     ]
    },
    {
     "name": "stderr",
     "output_type": "stream",
     "text": [
      "Epochs completed:  82%| ████████████████████████████████████████████████████████████████████████████████████████                     163/200 [00:17]"
     ]
    },
    {
     "name": "stdout",
     "output_type": "stream",
     "text": [
      "\tcompleted  160  /  200 epochs\n"
     ]
    },
    {
     "name": "stderr",
     "output_type": "stream",
     "text": [
      "Epochs completed:  91%| ██████████████████████████████████████████████████████████████████████████████████████████████████▎          182/200 [00:19]"
     ]
    },
    {
     "name": "stdout",
     "output_type": "stream",
     "text": [
      "\tcompleted  180  /  200 epochs\n"
     ]
    },
    {
     "name": "stderr",
     "output_type": "stream",
     "text": [
      "Epochs completed: 100%| ████████████████████████████████████████████████████████████████████████████████████████████████████████████ 200/200 [00:21]\n"
     ]
    },
    {
     "name": "stdout",
     "output_type": "stream",
     "text": [
      "Thu Feb 22 19:39:37 2024 Finished embedding\n",
      "TSNE\n",
      "--------------------------------------------------------------------------------\n",
      "TSNE(early_exaggeration=12, random_state=2, verbose=True)\n",
      "--------------------------------------------------------------------------------\n",
      "===> Finding 90 nearest neighbors using Annoy approximate search using euclidean distance...\n",
      "   --> Time elapsed: 26.60 seconds\n",
      "===> Calculating affinity matrix...\n",
      "   --> Time elapsed: 1.08 seconds\n",
      "===> Calculating PCA-based initialization...\n",
      "   --> Time elapsed: 0.18 seconds\n",
      "===> Running optimization with exaggeration=12.00, lr=5833.33 for 250 iterations...\n",
      "Iteration   50, KL divergence 5.9737, 50 iterations in 2.7269 sec\n",
      "Iteration  100, KL divergence 5.8365, 50 iterations in 3.2250 sec\n",
      "Iteration  150, KL divergence 5.7886, 50 iterations in 2.9377 sec\n",
      "Iteration  200, KL divergence 5.7710, 50 iterations in 3.1052 sec\n",
      "Iteration  250, KL divergence 5.7631, 50 iterations in 3.0017 sec\n",
      "   --> Time elapsed: 15.00 seconds\n",
      "===> Running optimization with exaggeration=1.00, lr=70000.00 for 500 iterations...\n",
      "Iteration   50, KL divergence 3.4692, 50 iterations in 3.0095 sec\n",
      "Iteration  100, KL divergence 3.1843, 50 iterations in 4.2063 sec\n",
      "Iteration  150, KL divergence 3.0391, 50 iterations in 4.8703 sec\n",
      "Iteration  200, KL divergence 2.9447, 50 iterations in 4.9991 sec\n",
      "Iteration  250, KL divergence 2.8764, 50 iterations in 5.8805 sec\n",
      "Iteration  300, KL divergence 2.8240, 50 iterations in 6.5615 sec\n",
      "Iteration  350, KL divergence 2.7819, 50 iterations in 7.6649 sec\n",
      "Iteration  400, KL divergence 2.7468, 50 iterations in 9.0943 sec\n",
      "Iteration  450, KL divergence 2.7170, 50 iterations in 10.4519 sec\n",
      "Iteration  500, KL divergence 2.6923, 50 iterations in 10.9941 sec\n",
      "   --> Time elapsed: 67.73 seconds\n",
      "mnist seed: 3 scaled: True\n",
      "PCA2\n",
      "PCA50\n",
      "UMAP\n",
      "UMAP(random_state=3, verbose=True)\n",
      "Thu Feb 22 19:41:33 2024 Construct fuzzy simplicial set\n",
      "Thu Feb 22 19:41:33 2024 Finding Nearest Neighbors\n",
      "Thu Feb 22 19:41:33 2024 Building RP forest with 18 trees\n"
     ]
    },
    {
     "name": "stderr",
     "output_type": "stream",
     "text": [
      "/home/jan/anaconda3/envs/seeing_the_elephant_env/lib/python3.11/site-packages/umap/umap_.py:1943: UserWarning: n_jobs value -1 overridden to 1 by setting random_state. Use no seed for parallelism.\n",
      "  warn(f\"n_jobs value {self.n_jobs} overridden to 1 by setting random_state. Use no seed for parallelism.\")\n"
     ]
    },
    {
     "name": "stdout",
     "output_type": "stream",
     "text": [
      "Thu Feb 22 19:41:33 2024 NN descent for 16 iterations\n",
      "\t 1  /  16\n",
      "\t 2  /  16\n",
      "\t 3  /  16\n",
      "\t 4  /  16\n",
      "\tStopping threshold met -- exiting after 4 iterations\n",
      "Thu Feb 22 19:41:35 2024 Finished Nearest Neighbor Search\n",
      "Thu Feb 22 19:41:35 2024 Construct embedding\n"
     ]
    },
    {
     "name": "stderr",
     "output_type": "stream",
     "text": [
      "Epochs completed:   2%| ██▏                                                                                                            4/200 [00:00]"
     ]
    },
    {
     "name": "stdout",
     "output_type": "stream",
     "text": [
      "\tcompleted  0  /  200 epochs\n"
     ]
    },
    {
     "name": "stderr",
     "output_type": "stream",
     "text": [
      "Epochs completed:  11%| ███████████▉                                                                                                  22/200 [00:02]"
     ]
    },
    {
     "name": "stdout",
     "output_type": "stream",
     "text": [
      "\tcompleted  20  /  200 epochs\n"
     ]
    },
    {
     "name": "stderr",
     "output_type": "stream",
     "text": [
      "Epochs completed:  21%| ██████████████████████▉                                                                                       42/200 [00:04]"
     ]
    },
    {
     "name": "stdout",
     "output_type": "stream",
     "text": [
      "\tcompleted  40  /  200 epochs\n"
     ]
    },
    {
     "name": "stderr",
     "output_type": "stream",
     "text": [
      "Epochs completed:  32%| ██████████████████████████████████▎                                                                           63/200 [00:07]"
     ]
    },
    {
     "name": "stdout",
     "output_type": "stream",
     "text": [
      "\tcompleted  60  /  200 epochs\n"
     ]
    },
    {
     "name": "stderr",
     "output_type": "stream",
     "text": [
      "Epochs completed:  42%| █████████████████████████████████████████████▏                                                                83/200 [00:09]"
     ]
    },
    {
     "name": "stdout",
     "output_type": "stream",
     "text": [
      "\tcompleted  80  /  200 epochs\n"
     ]
    },
    {
     "name": "stderr",
     "output_type": "stream",
     "text": [
      "Epochs completed:  51%| ███████████████████████████████████████████████████████                                                      102/200 [00:11]"
     ]
    },
    {
     "name": "stdout",
     "output_type": "stream",
     "text": [
      "\tcompleted  100  /  200 epochs\n"
     ]
    },
    {
     "name": "stderr",
     "output_type": "stream",
     "text": [
      "Epochs completed:  61%| █████████████████████████████████████████████████████████████████▉                                           122/200 [00:13]"
     ]
    },
    {
     "name": "stdout",
     "output_type": "stream",
     "text": [
      "\tcompleted  120  /  200 epochs\n"
     ]
    },
    {
     "name": "stderr",
     "output_type": "stream",
     "text": [
      "Epochs completed:  70%| ████████████████████████████████████████████████████████████████████████████▏                                141/200 [00:15]"
     ]
    },
    {
     "name": "stdout",
     "output_type": "stream",
     "text": [
      "\tcompleted  140  /  200 epochs\n"
     ]
    },
    {
     "name": "stderr",
     "output_type": "stream",
     "text": [
      "Epochs completed:  82%| ████████████████████████████████████████████████████████████████████████████████████████                     163/200 [00:18]"
     ]
    },
    {
     "name": "stdout",
     "output_type": "stream",
     "text": [
      "\tcompleted  160  /  200 epochs\n"
     ]
    },
    {
     "name": "stderr",
     "output_type": "stream",
     "text": [
      "Epochs completed:  91%| ██████████████████████████████████████████████████████████████████████████████████████████████████▎          182/200 [00:20]"
     ]
    },
    {
     "name": "stdout",
     "output_type": "stream",
     "text": [
      "\tcompleted  180  /  200 epochs\n"
     ]
    },
    {
     "name": "stderr",
     "output_type": "stream",
     "text": [
      "Epochs completed: 100%| ████████████████████████████████████████████████████████████████████████████████████████████████████████████ 200/200 [00:22]\n"
     ]
    },
    {
     "name": "stdout",
     "output_type": "stream",
     "text": [
      "Thu Feb 22 19:42:04 2024 Finished embedding\n",
      "TSNE\n",
      "--------------------------------------------------------------------------------\n",
      "TSNE(early_exaggeration=12, random_state=3, verbose=True)\n",
      "--------------------------------------------------------------------------------\n",
      "===> Finding 90 nearest neighbors using Annoy approximate search using euclidean distance...\n",
      "   --> Time elapsed: 28.38 seconds\n",
      "===> Calculating affinity matrix...\n",
      "   --> Time elapsed: 1.16 seconds\n",
      "===> Calculating PCA-based initialization...\n",
      "   --> Time elapsed: 0.17 seconds\n",
      "===> Running optimization with exaggeration=12.00, lr=5833.33 for 250 iterations...\n",
      "Iteration   50, KL divergence 5.9734, 50 iterations in 2.7004 sec\n",
      "Iteration  100, KL divergence 5.8372, 50 iterations in 2.6574 sec\n",
      "Iteration  150, KL divergence 5.7897, 50 iterations in 2.7458 sec\n",
      "Iteration  200, KL divergence 5.7722, 50 iterations in 2.7583 sec\n",
      "Iteration  250, KL divergence 5.7641, 50 iterations in 2.7775 sec\n",
      "   --> Time elapsed: 13.64 seconds\n",
      "===> Running optimization with exaggeration=1.00, lr=70000.00 for 500 iterations...\n",
      "Iteration   50, KL divergence 3.4712, 50 iterations in 2.7128 sec\n",
      "Iteration  100, KL divergence 3.1863, 50 iterations in 3.3863 sec\n",
      "Iteration  150, KL divergence 3.0405, 50 iterations in 4.3098 sec\n",
      "Iteration  200, KL divergence 2.9461, 50 iterations in 5.2543 sec\n",
      "Iteration  250, KL divergence 2.8777, 50 iterations in 6.1472 sec\n",
      "Iteration  300, KL divergence 2.8251, 50 iterations in 6.7398 sec\n",
      "Iteration  350, KL divergence 2.7831, 50 iterations in 7.8178 sec\n",
      "Iteration  400, KL divergence 2.7479, 50 iterations in 8.8976 sec\n",
      "Iteration  450, KL divergence 2.7181, 50 iterations in 9.9959 sec\n",
      "Iteration  500, KL divergence 2.6932, 50 iterations in 10.8269 sec\n",
      "   --> Time elapsed: 66.09 seconds\n",
      "mnist seed: 4 scaled: True\n",
      "PCA2\n",
      "PCA50\n",
      "UMAP\n",
      "UMAP(random_state=4, verbose=True)\n",
      "Thu Feb 22 19:43:59 2024 Construct fuzzy simplicial set\n",
      "Thu Feb 22 19:43:59 2024 Finding Nearest Neighbors\n",
      "Thu Feb 22 19:43:59 2024 Building RP forest with 18 trees\n"
     ]
    },
    {
     "name": "stderr",
     "output_type": "stream",
     "text": [
      "/home/jan/anaconda3/envs/seeing_the_elephant_env/lib/python3.11/site-packages/umap/umap_.py:1943: UserWarning: n_jobs value -1 overridden to 1 by setting random_state. Use no seed for parallelism.\n",
      "  warn(f\"n_jobs value {self.n_jobs} overridden to 1 by setting random_state. Use no seed for parallelism.\")\n"
     ]
    },
    {
     "name": "stdout",
     "output_type": "stream",
     "text": [
      "Thu Feb 22 19:43:59 2024 NN descent for 16 iterations\n",
      "\t 1  /  16\n",
      "\t 2  /  16\n",
      "\t 3  /  16\n",
      "\t 4  /  16\n",
      "\tStopping threshold met -- exiting after 4 iterations\n",
      "Thu Feb 22 19:44:01 2024 Finished Nearest Neighbor Search\n",
      "Thu Feb 22 19:44:01 2024 Construct embedding\n"
     ]
    },
    {
     "name": "stderr",
     "output_type": "stream",
     "text": [
      "Epochs completed:   2%| ██▏                                                                                                            4/200 [00:01]"
     ]
    },
    {
     "name": "stdout",
     "output_type": "stream",
     "text": [
      "\tcompleted  0  /  200 epochs\n"
     ]
    },
    {
     "name": "stderr",
     "output_type": "stream",
     "text": [
      "Epochs completed:  12%| ████████████▌                                                                                                 23/200 [00:03]"
     ]
    },
    {
     "name": "stdout",
     "output_type": "stream",
     "text": [
      "\tcompleted  20  /  200 epochs\n"
     ]
    },
    {
     "name": "stderr",
     "output_type": "stream",
     "text": [
      "Epochs completed:  21%| ██████████████████████▉                                                                                       42/200 [00:05]"
     ]
    },
    {
     "name": "stdout",
     "output_type": "stream",
     "text": [
      "\tcompleted  40  /  200 epochs\n"
     ]
    },
    {
     "name": "stderr",
     "output_type": "stream",
     "text": [
      "Epochs completed:  31%| █████████████████████████████████▊                                                                            62/200 [00:07]"
     ]
    },
    {
     "name": "stdout",
     "output_type": "stream",
     "text": [
      "\tcompleted  60  /  200 epochs\n"
     ]
    },
    {
     "name": "stderr",
     "output_type": "stream",
     "text": [
      "Epochs completed:  41%| ████████████████████████████████████████████▋                                                                 82/200 [00:09]"
     ]
    },
    {
     "name": "stdout",
     "output_type": "stream",
     "text": [
      "\tcompleted  80  /  200 epochs\n"
     ]
    },
    {
     "name": "stderr",
     "output_type": "stream",
     "text": [
      "Epochs completed:  52%| ███████████████████████████████████████████████████████▌                                                     103/200 [00:11]"
     ]
    },
    {
     "name": "stdout",
     "output_type": "stream",
     "text": [
      "\tcompleted  100  /  200 epochs\n"
     ]
    },
    {
     "name": "stderr",
     "output_type": "stream",
     "text": [
      "Epochs completed:  61%| █████████████████████████████████████████████████████████████████▉                                           122/200 [00:13]"
     ]
    },
    {
     "name": "stdout",
     "output_type": "stream",
     "text": [
      "\tcompleted  120  /  200 epochs\n"
     ]
    },
    {
     "name": "stderr",
     "output_type": "stream",
     "text": [
      "Epochs completed:  72%| █████████████████████████████████████████████████████████████████████████████▏                               143/200 [00:15]"
     ]
    },
    {
     "name": "stdout",
     "output_type": "stream",
     "text": [
      "\tcompleted  140  /  200 epochs\n"
     ]
    },
    {
     "name": "stderr",
     "output_type": "stream",
     "text": [
      "Epochs completed:  81%| ███████████████████████████████████████████████████████████████████████████████████████▍                     162/200 [00:18]"
     ]
    },
    {
     "name": "stdout",
     "output_type": "stream",
     "text": [
      "\tcompleted  160  /  200 epochs\n"
     ]
    },
    {
     "name": "stderr",
     "output_type": "stream",
     "text": [
      "Epochs completed:  91%| ██████████████████████████████████████████████████████████████████████████████████████████████████▎          182/200 [00:20]"
     ]
    },
    {
     "name": "stdout",
     "output_type": "stream",
     "text": [
      "\tcompleted  180  /  200 epochs\n"
     ]
    },
    {
     "name": "stderr",
     "output_type": "stream",
     "text": [
      "Epochs completed: 100%| ████████████████████████████████████████████████████████████████████████████████████████████████████████████ 200/200 [00:22]\n"
     ]
    },
    {
     "name": "stdout",
     "output_type": "stream",
     "text": [
      "Thu Feb 22 19:44:30 2024 Finished embedding\n",
      "TSNE\n",
      "--------------------------------------------------------------------------------\n",
      "TSNE(early_exaggeration=12, random_state=4, verbose=True)\n",
      "--------------------------------------------------------------------------------\n",
      "===> Finding 90 nearest neighbors using Annoy approximate search using euclidean distance...\n",
      "   --> Time elapsed: 27.12 seconds\n",
      "===> Calculating affinity matrix...\n",
      "   --> Time elapsed: 1.04 seconds\n",
      "===> Calculating PCA-based initialization...\n",
      "   --> Time elapsed: 0.15 seconds\n",
      "===> Running optimization with exaggeration=12.00, lr=5833.33 for 250 iterations...\n",
      "Iteration   50, KL divergence 5.9730, 50 iterations in 2.5994 sec\n",
      "Iteration  100, KL divergence 5.8344, 50 iterations in 2.6587 sec\n",
      "Iteration  150, KL divergence 5.7859, 50 iterations in 2.5737 sec\n",
      "Iteration  200, KL divergence 5.7680, 50 iterations in 2.5694 sec\n",
      "Iteration  250, KL divergence 5.7598, 50 iterations in 2.5658 sec\n",
      "   --> Time elapsed: 12.97 seconds\n",
      "===> Running optimization with exaggeration=1.00, lr=70000.00 for 500 iterations...\n",
      "Iteration   50, KL divergence 3.4708, 50 iterations in 2.6661 sec\n",
      "Iteration  100, KL divergence 3.1857, 50 iterations in 3.3562 sec\n",
      "Iteration  150, KL divergence 3.0399, 50 iterations in 4.0707 sec\n",
      "Iteration  200, KL divergence 2.9452, 50 iterations in 4.8579 sec\n",
      "Iteration  250, KL divergence 2.8767, 50 iterations in 5.7432 sec\n",
      "Iteration  300, KL divergence 2.8242, 50 iterations in 6.4893 sec\n",
      "Iteration  350, KL divergence 2.7821, 50 iterations in 7.7592 sec\n",
      "Iteration  400, KL divergence 2.7469, 50 iterations in 8.7397 sec\n",
      "Iteration  450, KL divergence 2.7174, 50 iterations in 9.9751 sec\n",
      "Iteration  500, KL divergence 2.6927, 50 iterations in 10.4574 sec\n",
      "   --> Time elapsed: 64.12 seconds\n"
     ]
    },
    {
     "data": {
      "text/plain": [
       "[None, None, None, None]"
      ]
     },
     "execution_count": 5,
     "metadata": {},
     "output_type": "execute_result"
    }
   ],
   "source": [
    "###NOTE: elephant embeddings are computed in another conda environment (by Chari & Pachter) and separate notebook\n",
    "[compute_embeddings(ad=ad,seeds=np.arange(5)) for ad in datasets]"
   ]
  },
  {
   "cell_type": "markdown",
   "id": "9acd584a-1520-4a8d-ace2-f6f9536bbef3",
   "metadata": {},
   "source": [
    "### Package versions"
   ]
  },
  {
   "cell_type": "code",
   "execution_count": 2,
   "id": "219d702c-dd81-40da-81bf-dbf62bbaf1f0",
   "metadata": {
    "tags": []
   },
   "outputs": [
    {
     "data": {
      "text/plain": [
       "'1.24.3'"
      ]
     },
     "execution_count": 2,
     "metadata": {},
     "output_type": "execute_result"
    }
   ],
   "source": [
    "np.__version__"
   ]
  },
  {
   "cell_type": "code",
   "execution_count": 3,
   "id": "49c79276-0eca-4f74-87c0-fd40d09c24ed",
   "metadata": {
    "tags": []
   },
   "outputs": [
    {
     "data": {
      "text/plain": [
       "'0.10.3'"
      ]
     },
     "execution_count": 3,
     "metadata": {},
     "output_type": "execute_result"
    }
   ],
   "source": [
    "anndata.__version__"
   ]
  },
  {
   "cell_type": "code",
   "execution_count": 4,
   "id": "0f3632c4-64eb-4987-8774-9b46ca2d9176",
   "metadata": {
    "tags": []
   },
   "outputs": [
    {
     "data": {
      "text/plain": [
       "'1.3.0'"
      ]
     },
     "execution_count": 4,
     "metadata": {},
     "output_type": "execute_result"
    }
   ],
   "source": [
    "import sklearn; sklearn.__version__"
   ]
  },
  {
   "cell_type": "code",
   "execution_count": 5,
   "id": "6ac6198c-2bd5-4c18-b67b-1a2a16ec41cb",
   "metadata": {
    "tags": []
   },
   "outputs": [
    {
     "data": {
      "text/plain": [
       "'0.5.5'"
      ]
     },
     "execution_count": 5,
     "metadata": {},
     "output_type": "execute_result"
    }
   ],
   "source": [
    "import umap; umap.__version__"
   ]
  },
  {
   "cell_type": "code",
   "execution_count": 6,
   "id": "65aff982-3363-4eb4-85b7-9a23b55811e9",
   "metadata": {
    "tags": []
   },
   "outputs": [
    {
     "data": {
      "text/plain": [
       "'1.0.1'"
      ]
     },
     "execution_count": 6,
     "metadata": {},
     "output_type": "execute_result"
    }
   ],
   "source": [
    "import openTSNE; openTSNE.__version__"
   ]
  }
 ],
 "metadata": {
  "kernelspec": {
   "display_name": "Python 3 (ipykernel)",
   "language": "python",
   "name": "python3"
  },
  "language_info": {
   "codemirror_mode": {
    "name": "ipython",
    "version": 3
   },
   "file_extension": ".py",
   "mimetype": "text/x-python",
   "name": "python",
   "nbconvert_exporter": "python",
   "pygments_lexer": "ipython3",
   "version": "3.11.5"
  },
  "toc-autonumbering": true
 },
 "nbformat": 4,
 "nbformat_minor": 5
}
