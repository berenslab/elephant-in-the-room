{
 "cells": [
  {
   "cell_type": "code",
   "execution_count": 1,
   "id": "a1338ec2-a3ba-42e1-82d8-c6213b531a2a",
   "metadata": {
    "tags": []
   },
   "outputs": [
    {
     "name": "stderr",
     "output_type": "stream",
     "text": [
      "/home/jan/anaconda3/envs/elephant_analysis_env/lib/python3.11/site-packages/tqdm/auto.py:21: TqdmWarning: IProgress not found. Please update jupyter and ipywidgets. See https://ipywidgets.readthedocs.io/en/stable/user_install.html\n",
      "  from .autonotebook import tqdm as notebook_tqdm\n"
     ]
    }
   ],
   "source": [
    "import numpy as np\n",
    "import anndata\n",
    "\n",
    "from sklearn.decomposition import PCA\n",
    "from umap import UMAP\n",
    "from openTSNE import TSNE"
   ]
  },
  {
   "cell_type": "markdown",
   "id": "7d90cf10-db51-42e7-bb99-49f7a0cf76ac",
   "metadata": {},
   "source": [
    "### Load datasets"
   ]
  },
  {
   "cell_type": "code",
   "execution_count": 2,
   "id": "82dfd32d-bf36-4125-8759-c705b0784b57",
   "metadata": {
    "tags": []
   },
   "outputs": [],
   "source": [
    "adata_exut=anndata.read_h5ad(\"../data/preprocessed/exut_adata.h5ad\")\n",
    "adata_sim = anndata.read_h5ad('../data/preprocessed/exut-sim-theta-10-real-seqdepths_adata.h5ad')\n",
    "adata_merfish=anndata.read_h5ad(\"../data/preprocessed/merfish_adata.h5ad\")\n",
    "adata_smartseq=anndata.read_h5ad(\"../data/preprocessed/smartseq_adata.h5ad\")\n",
    "adata_mnist=anndata.read_h5ad(\"../data/preprocessed/mnist_adata.h5ad\")\n",
    "\n",
    "datasets = [adata_exut,adata_merfish,adata_smartseq,adata_mnist,adata_sim]"
   ]
  },
  {
   "cell_type": "code",
   "execution_count": 3,
   "id": "81983707-728b-4d1b-88e0-df64ccbdb637",
   "metadata": {
    "tags": []
   },
   "outputs": [
    {
     "name": "stdout",
     "output_type": "stream",
     "text": [
      "exut 19\n",
      "merfish 25\n",
      "smartseq 28\n",
      "mnist 10\n",
      "exut-sim-theta-10-real-seqdepths 19\n"
     ]
    }
   ],
   "source": [
    "#number of classes per dataset\n",
    "for ad in datasets:\n",
    "    print(ad.uns['dataset'],len(np.unique(ad.obs['clusterlabels'])),sep=' ')"
   ]
  },
  {
   "cell_type": "code",
   "execution_count": 4,
   "id": "c6045375-e47b-4fbb-85c7-ecf264b6e796",
   "metadata": {
    "tags": []
   },
   "outputs": [],
   "source": [
    "def compute_embeddings(ad,seeds):\n",
    "    \n",
    "    dataset = ad.uns['dataset']\n",
    "    \n",
    "    #compute for scaled and unscaled data for main datasets\n",
    "    if dataset in ['exut','merfish','smartseq']:\n",
    "        use_scaled_modes = [False, True]\n",
    "        print('running on scaled and unscaled data for', dataset)\n",
    "    #only use unscaled for additional datasets\n",
    "    else:\n",
    "        use_scaled_modes = [False]\n",
    "        print('running only on unscaled data for', dataset)\n",
    "        \n",
    "    for use_scaled in use_scaled_modes:\n",
    "        \n",
    "        if use_scaled:\n",
    "            x_hd = ad.layers['X_scaled']\n",
    "            scaled_str = '_scaled'\n",
    "        else:\n",
    "            x_hd = ad.X\n",
    "            scaled_str = ''\n",
    "        \n",
    "        for i,seed in enumerate(seeds):\n",
    "\n",
    "            print(dataset, 'seed:', seed, 'scaled:', use_scaled)\n",
    "\n",
    "            pca2 = PCA(random_state=seed,n_components=2)\n",
    "            pca50 = PCA(random_state=seed,n_components=50)\n",
    "            umap=UMAP(random_state=seed,verbose=True)\n",
    "            tsne=TSNE(random_state=seed,verbose=True)\n",
    "\n",
    "            id_str = f'seed_{seed}'\n",
    "\n",
    "            print('PCA2')\n",
    "            x_pca2 = pca2.fit_transform(x_hd)\n",
    "            print('PCA50')\n",
    "            x_pca50 = pca50.fit_transform(x_hd)\n",
    "            print('UMAP')\n",
    "            x_umap = umap.fit_transform(x_pca50)\n",
    "            print('TSNE')\n",
    "            x_tsne = tsne.fit(x_pca50)\n",
    "\n",
    "            ad.obsm[f'x{scaled_str}_pca2_{id_str}'] = x_pca2\n",
    "            ad.obsm[f'x{scaled_str}_pca50_{id_str}'] = x_pca50\n",
    "            ad.obsm[f'x{scaled_str}_umap_{id_str}'] = x_umap\n",
    "            ad.obsm[f'x{scaled_str}_tsne_{id_str}'] = np.array(x_tsne)\n",
    "\n",
    "            np.save(f'../results/embeddings/npy/{dataset}_x{scaled_str}_pca2_{id_str}.npy',x_pca2,allow_pickle=False)\n",
    "            np.save(f'../results/embeddings/npy/{dataset}_x{scaled_str}_pca50_{id_str}.npy',x_pca50,allow_pickle=False)\n",
    "            np.save(f'../results/embeddings/npy/{dataset}_x{scaled_str}_umap_{id_str}.npy',x_umap,allow_pickle=False)\n",
    "            np.save(f'../results/embeddings/npy/{dataset}_x{scaled_str}_tsne_{id_str}.npy',x_tsne,allow_pickle=False)\n",
    "    \n",
    "    ad.uns['seeds']=seeds\n",
    "    ad.write_h5ad(f'../results/embeddings/{dataset}_adata_standard_embeddings.h5ad')"
   ]
  },
  {
   "cell_type": "code",
   "execution_count": 5,
   "id": "7e0f0dbb-72c5-4d79-b410-cb6cbeb5ce3e",
   "metadata": {
    "tags": []
   },
   "outputs": [
    {
     "name": "stdout",
     "output_type": "stream",
     "text": [
      "running on scaled and unscaled data for exut\n",
      "exut seed: 0 scaled: False\n",
      "PCA2\n",
      "PCA50\n",
      "UMAP\n",
      "UMAP(random_state=0, verbose=True)\n",
      "Tue Mar 26 12:02:39 2024 Construct fuzzy simplicial set\n",
      "Tue Mar 26 12:02:39 2024 Finding Nearest Neighbors\n",
      "Tue Mar 26 12:02:39 2024 Building RP forest with 9 trees\n"
     ]
    },
    {
     "name": "stderr",
     "output_type": "stream",
     "text": [
      "/home/jan/anaconda3/envs/elephant_analysis_env/lib/python3.11/site-packages/umap/umap_.py:1943: UserWarning: n_jobs value -1 overridden to 1 by setting random_state. Use no seed for parallelism.\n",
      "  warn(f\"n_jobs value {self.n_jobs} overridden to 1 by setting random_state. Use no seed for parallelism.\")\n"
     ]
    },
    {
     "name": "stdout",
     "output_type": "stream",
     "text": [
      "Tue Mar 26 12:02:41 2024 NN descent for 13 iterations\n",
      "\t 1  /  13\n",
      "\t 2  /  13\n",
      "\t 3  /  13\n",
      "\t 4  /  13\n",
      "\tStopping threshold met -- exiting after 4 iterations\n",
      "Tue Mar 26 12:02:46 2024 Finished Nearest Neighbor Search\n",
      "Tue Mar 26 12:02:47 2024 Construct embedding\n"
     ]
    },
    {
     "name": "stderr",
     "output_type": "stream",
     "text": [
      "Epochs completed:   3%| █                                         13/500 [00:00]"
     ]
    },
    {
     "name": "stdout",
     "output_type": "stream",
     "text": [
      "\tcompleted  0  /  500 epochs\n"
     ]
    },
    {
     "name": "stderr",
     "output_type": "stream",
     "text": [
      "Epochs completed:  14%| █████▌                                    68/500 [00:01]"
     ]
    },
    {
     "name": "stdout",
     "output_type": "stream",
     "text": [
      "\tcompleted  50  /  500 epochs\n"
     ]
    },
    {
     "name": "stderr",
     "output_type": "stream",
     "text": [
      "Epochs completed:  22%| ████████▉                                112/500 [00:01]"
     ]
    },
    {
     "name": "stdout",
     "output_type": "stream",
     "text": [
      "\tcompleted  100  /  500 epochs\n"
     ]
    },
    {
     "name": "stderr",
     "output_type": "stream",
     "text": [
      "Epochs completed:  33%| █████████████▎                           167/500 [00:01]"
     ]
    },
    {
     "name": "stdout",
     "output_type": "stream",
     "text": [
      "\tcompleted  150  /  500 epochs\n"
     ]
    },
    {
     "name": "stderr",
     "output_type": "stream",
     "text": [
      "Epochs completed:  44%| █████████████████▊                       222/500 [00:02]"
     ]
    },
    {
     "name": "stdout",
     "output_type": "stream",
     "text": [
      "\tcompleted  200  /  500 epochs\n"
     ]
    },
    {
     "name": "stderr",
     "output_type": "stream",
     "text": [
      "Epochs completed:  53%| █████████████████████▎                   266/500 [00:02]"
     ]
    },
    {
     "name": "stdout",
     "output_type": "stream",
     "text": [
      "\tcompleted  250  /  500 epochs\n"
     ]
    },
    {
     "name": "stderr",
     "output_type": "stream",
     "text": [
      "Epochs completed:  64%| █████████████████████████▌               319/500 [00:03]"
     ]
    },
    {
     "name": "stdout",
     "output_type": "stream",
     "text": [
      "\tcompleted  300  /  500 epochs\n"
     ]
    },
    {
     "name": "stderr",
     "output_type": "stream",
     "text": [
      "Epochs completed:  74%| █████████████████████████████▋           371/500 [00:04]"
     ]
    },
    {
     "name": "stdout",
     "output_type": "stream",
     "text": [
      "\tcompleted  350  /  500 epochs\n"
     ]
    },
    {
     "name": "stderr",
     "output_type": "stream",
     "text": [
      "Epochs completed:  83%| █████████████████████████████████▏       415/500 [00:04]"
     ]
    },
    {
     "name": "stdout",
     "output_type": "stream",
     "text": [
      "\tcompleted  400  /  500 epochs\n"
     ]
    },
    {
     "name": "stderr",
     "output_type": "stream",
     "text": [
      "Epochs completed:  94%| █████████████████████████████████████▌   470/500 [00:04]"
     ]
    },
    {
     "name": "stdout",
     "output_type": "stream",
     "text": [
      "\tcompleted  450  /  500 epochs\n"
     ]
    },
    {
     "name": "stderr",
     "output_type": "stream",
     "text": [
      "Epochs completed: 100%| ████████████████████████████████████████ 500/500 [00:05]\n"
     ]
    },
    {
     "name": "stdout",
     "output_type": "stream",
     "text": [
      "Tue Mar 26 12:02:52 2024 Finished embedding\n",
      "TSNE\n",
      "--------------------------------------------------------------------------------\n",
      "TSNE(early_exaggeration=12, random_state=0, verbose=True)\n",
      "--------------------------------------------------------------------------------\n",
      "===> Finding 90 nearest neighbors using Annoy approximate search using euclidean distance...\n",
      "   --> Time elapsed: 1.48 seconds\n",
      "===> Calculating affinity matrix...\n",
      "   --> Time elapsed: 0.10 seconds\n",
      "===> Calculating PCA-based initialization...\n",
      "   --> Time elapsed: 0.01 seconds\n",
      "===> Running optimization with exaggeration=12.00, lr=517.08 for 250 iterations...\n",
      "Iteration   50, KL divergence 3.5645, 50 iterations in 4.9174 sec\n",
      "Iteration  100, KL divergence 3.4640, 50 iterations in 4.3886 sec\n",
      "Iteration  150, KL divergence 3.4262, 50 iterations in 4.1709 sec\n",
      "Iteration  200, KL divergence 3.4112, 50 iterations in 4.2071 sec\n",
      "Iteration  250, KL divergence 3.4031, 50 iterations in 4.1976 sec\n",
      "   --> Time elapsed: 21.88 seconds\n",
      "===> Running optimization with exaggeration=1.00, lr=6205.00 for 500 iterations...\n",
      "Iteration   50, KL divergence 1.6155, 50 iterations in 4.2017 sec\n",
      "Iteration  100, KL divergence 1.4664, 50 iterations in 4.1453 sec\n",
      "Iteration  150, KL divergence 1.4061, 50 iterations in 4.2124 sec\n",
      "Iteration  200, KL divergence 1.3722, 50 iterations in 4.4634 sec\n",
      "Iteration  250, KL divergence 1.3506, 50 iterations in 4.5011 sec\n",
      "Iteration  300, KL divergence 1.3350, 50 iterations in 4.5388 sec\n",
      "Iteration  350, KL divergence 1.3231, 50 iterations in 4.3236 sec\n",
      "Iteration  400, KL divergence 1.3140, 50 iterations in 4.3322 sec\n",
      "Iteration  450, KL divergence 1.3067, 50 iterations in 4.2103 sec\n",
      "Iteration  500, KL divergence 1.3008, 50 iterations in 4.2415 sec\n",
      "   --> Time elapsed: 43.17 seconds\n",
      "exut seed: 1 scaled: False\n",
      "PCA2\n",
      "PCA50\n",
      "UMAP\n",
      "UMAP(random_state=1, verbose=True)\n",
      "Tue Mar 26 12:04:00 2024 Construct fuzzy simplicial set\n",
      "Tue Mar 26 12:04:00 2024 Finding Nearest Neighbors\n",
      "Tue Mar 26 12:04:00 2024 Building RP forest with 9 trees\n",
      "Tue Mar 26 12:04:00 2024 NN descent for 13 iterations\n",
      "\t 1  /  13\n",
      "\t 2  /  13\n"
     ]
    },
    {
     "name": "stderr",
     "output_type": "stream",
     "text": [
      "/home/jan/anaconda3/envs/elephant_analysis_env/lib/python3.11/site-packages/umap/umap_.py:1943: UserWarning: n_jobs value -1 overridden to 1 by setting random_state. Use no seed for parallelism.\n",
      "  warn(f\"n_jobs value {self.n_jobs} overridden to 1 by setting random_state. Use no seed for parallelism.\")\n"
     ]
    },
    {
     "name": "stdout",
     "output_type": "stream",
     "text": [
      "\t 3  /  13\n",
      "\t 4  /  13\n",
      "\tStopping threshold met -- exiting after 4 iterations\n",
      "Tue Mar 26 12:04:00 2024 Finished Nearest Neighbor Search\n",
      "Tue Mar 26 12:04:00 2024 Construct embedding\n"
     ]
    },
    {
     "name": "stderr",
     "output_type": "stream",
     "text": [
      "Epochs completed:   2%| ▉                                         12/500 [00:00]"
     ]
    },
    {
     "name": "stdout",
     "output_type": "stream",
     "text": [
      "\tcompleted  0  /  500 epochs\n"
     ]
    },
    {
     "name": "stderr",
     "output_type": "stream",
     "text": [
      "Epochs completed:  12%| █████                                     61/500 [00:01]"
     ]
    },
    {
     "name": "stdout",
     "output_type": "stream",
     "text": [
      "\tcompleted  50  /  500 epochs\n"
     ]
    },
    {
     "name": "stderr",
     "output_type": "stream",
     "text": [
      "Epochs completed:  23%| █████████▎                               117/500 [00:01]"
     ]
    },
    {
     "name": "stdout",
     "output_type": "stream",
     "text": [
      "\tcompleted  100  /  500 epochs\n"
     ]
    },
    {
     "name": "stderr",
     "output_type": "stream",
     "text": [
      "Epochs completed:  33%| █████████████                            164/500 [00:02]"
     ]
    },
    {
     "name": "stdout",
     "output_type": "stream",
     "text": [
      "\tcompleted  150  /  500 epochs\n"
     ]
    },
    {
     "name": "stderr",
     "output_type": "stream",
     "text": [
      "Epochs completed:  42%| ████████████████▉                        211/500 [00:02]"
     ]
    },
    {
     "name": "stdout",
     "output_type": "stream",
     "text": [
      "\tcompleted  200  /  500 epochs\n"
     ]
    },
    {
     "name": "stderr",
     "output_type": "stream",
     "text": [
      "Epochs completed:  52%| ████████████████████▉                    261/500 [00:03]"
     ]
    },
    {
     "name": "stdout",
     "output_type": "stream",
     "text": [
      "\tcompleted  250  /  500 epochs\n"
     ]
    },
    {
     "name": "stderr",
     "output_type": "stream",
     "text": [
      "Epochs completed:  62%| ████████████████████████▉                311/500 [00:03]"
     ]
    },
    {
     "name": "stdout",
     "output_type": "stream",
     "text": [
      "\tcompleted  300  /  500 epochs\n"
     ]
    },
    {
     "name": "stderr",
     "output_type": "stream",
     "text": [
      "Epochs completed:  74%| █████████████████████████████▍           368/500 [00:04]"
     ]
    },
    {
     "name": "stdout",
     "output_type": "stream",
     "text": [
      "\tcompleted  350  /  500 epochs\n"
     ]
    },
    {
     "name": "stderr",
     "output_type": "stream",
     "text": [
      "Epochs completed:  84%| █████████████████████████████████▍       418/500 [00:05]"
     ]
    },
    {
     "name": "stdout",
     "output_type": "stream",
     "text": [
      "\tcompleted  400  /  500 epochs\n"
     ]
    },
    {
     "name": "stderr",
     "output_type": "stream",
     "text": [
      "Epochs completed:  94%| █████████████████████████████████████▍   468/500 [00:05]"
     ]
    },
    {
     "name": "stdout",
     "output_type": "stream",
     "text": [
      "\tcompleted  450  /  500 epochs\n"
     ]
    },
    {
     "name": "stderr",
     "output_type": "stream",
     "text": [
      "Epochs completed: 100%| ████████████████████████████████████████ 500/500 [00:06]\n"
     ]
    },
    {
     "name": "stdout",
     "output_type": "stream",
     "text": [
      "Tue Mar 26 12:04:06 2024 Finished embedding\n",
      "TSNE\n",
      "--------------------------------------------------------------------------------\n",
      "TSNE(early_exaggeration=12, random_state=1, verbose=True)\n",
      "--------------------------------------------------------------------------------\n",
      "===> Finding 90 nearest neighbors using Annoy approximate search using euclidean distance...\n",
      "   --> Time elapsed: 1.59 seconds\n",
      "===> Calculating affinity matrix...\n",
      "   --> Time elapsed: 0.09 seconds\n",
      "===> Calculating PCA-based initialization...\n",
      "   --> Time elapsed: 0.01 seconds\n",
      "===> Running optimization with exaggeration=12.00, lr=517.08 for 250 iterations...\n",
      "Iteration   50, KL divergence 3.5535, 50 iterations in 5.3023 sec\n",
      "Iteration  100, KL divergence 3.4676, 50 iterations in 4.5582 sec\n",
      "Iteration  150, KL divergence 3.4309, 50 iterations in 4.5557 sec\n",
      "Iteration  200, KL divergence 3.4150, 50 iterations in 4.5836 sec\n",
      "Iteration  250, KL divergence 3.4057, 50 iterations in 4.4897 sec\n",
      "   --> Time elapsed: 23.49 seconds\n",
      "===> Running optimization with exaggeration=1.00, lr=6205.00 for 500 iterations...\n",
      "Iteration   50, KL divergence 1.6170, 50 iterations in 4.5523 sec\n",
      "Iteration  100, KL divergence 1.4705, 50 iterations in 4.4270 sec\n",
      "Iteration  150, KL divergence 1.4108, 50 iterations in 4.4328 sec\n",
      "Iteration  200, KL divergence 1.3774, 50 iterations in 4.3626 sec\n",
      "Iteration  250, KL divergence 1.3556, 50 iterations in 4.3578 sec\n",
      "Iteration  300, KL divergence 1.3407, 50 iterations in 4.4694 sec\n",
      "Iteration  350, KL divergence 1.3295, 50 iterations in 4.4333 sec\n",
      "Iteration  400, KL divergence 1.3205, 50 iterations in 4.5324 sec\n",
      "Iteration  450, KL divergence 1.3133, 50 iterations in 4.6063 sec\n",
      "Iteration  500, KL divergence 1.3075, 50 iterations in 4.6061 sec\n",
      "   --> Time elapsed: 44.78 seconds\n",
      "exut seed: 2 scaled: False\n",
      "PCA2\n",
      "PCA50\n",
      "UMAP\n",
      "UMAP(random_state=2, verbose=True)\n",
      "Tue Mar 26 12:05:17 2024 Construct fuzzy simplicial set\n",
      "Tue Mar 26 12:05:17 2024 Finding Nearest Neighbors\n",
      "Tue Mar 26 12:05:17 2024 Building RP forest with 9 trees\n",
      "Tue Mar 26 12:05:18 2024 NN descent for 13 iterations\n",
      "\t 1  /  13\n",
      "\t 2  /  13\n",
      "\t 3  /  13\n",
      "\t 4  /  13\n"
     ]
    },
    {
     "name": "stderr",
     "output_type": "stream",
     "text": [
      "/home/jan/anaconda3/envs/elephant_analysis_env/lib/python3.11/site-packages/umap/umap_.py:1943: UserWarning: n_jobs value -1 overridden to 1 by setting random_state. Use no seed for parallelism.\n",
      "  warn(f\"n_jobs value {self.n_jobs} overridden to 1 by setting random_state. Use no seed for parallelism.\")\n"
     ]
    },
    {
     "name": "stdout",
     "output_type": "stream",
     "text": [
      "\tStopping threshold met -- exiting after 4 iterations\n",
      "Tue Mar 26 12:05:18 2024 Finished Nearest Neighbor Search\n",
      "Tue Mar 26 12:05:18 2024 Construct embedding\n"
     ]
    },
    {
     "name": "stderr",
     "output_type": "stream",
     "text": [
      "Epochs completed:   3%| █                                         13/500 [00:00]"
     ]
    },
    {
     "name": "stdout",
     "output_type": "stream",
     "text": [
      "\tcompleted  0  /  500 epochs\n"
     ]
    },
    {
     "name": "stderr",
     "output_type": "stream",
     "text": [
      "Epochs completed:  13%| █████▏                                    63/500 [00:01]"
     ]
    },
    {
     "name": "stdout",
     "output_type": "stream",
     "text": [
      "\tcompleted  50  /  500 epochs\n"
     ]
    },
    {
     "name": "stderr",
     "output_type": "stream",
     "text": [
      "Epochs completed:  23%| █████████                                113/500 [00:01]"
     ]
    },
    {
     "name": "stdout",
     "output_type": "stream",
     "text": [
      "\tcompleted  100  /  500 epochs\n"
     ]
    },
    {
     "name": "stderr",
     "output_type": "stream",
     "text": [
      "Epochs completed:  33%| █████████████                            163/500 [00:02]"
     ]
    },
    {
     "name": "stdout",
     "output_type": "stream",
     "text": [
      "\tcompleted  150  /  500 epochs\n"
     ]
    },
    {
     "name": "stderr",
     "output_type": "stream",
     "text": [
      "Epochs completed:  43%| █████████████████                        213/500 [00:02]"
     ]
    },
    {
     "name": "stdout",
     "output_type": "stream",
     "text": [
      "\tcompleted  200  /  500 epochs\n"
     ]
    },
    {
     "name": "stderr",
     "output_type": "stream",
     "text": [
      "Epochs completed:  53%| █████████████████████                    263/500 [00:03]"
     ]
    },
    {
     "name": "stdout",
     "output_type": "stream",
     "text": [
      "\tcompleted  250  /  500 epochs\n"
     ]
    },
    {
     "name": "stderr",
     "output_type": "stream",
     "text": [
      "Epochs completed:  63%| █████████████████████████                313/500 [00:03]"
     ]
    },
    {
     "name": "stdout",
     "output_type": "stream",
     "text": [
      "\tcompleted  300  /  500 epochs\n"
     ]
    },
    {
     "name": "stderr",
     "output_type": "stream",
     "text": [
      "Epochs completed:  73%| █████████████████████████████            363/500 [00:04]"
     ]
    },
    {
     "name": "stdout",
     "output_type": "stream",
     "text": [
      "\tcompleted  350  /  500 epochs\n"
     ]
    },
    {
     "name": "stderr",
     "output_type": "stream",
     "text": [
      "Epochs completed:  83%| █████████████████████████████████        413/500 [00:04]"
     ]
    },
    {
     "name": "stdout",
     "output_type": "stream",
     "text": [
      "\tcompleted  400  /  500 epochs\n"
     ]
    },
    {
     "name": "stderr",
     "output_type": "stream",
     "text": [
      "Epochs completed:  93%| █████████████████████████████████████    463/500 [00:05]"
     ]
    },
    {
     "name": "stdout",
     "output_type": "stream",
     "text": [
      "\tcompleted  450  /  500 epochs\n"
     ]
    },
    {
     "name": "stderr",
     "output_type": "stream",
     "text": [
      "Epochs completed: 100%| ████████████████████████████████████████ 500/500 [00:05]\n"
     ]
    },
    {
     "name": "stdout",
     "output_type": "stream",
     "text": [
      "Tue Mar 26 12:05:23 2024 Finished embedding\n",
      "TSNE\n",
      "--------------------------------------------------------------------------------\n",
      "TSNE(early_exaggeration=12, random_state=2, verbose=True)\n",
      "--------------------------------------------------------------------------------\n",
      "===> Finding 90 nearest neighbors using Annoy approximate search using euclidean distance...\n",
      "   --> Time elapsed: 1.58 seconds\n",
      "===> Calculating affinity matrix...\n",
      "   --> Time elapsed: 0.09 seconds\n",
      "===> Calculating PCA-based initialization...\n",
      "   --> Time elapsed: 0.01 seconds\n",
      "===> Running optimization with exaggeration=12.00, lr=517.08 for 250 iterations...\n",
      "Iteration   50, KL divergence 3.5582, 50 iterations in 5.1070 sec\n",
      "Iteration  100, KL divergence 3.4671, 50 iterations in 4.6173 sec\n",
      "Iteration  150, KL divergence 3.4310, 50 iterations in 4.4874 sec\n",
      "Iteration  200, KL divergence 3.4153, 50 iterations in 4.5492 sec\n",
      "Iteration  250, KL divergence 3.4059, 50 iterations in 4.6134 sec\n",
      "   --> Time elapsed: 23.37 seconds\n",
      "===> Running optimization with exaggeration=1.00, lr=6205.00 for 500 iterations...\n",
      "Iteration   50, KL divergence 1.6241, 50 iterations in 4.5366 sec\n",
      "Iteration  100, KL divergence 1.4754, 50 iterations in 4.4549 sec\n",
      "Iteration  150, KL divergence 1.4141, 50 iterations in 4.5003 sec\n",
      "Iteration  200, KL divergence 1.3801, 50 iterations in 4.4358 sec\n",
      "Iteration  250, KL divergence 1.3584, 50 iterations in 4.5022 sec\n",
      "Iteration  300, KL divergence 1.3425, 50 iterations in 4.4796 sec\n",
      "Iteration  350, KL divergence 1.3306, 50 iterations in 4.4504 sec\n",
      "Iteration  400, KL divergence 1.3218, 50 iterations in 4.3766 sec\n",
      "Iteration  450, KL divergence 1.3146, 50 iterations in 4.4054 sec\n",
      "Iteration  500, KL divergence 1.3086, 50 iterations in 4.4480 sec\n",
      "   --> Time elapsed: 44.59 seconds\n",
      "exut seed: 3 scaled: False\n",
      "PCA2\n",
      "PCA50\n",
      "UMAP\n",
      "UMAP(random_state=3, verbose=True)\n",
      "Tue Mar 26 12:06:34 2024 Construct fuzzy simplicial set\n",
      "Tue Mar 26 12:06:34 2024 Finding Nearest Neighbors\n",
      "Tue Mar 26 12:06:34 2024 Building RP forest with 9 trees\n",
      "Tue Mar 26 12:06:34 2024 NN descent for 13 iterations\n",
      "\t 1  /  13\n",
      "\t 2  /  13\n",
      "\t 3  /  13\n",
      "\t 4  /  13\n",
      "\tStopping threshold met -- exiting after 4 iterations\n",
      "Tue Mar 26 12:06:34 2024 Finished Nearest Neighbor Search\n"
     ]
    },
    {
     "name": "stderr",
     "output_type": "stream",
     "text": [
      "/home/jan/anaconda3/envs/elephant_analysis_env/lib/python3.11/site-packages/umap/umap_.py:1943: UserWarning: n_jobs value -1 overridden to 1 by setting random_state. Use no seed for parallelism.\n",
      "  warn(f\"n_jobs value {self.n_jobs} overridden to 1 by setting random_state. Use no seed for parallelism.\")\n"
     ]
    },
    {
     "name": "stdout",
     "output_type": "stream",
     "text": [
      "Tue Mar 26 12:06:34 2024 Construct embedding\n"
     ]
    },
    {
     "name": "stderr",
     "output_type": "stream",
     "text": [
      "Epochs completed:   3%| █                                         13/500 [00:00]"
     ]
    },
    {
     "name": "stdout",
     "output_type": "stream",
     "text": [
      "\tcompleted  0  /  500 epochs\n"
     ]
    },
    {
     "name": "stderr",
     "output_type": "stream",
     "text": [
      "Epochs completed:  13%| █████▏                                    63/500 [00:01]"
     ]
    },
    {
     "name": "stdout",
     "output_type": "stream",
     "text": [
      "\tcompleted  50  /  500 epochs\n"
     ]
    },
    {
     "name": "stderr",
     "output_type": "stream",
     "text": [
      "Epochs completed:  23%| █████████                                113/500 [00:01]"
     ]
    },
    {
     "name": "stdout",
     "output_type": "stream",
     "text": [
      "\tcompleted  100  /  500 epochs\n"
     ]
    },
    {
     "name": "stderr",
     "output_type": "stream",
     "text": [
      "Epochs completed:  33%| █████████████                            163/500 [00:02]"
     ]
    },
    {
     "name": "stdout",
     "output_type": "stream",
     "text": [
      "\tcompleted  150  /  500 epochs\n"
     ]
    },
    {
     "name": "stderr",
     "output_type": "stream",
     "text": [
      "Epochs completed:  43%| █████████████████▏                       215/500 [00:02]"
     ]
    },
    {
     "name": "stdout",
     "output_type": "stream",
     "text": [
      "\tcompleted  200  /  500 epochs\n"
     ]
    },
    {
     "name": "stderr",
     "output_type": "stream",
     "text": [
      "Epochs completed:  53%| █████████████████████▏                   265/500 [00:03]"
     ]
    },
    {
     "name": "stdout",
     "output_type": "stream",
     "text": [
      "\tcompleted  250  /  500 epochs\n"
     ]
    },
    {
     "name": "stderr",
     "output_type": "stream",
     "text": [
      "Epochs completed:  63%| █████████████████████████▎               316/500 [00:03]"
     ]
    },
    {
     "name": "stdout",
     "output_type": "stream",
     "text": [
      "\tcompleted  300  /  500 epochs\n"
     ]
    },
    {
     "name": "stderr",
     "output_type": "stream",
     "text": [
      "Epochs completed:  73%| █████████████████████████████▎           366/500 [00:04]"
     ]
    },
    {
     "name": "stdout",
     "output_type": "stream",
     "text": [
      "\tcompleted  350  /  500 epochs\n"
     ]
    },
    {
     "name": "stderr",
     "output_type": "stream",
     "text": [
      "Epochs completed:  83%| █████████████████████████████████▎       417/500 [00:04]"
     ]
    },
    {
     "name": "stdout",
     "output_type": "stream",
     "text": [
      "\tcompleted  400  /  500 epochs\n"
     ]
    },
    {
     "name": "stderr",
     "output_type": "stream",
     "text": [
      "Epochs completed:  94%| █████████████████████████████████████▌   469/500 [00:05]"
     ]
    },
    {
     "name": "stdout",
     "output_type": "stream",
     "text": [
      "\tcompleted  450  /  500 epochs\n"
     ]
    },
    {
     "name": "stderr",
     "output_type": "stream",
     "text": [
      "Epochs completed: 100%| ████████████████████████████████████████ 500/500 [00:05]\n"
     ]
    },
    {
     "name": "stdout",
     "output_type": "stream",
     "text": [
      "Tue Mar 26 12:06:40 2024 Finished embedding\n",
      "TSNE\n",
      "--------------------------------------------------------------------------------\n",
      "TSNE(early_exaggeration=12, random_state=3, verbose=True)\n",
      "--------------------------------------------------------------------------------\n",
      "===> Finding 90 nearest neighbors using Annoy approximate search using euclidean distance...\n",
      "   --> Time elapsed: 1.58 seconds\n",
      "===> Calculating affinity matrix...\n",
      "   --> Time elapsed: 0.09 seconds\n",
      "===> Calculating PCA-based initialization...\n",
      "   --> Time elapsed: 0.01 seconds\n",
      "===> Running optimization with exaggeration=12.00, lr=517.08 for 250 iterations...\n",
      "Iteration   50, KL divergence 3.5693, 50 iterations in 5.2109 sec\n",
      "Iteration  100, KL divergence 3.4628, 50 iterations in 4.8050 sec\n",
      "Iteration  150, KL divergence 3.4235, 50 iterations in 4.5705 sec\n",
      "Iteration  200, KL divergence 3.4079, 50 iterations in 4.3838 sec\n",
      "Iteration  250, KL divergence 3.3997, 50 iterations in 4.4355 sec\n",
      "   --> Time elapsed: 23.41 seconds\n",
      "===> Running optimization with exaggeration=1.00, lr=6205.00 for 500 iterations...\n",
      "Iteration   50, KL divergence 1.6177, 50 iterations in 4.5672 sec\n",
      "Iteration  100, KL divergence 1.4677, 50 iterations in 4.3377 sec\n",
      "Iteration  150, KL divergence 1.4063, 50 iterations in 4.4003 sec\n",
      "Iteration  200, KL divergence 1.3721, 50 iterations in 4.3167 sec\n",
      "Iteration  250, KL divergence 1.3505, 50 iterations in 4.4808 sec\n",
      "Iteration  300, KL divergence 1.3351, 50 iterations in 4.3680 sec\n",
      "Iteration  350, KL divergence 1.3238, 50 iterations in 4.4020 sec\n",
      "Iteration  400, KL divergence 1.3146, 50 iterations in 4.5773 sec\n",
      "Iteration  450, KL divergence 1.3073, 50 iterations in 4.5065 sec\n",
      "Iteration  500, KL divergence 1.3012, 50 iterations in 4.4837 sec\n",
      "   --> Time elapsed: 44.44 seconds\n",
      "exut seed: 4 scaled: False\n",
      "PCA2\n",
      "PCA50\n",
      "UMAP\n",
      "UMAP(random_state=4, verbose=True)\n",
      "Tue Mar 26 12:07:51 2024 Construct fuzzy simplicial set\n",
      "Tue Mar 26 12:07:51 2024 Finding Nearest Neighbors\n",
      "Tue Mar 26 12:07:51 2024 Building RP forest with 9 trees\n",
      "Tue Mar 26 12:07:51 2024 NN descent for 13 iterations\n",
      "\t 1  /  13\n",
      "\t 2  /  13\n",
      "\t 3  /  13\n",
      "\t 4  /  13\n",
      "\tStopping threshold met -- exiting after 4 iterations\n",
      "Tue Mar 26 12:07:51 2024 Finished Nearest Neighbor Search\n"
     ]
    },
    {
     "name": "stderr",
     "output_type": "stream",
     "text": [
      "/home/jan/anaconda3/envs/elephant_analysis_env/lib/python3.11/site-packages/umap/umap_.py:1943: UserWarning: n_jobs value -1 overridden to 1 by setting random_state. Use no seed for parallelism.\n",
      "  warn(f\"n_jobs value {self.n_jobs} overridden to 1 by setting random_state. Use no seed for parallelism.\")\n"
     ]
    },
    {
     "name": "stdout",
     "output_type": "stream",
     "text": [
      "Tue Mar 26 12:07:51 2024 Construct embedding\n"
     ]
    },
    {
     "name": "stderr",
     "output_type": "stream",
     "text": [
      "Epochs completed:   3%| █                                         13/500 [00:00]"
     ]
    },
    {
     "name": "stdout",
     "output_type": "stream",
     "text": [
      "\tcompleted  0  /  500 epochs\n"
     ]
    },
    {
     "name": "stderr",
     "output_type": "stream",
     "text": [
      "Epochs completed:  13%| █████▏                                    63/500 [00:01]"
     ]
    },
    {
     "name": "stdout",
     "output_type": "stream",
     "text": [
      "\tcompleted  50  /  500 epochs\n"
     ]
    },
    {
     "name": "stderr",
     "output_type": "stream",
     "text": [
      "Epochs completed:  23%| █████████                                113/500 [00:01]"
     ]
    },
    {
     "name": "stdout",
     "output_type": "stream",
     "text": [
      "\tcompleted  100  /  500 epochs\n"
     ]
    },
    {
     "name": "stderr",
     "output_type": "stream",
     "text": [
      "Epochs completed:  33%| █████████████                            163/500 [00:02]"
     ]
    },
    {
     "name": "stdout",
     "output_type": "stream",
     "text": [
      "\tcompleted  150  /  500 epochs\n"
     ]
    },
    {
     "name": "stderr",
     "output_type": "stream",
     "text": [
      "Epochs completed:  43%| █████████████████                        213/500 [00:02]"
     ]
    },
    {
     "name": "stdout",
     "output_type": "stream",
     "text": [
      "\tcompleted  200  /  500 epochs\n"
     ]
    },
    {
     "name": "stderr",
     "output_type": "stream",
     "text": [
      "Epochs completed:  53%| █████████████████████                    263/500 [00:03]"
     ]
    },
    {
     "name": "stdout",
     "output_type": "stream",
     "text": [
      "\tcompleted  250  /  500 epochs\n"
     ]
    },
    {
     "name": "stderr",
     "output_type": "stream",
     "text": [
      "Epochs completed:  63%| █████████████████████████                313/500 [00:03]"
     ]
    },
    {
     "name": "stdout",
     "output_type": "stream",
     "text": [
      "\tcompleted  300  /  500 epochs\n"
     ]
    },
    {
     "name": "stderr",
     "output_type": "stream",
     "text": [
      "Epochs completed:  73%| █████████████████████████████            363/500 [00:04]"
     ]
    },
    {
     "name": "stdout",
     "output_type": "stream",
     "text": [
      "\tcompleted  350  /  500 epochs\n"
     ]
    },
    {
     "name": "stderr",
     "output_type": "stream",
     "text": [
      "Epochs completed:  83%| █████████████████████████████████        413/500 [00:04]"
     ]
    },
    {
     "name": "stdout",
     "output_type": "stream",
     "text": [
      "\tcompleted  400  /  500 epochs\n"
     ]
    },
    {
     "name": "stderr",
     "output_type": "stream",
     "text": [
      "Epochs completed:  93%| █████████████████████████████████████    463/500 [00:05]"
     ]
    },
    {
     "name": "stdout",
     "output_type": "stream",
     "text": [
      "\tcompleted  450  /  500 epochs\n"
     ]
    },
    {
     "name": "stderr",
     "output_type": "stream",
     "text": [
      "Epochs completed: 100%| ████████████████████████████████████████ 500/500 [00:05]\n"
     ]
    },
    {
     "name": "stdout",
     "output_type": "stream",
     "text": [
      "Tue Mar 26 12:07:57 2024 Finished embedding\n",
      "TSNE\n",
      "--------------------------------------------------------------------------------\n",
      "TSNE(early_exaggeration=12, random_state=4, verbose=True)\n",
      "--------------------------------------------------------------------------------\n",
      "===> Finding 90 nearest neighbors using Annoy approximate search using euclidean distance...\n",
      "   --> Time elapsed: 1.55 seconds\n",
      "===> Calculating affinity matrix...\n",
      "   --> Time elapsed: 0.09 seconds\n",
      "===> Calculating PCA-based initialization...\n",
      "   --> Time elapsed: 0.01 seconds\n",
      "===> Running optimization with exaggeration=12.00, lr=517.08 for 250 iterations...\n",
      "Iteration   50, KL divergence 3.5529, 50 iterations in 5.0236 sec\n",
      "Iteration  100, KL divergence 3.4593, 50 iterations in 4.5105 sec\n",
      "Iteration  150, KL divergence 3.4227, 50 iterations in 4.4165 sec\n",
      "Iteration  200, KL divergence 3.4084, 50 iterations in 4.4477 sec\n",
      "Iteration  250, KL divergence 3.4000, 50 iterations in 4.4619 sec\n",
      "   --> Time elapsed: 22.86 seconds\n",
      "===> Running optimization with exaggeration=1.00, lr=6205.00 for 500 iterations...\n",
      "Iteration   50, KL divergence 1.6218, 50 iterations in 4.6068 sec\n",
      "Iteration  100, KL divergence 1.4712, 50 iterations in 4.5430 sec\n",
      "Iteration  150, KL divergence 1.4102, 50 iterations in 4.4674 sec\n",
      "Iteration  200, KL divergence 1.3758, 50 iterations in 4.3086 sec\n",
      "Iteration  250, KL divergence 1.3537, 50 iterations in 4.2532 sec\n",
      "Iteration  300, KL divergence 1.3382, 50 iterations in 4.3071 sec\n",
      "Iteration  350, KL divergence 1.3265, 50 iterations in 4.2617 sec\n",
      "Iteration  400, KL divergence 1.3175, 50 iterations in 4.2174 sec\n",
      "Iteration  450, KL divergence 1.3102, 50 iterations in 4.3020 sec\n",
      "Iteration  500, KL divergence 1.3042, 50 iterations in 4.4008 sec\n",
      "   --> Time elapsed: 43.67 seconds\n",
      "exut seed: 0 scaled: True\n",
      "PCA2\n",
      "PCA50\n",
      "UMAP\n",
      "UMAP(random_state=0, verbose=True)\n",
      "Tue Mar 26 12:09:06 2024 Construct fuzzy simplicial set\n",
      "Tue Mar 26 12:09:06 2024 Finding Nearest Neighbors\n",
      "Tue Mar 26 12:09:06 2024 Building RP forest with 9 trees\n",
      "Tue Mar 26 12:09:06 2024 NN descent for 13 iterations\n",
      "\t 1  /  13\n",
      "\t 2  /  13\n"
     ]
    },
    {
     "name": "stderr",
     "output_type": "stream",
     "text": [
      "/home/jan/anaconda3/envs/elephant_analysis_env/lib/python3.11/site-packages/umap/umap_.py:1943: UserWarning: n_jobs value -1 overridden to 1 by setting random_state. Use no seed for parallelism.\n",
      "  warn(f\"n_jobs value {self.n_jobs} overridden to 1 by setting random_state. Use no seed for parallelism.\")\n"
     ]
    },
    {
     "name": "stdout",
     "output_type": "stream",
     "text": [
      "\t 3  /  13\n",
      "\t 4  /  13\n",
      "\tStopping threshold met -- exiting after 4 iterations\n",
      "Tue Mar 26 12:09:06 2024 Finished Nearest Neighbor Search\n",
      "Tue Mar 26 12:09:06 2024 Construct embedding\n"
     ]
    },
    {
     "name": "stderr",
     "output_type": "stream",
     "text": [
      "Epochs completed:   2%| ▉                                         11/500 [00:00]"
     ]
    },
    {
     "name": "stdout",
     "output_type": "stream",
     "text": [
      "\tcompleted  0  /  500 epochs\n"
     ]
    },
    {
     "name": "stderr",
     "output_type": "stream",
     "text": [
      "Epochs completed:  13%| █████▎                                    65/500 [00:01]"
     ]
    },
    {
     "name": "stdout",
     "output_type": "stream",
     "text": [
      "\tcompleted  50  /  500 epochs\n"
     ]
    },
    {
     "name": "stderr",
     "output_type": "stream",
     "text": [
      "Epochs completed:  23%| █████████▏                               115/500 [00:01]"
     ]
    },
    {
     "name": "stdout",
     "output_type": "stream",
     "text": [
      "\tcompleted  100  /  500 epochs\n"
     ]
    },
    {
     "name": "stderr",
     "output_type": "stream",
     "text": [
      "Epochs completed:  33%| █████████████                            164/500 [00:02]"
     ]
    },
    {
     "name": "stdout",
     "output_type": "stream",
     "text": [
      "\tcompleted  150  /  500 epochs\n"
     ]
    },
    {
     "name": "stderr",
     "output_type": "stream",
     "text": [
      "Epochs completed:  43%| █████████████████▎                       217/500 [00:03]"
     ]
    },
    {
     "name": "stdout",
     "output_type": "stream",
     "text": [
      "\tcompleted  200  /  500 epochs\n"
     ]
    },
    {
     "name": "stderr",
     "output_type": "stream",
     "text": [
      "Epochs completed:  52%| ████████████████████▉                    262/500 [00:03]"
     ]
    },
    {
     "name": "stdout",
     "output_type": "stream",
     "text": [
      "\tcompleted  250  /  500 epochs\n"
     ]
    },
    {
     "name": "stderr",
     "output_type": "stream",
     "text": [
      "Epochs completed:  63%| █████████████████████████▎               316/500 [00:04]"
     ]
    },
    {
     "name": "stdout",
     "output_type": "stream",
     "text": [
      "\tcompleted  300  /  500 epochs\n"
     ]
    },
    {
     "name": "stderr",
     "output_type": "stream",
     "text": [
      "Epochs completed:  72%| ████████████████████████████▉            361/500 [00:04]"
     ]
    },
    {
     "name": "stdout",
     "output_type": "stream",
     "text": [
      "\tcompleted  350  /  500 epochs\n"
     ]
    },
    {
     "name": "stderr",
     "output_type": "stream",
     "text": [
      "Epochs completed:  83%| █████████████████████████████████▏       415/500 [00:05]"
     ]
    },
    {
     "name": "stdout",
     "output_type": "stream",
     "text": [
      "\tcompleted  400  /  500 epochs\n"
     ]
    },
    {
     "name": "stderr",
     "output_type": "stream",
     "text": [
      "Epochs completed:  92%| ████████████████████████████████████▊    460/500 [00:06]"
     ]
    },
    {
     "name": "stdout",
     "output_type": "stream",
     "text": [
      "\tcompleted  450  /  500 epochs\n"
     ]
    },
    {
     "name": "stderr",
     "output_type": "stream",
     "text": [
      "Epochs completed: 100%| ████████████████████████████████████████ 500/500 [00:06]\n"
     ]
    },
    {
     "name": "stdout",
     "output_type": "stream",
     "text": [
      "Tue Mar 26 12:09:13 2024 Finished embedding\n",
      "TSNE\n",
      "--------------------------------------------------------------------------------\n",
      "TSNE(early_exaggeration=12, random_state=0, verbose=True)\n",
      "--------------------------------------------------------------------------------\n",
      "===> Finding 90 nearest neighbors using Annoy approximate search using euclidean distance...\n",
      "   --> Time elapsed: 1.55 seconds\n",
      "===> Calculating affinity matrix...\n",
      "   --> Time elapsed: 0.09 seconds\n",
      "===> Calculating PCA-based initialization...\n",
      "   --> Time elapsed: 0.01 seconds\n",
      "===> Running optimization with exaggeration=12.00, lr=517.08 for 250 iterations...\n",
      "Iteration   50, KL divergence 3.3361, 50 iterations in 5.1154 sec\n",
      "Iteration  100, KL divergence 3.2578, 50 iterations in 4.5826 sec\n",
      "Iteration  150, KL divergence 3.2289, 50 iterations in 4.3726 sec\n",
      "Iteration  200, KL divergence 3.2155, 50 iterations in 4.4593 sec\n",
      "Iteration  250, KL divergence 3.2081, 50 iterations in 4.3667 sec\n",
      "   --> Time elapsed: 22.90 seconds\n",
      "===> Running optimization with exaggeration=1.00, lr=6205.00 for 500 iterations...\n",
      "Iteration   50, KL divergence 1.5634, 50 iterations in 4.2971 sec\n",
      "Iteration  100, KL divergence 1.4233, 50 iterations in 4.2451 sec\n",
      "Iteration  150, KL divergence 1.3670, 50 iterations in 4.3245 sec\n",
      "Iteration  200, KL divergence 1.3365, 50 iterations in 4.2972 sec\n",
      "Iteration  250, KL divergence 1.3170, 50 iterations in 4.3193 sec\n",
      "Iteration  300, KL divergence 1.3033, 50 iterations in 4.3046 sec\n",
      "Iteration  350, KL divergence 1.2932, 50 iterations in 4.2487 sec\n",
      "Iteration  400, KL divergence 1.2851, 50 iterations in 4.2481 sec\n",
      "Iteration  450, KL divergence 1.2788, 50 iterations in 4.2705 sec\n",
      "Iteration  500, KL divergence 1.2735, 50 iterations in 4.3580 sec\n",
      "   --> Time elapsed: 42.91 seconds\n",
      "exut seed: 1 scaled: True\n",
      "PCA2\n",
      "PCA50\n",
      "UMAP\n",
      "UMAP(random_state=1, verbose=True)\n",
      "Tue Mar 26 12:10:21 2024 Construct fuzzy simplicial set\n",
      "Tue Mar 26 12:10:21 2024 Finding Nearest Neighbors\n",
      "Tue Mar 26 12:10:21 2024 Building RP forest with 9 trees\n",
      "Tue Mar 26 12:10:21 2024 NN descent for 13 iterations\n",
      "\t 1  /  13\n",
      "\t 2  /  13\n"
     ]
    },
    {
     "name": "stderr",
     "output_type": "stream",
     "text": [
      "/home/jan/anaconda3/envs/elephant_analysis_env/lib/python3.11/site-packages/umap/umap_.py:1943: UserWarning: n_jobs value -1 overridden to 1 by setting random_state. Use no seed for parallelism.\n",
      "  warn(f\"n_jobs value {self.n_jobs} overridden to 1 by setting random_state. Use no seed for parallelism.\")\n"
     ]
    },
    {
     "name": "stdout",
     "output_type": "stream",
     "text": [
      "\t 3  /  13\n",
      "\t 4  /  13\n",
      "\tStopping threshold met -- exiting after 4 iterations\n",
      "Tue Mar 26 12:10:21 2024 Finished Nearest Neighbor Search\n",
      "Tue Mar 26 12:10:21 2024 Construct embedding\n"
     ]
    },
    {
     "name": "stderr",
     "output_type": "stream",
     "text": [
      "Epochs completed:   3%| █                                         13/500 [00:00]"
     ]
    },
    {
     "name": "stdout",
     "output_type": "stream",
     "text": [
      "\tcompleted  0  /  500 epochs\n"
     ]
    },
    {
     "name": "stderr",
     "output_type": "stream",
     "text": [
      "Epochs completed:  13%| █████▏                                    63/500 [00:01]"
     ]
    },
    {
     "name": "stdout",
     "output_type": "stream",
     "text": [
      "\tcompleted  50  /  500 epochs\n"
     ]
    },
    {
     "name": "stderr",
     "output_type": "stream",
     "text": [
      "Epochs completed:  23%| █████████                                113/500 [00:01]"
     ]
    },
    {
     "name": "stdout",
     "output_type": "stream",
     "text": [
      "\tcompleted  100  /  500 epochs\n"
     ]
    },
    {
     "name": "stderr",
     "output_type": "stream",
     "text": [
      "Epochs completed:  33%| █████████████                            163/500 [00:02]"
     ]
    },
    {
     "name": "stdout",
     "output_type": "stream",
     "text": [
      "\tcompleted  150  /  500 epochs\n"
     ]
    },
    {
     "name": "stderr",
     "output_type": "stream",
     "text": [
      "Epochs completed:  43%| █████████████████                        213/500 [00:02]"
     ]
    },
    {
     "name": "stdout",
     "output_type": "stream",
     "text": [
      "\tcompleted  200  /  500 epochs\n"
     ]
    },
    {
     "name": "stderr",
     "output_type": "stream",
     "text": [
      "Epochs completed:  53%| █████████████████████                    263/500 [00:03]"
     ]
    },
    {
     "name": "stdout",
     "output_type": "stream",
     "text": [
      "\tcompleted  250  /  500 epochs\n"
     ]
    },
    {
     "name": "stderr",
     "output_type": "stream",
     "text": [
      "Epochs completed:  63%| █████████████████████████                313/500 [00:03]"
     ]
    },
    {
     "name": "stdout",
     "output_type": "stream",
     "text": [
      "\tcompleted  300  /  500 epochs\n"
     ]
    },
    {
     "name": "stderr",
     "output_type": "stream",
     "text": [
      "Epochs completed:  73%| █████████████████████████████            363/500 [00:04]"
     ]
    },
    {
     "name": "stdout",
     "output_type": "stream",
     "text": [
      "\tcompleted  350  /  500 epochs\n"
     ]
    },
    {
     "name": "stderr",
     "output_type": "stream",
     "text": [
      "Epochs completed:  83%| █████████████████████████████████        413/500 [00:04]"
     ]
    },
    {
     "name": "stdout",
     "output_type": "stream",
     "text": [
      "\tcompleted  400  /  500 epochs\n"
     ]
    },
    {
     "name": "stderr",
     "output_type": "stream",
     "text": [
      "Epochs completed:  93%| █████████████████████████████████████    463/500 [00:05]"
     ]
    },
    {
     "name": "stdout",
     "output_type": "stream",
     "text": [
      "\tcompleted  450  /  500 epochs\n"
     ]
    },
    {
     "name": "stderr",
     "output_type": "stream",
     "text": [
      "Epochs completed: 100%| ████████████████████████████████████████ 500/500 [00:05]\n"
     ]
    },
    {
     "name": "stdout",
     "output_type": "stream",
     "text": [
      "Tue Mar 26 12:10:27 2024 Finished embedding\n",
      "TSNE\n",
      "--------------------------------------------------------------------------------\n",
      "TSNE(early_exaggeration=12, random_state=1, verbose=True)\n",
      "--------------------------------------------------------------------------------\n",
      "===> Finding 90 nearest neighbors using Annoy approximate search using euclidean distance...\n",
      "   --> Time elapsed: 1.50 seconds\n",
      "===> Calculating affinity matrix...\n",
      "   --> Time elapsed: 0.08 seconds\n",
      "===> Calculating PCA-based initialization...\n",
      "   --> Time elapsed: 0.02 seconds\n",
      "===> Running optimization with exaggeration=12.00, lr=517.08 for 250 iterations...\n",
      "Iteration   50, KL divergence 3.3174, 50 iterations in 4.9672 sec\n",
      "Iteration  100, KL divergence 3.2331, 50 iterations in 4.3959 sec\n",
      "Iteration  150, KL divergence 3.2005, 50 iterations in 4.4637 sec\n",
      "Iteration  200, KL divergence 3.1854, 50 iterations in 4.5397 sec\n",
      "Iteration  250, KL divergence 3.1773, 50 iterations in 4.3843 sec\n",
      "   --> Time elapsed: 22.75 seconds\n",
      "===> Running optimization with exaggeration=1.00, lr=6205.00 for 500 iterations...\n",
      "Iteration   50, KL divergence 1.5616, 50 iterations in 4.3757 sec\n",
      "Iteration  100, KL divergence 1.4212, 50 iterations in 4.3017 sec\n",
      "Iteration  150, KL divergence 1.3660, 50 iterations in 4.2520 sec\n",
      "Iteration  200, KL divergence 1.3361, 50 iterations in 4.4557 sec\n",
      "Iteration  250, KL divergence 1.3167, 50 iterations in 4.3096 sec\n",
      "Iteration  300, KL divergence 1.3040, 50 iterations in 4.3144 sec\n",
      "Iteration  350, KL divergence 1.2945, 50 iterations in 4.5566 sec\n",
      "Iteration  400, KL divergence 1.2863, 50 iterations in 4.3801 sec\n",
      "Iteration  450, KL divergence 1.2799, 50 iterations in 4.3350 sec\n",
      "Iteration  500, KL divergence 1.2747, 50 iterations in 4.2587 sec\n",
      "   --> Time elapsed: 43.54 seconds\n",
      "exut seed: 2 scaled: True\n",
      "PCA2\n",
      "PCA50\n",
      "UMAP\n",
      "UMAP(random_state=2, verbose=True)\n",
      "Tue Mar 26 12:11:36 2024 Construct fuzzy simplicial set\n",
      "Tue Mar 26 12:11:36 2024 Finding Nearest Neighbors\n",
      "Tue Mar 26 12:11:36 2024 Building RP forest with 9 trees\n",
      "Tue Mar 26 12:11:36 2024 NN descent for 13 iterations\n",
      "\t 1  /  13\n",
      "\t 2  /  13\n",
      "\t 3  /  13\n",
      "\t 4  /  13\n",
      "\tStopping threshold met -- exiting after 4 iterations\n",
      "Tue Mar 26 12:11:36 2024 Finished Nearest Neighbor Search\n"
     ]
    },
    {
     "name": "stderr",
     "output_type": "stream",
     "text": [
      "/home/jan/anaconda3/envs/elephant_analysis_env/lib/python3.11/site-packages/umap/umap_.py:1943: UserWarning: n_jobs value -1 overridden to 1 by setting random_state. Use no seed for parallelism.\n",
      "  warn(f\"n_jobs value {self.n_jobs} overridden to 1 by setting random_state. Use no seed for parallelism.\")\n"
     ]
    },
    {
     "name": "stdout",
     "output_type": "stream",
     "text": [
      "Tue Mar 26 12:11:36 2024 Construct embedding\n"
     ]
    },
    {
     "name": "stderr",
     "output_type": "stream",
     "text": [
      "Epochs completed:   3%| █                                         13/500 [00:00]"
     ]
    },
    {
     "name": "stdout",
     "output_type": "stream",
     "text": [
      "\tcompleted  0  /  500 epochs\n"
     ]
    },
    {
     "name": "stderr",
     "output_type": "stream",
     "text": [
      "Epochs completed:  13%| █████▏                                    63/500 [00:01]"
     ]
    },
    {
     "name": "stdout",
     "output_type": "stream",
     "text": [
      "\tcompleted  50  /  500 epochs\n"
     ]
    },
    {
     "name": "stderr",
     "output_type": "stream",
     "text": [
      "Epochs completed:  23%| █████████                                113/500 [00:01]"
     ]
    },
    {
     "name": "stdout",
     "output_type": "stream",
     "text": [
      "\tcompleted  100  /  500 epochs\n"
     ]
    },
    {
     "name": "stderr",
     "output_type": "stream",
     "text": [
      "Epochs completed:  33%| █████████████                            163/500 [00:02]"
     ]
    },
    {
     "name": "stdout",
     "output_type": "stream",
     "text": [
      "\tcompleted  150  /  500 epochs\n"
     ]
    },
    {
     "name": "stderr",
     "output_type": "stream",
     "text": [
      "Epochs completed:  43%| █████████████████                        213/500 [00:02]"
     ]
    },
    {
     "name": "stdout",
     "output_type": "stream",
     "text": [
      "\tcompleted  200  /  500 epochs\n"
     ]
    },
    {
     "name": "stderr",
     "output_type": "stream",
     "text": [
      "Epochs completed:  53%| █████████████████████                    263/500 [00:03]"
     ]
    },
    {
     "name": "stdout",
     "output_type": "stream",
     "text": [
      "\tcompleted  250  /  500 epochs\n"
     ]
    },
    {
     "name": "stderr",
     "output_type": "stream",
     "text": [
      "Epochs completed:  63%| █████████████████████████                313/500 [00:03]"
     ]
    },
    {
     "name": "stdout",
     "output_type": "stream",
     "text": [
      "\tcompleted  300  /  500 epochs\n"
     ]
    },
    {
     "name": "stderr",
     "output_type": "stream",
     "text": [
      "Epochs completed:  73%| █████████████████████████████            363/500 [00:04]"
     ]
    },
    {
     "name": "stdout",
     "output_type": "stream",
     "text": [
      "\tcompleted  350  /  500 epochs\n"
     ]
    },
    {
     "name": "stderr",
     "output_type": "stream",
     "text": [
      "Epochs completed:  83%| █████████████████████████████████        413/500 [00:04]"
     ]
    },
    {
     "name": "stdout",
     "output_type": "stream",
     "text": [
      "\tcompleted  400  /  500 epochs\n"
     ]
    },
    {
     "name": "stderr",
     "output_type": "stream",
     "text": [
      "Epochs completed:  93%| █████████████████████████████████████    463/500 [00:05]"
     ]
    },
    {
     "name": "stdout",
     "output_type": "stream",
     "text": [
      "\tcompleted  450  /  500 epochs\n"
     ]
    },
    {
     "name": "stderr",
     "output_type": "stream",
     "text": [
      "Epochs completed: 100%| ████████████████████████████████████████ 500/500 [00:05]\n"
     ]
    },
    {
     "name": "stdout",
     "output_type": "stream",
     "text": [
      "Tue Mar 26 12:11:42 2024 Finished embedding\n",
      "TSNE\n",
      "--------------------------------------------------------------------------------\n",
      "TSNE(early_exaggeration=12, random_state=2, verbose=True)\n",
      "--------------------------------------------------------------------------------\n",
      "===> Finding 90 nearest neighbors using Annoy approximate search using euclidean distance...\n",
      "   --> Time elapsed: 1.54 seconds\n",
      "===> Calculating affinity matrix...\n",
      "   --> Time elapsed: 0.09 seconds\n",
      "===> Calculating PCA-based initialization...\n",
      "   --> Time elapsed: 0.01 seconds\n",
      "===> Running optimization with exaggeration=12.00, lr=517.08 for 250 iterations...\n",
      "Iteration   50, KL divergence 3.3233, 50 iterations in 5.1072 sec\n",
      "Iteration  100, KL divergence 3.2409, 50 iterations in 4.4318 sec\n",
      "Iteration  150, KL divergence 3.2084, 50 iterations in 4.3122 sec\n",
      "Iteration  200, KL divergence 3.1941, 50 iterations in 4.3367 sec\n",
      "Iteration  250, KL divergence 3.1857, 50 iterations in 4.2878 sec\n",
      "   --> Time elapsed: 22.48 seconds\n",
      "===> Running optimization with exaggeration=1.00, lr=6205.00 for 500 iterations...\n",
      "Iteration   50, KL divergence 1.5569, 50 iterations in 4.3274 sec\n",
      "Iteration  100, KL divergence 1.4173, 50 iterations in 4.1568 sec\n",
      "Iteration  150, KL divergence 1.3619, 50 iterations in 4.1374 sec\n",
      "Iteration  200, KL divergence 1.3320, 50 iterations in 4.1381 sec\n",
      "Iteration  250, KL divergence 1.3131, 50 iterations in 4.1599 sec\n",
      "Iteration  300, KL divergence 1.3000, 50 iterations in 4.2521 sec\n",
      "Iteration  350, KL divergence 1.2899, 50 iterations in 4.2301 sec\n",
      "Iteration  400, KL divergence 1.2822, 50 iterations in 4.2831 sec\n",
      "Iteration  450, KL divergence 1.2758, 50 iterations in 4.3160 sec\n",
      "Iteration  500, KL divergence 1.2707, 50 iterations in 4.2974 sec\n",
      "   --> Time elapsed: 42.30 seconds\n",
      "exut seed: 3 scaled: True\n",
      "PCA2\n",
      "PCA50\n",
      "UMAP\n",
      "UMAP(random_state=3, verbose=True)\n",
      "Tue Mar 26 12:12:49 2024 Construct fuzzy simplicial set\n",
      "Tue Mar 26 12:12:49 2024 Finding Nearest Neighbors\n",
      "Tue Mar 26 12:12:49 2024 Building RP forest with 9 trees\n",
      "Tue Mar 26 12:12:49 2024 NN descent for 13 iterations\n",
      "\t 1  /  13\n",
      "\t 2  /  13\n"
     ]
    },
    {
     "name": "stderr",
     "output_type": "stream",
     "text": [
      "/home/jan/anaconda3/envs/elephant_analysis_env/lib/python3.11/site-packages/umap/umap_.py:1943: UserWarning: n_jobs value -1 overridden to 1 by setting random_state. Use no seed for parallelism.\n",
      "  warn(f\"n_jobs value {self.n_jobs} overridden to 1 by setting random_state. Use no seed for parallelism.\")\n"
     ]
    },
    {
     "name": "stdout",
     "output_type": "stream",
     "text": [
      "\t 3  /  13\n",
      "\t 4  /  13\n",
      "\tStopping threshold met -- exiting after 4 iterations\n",
      "Tue Mar 26 12:12:49 2024 Finished Nearest Neighbor Search\n",
      "Tue Mar 26 12:12:49 2024 Construct embedding\n"
     ]
    },
    {
     "name": "stderr",
     "output_type": "stream",
     "text": [
      "Epochs completed:   3%| █                                         13/500 [00:00]"
     ]
    },
    {
     "name": "stdout",
     "output_type": "stream",
     "text": [
      "\tcompleted  0  /  500 epochs\n"
     ]
    },
    {
     "name": "stderr",
     "output_type": "stream",
     "text": [
      "Epochs completed:  13%| █████▏                                    63/500 [00:01]"
     ]
    },
    {
     "name": "stdout",
     "output_type": "stream",
     "text": [
      "\tcompleted  50  /  500 epochs\n"
     ]
    },
    {
     "name": "stderr",
     "output_type": "stream",
     "text": [
      "Epochs completed:  23%| █████████                                113/500 [00:01]"
     ]
    },
    {
     "name": "stdout",
     "output_type": "stream",
     "text": [
      "\tcompleted  100  /  500 epochs\n"
     ]
    },
    {
     "name": "stderr",
     "output_type": "stream",
     "text": [
      "Epochs completed:  33%| █████████████                            163/500 [00:02]"
     ]
    },
    {
     "name": "stdout",
     "output_type": "stream",
     "text": [
      "\tcompleted  150  /  500 epochs\n"
     ]
    },
    {
     "name": "stderr",
     "output_type": "stream",
     "text": [
      "Epochs completed:  43%| █████████████████                        213/500 [00:02]"
     ]
    },
    {
     "name": "stdout",
     "output_type": "stream",
     "text": [
      "\tcompleted  200  /  500 epochs\n"
     ]
    },
    {
     "name": "stderr",
     "output_type": "stream",
     "text": [
      "Epochs completed:  53%| █████████████████████                    264/500 [00:03]"
     ]
    },
    {
     "name": "stdout",
     "output_type": "stream",
     "text": [
      "\tcompleted  250  /  500 epochs\n"
     ]
    },
    {
     "name": "stderr",
     "output_type": "stream",
     "text": [
      "Epochs completed:  63%| █████████████████████████                314/500 [00:03]"
     ]
    },
    {
     "name": "stdout",
     "output_type": "stream",
     "text": [
      "\tcompleted  300  /  500 epochs\n"
     ]
    },
    {
     "name": "stderr",
     "output_type": "stream",
     "text": [
      "Epochs completed:  73%| █████████████████████████████            364/500 [00:04]"
     ]
    },
    {
     "name": "stdout",
     "output_type": "stream",
     "text": [
      "\tcompleted  350  /  500 epochs\n"
     ]
    },
    {
     "name": "stderr",
     "output_type": "stream",
     "text": [
      "Epochs completed:  83%| █████████████████████████████████        414/500 [00:04]"
     ]
    },
    {
     "name": "stdout",
     "output_type": "stream",
     "text": [
      "\tcompleted  400  /  500 epochs\n"
     ]
    },
    {
     "name": "stderr",
     "output_type": "stream",
     "text": [
      "Epochs completed:  93%| █████████████████████████████████████    464/500 [00:05]"
     ]
    },
    {
     "name": "stdout",
     "output_type": "stream",
     "text": [
      "\tcompleted  450  /  500 epochs\n"
     ]
    },
    {
     "name": "stderr",
     "output_type": "stream",
     "text": [
      "Epochs completed: 100%| ████████████████████████████████████████ 500/500 [00:05]\n"
     ]
    },
    {
     "name": "stdout",
     "output_type": "stream",
     "text": [
      "Tue Mar 26 12:12:55 2024 Finished embedding\n",
      "TSNE\n",
      "--------------------------------------------------------------------------------\n",
      "TSNE(early_exaggeration=12, random_state=3, verbose=True)\n",
      "--------------------------------------------------------------------------------\n",
      "===> Finding 90 nearest neighbors using Annoy approximate search using euclidean distance...\n",
      "   --> Time elapsed: 1.54 seconds\n",
      "===> Calculating affinity matrix...\n",
      "   --> Time elapsed: 0.09 seconds\n",
      "===> Calculating PCA-based initialization...\n",
      "   --> Time elapsed: 0.01 seconds\n",
      "===> Running optimization with exaggeration=12.00, lr=517.08 for 250 iterations...\n",
      "Iteration   50, KL divergence 3.3294, 50 iterations in 5.0308 sec\n",
      "Iteration  100, KL divergence 3.2529, 50 iterations in 4.4663 sec\n",
      "Iteration  150, KL divergence 3.2213, 50 iterations in 4.3918 sec\n",
      "Iteration  200, KL divergence 3.2071, 50 iterations in 4.4916 sec\n",
      "Iteration  250, KL divergence 3.2002, 50 iterations in 4.4130 sec\n",
      "   --> Time elapsed: 22.79 seconds\n",
      "===> Running optimization with exaggeration=1.00, lr=6205.00 for 500 iterations...\n",
      "Iteration   50, KL divergence 1.5616, 50 iterations in 4.2240 sec\n",
      "Iteration  100, KL divergence 1.4213, 50 iterations in 4.1485 sec\n",
      "Iteration  150, KL divergence 1.3668, 50 iterations in 4.1524 sec\n",
      "Iteration  200, KL divergence 1.3367, 50 iterations in 4.1876 sec\n",
      "Iteration  250, KL divergence 1.3173, 50 iterations in 4.1813 sec\n",
      "Iteration  300, KL divergence 1.3036, 50 iterations in 4.1721 sec\n",
      "Iteration  350, KL divergence 1.2937, 50 iterations in 4.1732 sec\n",
      "Iteration  400, KL divergence 1.2858, 50 iterations in 4.1674 sec\n",
      "Iteration  450, KL divergence 1.2795, 50 iterations in 4.2593 sec\n",
      "Iteration  500, KL divergence 1.2745, 50 iterations in 4.2441 sec\n",
      "   --> Time elapsed: 41.91 seconds\n",
      "exut seed: 4 scaled: True\n",
      "PCA2\n",
      "PCA50\n",
      "UMAP\n",
      "UMAP(random_state=4, verbose=True)\n",
      "Tue Mar 26 12:14:03 2024 Construct fuzzy simplicial set\n",
      "Tue Mar 26 12:14:03 2024 Finding Nearest Neighbors\n",
      "Tue Mar 26 12:14:03 2024 Building RP forest with 9 trees\n",
      "Tue Mar 26 12:14:03 2024 NN descent for 13 iterations\n",
      "\t 1  /  13\n",
      "\t 2  /  13\n"
     ]
    },
    {
     "name": "stderr",
     "output_type": "stream",
     "text": [
      "/home/jan/anaconda3/envs/elephant_analysis_env/lib/python3.11/site-packages/umap/umap_.py:1943: UserWarning: n_jobs value -1 overridden to 1 by setting random_state. Use no seed for parallelism.\n",
      "  warn(f\"n_jobs value {self.n_jobs} overridden to 1 by setting random_state. Use no seed for parallelism.\")\n"
     ]
    },
    {
     "name": "stdout",
     "output_type": "stream",
     "text": [
      "\t 3  /  13\n",
      "\t 4  /  13\n",
      "\tStopping threshold met -- exiting after 4 iterations\n",
      "Tue Mar 26 12:14:03 2024 Finished Nearest Neighbor Search\n",
      "Tue Mar 26 12:14:03 2024 Construct embedding\n"
     ]
    },
    {
     "name": "stderr",
     "output_type": "stream",
     "text": [
      "Epochs completed:   3%| █                                         13/500 [00:00]"
     ]
    },
    {
     "name": "stdout",
     "output_type": "stream",
     "text": [
      "\tcompleted  0  /  500 epochs\n"
     ]
    },
    {
     "name": "stderr",
     "output_type": "stream",
     "text": [
      "Epochs completed:  13%| █████▏                                    63/500 [00:00]"
     ]
    },
    {
     "name": "stdout",
     "output_type": "stream",
     "text": [
      "\tcompleted  50  /  500 epochs\n"
     ]
    },
    {
     "name": "stderr",
     "output_type": "stream",
     "text": [
      "Epochs completed:  23%| █████████                                113/500 [00:01]"
     ]
    },
    {
     "name": "stdout",
     "output_type": "stream",
     "text": [
      "\tcompleted  100  /  500 epochs\n"
     ]
    },
    {
     "name": "stderr",
     "output_type": "stream",
     "text": [
      "Epochs completed:  33%| █████████████                            163/500 [00:02]"
     ]
    },
    {
     "name": "stdout",
     "output_type": "stream",
     "text": [
      "\tcompleted  150  /  500 epochs\n"
     ]
    },
    {
     "name": "stderr",
     "output_type": "stream",
     "text": [
      "Epochs completed:  43%| █████████████████                        213/500 [00:02]"
     ]
    },
    {
     "name": "stdout",
     "output_type": "stream",
     "text": [
      "\tcompleted  200  /  500 epochs\n"
     ]
    },
    {
     "name": "stderr",
     "output_type": "stream",
     "text": [
      "Epochs completed:  53%| █████████████████████                    263/500 [00:03]"
     ]
    },
    {
     "name": "stdout",
     "output_type": "stream",
     "text": [
      "\tcompleted  250  /  500 epochs\n"
     ]
    },
    {
     "name": "stderr",
     "output_type": "stream",
     "text": [
      "Epochs completed:  63%| █████████████████████████                313/500 [00:03]"
     ]
    },
    {
     "name": "stdout",
     "output_type": "stream",
     "text": [
      "\tcompleted  300  /  500 epochs\n"
     ]
    },
    {
     "name": "stderr",
     "output_type": "stream",
     "text": [
      "Epochs completed:  73%| █████████████████████████████            363/500 [00:04]"
     ]
    },
    {
     "name": "stdout",
     "output_type": "stream",
     "text": [
      "\tcompleted  350  /  500 epochs\n"
     ]
    },
    {
     "name": "stderr",
     "output_type": "stream",
     "text": [
      "Epochs completed:  83%| █████████████████████████████████        413/500 [00:04]"
     ]
    },
    {
     "name": "stdout",
     "output_type": "stream",
     "text": [
      "\tcompleted  400  /  500 epochs\n"
     ]
    },
    {
     "name": "stderr",
     "output_type": "stream",
     "text": [
      "Epochs completed:  93%| █████████████████████████████████████    463/500 [00:05]"
     ]
    },
    {
     "name": "stdout",
     "output_type": "stream",
     "text": [
      "\tcompleted  450  /  500 epochs\n"
     ]
    },
    {
     "name": "stderr",
     "output_type": "stream",
     "text": [
      "Epochs completed: 100%| ████████████████████████████████████████ 500/500 [00:05]\n"
     ]
    },
    {
     "name": "stdout",
     "output_type": "stream",
     "text": [
      "Tue Mar 26 12:14:09 2024 Finished embedding\n",
      "TSNE\n",
      "--------------------------------------------------------------------------------\n",
      "TSNE(early_exaggeration=12, random_state=4, verbose=True)\n",
      "--------------------------------------------------------------------------------\n",
      "===> Finding 90 nearest neighbors using Annoy approximate search using euclidean distance...\n",
      "   --> Time elapsed: 1.55 seconds\n",
      "===> Calculating affinity matrix...\n",
      "   --> Time elapsed: 0.09 seconds\n",
      "===> Calculating PCA-based initialization...\n",
      "   --> Time elapsed: 0.01 seconds\n",
      "===> Running optimization with exaggeration=12.00, lr=517.08 for 250 iterations...\n",
      "Iteration   50, KL divergence 3.3315, 50 iterations in 5.0923 sec\n",
      "Iteration  100, KL divergence 3.2541, 50 iterations in 4.6201 sec\n",
      "Iteration  150, KL divergence 3.2248, 50 iterations in 4.3912 sec\n",
      "Iteration  200, KL divergence 3.2096, 50 iterations in 4.5133 sec\n",
      "Iteration  250, KL divergence 3.2004, 50 iterations in 4.5196 sec\n",
      "   --> Time elapsed: 23.14 seconds\n",
      "===> Running optimization with exaggeration=1.00, lr=6205.00 for 500 iterations...\n",
      "Iteration   50, KL divergence 1.5605, 50 iterations in 4.2366 sec\n",
      "Iteration  100, KL divergence 1.4227, 50 iterations in 4.2133 sec\n",
      "Iteration  150, KL divergence 1.3679, 50 iterations in 4.1619 sec\n",
      "Iteration  200, KL divergence 1.3377, 50 iterations in 4.1704 sec\n",
      "Iteration  250, KL divergence 1.3185, 50 iterations in 4.2554 sec\n",
      "Iteration  300, KL divergence 1.3054, 50 iterations in 4.1830 sec\n",
      "Iteration  350, KL divergence 1.2960, 50 iterations in 4.2138 sec\n",
      "Iteration  400, KL divergence 1.2883, 50 iterations in 4.1715 sec\n",
      "Iteration  450, KL divergence 1.2825, 50 iterations in 4.1657 sec\n",
      "Iteration  500, KL divergence 1.2774, 50 iterations in 4.1536 sec\n",
      "   --> Time elapsed: 41.93 seconds\n",
      "running on scaled and unscaled data for merfish\n",
      "merfish seed: 0 scaled: False\n",
      "PCA2\n",
      "PCA50\n",
      "UMAP\n",
      "UMAP(random_state=0, verbose=True)\n",
      "Tue Mar 26 12:15:17 2024 Construct fuzzy simplicial set\n",
      "Tue Mar 26 12:15:17 2024 Finding Nearest Neighbors\n",
      "Tue Mar 26 12:15:17 2024 Building RP forest with 9 trees\n",
      "Tue Mar 26 12:15:17 2024 NN descent for 13 iterations\n",
      "\t 1  /  13\n"
     ]
    },
    {
     "name": "stderr",
     "output_type": "stream",
     "text": [
      "/home/jan/anaconda3/envs/elephant_analysis_env/lib/python3.11/site-packages/umap/umap_.py:1943: UserWarning: n_jobs value -1 overridden to 1 by setting random_state. Use no seed for parallelism.\n",
      "  warn(f\"n_jobs value {self.n_jobs} overridden to 1 by setting random_state. Use no seed for parallelism.\")\n"
     ]
    },
    {
     "name": "stdout",
     "output_type": "stream",
     "text": [
      "\t 2  /  13\n",
      "\t 3  /  13\n",
      "\tStopping threshold met -- exiting after 3 iterations\n",
      "Tue Mar 26 12:15:17 2024 Finished Nearest Neighbor Search\n",
      "Tue Mar 26 12:15:17 2024 Construct embedding\n"
     ]
    },
    {
     "name": "stderr",
     "output_type": "stream",
     "text": [
      "Epochs completed:   2%| ▉                                         12/500 [00:00]"
     ]
    },
    {
     "name": "stdout",
     "output_type": "stream",
     "text": [
      "\tcompleted  0  /  500 epochs\n"
     ]
    },
    {
     "name": "stderr",
     "output_type": "stream",
     "text": [
      "Epochs completed:  13%| █████▍                                    66/500 [00:01]"
     ]
    },
    {
     "name": "stdout",
     "output_type": "stream",
     "text": [
      "\tcompleted  50  /  500 epochs\n"
     ]
    },
    {
     "name": "stderr",
     "output_type": "stream",
     "text": [
      "Epochs completed:  22%| ████████▉                                111/500 [00:01]"
     ]
    },
    {
     "name": "stdout",
     "output_type": "stream",
     "text": [
      "\tcompleted  100  /  500 epochs\n"
     ]
    },
    {
     "name": "stderr",
     "output_type": "stream",
     "text": [
      "Epochs completed:  33%| █████████████▏                           165/500 [00:02]"
     ]
    },
    {
     "name": "stdout",
     "output_type": "stream",
     "text": [
      "\tcompleted  150  /  500 epochs\n"
     ]
    },
    {
     "name": "stderr",
     "output_type": "stream",
     "text": [
      "Epochs completed:  42%| ████████████████▊                        210/500 [00:02]"
     ]
    },
    {
     "name": "stdout",
     "output_type": "stream",
     "text": [
      "\tcompleted  200  /  500 epochs\n"
     ]
    },
    {
     "name": "stderr",
     "output_type": "stream",
     "text": [
      "Epochs completed:  53%| █████████████████████                    264/500 [00:03]"
     ]
    },
    {
     "name": "stdout",
     "output_type": "stream",
     "text": [
      "\tcompleted  250  /  500 epochs\n"
     ]
    },
    {
     "name": "stderr",
     "output_type": "stream",
     "text": [
      "Epochs completed:  64%| █████████████████████████▍               318/500 [00:04]"
     ]
    },
    {
     "name": "stdout",
     "output_type": "stream",
     "text": [
      "\tcompleted  300  /  500 epochs\n"
     ]
    },
    {
     "name": "stderr",
     "output_type": "stream",
     "text": [
      "Epochs completed:  73%| █████████████████████████████            363/500 [00:04]"
     ]
    },
    {
     "name": "stdout",
     "output_type": "stream",
     "text": [
      "\tcompleted  350  /  500 epochs\n"
     ]
    },
    {
     "name": "stderr",
     "output_type": "stream",
     "text": [
      "Epochs completed:  83%| █████████████████████████████████▎       417/500 [00:05]"
     ]
    },
    {
     "name": "stdout",
     "output_type": "stream",
     "text": [
      "\tcompleted  400  /  500 epochs\n"
     ]
    },
    {
     "name": "stderr",
     "output_type": "stream",
     "text": [
      "Epochs completed:  92%| ████████████████████████████████████▉    462/500 [00:05]"
     ]
    },
    {
     "name": "stdout",
     "output_type": "stream",
     "text": [
      "\tcompleted  450  /  500 epochs\n"
     ]
    },
    {
     "name": "stderr",
     "output_type": "stream",
     "text": [
      "Epochs completed: 100%| ████████████████████████████████████████ 500/500 [00:06]\n"
     ]
    },
    {
     "name": "stdout",
     "output_type": "stream",
     "text": [
      "Tue Mar 26 12:15:23 2024 Finished embedding\n",
      "TSNE\n",
      "--------------------------------------------------------------------------------\n",
      "TSNE(early_exaggeration=12, random_state=0, verbose=True)\n",
      "--------------------------------------------------------------------------------\n",
      "===> Finding 90 nearest neighbors using Annoy approximate search using euclidean distance...\n",
      "   --> Time elapsed: 1.71 seconds\n",
      "===> Calculating affinity matrix...\n",
      "   --> Time elapsed: 0.09 seconds\n",
      "===> Calculating PCA-based initialization...\n",
      "   --> Time elapsed: 0.01 seconds\n",
      "===> Running optimization with exaggeration=12.00, lr=580.25 for 250 iterations...\n",
      "Iteration   50, KL divergence 3.3235, 50 iterations in 5.5395 sec\n",
      "Iteration  100, KL divergence 3.1993, 50 iterations in 4.9905 sec\n",
      "Iteration  150, KL divergence 3.1287, 50 iterations in 5.0376 sec\n",
      "Iteration  200, KL divergence 3.0949, 50 iterations in 5.0962 sec\n",
      "Iteration  250, KL divergence 3.0771, 50 iterations in 5.0894 sec\n",
      "   --> Time elapsed: 25.75 seconds\n",
      "===> Running optimization with exaggeration=1.00, lr=6963.00 for 500 iterations...\n",
      "Iteration   50, KL divergence 1.6144, 50 iterations in 4.8979 sec\n",
      "Iteration  100, KL divergence 1.4469, 50 iterations in 4.6864 sec\n",
      "Iteration  150, KL divergence 1.3817, 50 iterations in 4.8188 sec\n",
      "Iteration  200, KL divergence 1.3456, 50 iterations in 4.8103 sec\n",
      "Iteration  250, KL divergence 1.3223, 50 iterations in 4.7374 sec\n",
      "Iteration  300, KL divergence 1.3058, 50 iterations in 4.7078 sec\n",
      "Iteration  350, KL divergence 1.2937, 50 iterations in 4.8815 sec\n",
      "Iteration  400, KL divergence 1.2842, 50 iterations in 4.6915 sec\n",
      "Iteration  450, KL divergence 1.2765, 50 iterations in 4.7369 sec\n",
      "Iteration  500, KL divergence 1.2707, 50 iterations in 4.7030 sec\n",
      "   --> Time elapsed: 47.67 seconds\n",
      "merfish seed: 1 scaled: False\n",
      "PCA2\n",
      "PCA50\n",
      "UMAP\n",
      "UMAP(random_state=1, verbose=True)\n",
      "Tue Mar 26 12:16:39 2024 Construct fuzzy simplicial set\n",
      "Tue Mar 26 12:16:39 2024 Finding Nearest Neighbors\n",
      "Tue Mar 26 12:16:39 2024 Building RP forest with 9 trees\n"
     ]
    },
    {
     "name": "stderr",
     "output_type": "stream",
     "text": [
      "/home/jan/anaconda3/envs/elephant_analysis_env/lib/python3.11/site-packages/umap/umap_.py:1943: UserWarning: n_jobs value -1 overridden to 1 by setting random_state. Use no seed for parallelism.\n",
      "  warn(f\"n_jobs value {self.n_jobs} overridden to 1 by setting random_state. Use no seed for parallelism.\")\n"
     ]
    },
    {
     "name": "stdout",
     "output_type": "stream",
     "text": [
      "Tue Mar 26 12:16:39 2024 NN descent for 13 iterations\n",
      "\t 1  /  13\n",
      "\t 2  /  13\n",
      "\t 3  /  13\n",
      "\tStopping threshold met -- exiting after 3 iterations\n",
      "Tue Mar 26 12:16:39 2024 Finished Nearest Neighbor Search\n",
      "Tue Mar 26 12:16:39 2024 Construct embedding\n"
     ]
    },
    {
     "name": "stderr",
     "output_type": "stream",
     "text": [
      "Epochs completed:   2%| ▉                                         12/500 [00:00]"
     ]
    },
    {
     "name": "stdout",
     "output_type": "stream",
     "text": [
      "\tcompleted  0  /  500 epochs\n"
     ]
    },
    {
     "name": "stderr",
     "output_type": "stream",
     "text": [
      "Epochs completed:  13%| █████▍                                    66/500 [00:01]"
     ]
    },
    {
     "name": "stdout",
     "output_type": "stream",
     "text": [
      "\tcompleted  50  /  500 epochs\n"
     ]
    },
    {
     "name": "stderr",
     "output_type": "stream",
     "text": [
      "Epochs completed:  22%| ████████▉                                111/500 [00:01]"
     ]
    },
    {
     "name": "stdout",
     "output_type": "stream",
     "text": [
      "\tcompleted  100  /  500 epochs\n"
     ]
    },
    {
     "name": "stderr",
     "output_type": "stream",
     "text": [
      "Epochs completed:  33%| █████████████▏                           165/500 [00:02]"
     ]
    },
    {
     "name": "stdout",
     "output_type": "stream",
     "text": [
      "\tcompleted  150  /  500 epochs\n"
     ]
    },
    {
     "name": "stderr",
     "output_type": "stream",
     "text": [
      "Epochs completed:  42%| ████████████████▉                        211/500 [00:02]"
     ]
    },
    {
     "name": "stdout",
     "output_type": "stream",
     "text": [
      "\tcompleted  200  /  500 epochs\n"
     ]
    },
    {
     "name": "stderr",
     "output_type": "stream",
     "text": [
      "Epochs completed:  53%| █████████████████████▏                   265/500 [00:03]"
     ]
    },
    {
     "name": "stdout",
     "output_type": "stream",
     "text": [
      "\tcompleted  250  /  500 epochs\n"
     ]
    },
    {
     "name": "stderr",
     "output_type": "stream",
     "text": [
      "Epochs completed:  62%| ████████████████████████▉                311/500 [00:03]"
     ]
    },
    {
     "name": "stdout",
     "output_type": "stream",
     "text": [
      "\tcompleted  300  /  500 epochs\n"
     ]
    },
    {
     "name": "stderr",
     "output_type": "stream",
     "text": [
      "Epochs completed:  73%| █████████████████████████████▏           365/500 [00:04]"
     ]
    },
    {
     "name": "stdout",
     "output_type": "stream",
     "text": [
      "\tcompleted  350  /  500 epochs\n"
     ]
    },
    {
     "name": "stderr",
     "output_type": "stream",
     "text": [
      "Epochs completed:  82%| ████████████████████████████████▉        411/500 [00:05]"
     ]
    },
    {
     "name": "stdout",
     "output_type": "stream",
     "text": [
      "\tcompleted  400  /  500 epochs\n"
     ]
    },
    {
     "name": "stderr",
     "output_type": "stream",
     "text": [
      "Epochs completed:  93%| █████████████████████████████████████▏   465/500 [00:05]"
     ]
    },
    {
     "name": "stdout",
     "output_type": "stream",
     "text": [
      "\tcompleted  450  /  500 epochs\n"
     ]
    },
    {
     "name": "stderr",
     "output_type": "stream",
     "text": [
      "Epochs completed: 100%| ████████████████████████████████████████ 500/500 [00:06]\n"
     ]
    },
    {
     "name": "stdout",
     "output_type": "stream",
     "text": [
      "Tue Mar 26 12:16:45 2024 Finished embedding\n",
      "TSNE\n",
      "--------------------------------------------------------------------------------\n",
      "TSNE(early_exaggeration=12, random_state=1, verbose=True)\n",
      "--------------------------------------------------------------------------------\n",
      "===> Finding 90 nearest neighbors using Annoy approximate search using euclidean distance...\n",
      "   --> Time elapsed: 1.65 seconds\n",
      "===> Calculating affinity matrix...\n",
      "   --> Time elapsed: 0.09 seconds\n",
      "===> Calculating PCA-based initialization...\n",
      "   --> Time elapsed: 0.01 seconds\n",
      "===> Running optimization with exaggeration=12.00, lr=580.25 for 250 iterations...\n",
      "Iteration   50, KL divergence 3.3270, 50 iterations in 5.4728 sec\n",
      "Iteration  100, KL divergence 3.2008, 50 iterations in 5.1285 sec\n",
      "Iteration  150, KL divergence 3.1301, 50 iterations in 5.2352 sec\n",
      "Iteration  200, KL divergence 3.0967, 50 iterations in 5.1933 sec\n",
      "Iteration  250, KL divergence 3.0779, 50 iterations in 5.0791 sec\n",
      "   --> Time elapsed: 26.11 seconds\n",
      "===> Running optimization with exaggeration=1.00, lr=6963.00 for 500 iterations...\n",
      "Iteration   50, KL divergence 1.6194, 50 iterations in 4.7680 sec\n",
      "Iteration  100, KL divergence 1.4513, 50 iterations in 4.6456 sec\n",
      "Iteration  150, KL divergence 1.3848, 50 iterations in 4.7494 sec\n",
      "Iteration  200, KL divergence 1.3480, 50 iterations in 4.6435 sec\n",
      "Iteration  250, KL divergence 1.3244, 50 iterations in 4.7027 sec\n",
      "Iteration  300, KL divergence 1.3076, 50 iterations in 4.7429 sec\n",
      "Iteration  350, KL divergence 1.2952, 50 iterations in 4.8030 sec\n",
      "Iteration  400, KL divergence 1.2852, 50 iterations in 4.7983 sec\n",
      "Iteration  450, KL divergence 1.2776, 50 iterations in 4.6928 sec\n",
      "Iteration  500, KL divergence 1.2712, 50 iterations in 4.6443 sec\n",
      "   --> Time elapsed: 47.19 seconds\n",
      "merfish seed: 2 scaled: False\n",
      "PCA2\n",
      "PCA50\n",
      "UMAP\n",
      "UMAP(random_state=2, verbose=True)\n",
      "Tue Mar 26 12:18:01 2024 Construct fuzzy simplicial set\n",
      "Tue Mar 26 12:18:01 2024 Finding Nearest Neighbors\n",
      "Tue Mar 26 12:18:01 2024 Building RP forest with 9 trees\n"
     ]
    },
    {
     "name": "stderr",
     "output_type": "stream",
     "text": [
      "/home/jan/anaconda3/envs/elephant_analysis_env/lib/python3.11/site-packages/umap/umap_.py:1943: UserWarning: n_jobs value -1 overridden to 1 by setting random_state. Use no seed for parallelism.\n",
      "  warn(f\"n_jobs value {self.n_jobs} overridden to 1 by setting random_state. Use no seed for parallelism.\")\n"
     ]
    },
    {
     "name": "stdout",
     "output_type": "stream",
     "text": [
      "Tue Mar 26 12:18:01 2024 NN descent for 13 iterations\n",
      "\t 1  /  13\n",
      "\t 2  /  13\n",
      "\t 3  /  13\n",
      "\tStopping threshold met -- exiting after 3 iterations\n",
      "Tue Mar 26 12:18:01 2024 Finished Nearest Neighbor Search\n",
      "Tue Mar 26 12:18:01 2024 Construct embedding\n"
     ]
    },
    {
     "name": "stderr",
     "output_type": "stream",
     "text": [
      "Epochs completed:   2%| ▉                                         12/500 [00:00]"
     ]
    },
    {
     "name": "stdout",
     "output_type": "stream",
     "text": [
      "\tcompleted  0  /  500 epochs\n"
     ]
    },
    {
     "name": "stderr",
     "output_type": "stream",
     "text": [
      "Epochs completed:  13%| █████▍                                    66/500 [00:01]"
     ]
    },
    {
     "name": "stdout",
     "output_type": "stream",
     "text": [
      "\tcompleted  50  /  500 epochs\n"
     ]
    },
    {
     "name": "stderr",
     "output_type": "stream",
     "text": [
      "Epochs completed:  22%| ████████▉                                111/500 [00:01]"
     ]
    },
    {
     "name": "stdout",
     "output_type": "stream",
     "text": [
      "\tcompleted  100  /  500 epochs\n"
     ]
    },
    {
     "name": "stderr",
     "output_type": "stream",
     "text": [
      "Epochs completed:  33%| █████████████▎                           167/500 [00:02]"
     ]
    },
    {
     "name": "stdout",
     "output_type": "stream",
     "text": [
      "\tcompleted  150  /  500 epochs\n"
     ]
    },
    {
     "name": "stderr",
     "output_type": "stream",
     "text": [
      "Epochs completed:  42%| ████████████████▉                        212/500 [00:02]"
     ]
    },
    {
     "name": "stdout",
     "output_type": "stream",
     "text": [
      "\tcompleted  200  /  500 epochs\n"
     ]
    },
    {
     "name": "stderr",
     "output_type": "stream",
     "text": [
      "Epochs completed:  53%| █████████████████████▎                   266/500 [00:03]"
     ]
    },
    {
     "name": "stdout",
     "output_type": "stream",
     "text": [
      "\tcompleted  250  /  500 epochs\n"
     ]
    },
    {
     "name": "stderr",
     "output_type": "stream",
     "text": [
      "Epochs completed:  62%| ████████████████████████▉                311/500 [00:03]"
     ]
    },
    {
     "name": "stdout",
     "output_type": "stream",
     "text": [
      "\tcompleted  300  /  500 epochs\n"
     ]
    },
    {
     "name": "stderr",
     "output_type": "stream",
     "text": [
      "Epochs completed:  73%| █████████████████████████████▏           365/500 [00:04]"
     ]
    },
    {
     "name": "stdout",
     "output_type": "stream",
     "text": [
      "\tcompleted  350  /  500 epochs\n"
     ]
    },
    {
     "name": "stderr",
     "output_type": "stream",
     "text": [
      "Epochs completed:  82%| ████████████████████████████████▊        410/500 [00:05]"
     ]
    },
    {
     "name": "stdout",
     "output_type": "stream",
     "text": [
      "\tcompleted  400  /  500 epochs\n"
     ]
    },
    {
     "name": "stderr",
     "output_type": "stream",
     "text": [
      "Epochs completed:  93%| █████████████████████████████████████    464/500 [00:05]"
     ]
    },
    {
     "name": "stdout",
     "output_type": "stream",
     "text": [
      "\tcompleted  450  /  500 epochs\n"
     ]
    },
    {
     "name": "stderr",
     "output_type": "stream",
     "text": [
      "Epochs completed: 100%| ████████████████████████████████████████ 500/500 [00:06]\n"
     ]
    },
    {
     "name": "stdout",
     "output_type": "stream",
     "text": [
      "Tue Mar 26 12:18:07 2024 Finished embedding\n",
      "TSNE\n",
      "--------------------------------------------------------------------------------\n",
      "TSNE(early_exaggeration=12, random_state=2, verbose=True)\n",
      "--------------------------------------------------------------------------------\n",
      "===> Finding 90 nearest neighbors using Annoy approximate search using euclidean distance...\n",
      "   --> Time elapsed: 1.67 seconds\n",
      "===> Calculating affinity matrix...\n",
      "   --> Time elapsed: 0.10 seconds\n",
      "===> Calculating PCA-based initialization...\n",
      "   --> Time elapsed: 0.01 seconds\n",
      "===> Running optimization with exaggeration=12.00, lr=580.25 for 250 iterations...\n",
      "Iteration   50, KL divergence 3.3301, 50 iterations in 5.5441 sec\n",
      "Iteration  100, KL divergence 3.2016, 50 iterations in 5.1498 sec\n",
      "Iteration  150, KL divergence 3.1286, 50 iterations in 5.1080 sec\n",
      "Iteration  200, KL divergence 3.0947, 50 iterations in 5.1017 sec\n",
      "Iteration  250, KL divergence 3.0751, 50 iterations in 5.0654 sec\n",
      "   --> Time elapsed: 25.97 seconds\n",
      "===> Running optimization with exaggeration=1.00, lr=6963.00 for 500 iterations...\n",
      "Iteration   50, KL divergence 1.6194, 50 iterations in 4.8170 sec\n",
      "Iteration  100, KL divergence 1.4488, 50 iterations in 4.6046 sec\n",
      "Iteration  150, KL divergence 1.3820, 50 iterations in 4.5776 sec\n",
      "Iteration  200, KL divergence 1.3452, 50 iterations in 4.6849 sec\n",
      "Iteration  250, KL divergence 1.3216, 50 iterations in 4.6809 sec\n",
      "Iteration  300, KL divergence 1.3047, 50 iterations in 4.6976 sec\n",
      "Iteration  350, KL divergence 1.2922, 50 iterations in 4.6947 sec\n",
      "Iteration  400, KL divergence 1.2826, 50 iterations in 4.6654 sec\n",
      "Iteration  450, KL divergence 1.2748, 50 iterations in 4.7249 sec\n",
      "Iteration  500, KL divergence 1.2683, 50 iterations in 4.7440 sec\n",
      "   --> Time elapsed: 46.89 seconds\n",
      "merfish seed: 3 scaled: False\n",
      "PCA2\n",
      "PCA50\n",
      "UMAP\n",
      "UMAP(random_state=3, verbose=True)\n",
      "Tue Mar 26 12:19:22 2024 Construct fuzzy simplicial set\n",
      "Tue Mar 26 12:19:22 2024 Finding Nearest Neighbors\n",
      "Tue Mar 26 12:19:22 2024 Building RP forest with 9 trees\n"
     ]
    },
    {
     "name": "stderr",
     "output_type": "stream",
     "text": [
      "/home/jan/anaconda3/envs/elephant_analysis_env/lib/python3.11/site-packages/umap/umap_.py:1943: UserWarning: n_jobs value -1 overridden to 1 by setting random_state. Use no seed for parallelism.\n",
      "  warn(f\"n_jobs value {self.n_jobs} overridden to 1 by setting random_state. Use no seed for parallelism.\")\n"
     ]
    },
    {
     "name": "stdout",
     "output_type": "stream",
     "text": [
      "Tue Mar 26 12:19:22 2024 NN descent for 13 iterations\n",
      "\t 1  /  13\n",
      "\t 2  /  13\n",
      "\t 3  /  13\n",
      "\tStopping threshold met -- exiting after 3 iterations\n",
      "Tue Mar 26 12:19:22 2024 Finished Nearest Neighbor Search\n",
      "Tue Mar 26 12:19:23 2024 Construct embedding\n"
     ]
    },
    {
     "name": "stderr",
     "output_type": "stream",
     "text": [
      "Epochs completed:   2%| ▉                                         12/500 [00:00]"
     ]
    },
    {
     "name": "stdout",
     "output_type": "stream",
     "text": [
      "\tcompleted  0  /  500 epochs\n"
     ]
    },
    {
     "name": "stderr",
     "output_type": "stream",
     "text": [
      "Epochs completed:  13%| █████▍                                    67/500 [00:01]"
     ]
    },
    {
     "name": "stdout",
     "output_type": "stream",
     "text": [
      "\tcompleted  50  /  500 epochs\n"
     ]
    },
    {
     "name": "stderr",
     "output_type": "stream",
     "text": [
      "Epochs completed:  22%| ████████▉                                112/500 [00:01]"
     ]
    },
    {
     "name": "stdout",
     "output_type": "stream",
     "text": [
      "\tcompleted  100  /  500 epochs\n"
     ]
    },
    {
     "name": "stderr",
     "output_type": "stream",
     "text": [
      "Epochs completed:  33%| █████████████▎                           166/500 [00:02]"
     ]
    },
    {
     "name": "stdout",
     "output_type": "stream",
     "text": [
      "\tcompleted  150  /  500 epochs\n"
     ]
    },
    {
     "name": "stderr",
     "output_type": "stream",
     "text": [
      "Epochs completed:  43%| █████████████████                        213/500 [00:02]"
     ]
    },
    {
     "name": "stdout",
     "output_type": "stream",
     "text": [
      "\tcompleted  200  /  500 epochs\n"
     ]
    },
    {
     "name": "stderr",
     "output_type": "stream",
     "text": [
      "Epochs completed:  54%| █████████████████████▍                   268/500 [00:03]"
     ]
    },
    {
     "name": "stdout",
     "output_type": "stream",
     "text": [
      "\tcompleted  250  /  500 epochs\n"
     ]
    },
    {
     "name": "stderr",
     "output_type": "stream",
     "text": [
      "Epochs completed:  63%| █████████████████████████▎               317/500 [00:03]"
     ]
    },
    {
     "name": "stdout",
     "output_type": "stream",
     "text": [
      "\tcompleted  300  /  500 epochs\n"
     ]
    },
    {
     "name": "stderr",
     "output_type": "stream",
     "text": [
      "Epochs completed:  73%| █████████████████████████████▏           365/500 [00:04]"
     ]
    },
    {
     "name": "stdout",
     "output_type": "stream",
     "text": [
      "\tcompleted  350  /  500 epochs\n"
     ]
    },
    {
     "name": "stderr",
     "output_type": "stream",
     "text": [
      "Epochs completed:  82%| ████████████████████████████████▊        410/500 [00:04]"
     ]
    },
    {
     "name": "stdout",
     "output_type": "stream",
     "text": [
      "\tcompleted  400  /  500 epochs\n"
     ]
    },
    {
     "name": "stderr",
     "output_type": "stream",
     "text": [
      "Epochs completed:  93%| █████████████████████████████████████▎   466/500 [00:05]"
     ]
    },
    {
     "name": "stdout",
     "output_type": "stream",
     "text": [
      "\tcompleted  450  /  500 epochs\n"
     ]
    },
    {
     "name": "stderr",
     "output_type": "stream",
     "text": [
      "Epochs completed: 100%| ████████████████████████████████████████ 500/500 [00:05]\n"
     ]
    },
    {
     "name": "stdout",
     "output_type": "stream",
     "text": [
      "Tue Mar 26 12:19:29 2024 Finished embedding\n",
      "TSNE\n",
      "--------------------------------------------------------------------------------\n",
      "TSNE(early_exaggeration=12, random_state=3, verbose=True)\n",
      "--------------------------------------------------------------------------------\n",
      "===> Finding 90 nearest neighbors using Annoy approximate search using euclidean distance...\n",
      "   --> Time elapsed: 1.65 seconds\n",
      "===> Calculating affinity matrix...\n",
      "   --> Time elapsed: 0.09 seconds\n",
      "===> Calculating PCA-based initialization...\n",
      "   --> Time elapsed: 0.01 seconds\n",
      "===> Running optimization with exaggeration=12.00, lr=580.25 for 250 iterations...\n",
      "Iteration   50, KL divergence 3.3277, 50 iterations in 5.4059 sec\n",
      "Iteration  100, KL divergence 3.2010, 50 iterations in 5.0001 sec\n",
      "Iteration  150, KL divergence 3.1315, 50 iterations in 5.0019 sec\n",
      "Iteration  200, KL divergence 3.0979, 50 iterations in 5.0318 sec\n",
      "Iteration  250, KL divergence 3.0773, 50 iterations in 4.9704 sec\n",
      "   --> Time elapsed: 25.41 seconds\n",
      "===> Running optimization with exaggeration=1.00, lr=6963.00 for 500 iterations...\n",
      "Iteration   50, KL divergence 1.6252, 50 iterations in 4.7651 sec\n",
      "Iteration  100, KL divergence 1.4540, 50 iterations in 4.7013 sec\n",
      "Iteration  150, KL divergence 1.3878, 50 iterations in 4.6051 sec\n",
      "Iteration  200, KL divergence 1.3510, 50 iterations in 4.5888 sec\n",
      "Iteration  250, KL divergence 1.3272, 50 iterations in 4.6554 sec\n",
      "Iteration  300, KL divergence 1.3106, 50 iterations in 4.6288 sec\n",
      "Iteration  350, KL divergence 1.2979, 50 iterations in 4.6141 sec\n",
      "Iteration  400, KL divergence 1.2881, 50 iterations in 4.6389 sec\n",
      "Iteration  450, KL divergence 1.2802, 50 iterations in 4.6407 sec\n",
      "Iteration  500, KL divergence 1.2734, 50 iterations in 4.6501 sec\n",
      "   --> Time elapsed: 46.49 seconds\n",
      "merfish seed: 4 scaled: False\n",
      "PCA2\n",
      "PCA50\n",
      "UMAP\n",
      "UMAP(random_state=4, verbose=True)\n",
      "Tue Mar 26 12:20:43 2024 Construct fuzzy simplicial set\n",
      "Tue Mar 26 12:20:43 2024 Finding Nearest Neighbors\n",
      "Tue Mar 26 12:20:43 2024 Building RP forest with 9 trees\n"
     ]
    },
    {
     "name": "stderr",
     "output_type": "stream",
     "text": [
      "/home/jan/anaconda3/envs/elephant_analysis_env/lib/python3.11/site-packages/umap/umap_.py:1943: UserWarning: n_jobs value -1 overridden to 1 by setting random_state. Use no seed for parallelism.\n",
      "  warn(f\"n_jobs value {self.n_jobs} overridden to 1 by setting random_state. Use no seed for parallelism.\")\n"
     ]
    },
    {
     "name": "stdout",
     "output_type": "stream",
     "text": [
      "Tue Mar 26 12:20:43 2024 NN descent for 13 iterations\n",
      "\t 1  /  13\n",
      "\t 2  /  13\n",
      "\t 3  /  13\n",
      "\tStopping threshold met -- exiting after 3 iterations\n",
      "Tue Mar 26 12:20:43 2024 Finished Nearest Neighbor Search\n",
      "Tue Mar 26 12:20:43 2024 Construct embedding\n"
     ]
    },
    {
     "name": "stderr",
     "output_type": "stream",
     "text": [
      "Epochs completed:   2%| ▉                                         12/500 [00:00]"
     ]
    },
    {
     "name": "stdout",
     "output_type": "stream",
     "text": [
      "\tcompleted  0  /  500 epochs\n"
     ]
    },
    {
     "name": "stderr",
     "output_type": "stream",
     "text": [
      "Epochs completed:  13%| █████▍                                    67/500 [00:01]"
     ]
    },
    {
     "name": "stdout",
     "output_type": "stream",
     "text": [
      "\tcompleted  50  /  500 epochs\n"
     ]
    },
    {
     "name": "stderr",
     "output_type": "stream",
     "text": [
      "Epochs completed:  22%| ████████▉                                112/500 [00:01]"
     ]
    },
    {
     "name": "stdout",
     "output_type": "stream",
     "text": [
      "\tcompleted  100  /  500 epochs\n"
     ]
    },
    {
     "name": "stderr",
     "output_type": "stream",
     "text": [
      "Epochs completed:  33%| █████████████▎                           167/500 [00:02]"
     ]
    },
    {
     "name": "stdout",
     "output_type": "stream",
     "text": [
      "\tcompleted  150  /  500 epochs\n"
     ]
    },
    {
     "name": "stderr",
     "output_type": "stream",
     "text": [
      "Epochs completed:  42%| ████████████████▉                        212/500 [00:02]"
     ]
    },
    {
     "name": "stdout",
     "output_type": "stream",
     "text": [
      "\tcompleted  200  /  500 epochs\n"
     ]
    },
    {
     "name": "stderr",
     "output_type": "stream",
     "text": [
      "Epochs completed:  53%| █████████████████████▎                   266/500 [00:03]"
     ]
    },
    {
     "name": "stdout",
     "output_type": "stream",
     "text": [
      "\tcompleted  250  /  500 epochs\n"
     ]
    },
    {
     "name": "stderr",
     "output_type": "stream",
     "text": [
      "Epochs completed:  62%| ████████████████████████▉                312/500 [00:03]"
     ]
    },
    {
     "name": "stdout",
     "output_type": "stream",
     "text": [
      "\tcompleted  300  /  500 epochs\n"
     ]
    },
    {
     "name": "stderr",
     "output_type": "stream",
     "text": [
      "Epochs completed:  73%| █████████████████████████████▎           366/500 [00:04]"
     ]
    },
    {
     "name": "stdout",
     "output_type": "stream",
     "text": [
      "\tcompleted  350  /  500 epochs\n"
     ]
    },
    {
     "name": "stderr",
     "output_type": "stream",
     "text": [
      "Epochs completed:  82%| ████████████████████████████████▉        411/500 [00:04]"
     ]
    },
    {
     "name": "stdout",
     "output_type": "stream",
     "text": [
      "\tcompleted  400  /  500 epochs\n"
     ]
    },
    {
     "name": "stderr",
     "output_type": "stream",
     "text": [
      "Epochs completed:  93%| █████████████████████████████████████▏   465/500 [00:05]"
     ]
    },
    {
     "name": "stdout",
     "output_type": "stream",
     "text": [
      "\tcompleted  450  /  500 epochs\n"
     ]
    },
    {
     "name": "stderr",
     "output_type": "stream",
     "text": [
      "Epochs completed: 100%| ████████████████████████████████████████ 500/500 [00:05]\n"
     ]
    },
    {
     "name": "stdout",
     "output_type": "stream",
     "text": [
      "Tue Mar 26 12:20:49 2024 Finished embedding\n",
      "TSNE\n",
      "--------------------------------------------------------------------------------\n",
      "TSNE(early_exaggeration=12, random_state=4, verbose=True)\n",
      "--------------------------------------------------------------------------------\n",
      "===> Finding 90 nearest neighbors using Annoy approximate search using euclidean distance...\n",
      "   --> Time elapsed: 1.64 seconds\n",
      "===> Calculating affinity matrix...\n",
      "   --> Time elapsed: 0.09 seconds\n",
      "===> Calculating PCA-based initialization...\n",
      "   --> Time elapsed: 0.01 seconds\n",
      "===> Running optimization with exaggeration=12.00, lr=580.25 for 250 iterations...\n",
      "Iteration   50, KL divergence 3.3226, 50 iterations in 5.4142 sec\n",
      "Iteration  100, KL divergence 3.1996, 50 iterations in 4.9816 sec\n",
      "Iteration  150, KL divergence 3.1292, 50 iterations in 5.0010 sec\n",
      "Iteration  200, KL divergence 3.0946, 50 iterations in 5.0976 sec\n",
      "Iteration  250, KL divergence 3.0737, 50 iterations in 5.0890 sec\n",
      "   --> Time elapsed: 25.58 seconds\n",
      "===> Running optimization with exaggeration=1.00, lr=6963.00 for 500 iterations...\n",
      "Iteration   50, KL divergence 1.6198, 50 iterations in 4.7797 sec\n",
      "Iteration  100, KL divergence 1.4477, 50 iterations in 4.6303 sec\n",
      "Iteration  150, KL divergence 1.3804, 50 iterations in 4.5759 sec\n",
      "Iteration  200, KL divergence 1.3427, 50 iterations in 4.5772 sec\n",
      "Iteration  250, KL divergence 1.3188, 50 iterations in 4.6239 sec\n",
      "Iteration  300, KL divergence 1.3020, 50 iterations in 4.6170 sec\n",
      "Iteration  350, KL divergence 1.2894, 50 iterations in 4.6285 sec\n",
      "Iteration  400, KL divergence 1.2797, 50 iterations in 4.6398 sec\n",
      "Iteration  450, KL divergence 1.2719, 50 iterations in 4.6456 sec\n",
      "Iteration  500, KL divergence 1.2656, 50 iterations in 4.6693 sec\n",
      "   --> Time elapsed: 46.39 seconds\n",
      "merfish seed: 0 scaled: True\n",
      "PCA2\n",
      "PCA50\n",
      "UMAP\n",
      "UMAP(random_state=0, verbose=True)\n",
      "Tue Mar 26 12:22:03 2024 Construct fuzzy simplicial set\n",
      "Tue Mar 26 12:22:03 2024 Finding Nearest Neighbors\n",
      "Tue Mar 26 12:22:03 2024 Building RP forest with 9 trees\n"
     ]
    },
    {
     "name": "stderr",
     "output_type": "stream",
     "text": [
      "/home/jan/anaconda3/envs/elephant_analysis_env/lib/python3.11/site-packages/umap/umap_.py:1943: UserWarning: n_jobs value -1 overridden to 1 by setting random_state. Use no seed for parallelism.\n",
      "  warn(f\"n_jobs value {self.n_jobs} overridden to 1 by setting random_state. Use no seed for parallelism.\")\n"
     ]
    },
    {
     "name": "stdout",
     "output_type": "stream",
     "text": [
      "Tue Mar 26 12:22:03 2024 NN descent for 13 iterations\n",
      "\t 1  /  13\n",
      "\t 2  /  13\n",
      "\t 3  /  13\n",
      "\t 4  /  13\n",
      "\tStopping threshold met -- exiting after 4 iterations\n",
      "Tue Mar 26 12:22:03 2024 Finished Nearest Neighbor Search\n",
      "Tue Mar 26 12:22:03 2024 Construct embedding\n"
     ]
    },
    {
     "name": "stderr",
     "output_type": "stream",
     "text": [
      "Epochs completed:   2%| ▉                                         12/500 [00:00]"
     ]
    },
    {
     "name": "stdout",
     "output_type": "stream",
     "text": [
      "\tcompleted  0  /  500 epochs\n"
     ]
    },
    {
     "name": "stderr",
     "output_type": "stream",
     "text": [
      "Epochs completed:  13%| █████▍                                    66/500 [00:01]"
     ]
    },
    {
     "name": "stdout",
     "output_type": "stream",
     "text": [
      "\tcompleted  50  /  500 epochs\n"
     ]
    },
    {
     "name": "stderr",
     "output_type": "stream",
     "text": [
      "Epochs completed:  22%| ████████▉                                111/500 [00:01]"
     ]
    },
    {
     "name": "stdout",
     "output_type": "stream",
     "text": [
      "\tcompleted  100  /  500 epochs\n"
     ]
    },
    {
     "name": "stderr",
     "output_type": "stream",
     "text": [
      "Epochs completed:  33%| █████████████▏                           165/500 [00:02]"
     ]
    },
    {
     "name": "stdout",
     "output_type": "stream",
     "text": [
      "\tcompleted  150  /  500 epochs\n"
     ]
    },
    {
     "name": "stderr",
     "output_type": "stream",
     "text": [
      "Epochs completed:  42%| ████████████████▊                        210/500 [00:02]"
     ]
    },
    {
     "name": "stdout",
     "output_type": "stream",
     "text": [
      "\tcompleted  200  /  500 epochs\n"
     ]
    },
    {
     "name": "stderr",
     "output_type": "stream",
     "text": [
      "Epochs completed:  53%| █████████████████████                    264/500 [00:03]"
     ]
    },
    {
     "name": "stdout",
     "output_type": "stream",
     "text": [
      "\tcompleted  250  /  500 epochs\n"
     ]
    },
    {
     "name": "stderr",
     "output_type": "stream",
     "text": [
      "Epochs completed:  64%| █████████████████████████▍               318/500 [00:04]"
     ]
    },
    {
     "name": "stdout",
     "output_type": "stream",
     "text": [
      "\tcompleted  300  /  500 epochs\n"
     ]
    },
    {
     "name": "stderr",
     "output_type": "stream",
     "text": [
      "Epochs completed:  73%| █████████████████████████████            363/500 [00:04]"
     ]
    },
    {
     "name": "stdout",
     "output_type": "stream",
     "text": [
      "\tcompleted  350  /  500 epochs\n"
     ]
    },
    {
     "name": "stderr",
     "output_type": "stream",
     "text": [
      "Epochs completed:  83%| █████████████████████████████████▎       417/500 [00:05]"
     ]
    },
    {
     "name": "stdout",
     "output_type": "stream",
     "text": [
      "\tcompleted  400  /  500 epochs\n"
     ]
    },
    {
     "name": "stderr",
     "output_type": "stream",
     "text": [
      "Epochs completed:  92%| ████████████████████████████████████▉    462/500 [00:05]"
     ]
    },
    {
     "name": "stdout",
     "output_type": "stream",
     "text": [
      "\tcompleted  450  /  500 epochs\n"
     ]
    },
    {
     "name": "stderr",
     "output_type": "stream",
     "text": [
      "Epochs completed: 100%| ████████████████████████████████████████ 500/500 [00:06]\n"
     ]
    },
    {
     "name": "stdout",
     "output_type": "stream",
     "text": [
      "Tue Mar 26 12:22:10 2024 Finished embedding\n",
      "TSNE\n",
      "--------------------------------------------------------------------------------\n",
      "TSNE(early_exaggeration=12, random_state=0, verbose=True)\n",
      "--------------------------------------------------------------------------------\n",
      "===> Finding 90 nearest neighbors using Annoy approximate search using euclidean distance...\n",
      "   --> Time elapsed: 1.69 seconds\n",
      "===> Calculating affinity matrix...\n",
      "   --> Time elapsed: 0.10 seconds\n",
      "===> Calculating PCA-based initialization...\n",
      "   --> Time elapsed: 0.01 seconds\n",
      "===> Running optimization with exaggeration=12.00, lr=580.25 for 250 iterations...\n",
      "Iteration   50, KL divergence 3.4024, 50 iterations in 5.5346 sec\n",
      "Iteration  100, KL divergence 3.2758, 50 iterations in 5.2100 sec\n",
      "Iteration  150, KL divergence 3.2256, 50 iterations in 5.0911 sec\n",
      "Iteration  200, KL divergence 3.2017, 50 iterations in 5.0444 sec\n",
      "Iteration  250, KL divergence 3.1898, 50 iterations in 4.9938 sec\n",
      "   --> Time elapsed: 25.87 seconds\n",
      "===> Running optimization with exaggeration=1.00, lr=6963.00 for 500 iterations...\n",
      "Iteration   50, KL divergence 1.7216, 50 iterations in 4.9384 sec\n",
      "Iteration  100, KL divergence 1.5677, 50 iterations in 4.8731 sec\n",
      "Iteration  150, KL divergence 1.5074, 50 iterations in 4.8597 sec\n",
      "Iteration  200, KL divergence 1.4741, 50 iterations in 4.8576 sec\n",
      "Iteration  250, KL divergence 1.4526, 50 iterations in 4.8895 sec\n",
      "Iteration  300, KL divergence 1.4377, 50 iterations in 4.8959 sec\n",
      "Iteration  350, KL divergence 1.4266, 50 iterations in 4.8654 sec\n",
      "Iteration  400, KL divergence 1.4179, 50 iterations in 4.8646 sec\n",
      "Iteration  450, KL divergence 1.4110, 50 iterations in 4.8601 sec\n",
      "Iteration  500, KL divergence 1.4052, 50 iterations in 4.8284 sec\n",
      "   --> Time elapsed: 48.73 seconds\n",
      "merfish seed: 1 scaled: True\n",
      "PCA2\n",
      "PCA50\n",
      "UMAP\n",
      "UMAP(random_state=1, verbose=True)\n",
      "Tue Mar 26 12:23:26 2024 Construct fuzzy simplicial set\n",
      "Tue Mar 26 12:23:26 2024 Finding Nearest Neighbors\n",
      "Tue Mar 26 12:23:26 2024 Building RP forest with 9 trees\n"
     ]
    },
    {
     "name": "stderr",
     "output_type": "stream",
     "text": [
      "/home/jan/anaconda3/envs/elephant_analysis_env/lib/python3.11/site-packages/umap/umap_.py:1943: UserWarning: n_jobs value -1 overridden to 1 by setting random_state. Use no seed for parallelism.\n",
      "  warn(f\"n_jobs value {self.n_jobs} overridden to 1 by setting random_state. Use no seed for parallelism.\")\n"
     ]
    },
    {
     "name": "stdout",
     "output_type": "stream",
     "text": [
      "Tue Mar 26 12:23:27 2024 NN descent for 13 iterations\n",
      "\t 1  /  13\n",
      "\t 2  /  13\n",
      "\t 3  /  13\n",
      "\t 4  /  13\n",
      "\tStopping threshold met -- exiting after 4 iterations\n",
      "Tue Mar 26 12:23:27 2024 Finished Nearest Neighbor Search\n",
      "Tue Mar 26 12:23:27 2024 Construct embedding\n"
     ]
    },
    {
     "name": "stderr",
     "output_type": "stream",
     "text": [
      "Epochs completed:   2%| ▉                                         12/500 [00:00]"
     ]
    },
    {
     "name": "stdout",
     "output_type": "stream",
     "text": [
      "\tcompleted  0  /  500 epochs\n"
     ]
    },
    {
     "name": "stderr",
     "output_type": "stream",
     "text": [
      "Epochs completed:  13%| █████▍                                    67/500 [00:01]"
     ]
    },
    {
     "name": "stdout",
     "output_type": "stream",
     "text": [
      "\tcompleted  50  /  500 epochs\n"
     ]
    },
    {
     "name": "stderr",
     "output_type": "stream",
     "text": [
      "Epochs completed:  22%| ████████▉                                112/500 [00:01]"
     ]
    },
    {
     "name": "stdout",
     "output_type": "stream",
     "text": [
      "\tcompleted  100  /  500 epochs\n"
     ]
    },
    {
     "name": "stderr",
     "output_type": "stream",
     "text": [
      "Epochs completed:  33%| █████████████▎                           167/500 [00:02]"
     ]
    },
    {
     "name": "stdout",
     "output_type": "stream",
     "text": [
      "\tcompleted  150  /  500 epochs\n"
     ]
    },
    {
     "name": "stderr",
     "output_type": "stream",
     "text": [
      "Epochs completed:  42%| ████████████████▉                        212/500 [00:02]"
     ]
    },
    {
     "name": "stdout",
     "output_type": "stream",
     "text": [
      "\tcompleted  200  /  500 epochs\n"
     ]
    },
    {
     "name": "stderr",
     "output_type": "stream",
     "text": [
      "Epochs completed:  53%| █████████████████████▎                   266/500 [00:03]"
     ]
    },
    {
     "name": "stdout",
     "output_type": "stream",
     "text": [
      "\tcompleted  250  /  500 epochs\n"
     ]
    },
    {
     "name": "stderr",
     "output_type": "stream",
     "text": [
      "Epochs completed:  62%| ████████████████████████▉                311/500 [00:03]"
     ]
    },
    {
     "name": "stdout",
     "output_type": "stream",
     "text": [
      "\tcompleted  300  /  500 epochs\n"
     ]
    },
    {
     "name": "stderr",
     "output_type": "stream",
     "text": [
      "Epochs completed:  73%| █████████████████████████████▎           367/500 [00:04]"
     ]
    },
    {
     "name": "stdout",
     "output_type": "stream",
     "text": [
      "\tcompleted  350  /  500 epochs\n"
     ]
    },
    {
     "name": "stderr",
     "output_type": "stream",
     "text": [
      "Epochs completed:  82%| ████████████████████████████████▉        412/500 [00:05]"
     ]
    },
    {
     "name": "stdout",
     "output_type": "stream",
     "text": [
      "\tcompleted  400  /  500 epochs\n"
     ]
    },
    {
     "name": "stderr",
     "output_type": "stream",
     "text": [
      "Epochs completed:  93%| █████████████████████████████████████▎   466/500 [00:05]"
     ]
    },
    {
     "name": "stdout",
     "output_type": "stream",
     "text": [
      "\tcompleted  450  /  500 epochs\n"
     ]
    },
    {
     "name": "stderr",
     "output_type": "stream",
     "text": [
      "Epochs completed: 100%| ████████████████████████████████████████ 500/500 [00:05]\n"
     ]
    },
    {
     "name": "stdout",
     "output_type": "stream",
     "text": [
      "Tue Mar 26 12:23:33 2024 Finished embedding\n",
      "TSNE\n",
      "--------------------------------------------------------------------------------\n",
      "TSNE(early_exaggeration=12, random_state=1, verbose=True)\n",
      "--------------------------------------------------------------------------------\n",
      "===> Finding 90 nearest neighbors using Annoy approximate search using euclidean distance...\n",
      "   --> Time elapsed: 1.65 seconds\n",
      "===> Calculating affinity matrix...\n",
      "   --> Time elapsed: 0.09 seconds\n",
      "===> Calculating PCA-based initialization...\n",
      "   --> Time elapsed: 0.01 seconds\n",
      "===> Running optimization with exaggeration=12.00, lr=580.25 for 250 iterations...\n",
      "Iteration   50, KL divergence 3.3901, 50 iterations in 5.4958 sec\n",
      "Iteration  100, KL divergence 3.2695, 50 iterations in 5.1074 sec\n",
      "Iteration  150, KL divergence 3.2217, 50 iterations in 5.0344 sec\n",
      "Iteration  200, KL divergence 3.1963, 50 iterations in 4.9613 sec\n",
      "Iteration  250, KL divergence 3.1827, 50 iterations in 4.9339 sec\n",
      "   --> Time elapsed: 25.53 seconds\n",
      "===> Running optimization with exaggeration=1.00, lr=6963.00 for 500 iterations...\n",
      "Iteration   50, KL divergence 1.7215, 50 iterations in 4.8328 sec\n",
      "Iteration  100, KL divergence 1.5693, 50 iterations in 4.8190 sec\n",
      "Iteration  150, KL divergence 1.5097, 50 iterations in 4.8134 sec\n",
      "Iteration  200, KL divergence 1.4769, 50 iterations in 4.8255 sec\n",
      "Iteration  250, KL divergence 1.4557, 50 iterations in 4.8313 sec\n",
      "Iteration  300, KL divergence 1.4412, 50 iterations in 4.8599 sec\n",
      "Iteration  350, KL divergence 1.4305, 50 iterations in 4.9651 sec\n",
      "Iteration  400, KL divergence 1.4218, 50 iterations in 4.9509 sec\n",
      "Iteration  450, KL divergence 1.4150, 50 iterations in 4.8840 sec\n",
      "Iteration  500, KL divergence 1.4095, 50 iterations in 4.9102 sec\n",
      "   --> Time elapsed: 48.69 seconds\n",
      "merfish seed: 2 scaled: True\n",
      "PCA2\n",
      "PCA50\n",
      "UMAP\n",
      "UMAP(random_state=2, verbose=True)\n",
      "Tue Mar 26 12:24:49 2024 Construct fuzzy simplicial set\n",
      "Tue Mar 26 12:24:49 2024 Finding Nearest Neighbors\n",
      "Tue Mar 26 12:24:49 2024 Building RP forest with 9 trees\n"
     ]
    },
    {
     "name": "stderr",
     "output_type": "stream",
     "text": [
      "/home/jan/anaconda3/envs/elephant_analysis_env/lib/python3.11/site-packages/umap/umap_.py:1943: UserWarning: n_jobs value -1 overridden to 1 by setting random_state. Use no seed for parallelism.\n",
      "  warn(f\"n_jobs value {self.n_jobs} overridden to 1 by setting random_state. Use no seed for parallelism.\")\n"
     ]
    },
    {
     "name": "stdout",
     "output_type": "stream",
     "text": [
      "Tue Mar 26 12:24:49 2024 NN descent for 13 iterations\n",
      "\t 1  /  13\n",
      "\t 2  /  13\n",
      "\t 3  /  13\n",
      "\tStopping threshold met -- exiting after 3 iterations\n",
      "Tue Mar 26 12:24:49 2024 Finished Nearest Neighbor Search\n",
      "Tue Mar 26 12:24:49 2024 Construct embedding\n"
     ]
    },
    {
     "name": "stderr",
     "output_type": "stream",
     "text": [
      "Epochs completed:   2%| ▉                                         12/500 [00:00]"
     ]
    },
    {
     "name": "stdout",
     "output_type": "stream",
     "text": [
      "\tcompleted  0  /  500 epochs\n"
     ]
    },
    {
     "name": "stderr",
     "output_type": "stream",
     "text": [
      "Epochs completed:  13%| █████▍                                    66/500 [00:01]"
     ]
    },
    {
     "name": "stdout",
     "output_type": "stream",
     "text": [
      "\tcompleted  50  /  500 epochs\n"
     ]
    },
    {
     "name": "stderr",
     "output_type": "stream",
     "text": [
      "Epochs completed:  22%| ████████▉                                111/500 [00:01]"
     ]
    },
    {
     "name": "stdout",
     "output_type": "stream",
     "text": [
      "\tcompleted  100  /  500 epochs\n"
     ]
    },
    {
     "name": "stderr",
     "output_type": "stream",
     "text": [
      "Epochs completed:  33%| █████████████▏                           165/500 [00:02]"
     ]
    },
    {
     "name": "stdout",
     "output_type": "stream",
     "text": [
      "\tcompleted  150  /  500 epochs\n"
     ]
    },
    {
     "name": "stderr",
     "output_type": "stream",
     "text": [
      "Epochs completed:  42%| ████████████████▊                        210/500 [00:02]"
     ]
    },
    {
     "name": "stdout",
     "output_type": "stream",
     "text": [
      "\tcompleted  200  /  500 epochs\n"
     ]
    },
    {
     "name": "stderr",
     "output_type": "stream",
     "text": [
      "Epochs completed:  53%| █████████████████████                    264/500 [00:03]"
     ]
    },
    {
     "name": "stdout",
     "output_type": "stream",
     "text": [
      "\tcompleted  250  /  500 epochs\n"
     ]
    },
    {
     "name": "stderr",
     "output_type": "stream",
     "text": [
      "Epochs completed:  64%| █████████████████████████▍               318/500 [00:04]"
     ]
    },
    {
     "name": "stdout",
     "output_type": "stream",
     "text": [
      "\tcompleted  300  /  500 epochs\n"
     ]
    },
    {
     "name": "stderr",
     "output_type": "stream",
     "text": [
      "Epochs completed:  73%| █████████████████████████████            363/500 [00:04]"
     ]
    },
    {
     "name": "stdout",
     "output_type": "stream",
     "text": [
      "\tcompleted  350  /  500 epochs\n"
     ]
    },
    {
     "name": "stderr",
     "output_type": "stream",
     "text": [
      "Epochs completed:  83%| █████████████████████████████████▎       417/500 [00:05]"
     ]
    },
    {
     "name": "stdout",
     "output_type": "stream",
     "text": [
      "\tcompleted  400  /  500 epochs\n"
     ]
    },
    {
     "name": "stderr",
     "output_type": "stream",
     "text": [
      "Epochs completed:  92%| ████████████████████████████████████▉    462/500 [00:05]"
     ]
    },
    {
     "name": "stdout",
     "output_type": "stream",
     "text": [
      "\tcompleted  450  /  500 epochs\n"
     ]
    },
    {
     "name": "stderr",
     "output_type": "stream",
     "text": [
      "Epochs completed: 100%| ████████████████████████████████████████ 500/500 [00:06]\n"
     ]
    },
    {
     "name": "stdout",
     "output_type": "stream",
     "text": [
      "Tue Mar 26 12:24:56 2024 Finished embedding\n",
      "TSNE\n",
      "--------------------------------------------------------------------------------\n",
      "TSNE(early_exaggeration=12, random_state=2, verbose=True)\n",
      "--------------------------------------------------------------------------------\n",
      "===> Finding 90 nearest neighbors using Annoy approximate search using euclidean distance...\n",
      "   --> Time elapsed: 1.66 seconds\n",
      "===> Calculating affinity matrix...\n",
      "   --> Time elapsed: 0.10 seconds\n",
      "===> Calculating PCA-based initialization...\n",
      "   --> Time elapsed: 0.01 seconds\n",
      "===> Running optimization with exaggeration=12.00, lr=580.25 for 250 iterations...\n",
      "Iteration   50, KL divergence 3.3884, 50 iterations in 5.5171 sec\n",
      "Iteration  100, KL divergence 3.2755, 50 iterations in 5.2103 sec\n",
      "Iteration  150, KL divergence 3.2215, 50 iterations in 4.9948 sec\n",
      "Iteration  200, KL divergence 3.1985, 50 iterations in 5.0042 sec\n",
      "Iteration  250, KL divergence 3.1866, 50 iterations in 5.0131 sec\n",
      "   --> Time elapsed: 25.74 seconds\n",
      "===> Running optimization with exaggeration=1.00, lr=6963.00 for 500 iterations...\n",
      "Iteration   50, KL divergence 1.7218, 50 iterations in 4.8872 sec\n",
      "Iteration  100, KL divergence 1.5698, 50 iterations in 4.8317 sec\n",
      "Iteration  150, KL divergence 1.5098, 50 iterations in 4.8193 sec\n",
      "Iteration  200, KL divergence 1.4768, 50 iterations in 4.8638 sec\n",
      "Iteration  250, KL divergence 1.4557, 50 iterations in 4.8515 sec\n",
      "Iteration  300, KL divergence 1.4411, 50 iterations in 4.8504 sec\n",
      "Iteration  350, KL divergence 1.4299, 50 iterations in 4.8057 sec\n",
      "Iteration  400, KL divergence 1.4211, 50 iterations in 4.8352 sec\n",
      "Iteration  450, KL divergence 1.4139, 50 iterations in 4.8729 sec\n",
      "Iteration  500, KL divergence 1.4078, 50 iterations in 4.8727 sec\n",
      "   --> Time elapsed: 48.49 seconds\n",
      "merfish seed: 3 scaled: True\n",
      "PCA2\n",
      "PCA50\n",
      "UMAP\n",
      "UMAP(random_state=3, verbose=True)\n",
      "Tue Mar 26 12:26:12 2024 Construct fuzzy simplicial set\n",
      "Tue Mar 26 12:26:12 2024 Finding Nearest Neighbors\n",
      "Tue Mar 26 12:26:12 2024 Building RP forest with 9 trees\n"
     ]
    },
    {
     "name": "stderr",
     "output_type": "stream",
     "text": [
      "/home/jan/anaconda3/envs/elephant_analysis_env/lib/python3.11/site-packages/umap/umap_.py:1943: UserWarning: n_jobs value -1 overridden to 1 by setting random_state. Use no seed for parallelism.\n",
      "  warn(f\"n_jobs value {self.n_jobs} overridden to 1 by setting random_state. Use no seed for parallelism.\")\n"
     ]
    },
    {
     "name": "stdout",
     "output_type": "stream",
     "text": [
      "Tue Mar 26 12:26:12 2024 NN descent for 13 iterations\n",
      "\t 1  /  13\n",
      "\t 2  /  13\n",
      "\t 3  /  13\n",
      "\tStopping threshold met -- exiting after 3 iterations\n",
      "Tue Mar 26 12:26:12 2024 Finished Nearest Neighbor Search\n",
      "Tue Mar 26 12:26:12 2024 Construct embedding\n"
     ]
    },
    {
     "name": "stderr",
     "output_type": "stream",
     "text": [
      "Epochs completed:   2%| ▉                                         12/500 [00:00]"
     ]
    },
    {
     "name": "stdout",
     "output_type": "stream",
     "text": [
      "\tcompleted  0  /  500 epochs\n"
     ]
    },
    {
     "name": "stderr",
     "output_type": "stream",
     "text": [
      "Epochs completed:  13%| █████▍                                    66/500 [00:01]"
     ]
    },
    {
     "name": "stdout",
     "output_type": "stream",
     "text": [
      "\tcompleted  50  /  500 epochs\n"
     ]
    },
    {
     "name": "stderr",
     "output_type": "stream",
     "text": [
      "Epochs completed:  22%| ████████▉                                111/500 [00:01]"
     ]
    },
    {
     "name": "stdout",
     "output_type": "stream",
     "text": [
      "\tcompleted  100  /  500 epochs\n"
     ]
    },
    {
     "name": "stderr",
     "output_type": "stream",
     "text": [
      "Epochs completed:  33%| █████████████▏                           165/500 [00:02]"
     ]
    },
    {
     "name": "stdout",
     "output_type": "stream",
     "text": [
      "\tcompleted  150  /  500 epochs\n"
     ]
    },
    {
     "name": "stderr",
     "output_type": "stream",
     "text": [
      "Epochs completed:  42%| ████████████████▊                        210/500 [00:02]"
     ]
    },
    {
     "name": "stdout",
     "output_type": "stream",
     "text": [
      "\tcompleted  200  /  500 epochs\n"
     ]
    },
    {
     "name": "stderr",
     "output_type": "stream",
     "text": [
      "Epochs completed:  53%| █████████████████████                    264/500 [00:03]"
     ]
    },
    {
     "name": "stdout",
     "output_type": "stream",
     "text": [
      "\tcompleted  250  /  500 epochs\n"
     ]
    },
    {
     "name": "stderr",
     "output_type": "stream",
     "text": [
      "Epochs completed:  64%| █████████████████████████▍               318/500 [00:03]"
     ]
    },
    {
     "name": "stdout",
     "output_type": "stream",
     "text": [
      "\tcompleted  300  /  500 epochs\n"
     ]
    },
    {
     "name": "stderr",
     "output_type": "stream",
     "text": [
      "Epochs completed:  73%| █████████████████████████████            363/500 [00:04]"
     ]
    },
    {
     "name": "stdout",
     "output_type": "stream",
     "text": [
      "\tcompleted  350  /  500 epochs\n"
     ]
    },
    {
     "name": "stderr",
     "output_type": "stream",
     "text": [
      "Epochs completed:  84%| █████████████████████████████████▍       418/500 [00:05]"
     ]
    },
    {
     "name": "stdout",
     "output_type": "stream",
     "text": [
      "\tcompleted  400  /  500 epochs\n"
     ]
    },
    {
     "name": "stderr",
     "output_type": "stream",
     "text": [
      "Epochs completed:  93%| █████████████████████████████████████    463/500 [00:05]"
     ]
    },
    {
     "name": "stdout",
     "output_type": "stream",
     "text": [
      "\tcompleted  450  /  500 epochs\n"
     ]
    },
    {
     "name": "stderr",
     "output_type": "stream",
     "text": [
      "Epochs completed: 100%| ████████████████████████████████████████ 500/500 [00:06]\n"
     ]
    },
    {
     "name": "stdout",
     "output_type": "stream",
     "text": [
      "Tue Mar 26 12:26:19 2024 Finished embedding\n",
      "TSNE\n",
      "--------------------------------------------------------------------------------\n",
      "TSNE(early_exaggeration=12, random_state=3, verbose=True)\n",
      "--------------------------------------------------------------------------------\n",
      "===> Finding 90 nearest neighbors using Annoy approximate search using euclidean distance...\n",
      "   --> Time elapsed: 1.66 seconds\n",
      "===> Calculating affinity matrix...\n",
      "   --> Time elapsed: 0.09 seconds\n",
      "===> Calculating PCA-based initialization...\n",
      "   --> Time elapsed: 0.01 seconds\n",
      "===> Running optimization with exaggeration=12.00, lr=580.25 for 250 iterations...\n",
      "Iteration   50, KL divergence 3.3994, 50 iterations in 5.4822 sec\n",
      "Iteration  100, KL divergence 3.2758, 50 iterations in 5.1539 sec\n",
      "Iteration  150, KL divergence 3.2239, 50 iterations in 4.9854 sec\n",
      "Iteration  200, KL divergence 3.2002, 50 iterations in 4.9903 sec\n",
      "Iteration  250, KL divergence 3.1874, 50 iterations in 5.0061 sec\n",
      "   --> Time elapsed: 25.62 seconds\n",
      "===> Running optimization with exaggeration=1.00, lr=6963.00 for 500 iterations...\n",
      "Iteration   50, KL divergence 1.7251, 50 iterations in 4.8323 sec\n",
      "Iteration  100, KL divergence 1.5724, 50 iterations in 4.7842 sec\n",
      "Iteration  150, KL divergence 1.5129, 50 iterations in 4.7940 sec\n",
      "Iteration  200, KL divergence 1.4802, 50 iterations in 4.7777 sec\n",
      "Iteration  250, KL divergence 1.4590, 50 iterations in 4.7648 sec\n",
      "Iteration  300, KL divergence 1.4444, 50 iterations in 4.7476 sec\n",
      "Iteration  350, KL divergence 1.4332, 50 iterations in 4.7656 sec\n",
      "Iteration  400, KL divergence 1.4246, 50 iterations in 4.7785 sec\n",
      "Iteration  450, KL divergence 1.4181, 50 iterations in 4.7952 sec\n",
      "Iteration  500, KL divergence 1.4124, 50 iterations in 4.7829 sec\n",
      "   --> Time elapsed: 47.82 seconds\n",
      "merfish seed: 4 scaled: True\n",
      "PCA2\n",
      "PCA50\n",
      "UMAP\n",
      "UMAP(random_state=4, verbose=True)\n",
      "Tue Mar 26 12:27:34 2024 Construct fuzzy simplicial set\n",
      "Tue Mar 26 12:27:34 2024 Finding Nearest Neighbors\n",
      "Tue Mar 26 12:27:34 2024 Building RP forest with 9 trees\n"
     ]
    },
    {
     "name": "stderr",
     "output_type": "stream",
     "text": [
      "/home/jan/anaconda3/envs/elephant_analysis_env/lib/python3.11/site-packages/umap/umap_.py:1943: UserWarning: n_jobs value -1 overridden to 1 by setting random_state. Use no seed for parallelism.\n",
      "  warn(f\"n_jobs value {self.n_jobs} overridden to 1 by setting random_state. Use no seed for parallelism.\")\n"
     ]
    },
    {
     "name": "stdout",
     "output_type": "stream",
     "text": [
      "Tue Mar 26 12:27:34 2024 NN descent for 13 iterations\n",
      "\t 1  /  13\n",
      "\t 2  /  13\n",
      "\t 3  /  13\n",
      "\tStopping threshold met -- exiting after 3 iterations\n",
      "Tue Mar 26 12:27:34 2024 Finished Nearest Neighbor Search\n",
      "Tue Mar 26 12:27:34 2024 Construct embedding\n"
     ]
    },
    {
     "name": "stderr",
     "output_type": "stream",
     "text": [
      "Epochs completed:   2%| ▉                                         12/500 [00:00]"
     ]
    },
    {
     "name": "stdout",
     "output_type": "stream",
     "text": [
      "\tcompleted  0  /  500 epochs\n"
     ]
    },
    {
     "name": "stderr",
     "output_type": "stream",
     "text": [
      "Epochs completed:  13%| █████▍                                    66/500 [00:01]"
     ]
    },
    {
     "name": "stdout",
     "output_type": "stream",
     "text": [
      "\tcompleted  50  /  500 epochs\n"
     ]
    },
    {
     "name": "stderr",
     "output_type": "stream",
     "text": [
      "Epochs completed:  22%| ████████▉                                111/500 [00:01]"
     ]
    },
    {
     "name": "stdout",
     "output_type": "stream",
     "text": [
      "\tcompleted  100  /  500 epochs\n"
     ]
    },
    {
     "name": "stderr",
     "output_type": "stream",
     "text": [
      "Epochs completed:  33%| █████████████▏                           165/500 [00:02]"
     ]
    },
    {
     "name": "stdout",
     "output_type": "stream",
     "text": [
      "\tcompleted  150  /  500 epochs\n"
     ]
    },
    {
     "name": "stderr",
     "output_type": "stream",
     "text": [
      "Epochs completed:  42%| ████████████████▊                        210/500 [00:02]"
     ]
    },
    {
     "name": "stdout",
     "output_type": "stream",
     "text": [
      "\tcompleted  200  /  500 epochs\n"
     ]
    },
    {
     "name": "stderr",
     "output_type": "stream",
     "text": [
      "Epochs completed:  53%| █████████████████████                    264/500 [00:03]"
     ]
    },
    {
     "name": "stdout",
     "output_type": "stream",
     "text": [
      "\tcompleted  250  /  500 epochs\n"
     ]
    },
    {
     "name": "stderr",
     "output_type": "stream",
     "text": [
      "Epochs completed:  64%| █████████████████████████▍               318/500 [00:04]"
     ]
    },
    {
     "name": "stdout",
     "output_type": "stream",
     "text": [
      "\tcompleted  300  /  500 epochs\n"
     ]
    },
    {
     "name": "stderr",
     "output_type": "stream",
     "text": [
      "Epochs completed:  73%| █████████████████████████████            363/500 [00:04]"
     ]
    },
    {
     "name": "stdout",
     "output_type": "stream",
     "text": [
      "\tcompleted  350  /  500 epochs\n"
     ]
    },
    {
     "name": "stderr",
     "output_type": "stream",
     "text": [
      "Epochs completed:  83%| █████████████████████████████████▎       417/500 [00:05]"
     ]
    },
    {
     "name": "stdout",
     "output_type": "stream",
     "text": [
      "\tcompleted  400  /  500 epochs\n"
     ]
    },
    {
     "name": "stderr",
     "output_type": "stream",
     "text": [
      "Epochs completed:  92%| ████████████████████████████████████▉    462/500 [00:05]"
     ]
    },
    {
     "name": "stdout",
     "output_type": "stream",
     "text": [
      "\tcompleted  450  /  500 epochs\n"
     ]
    },
    {
     "name": "stderr",
     "output_type": "stream",
     "text": [
      "Epochs completed: 100%| ████████████████████████████████████████ 500/500 [00:06]\n"
     ]
    },
    {
     "name": "stdout",
     "output_type": "stream",
     "text": [
      "Tue Mar 26 12:27:41 2024 Finished embedding\n",
      "TSNE\n",
      "--------------------------------------------------------------------------------\n",
      "TSNE(early_exaggeration=12, random_state=4, verbose=True)\n",
      "--------------------------------------------------------------------------------\n",
      "===> Finding 90 nearest neighbors using Annoy approximate search using euclidean distance...\n",
      "   --> Time elapsed: 1.68 seconds\n",
      "===> Calculating affinity matrix...\n",
      "   --> Time elapsed: 0.10 seconds\n",
      "===> Calculating PCA-based initialization...\n",
      "   --> Time elapsed: 0.01 seconds\n",
      "===> Running optimization with exaggeration=12.00, lr=580.25 for 250 iterations...\n",
      "Iteration   50, KL divergence 3.3976, 50 iterations in 5.4726 sec\n",
      "Iteration  100, KL divergence 3.2754, 50 iterations in 5.1788 sec\n",
      "Iteration  150, KL divergence 3.2257, 50 iterations in 5.0832 sec\n",
      "Iteration  200, KL divergence 3.2010, 50 iterations in 5.1037 sec\n",
      "Iteration  250, KL divergence 3.1874, 50 iterations in 5.0801 sec\n",
      "   --> Time elapsed: 25.92 seconds\n",
      "===> Running optimization with exaggeration=1.00, lr=6963.00 for 500 iterations...\n",
      "Iteration   50, KL divergence 1.7220, 50 iterations in 4.8383 sec\n",
      "Iteration  100, KL divergence 1.5688, 50 iterations in 4.7927 sec\n",
      "Iteration  150, KL divergence 1.5096, 50 iterations in 4.7740 sec\n",
      "Iteration  200, KL divergence 1.4773, 50 iterations in 4.7102 sec\n",
      "Iteration  250, KL divergence 1.4566, 50 iterations in 4.7307 sec\n",
      "Iteration  300, KL divergence 1.4417, 50 iterations in 4.7535 sec\n",
      "Iteration  350, KL divergence 1.4311, 50 iterations in 4.7642 sec\n",
      "Iteration  400, KL divergence 1.4228, 50 iterations in 4.7614 sec\n",
      "Iteration  450, KL divergence 1.4159, 50 iterations in 4.7425 sec\n",
      "Iteration  500, KL divergence 1.4100, 50 iterations in 4.7484 sec\n",
      "   --> Time elapsed: 47.62 seconds\n",
      "running on scaled and unscaled data for smartseq\n",
      "smartseq seed: 0 scaled: False\n",
      "PCA2\n",
      "PCA50\n",
      "UMAP\n",
      "UMAP(random_state=0, verbose=True)\n",
      "Tue Mar 26 12:28:57 2024 Construct fuzzy simplicial set\n"
     ]
    },
    {
     "name": "stderr",
     "output_type": "stream",
     "text": [
      "/home/jan/anaconda3/envs/elephant_analysis_env/lib/python3.11/site-packages/umap/umap_.py:1943: UserWarning: n_jobs value -1 overridden to 1 by setting random_state. Use no seed for parallelism.\n",
      "  warn(f\"n_jobs value {self.n_jobs} overridden to 1 by setting random_state. Use no seed for parallelism.\")\n"
     ]
    },
    {
     "name": "stdout",
     "output_type": "stream",
     "text": [
      "Tue Mar 26 12:29:00 2024 Finding Nearest Neighbors\n",
      "Tue Mar 26 12:29:01 2024 Finished Nearest Neighbor Search\n",
      "Tue Mar 26 12:29:01 2024 Construct embedding\n"
     ]
    },
    {
     "name": "stderr",
     "output_type": "stream",
     "text": [
      "Epochs completed:   4%| █▋                                        20/500 [00:00]"
     ]
    },
    {
     "name": "stdout",
     "output_type": "stream",
     "text": [
      "\tcompleted  0  /  500 epochs\n"
     ]
    },
    {
     "name": "stderr",
     "output_type": "stream",
     "text": [
      "Epochs completed:  15%| █████▉                                    73/500 [00:00]"
     ]
    },
    {
     "name": "stdout",
     "output_type": "stream",
     "text": [
      "\tcompleted  50  /  500 epochs\n"
     ]
    },
    {
     "name": "stderr",
     "output_type": "stream",
     "text": [
      "Epochs completed:  25%| ██████████                               126/500 [00:01]"
     ]
    },
    {
     "name": "stdout",
     "output_type": "stream",
     "text": [
      "\tcompleted  100  /  500 epochs\n"
     ]
    },
    {
     "name": "stderr",
     "output_type": "stream",
     "text": [
      "Epochs completed:  36%| ██████████████▍                          180/500 [00:01]"
     ]
    },
    {
     "name": "stdout",
     "output_type": "stream",
     "text": [
      "\tcompleted  150  /  500 epochs\n"
     ]
    },
    {
     "name": "stderr",
     "output_type": "stream",
     "text": [
      "Epochs completed:  47%| ██████████████████▋                      234/500 [00:01]"
     ]
    },
    {
     "name": "stdout",
     "output_type": "stream",
     "text": [
      "\tcompleted  200  /  500 epochs\n"
     ]
    },
    {
     "name": "stderr",
     "output_type": "stream",
     "text": [
      "Epochs completed:  54%| █████████████████████▌                   270/500 [00:01]"
     ]
    },
    {
     "name": "stdout",
     "output_type": "stream",
     "text": [
      "\tcompleted  250  /  500 epochs\n"
     ]
    },
    {
     "name": "stderr",
     "output_type": "stream",
     "text": [
      "Epochs completed:  65%| █████████████████████████▉               324/500 [00:02]"
     ]
    },
    {
     "name": "stdout",
     "output_type": "stream",
     "text": [
      "\tcompleted  300  /  500 epochs\n"
     ]
    },
    {
     "name": "stderr",
     "output_type": "stream",
     "text": [
      "Epochs completed:  76%| ██████████████████████████████▏          378/500 [00:02]"
     ]
    },
    {
     "name": "stdout",
     "output_type": "stream",
     "text": [
      "\tcompleted  350  /  500 epochs\n"
     ]
    },
    {
     "name": "stderr",
     "output_type": "stream",
     "text": [
      "Epochs completed:  86%| ██████████████████████████████████▌      432/500 [00:02]"
     ]
    },
    {
     "name": "stdout",
     "output_type": "stream",
     "text": [
      "\tcompleted  400  /  500 epochs\n"
     ]
    },
    {
     "name": "stderr",
     "output_type": "stream",
     "text": [
      "Epochs completed:  97%| ██████████████████████████████████████▉  486/500 [00:03]"
     ]
    },
    {
     "name": "stdout",
     "output_type": "stream",
     "text": [
      "\tcompleted  450  /  500 epochs\n"
     ]
    },
    {
     "name": "stderr",
     "output_type": "stream",
     "text": [
      "Epochs completed: 100%| ████████████████████████████████████████ 500/500 [00:03]\n"
     ]
    },
    {
     "name": "stdout",
     "output_type": "stream",
     "text": [
      "Tue Mar 26 12:29:04 2024 Finished embedding\n",
      "TSNE\n",
      "--------------------------------------------------------------------------------\n",
      "TSNE(early_exaggeration=12, random_state=0, verbose=True)\n",
      "--------------------------------------------------------------------------------\n",
      "===> Finding 90 nearest neighbors using Annoy approximate search using euclidean distance...\n",
      "   --> Time elapsed: 0.85 seconds\n",
      "===> Calculating affinity matrix...\n",
      "   --> Time elapsed: 0.06 seconds\n",
      "===> Calculating PCA-based initialization...\n",
      "   --> Time elapsed: 0.01 seconds\n",
      "===> Running optimization with exaggeration=12.00, lr=320.83 for 250 iterations...\n",
      "Iteration   50, KL divergence 3.5335, 50 iterations in 2.6477 sec\n",
      "Iteration  100, KL divergence 3.5991, 50 iterations in 2.4137 sec\n",
      "Iteration  150, KL divergence 3.5963, 50 iterations in 2.3623 sec\n",
      "Iteration  200, KL divergence 3.5965, 50 iterations in 2.3504 sec\n",
      "Iteration  250, KL divergence 3.5966, 50 iterations in 2.3480 sec\n",
      "   --> Time elapsed: 12.12 seconds\n",
      "===> Running optimization with exaggeration=1.00, lr=3850.00 for 500 iterations...\n",
      "Iteration   50, KL divergence 1.3799, 50 iterations in 2.2694 sec\n",
      "Iteration  100, KL divergence 1.2559, 50 iterations in 2.2572 sec\n",
      "Iteration  150, KL divergence 1.2070, 50 iterations in 2.2854 sec\n",
      "Iteration  200, KL divergence 1.1812, 50 iterations in 2.2756 sec\n",
      "Iteration  250, KL divergence 1.1651, 50 iterations in 2.2936 sec\n",
      "Iteration  300, KL divergence 1.1551, 50 iterations in 2.2726 sec\n",
      "Iteration  350, KL divergence 1.1469, 50 iterations in 2.2892 sec\n",
      "Iteration  400, KL divergence 1.1410, 50 iterations in 2.3005 sec\n",
      "Iteration  450, KL divergence 1.1365, 50 iterations in 2.3316 sec\n",
      "Iteration  500, KL divergence 1.1323, 50 iterations in 2.3179 sec\n",
      "   --> Time elapsed: 22.89 seconds\n",
      "smartseq seed: 1 scaled: False\n",
      "PCA2\n",
      "PCA50\n",
      "UMAP\n",
      "UMAP(random_state=1, verbose=True)\n",
      "Tue Mar 26 12:29:40 2024 Construct fuzzy simplicial set\n"
     ]
    },
    {
     "name": "stderr",
     "output_type": "stream",
     "text": [
      "/home/jan/anaconda3/envs/elephant_analysis_env/lib/python3.11/site-packages/umap/umap_.py:1943: UserWarning: n_jobs value -1 overridden to 1 by setting random_state. Use no seed for parallelism.\n",
      "  warn(f\"n_jobs value {self.n_jobs} overridden to 1 by setting random_state. Use no seed for parallelism.\")\n"
     ]
    },
    {
     "name": "stdout",
     "output_type": "stream",
     "text": [
      "Tue Mar 26 12:29:43 2024 Finding Nearest Neighbors\n",
      "Tue Mar 26 12:29:43 2024 Finished Nearest Neighbor Search\n",
      "Tue Mar 26 12:29:43 2024 Construct embedding\n"
     ]
    },
    {
     "name": "stderr",
     "output_type": "stream",
     "text": [
      "Epochs completed:   4%| █▋                                        20/500 [00:00]"
     ]
    },
    {
     "name": "stdout",
     "output_type": "stream",
     "text": [
      "\tcompleted  0  /  500 epochs\n"
     ]
    },
    {
     "name": "stderr",
     "output_type": "stream",
     "text": [
      "Epochs completed:  15%| ██████                                    74/500 [00:00]"
     ]
    },
    {
     "name": "stdout",
     "output_type": "stream",
     "text": [
      "\tcompleted  50  /  500 epochs\n"
     ]
    },
    {
     "name": "stderr",
     "output_type": "stream",
     "text": [
      "Epochs completed:  25%| ██████████▏                              127/500 [00:01]"
     ]
    },
    {
     "name": "stdout",
     "output_type": "stream",
     "text": [
      "\tcompleted  100  /  500 epochs\n"
     ]
    },
    {
     "name": "stderr",
     "output_type": "stream",
     "text": [
      "Epochs completed:  36%| ██████████████▍                          181/500 [00:01]"
     ]
    },
    {
     "name": "stdout",
     "output_type": "stream",
     "text": [
      "\tcompleted  150  /  500 epochs\n"
     ]
    },
    {
     "name": "stderr",
     "output_type": "stream",
     "text": [
      "Epochs completed:  47%| ██████████████████▊                      235/500 [00:01]"
     ]
    },
    {
     "name": "stdout",
     "output_type": "stream",
     "text": [
      "\tcompleted  200  /  500 epochs\n"
     ]
    },
    {
     "name": "stderr",
     "output_type": "stream",
     "text": [
      "Epochs completed:  54%| █████████████████████▋                   271/500 [00:02]"
     ]
    },
    {
     "name": "stdout",
     "output_type": "stream",
     "text": [
      "\tcompleted  250  /  500 epochs\n"
     ]
    },
    {
     "name": "stderr",
     "output_type": "stream",
     "text": [
      "Epochs completed:  65%| ██████████████████████████               325/500 [00:02]"
     ]
    },
    {
     "name": "stdout",
     "output_type": "stream",
     "text": [
      "\tcompleted  300  /  500 epochs\n"
     ]
    },
    {
     "name": "stderr",
     "output_type": "stream",
     "text": [
      "Epochs completed:  76%| ██████████████████████████████▎          379/500 [00:02]"
     ]
    },
    {
     "name": "stdout",
     "output_type": "stream",
     "text": [
      "\tcompleted  350  /  500 epochs\n"
     ]
    },
    {
     "name": "stderr",
     "output_type": "stream",
     "text": [
      "Epochs completed:  87%| ██████████████████████████████████▋      433/500 [00:02]"
     ]
    },
    {
     "name": "stdout",
     "output_type": "stream",
     "text": [
      "\tcompleted  400  /  500 epochs\n"
     ]
    },
    {
     "name": "stderr",
     "output_type": "stream",
     "text": [
      "Epochs completed:  94%| █████████████████████████████████████▌   469/500 [00:03]"
     ]
    },
    {
     "name": "stdout",
     "output_type": "stream",
     "text": [
      "\tcompleted  450  /  500 epochs\n"
     ]
    },
    {
     "name": "stderr",
     "output_type": "stream",
     "text": [
      "Epochs completed: 100%| ████████████████████████████████████████ 500/500 [00:03]\n"
     ]
    },
    {
     "name": "stdout",
     "output_type": "stream",
     "text": [
      "Tue Mar 26 12:29:47 2024 Finished embedding\n",
      "TSNE\n",
      "--------------------------------------------------------------------------------\n",
      "TSNE(early_exaggeration=12, random_state=1, verbose=True)\n",
      "--------------------------------------------------------------------------------\n",
      "===> Finding 90 nearest neighbors using Annoy approximate search using euclidean distance...\n",
      "   --> Time elapsed: 0.84 seconds\n",
      "===> Calculating affinity matrix...\n",
      "   --> Time elapsed: 0.06 seconds\n",
      "===> Calculating PCA-based initialization...\n",
      "   --> Time elapsed: 0.02 seconds\n",
      "===> Running optimization with exaggeration=12.00, lr=320.83 for 250 iterations...\n",
      "Iteration   50, KL divergence 3.5381, 50 iterations in 2.6883 sec\n",
      "Iteration  100, KL divergence 3.6023, 50 iterations in 2.4860 sec\n",
      "Iteration  150, KL divergence 3.5991, 50 iterations in 2.4452 sec\n",
      "Iteration  200, KL divergence 3.5997, 50 iterations in 2.3670 sec\n",
      "Iteration  250, KL divergence 3.5997, 50 iterations in 2.3565 sec\n",
      "   --> Time elapsed: 12.34 seconds\n",
      "===> Running optimization with exaggeration=1.00, lr=3850.00 for 500 iterations...\n",
      "Iteration   50, KL divergence 1.3836, 50 iterations in 2.2714 sec\n",
      "Iteration  100, KL divergence 1.2596, 50 iterations in 2.2336 sec\n",
      "Iteration  150, KL divergence 1.2139, 50 iterations in 2.2654 sec\n",
      "Iteration  200, KL divergence 1.1887, 50 iterations in 2.2402 sec\n",
      "Iteration  250, KL divergence 1.1731, 50 iterations in 2.2530 sec\n",
      "Iteration  300, KL divergence 1.1627, 50 iterations in 2.2640 sec\n",
      "Iteration  350, KL divergence 1.1551, 50 iterations in 2.2809 sec\n",
      "Iteration  400, KL divergence 1.1494, 50 iterations in 2.2909 sec\n",
      "Iteration  450, KL divergence 1.1453, 50 iterations in 2.2962 sec\n",
      "Iteration  500, KL divergence 1.1417, 50 iterations in 2.2939 sec\n",
      "   --> Time elapsed: 22.69 seconds\n",
      "smartseq seed: 2 scaled: False\n",
      "PCA2\n",
      "PCA50\n",
      "UMAP\n",
      "UMAP(random_state=2, verbose=True)\n",
      "Tue Mar 26 12:30:23 2024 Construct fuzzy simplicial set\n"
     ]
    },
    {
     "name": "stderr",
     "output_type": "stream",
     "text": [
      "/home/jan/anaconda3/envs/elephant_analysis_env/lib/python3.11/site-packages/umap/umap_.py:1943: UserWarning: n_jobs value -1 overridden to 1 by setting random_state. Use no seed for parallelism.\n",
      "  warn(f\"n_jobs value {self.n_jobs} overridden to 1 by setting random_state. Use no seed for parallelism.\")\n"
     ]
    },
    {
     "name": "stdout",
     "output_type": "stream",
     "text": [
      "Tue Mar 26 12:30:26 2024 Finding Nearest Neighbors\n",
      "Tue Mar 26 12:30:26 2024 Finished Nearest Neighbor Search\n",
      "Tue Mar 26 12:30:26 2024 Construct embedding\n"
     ]
    },
    {
     "name": "stderr",
     "output_type": "stream",
     "text": [
      "Epochs completed:   4%| █▋                                        20/500 [00:00]"
     ]
    },
    {
     "name": "stdout",
     "output_type": "stream",
     "text": [
      "\tcompleted  0  /  500 epochs\n"
     ]
    },
    {
     "name": "stderr",
     "output_type": "stream",
     "text": [
      "Epochs completed:  15%| █████▉                                    73/500 [00:00]"
     ]
    },
    {
     "name": "stdout",
     "output_type": "stream",
     "text": [
      "\tcompleted  50  /  500 epochs\n"
     ]
    },
    {
     "name": "stderr",
     "output_type": "stream",
     "text": [
      "Epochs completed:  25%| ██████████▏                              127/500 [00:01]"
     ]
    },
    {
     "name": "stdout",
     "output_type": "stream",
     "text": [
      "\tcompleted  100  /  500 epochs\n"
     ]
    },
    {
     "name": "stderr",
     "output_type": "stream",
     "text": [
      "Epochs completed:  36%| ██████████████▍                          180/500 [00:01]"
     ]
    },
    {
     "name": "stdout",
     "output_type": "stream",
     "text": [
      "\tcompleted  150  /  500 epochs\n"
     ]
    },
    {
     "name": "stderr",
     "output_type": "stream",
     "text": [
      "Epochs completed:  47%| ██████████████████▋                      233/500 [00:01]"
     ]
    },
    {
     "name": "stdout",
     "output_type": "stream",
     "text": [
      "\tcompleted  200  /  500 epochs\n"
     ]
    },
    {
     "name": "stderr",
     "output_type": "stream",
     "text": [
      "Epochs completed:  54%| █████████████████████▌                   269/500 [00:01]"
     ]
    },
    {
     "name": "stdout",
     "output_type": "stream",
     "text": [
      "\tcompleted  250  /  500 epochs\n"
     ]
    },
    {
     "name": "stderr",
     "output_type": "stream",
     "text": [
      "Epochs completed:  65%| █████████████████████████▊               323/500 [00:02]"
     ]
    },
    {
     "name": "stdout",
     "output_type": "stream",
     "text": [
      "\tcompleted  300  /  500 epochs\n"
     ]
    },
    {
     "name": "stderr",
     "output_type": "stream",
     "text": [
      "Epochs completed:  75%| ██████████████████████████████▏          377/500 [00:02]"
     ]
    },
    {
     "name": "stdout",
     "output_type": "stream",
     "text": [
      "\tcompleted  350  /  500 epochs\n"
     ]
    },
    {
     "name": "stderr",
     "output_type": "stream",
     "text": [
      "Epochs completed:  86%| ██████████████████████████████████▍      431/500 [00:02]"
     ]
    },
    {
     "name": "stdout",
     "output_type": "stream",
     "text": [
      "\tcompleted  400  /  500 epochs\n"
     ]
    },
    {
     "name": "stderr",
     "output_type": "stream",
     "text": [
      "Epochs completed:  97%| ██████████████████████████████████████▊  485/500 [00:03]"
     ]
    },
    {
     "name": "stdout",
     "output_type": "stream",
     "text": [
      "\tcompleted  450  /  500 epochs\n"
     ]
    },
    {
     "name": "stderr",
     "output_type": "stream",
     "text": [
      "Epochs completed: 100%| ████████████████████████████████████████ 500/500 [00:03]\n"
     ]
    },
    {
     "name": "stdout",
     "output_type": "stream",
     "text": [
      "Tue Mar 26 12:30:29 2024 Finished embedding\n",
      "TSNE\n",
      "--------------------------------------------------------------------------------\n",
      "TSNE(early_exaggeration=12, random_state=2, verbose=True)\n",
      "--------------------------------------------------------------------------------\n",
      "===> Finding 90 nearest neighbors using Annoy approximate search using euclidean distance...\n",
      "   --> Time elapsed: 0.84 seconds\n",
      "===> Calculating affinity matrix...\n",
      "   --> Time elapsed: 0.06 seconds\n",
      "===> Calculating PCA-based initialization...\n",
      "   --> Time elapsed: 0.01 seconds\n",
      "===> Running optimization with exaggeration=12.00, lr=320.83 for 250 iterations...\n",
      "Iteration   50, KL divergence 3.5386, 50 iterations in 2.6660 sec\n",
      "Iteration  100, KL divergence 3.5997, 50 iterations in 2.4724 sec\n",
      "Iteration  150, KL divergence 3.5961, 50 iterations in 2.4454 sec\n",
      "Iteration  200, KL divergence 3.5961, 50 iterations in 2.3773 sec\n",
      "Iteration  250, KL divergence 3.5960, 50 iterations in 2.3822 sec\n",
      "   --> Time elapsed: 12.34 seconds\n",
      "===> Running optimization with exaggeration=1.00, lr=3850.00 for 500 iterations...\n",
      "Iteration   50, KL divergence 1.3844, 50 iterations in 2.3054 sec\n",
      "Iteration  100, KL divergence 1.2585, 50 iterations in 2.2589 sec\n",
      "Iteration  150, KL divergence 1.2101, 50 iterations in 2.2627 sec\n",
      "Iteration  200, KL divergence 1.1842, 50 iterations in 2.2677 sec\n",
      "Iteration  250, KL divergence 1.1689, 50 iterations in 2.2729 sec\n",
      "Iteration  300, KL divergence 1.1580, 50 iterations in 2.2776 sec\n",
      "Iteration  350, KL divergence 1.1505, 50 iterations in 2.3001 sec\n",
      "Iteration  400, KL divergence 1.1450, 50 iterations in 2.3090 sec\n",
      "Iteration  450, KL divergence 1.1411, 50 iterations in 2.3104 sec\n",
      "Iteration  500, KL divergence 1.1379, 50 iterations in 2.3107 sec\n",
      "   --> Time elapsed: 22.88 seconds\n",
      "smartseq seed: 3 scaled: False\n",
      "PCA2\n",
      "PCA50\n",
      "UMAP\n",
      "UMAP(random_state=3, verbose=True)\n",
      "Tue Mar 26 12:31:06 2024 Construct fuzzy simplicial set\n"
     ]
    },
    {
     "name": "stderr",
     "output_type": "stream",
     "text": [
      "/home/jan/anaconda3/envs/elephant_analysis_env/lib/python3.11/site-packages/umap/umap_.py:1943: UserWarning: n_jobs value -1 overridden to 1 by setting random_state. Use no seed for parallelism.\n",
      "  warn(f\"n_jobs value {self.n_jobs} overridden to 1 by setting random_state. Use no seed for parallelism.\")\n"
     ]
    },
    {
     "name": "stdout",
     "output_type": "stream",
     "text": [
      "Tue Mar 26 12:31:09 2024 Finding Nearest Neighbors\n",
      "Tue Mar 26 12:31:09 2024 Finished Nearest Neighbor Search\n",
      "Tue Mar 26 12:31:09 2024 Construct embedding\n"
     ]
    },
    {
     "name": "stderr",
     "output_type": "stream",
     "text": [
      "Epochs completed:   4%| █▋                                        21/500 [00:00]"
     ]
    },
    {
     "name": "stdout",
     "output_type": "stream",
     "text": [
      "\tcompleted  0  /  500 epochs\n"
     ]
    },
    {
     "name": "stderr",
     "output_type": "stream",
     "text": [
      "Epochs completed:  15%| ██████▏                                   75/500 [00:00]"
     ]
    },
    {
     "name": "stdout",
     "output_type": "stream",
     "text": [
      "\tcompleted  50  /  500 epochs\n"
     ]
    },
    {
     "name": "stderr",
     "output_type": "stream",
     "text": [
      "Epochs completed:  26%| ██████████▎                              129/500 [00:01]"
     ]
    },
    {
     "name": "stdout",
     "output_type": "stream",
     "text": [
      "\tcompleted  100  /  500 epochs\n"
     ]
    },
    {
     "name": "stderr",
     "output_type": "stream",
     "text": [
      "Epochs completed:  37%| ██████████████▋                          183/500 [00:01]"
     ]
    },
    {
     "name": "stdout",
     "output_type": "stream",
     "text": [
      "\tcompleted  150  /  500 epochs\n"
     ]
    },
    {
     "name": "stderr",
     "output_type": "stream",
     "text": [
      "Epochs completed:  44%| █████████████████▌                       219/500 [00:01]"
     ]
    },
    {
     "name": "stdout",
     "output_type": "stream",
     "text": [
      "\tcompleted  200  /  500 epochs\n"
     ]
    },
    {
     "name": "stderr",
     "output_type": "stream",
     "text": [
      "Epochs completed:  55%| █████████████████████▊                   273/500 [00:01]"
     ]
    },
    {
     "name": "stdout",
     "output_type": "stream",
     "text": [
      "\tcompleted  250  /  500 epochs\n"
     ]
    },
    {
     "name": "stderr",
     "output_type": "stream",
     "text": [
      "Epochs completed:  65%| ██████████████████████████▏              327/500 [00:02]"
     ]
    },
    {
     "name": "stdout",
     "output_type": "stream",
     "text": [
      "\tcompleted  300  /  500 epochs\n"
     ]
    },
    {
     "name": "stderr",
     "output_type": "stream",
     "text": [
      "Epochs completed:  77%| ██████████████████████████████▋          383/500 [00:02]"
     ]
    },
    {
     "name": "stdout",
     "output_type": "stream",
     "text": [
      "\tcompleted  350  /  500 epochs\n"
     ]
    },
    {
     "name": "stderr",
     "output_type": "stream",
     "text": [
      "Epochs completed:  84%| █████████████████████████████████▋       421/500 [00:02]"
     ]
    },
    {
     "name": "stdout",
     "output_type": "stream",
     "text": [
      "\tcompleted  400  /  500 epochs\n"
     ]
    },
    {
     "name": "stderr",
     "output_type": "stream",
     "text": [
      "Epochs completed:  96%| ██████████████████████████████████████▏  478/500 [00:02]"
     ]
    },
    {
     "name": "stdout",
     "output_type": "stream",
     "text": [
      "\tcompleted  450  /  500 epochs\n"
     ]
    },
    {
     "name": "stderr",
     "output_type": "stream",
     "text": [
      "Epochs completed: 100%| ████████████████████████████████████████ 500/500 [00:03]\n"
     ]
    },
    {
     "name": "stdout",
     "output_type": "stream",
     "text": [
      "Tue Mar 26 12:31:12 2024 Finished embedding\n",
      "TSNE\n",
      "--------------------------------------------------------------------------------\n",
      "TSNE(early_exaggeration=12, random_state=3, verbose=True)\n",
      "--------------------------------------------------------------------------------\n",
      "===> Finding 90 nearest neighbors using Annoy approximate search using euclidean distance...\n",
      "   --> Time elapsed: 0.83 seconds\n",
      "===> Calculating affinity matrix...\n",
      "   --> Time elapsed: 0.05 seconds\n",
      "===> Calculating PCA-based initialization...\n",
      "   --> Time elapsed: 0.01 seconds\n",
      "===> Running optimization with exaggeration=12.00, lr=320.83 for 250 iterations...\n",
      "Iteration   50, KL divergence 3.5380, 50 iterations in 2.6359 sec\n",
      "Iteration  100, KL divergence 3.6006, 50 iterations in 2.4406 sec\n",
      "Iteration  150, KL divergence 3.5991, 50 iterations in 2.4037 sec\n",
      "Iteration  200, KL divergence 3.5995, 50 iterations in 2.3369 sec\n",
      "Iteration  250, KL divergence 3.5996, 50 iterations in 2.3199 sec\n",
      "   --> Time elapsed: 12.14 seconds\n",
      "===> Running optimization with exaggeration=1.00, lr=3850.00 for 500 iterations...\n",
      "Iteration   50, KL divergence 1.3821, 50 iterations in 2.2569 sec\n",
      "Iteration  100, KL divergence 1.2596, 50 iterations in 2.2099 sec\n",
      "Iteration  150, KL divergence 1.2118, 50 iterations in 2.2055 sec\n",
      "Iteration  200, KL divergence 1.1870, 50 iterations in 2.2232 sec\n",
      "Iteration  250, KL divergence 1.1716, 50 iterations in 2.2131 sec\n",
      "Iteration  300, KL divergence 1.1615, 50 iterations in 2.2100 sec\n",
      "Iteration  350, KL divergence 1.1546, 50 iterations in 2.2324 sec\n",
      "Iteration  400, KL divergence 1.1493, 50 iterations in 2.2474 sec\n",
      "Iteration  450, KL divergence 1.1445, 50 iterations in 2.2461 sec\n",
      "Iteration  500, KL divergence 1.1408, 50 iterations in 2.2858 sec\n",
      "   --> Time elapsed: 22.33 seconds\n",
      "smartseq seed: 4 scaled: False\n",
      "PCA2\n",
      "PCA50\n",
      "UMAP\n",
      "UMAP(random_state=4, verbose=True)\n",
      "Tue Mar 26 12:31:48 2024 Construct fuzzy simplicial set\n"
     ]
    },
    {
     "name": "stderr",
     "output_type": "stream",
     "text": [
      "/home/jan/anaconda3/envs/elephant_analysis_env/lib/python3.11/site-packages/umap/umap_.py:1943: UserWarning: n_jobs value -1 overridden to 1 by setting random_state. Use no seed for parallelism.\n",
      "  warn(f\"n_jobs value {self.n_jobs} overridden to 1 by setting random_state. Use no seed for parallelism.\")\n"
     ]
    },
    {
     "name": "stdout",
     "output_type": "stream",
     "text": [
      "Tue Mar 26 12:31:51 2024 Finding Nearest Neighbors\n",
      "Tue Mar 26 12:31:51 2024 Finished Nearest Neighbor Search\n",
      "Tue Mar 26 12:31:51 2024 Construct embedding\n"
     ]
    },
    {
     "name": "stderr",
     "output_type": "stream",
     "text": [
      "Epochs completed:   4%| █▋                                        21/500 [00:00]"
     ]
    },
    {
     "name": "stdout",
     "output_type": "stream",
     "text": [
      "\tcompleted  0  /  500 epochs\n"
     ]
    },
    {
     "name": "stderr",
     "output_type": "stream",
     "text": [
      "Epochs completed:  15%| ██████▏                                   75/500 [00:00]"
     ]
    },
    {
     "name": "stdout",
     "output_type": "stream",
     "text": [
      "\tcompleted  50  /  500 epochs\n"
     ]
    },
    {
     "name": "stderr",
     "output_type": "stream",
     "text": [
      "Epochs completed:  26%| ██████████▎                              129/500 [00:01]"
     ]
    },
    {
     "name": "stdout",
     "output_type": "stream",
     "text": [
      "\tcompleted  100  /  500 epochs\n"
     ]
    },
    {
     "name": "stderr",
     "output_type": "stream",
     "text": [
      "Epochs completed:  37%| ██████████████▋                          183/500 [00:01]"
     ]
    },
    {
     "name": "stdout",
     "output_type": "stream",
     "text": [
      "\tcompleted  150  /  500 epochs\n"
     ]
    },
    {
     "name": "stderr",
     "output_type": "stream",
     "text": [
      "Epochs completed:  44%| █████████████████▌                       219/500 [00:01]"
     ]
    },
    {
     "name": "stdout",
     "output_type": "stream",
     "text": [
      "\tcompleted  200  /  500 epochs\n"
     ]
    },
    {
     "name": "stderr",
     "output_type": "stream",
     "text": [
      "Epochs completed:  55%| █████████████████████▊                   273/500 [00:01]"
     ]
    },
    {
     "name": "stdout",
     "output_type": "stream",
     "text": [
      "\tcompleted  250  /  500 epochs\n"
     ]
    },
    {
     "name": "stderr",
     "output_type": "stream",
     "text": [
      "Epochs completed:  65%| ██████████████████████████▏              327/500 [00:02]"
     ]
    },
    {
     "name": "stdout",
     "output_type": "stream",
     "text": [
      "\tcompleted  300  /  500 epochs\n"
     ]
    },
    {
     "name": "stderr",
     "output_type": "stream",
     "text": [
      "Epochs completed:  76%| ██████████████████████████████▍          381/500 [00:02]"
     ]
    },
    {
     "name": "stdout",
     "output_type": "stream",
     "text": [
      "\tcompleted  350  /  500 epochs\n"
     ]
    },
    {
     "name": "stderr",
     "output_type": "stream",
     "text": [
      "Epochs completed:  88%| ███████████████████████████████████      438/500 [00:02]"
     ]
    },
    {
     "name": "stdout",
     "output_type": "stream",
     "text": [
      "\tcompleted  400  /  500 epochs\n"
     ]
    },
    {
     "name": "stderr",
     "output_type": "stream",
     "text": [
      "Epochs completed:  95%| ██████████████████████████████████████   476/500 [00:03]"
     ]
    },
    {
     "name": "stdout",
     "output_type": "stream",
     "text": [
      "\tcompleted  450  /  500 epochs\n"
     ]
    },
    {
     "name": "stderr",
     "output_type": "stream",
     "text": [
      "Epochs completed: 100%| ████████████████████████████████████████ 500/500 [00:03]\n"
     ]
    },
    {
     "name": "stdout",
     "output_type": "stream",
     "text": [
      "Tue Mar 26 12:31:54 2024 Finished embedding\n",
      "TSNE\n",
      "--------------------------------------------------------------------------------\n",
      "TSNE(early_exaggeration=12, random_state=4, verbose=True)\n",
      "--------------------------------------------------------------------------------\n",
      "===> Finding 90 nearest neighbors using Annoy approximate search using euclidean distance...\n",
      "   --> Time elapsed: 0.83 seconds\n",
      "===> Calculating affinity matrix...\n",
      "   --> Time elapsed: 0.05 seconds\n",
      "===> Calculating PCA-based initialization...\n",
      "   --> Time elapsed: 0.01 seconds\n",
      "===> Running optimization with exaggeration=12.00, lr=320.83 for 250 iterations...\n",
      "Iteration   50, KL divergence 3.5387, 50 iterations in 2.6469 sec\n",
      "Iteration  100, KL divergence 3.6015, 50 iterations in 2.4410 sec\n",
      "Iteration  150, KL divergence 3.5980, 50 iterations in 2.3652 sec\n",
      "Iteration  200, KL divergence 3.5983, 50 iterations in 2.3415 sec\n",
      "Iteration  250, KL divergence 3.5984, 50 iterations in 2.3399 sec\n",
      "   --> Time elapsed: 12.13 seconds\n",
      "===> Running optimization with exaggeration=1.00, lr=3850.00 for 500 iterations...\n",
      "Iteration   50, KL divergence 1.3804, 50 iterations in 2.2792 sec\n",
      "Iteration  100, KL divergence 1.2568, 50 iterations in 2.2073 sec\n",
      "Iteration  150, KL divergence 1.2088, 50 iterations in 2.2100 sec\n",
      "Iteration  200, KL divergence 1.1840, 50 iterations in 2.2381 sec\n",
      "Iteration  250, KL divergence 1.1689, 50 iterations in 2.2227 sec\n",
      "Iteration  300, KL divergence 1.1582, 50 iterations in 2.2315 sec\n",
      "Iteration  350, KL divergence 1.1511, 50 iterations in 2.2538 sec\n",
      "Iteration  400, KL divergence 1.1462, 50 iterations in 2.2722 sec\n",
      "Iteration  450, KL divergence 1.1420, 50 iterations in 2.2752 sec\n",
      "Iteration  500, KL divergence 1.1382, 50 iterations in 2.2769 sec\n",
      "   --> Time elapsed: 22.47 seconds\n",
      "smartseq seed: 0 scaled: True\n",
      "PCA2\n",
      "PCA50\n",
      "UMAP\n",
      "UMAP(random_state=0, verbose=True)\n",
      "Tue Mar 26 12:32:30 2024 Construct fuzzy simplicial set\n"
     ]
    },
    {
     "name": "stderr",
     "output_type": "stream",
     "text": [
      "/home/jan/anaconda3/envs/elephant_analysis_env/lib/python3.11/site-packages/umap/umap_.py:1943: UserWarning: n_jobs value -1 overridden to 1 by setting random_state. Use no seed for parallelism.\n",
      "  warn(f\"n_jobs value {self.n_jobs} overridden to 1 by setting random_state. Use no seed for parallelism.\")\n"
     ]
    },
    {
     "name": "stdout",
     "output_type": "stream",
     "text": [
      "Tue Mar 26 12:32:33 2024 Finding Nearest Neighbors\n",
      "Tue Mar 26 12:32:33 2024 Finished Nearest Neighbor Search\n",
      "Tue Mar 26 12:32:33 2024 Construct embedding\n"
     ]
    },
    {
     "name": "stderr",
     "output_type": "stream",
     "text": [
      "Epochs completed:   4%| █▋                                        20/500 [00:00]"
     ]
    },
    {
     "name": "stdout",
     "output_type": "stream",
     "text": [
      "\tcompleted  0  /  500 epochs\n"
     ]
    },
    {
     "name": "stderr",
     "output_type": "stream",
     "text": [
      "Epochs completed:  14%| █████▊                                    71/500 [00:00]"
     ]
    },
    {
     "name": "stdout",
     "output_type": "stream",
     "text": [
      "\tcompleted  50  /  500 epochs\n"
     ]
    },
    {
     "name": "stderr",
     "output_type": "stream",
     "text": [
      "Epochs completed:  24%| █████████▊                               122/500 [00:01]"
     ]
    },
    {
     "name": "stdout",
     "output_type": "stream",
     "text": [
      "\tcompleted  100  /  500 epochs\n"
     ]
    },
    {
     "name": "stderr",
     "output_type": "stream",
     "text": [
      "Epochs completed:  35%| █████████████▊                           173/500 [00:01]"
     ]
    },
    {
     "name": "stdout",
     "output_type": "stream",
     "text": [
      "\tcompleted  150  /  500 epochs\n"
     ]
    },
    {
     "name": "stderr",
     "output_type": "stream",
     "text": [
      "Epochs completed:  45%| █████████████████▉                       224/500 [00:01]"
     ]
    },
    {
     "name": "stdout",
     "output_type": "stream",
     "text": [
      "\tcompleted  200  /  500 epochs\n"
     ]
    },
    {
     "name": "stderr",
     "output_type": "stream",
     "text": [
      "Epochs completed:  55%| ██████████████████████                   275/500 [00:02]"
     ]
    },
    {
     "name": "stdout",
     "output_type": "stream",
     "text": [
      "\tcompleted  250  /  500 epochs\n"
     ]
    },
    {
     "name": "stderr",
     "output_type": "stream",
     "text": [
      "Epochs completed:  65%| ██████████████████████████               326/500 [00:02]"
     ]
    },
    {
     "name": "stdout",
     "output_type": "stream",
     "text": [
      "\tcompleted  300  /  500 epochs\n"
     ]
    },
    {
     "name": "stderr",
     "output_type": "stream",
     "text": [
      "Epochs completed:  75%| ██████████████████████████████▏          377/500 [00:02]"
     ]
    },
    {
     "name": "stdout",
     "output_type": "stream",
     "text": [
      "\tcompleted  350  /  500 epochs\n"
     ]
    },
    {
     "name": "stderr",
     "output_type": "stream",
     "text": [
      "Epochs completed:  86%| ██████████████████████████████████▏      428/500 [00:03]"
     ]
    },
    {
     "name": "stdout",
     "output_type": "stream",
     "text": [
      "\tcompleted  400  /  500 epochs\n"
     ]
    },
    {
     "name": "stderr",
     "output_type": "stream",
     "text": [
      "Epochs completed:  96%| ██████████████████████████████████████▎  479/500 [00:03]"
     ]
    },
    {
     "name": "stdout",
     "output_type": "stream",
     "text": [
      "\tcompleted  450  /  500 epochs\n"
     ]
    },
    {
     "name": "stderr",
     "output_type": "stream",
     "text": [
      "Epochs completed: 100%| ████████████████████████████████████████ 500/500 [00:03]\n"
     ]
    },
    {
     "name": "stdout",
     "output_type": "stream",
     "text": [
      "Tue Mar 26 12:32:36 2024 Finished embedding\n",
      "TSNE\n",
      "--------------------------------------------------------------------------------\n",
      "TSNE(early_exaggeration=12, random_state=0, verbose=True)\n",
      "--------------------------------------------------------------------------------\n",
      "===> Finding 90 nearest neighbors using Annoy approximate search using euclidean distance...\n",
      "   --> Time elapsed: 0.85 seconds\n",
      "===> Calculating affinity matrix...\n",
      "   --> Time elapsed: 0.05 seconds\n",
      "===> Calculating PCA-based initialization...\n",
      "   --> Time elapsed: 0.01 seconds\n",
      "===> Running optimization with exaggeration=12.00, lr=320.83 for 250 iterations...\n",
      "Iteration   50, KL divergence 3.6332, 50 iterations in 2.6962 sec\n",
      "Iteration  100, KL divergence 3.7354, 50 iterations in 2.4830 sec\n",
      "Iteration  150, KL divergence 3.7379, 50 iterations in 2.4580 sec\n",
      "Iteration  200, KL divergence 3.7381, 50 iterations in 2.5124 sec\n",
      "Iteration  250, KL divergence 3.7380, 50 iterations in 2.5204 sec\n",
      "   --> Time elapsed: 12.67 seconds\n",
      "===> Running optimization with exaggeration=1.00, lr=3850.00 for 500 iterations...\n",
      "Iteration   50, KL divergence 1.4691, 50 iterations in 2.3465 sec\n",
      "Iteration  100, KL divergence 1.3449, 50 iterations in 2.2947 sec\n",
      "Iteration  150, KL divergence 1.2980, 50 iterations in 2.2902 sec\n",
      "Iteration  200, KL divergence 1.2739, 50 iterations in 2.3231 sec\n",
      "Iteration  250, KL divergence 1.2604, 50 iterations in 2.3344 sec\n",
      "Iteration  300, KL divergence 1.2515, 50 iterations in 2.3184 sec\n",
      "Iteration  350, KL divergence 1.2452, 50 iterations in 2.3768 sec\n",
      "Iteration  400, KL divergence 1.2398, 50 iterations in 2.3791 sec\n",
      "Iteration  450, KL divergence 1.2355, 50 iterations in 2.3723 sec\n",
      "Iteration  500, KL divergence 1.2319, 50 iterations in 2.3694 sec\n",
      "   --> Time elapsed: 23.41 seconds\n",
      "smartseq seed: 1 scaled: True\n",
      "PCA2\n",
      "PCA50\n",
      "UMAP\n",
      "UMAP(random_state=1, verbose=True)\n",
      "Tue Mar 26 12:33:14 2024 Construct fuzzy simplicial set\n"
     ]
    },
    {
     "name": "stderr",
     "output_type": "stream",
     "text": [
      "/home/jan/anaconda3/envs/elephant_analysis_env/lib/python3.11/site-packages/umap/umap_.py:1943: UserWarning: n_jobs value -1 overridden to 1 by setting random_state. Use no seed for parallelism.\n",
      "  warn(f\"n_jobs value {self.n_jobs} overridden to 1 by setting random_state. Use no seed for parallelism.\")\n"
     ]
    },
    {
     "name": "stdout",
     "output_type": "stream",
     "text": [
      "Tue Mar 26 12:33:17 2024 Finding Nearest Neighbors\n",
      "Tue Mar 26 12:33:17 2024 Finished Nearest Neighbor Search\n",
      "Tue Mar 26 12:33:17 2024 Construct embedding\n"
     ]
    },
    {
     "name": "stderr",
     "output_type": "stream",
     "text": [
      "Epochs completed:   3%| █▍                                        17/500 [00:00]"
     ]
    },
    {
     "name": "stdout",
     "output_type": "stream",
     "text": [
      "\tcompleted  0  /  500 epochs\n"
     ]
    },
    {
     "name": "stderr",
     "output_type": "stream",
     "text": [
      "Epochs completed:  15%| █████▉                                    73/500 [00:00]"
     ]
    },
    {
     "name": "stdout",
     "output_type": "stream",
     "text": [
      "\tcompleted  50  /  500 epochs\n"
     ]
    },
    {
     "name": "stderr",
     "output_type": "stream",
     "text": [
      "Epochs completed:  23%| █████████▏                               115/500 [00:01]"
     ]
    },
    {
     "name": "stdout",
     "output_type": "stream",
     "text": [
      "\tcompleted  100  /  500 epochs\n"
     ]
    },
    {
     "name": "stderr",
     "output_type": "stream",
     "text": [
      "Epochs completed:  34%| █████████████▋                           171/500 [00:01]"
     ]
    },
    {
     "name": "stdout",
     "output_type": "stream",
     "text": [
      "\tcompleted  150  /  500 epochs\n"
     ]
    },
    {
     "name": "stderr",
     "output_type": "stream",
     "text": [
      "Epochs completed:  45%| ██████████████████▏                      227/500 [00:01]"
     ]
    },
    {
     "name": "stdout",
     "output_type": "stream",
     "text": [
      "\tcompleted  200  /  500 epochs\n"
     ]
    },
    {
     "name": "stderr",
     "output_type": "stream",
     "text": [
      "Epochs completed:  54%| █████████████████████▌                   269/500 [00:02]"
     ]
    },
    {
     "name": "stdout",
     "output_type": "stream",
     "text": [
      "\tcompleted  250  /  500 epochs\n"
     ]
    },
    {
     "name": "stderr",
     "output_type": "stream",
     "text": [
      "Epochs completed:  65%| ██████████████████████████               325/500 [00:02]"
     ]
    },
    {
     "name": "stdout",
     "output_type": "stream",
     "text": [
      "\tcompleted  300  /  500 epochs\n"
     ]
    },
    {
     "name": "stderr",
     "output_type": "stream",
     "text": [
      "Epochs completed:  73%| █████████████████████████████▎           367/500 [00:02]"
     ]
    },
    {
     "name": "stdout",
     "output_type": "stream",
     "text": [
      "\tcompleted  350  /  500 epochs\n"
     ]
    },
    {
     "name": "stderr",
     "output_type": "stream",
     "text": [
      "Epochs completed:  85%| █████████████████████████████████▊       423/500 [00:03]"
     ]
    },
    {
     "name": "stdout",
     "output_type": "stream",
     "text": [
      "\tcompleted  400  /  500 epochs\n"
     ]
    },
    {
     "name": "stderr",
     "output_type": "stream",
     "text": [
      "Epochs completed:  96%| ██████████████████████████████████████▎  479/500 [00:03]"
     ]
    },
    {
     "name": "stdout",
     "output_type": "stream",
     "text": [
      "\tcompleted  450  /  500 epochs\n"
     ]
    },
    {
     "name": "stderr",
     "output_type": "stream",
     "text": [
      "Epochs completed: 100%| ████████████████████████████████████████ 500/500 [00:03]\n"
     ]
    },
    {
     "name": "stdout",
     "output_type": "stream",
     "text": [
      "Tue Mar 26 12:33:21 2024 Finished embedding\n",
      "TSNE\n",
      "--------------------------------------------------------------------------------\n",
      "TSNE(early_exaggeration=12, random_state=1, verbose=True)\n",
      "--------------------------------------------------------------------------------\n",
      "===> Finding 90 nearest neighbors using Annoy approximate search using euclidean distance...\n",
      "   --> Time elapsed: 0.85 seconds\n",
      "===> Calculating affinity matrix...\n",
      "   --> Time elapsed: 0.05 seconds\n",
      "===> Calculating PCA-based initialization...\n",
      "   --> Time elapsed: 0.01 seconds\n",
      "===> Running optimization with exaggeration=12.00, lr=320.83 for 250 iterations...\n",
      "Iteration   50, KL divergence 3.6328, 50 iterations in 2.6821 sec\n",
      "Iteration  100, KL divergence 3.7332, 50 iterations in 2.4858 sec\n",
      "Iteration  150, KL divergence 3.7358, 50 iterations in 2.4131 sec\n",
      "Iteration  200, KL divergence 3.7360, 50 iterations in 2.4233 sec\n",
      "Iteration  250, KL divergence 3.7359, 50 iterations in 2.4839 sec\n",
      "   --> Time elapsed: 12.49 seconds\n",
      "===> Running optimization with exaggeration=1.00, lr=3850.00 for 500 iterations...\n",
      "Iteration   50, KL divergence 1.4659, 50 iterations in 2.3292 sec\n",
      "Iteration  100, KL divergence 1.3397, 50 iterations in 2.3009 sec\n",
      "Iteration  150, KL divergence 1.2922, 50 iterations in 2.2899 sec\n",
      "Iteration  200, KL divergence 1.2687, 50 iterations in 2.3061 sec\n",
      "Iteration  250, KL divergence 1.2549, 50 iterations in 2.3339 sec\n",
      "Iteration  300, KL divergence 1.2455, 50 iterations in 2.3284 sec\n",
      "Iteration  350, KL divergence 1.2389, 50 iterations in 2.3292 sec\n",
      "Iteration  400, KL divergence 1.2337, 50 iterations in 2.3348 sec\n",
      "Iteration  450, KL divergence 1.2292, 50 iterations in 2.3317 sec\n",
      "Iteration  500, KL divergence 1.2259, 50 iterations in 2.3469 sec\n",
      "   --> Time elapsed: 23.23 seconds\n",
      "smartseq seed: 2 scaled: True\n",
      "PCA2\n",
      "PCA50\n",
      "UMAP\n",
      "UMAP(random_state=2, verbose=True)\n",
      "Tue Mar 26 12:33:58 2024 Construct fuzzy simplicial set\n"
     ]
    },
    {
     "name": "stderr",
     "output_type": "stream",
     "text": [
      "/home/jan/anaconda3/envs/elephant_analysis_env/lib/python3.11/site-packages/umap/umap_.py:1943: UserWarning: n_jobs value -1 overridden to 1 by setting random_state. Use no seed for parallelism.\n",
      "  warn(f\"n_jobs value {self.n_jobs} overridden to 1 by setting random_state. Use no seed for parallelism.\")\n"
     ]
    },
    {
     "name": "stdout",
     "output_type": "stream",
     "text": [
      "Tue Mar 26 12:34:01 2024 Finding Nearest Neighbors\n",
      "Tue Mar 26 12:34:01 2024 Finished Nearest Neighbor Search\n",
      "Tue Mar 26 12:34:01 2024 Construct embedding\n"
     ]
    },
    {
     "name": "stderr",
     "output_type": "stream",
     "text": [
      "Epochs completed:   4%| █▌                                        19/500 [00:00]"
     ]
    },
    {
     "name": "stdout",
     "output_type": "stream",
     "text": [
      "\tcompleted  0  /  500 epochs\n"
     ]
    },
    {
     "name": "stderr",
     "output_type": "stream",
     "text": [
      "Epochs completed:  14%| █████▌                                    68/500 [00:00]"
     ]
    },
    {
     "name": "stdout",
     "output_type": "stream",
     "text": [
      "\tcompleted  50  /  500 epochs\n"
     ]
    },
    {
     "name": "stderr",
     "output_type": "stream",
     "text": [
      "Epochs completed:  26%| ██████████▌                              132/500 [00:01]"
     ]
    },
    {
     "name": "stdout",
     "output_type": "stream",
     "text": [
      "\tcompleted  100  /  500 epochs\n"
     ]
    },
    {
     "name": "stderr",
     "output_type": "stream",
     "text": [
      "Epochs completed:  36%| ██████████████▍                          180/500 [00:01]"
     ]
    },
    {
     "name": "stdout",
     "output_type": "stream",
     "text": [
      "\tcompleted  150  /  500 epochs\n"
     ]
    },
    {
     "name": "stderr",
     "output_type": "stream",
     "text": [
      "Epochs completed:  46%| ██████████████████▏                      228/500 [00:01]"
     ]
    },
    {
     "name": "stdout",
     "output_type": "stream",
     "text": [
      "\tcompleted  200  /  500 epochs\n"
     ]
    },
    {
     "name": "stderr",
     "output_type": "stream",
     "text": [
      "Epochs completed:  55%| ██████████████████████                   276/500 [00:02]"
     ]
    },
    {
     "name": "stdout",
     "output_type": "stream",
     "text": [
      "\tcompleted  250  /  500 epochs\n"
     ]
    },
    {
     "name": "stderr",
     "output_type": "stream",
     "text": [
      "Epochs completed:  65%| █████████████████████████▉               324/500 [00:02]"
     ]
    },
    {
     "name": "stdout",
     "output_type": "stream",
     "text": [
      "\tcompleted  300  /  500 epochs\n"
     ]
    },
    {
     "name": "stderr",
     "output_type": "stream",
     "text": [
      "Epochs completed:  74%| █████████████████████████████▊           372/500 [00:02]"
     ]
    },
    {
     "name": "stdout",
     "output_type": "stream",
     "text": [
      "\tcompleted  350  /  500 epochs\n"
     ]
    },
    {
     "name": "stderr",
     "output_type": "stream",
     "text": [
      "Epochs completed:  84%| █████████████████████████████████▌       420/500 [00:02]"
     ]
    },
    {
     "name": "stdout",
     "output_type": "stream",
     "text": [
      "\tcompleted  400  /  500 epochs\n"
     ]
    },
    {
     "name": "stderr",
     "output_type": "stream",
     "text": [
      "Epochs completed:  94%| █████████████████████████████████████▍   468/500 [00:03]"
     ]
    },
    {
     "name": "stdout",
     "output_type": "stream",
     "text": [
      "\tcompleted  450  /  500 epochs\n"
     ]
    },
    {
     "name": "stderr",
     "output_type": "stream",
     "text": [
      "Epochs completed: 100%| ████████████████████████████████████████ 500/500 [00:03]\n"
     ]
    },
    {
     "name": "stdout",
     "output_type": "stream",
     "text": [
      "Tue Mar 26 12:34:04 2024 Finished embedding\n",
      "TSNE\n",
      "--------------------------------------------------------------------------------\n",
      "TSNE(early_exaggeration=12, random_state=2, verbose=True)\n",
      "--------------------------------------------------------------------------------\n",
      "===> Finding 90 nearest neighbors using Annoy approximate search using euclidean distance...\n",
      "   --> Time elapsed: 0.85 seconds\n",
      "===> Calculating affinity matrix...\n",
      "   --> Time elapsed: 0.05 seconds\n",
      "===> Calculating PCA-based initialization...\n",
      "   --> Time elapsed: 0.01 seconds\n",
      "===> Running optimization with exaggeration=12.00, lr=320.83 for 250 iterations...\n",
      "Iteration   50, KL divergence 3.6360, 50 iterations in 2.6838 sec\n",
      "Iteration  100, KL divergence 3.7374, 50 iterations in 2.4899 sec\n",
      "Iteration  150, KL divergence 3.7404, 50 iterations in 2.4169 sec\n",
      "Iteration  200, KL divergence 3.7407, 50 iterations in 2.4217 sec\n",
      "Iteration  250, KL divergence 3.7406, 50 iterations in 2.5073 sec\n",
      "   --> Time elapsed: 12.52 seconds\n",
      "===> Running optimization with exaggeration=1.00, lr=3850.00 for 500 iterations...\n",
      "Iteration   50, KL divergence 1.4717, 50 iterations in 2.3429 sec\n",
      "Iteration  100, KL divergence 1.3456, 50 iterations in 2.3050 sec\n",
      "Iteration  150, KL divergence 1.2982, 50 iterations in 2.3025 sec\n",
      "Iteration  200, KL divergence 1.2744, 50 iterations in 2.3352 sec\n",
      "Iteration  250, KL divergence 1.2604, 50 iterations in 2.3524 sec\n",
      "Iteration  300, KL divergence 1.2506, 50 iterations in 2.3673 sec\n",
      "Iteration  350, KL divergence 1.2437, 50 iterations in 2.3414 sec\n",
      "Iteration  400, KL divergence 1.2385, 50 iterations in 2.3498 sec\n",
      "Iteration  450, KL divergence 1.2342, 50 iterations in 2.3641 sec\n",
      "Iteration  500, KL divergence 1.2309, 50 iterations in 2.3864 sec\n",
      "   --> Time elapsed: 23.45 seconds\n",
      "smartseq seed: 3 scaled: True\n",
      "PCA2\n",
      "PCA50\n",
      "UMAP\n",
      "UMAP(random_state=3, verbose=True)\n",
      "Tue Mar 26 12:34:42 2024 Construct fuzzy simplicial set\n"
     ]
    },
    {
     "name": "stderr",
     "output_type": "stream",
     "text": [
      "/home/jan/anaconda3/envs/elephant_analysis_env/lib/python3.11/site-packages/umap/umap_.py:1943: UserWarning: n_jobs value -1 overridden to 1 by setting random_state. Use no seed for parallelism.\n",
      "  warn(f\"n_jobs value {self.n_jobs} overridden to 1 by setting random_state. Use no seed for parallelism.\")\n"
     ]
    },
    {
     "name": "stdout",
     "output_type": "stream",
     "text": [
      "Tue Mar 26 12:34:45 2024 Finding Nearest Neighbors\n",
      "Tue Mar 26 12:34:45 2024 Finished Nearest Neighbor Search\n",
      "Tue Mar 26 12:34:45 2024 Construct embedding\n"
     ]
    },
    {
     "name": "stderr",
     "output_type": "stream",
     "text": [
      "Epochs completed:   4%| █▋                                        20/500 [00:00]"
     ]
    },
    {
     "name": "stdout",
     "output_type": "stream",
     "text": [
      "\tcompleted  0  /  500 epochs\n"
     ]
    },
    {
     "name": "stderr",
     "output_type": "stream",
     "text": [
      "Epochs completed:  14%| █████▊                                    71/500 [00:00]"
     ]
    },
    {
     "name": "stdout",
     "output_type": "stream",
     "text": [
      "\tcompleted  50  /  500 epochs\n"
     ]
    },
    {
     "name": "stderr",
     "output_type": "stream",
     "text": [
      "Epochs completed:  24%| █████████▊                               122/500 [00:01]"
     ]
    },
    {
     "name": "stdout",
     "output_type": "stream",
     "text": [
      "\tcompleted  100  /  500 epochs\n"
     ]
    },
    {
     "name": "stderr",
     "output_type": "stream",
     "text": [
      "Epochs completed:  35%| █████████████▊                           173/500 [00:01]"
     ]
    },
    {
     "name": "stdout",
     "output_type": "stream",
     "text": [
      "\tcompleted  150  /  500 epochs\n"
     ]
    },
    {
     "name": "stderr",
     "output_type": "stream",
     "text": [
      "Epochs completed:  45%| █████████████████▉                       224/500 [00:01]"
     ]
    },
    {
     "name": "stdout",
     "output_type": "stream",
     "text": [
      "\tcompleted  200  /  500 epochs\n"
     ]
    },
    {
     "name": "stderr",
     "output_type": "stream",
     "text": [
      "Epochs completed:  55%| ██████████████████████                   275/500 [00:01]"
     ]
    },
    {
     "name": "stdout",
     "output_type": "stream",
     "text": [
      "\tcompleted  250  /  500 epochs\n"
     ]
    },
    {
     "name": "stderr",
     "output_type": "stream",
     "text": [
      "Epochs completed:  65%| ██████████████████████████               326/500 [00:02]"
     ]
    },
    {
     "name": "stdout",
     "output_type": "stream",
     "text": [
      "\tcompleted  300  /  500 epochs\n"
     ]
    },
    {
     "name": "stderr",
     "output_type": "stream",
     "text": [
      "Epochs completed:  75%| ██████████████████████████████▏          377/500 [00:02]"
     ]
    },
    {
     "name": "stdout",
     "output_type": "stream",
     "text": [
      "\tcompleted  350  /  500 epochs\n"
     ]
    },
    {
     "name": "stderr",
     "output_type": "stream",
     "text": [
      "Epochs completed:  86%| ██████████████████████████████████▏      428/500 [00:02]"
     ]
    },
    {
     "name": "stdout",
     "output_type": "stream",
     "text": [
      "\tcompleted  400  /  500 epochs\n"
     ]
    },
    {
     "name": "stderr",
     "output_type": "stream",
     "text": [
      "Epochs completed:  96%| ██████████████████████████████████████▎  479/500 [00:03]"
     ]
    },
    {
     "name": "stdout",
     "output_type": "stream",
     "text": [
      "\tcompleted  450  /  500 epochs\n"
     ]
    },
    {
     "name": "stderr",
     "output_type": "stream",
     "text": [
      "Epochs completed: 100%| ████████████████████████████████████████ 500/500 [00:03]\n"
     ]
    },
    {
     "name": "stdout",
     "output_type": "stream",
     "text": [
      "Tue Mar 26 12:34:48 2024 Finished embedding\n",
      "TSNE\n",
      "--------------------------------------------------------------------------------\n",
      "TSNE(early_exaggeration=12, random_state=3, verbose=True)\n",
      "--------------------------------------------------------------------------------\n",
      "===> Finding 90 nearest neighbors using Annoy approximate search using euclidean distance...\n",
      "   --> Time elapsed: 0.85 seconds\n",
      "===> Calculating affinity matrix...\n",
      "   --> Time elapsed: 0.05 seconds\n",
      "===> Calculating PCA-based initialization...\n",
      "   --> Time elapsed: 0.01 seconds\n",
      "===> Running optimization with exaggeration=12.00, lr=320.83 for 250 iterations...\n",
      "Iteration   50, KL divergence 3.6295, 50 iterations in 2.6916 sec\n",
      "Iteration  100, KL divergence 3.7334, 50 iterations in 2.4875 sec\n",
      "Iteration  150, KL divergence 3.7359, 50 iterations in 2.4752 sec\n",
      "Iteration  200, KL divergence 3.7359, 50 iterations in 2.5256 sec\n",
      "Iteration  250, KL divergence 3.7358, 50 iterations in 2.5164 sec\n",
      "   --> Time elapsed: 12.70 seconds\n",
      "===> Running optimization with exaggeration=1.00, lr=3850.00 for 500 iterations...\n",
      "Iteration   50, KL divergence 1.4702, 50 iterations in 2.3330 sec\n",
      "Iteration  100, KL divergence 1.3468, 50 iterations in 2.2989 sec\n",
      "Iteration  150, KL divergence 1.3010, 50 iterations in 2.2987 sec\n",
      "Iteration  200, KL divergence 1.2781, 50 iterations in 2.3200 sec\n",
      "Iteration  250, KL divergence 1.2640, 50 iterations in 2.3483 sec\n",
      "Iteration  300, KL divergence 1.2543, 50 iterations in 2.3534 sec\n",
      "Iteration  350, KL divergence 1.2477, 50 iterations in 2.3373 sec\n",
      "Iteration  400, KL divergence 1.2429, 50 iterations in 2.3314 sec\n",
      "Iteration  450, KL divergence 1.2388, 50 iterations in 2.3635 sec\n",
      "Iteration  500, KL divergence 1.2353, 50 iterations in 2.3658 sec\n",
      "   --> Time elapsed: 23.35 seconds\n",
      "smartseq seed: 4 scaled: True\n",
      "PCA2\n",
      "PCA50\n",
      "UMAP\n",
      "UMAP(random_state=4, verbose=True)\n",
      "Tue Mar 26 12:35:25 2024 Construct fuzzy simplicial set\n"
     ]
    },
    {
     "name": "stderr",
     "output_type": "stream",
     "text": [
      "/home/jan/anaconda3/envs/elephant_analysis_env/lib/python3.11/site-packages/umap/umap_.py:1943: UserWarning: n_jobs value -1 overridden to 1 by setting random_state. Use no seed for parallelism.\n",
      "  warn(f\"n_jobs value {self.n_jobs} overridden to 1 by setting random_state. Use no seed for parallelism.\")\n"
     ]
    },
    {
     "name": "stdout",
     "output_type": "stream",
     "text": [
      "Tue Mar 26 12:35:28 2024 Finding Nearest Neighbors\n",
      "Tue Mar 26 12:35:28 2024 Finished Nearest Neighbor Search\n",
      "Tue Mar 26 12:35:28 2024 Construct embedding\n"
     ]
    },
    {
     "name": "stderr",
     "output_type": "stream",
     "text": [
      "Epochs completed:   4%| █▋                                        20/500 [00:00]"
     ]
    },
    {
     "name": "stdout",
     "output_type": "stream",
     "text": [
      "\tcompleted  0  /  500 epochs\n"
     ]
    },
    {
     "name": "stderr",
     "output_type": "stream",
     "text": [
      "Epochs completed:  14%| █████▊                                    71/500 [00:00]"
     ]
    },
    {
     "name": "stdout",
     "output_type": "stream",
     "text": [
      "\tcompleted  50  /  500 epochs\n"
     ]
    },
    {
     "name": "stderr",
     "output_type": "stream",
     "text": [
      "Epochs completed:  24%| █████████▊                               122/500 [00:01]"
     ]
    },
    {
     "name": "stdout",
     "output_type": "stream",
     "text": [
      "\tcompleted  100  /  500 epochs\n"
     ]
    },
    {
     "name": "stderr",
     "output_type": "stream",
     "text": [
      "Epochs completed:  35%| █████████████▊                           173/500 [00:01]"
     ]
    },
    {
     "name": "stdout",
     "output_type": "stream",
     "text": [
      "\tcompleted  150  /  500 epochs\n"
     ]
    },
    {
     "name": "stderr",
     "output_type": "stream",
     "text": [
      "Epochs completed:  45%| █████████████████▉                       224/500 [00:01]"
     ]
    },
    {
     "name": "stdout",
     "output_type": "stream",
     "text": [
      "\tcompleted  200  /  500 epochs\n"
     ]
    },
    {
     "name": "stderr",
     "output_type": "stream",
     "text": [
      "Epochs completed:  55%| ██████████████████████                   275/500 [00:02]"
     ]
    },
    {
     "name": "stdout",
     "output_type": "stream",
     "text": [
      "\tcompleted  250  /  500 epochs\n"
     ]
    },
    {
     "name": "stderr",
     "output_type": "stream",
     "text": [
      "Epochs completed:  65%| ██████████████████████████               326/500 [00:02]"
     ]
    },
    {
     "name": "stdout",
     "output_type": "stream",
     "text": [
      "\tcompleted  300  /  500 epochs\n"
     ]
    },
    {
     "name": "stderr",
     "output_type": "stream",
     "text": [
      "Epochs completed:  75%| ██████████████████████████████▏          377/500 [00:02]"
     ]
    },
    {
     "name": "stdout",
     "output_type": "stream",
     "text": [
      "\tcompleted  350  /  500 epochs\n"
     ]
    },
    {
     "name": "stderr",
     "output_type": "stream",
     "text": [
      "Epochs completed:  86%| ██████████████████████████████████▏      428/500 [00:02]"
     ]
    },
    {
     "name": "stdout",
     "output_type": "stream",
     "text": [
      "\tcompleted  400  /  500 epochs\n"
     ]
    },
    {
     "name": "stderr",
     "output_type": "stream",
     "text": [
      "Epochs completed:  96%| ██████████████████████████████████████▎  479/500 [00:03]"
     ]
    },
    {
     "name": "stdout",
     "output_type": "stream",
     "text": [
      "\tcompleted  450  /  500 epochs\n"
     ]
    },
    {
     "name": "stderr",
     "output_type": "stream",
     "text": [
      "Epochs completed: 100%| ████████████████████████████████████████ 500/500 [00:03]\n"
     ]
    },
    {
     "name": "stdout",
     "output_type": "stream",
     "text": [
      "Tue Mar 26 12:35:32 2024 Finished embedding\n",
      "TSNE\n",
      "--------------------------------------------------------------------------------\n",
      "TSNE(early_exaggeration=12, random_state=4, verbose=True)\n",
      "--------------------------------------------------------------------------------\n",
      "===> Finding 90 nearest neighbors using Annoy approximate search using euclidean distance...\n",
      "   --> Time elapsed: 0.85 seconds\n",
      "===> Calculating affinity matrix...\n",
      "   --> Time elapsed: 0.05 seconds\n",
      "===> Calculating PCA-based initialization...\n",
      "   --> Time elapsed: 0.01 seconds\n",
      "===> Running optimization with exaggeration=12.00, lr=320.83 for 250 iterations...\n",
      "Iteration   50, KL divergence 3.6320, 50 iterations in 2.6873 sec\n",
      "Iteration  100, KL divergence 3.7340, 50 iterations in 2.4720 sec\n",
      "Iteration  150, KL divergence 3.7366, 50 iterations in 2.4994 sec\n",
      "Iteration  200, KL divergence 3.7366, 50 iterations in 2.5147 sec\n",
      "Iteration  250, KL divergence 3.7365, 50 iterations in 2.5162 sec\n",
      "   --> Time elapsed: 12.69 seconds\n",
      "===> Running optimization with exaggeration=1.00, lr=3850.00 for 500 iterations...\n",
      "Iteration   50, KL divergence 1.4718, 50 iterations in 2.3347 sec\n",
      "Iteration  100, KL divergence 1.3459, 50 iterations in 2.2853 sec\n",
      "Iteration  150, KL divergence 1.2991, 50 iterations in 2.3005 sec\n",
      "Iteration  200, KL divergence 1.2756, 50 iterations in 2.3127 sec\n",
      "Iteration  250, KL divergence 1.2616, 50 iterations in 2.3256 sec\n",
      "Iteration  300, KL divergence 1.2517, 50 iterations in 2.3461 sec\n",
      "Iteration  350, KL divergence 1.2449, 50 iterations in 2.3683 sec\n",
      "Iteration  400, KL divergence 1.2397, 50 iterations in 2.3704 sec\n",
      "Iteration  450, KL divergence 1.2352, 50 iterations in 2.3844 sec\n",
      "Iteration  500, KL divergence 1.2318, 50 iterations in 2.3899 sec\n",
      "   --> Time elapsed: 23.42 seconds\n",
      "running only on unscaled data for mnist\n",
      "mnist seed: 0 scaled: False\n",
      "PCA2\n",
      "PCA50\n",
      "UMAP\n",
      "UMAP(random_state=0, verbose=True)\n",
      "Tue Mar 26 12:36:13 2024 Construct fuzzy simplicial set\n",
      "Tue Mar 26 12:36:13 2024 Finding Nearest Neighbors\n",
      "Tue Mar 26 12:36:13 2024 Building RP forest with 18 trees\n",
      "Tue Mar 26 12:36:13 2024 NN descent for 16 iterations\n"
     ]
    },
    {
     "name": "stderr",
     "output_type": "stream",
     "text": [
      "/home/jan/anaconda3/envs/elephant_analysis_env/lib/python3.11/site-packages/umap/umap_.py:1943: UserWarning: n_jobs value -1 overridden to 1 by setting random_state. Use no seed for parallelism.\n",
      "  warn(f\"n_jobs value {self.n_jobs} overridden to 1 by setting random_state. Use no seed for parallelism.\")\n"
     ]
    },
    {
     "name": "stdout",
     "output_type": "stream",
     "text": [
      "\t 1  /  16\n",
      "\t 2  /  16\n",
      "\t 3  /  16\n",
      "\t 4  /  16\n",
      "\tStopping threshold met -- exiting after 4 iterations\n",
      "Tue Mar 26 12:36:15 2024 Finished Nearest Neighbor Search\n",
      "Tue Mar 26 12:36:15 2024 Construct embedding\n"
     ]
    },
    {
     "name": "stderr",
     "output_type": "stream",
     "text": [
      "Epochs completed:   3%| █▎                                         6/200 [00:00]"
     ]
    },
    {
     "name": "stdout",
     "output_type": "stream",
     "text": [
      "\tcompleted  0  /  200 epochs\n"
     ]
    },
    {
     "name": "stderr",
     "output_type": "stream",
     "text": [
      "Epochs completed:  12%| ████▋                                     23/200 [00:02]"
     ]
    },
    {
     "name": "stdout",
     "output_type": "stream",
     "text": [
      "\tcompleted  20  /  200 epochs\n"
     ]
    },
    {
     "name": "stderr",
     "output_type": "stream",
     "text": [
      "Epochs completed:  21%| ████████▌                                 42/200 [00:04]"
     ]
    },
    {
     "name": "stdout",
     "output_type": "stream",
     "text": [
      "\tcompleted  40  /  200 epochs\n"
     ]
    },
    {
     "name": "stderr",
     "output_type": "stream",
     "text": [
      "Epochs completed:  32%| ████████████▉                             63/200 [00:06]"
     ]
    },
    {
     "name": "stdout",
     "output_type": "stream",
     "text": [
      "\tcompleted  60  /  200 epochs\n"
     ]
    },
    {
     "name": "stderr",
     "output_type": "stream",
     "text": [
      "Epochs completed:  41%| ████████████████▊                         82/200 [00:08]"
     ]
    },
    {
     "name": "stdout",
     "output_type": "stream",
     "text": [
      "\tcompleted  80  /  200 epochs\n"
     ]
    },
    {
     "name": "stderr",
     "output_type": "stream",
     "text": [
      "Epochs completed:  52%| ████████████████████▌                    103/200 [00:11]"
     ]
    },
    {
     "name": "stdout",
     "output_type": "stream",
     "text": [
      "\tcompleted  100  /  200 epochs\n"
     ]
    },
    {
     "name": "stderr",
     "output_type": "stream",
     "text": [
      "Epochs completed:  62%| ████████████████████████▌                123/200 [00:13]"
     ]
    },
    {
     "name": "stdout",
     "output_type": "stream",
     "text": [
      "\tcompleted  120  /  200 epochs\n"
     ]
    },
    {
     "name": "stderr",
     "output_type": "stream",
     "text": [
      "Epochs completed:  71%| ████████████████████████████▍            142/200 [00:15]"
     ]
    },
    {
     "name": "stdout",
     "output_type": "stream",
     "text": [
      "\tcompleted  140  /  200 epochs\n"
     ]
    },
    {
     "name": "stderr",
     "output_type": "stream",
     "text": [
      "Epochs completed:  81%| ████████████████████████████████▍        162/200 [00:17]"
     ]
    },
    {
     "name": "stdout",
     "output_type": "stream",
     "text": [
      "\tcompleted  160  /  200 epochs\n"
     ]
    },
    {
     "name": "stderr",
     "output_type": "stream",
     "text": [
      "Epochs completed:  91%| ████████████████████████████████████▍    182/200 [00:19]"
     ]
    },
    {
     "name": "stdout",
     "output_type": "stream",
     "text": [
      "\tcompleted  180  /  200 epochs\n"
     ]
    },
    {
     "name": "stderr",
     "output_type": "stream",
     "text": [
      "Epochs completed: 100%| ████████████████████████████████████████ 200/200 [00:21]\n"
     ]
    },
    {
     "name": "stdout",
     "output_type": "stream",
     "text": [
      "Tue Mar 26 12:36:42 2024 Finished embedding\n",
      "TSNE\n",
      "--------------------------------------------------------------------------------\n",
      "TSNE(early_exaggeration=12, random_state=0, verbose=True)\n",
      "--------------------------------------------------------------------------------\n",
      "===> Finding 90 nearest neighbors using Annoy approximate search using euclidean distance...\n",
      "   --> Time elapsed: 25.52 seconds\n",
      "===> Calculating affinity matrix...\n",
      "   --> Time elapsed: 1.59 seconds\n",
      "===> Calculating PCA-based initialization...\n",
      "   --> Time elapsed: 0.14 seconds\n",
      "===> Running optimization with exaggeration=12.00, lr=5833.33 for 250 iterations...\n",
      "Iteration   50, KL divergence 5.9802, 50 iterations in 2.6051 sec\n",
      "Iteration  100, KL divergence 5.7635, 50 iterations in 2.5629 sec\n",
      "Iteration  150, KL divergence 5.6988, 50 iterations in 2.5550 sec\n",
      "Iteration  200, KL divergence 5.6751, 50 iterations in 2.5500 sec\n",
      "Iteration  250, KL divergence 5.6637, 50 iterations in 2.5492 sec\n",
      "   --> Time elapsed: 12.82 seconds\n",
      "===> Running optimization with exaggeration=1.00, lr=70000.00 for 500 iterations...\n",
      "Iteration   50, KL divergence 3.5604, 50 iterations in 2.6159 sec\n",
      "Iteration  100, KL divergence 3.2914, 50 iterations in 3.2229 sec\n",
      "Iteration  150, KL divergence 3.1540, 50 iterations in 4.0432 sec\n",
      "Iteration  200, KL divergence 3.0644, 50 iterations in 4.8445 sec\n",
      "Iteration  250, KL divergence 2.9996, 50 iterations in 5.4984 sec\n",
      "Iteration  300, KL divergence 2.9492, 50 iterations in 6.5102 sec\n",
      "Iteration  350, KL divergence 2.9087, 50 iterations in 7.2169 sec\n",
      "Iteration  400, KL divergence 2.8750, 50 iterations in 8.0585 sec\n",
      "Iteration  450, KL divergence 2.8462, 50 iterations in 8.9561 sec\n",
      "Iteration  500, KL divergence 2.8218, 50 iterations in 9.4950 sec\n",
      "   --> Time elapsed: 60.46 seconds\n",
      "mnist seed: 1 scaled: False\n",
      "PCA2\n",
      "PCA50\n",
      "UMAP\n",
      "UMAP(random_state=1, verbose=True)\n",
      "Tue Mar 26 12:38:27 2024 Construct fuzzy simplicial set\n",
      "Tue Mar 26 12:38:27 2024 Finding Nearest Neighbors\n",
      "Tue Mar 26 12:38:27 2024 Building RP forest with 18 trees\n",
      "Tue Mar 26 12:38:27 2024 NN descent for 16 iterations\n"
     ]
    },
    {
     "name": "stderr",
     "output_type": "stream",
     "text": [
      "/home/jan/anaconda3/envs/elephant_analysis_env/lib/python3.11/site-packages/umap/umap_.py:1943: UserWarning: n_jobs value -1 overridden to 1 by setting random_state. Use no seed for parallelism.\n",
      "  warn(f\"n_jobs value {self.n_jobs} overridden to 1 by setting random_state. Use no seed for parallelism.\")\n"
     ]
    },
    {
     "name": "stdout",
     "output_type": "stream",
     "text": [
      "\t 1  /  16\n",
      "\t 2  /  16\n",
      "\t 3  /  16\n",
      "\t 4  /  16\n",
      "\tStopping threshold met -- exiting after 4 iterations\n",
      "Tue Mar 26 12:38:29 2024 Finished Nearest Neighbor Search\n",
      "Tue Mar 26 12:38:29 2024 Construct embedding\n"
     ]
    },
    {
     "name": "stderr",
     "output_type": "stream",
     "text": [
      "Epochs completed:   2%| ▊                                          4/200 [00:00]"
     ]
    },
    {
     "name": "stdout",
     "output_type": "stream",
     "text": [
      "\tcompleted  0  /  200 epochs\n"
     ]
    },
    {
     "name": "stderr",
     "output_type": "stream",
     "text": [
      "Epochs completed:  12%| ████▋                                     23/200 [00:02]"
     ]
    },
    {
     "name": "stdout",
     "output_type": "stream",
     "text": [
      "\tcompleted  20  /  200 epochs\n"
     ]
    },
    {
     "name": "stderr",
     "output_type": "stream",
     "text": [
      "Epochs completed:  22%| ████████▊                                 43/200 [00:04]"
     ]
    },
    {
     "name": "stdout",
     "output_type": "stream",
     "text": [
      "\tcompleted  40  /  200 epochs\n"
     ]
    },
    {
     "name": "stderr",
     "output_type": "stream",
     "text": [
      "Epochs completed:  32%| ████████████▉                             63/200 [00:07]"
     ]
    },
    {
     "name": "stdout",
     "output_type": "stream",
     "text": [
      "\tcompleted  60  /  200 epochs\n"
     ]
    },
    {
     "name": "stderr",
     "output_type": "stream",
     "text": [
      "Epochs completed:  41%| ████████████████▊                         82/200 [00:09]"
     ]
    },
    {
     "name": "stdout",
     "output_type": "stream",
     "text": [
      "\tcompleted  80  /  200 epochs\n"
     ]
    },
    {
     "name": "stderr",
     "output_type": "stream",
     "text": [
      "Epochs completed:  52%| ████████████████████▌                    103/200 [00:11]"
     ]
    },
    {
     "name": "stdout",
     "output_type": "stream",
     "text": [
      "\tcompleted  100  /  200 epochs\n"
     ]
    },
    {
     "name": "stderr",
     "output_type": "stream",
     "text": [
      "Epochs completed:  61%| ████████████████████████▍                122/200 [00:13]"
     ]
    },
    {
     "name": "stdout",
     "output_type": "stream",
     "text": [
      "\tcompleted  120  /  200 epochs\n"
     ]
    },
    {
     "name": "stderr",
     "output_type": "stream",
     "text": [
      "Epochs completed:  72%| ████████████████████████████▌            143/200 [00:15]"
     ]
    },
    {
     "name": "stdout",
     "output_type": "stream",
     "text": [
      "\tcompleted  140  /  200 epochs\n"
     ]
    },
    {
     "name": "stderr",
     "output_type": "stream",
     "text": [
      "Epochs completed:  82%| ████████████████████████████████▌        163/200 [00:18]"
     ]
    },
    {
     "name": "stdout",
     "output_type": "stream",
     "text": [
      "\tcompleted  160  /  200 epochs\n"
     ]
    },
    {
     "name": "stderr",
     "output_type": "stream",
     "text": [
      "Epochs completed:  92%| ████████████████████████████████████▌    183/200 [00:20]"
     ]
    },
    {
     "name": "stdout",
     "output_type": "stream",
     "text": [
      "\tcompleted  180  /  200 epochs\n"
     ]
    },
    {
     "name": "stderr",
     "output_type": "stream",
     "text": [
      "Epochs completed: 100%| ████████████████████████████████████████ 200/200 [00:22]\n"
     ]
    },
    {
     "name": "stdout",
     "output_type": "stream",
     "text": [
      "Tue Mar 26 12:38:57 2024 Finished embedding\n",
      "TSNE\n",
      "--------------------------------------------------------------------------------\n",
      "TSNE(early_exaggeration=12, random_state=1, verbose=True)\n",
      "--------------------------------------------------------------------------------\n",
      "===> Finding 90 nearest neighbors using Annoy approximate search using euclidean distance...\n",
      "   --> Time elapsed: 25.71 seconds\n",
      "===> Calculating affinity matrix...\n",
      "   --> Time elapsed: 1.70 seconds\n",
      "===> Calculating PCA-based initialization...\n",
      "   --> Time elapsed: 0.14 seconds\n",
      "===> Running optimization with exaggeration=12.00, lr=5833.33 for 250 iterations...\n",
      "Iteration   50, KL divergence 5.9835, 50 iterations in 2.5896 sec\n",
      "Iteration  100, KL divergence 5.7655, 50 iterations in 2.5520 sec\n",
      "Iteration  150, KL divergence 5.7005, 50 iterations in 2.5231 sec\n",
      "Iteration  200, KL divergence 5.6768, 50 iterations in 2.5125 sec\n",
      "Iteration  250, KL divergence 5.6652, 50 iterations in 2.5064 sec\n",
      "   --> Time elapsed: 12.68 seconds\n",
      "===> Running optimization with exaggeration=1.00, lr=70000.00 for 500 iterations...\n",
      "Iteration   50, KL divergence 3.5602, 50 iterations in 2.5875 sec\n",
      "Iteration  100, KL divergence 3.2915, 50 iterations in 3.1948 sec\n",
      "Iteration  150, KL divergence 3.1544, 50 iterations in 4.0260 sec\n",
      "Iteration  200, KL divergence 3.0649, 50 iterations in 4.7744 sec\n",
      "Iteration  250, KL divergence 3.0001, 50 iterations in 5.5540 sec\n",
      "Iteration  300, KL divergence 2.9503, 50 iterations in 6.2171 sec\n",
      "Iteration  350, KL divergence 2.9097, 50 iterations in 7.1710 sec\n",
      "Iteration  400, KL divergence 2.8760, 50 iterations in 8.0425 sec\n",
      "Iteration  450, KL divergence 2.8473, 50 iterations in 9.0515 sec\n",
      "Iteration  500, KL divergence 2.8234, 50 iterations in 9.6493 sec\n",
      "   --> Time elapsed: 60.27 seconds\n",
      "mnist seed: 2 scaled: False\n",
      "PCA2\n",
      "PCA50\n",
      "UMAP\n",
      "UMAP(random_state=2, verbose=True)\n",
      "Tue Mar 26 12:40:42 2024 Construct fuzzy simplicial set\n",
      "Tue Mar 26 12:40:42 2024 Finding Nearest Neighbors\n",
      "Tue Mar 26 12:40:42 2024 Building RP forest with 18 trees\n",
      "Tue Mar 26 12:40:42 2024 NN descent for 16 iterations\n"
     ]
    },
    {
     "name": "stderr",
     "output_type": "stream",
     "text": [
      "/home/jan/anaconda3/envs/elephant_analysis_env/lib/python3.11/site-packages/umap/umap_.py:1943: UserWarning: n_jobs value -1 overridden to 1 by setting random_state. Use no seed for parallelism.\n",
      "  warn(f\"n_jobs value {self.n_jobs} overridden to 1 by setting random_state. Use no seed for parallelism.\")\n"
     ]
    },
    {
     "name": "stdout",
     "output_type": "stream",
     "text": [
      "\t 1  /  16\n",
      "\t 2  /  16\n",
      "\t 3  /  16\n",
      "\t 4  /  16\n",
      "\tStopping threshold met -- exiting after 4 iterations\n",
      "Tue Mar 26 12:40:44 2024 Finished Nearest Neighbor Search\n",
      "Tue Mar 26 12:40:44 2024 Construct embedding\n"
     ]
    },
    {
     "name": "stderr",
     "output_type": "stream",
     "text": [
      "Epochs completed:   2%| ▊                                          4/200 [00:00]"
     ]
    },
    {
     "name": "stdout",
     "output_type": "stream",
     "text": [
      "\tcompleted  0  /  200 epochs\n"
     ]
    },
    {
     "name": "stderr",
     "output_type": "stream",
     "text": [
      "Epochs completed:  11%| ████▌                                     22/200 [00:02]"
     ]
    },
    {
     "name": "stdout",
     "output_type": "stream",
     "text": [
      "\tcompleted  20  /  200 epochs\n"
     ]
    },
    {
     "name": "stderr",
     "output_type": "stream",
     "text": [
      "Epochs completed:  22%| ████████▊                                 43/200 [00:04]"
     ]
    },
    {
     "name": "stdout",
     "output_type": "stream",
     "text": [
      "\tcompleted  40  /  200 epochs\n"
     ]
    },
    {
     "name": "stderr",
     "output_type": "stream",
     "text": [
      "Epochs completed:  32%| ████████████▉                             63/200 [00:06]"
     ]
    },
    {
     "name": "stdout",
     "output_type": "stream",
     "text": [
      "\tcompleted  60  /  200 epochs\n"
     ]
    },
    {
     "name": "stderr",
     "output_type": "stream",
     "text": [
      "Epochs completed:  41%| ████████████████▊                         82/200 [00:09]"
     ]
    },
    {
     "name": "stdout",
     "output_type": "stream",
     "text": [
      "\tcompleted  80  /  200 epochs\n"
     ]
    },
    {
     "name": "stderr",
     "output_type": "stream",
     "text": [
      "Epochs completed:  52%| ████████████████████▌                    103/200 [00:11]"
     ]
    },
    {
     "name": "stdout",
     "output_type": "stream",
     "text": [
      "\tcompleted  100  /  200 epochs\n"
     ]
    },
    {
     "name": "stderr",
     "output_type": "stream",
     "text": [
      "Epochs completed:  62%| ████████████████████████▌                123/200 [00:13]"
     ]
    },
    {
     "name": "stdout",
     "output_type": "stream",
     "text": [
      "\tcompleted  120  /  200 epochs\n"
     ]
    },
    {
     "name": "stderr",
     "output_type": "stream",
     "text": [
      "Epochs completed:  71%| ████████████████████████████▍            142/200 [00:15]"
     ]
    },
    {
     "name": "stdout",
     "output_type": "stream",
     "text": [
      "\tcompleted  140  /  200 epochs\n"
     ]
    },
    {
     "name": "stderr",
     "output_type": "stream",
     "text": [
      "Epochs completed:  81%| ████████████████████████████████▍        162/200 [00:17]"
     ]
    },
    {
     "name": "stdout",
     "output_type": "stream",
     "text": [
      "\tcompleted  160  /  200 epochs\n"
     ]
    },
    {
     "name": "stderr",
     "output_type": "stream",
     "text": [
      "Epochs completed:  92%| ████████████████████████████████████▌    183/200 [00:19]"
     ]
    },
    {
     "name": "stdout",
     "output_type": "stream",
     "text": [
      "\tcompleted  180  /  200 epochs\n"
     ]
    },
    {
     "name": "stderr",
     "output_type": "stream",
     "text": [
      "Epochs completed: 100%| ████████████████████████████████████████ 200/200 [00:21]\n"
     ]
    },
    {
     "name": "stdout",
     "output_type": "stream",
     "text": [
      "Tue Mar 26 12:41:11 2024 Finished embedding\n",
      "TSNE\n",
      "--------------------------------------------------------------------------------\n",
      "TSNE(early_exaggeration=12, random_state=2, verbose=True)\n",
      "--------------------------------------------------------------------------------\n",
      "===> Finding 90 nearest neighbors using Annoy approximate search using euclidean distance...\n",
      "   --> Time elapsed: 25.59 seconds\n",
      "===> Calculating affinity matrix...\n",
      "   --> Time elapsed: 1.59 seconds\n",
      "===> Calculating PCA-based initialization...\n",
      "   --> Time elapsed: 0.15 seconds\n",
      "===> Running optimization with exaggeration=12.00, lr=5833.33 for 250 iterations...\n",
      "Iteration   50, KL divergence 5.9792, 50 iterations in 2.5306 sec\n",
      "Iteration  100, KL divergence 5.7624, 50 iterations in 2.4927 sec\n",
      "Iteration  150, KL divergence 5.6972, 50 iterations in 2.4799 sec\n",
      "Iteration  200, KL divergence 5.6738, 50 iterations in 2.4802 sec\n",
      "Iteration  250, KL divergence 5.6622, 50 iterations in 2.4746 sec\n",
      "   --> Time elapsed: 12.46 seconds\n",
      "===> Running optimization with exaggeration=1.00, lr=70000.00 for 500 iterations...\n",
      "Iteration   50, KL divergence 3.5593, 50 iterations in 2.5623 sec\n",
      "Iteration  100, KL divergence 3.2893, 50 iterations in 3.1813 sec\n",
      "Iteration  150, KL divergence 3.1519, 50 iterations in 4.0093 sec\n",
      "Iteration  200, KL divergence 3.0621, 50 iterations in 4.7590 sec\n",
      "Iteration  250, KL divergence 2.9973, 50 iterations in 5.5091 sec\n",
      "Iteration  300, KL divergence 2.9470, 50 iterations in 6.3190 sec\n",
      "Iteration  350, KL divergence 2.9069, 50 iterations in 7.0025 sec\n",
      "Iteration  400, KL divergence 2.8734, 50 iterations in 8.0956 sec\n",
      "Iteration  450, KL divergence 2.8448, 50 iterations in 9.0799 sec\n",
      "Iteration  500, KL divergence 2.8203, 50 iterations in 9.5486 sec\n",
      "   --> Time elapsed: 60.07 seconds\n",
      "mnist seed: 3 scaled: False\n",
      "PCA2\n",
      "PCA50\n",
      "UMAP\n",
      "UMAP(random_state=3, verbose=True)\n",
      "Tue Mar 26 12:42:55 2024 Construct fuzzy simplicial set\n",
      "Tue Mar 26 12:42:55 2024 Finding Nearest Neighbors\n",
      "Tue Mar 26 12:42:55 2024 Building RP forest with 18 trees\n",
      "Tue Mar 26 12:42:55 2024 NN descent for 16 iterations\n"
     ]
    },
    {
     "name": "stderr",
     "output_type": "stream",
     "text": [
      "/home/jan/anaconda3/envs/elephant_analysis_env/lib/python3.11/site-packages/umap/umap_.py:1943: UserWarning: n_jobs value -1 overridden to 1 by setting random_state. Use no seed for parallelism.\n",
      "  warn(f\"n_jobs value {self.n_jobs} overridden to 1 by setting random_state. Use no seed for parallelism.\")\n"
     ]
    },
    {
     "name": "stdout",
     "output_type": "stream",
     "text": [
      "\t 1  /  16\n",
      "\t 2  /  16\n",
      "\t 3  /  16\n",
      "\t 4  /  16\n",
      "\tStopping threshold met -- exiting after 4 iterations\n",
      "Tue Mar 26 12:42:57 2024 Finished Nearest Neighbor Search\n",
      "Tue Mar 26 12:42:57 2024 Construct embedding\n"
     ]
    },
    {
     "name": "stderr",
     "output_type": "stream",
     "text": [
      "Epochs completed:   3%| █▎                                         6/200 [00:00]"
     ]
    },
    {
     "name": "stdout",
     "output_type": "stream",
     "text": [
      "\tcompleted  0  /  200 epochs\n"
     ]
    },
    {
     "name": "stderr",
     "output_type": "stream",
     "text": [
      "Epochs completed:  12%| ████▋                                     23/200 [00:02]"
     ]
    },
    {
     "name": "stdout",
     "output_type": "stream",
     "text": [
      "\tcompleted  20  /  200 epochs\n"
     ]
    },
    {
     "name": "stderr",
     "output_type": "stream",
     "text": [
      "Epochs completed:  21%| ████████▌                                 42/200 [00:04]"
     ]
    },
    {
     "name": "stdout",
     "output_type": "stream",
     "text": [
      "\tcompleted  40  /  200 epochs\n"
     ]
    },
    {
     "name": "stderr",
     "output_type": "stream",
     "text": [
      "Epochs completed:  31%| ████████████▋                             62/200 [00:06]"
     ]
    },
    {
     "name": "stdout",
     "output_type": "stream",
     "text": [
      "\tcompleted  60  /  200 epochs\n"
     ]
    },
    {
     "name": "stderr",
     "output_type": "stream",
     "text": [
      "Epochs completed:  42%| █████████████████                         83/200 [00:09]"
     ]
    },
    {
     "name": "stdout",
     "output_type": "stream",
     "text": [
      "\tcompleted  80  /  200 epochs\n"
     ]
    },
    {
     "name": "stderr",
     "output_type": "stream",
     "text": [
      "Epochs completed:  52%| ████████████████████▌                    103/200 [00:11]"
     ]
    },
    {
     "name": "stdout",
     "output_type": "stream",
     "text": [
      "\tcompleted  100  /  200 epochs\n"
     ]
    },
    {
     "name": "stderr",
     "output_type": "stream",
     "text": [
      "Epochs completed:  62%| ████████████████████████▌                123/200 [00:13]"
     ]
    },
    {
     "name": "stdout",
     "output_type": "stream",
     "text": [
      "\tcompleted  120  /  200 epochs\n"
     ]
    },
    {
     "name": "stderr",
     "output_type": "stream",
     "text": [
      "Epochs completed:  71%| ████████████████████████████▍            142/200 [00:15]"
     ]
    },
    {
     "name": "stdout",
     "output_type": "stream",
     "text": [
      "\tcompleted  140  /  200 epochs\n"
     ]
    },
    {
     "name": "stderr",
     "output_type": "stream",
     "text": [
      "Epochs completed:  82%| ████████████████████████████████▌        163/200 [00:17]"
     ]
    },
    {
     "name": "stdout",
     "output_type": "stream",
     "text": [
      "\tcompleted  160  /  200 epochs\n"
     ]
    },
    {
     "name": "stderr",
     "output_type": "stream",
     "text": [
      "Epochs completed:  91%| ████████████████████████████████████▍    182/200 [00:19]"
     ]
    },
    {
     "name": "stdout",
     "output_type": "stream",
     "text": [
      "\tcompleted  180  /  200 epochs\n"
     ]
    },
    {
     "name": "stderr",
     "output_type": "stream",
     "text": [
      "Epochs completed: 100%| ████████████████████████████████████████ 200/200 [00:21]\n"
     ]
    },
    {
     "name": "stdout",
     "output_type": "stream",
     "text": [
      "Tue Mar 26 12:43:24 2024 Finished embedding\n",
      "TSNE\n",
      "--------------------------------------------------------------------------------\n",
      "TSNE(early_exaggeration=12, random_state=3, verbose=True)\n",
      "--------------------------------------------------------------------------------\n",
      "===> Finding 90 nearest neighbors using Annoy approximate search using euclidean distance...\n",
      "   --> Time elapsed: 26.11 seconds\n",
      "===> Calculating affinity matrix...\n",
      "   --> Time elapsed: 1.59 seconds\n",
      "===> Calculating PCA-based initialization...\n",
      "   --> Time elapsed: 0.15 seconds\n",
      "===> Running optimization with exaggeration=12.00, lr=5833.33 for 250 iterations...\n",
      "Iteration   50, KL divergence 5.9799, 50 iterations in 2.5413 sec\n",
      "Iteration  100, KL divergence 5.7620, 50 iterations in 2.5139 sec\n",
      "Iteration  150, KL divergence 5.6967, 50 iterations in 2.5016 sec\n",
      "Iteration  200, KL divergence 5.6730, 50 iterations in 2.4890 sec\n",
      "Iteration  250, KL divergence 5.6613, 50 iterations in 2.4879 sec\n",
      "   --> Time elapsed: 12.53 seconds\n",
      "===> Running optimization with exaggeration=1.00, lr=70000.00 for 500 iterations...\n",
      "Iteration   50, KL divergence 3.5599, 50 iterations in 2.5681 sec\n",
      "Iteration  100, KL divergence 3.2902, 50 iterations in 3.1981 sec\n",
      "Iteration  150, KL divergence 3.1525, 50 iterations in 4.0747 sec\n",
      "Iteration  200, KL divergence 3.0631, 50 iterations in 4.8126 sec\n",
      "Iteration  250, KL divergence 2.9983, 50 iterations in 5.5845 sec\n",
      "Iteration  300, KL divergence 2.9486, 50 iterations in 6.2858 sec\n",
      "Iteration  350, KL divergence 2.9084, 50 iterations in 7.1592 sec\n",
      "Iteration  400, KL divergence 2.8743, 50 iterations in 8.0104 sec\n",
      "Iteration  450, KL divergence 2.8459, 50 iterations in 9.0620 sec\n",
      "Iteration  500, KL divergence 2.8217, 50 iterations in 9.7084 sec\n",
      "   --> Time elapsed: 60.46 seconds\n",
      "mnist seed: 4 scaled: False\n",
      "PCA2\n",
      "PCA50\n",
      "UMAP\n",
      "UMAP(random_state=4, verbose=True)\n",
      "Tue Mar 26 12:45:10 2024 Construct fuzzy simplicial set\n",
      "Tue Mar 26 12:45:10 2024 Finding Nearest Neighbors\n",
      "Tue Mar 26 12:45:10 2024 Building RP forest with 18 trees\n"
     ]
    },
    {
     "name": "stderr",
     "output_type": "stream",
     "text": [
      "/home/jan/anaconda3/envs/elephant_analysis_env/lib/python3.11/site-packages/umap/umap_.py:1943: UserWarning: n_jobs value -1 overridden to 1 by setting random_state. Use no seed for parallelism.\n",
      "  warn(f\"n_jobs value {self.n_jobs} overridden to 1 by setting random_state. Use no seed for parallelism.\")\n"
     ]
    },
    {
     "name": "stdout",
     "output_type": "stream",
     "text": [
      "Tue Mar 26 12:45:10 2024 NN descent for 16 iterations\n",
      "\t 1  /  16\n",
      "\t 2  /  16\n",
      "\t 3  /  16\n",
      "\t 4  /  16\n",
      "\tStopping threshold met -- exiting after 4 iterations\n",
      "Tue Mar 26 12:45:12 2024 Finished Nearest Neighbor Search\n",
      "Tue Mar 26 12:45:12 2024 Construct embedding\n"
     ]
    },
    {
     "name": "stderr",
     "output_type": "stream",
     "text": [
      "Epochs completed:   2%| ▊                                          4/200 [00:00]"
     ]
    },
    {
     "name": "stdout",
     "output_type": "stream",
     "text": [
      "\tcompleted  0  /  200 epochs\n"
     ]
    },
    {
     "name": "stderr",
     "output_type": "stream",
     "text": [
      "Epochs completed:  12%| ████▋                                     23/200 [00:02]"
     ]
    },
    {
     "name": "stdout",
     "output_type": "stream",
     "text": [
      "\tcompleted  20  /  200 epochs\n"
     ]
    },
    {
     "name": "stderr",
     "output_type": "stream",
     "text": [
      "Epochs completed:  22%| ████████▊                                 43/200 [00:04]"
     ]
    },
    {
     "name": "stdout",
     "output_type": "stream",
     "text": [
      "\tcompleted  40  /  200 epochs\n"
     ]
    },
    {
     "name": "stderr",
     "output_type": "stream",
     "text": [
      "Epochs completed:  31%| ████████████▋                             62/200 [00:06]"
     ]
    },
    {
     "name": "stdout",
     "output_type": "stream",
     "text": [
      "\tcompleted  60  /  200 epochs\n"
     ]
    },
    {
     "name": "stderr",
     "output_type": "stream",
     "text": [
      "Epochs completed:  41%| ████████████████▊                         82/200 [00:08]"
     ]
    },
    {
     "name": "stdout",
     "output_type": "stream",
     "text": [
      "\tcompleted  80  /  200 epochs\n"
     ]
    },
    {
     "name": "stderr",
     "output_type": "stream",
     "text": [
      "Epochs completed:  51%| ████████████████████▍                    102/200 [00:11]"
     ]
    },
    {
     "name": "stdout",
     "output_type": "stream",
     "text": [
      "\tcompleted  100  /  200 epochs\n"
     ]
    },
    {
     "name": "stderr",
     "output_type": "stream",
     "text": [
      "Epochs completed:  61%| ████████████████████████▍                122/200 [00:13]"
     ]
    },
    {
     "name": "stdout",
     "output_type": "stream",
     "text": [
      "\tcompleted  120  /  200 epochs\n"
     ]
    },
    {
     "name": "stderr",
     "output_type": "stream",
     "text": [
      "Epochs completed:  72%| ████████████████████████████▌            143/200 [00:15]"
     ]
    },
    {
     "name": "stdout",
     "output_type": "stream",
     "text": [
      "\tcompleted  140  /  200 epochs\n"
     ]
    },
    {
     "name": "stderr",
     "output_type": "stream",
     "text": [
      "Epochs completed:  82%| ████████████████████████████████▌        163/200 [00:17]"
     ]
    },
    {
     "name": "stdout",
     "output_type": "stream",
     "text": [
      "\tcompleted  160  /  200 epochs\n"
     ]
    },
    {
     "name": "stderr",
     "output_type": "stream",
     "text": [
      "Epochs completed:  91%| ████████████████████████████████████▍    182/200 [00:19]"
     ]
    },
    {
     "name": "stdout",
     "output_type": "stream",
     "text": [
      "\tcompleted  180  /  200 epochs\n"
     ]
    },
    {
     "name": "stderr",
     "output_type": "stream",
     "text": [
      "Epochs completed: 100%| ████████████████████████████████████████ 200/200 [00:21]\n"
     ]
    },
    {
     "name": "stdout",
     "output_type": "stream",
     "text": [
      "Tue Mar 26 12:45:39 2024 Finished embedding\n",
      "TSNE\n",
      "--------------------------------------------------------------------------------\n",
      "TSNE(early_exaggeration=12, random_state=4, verbose=True)\n",
      "--------------------------------------------------------------------------------\n",
      "===> Finding 90 nearest neighbors using Annoy approximate search using euclidean distance...\n",
      "   --> Time elapsed: 25.68 seconds\n",
      "===> Calculating affinity matrix...\n",
      "   --> Time elapsed: 1.60 seconds\n",
      "===> Calculating PCA-based initialization...\n",
      "   --> Time elapsed: 0.15 seconds\n",
      "===> Running optimization with exaggeration=12.00, lr=5833.33 for 250 iterations...\n",
      "Iteration   50, KL divergence 5.9799, 50 iterations in 2.5361 sec\n",
      "Iteration  100, KL divergence 5.7626, 50 iterations in 2.5003 sec\n",
      "Iteration  150, KL divergence 5.6972, 50 iterations in 2.4919 sec\n",
      "Iteration  200, KL divergence 5.6734, 50 iterations in 2.4886 sec\n",
      "Iteration  250, KL divergence 5.6619, 50 iterations in 2.4859 sec\n",
      "   --> Time elapsed: 12.50 seconds\n",
      "===> Running optimization with exaggeration=1.00, lr=70000.00 for 500 iterations...\n",
      "Iteration   50, KL divergence 3.5592, 50 iterations in 2.5698 sec\n",
      "Iteration  100, KL divergence 3.2902, 50 iterations in 3.2096 sec\n",
      "Iteration  150, KL divergence 3.1530, 50 iterations in 4.0743 sec\n",
      "Iteration  200, KL divergence 3.0635, 50 iterations in 4.8145 sec\n",
      "Iteration  250, KL divergence 2.9984, 50 iterations in 5.5951 sec\n",
      "Iteration  300, KL divergence 2.9484, 50 iterations in 6.2791 sec\n",
      "Iteration  350, KL divergence 2.9082, 50 iterations in 7.1900 sec\n",
      "Iteration  400, KL divergence 2.8745, 50 iterations in 8.2439 sec\n",
      "Iteration  450, KL divergence 2.8461, 50 iterations in 9.2404 sec\n",
      "Iteration  500, KL divergence 2.8218, 50 iterations in 9.7021 sec\n",
      "   --> Time elapsed: 60.92 seconds\n",
      "running only on unscaled data for exut-sim-theta-10-real-seqdepths\n",
      "exut-sim-theta-10-real-seqdepths seed: 0 scaled: False\n",
      "PCA2\n",
      "PCA50\n",
      "UMAP\n",
      "UMAP(random_state=0, verbose=True)\n",
      "Tue Mar 26 12:47:23 2024 Construct fuzzy simplicial set\n",
      "Tue Mar 26 12:47:23 2024 Finding Nearest Neighbors\n",
      "Tue Mar 26 12:47:23 2024 Building RP forest with 9 trees\n",
      "Tue Mar 26 12:47:23 2024 NN descent for 13 iterations\n",
      "\t 1  /  13\n",
      "\t 2  /  13\n"
     ]
    },
    {
     "name": "stderr",
     "output_type": "stream",
     "text": [
      "/home/jan/anaconda3/envs/elephant_analysis_env/lib/python3.11/site-packages/umap/umap_.py:1943: UserWarning: n_jobs value -1 overridden to 1 by setting random_state. Use no seed for parallelism.\n",
      "  warn(f\"n_jobs value {self.n_jobs} overridden to 1 by setting random_state. Use no seed for parallelism.\")\n"
     ]
    },
    {
     "name": "stdout",
     "output_type": "stream",
     "text": [
      "\t 3  /  13\n",
      "\t 4  /  13\n",
      "\tStopping threshold met -- exiting after 4 iterations\n",
      "Tue Mar 26 12:47:23 2024 Finished Nearest Neighbor Search\n",
      "Tue Mar 26 12:47:23 2024 Construct embedding\n"
     ]
    },
    {
     "name": "stderr",
     "output_type": "stream",
     "text": [
      "Epochs completed:   3%| █                                         13/500 [00:00]"
     ]
    },
    {
     "name": "stdout",
     "output_type": "stream",
     "text": [
      "\tcompleted  0  /  500 epochs\n"
     ]
    },
    {
     "name": "stderr",
     "output_type": "stream",
     "text": [
      "Epochs completed:  13%| █████▏                                    63/500 [00:00]"
     ]
    },
    {
     "name": "stdout",
     "output_type": "stream",
     "text": [
      "\tcompleted  50  /  500 epochs\n"
     ]
    },
    {
     "name": "stderr",
     "output_type": "stream",
     "text": [
      "Epochs completed:  23%| █████████                                113/500 [00:01]"
     ]
    },
    {
     "name": "stdout",
     "output_type": "stream",
     "text": [
      "\tcompleted  100  /  500 epochs\n"
     ]
    },
    {
     "name": "stderr",
     "output_type": "stream",
     "text": [
      "Epochs completed:  33%| █████████████                            163/500 [00:02]"
     ]
    },
    {
     "name": "stdout",
     "output_type": "stream",
     "text": [
      "\tcompleted  150  /  500 epochs\n"
     ]
    },
    {
     "name": "stderr",
     "output_type": "stream",
     "text": [
      "Epochs completed:  43%| █████████████████                        213/500 [00:02]"
     ]
    },
    {
     "name": "stdout",
     "output_type": "stream",
     "text": [
      "\tcompleted  200  /  500 epochs\n"
     ]
    },
    {
     "name": "stderr",
     "output_type": "stream",
     "text": [
      "Epochs completed:  53%| █████████████████████                    263/500 [00:03]"
     ]
    },
    {
     "name": "stdout",
     "output_type": "stream",
     "text": [
      "\tcompleted  250  /  500 epochs\n"
     ]
    },
    {
     "name": "stderr",
     "output_type": "stream",
     "text": [
      "Epochs completed:  63%| █████████████████████████                313/500 [00:03]"
     ]
    },
    {
     "name": "stdout",
     "output_type": "stream",
     "text": [
      "\tcompleted  300  /  500 epochs\n"
     ]
    },
    {
     "name": "stderr",
     "output_type": "stream",
     "text": [
      "Epochs completed:  73%| █████████████████████████████            363/500 [00:04]"
     ]
    },
    {
     "name": "stdout",
     "output_type": "stream",
     "text": [
      "\tcompleted  350  /  500 epochs\n"
     ]
    },
    {
     "name": "stderr",
     "output_type": "stream",
     "text": [
      "Epochs completed:  83%| █████████████████████████████████        413/500 [00:04]"
     ]
    },
    {
     "name": "stdout",
     "output_type": "stream",
     "text": [
      "\tcompleted  400  /  500 epochs\n"
     ]
    },
    {
     "name": "stderr",
     "output_type": "stream",
     "text": [
      "Epochs completed:  93%| █████████████████████████████████████    463/500 [00:05]"
     ]
    },
    {
     "name": "stdout",
     "output_type": "stream",
     "text": [
      "\tcompleted  450  /  500 epochs\n"
     ]
    },
    {
     "name": "stderr",
     "output_type": "stream",
     "text": [
      "Epochs completed: 100%| ████████████████████████████████████████ 500/500 [00:05]\n"
     ]
    },
    {
     "name": "stdout",
     "output_type": "stream",
     "text": [
      "Tue Mar 26 12:47:29 2024 Finished embedding\n",
      "TSNE\n",
      "--------------------------------------------------------------------------------\n",
      "TSNE(early_exaggeration=12, random_state=0, verbose=True)\n",
      "--------------------------------------------------------------------------------\n",
      "===> Finding 90 nearest neighbors using Annoy approximate search using euclidean distance...\n",
      "   --> Time elapsed: 1.38 seconds\n",
      "===> Calculating affinity matrix...\n",
      "   --> Time elapsed: 0.08 seconds\n",
      "===> Calculating PCA-based initialization...\n",
      "   --> Time elapsed: 0.01 seconds\n",
      "===> Running optimization with exaggeration=12.00, lr=517.08 for 250 iterations...\n",
      "Iteration   50, KL divergence 3.1740, 50 iterations in 5.0982 sec\n",
      "Iteration  100, KL divergence 3.0112, 50 iterations in 4.6715 sec\n",
      "Iteration  150, KL divergence 2.9420, 50 iterations in 4.6288 sec\n",
      "Iteration  200, KL divergence 2.9174, 50 iterations in 4.6287 sec\n",
      "Iteration  250, KL divergence 2.8981, 50 iterations in 4.6191 sec\n",
      "   --> Time elapsed: 23.65 seconds\n",
      "===> Running optimization with exaggeration=1.00, lr=6205.00 for 500 iterations...\n",
      "Iteration   50, KL divergence 2.0821, 50 iterations in 4.3419 sec\n",
      "Iteration  100, KL divergence 1.9789, 50 iterations in 4.1698 sec\n",
      "Iteration  150, KL divergence 1.9385, 50 iterations in 4.1663 sec\n",
      "Iteration  200, KL divergence 1.9156, 50 iterations in 4.2227 sec\n",
      "Iteration  250, KL divergence 1.9010, 50 iterations in 4.2515 sec\n",
      "Iteration  300, KL divergence 1.8902, 50 iterations in 4.2340 sec\n",
      "Iteration  350, KL divergence 1.8824, 50 iterations in 4.2164 sec\n",
      "Iteration  400, KL divergence 1.8765, 50 iterations in 4.1605 sec\n",
      "Iteration  450, KL divergence 1.8717, 50 iterations in 4.1678 sec\n",
      "Iteration  500, KL divergence 1.8677, 50 iterations in 4.1845 sec\n",
      "   --> Time elapsed: 42.12 seconds\n",
      "exut-sim-theta-10-real-seqdepths seed: 1 scaled: False\n",
      "PCA2\n",
      "PCA50\n",
      "UMAP\n",
      "UMAP(random_state=1, verbose=True)\n",
      "Tue Mar 26 12:48:36 2024 Construct fuzzy simplicial set\n",
      "Tue Mar 26 12:48:36 2024 Finding Nearest Neighbors\n",
      "Tue Mar 26 12:48:36 2024 Building RP forest with 9 trees\n",
      "Tue Mar 26 12:48:37 2024 NN descent for 13 iterations\n",
      "\t 1  /  13\n",
      "\t 2  /  13\n",
      "\t 3  /  13\n",
      "\t 4  /  13\n",
      "\tStopping threshold met -- exiting after 4 iterations\n",
      "Tue Mar 26 12:48:37 2024 Finished Nearest Neighbor Search\n"
     ]
    },
    {
     "name": "stderr",
     "output_type": "stream",
     "text": [
      "/home/jan/anaconda3/envs/elephant_analysis_env/lib/python3.11/site-packages/umap/umap_.py:1943: UserWarning: n_jobs value -1 overridden to 1 by setting random_state. Use no seed for parallelism.\n",
      "  warn(f\"n_jobs value {self.n_jobs} overridden to 1 by setting random_state. Use no seed for parallelism.\")\n"
     ]
    },
    {
     "name": "stdout",
     "output_type": "stream",
     "text": [
      "Tue Mar 26 12:48:37 2024 Construct embedding\n"
     ]
    },
    {
     "name": "stderr",
     "output_type": "stream",
     "text": [
      "Epochs completed:   3%| █                                         13/500 [00:00]"
     ]
    },
    {
     "name": "stdout",
     "output_type": "stream",
     "text": [
      "\tcompleted  0  /  500 epochs\n"
     ]
    },
    {
     "name": "stderr",
     "output_type": "stream",
     "text": [
      "Epochs completed:  13%| █████▏                                    63/500 [00:01]"
     ]
    },
    {
     "name": "stdout",
     "output_type": "stream",
     "text": [
      "\tcompleted  50  /  500 epochs\n"
     ]
    },
    {
     "name": "stderr",
     "output_type": "stream",
     "text": [
      "Epochs completed:  23%| █████████                                113/500 [00:01]"
     ]
    },
    {
     "name": "stdout",
     "output_type": "stream",
     "text": [
      "\tcompleted  100  /  500 epochs\n"
     ]
    },
    {
     "name": "stderr",
     "output_type": "stream",
     "text": [
      "Epochs completed:  33%| █████████████                            163/500 [00:02]"
     ]
    },
    {
     "name": "stdout",
     "output_type": "stream",
     "text": [
      "\tcompleted  150  /  500 epochs\n"
     ]
    },
    {
     "name": "stderr",
     "output_type": "stream",
     "text": [
      "Epochs completed:  43%| █████████████████                        213/500 [00:02]"
     ]
    },
    {
     "name": "stdout",
     "output_type": "stream",
     "text": [
      "\tcompleted  200  /  500 epochs\n"
     ]
    },
    {
     "name": "stderr",
     "output_type": "stream",
     "text": [
      "Epochs completed:  53%| █████████████████████                    263/500 [00:03]"
     ]
    },
    {
     "name": "stdout",
     "output_type": "stream",
     "text": [
      "\tcompleted  250  /  500 epochs\n"
     ]
    },
    {
     "name": "stderr",
     "output_type": "stream",
     "text": [
      "Epochs completed:  63%| █████████████████████████                313/500 [00:03]"
     ]
    },
    {
     "name": "stdout",
     "output_type": "stream",
     "text": [
      "\tcompleted  300  /  500 epochs\n"
     ]
    },
    {
     "name": "stderr",
     "output_type": "stream",
     "text": [
      "Epochs completed:  73%| █████████████████████████████            363/500 [00:04]"
     ]
    },
    {
     "name": "stdout",
     "output_type": "stream",
     "text": [
      "\tcompleted  350  /  500 epochs\n"
     ]
    },
    {
     "name": "stderr",
     "output_type": "stream",
     "text": [
      "Epochs completed:  83%| █████████████████████████████████        413/500 [00:04]"
     ]
    },
    {
     "name": "stdout",
     "output_type": "stream",
     "text": [
      "\tcompleted  400  /  500 epochs\n"
     ]
    },
    {
     "name": "stderr",
     "output_type": "stream",
     "text": [
      "Epochs completed:  93%| █████████████████████████████████████    463/500 [00:05]"
     ]
    },
    {
     "name": "stdout",
     "output_type": "stream",
     "text": [
      "\tcompleted  450  /  500 epochs\n"
     ]
    },
    {
     "name": "stderr",
     "output_type": "stream",
     "text": [
      "Epochs completed: 100%| ████████████████████████████████████████ 500/500 [00:05]\n"
     ]
    },
    {
     "name": "stdout",
     "output_type": "stream",
     "text": [
      "Tue Mar 26 12:48:43 2024 Finished embedding\n",
      "TSNE\n",
      "--------------------------------------------------------------------------------\n",
      "TSNE(early_exaggeration=12, random_state=1, verbose=True)\n",
      "--------------------------------------------------------------------------------\n",
      "===> Finding 90 nearest neighbors using Annoy approximate search using euclidean distance...\n",
      "   --> Time elapsed: 1.39 seconds\n",
      "===> Calculating affinity matrix...\n",
      "   --> Time elapsed: 0.08 seconds\n",
      "===> Calculating PCA-based initialization...\n",
      "   --> Time elapsed: 0.01 seconds\n",
      "===> Running optimization with exaggeration=12.00, lr=517.08 for 250 iterations...\n",
      "Iteration   50, KL divergence 3.1607, 50 iterations in 5.1960 sec\n",
      "Iteration  100, KL divergence 3.0007, 50 iterations in 4.8769 sec\n",
      "Iteration  150, KL divergence 2.9347, 50 iterations in 4.7589 sec\n",
      "Iteration  200, KL divergence 2.9025, 50 iterations in 4.7267 sec\n",
      "Iteration  250, KL divergence 2.8841, 50 iterations in 4.7277 sec\n",
      "   --> Time elapsed: 24.29 seconds\n",
      "===> Running optimization with exaggeration=1.00, lr=6205.00 for 500 iterations...\n",
      "Iteration   50, KL divergence 2.0837, 50 iterations in 4.3996 sec\n",
      "Iteration  100, KL divergence 1.9810, 50 iterations in 4.2198 sec\n",
      "Iteration  150, KL divergence 1.9413, 50 iterations in 4.2082 sec\n",
      "Iteration  200, KL divergence 1.9193, 50 iterations in 4.2043 sec\n",
      "Iteration  250, KL divergence 1.9050, 50 iterations in 4.1711 sec\n",
      "Iteration  300, KL divergence 1.8945, 50 iterations in 4.1711 sec\n",
      "Iteration  350, KL divergence 1.8867, 50 iterations in 4.1703 sec\n",
      "Iteration  400, KL divergence 1.8807, 50 iterations in 4.1666 sec\n",
      "Iteration  450, KL divergence 1.8759, 50 iterations in 4.1590 sec\n",
      "Iteration  500, KL divergence 1.8721, 50 iterations in 4.1452 sec\n",
      "   --> Time elapsed: 42.02 seconds\n",
      "exut-sim-theta-10-real-seqdepths seed: 2 scaled: False\n",
      "PCA2\n",
      "PCA50\n",
      "UMAP\n",
      "UMAP(random_state=2, verbose=True)\n",
      "Tue Mar 26 12:49:51 2024 Construct fuzzy simplicial set\n",
      "Tue Mar 26 12:49:51 2024 Finding Nearest Neighbors\n",
      "Tue Mar 26 12:49:51 2024 Building RP forest with 9 trees\n",
      "Tue Mar 26 12:49:51 2024 NN descent for 13 iterations\n",
      "\t 1  /  13\n",
      "\t 2  /  13\n",
      "\t 3  /  13\n",
      "\t 4  /  13\n",
      "\tStopping threshold met -- exiting after 4 iterations\n",
      "Tue Mar 26 12:49:51 2024 Finished Nearest Neighbor Search\n"
     ]
    },
    {
     "name": "stderr",
     "output_type": "stream",
     "text": [
      "/home/jan/anaconda3/envs/elephant_analysis_env/lib/python3.11/site-packages/umap/umap_.py:1943: UserWarning: n_jobs value -1 overridden to 1 by setting random_state. Use no seed for parallelism.\n",
      "  warn(f\"n_jobs value {self.n_jobs} overridden to 1 by setting random_state. Use no seed for parallelism.\")\n"
     ]
    },
    {
     "name": "stdout",
     "output_type": "stream",
     "text": [
      "Tue Mar 26 12:49:51 2024 Construct embedding\n"
     ]
    },
    {
     "name": "stderr",
     "output_type": "stream",
     "text": [
      "Epochs completed:   3%| █▏                                        14/500 [00:00]"
     ]
    },
    {
     "name": "stdout",
     "output_type": "stream",
     "text": [
      "\tcompleted  0  /  500 epochs\n"
     ]
    },
    {
     "name": "stderr",
     "output_type": "stream",
     "text": [
      "Epochs completed:  14%| █████▋                                    69/500 [00:00]"
     ]
    },
    {
     "name": "stdout",
     "output_type": "stream",
     "text": [
      "\tcompleted  50  /  500 epochs\n"
     ]
    },
    {
     "name": "stderr",
     "output_type": "stream",
     "text": [
      "Epochs completed:  23%| █████████                                113/500 [00:01]"
     ]
    },
    {
     "name": "stdout",
     "output_type": "stream",
     "text": [
      "\tcompleted  100  /  500 epochs\n"
     ]
    },
    {
     "name": "stderr",
     "output_type": "stream",
     "text": [
      "Epochs completed:  34%| █████████████▍                           168/500 [00:01]"
     ]
    },
    {
     "name": "stdout",
     "output_type": "stream",
     "text": [
      "\tcompleted  150  /  500 epochs\n"
     ]
    },
    {
     "name": "stderr",
     "output_type": "stream",
     "text": [
      "Epochs completed:  42%| ████████████████▉                        212/500 [00:02]"
     ]
    },
    {
     "name": "stdout",
     "output_type": "stream",
     "text": [
      "\tcompleted  200  /  500 epochs\n"
     ]
    },
    {
     "name": "stderr",
     "output_type": "stream",
     "text": [
      "Epochs completed:  53%| █████████████████████▎                   267/500 [00:02]"
     ]
    },
    {
     "name": "stdout",
     "output_type": "stream",
     "text": [
      "\tcompleted  250  /  500 epochs\n"
     ]
    },
    {
     "name": "stderr",
     "output_type": "stream",
     "text": [
      "Epochs completed:  64%| █████████████████████████▊               322/500 [00:03]"
     ]
    },
    {
     "name": "stdout",
     "output_type": "stream",
     "text": [
      "\tcompleted  300  /  500 epochs\n"
     ]
    },
    {
     "name": "stderr",
     "output_type": "stream",
     "text": [
      "Epochs completed:  73%| █████████████████████████████▎           366/500 [00:03]"
     ]
    },
    {
     "name": "stdout",
     "output_type": "stream",
     "text": [
      "\tcompleted  350  /  500 epochs\n"
     ]
    },
    {
     "name": "stderr",
     "output_type": "stream",
     "text": [
      "Epochs completed:  84%| █████████████████████████████████▋       421/500 [00:04]"
     ]
    },
    {
     "name": "stdout",
     "output_type": "stream",
     "text": [
      "\tcompleted  400  /  500 epochs\n"
     ]
    },
    {
     "name": "stderr",
     "output_type": "stream",
     "text": [
      "Epochs completed:  93%| █████████████████████████████████████▏   465/500 [00:04]"
     ]
    },
    {
     "name": "stdout",
     "output_type": "stream",
     "text": [
      "\tcompleted  450  /  500 epochs\n"
     ]
    },
    {
     "name": "stderr",
     "output_type": "stream",
     "text": [
      "Epochs completed: 100%| ████████████████████████████████████████ 500/500 [00:05]\n"
     ]
    },
    {
     "name": "stdout",
     "output_type": "stream",
     "text": [
      "Tue Mar 26 12:49:56 2024 Finished embedding\n",
      "TSNE\n",
      "--------------------------------------------------------------------------------\n",
      "TSNE(early_exaggeration=12, random_state=2, verbose=True)\n",
      "--------------------------------------------------------------------------------\n",
      "===> Finding 90 nearest neighbors using Annoy approximate search using euclidean distance...\n",
      "   --> Time elapsed: 1.37 seconds\n",
      "===> Calculating affinity matrix...\n",
      "   --> Time elapsed: 0.08 seconds\n",
      "===> Calculating PCA-based initialization...\n",
      "   --> Time elapsed: 0.01 seconds\n",
      "===> Running optimization with exaggeration=12.00, lr=517.08 for 250 iterations...\n",
      "Iteration   50, KL divergence 3.1632, 50 iterations in 5.0935 sec\n",
      "Iteration  100, KL divergence 3.0003, 50 iterations in 4.6299 sec\n",
      "Iteration  150, KL divergence 2.9355, 50 iterations in 4.5974 sec\n",
      "Iteration  200, KL divergence 2.9060, 50 iterations in 4.5735 sec\n",
      "Iteration  250, KL divergence 2.8880, 50 iterations in 4.5775 sec\n",
      "   --> Time elapsed: 23.47 seconds\n",
      "===> Running optimization with exaggeration=1.00, lr=6205.00 for 500 iterations...\n",
      "Iteration   50, KL divergence 2.0795, 50 iterations in 4.3278 sec\n",
      "Iteration  100, KL divergence 1.9795, 50 iterations in 4.1920 sec\n",
      "Iteration  150, KL divergence 1.9395, 50 iterations in 4.1735 sec\n",
      "Iteration  200, KL divergence 1.9176, 50 iterations in 4.1897 sec\n",
      "Iteration  250, KL divergence 1.9037, 50 iterations in 4.2108 sec\n",
      "Iteration  300, KL divergence 1.8938, 50 iterations in 4.1859 sec\n",
      "Iteration  350, KL divergence 1.8859, 50 iterations in 4.1835 sec\n",
      "Iteration  400, KL divergence 1.8798, 50 iterations in 4.1578 sec\n",
      "Iteration  450, KL divergence 1.8746, 50 iterations in 4.1205 sec\n",
      "Iteration  500, KL divergence 1.8703, 50 iterations in 4.1063 sec\n",
      "   --> Time elapsed: 41.85 seconds\n",
      "exut-sim-theta-10-real-seqdepths seed: 3 scaled: False\n",
      "PCA2\n",
      "PCA50\n",
      "UMAP\n",
      "UMAP(random_state=3, verbose=True)\n",
      "Tue Mar 26 12:51:04 2024 Construct fuzzy simplicial set\n",
      "Tue Mar 26 12:51:04 2024 Finding Nearest Neighbors\n",
      "Tue Mar 26 12:51:04 2024 Building RP forest with 9 trees\n"
     ]
    },
    {
     "name": "stderr",
     "output_type": "stream",
     "text": [
      "/home/jan/anaconda3/envs/elephant_analysis_env/lib/python3.11/site-packages/umap/umap_.py:1943: UserWarning: n_jobs value -1 overridden to 1 by setting random_state. Use no seed for parallelism.\n",
      "  warn(f\"n_jobs value {self.n_jobs} overridden to 1 by setting random_state. Use no seed for parallelism.\")\n"
     ]
    },
    {
     "name": "stdout",
     "output_type": "stream",
     "text": [
      "Tue Mar 26 12:51:04 2024 NN descent for 13 iterations\n",
      "\t 1  /  13\n",
      "\t 2  /  13\n",
      "\t 3  /  13\n",
      "\t 4  /  13\n",
      "\tStopping threshold met -- exiting after 4 iterations\n",
      "Tue Mar 26 12:51:04 2024 Finished Nearest Neighbor Search\n",
      "Tue Mar 26 12:51:04 2024 Construct embedding\n"
     ]
    },
    {
     "name": "stderr",
     "output_type": "stream",
     "text": [
      "Epochs completed:   3%| █                                         13/500 [00:00]"
     ]
    },
    {
     "name": "stdout",
     "output_type": "stream",
     "text": [
      "\tcompleted  0  /  500 epochs\n"
     ]
    },
    {
     "name": "stderr",
     "output_type": "stream",
     "text": [
      "Epochs completed:  13%| █████▏                                    63/500 [00:00]"
     ]
    },
    {
     "name": "stdout",
     "output_type": "stream",
     "text": [
      "\tcompleted  50  /  500 epochs\n"
     ]
    },
    {
     "name": "stderr",
     "output_type": "stream",
     "text": [
      "Epochs completed:  23%| █████████                                113/500 [00:01]"
     ]
    },
    {
     "name": "stdout",
     "output_type": "stream",
     "text": [
      "\tcompleted  100  /  500 epochs\n"
     ]
    },
    {
     "name": "stderr",
     "output_type": "stream",
     "text": [
      "Epochs completed:  33%| █████████████                            163/500 [00:02]"
     ]
    },
    {
     "name": "stdout",
     "output_type": "stream",
     "text": [
      "\tcompleted  150  /  500 epochs\n"
     ]
    },
    {
     "name": "stderr",
     "output_type": "stream",
     "text": [
      "Epochs completed:  43%| █████████████████                        213/500 [00:02]"
     ]
    },
    {
     "name": "stdout",
     "output_type": "stream",
     "text": [
      "\tcompleted  200  /  500 epochs\n"
     ]
    },
    {
     "name": "stderr",
     "output_type": "stream",
     "text": [
      "Epochs completed:  53%| █████████████████████                    263/500 [00:03]"
     ]
    },
    {
     "name": "stdout",
     "output_type": "stream",
     "text": [
      "\tcompleted  250  /  500 epochs\n"
     ]
    },
    {
     "name": "stderr",
     "output_type": "stream",
     "text": [
      "Epochs completed:  63%| █████████████████████████                313/500 [00:03]"
     ]
    },
    {
     "name": "stdout",
     "output_type": "stream",
     "text": [
      "\tcompleted  300  /  500 epochs\n"
     ]
    },
    {
     "name": "stderr",
     "output_type": "stream",
     "text": [
      "Epochs completed:  73%| █████████████████████████████            363/500 [00:04]"
     ]
    },
    {
     "name": "stdout",
     "output_type": "stream",
     "text": [
      "\tcompleted  350  /  500 epochs\n"
     ]
    },
    {
     "name": "stderr",
     "output_type": "stream",
     "text": [
      "Epochs completed:  83%| █████████████████████████████████        413/500 [00:04]"
     ]
    },
    {
     "name": "stdout",
     "output_type": "stream",
     "text": [
      "\tcompleted  400  /  500 epochs\n"
     ]
    },
    {
     "name": "stderr",
     "output_type": "stream",
     "text": [
      "Epochs completed:  93%| █████████████████████████████████████    463/500 [00:05]"
     ]
    },
    {
     "name": "stdout",
     "output_type": "stream",
     "text": [
      "\tcompleted  450  /  500 epochs\n"
     ]
    },
    {
     "name": "stderr",
     "output_type": "stream",
     "text": [
      "Epochs completed: 100%| ████████████████████████████████████████ 500/500 [00:05]\n"
     ]
    },
    {
     "name": "stdout",
     "output_type": "stream",
     "text": [
      "Tue Mar 26 12:51:10 2024 Finished embedding\n",
      "TSNE\n",
      "--------------------------------------------------------------------------------\n",
      "TSNE(early_exaggeration=12, random_state=3, verbose=True)\n",
      "--------------------------------------------------------------------------------\n",
      "===> Finding 90 nearest neighbors using Annoy approximate search using euclidean distance...\n",
      "   --> Time elapsed: 1.40 seconds\n",
      "===> Calculating affinity matrix...\n",
      "   --> Time elapsed: 0.08 seconds\n",
      "===> Calculating PCA-based initialization...\n",
      "   --> Time elapsed: 0.01 seconds\n",
      "===> Running optimization with exaggeration=12.00, lr=517.08 for 250 iterations...\n",
      "Iteration   50, KL divergence 3.1879, 50 iterations in 5.2548 sec\n",
      "Iteration  100, KL divergence 3.0247, 50 iterations in 4.9585 sec\n",
      "Iteration  150, KL divergence 2.9682, 50 iterations in 4.8411 sec\n",
      "Iteration  200, KL divergence 2.9346, 50 iterations in 4.8366 sec\n",
      "Iteration  250, KL divergence 2.9096, 50 iterations in 4.7984 sec\n",
      "   --> Time elapsed: 24.69 seconds\n",
      "===> Running optimization with exaggeration=1.00, lr=6205.00 for 500 iterations...\n",
      "Iteration   50, KL divergence 2.0908, 50 iterations in 4.3689 sec\n",
      "Iteration  100, KL divergence 1.9859, 50 iterations in 4.2541 sec\n",
      "Iteration  150, KL divergence 1.9448, 50 iterations in 4.2704 sec\n",
      "Iteration  200, KL divergence 1.9215, 50 iterations in 4.2646 sec\n",
      "Iteration  250, KL divergence 1.9064, 50 iterations in 4.2370 sec\n",
      "Iteration  300, KL divergence 1.8957, 50 iterations in 4.2382 sec\n",
      "Iteration  350, KL divergence 1.8876, 50 iterations in 4.2219 sec\n",
      "Iteration  400, KL divergence 1.8815, 50 iterations in 4.2254 sec\n",
      "Iteration  450, KL divergence 1.8764, 50 iterations in 4.1698 sec\n",
      "Iteration  500, KL divergence 1.8723, 50 iterations in 4.1535 sec\n",
      "   --> Time elapsed: 42.40 seconds\n",
      "exut-sim-theta-10-real-seqdepths seed: 4 scaled: False\n",
      "PCA2\n",
      "PCA50\n",
      "UMAP\n",
      "UMAP(random_state=4, verbose=True)\n",
      "Tue Mar 26 12:52:19 2024 Construct fuzzy simplicial set\n",
      "Tue Mar 26 12:52:19 2024 Finding Nearest Neighbors\n",
      "Tue Mar 26 12:52:19 2024 Building RP forest with 9 trees\n"
     ]
    },
    {
     "name": "stderr",
     "output_type": "stream",
     "text": [
      "/home/jan/anaconda3/envs/elephant_analysis_env/lib/python3.11/site-packages/umap/umap_.py:1943: UserWarning: n_jobs value -1 overridden to 1 by setting random_state. Use no seed for parallelism.\n",
      "  warn(f\"n_jobs value {self.n_jobs} overridden to 1 by setting random_state. Use no seed for parallelism.\")\n"
     ]
    },
    {
     "name": "stdout",
     "output_type": "stream",
     "text": [
      "Tue Mar 26 12:52:19 2024 NN descent for 13 iterations\n",
      "\t 1  /  13\n",
      "\t 2  /  13\n",
      "\t 3  /  13\n",
      "\t 4  /  13\n",
      "\tStopping threshold met -- exiting after 4 iterations\n",
      "Tue Mar 26 12:52:19 2024 Finished Nearest Neighbor Search\n",
      "Tue Mar 26 12:52:19 2024 Construct embedding\n"
     ]
    },
    {
     "name": "stderr",
     "output_type": "stream",
     "text": [
      "Epochs completed:   3%| █▏                                        14/500 [00:00]"
     ]
    },
    {
     "name": "stdout",
     "output_type": "stream",
     "text": [
      "\tcompleted  0  /  500 epochs\n"
     ]
    },
    {
     "name": "stderr",
     "output_type": "stream",
     "text": [
      "Epochs completed:  14%| █████▋                                    69/500 [00:00]"
     ]
    },
    {
     "name": "stdout",
     "output_type": "stream",
     "text": [
      "\tcompleted  50  /  500 epochs\n"
     ]
    },
    {
     "name": "stderr",
     "output_type": "stream",
     "text": [
      "Epochs completed:  23%| █████████                                113/500 [00:01]"
     ]
    },
    {
     "name": "stdout",
     "output_type": "stream",
     "text": [
      "\tcompleted  100  /  500 epochs\n"
     ]
    },
    {
     "name": "stderr",
     "output_type": "stream",
     "text": [
      "Epochs completed:  34%| █████████████▍                           168/500 [00:01]"
     ]
    },
    {
     "name": "stdout",
     "output_type": "stream",
     "text": [
      "\tcompleted  150  /  500 epochs\n"
     ]
    },
    {
     "name": "stderr",
     "output_type": "stream",
     "text": [
      "Epochs completed:  42%| ████████████████▉                        212/500 [00:02]"
     ]
    },
    {
     "name": "stdout",
     "output_type": "stream",
     "text": [
      "\tcompleted  200  /  500 epochs\n"
     ]
    },
    {
     "name": "stderr",
     "output_type": "stream",
     "text": [
      "Epochs completed:  53%| █████████████████████▎                   267/500 [00:02]"
     ]
    },
    {
     "name": "stdout",
     "output_type": "stream",
     "text": [
      "\tcompleted  250  /  500 epochs\n"
     ]
    },
    {
     "name": "stderr",
     "output_type": "stream",
     "text": [
      "Epochs completed:  64%| █████████████████████████▊               322/500 [00:03]"
     ]
    },
    {
     "name": "stdout",
     "output_type": "stream",
     "text": [
      "\tcompleted  300  /  500 epochs\n"
     ]
    },
    {
     "name": "stderr",
     "output_type": "stream",
     "text": [
      "Epochs completed:  73%| █████████████████████████████▎           366/500 [00:03]"
     ]
    },
    {
     "name": "stdout",
     "output_type": "stream",
     "text": [
      "\tcompleted  350  /  500 epochs\n"
     ]
    },
    {
     "name": "stderr",
     "output_type": "stream",
     "text": [
      "Epochs completed:  83%| █████████████████████████████████▎       416/500 [00:04]"
     ]
    },
    {
     "name": "stdout",
     "output_type": "stream",
     "text": [
      "\tcompleted  400  /  500 epochs\n"
     ]
    },
    {
     "name": "stderr",
     "output_type": "stream",
     "text": [
      "Epochs completed:  93%| █████████████████████████████████████▎   466/500 [00:04]"
     ]
    },
    {
     "name": "stdout",
     "output_type": "stream",
     "text": [
      "\tcompleted  450  /  500 epochs\n"
     ]
    },
    {
     "name": "stderr",
     "output_type": "stream",
     "text": [
      "Epochs completed: 100%| ████████████████████████████████████████ 500/500 [00:05]\n"
     ]
    },
    {
     "name": "stdout",
     "output_type": "stream",
     "text": [
      "Tue Mar 26 12:52:24 2024 Finished embedding\n",
      "TSNE\n",
      "--------------------------------------------------------------------------------\n",
      "TSNE(early_exaggeration=12, random_state=4, verbose=True)\n",
      "--------------------------------------------------------------------------------\n",
      "===> Finding 90 nearest neighbors using Annoy approximate search using euclidean distance...\n",
      "   --> Time elapsed: 1.39 seconds\n",
      "===> Calculating affinity matrix...\n",
      "   --> Time elapsed: 0.08 seconds\n",
      "===> Calculating PCA-based initialization...\n",
      "   --> Time elapsed: 0.01 seconds\n",
      "===> Running optimization with exaggeration=12.00, lr=517.08 for 250 iterations...\n",
      "Iteration   50, KL divergence 3.2147, 50 iterations in 5.1572 sec\n",
      "Iteration  100, KL divergence 3.0188, 50 iterations in 4.7619 sec\n",
      "Iteration  150, KL divergence 2.9514, 50 iterations in 4.5787 sec\n",
      "Iteration  200, KL divergence 2.9198, 50 iterations in 4.5591 sec\n",
      "Iteration  250, KL divergence 2.9017, 50 iterations in 4.5978 sec\n",
      "   --> Time elapsed: 23.66 seconds\n",
      "===> Running optimization with exaggeration=1.00, lr=6205.00 for 500 iterations...\n",
      "Iteration   50, KL divergence 2.0891, 50 iterations in 4.3242 sec\n",
      "Iteration  100, KL divergence 1.9852, 50 iterations in 4.2635 sec\n",
      "Iteration  150, KL divergence 1.9458, 50 iterations in 4.2563 sec\n",
      "Iteration  200, KL divergence 1.9241, 50 iterations in 4.2472 sec\n",
      "Iteration  250, KL divergence 1.9098, 50 iterations in 4.2425 sec\n",
      "Iteration  300, KL divergence 1.8997, 50 iterations in 4.2436 sec\n",
      "Iteration  350, KL divergence 1.8923, 50 iterations in 4.3036 sec\n",
      "Iteration  400, KL divergence 1.8863, 50 iterations in 4.2852 sec\n",
      "Iteration  450, KL divergence 1.8815, 50 iterations in 4.2589 sec\n",
      "Iteration  500, KL divergence 1.8773, 50 iterations in 4.2424 sec\n",
      "   --> Time elapsed: 42.67 seconds\n"
     ]
    },
    {
     "data": {
      "text/plain": [
       "[None, None, None, None, None]"
      ]
     },
     "execution_count": 5,
     "metadata": {},
     "output_type": "execute_result"
    }
   ],
   "source": [
    "[compute_embeddings(ad=ad,seeds=np.arange(5)) for ad in datasets]"
   ]
  },
  {
   "cell_type": "markdown",
   "id": "9acd584a-1520-4a8d-ace2-f6f9536bbef3",
   "metadata": {},
   "source": [
    "### Package versions"
   ]
  },
  {
   "cell_type": "code",
   "execution_count": 6,
   "id": "219d702c-dd81-40da-81bf-dbf62bbaf1f0",
   "metadata": {
    "tags": []
   },
   "outputs": [
    {
     "data": {
      "text/plain": [
       "'1.24.3'"
      ]
     },
     "execution_count": 6,
     "metadata": {},
     "output_type": "execute_result"
    }
   ],
   "source": [
    "np.__version__"
   ]
  },
  {
   "cell_type": "code",
   "execution_count": 7,
   "id": "49c79276-0eca-4f74-87c0-fd40d09c24ed",
   "metadata": {
    "tags": []
   },
   "outputs": [
    {
     "data": {
      "text/plain": [
       "'0.10.3'"
      ]
     },
     "execution_count": 7,
     "metadata": {},
     "output_type": "execute_result"
    }
   ],
   "source": [
    "anndata.__version__"
   ]
  },
  {
   "cell_type": "code",
   "execution_count": 8,
   "id": "0f3632c4-64eb-4987-8774-9b46ca2d9176",
   "metadata": {
    "tags": []
   },
   "outputs": [
    {
     "data": {
      "text/plain": [
       "'1.3.0'"
      ]
     },
     "execution_count": 8,
     "metadata": {},
     "output_type": "execute_result"
    }
   ],
   "source": [
    "import sklearn; sklearn.__version__"
   ]
  },
  {
   "cell_type": "code",
   "execution_count": 9,
   "id": "6ac6198c-2bd5-4c18-b67b-1a2a16ec41cb",
   "metadata": {
    "tags": []
   },
   "outputs": [
    {
     "data": {
      "text/plain": [
       "'0.5.5'"
      ]
     },
     "execution_count": 9,
     "metadata": {},
     "output_type": "execute_result"
    }
   ],
   "source": [
    "import umap; umap.__version__"
   ]
  },
  {
   "cell_type": "code",
   "execution_count": 10,
   "id": "65aff982-3363-4eb4-85b7-9a23b55811e9",
   "metadata": {
    "tags": []
   },
   "outputs": [
    {
     "data": {
      "text/plain": [
       "'1.0.1'"
      ]
     },
     "execution_count": 10,
     "metadata": {},
     "output_type": "execute_result"
    }
   ],
   "source": [
    "import openTSNE; openTSNE.__version__"
   ]
  },
  {
   "cell_type": "code",
   "execution_count": null,
   "id": "c561d729-0d8f-4290-a58d-3ecb381fc56d",
   "metadata": {},
   "outputs": [],
   "source": []
  }
 ],
 "metadata": {
  "kernelspec": {
   "display_name": "Python 3 (ipykernel)",
   "language": "python",
   "name": "python3"
  },
  "language_info": {
   "codemirror_mode": {
    "name": "ipython",
    "version": 3
   },
   "file_extension": ".py",
   "mimetype": "text/x-python",
   "name": "python",
   "nbconvert_exporter": "python",
   "pygments_lexer": "ipython3",
   "version": "3.11.5"
  },
  "toc-autonumbering": true
 },
 "nbformat": 4,
 "nbformat_minor": 5
}
